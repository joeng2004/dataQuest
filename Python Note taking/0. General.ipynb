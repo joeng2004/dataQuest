{
 "cells": [
  {
   "cell_type": "markdown",
   "source": [
    "# 1. how to extract all item greater than 0"
   ],
   "metadata": {
    "collapsed": false
   },
   "id": "5492dbad25b0fe36"
  },
  {
   "cell_type": "code",
   "execution_count": null,
   "outputs": [],
   "source": [
    "[ i for i in list \n",
    "        if i > 0] "
   ],
   "metadata": {
    "collapsed": false
   },
   "id": "91be7ffec372fdd0"
  },
  {
   "cell_type": "code",
   "execution_count": null,
   "outputs": [],
   "source": [],
   "metadata": {
    "collapsed": false
   },
   "id": "45014370e27b9fe0"
  },
  {
   "cell_type": "markdown",
   "source": [
    "# 2. split "
   ],
   "metadata": {
    "collapsed": false
   },
   "id": "ccaadddb56a6139f"
  },
  {
   "cell_type": "code",
   "execution_count": 22,
   "outputs": [
    {
     "name": "stdout",
     "output_type": "stream",
     "text": [
      "1956 3 9\n"
     ]
    }
   ],
   "source": [
    "data_str = '1956-3-9'\n",
    "year,month,day = data_str.split('-')\n",
    "\n",
    "print(year,month,day)"
   ],
   "metadata": {
    "collapsed": false,
    "ExecuteTime": {
     "end_time": "2023-10-31T10:14:24.736714Z",
     "start_time": "2023-10-31T10:14:24.723530Z"
    }
   },
   "id": "56be784ba589cd78"
  },
  {
   "cell_type": "markdown",
   "source": [
    "# 3. List to Dict"
   ],
   "metadata": {
    "collapsed": false
   },
   "id": "64134f09fba3f823"
  },
  {
   "cell_type": "code",
   "execution_count": 25,
   "outputs": [
    {
     "name": "stdout",
     "output_type": "stream",
     "text": [
      "{'Mercury': 'M', 'Venus': 'V', 'Earth': 'E', 'Mars': 'M', 'Jupiter': 'J', 'Saturn': 'S', 'Uranus': 'U', 'Neptune': 'N'}\n"
     ]
    }
   ],
   "source": [
    "planets = ['Mercury', 'Venus', 'Earth', 'Mars', 'Jupiter', 'Saturn', 'Uranus', 'Neptune']\n",
    "\n",
    "planets_dict = {planet : planet[0] for planet in planets}\n",
    "print(planets_dict)"
   ],
   "metadata": {
    "collapsed": false,
    "ExecuteTime": {
     "end_time": "2023-10-31T10:24:03.589930Z",
     "start_time": "2023-10-31T10:24:03.580058Z"
    }
   },
   "id": "5e79f63456743f82"
  },
  {
   "cell_type": "markdown",
   "source": [],
   "metadata": {
    "collapsed": false
   },
   "id": "2afa82c66699e315"
  },
  {
   "cell_type": "code",
   "execution_count": 32,
   "outputs": [
    {
     "name": "stdout",
     "output_type": "stream",
     "text": [
      "   Mercury begins with \"M\"\n",
      "     Venus begins with \"V\"\n",
      "     Earth begins with \"E\"\n",
      "      Mars begins with \"M\"\n",
      "   Jupiter begins with \"J\"\n",
      "    Saturn begins with \"S\"\n",
      "    Uranus begins with \"U\"\n",
      "   Neptune begins with \"N\"\n"
     ]
    }
   ],
   "source": [
    "for key, value in planets_dict.items():\n",
    "        print(\"{} begins with \\\"{}\\\"\".format(key.rjust(10), value))\n",
    "\n",
    "#1. dict.items()\n",
    "#2. rjust()"
   ],
   "metadata": {
    "collapsed": false,
    "ExecuteTime": {
     "end_time": "2023-10-31T10:30:20.772749Z",
     "start_time": "2023-10-31T10:30:20.756982Z"
    }
   },
   "id": "335646f215c4007d"
  },
  {
   "cell_type": "code",
   "execution_count": null,
   "outputs": [],
   "source": [],
   "metadata": {
    "collapsed": false
   },
   "id": "d78eccdf195b61ee"
  },
  {
   "cell_type": "markdown",
   "source": [
    "# 4. Error Exceptions \n",
    "<pre>try: \n",
    "        action\n",
    "except:\n",
    "        throw exception handler \n",
    "else:\n",
    "        action if everything ok </pre>"
   ],
   "metadata": {
    "collapsed": false
   },
   "id": "ae76cc60003a5022"
  },
  {
   "cell_type": "code",
   "execution_count": 36,
   "outputs": [
    {
     "name": "stdout",
     "output_type": "stream",
     "text": [
      "-->False\n"
     ]
    }
   ],
   "source": [
    "zip_code = '444e44'\n",
    "try:\n",
    "        int(zip_code)\n",
    "except:\n",
    "        print('False')\n",
    "else: \n",
    "        print(len(zip_code) == 5)"
   ],
   "metadata": {
    "collapsed": false,
    "ExecuteTime": {
     "end_time": "2023-10-31T10:36:34.909976Z",
     "start_time": "2023-10-31T10:36:34.896469Z"
    }
   },
   "id": "d616e0411c6dd9ef"
  },
  {
   "cell_type": "code",
   "execution_count": null,
   "outputs": [],
   "source": [],
   "metadata": {
    "collapsed": false
   },
   "id": "d41b8ce357e6955a"
  },
  {
   "cell_type": "code",
   "execution_count": null,
   "outputs": [],
   "source": [],
   "metadata": {
    "collapsed": false
   },
   "id": "1cc511c380f399bd"
  },
  {
   "cell_type": "markdown",
   "source": [
    "# 6. Enumerate "
   ],
   "metadata": {
    "collapsed": false
   },
   "id": "5c6de3c459e67f5f"
  },
  {
   "cell_type": "code",
   "execution_count": 38,
   "outputs": [
    {
     "name": "stdout",
     "output_type": "stream",
     "text": [
      "1 apple\n",
      "2 banana\n",
      "3 cherry\n"
     ]
    }
   ],
   "source": [
    "fruits = ['apple', 'banana', 'cherry']\n",
    "for index, fruit in enumerate(fruits):\n",
    "        print(index +1, fruit)"
   ],
   "metadata": {
    "collapsed": false,
    "ExecuteTime": {
     "end_time": "2023-10-31T10:38:24.017074Z",
     "start_time": "2023-10-31T10:38:24.005072Z"
    }
   },
   "id": "16e2ef01c8018fa4"
  },
  {
   "cell_type": "code",
   "execution_count": null,
   "outputs": [],
   "source": [],
   "metadata": {
    "collapsed": false
   },
   "id": "58c9de2fba23257d"
  }
 ],
 "metadata": {
  "kernelspec": {
   "display_name": "Python 3",
   "language": "python",
   "name": "python3"
  },
  "language_info": {
   "codemirror_mode": {
    "name": "ipython",
    "version": 2
   },
   "file_extension": ".py",
   "mimetype": "text/x-python",
   "name": "python",
   "nbconvert_exporter": "python",
   "pygments_lexer": "ipython2",
   "version": "2.7.6"
  }
 },
 "nbformat": 4,
 "nbformat_minor": 5
}
