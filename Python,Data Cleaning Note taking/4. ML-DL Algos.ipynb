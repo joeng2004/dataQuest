{
 "cells": [
  {
   "cell_type": "markdown",
   "source": [
    "# Co-relational among columns"
   ],
   "metadata": {
    "collapsed": false
   },
   "id": "2312f494f23e1776"
  },
  {
   "cell_type": "code",
   "execution_count": null,
   "outputs": [],
   "source": [
    "df[['Col1','Col2','Col3','TargetCol(y)']].corr()\n",
    "\n",
    "# it will give you value from -1 < x < 1. 1 = Highly related (mostly the relation with itself, -1 = Negatively related. \n",
    "\n",
    "# We usually take the resulting column of \"target\". So that we know what the features are related to the Target (y)"
   ],
   "metadata": {
    "collapsed": false
   },
   "id": "cdba21c438f71fb7"
  },
  {
   "cell_type": "code",
   "execution_count": null,
   "outputs": [],
   "source": [],
   "metadata": {
    "collapsed": false
   },
   "id": "42f6961c60eeeb44"
  },
  {
   "cell_type": "code",
   "execution_count": null,
   "outputs": [],
   "source": [],
   "metadata": {
    "collapsed": false
   },
   "id": "32d5014cfc451c53"
  },
  {
   "cell_type": "markdown",
   "source": [
    "# 1. Linear Regression\n"
   ],
   "metadata": {
    "collapsed": false
   },
   "id": "daf7e6563afda41c"
  },
  {
   "cell_type": "code",
   "execution_count": null,
   "outputs": [],
   "source": [
    "from sklearn.linear_model import LinearRegression\n",
    "from sklearn.metrics import mean_squared_error\n",
    "\n",
    "lr = LinearRegression()\n",
    "lr.fit(train[['col1','col2','col3', ... ]], train['Target']) #Note we do the list of column in the 1st parameter\n",
    "\n",
    "#you can print the lr.coef_ and lr.intercept_ \n",
    "print(lr.coef_)\n",
    "print(lr.intercept_)\n",
    "\n",
    "train_predictions = lr.predict(train[['Gr Liv Area']])\n",
    "test_predictions = lr.predict(test[['Gr Liv Area']])\n",
    "\n",
    "train_mse = mean_squared_error(train_predictions, train['SalePrice'])\n",
    "test_mse = mean_squared_error(test_predictions,test['SalePrice'])\n",
    "\n",
    "train_rmse = np.sqrt(train_mse)\n",
    "test_rmse = np.sqrt(test_mse)\n"
   ],
   "metadata": {
    "collapsed": false
   },
   "id": "d985e2b316e7a07b"
  },
  {
   "cell_type": "code",
   "execution_count": null,
   "outputs": [],
   "source": [],
   "metadata": {
    "collapsed": false
   },
   "id": "747619b293eba62d"
  },
  {
   "cell_type": "markdown",
   "source": [
    "# Logitistic Regression"
   ],
   "metadata": {
    "collapsed": false
   },
   "id": "a8aaee2e5c67555c"
  },
  {
   "cell_type": "code",
   "execution_count": null,
   "outputs": [],
   "source": [
    "# 5. Training the Logistic Regression\n",
    "from sklearn.linear_model import LogisticRegression\n",
    "logistic_model = LogisticRegression()\n",
    "logistic_model.fit(admissions[[\"gpa\"]], admissions[\"admit\"])\n",
    "\n",
    "# Prediction to Probability Density Function by scatter plot\n",
    "pred_probs = logistic_model.predict_proba(admissions[[\"gpa\"]]) #Note: predict_proba\n",
    "plt.scatter(admissions[\"gpa\"], pred_probs[:,1])\n",
    "\n",
    "plt.show()\n",
    "\n",
    "# Prediction to Logic (e.g. 1/0) \n",
    "logistic_model = LogisticRegression()\n",
    "logistic_model.fit(admissions[[\"gpa\"]], admissions[\"admit\"])\n",
    "fitted_labels = logistic_model.predict(admissions [[\"gpa\"]]) #prediction to logic\n",
    "plt.scatter(admissions[\"gpa\"], fitted_labels)\n"
   ],
   "metadata": {
    "collapsed": false
   },
   "id": "4f300363d54e186a"
  },
  {
   "cell_type": "markdown",
   "source": [
    "### Why we can't use Linear Regression for Logistic problem:\n",
    "\n",
    "<img src='images/2.jpg' width=1800>\n",
    "\n"
   ],
   "metadata": {
    "collapsed": false
   },
   "id": "27c5710a64b15642"
  },
  {
   "cell_type": "markdown",
   "source": [
    "$$\\sigma(x) = \\frac{1}{1+e^{-x}}$$\n",
    "\n",
    "<img src='images/3.jpg' width=1500>\n"
   ],
   "metadata": {
    "collapsed": false
   },
   "id": "405aa9f2ee37cad8"
  },
  {
   "cell_type": "markdown",
   "source": [
    "## Confusion Matrix \n",
    "\n",
    "<img src='images/5.jpg' width=75%>\n"
   ],
   "metadata": {
    "collapsed": false
   },
   "id": "4d40ecb7140f6ba1"
  },
  {
   "cell_type": "code",
   "execution_count": null,
   "outputs": [],
   "source": [],
   "metadata": {
    "collapsed": false
   },
   "id": "22280ae5a0de9003"
  }
 ],
 "metadata": {
  "kernelspec": {
   "display_name": "Python 3",
   "language": "python",
   "name": "python3"
  },
  "language_info": {
   "codemirror_mode": {
    "name": "ipython",
    "version": 2
   },
   "file_extension": ".py",
   "mimetype": "text/x-python",
   "name": "python",
   "nbconvert_exporter": "python",
   "pygments_lexer": "ipython2",
   "version": "2.7.6"
  }
 },
 "nbformat": 4,
 "nbformat_minor": 5
}
