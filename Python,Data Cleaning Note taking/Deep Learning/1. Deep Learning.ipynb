{
 "cells": [
  {
   "cell_type": "markdown",
   "source": [
    "# 1. Softmax \n",
    "<img src='images/1.jpg' width=2000>"
   ],
   "metadata": {
    "collapsed": false
   },
   "id": "a1a4f321b6357023"
  },
  {
   "cell_type": "code",
   "execution_count": null,
   "outputs": [],
   "source": [
    "def softmax(x):\n",
    "    # Apply exp() element-wise to x. Use np.exp(...).\n",
    "    x_exp = np.exp(x)\n",
    "\n",
    "    # Create a vector x_sum that sums each row of x_exp. Use np.sum(..., axis = 1, keepdims = True).\n",
    "    x_sum = np.sum(x_exp, axis = 1, keepdims= True)\n",
    "    \n",
    "    # Compute softmax(x) by dividing x_exp by x_sum. It should automatically use numpy broadcasting.\n",
    "    s = x_exp/x_sum\n",
    "\n",
    "    return "
   ],
   "metadata": {
    "collapsed": false
   },
   "id": "9ba64325da828759"
  },
  {
   "cell_type": "code",
   "execution_count": null,
   "outputs": [],
   "source": [],
   "metadata": {
    "collapsed": false
   },
   "id": "81120dc2455f8e12"
  },
  {
   "cell_type": "markdown",
   "source": [
    "# 2. Loss funciton of Logistic Regression \n",
    "\n",
    "<img src='images/2.jpg' width=75%>\n"
   ],
   "metadata": {
    "collapsed": false
   },
   "id": "a22249cf9f69fdbf"
  },
  {
   "cell_type": "markdown",
   "source": [
    "## Cost function:\n",
    "\n",
    "<img src='images/3.jpg' width=75%>\n"
   ],
   "metadata": {
    "collapsed": false
   },
   "id": "f18c517221d6bef4"
  },
  {
   "cell_type": "markdown",
   "source": [
    "## The goal is to learn $w$ and $b$ by minimizing the cost function $J$. For a parameter $\\theta$, the update rule is $ \\theta = \\theta - \\alpha \\text{ } d\\theta$, where $\\alpha$ is the learning rate."
   ],
   "metadata": {
    "collapsed": false
   },
   "id": "d7aa2757c258906e"
  },
  {
   "cell_type": "code",
   "execution_count": null,
   "outputs": [],
   "source": [],
   "metadata": {
    "collapsed": false
   },
   "id": "2d7443851f7b2534"
  }
 ],
 "metadata": {
  "kernelspec": {
   "display_name": "Python 3",
   "language": "python",
   "name": "python3"
  },
  "language_info": {
   "codemirror_mode": {
    "name": "ipython",
    "version": 2
   },
   "file_extension": ".py",
   "mimetype": "text/x-python",
   "name": "python",
   "nbconvert_exporter": "python",
   "pygments_lexer": "ipython2",
   "version": "2.7.6"
  }
 },
 "nbformat": 4,
 "nbformat_minor": 5
}
