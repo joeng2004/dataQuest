{
 "cells": [
  {
   "cell_type": "code",
   "execution_count": null,
   "outputs": [],
   "source": [
    "#Try to compete on https://www.kaggle.com/c/home-data-for-ml-course\n",
    "\n",
    "# Nov 3: 17877 score\n",
    "# Nov 4: 14804 score (rank: 2512)\n",
    "# Nov 5: 14749 score (rank: 1960)"
   ],
   "metadata": {
    "collapsed": false
   },
   "id": "6373e2ce43238241"
  },
  {
   "cell_type": "code",
   "execution_count": 3,
   "id": "initial_id",
   "metadata": {
    "collapsed": true,
    "ExecuteTime": {
     "end_time": "2023-11-05T10:13:01.893804Z",
     "start_time": "2023-11-05T10:12:55.820715Z"
    }
   },
   "outputs": [],
   "source": [
    "import pandas as pd\n",
    "import numpy as np\n",
    "from sklearn.pipeline import Pipeline\n",
    "from sklearn.compose import ColumnTransformer\n",
    "from sklearn.preprocessing import StandardScaler, OneHotEncoder\n",
    "from sklearn.impute import SimpleImputer\n",
    "from sklearn.model_selection import cross_val_score, train_test_split\n",
    "from sklearn.linear_model import LinearRegression\n",
    "from sklearn.metrics import make_scorer,mean_absolute_error, mean_squared_error,r2_score\n",
    "\n",
    "from sklearn.model_selection import cross_validate\n",
    "from sklearn.model_selection import StratifiedKFold\n",
    "\n",
    "import warnings\n",
    "warnings.simplefilter(action='ignore', category=FutureWarning)"
   ]
  },
  {
   "cell_type": "code",
   "execution_count": 4,
   "outputs": [],
   "source": [
    "# Load the dataset into a pandas DataFrame\n",
    "data = pd.read_csv('train.csv')\n",
    "test_data = pd.read_csv('test.csv')\n",
    "\n",
    "# Separate the features (X) and target variable (y)\n",
    "X = data.drop('SalePrice', axis=1)\n",
    "y = data['SalePrice']\n",
    "\n",
    "# X_test = test_data.copy()\n",
    "\n",
    "# \"Cardinality\" means the number of unique values in a column\n",
    "# Select categorical columns with relatively low cardinality (convenient but arbitrary)\n",
    "categorical_cols = [cname for cname in X.columns if\n",
    "                    X[cname].nunique() < 10 and\n",
    "                    X[cname].dtype == \"object\"]\n",
    "\n",
    "# # Select numerical columns\n",
    "numerical_cols = [cname for cname in X.columns if\n",
    "                  X[cname].dtype in ['int64', 'float64']]\n",
    "\n",
    "# categorical_cols = ['MSZoning','Street']\n",
    "# Keep selected columns only\n",
    "my_cols = categorical_cols + numerical_cols\n",
    "\n",
    "X = X[my_cols]\n"
   ],
   "metadata": {
    "collapsed": false,
    "ExecuteTime": {
     "end_time": "2023-11-05T10:13:01.957671Z",
     "start_time": "2023-11-05T10:13:01.896613Z"
    }
   },
   "id": "50cc0532003f8677"
  },
  {
   "cell_type": "code",
   "execution_count": 5,
   "outputs": [],
   "source": [
    "# Preprocessing for numerical data\n",
    "numerical_transformer = SimpleImputer(strategy='median')\n",
    "\n",
    "# Preprocessing for categorical data\n",
    "categorical_transformer = Pipeline(steps=[\n",
    "    ('imputer', SimpleImputer(strategy='most_frequent')),\n",
    "    ('onehot', OneHotEncoder(handle_unknown='ignore'))\n",
    "])\n",
    "\n",
    "# Combine the preprocessing steps using ColumnTransformer\n",
    "preprocessor = ColumnTransformer(\n",
    "    transformers=[\n",
    "        ('num', numerical_transformer, numerical_cols),\n",
    "        ('cat', categorical_transformer, categorical_cols)\n",
    "    ])"
   ],
   "metadata": {
    "collapsed": false,
    "ExecuteTime": {
     "end_time": "2023-11-05T10:13:03.762497Z",
     "start_time": "2023-11-05T10:13:03.754617Z"
    }
   },
   "id": "a518ee93b371bbdb"
  },
  {
   "cell_type": "code",
   "execution_count": 6,
   "outputs": [],
   "source": [
    "# Define a custom scoring function using mean_absolute_error\n",
    "mae_scorer = make_scorer(mean_absolute_error)"
   ],
   "metadata": {
    "collapsed": false,
    "ExecuteTime": {
     "end_time": "2023-11-05T10:13:07.628463Z",
     "start_time": "2023-11-05T10:13:07.621487Z"
    }
   },
   "id": "6ea94ec3721c56e7"
  },
  {
   "cell_type": "code",
   "execution_count": 7,
   "outputs": [],
   "source": [
    "def cross_validation(pipeline):\n",
    "    # Use cross_validate to perform cross-validation and obtain the evaluation scores\n",
    "    cv_results = cross_validate(pipeline, X, y, scoring=mae_scorer, cv=StratifiedKFold(n_splits=5))\n",
    "    \n",
    "    # Print the mean and standard deviation of the cross-validation scores\n",
    "    print(f\"Mean MAE: {np.mean(cv_results['test_score'])}\")\n",
    "    print(f\"Standard Deviation of MAE: {np.std(cv_results['test_score'])}\")"
   ],
   "metadata": {
    "collapsed": false,
    "ExecuteTime": {
     "end_time": "2023-11-05T10:13:08.082726Z",
     "start_time": "2023-11-05T10:13:08.076807Z"
    }
   },
   "id": "7321e53bc3bb02c3"
  },
  {
   "cell_type": "code",
   "execution_count": null,
   "outputs": [],
   "source": [],
   "metadata": {
    "collapsed": false
   },
   "id": "9ecce7aacc2f09df"
  },
  {
   "cell_type": "code",
   "execution_count": null,
   "outputs": [],
   "source": [],
   "metadata": {
    "collapsed": false
   },
   "id": "a551717d2f7b0d35"
  },
  {
   "cell_type": "code",
   "execution_count": 31,
   "outputs": [
    {
     "name": "stderr",
     "output_type": "stream",
     "text": [
      "/Users/joeng/opt/anaconda3/envs/transformers_env/lib/python3.8/site-packages/sklearn/model_selection/_split.py:665: UserWarning: The least populated class in y has only 1 members, which is less than n_splits=5.\n",
      "  warnings.warn((\"The least populated class in y has only %d\"\n"
     ]
    },
    {
     "name": "stdout",
     "output_type": "stream",
     "text": [
      "Mean MAE: 17396.10108767123\n",
      "Standard Deviation of MAE: 834.7824502643747\n"
     ]
    }
   ],
   "source": [
    "# Algo 1: Random Forest \n",
    "\n",
    "from sklearn.ensemble import RandomForestRegressor\n",
    "\n",
    "# Define the regression model\n",
    "model1 = RandomForestRegressor(n_estimators=500, random_state=0)\n",
    "\n",
    "# Create the pipeline by combining the preprocessing and modeling steps\n",
    "pipeline_RFR = Pipeline(steps=[\n",
    "    ('preprocessor', preprocessor),\n",
    "    ('model', model1)\n",
    "])\n",
    "\n",
    "cross_validation(pipeline_RFR)\n"
   ],
   "metadata": {
    "collapsed": false,
    "ExecuteTime": {
     "end_time": "2023-11-05T09:08:46.897988Z",
     "start_time": "2023-11-05T09:08:07.944810Z"
    }
   },
   "id": "3327ee384262a610"
  },
  {
   "cell_type": "code",
   "execution_count": 54,
   "outputs": [],
   "source": [
    "pipeline_RFR.fit(X,y)\n",
    "preds1 = pipeline_RFR.predict(test_data)"
   ],
   "metadata": {
    "collapsed": false,
    "ExecuteTime": {
     "end_time": "2023-11-05T09:28:09.160443Z",
     "start_time": "2023-11-05T09:27:59.053382Z"
    }
   },
   "id": "75cbca3b21e39fca"
  },
  {
   "cell_type": "code",
   "execution_count": null,
   "outputs": [],
   "source": [],
   "metadata": {
    "collapsed": false
   },
   "id": "281e0134eba82722"
  },
  {
   "cell_type": "code",
   "execution_count": 9,
   "outputs": [
    {
     "name": "stderr",
     "output_type": "stream",
     "text": [
      "/Users/joeng/opt/anaconda3/envs/transformers_env/lib/python3.8/site-packages/sklearn/model_selection/_split.py:737: UserWarning: The least populated class in y has only 1 members, which is less than n_splits=5.\n",
      "  warnings.warn(\n"
     ]
    },
    {
     "name": "stdout",
     "output_type": "stream",
     "text": [
      "Mean MAE: 15754.382848537376\n",
      "Standard Deviation of MAE: 843.341079855781\n"
     ]
    }
   ],
   "source": [
    "# Algo 2: XGBRegressor\n",
    "from sklearn.ensemble import GradientBoostingRegressor\n",
    "model2= GradientBoostingRegressor(n_estimators=500, random_state=0)\n",
    "my_pipeline_gbm = Pipeline(steps=[('preprocessor', preprocessor),\n",
    "                               ('gbm', model2)\n",
    "                               ])\n",
    "\n",
    "cross_validation(my_pipeline_gbm)\n"
   ],
   "metadata": {
    "collapsed": false,
    "ExecuteTime": {
     "end_time": "2023-11-05T10:14:50.290420Z",
     "start_time": "2023-11-05T10:14:34.705227Z"
    }
   },
   "id": "83d5325a52969840"
  },
  {
   "cell_type": "code",
   "execution_count": 10,
   "outputs": [],
   "source": [
    "my_pipeline_gbm.fit(X,y)\n",
    "preds2 =my_pipeline_gbm.predict(test_data)\n"
   ],
   "metadata": {
    "collapsed": false,
    "ExecuteTime": {
     "end_time": "2023-11-05T10:15:19.209843Z",
     "start_time": "2023-11-05T10:15:15.241382Z"
    }
   },
   "id": "198f0f6d2c55dc40"
  },
  {
   "cell_type": "code",
   "execution_count": null,
   "outputs": [],
   "source": [],
   "metadata": {
    "collapsed": false
   },
   "id": "748606474d28bb08"
  },
  {
   "cell_type": "code",
   "execution_count": 2,
   "outputs": [],
   "source": [
    "# Algo 3: XGboost\n",
    "\n",
    "from xgboost import XGBRegressor"
   ],
   "metadata": {
    "collapsed": false,
    "ExecuteTime": {
     "end_time": "2023-11-05T10:12:55.817564Z",
     "start_time": "2023-11-05T10:12:45.688366Z"
    }
   },
   "id": "ac158370f6855a05"
  },
  {
   "cell_type": "code",
   "execution_count": 8,
   "outputs": [
    {
     "name": "stderr",
     "output_type": "stream",
     "text": [
      "/Users/joeng/opt/anaconda3/envs/transformers_env/lib/python3.8/site-packages/sklearn/model_selection/_split.py:737: UserWarning: The least populated class in y has only 1 members, which is less than n_splits=5.\n",
      "  warnings.warn(\n"
     ]
    },
    {
     "name": "stdout",
     "output_type": "stream",
     "text": [
      "Mean MAE: 16719.483085402397\n",
      "Standard Deviation of MAE: 1168.5578799968175\n"
     ]
    }
   ],
   "source": [
    "# Define model\n",
    "model3 = XGBRegressor(n_estimators=1000, learning_rate=0.03, random_state=0)\n",
    "\n",
    "my_pipeline_xgb = Pipeline(steps=[('preprocessor', preprocessor),\n",
    "                                  ('xgb', model3)\n",
    "                                  ])\n",
    "\n",
    "cross_validation(my_pipeline_xgb)\n"
   ],
   "metadata": {
    "collapsed": false,
    "ExecuteTime": {
     "end_time": "2023-11-05T10:13:48.055777Z",
     "start_time": "2023-11-05T10:13:26.362038Z"
    }
   },
   "id": "17bbafdd27d7705"
  },
  {
   "cell_type": "markdown",
   "source": [
    "********************** Output submission file ********************"
   ],
   "metadata": {
    "collapsed": false
   },
   "id": "b2f04f6f8c9cdba4"
  },
  {
   "cell_type": "code",
   "execution_count": 65,
   "outputs": [],
   "source": [
    "preds_final = (preds1 + preds2) / 2\n",
    "\n",
    "# Save test predictions to file\n",
    "output = pd.DataFrame({'Id': test_data.Id,\n",
    "                       'SalePrice': preds_final})\n",
    "output.to_csv('submission_11-5.csv',index=False)"
   ],
   "metadata": {
    "collapsed": false,
    "ExecuteTime": {
     "end_time": "2023-11-05T09:31:36.381066Z",
     "start_time": "2023-11-05T09:31:36.344688Z"
    }
   },
   "id": "f34e6b4ecd79bdba"
  },
  {
   "cell_type": "code",
   "execution_count": null,
   "outputs": [],
   "source": [],
   "metadata": {
    "collapsed": false
   },
   "id": "38462f0d05b23341"
  },
  {
   "cell_type": "code",
   "execution_count": 11,
   "outputs": [],
   "source": [
    "\n",
    "# Save test predictions to file\n",
    "output = pd.DataFrame({'Id': test_data.Id,\n",
    "                       'SalePrice': preds2})\n",
    "output.to_csv('submission_11-5_gb.csv',index=False)"
   ],
   "metadata": {
    "collapsed": false,
    "ExecuteTime": {
     "end_time": "2023-11-05T10:16:07.584626Z",
     "start_time": "2023-11-05T10:16:07.557251Z"
    }
   },
   "id": "6291a60fc4d1f177"
  },
  {
   "cell_type": "code",
   "execution_count": null,
   "outputs": [],
   "source": [],
   "metadata": {
    "collapsed": false
   },
   "id": "43b3d822023cf344"
  }
 ],
 "metadata": {
  "kernelspec": {
   "display_name": "Python 3",
   "language": "python",
   "name": "python3"
  },
  "language_info": {
   "codemirror_mode": {
    "name": "ipython",
    "version": 2
   },
   "file_extension": ".py",
   "mimetype": "text/x-python",
   "name": "python",
   "nbconvert_exporter": "python",
   "pygments_lexer": "ipython2",
   "version": "2.7.6"
  }
 },
 "nbformat": 4,
 "nbformat_minor": 5
}
