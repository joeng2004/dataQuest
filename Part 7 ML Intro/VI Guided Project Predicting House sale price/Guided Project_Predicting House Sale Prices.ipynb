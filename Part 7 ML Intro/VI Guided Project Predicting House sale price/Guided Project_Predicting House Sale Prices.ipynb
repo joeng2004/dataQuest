{
 "cells": [
  {
   "cell_type": "markdown",
   "metadata": {},
   "source": [
    "# 1. Introduction"
   ]
  },
  {
   "cell_type": "markdown",
   "metadata": {},
   "source": [
    "In this course, we started by building intuition for model based learning, explored how the linear regression model worked, understood how the two different approaches to model fitting worked, and some techniques for cleaning, transforming, and selecting features. In this guided project, you can practice what you learned in this course by exploring ways to improve the models we built."
   ]
  },
  {
   "cell_type": "markdown",
   "metadata": {},
   "source": [
    "You'll work with housing data for the city of Ames, Iowa, United States from 2006 to 2010. You can read more about why the data was collected [here](https://doi.org/10.1080/10691898.2011.11889627). You can also read about the different columns in the data [here](https://s3.amazonaws.com/dq-content/307/data_description.txt)."
   ]
  },
  {
   "cell_type": "markdown",
   "metadata": {},
   "source": [
    "`Let's start by setting up a pipeline of functions that will let us quickly iterate on different models.`"
   ]
  },
  {
   "cell_type": "code",
   "execution_count": 112,
   "metadata": {
    "ExecuteTime": {
     "end_time": "2023-11-03T02:40:40.406525Z",
     "start_time": "2023-11-03T02:40:40.212213Z"
    }
   },
   "outputs": [],
   "source": [
    "# from IPython.display import SVG\n",
    "# SVG(filename='pipeline.svg')"
   ]
  },
  {
   "cell_type": "code",
   "execution_count": 113,
   "metadata": {
    "ExecuteTime": {
     "end_time": "2023-11-03T02:40:40.755195Z",
     "start_time": "2023-11-03T02:40:40.225411Z"
    }
   },
   "outputs": [],
   "source": [
    "import pandas as pd\n",
    "pd.options.display.max_columns = 999\n",
    "import numpy as np\n",
    "import matplotlib.pyplot as plt\n",
    "from sklearn.model_selection import KFold\n",
    "\n",
    "from sklearn.metrics import mean_squared_error\n",
    "from sklearn import linear_model\n",
    "from sklearn.model_selection import KFold"
   ]
  },
  {
   "cell_type": "code",
   "execution_count": 152,
   "metadata": {
    "ExecuteTime": {
     "end_time": "2023-11-03T03:18:26.445462Z",
     "start_time": "2023-11-03T03:18:26.320020Z"
    }
   },
   "outputs": [
    {
     "data": {
      "text/plain": "   Order        PID  MS SubClass MS Zoning  Lot Frontage  Lot Area Street   \n0      1  526301100           20        RL         141.0     31770   Pave  \\\n1      2  526350040           20        RH          80.0     11622   Pave   \n2      3  526351010           20        RL          81.0     14267   Pave   \n3      4  526353030           20        RL          93.0     11160   Pave   \n4      5  527105010           60        RL          74.0     13830   Pave   \n\n  Alley Lot Shape Land Contour Utilities Lot Config Land Slope Neighborhood   \n0   NaN       IR1          Lvl    AllPub     Corner        Gtl        NAmes  \\\n1   NaN       Reg          Lvl    AllPub     Inside        Gtl        NAmes   \n2   NaN       IR1          Lvl    AllPub     Corner        Gtl        NAmes   \n3   NaN       Reg          Lvl    AllPub     Corner        Gtl        NAmes   \n4   NaN       IR1          Lvl    AllPub     Inside        Gtl      Gilbert   \n\n  Condition 1 Condition 2 Bldg Type House Style  Overall Qual  Overall Cond   \n0        Norm        Norm      1Fam      1Story             6             5  \\\n1       Feedr        Norm      1Fam      1Story             5             6   \n2        Norm        Norm      1Fam      1Story             6             6   \n3        Norm        Norm      1Fam      1Story             7             5   \n4        Norm        Norm      1Fam      2Story             5             5   \n\n   Year Built  Year Remod/Add Roof Style Roof Matl Exterior 1st Exterior 2nd   \n0        1960            1960        Hip   CompShg      BrkFace      Plywood  \\\n1        1961            1961      Gable   CompShg      VinylSd      VinylSd   \n2        1958            1958        Hip   CompShg      Wd Sdng      Wd Sdng   \n3        1968            1968        Hip   CompShg      BrkFace      BrkFace   \n4        1997            1998      Gable   CompShg      VinylSd      VinylSd   \n\n  Mas Vnr Type  Mas Vnr Area Exter Qual Exter Cond Foundation Bsmt Qual   \n0        Stone         112.0         TA         TA     CBlock        TA  \\\n1          NaN           0.0         TA         TA     CBlock        TA   \n2      BrkFace         108.0         TA         TA     CBlock        TA   \n3          NaN           0.0         Gd         TA     CBlock        TA   \n4          NaN           0.0         TA         TA      PConc        Gd   \n\n  Bsmt Cond Bsmt Exposure BsmtFin Type 1  BsmtFin SF 1 BsmtFin Type 2   \n0        Gd            Gd            BLQ         639.0            Unf  \\\n1        TA            No            Rec         468.0            LwQ   \n2        TA            No            ALQ         923.0            Unf   \n3        TA            No            ALQ        1065.0            Unf   \n4        TA            No            GLQ         791.0            Unf   \n\n   BsmtFin SF 2  Bsmt Unf SF  Total Bsmt SF Heating Heating QC Central Air   \n0           0.0        441.0         1080.0    GasA         Fa           Y  \\\n1         144.0        270.0          882.0    GasA         TA           Y   \n2           0.0        406.0         1329.0    GasA         TA           Y   \n3           0.0       1045.0         2110.0    GasA         Ex           Y   \n4           0.0        137.0          928.0    GasA         Gd           Y   \n\n  Electrical  1st Flr SF  2nd Flr SF  Low Qual Fin SF  Gr Liv Area   \n0      SBrkr        1656           0                0         1656  \\\n1      SBrkr         896           0                0          896   \n2      SBrkr        1329           0                0         1329   \n3      SBrkr        2110           0                0         2110   \n4      SBrkr         928         701                0         1629   \n\n   Bsmt Full Bath  Bsmt Half Bath  Full Bath  Half Bath  Bedroom AbvGr   \n0             1.0             0.0          1          0              3  \\\n1             0.0             0.0          1          0              2   \n2             0.0             0.0          1          1              3   \n3             1.0             0.0          2          1              3   \n4             0.0             0.0          2          1              3   \n\n   Kitchen AbvGr Kitchen Qual  TotRms AbvGrd Functional  Fireplaces   \n0              1           TA              7        Typ           2  \\\n1              1           TA              5        Typ           0   \n2              1           Gd              6        Typ           0   \n3              1           Ex              8        Typ           2   \n4              1           TA              6        Typ           1   \n\n  Fireplace Qu Garage Type  Garage Yr Blt Garage Finish  Garage Cars   \n0           Gd      Attchd         1960.0           Fin          2.0  \\\n1          NaN      Attchd         1961.0           Unf          1.0   \n2          NaN      Attchd         1958.0           Unf          1.0   \n3           TA      Attchd         1968.0           Fin          2.0   \n4           TA      Attchd         1997.0           Fin          2.0   \n\n   Garage Area Garage Qual Garage Cond Paved Drive  Wood Deck SF   \n0        528.0          TA          TA           P           210  \\\n1        730.0          TA          TA           Y           140   \n2        312.0          TA          TA           Y           393   \n3        522.0          TA          TA           Y             0   \n4        482.0          TA          TA           Y           212   \n\n   Open Porch SF  Enclosed Porch  3Ssn Porch  Screen Porch  Pool Area Pool QC   \n0             62               0           0             0          0     NaN  \\\n1              0               0           0           120          0     NaN   \n2             36               0           0             0          0     NaN   \n3              0               0           0             0          0     NaN   \n4             34               0           0             0          0     NaN   \n\n   Fence Misc Feature  Misc Val  Mo Sold  Yr Sold Sale Type Sale Condition   \n0    NaN          NaN         0        5     2010       WD          Normal  \\\n1  MnPrv          NaN         0        6     2010       WD          Normal   \n2    NaN         Gar2     12500        6     2010       WD          Normal   \n3    NaN          NaN         0        4     2010       WD          Normal   \n4  MnPrv          NaN         0        3     2010       WD          Normal   \n\n   SalePrice  \n0     215000  \n1     105000  \n2     172000  \n3     244000  \n4     189900  ",
      "text/html": "<div>\n<style scoped>\n    .dataframe tbody tr th:only-of-type {\n        vertical-align: middle;\n    }\n\n    .dataframe tbody tr th {\n        vertical-align: top;\n    }\n\n    .dataframe thead th {\n        text-align: right;\n    }\n</style>\n<table border=\"1\" class=\"dataframe\">\n  <thead>\n    <tr style=\"text-align: right;\">\n      <th></th>\n      <th>Order</th>\n      <th>PID</th>\n      <th>MS SubClass</th>\n      <th>MS Zoning</th>\n      <th>Lot Frontage</th>\n      <th>Lot Area</th>\n      <th>Street</th>\n      <th>Alley</th>\n      <th>Lot Shape</th>\n      <th>Land Contour</th>\n      <th>Utilities</th>\n      <th>Lot Config</th>\n      <th>Land Slope</th>\n      <th>Neighborhood</th>\n      <th>Condition 1</th>\n      <th>Condition 2</th>\n      <th>Bldg Type</th>\n      <th>House Style</th>\n      <th>Overall Qual</th>\n      <th>Overall Cond</th>\n      <th>Year Built</th>\n      <th>Year Remod/Add</th>\n      <th>Roof Style</th>\n      <th>Roof Matl</th>\n      <th>Exterior 1st</th>\n      <th>Exterior 2nd</th>\n      <th>Mas Vnr Type</th>\n      <th>Mas Vnr Area</th>\n      <th>Exter Qual</th>\n      <th>Exter Cond</th>\n      <th>Foundation</th>\n      <th>Bsmt Qual</th>\n      <th>Bsmt Cond</th>\n      <th>Bsmt Exposure</th>\n      <th>BsmtFin Type 1</th>\n      <th>BsmtFin SF 1</th>\n      <th>BsmtFin Type 2</th>\n      <th>BsmtFin SF 2</th>\n      <th>Bsmt Unf SF</th>\n      <th>Total Bsmt SF</th>\n      <th>Heating</th>\n      <th>Heating QC</th>\n      <th>Central Air</th>\n      <th>Electrical</th>\n      <th>1st Flr SF</th>\n      <th>2nd Flr SF</th>\n      <th>Low Qual Fin SF</th>\n      <th>Gr Liv Area</th>\n      <th>Bsmt Full Bath</th>\n      <th>Bsmt Half Bath</th>\n      <th>Full Bath</th>\n      <th>Half Bath</th>\n      <th>Bedroom AbvGr</th>\n      <th>Kitchen AbvGr</th>\n      <th>Kitchen Qual</th>\n      <th>TotRms AbvGrd</th>\n      <th>Functional</th>\n      <th>Fireplaces</th>\n      <th>Fireplace Qu</th>\n      <th>Garage Type</th>\n      <th>Garage Yr Blt</th>\n      <th>Garage Finish</th>\n      <th>Garage Cars</th>\n      <th>Garage Area</th>\n      <th>Garage Qual</th>\n      <th>Garage Cond</th>\n      <th>Paved Drive</th>\n      <th>Wood Deck SF</th>\n      <th>Open Porch SF</th>\n      <th>Enclosed Porch</th>\n      <th>3Ssn Porch</th>\n      <th>Screen Porch</th>\n      <th>Pool Area</th>\n      <th>Pool QC</th>\n      <th>Fence</th>\n      <th>Misc Feature</th>\n      <th>Misc Val</th>\n      <th>Mo Sold</th>\n      <th>Yr Sold</th>\n      <th>Sale Type</th>\n      <th>Sale Condition</th>\n      <th>SalePrice</th>\n    </tr>\n  </thead>\n  <tbody>\n    <tr>\n      <th>0</th>\n      <td>1</td>\n      <td>526301100</td>\n      <td>20</td>\n      <td>RL</td>\n      <td>141.0</td>\n      <td>31770</td>\n      <td>Pave</td>\n      <td>NaN</td>\n      <td>IR1</td>\n      <td>Lvl</td>\n      <td>AllPub</td>\n      <td>Corner</td>\n      <td>Gtl</td>\n      <td>NAmes</td>\n      <td>Norm</td>\n      <td>Norm</td>\n      <td>1Fam</td>\n      <td>1Story</td>\n      <td>6</td>\n      <td>5</td>\n      <td>1960</td>\n      <td>1960</td>\n      <td>Hip</td>\n      <td>CompShg</td>\n      <td>BrkFace</td>\n      <td>Plywood</td>\n      <td>Stone</td>\n      <td>112.0</td>\n      <td>TA</td>\n      <td>TA</td>\n      <td>CBlock</td>\n      <td>TA</td>\n      <td>Gd</td>\n      <td>Gd</td>\n      <td>BLQ</td>\n      <td>639.0</td>\n      <td>Unf</td>\n      <td>0.0</td>\n      <td>441.0</td>\n      <td>1080.0</td>\n      <td>GasA</td>\n      <td>Fa</td>\n      <td>Y</td>\n      <td>SBrkr</td>\n      <td>1656</td>\n      <td>0</td>\n      <td>0</td>\n      <td>1656</td>\n      <td>1.0</td>\n      <td>0.0</td>\n      <td>1</td>\n      <td>0</td>\n      <td>3</td>\n      <td>1</td>\n      <td>TA</td>\n      <td>7</td>\n      <td>Typ</td>\n      <td>2</td>\n      <td>Gd</td>\n      <td>Attchd</td>\n      <td>1960.0</td>\n      <td>Fin</td>\n      <td>2.0</td>\n      <td>528.0</td>\n      <td>TA</td>\n      <td>TA</td>\n      <td>P</td>\n      <td>210</td>\n      <td>62</td>\n      <td>0</td>\n      <td>0</td>\n      <td>0</td>\n      <td>0</td>\n      <td>NaN</td>\n      <td>NaN</td>\n      <td>NaN</td>\n      <td>0</td>\n      <td>5</td>\n      <td>2010</td>\n      <td>WD</td>\n      <td>Normal</td>\n      <td>215000</td>\n    </tr>\n    <tr>\n      <th>1</th>\n      <td>2</td>\n      <td>526350040</td>\n      <td>20</td>\n      <td>RH</td>\n      <td>80.0</td>\n      <td>11622</td>\n      <td>Pave</td>\n      <td>NaN</td>\n      <td>Reg</td>\n      <td>Lvl</td>\n      <td>AllPub</td>\n      <td>Inside</td>\n      <td>Gtl</td>\n      <td>NAmes</td>\n      <td>Feedr</td>\n      <td>Norm</td>\n      <td>1Fam</td>\n      <td>1Story</td>\n      <td>5</td>\n      <td>6</td>\n      <td>1961</td>\n      <td>1961</td>\n      <td>Gable</td>\n      <td>CompShg</td>\n      <td>VinylSd</td>\n      <td>VinylSd</td>\n      <td>NaN</td>\n      <td>0.0</td>\n      <td>TA</td>\n      <td>TA</td>\n      <td>CBlock</td>\n      <td>TA</td>\n      <td>TA</td>\n      <td>No</td>\n      <td>Rec</td>\n      <td>468.0</td>\n      <td>LwQ</td>\n      <td>144.0</td>\n      <td>270.0</td>\n      <td>882.0</td>\n      <td>GasA</td>\n      <td>TA</td>\n      <td>Y</td>\n      <td>SBrkr</td>\n      <td>896</td>\n      <td>0</td>\n      <td>0</td>\n      <td>896</td>\n      <td>0.0</td>\n      <td>0.0</td>\n      <td>1</td>\n      <td>0</td>\n      <td>2</td>\n      <td>1</td>\n      <td>TA</td>\n      <td>5</td>\n      <td>Typ</td>\n      <td>0</td>\n      <td>NaN</td>\n      <td>Attchd</td>\n      <td>1961.0</td>\n      <td>Unf</td>\n      <td>1.0</td>\n      <td>730.0</td>\n      <td>TA</td>\n      <td>TA</td>\n      <td>Y</td>\n      <td>140</td>\n      <td>0</td>\n      <td>0</td>\n      <td>0</td>\n      <td>120</td>\n      <td>0</td>\n      <td>NaN</td>\n      <td>MnPrv</td>\n      <td>NaN</td>\n      <td>0</td>\n      <td>6</td>\n      <td>2010</td>\n      <td>WD</td>\n      <td>Normal</td>\n      <td>105000</td>\n    </tr>\n    <tr>\n      <th>2</th>\n      <td>3</td>\n      <td>526351010</td>\n      <td>20</td>\n      <td>RL</td>\n      <td>81.0</td>\n      <td>14267</td>\n      <td>Pave</td>\n      <td>NaN</td>\n      <td>IR1</td>\n      <td>Lvl</td>\n      <td>AllPub</td>\n      <td>Corner</td>\n      <td>Gtl</td>\n      <td>NAmes</td>\n      <td>Norm</td>\n      <td>Norm</td>\n      <td>1Fam</td>\n      <td>1Story</td>\n      <td>6</td>\n      <td>6</td>\n      <td>1958</td>\n      <td>1958</td>\n      <td>Hip</td>\n      <td>CompShg</td>\n      <td>Wd Sdng</td>\n      <td>Wd Sdng</td>\n      <td>BrkFace</td>\n      <td>108.0</td>\n      <td>TA</td>\n      <td>TA</td>\n      <td>CBlock</td>\n      <td>TA</td>\n      <td>TA</td>\n      <td>No</td>\n      <td>ALQ</td>\n      <td>923.0</td>\n      <td>Unf</td>\n      <td>0.0</td>\n      <td>406.0</td>\n      <td>1329.0</td>\n      <td>GasA</td>\n      <td>TA</td>\n      <td>Y</td>\n      <td>SBrkr</td>\n      <td>1329</td>\n      <td>0</td>\n      <td>0</td>\n      <td>1329</td>\n      <td>0.0</td>\n      <td>0.0</td>\n      <td>1</td>\n      <td>1</td>\n      <td>3</td>\n      <td>1</td>\n      <td>Gd</td>\n      <td>6</td>\n      <td>Typ</td>\n      <td>0</td>\n      <td>NaN</td>\n      <td>Attchd</td>\n      <td>1958.0</td>\n      <td>Unf</td>\n      <td>1.0</td>\n      <td>312.0</td>\n      <td>TA</td>\n      <td>TA</td>\n      <td>Y</td>\n      <td>393</td>\n      <td>36</td>\n      <td>0</td>\n      <td>0</td>\n      <td>0</td>\n      <td>0</td>\n      <td>NaN</td>\n      <td>NaN</td>\n      <td>Gar2</td>\n      <td>12500</td>\n      <td>6</td>\n      <td>2010</td>\n      <td>WD</td>\n      <td>Normal</td>\n      <td>172000</td>\n    </tr>\n    <tr>\n      <th>3</th>\n      <td>4</td>\n      <td>526353030</td>\n      <td>20</td>\n      <td>RL</td>\n      <td>93.0</td>\n      <td>11160</td>\n      <td>Pave</td>\n      <td>NaN</td>\n      <td>Reg</td>\n      <td>Lvl</td>\n      <td>AllPub</td>\n      <td>Corner</td>\n      <td>Gtl</td>\n      <td>NAmes</td>\n      <td>Norm</td>\n      <td>Norm</td>\n      <td>1Fam</td>\n      <td>1Story</td>\n      <td>7</td>\n      <td>5</td>\n      <td>1968</td>\n      <td>1968</td>\n      <td>Hip</td>\n      <td>CompShg</td>\n      <td>BrkFace</td>\n      <td>BrkFace</td>\n      <td>NaN</td>\n      <td>0.0</td>\n      <td>Gd</td>\n      <td>TA</td>\n      <td>CBlock</td>\n      <td>TA</td>\n      <td>TA</td>\n      <td>No</td>\n      <td>ALQ</td>\n      <td>1065.0</td>\n      <td>Unf</td>\n      <td>0.0</td>\n      <td>1045.0</td>\n      <td>2110.0</td>\n      <td>GasA</td>\n      <td>Ex</td>\n      <td>Y</td>\n      <td>SBrkr</td>\n      <td>2110</td>\n      <td>0</td>\n      <td>0</td>\n      <td>2110</td>\n      <td>1.0</td>\n      <td>0.0</td>\n      <td>2</td>\n      <td>1</td>\n      <td>3</td>\n      <td>1</td>\n      <td>Ex</td>\n      <td>8</td>\n      <td>Typ</td>\n      <td>2</td>\n      <td>TA</td>\n      <td>Attchd</td>\n      <td>1968.0</td>\n      <td>Fin</td>\n      <td>2.0</td>\n      <td>522.0</td>\n      <td>TA</td>\n      <td>TA</td>\n      <td>Y</td>\n      <td>0</td>\n      <td>0</td>\n      <td>0</td>\n      <td>0</td>\n      <td>0</td>\n      <td>0</td>\n      <td>NaN</td>\n      <td>NaN</td>\n      <td>NaN</td>\n      <td>0</td>\n      <td>4</td>\n      <td>2010</td>\n      <td>WD</td>\n      <td>Normal</td>\n      <td>244000</td>\n    </tr>\n    <tr>\n      <th>4</th>\n      <td>5</td>\n      <td>527105010</td>\n      <td>60</td>\n      <td>RL</td>\n      <td>74.0</td>\n      <td>13830</td>\n      <td>Pave</td>\n      <td>NaN</td>\n      <td>IR1</td>\n      <td>Lvl</td>\n      <td>AllPub</td>\n      <td>Inside</td>\n      <td>Gtl</td>\n      <td>Gilbert</td>\n      <td>Norm</td>\n      <td>Norm</td>\n      <td>1Fam</td>\n      <td>2Story</td>\n      <td>5</td>\n      <td>5</td>\n      <td>1997</td>\n      <td>1998</td>\n      <td>Gable</td>\n      <td>CompShg</td>\n      <td>VinylSd</td>\n      <td>VinylSd</td>\n      <td>NaN</td>\n      <td>0.0</td>\n      <td>TA</td>\n      <td>TA</td>\n      <td>PConc</td>\n      <td>Gd</td>\n      <td>TA</td>\n      <td>No</td>\n      <td>GLQ</td>\n      <td>791.0</td>\n      <td>Unf</td>\n      <td>0.0</td>\n      <td>137.0</td>\n      <td>928.0</td>\n      <td>GasA</td>\n      <td>Gd</td>\n      <td>Y</td>\n      <td>SBrkr</td>\n      <td>928</td>\n      <td>701</td>\n      <td>0</td>\n      <td>1629</td>\n      <td>0.0</td>\n      <td>0.0</td>\n      <td>2</td>\n      <td>1</td>\n      <td>3</td>\n      <td>1</td>\n      <td>TA</td>\n      <td>6</td>\n      <td>Typ</td>\n      <td>1</td>\n      <td>TA</td>\n      <td>Attchd</td>\n      <td>1997.0</td>\n      <td>Fin</td>\n      <td>2.0</td>\n      <td>482.0</td>\n      <td>TA</td>\n      <td>TA</td>\n      <td>Y</td>\n      <td>212</td>\n      <td>34</td>\n      <td>0</td>\n      <td>0</td>\n      <td>0</td>\n      <td>0</td>\n      <td>NaN</td>\n      <td>MnPrv</td>\n      <td>NaN</td>\n      <td>0</td>\n      <td>3</td>\n      <td>2010</td>\n      <td>WD</td>\n      <td>Normal</td>\n      <td>189900</td>\n    </tr>\n  </tbody>\n</table>\n</div>"
     },
     "execution_count": 152,
     "metadata": {},
     "output_type": "execute_result"
    }
   ],
   "source": [
    "house=pd.read_csv('AmesHousing.tsv',sep='\\t')\n",
    "house.head()"
   ]
  },
  {
   "cell_type": "code",
   "execution_count": 115,
   "metadata": {
    "ExecuteTime": {
     "end_time": "2023-11-03T02:40:41.050883Z",
     "start_time": "2023-11-03T02:40:40.366915Z"
    }
   },
   "outputs": [
    {
     "data": {
      "text/plain": "57088.25161263909"
     },
     "execution_count": 115,
     "metadata": {},
     "output_type": "execute_result"
    }
   ],
   "source": [
    "def transform_features(df):\n",
    "    return df\n",
    "\n",
    "def select_features(df):\n",
    "    return df[[\"Gr Liv Area\", \"SalePrice\"]]\n",
    "\n",
    "def train_and_test(df):  \n",
    "    train = df[:1460]\n",
    "    test = df[1460:]\n",
    "    \n",
    "    ## You can use `pd.DataFrame.select_dtypes()` to specify column types\n",
    "    ## and return only those columns as a data frame.\n",
    "    numeric_train = train.select_dtypes(include=['integer', 'float'])\n",
    "    numeric_test = test.select_dtypes(include=['integer', 'float'])\n",
    "    \n",
    "    ## You can use `pd.Series.drop()` to drop a value.\n",
    "    features = numeric_train.columns.drop(\"SalePrice\")\n",
    "    lr = linear_model.LinearRegression()\n",
    "    lr.fit(train[features], train[\"SalePrice\"])\n",
    "    predictions = lr.predict(test[features])\n",
    "    mse = mean_squared_error(test[\"SalePrice\"], predictions)\n",
    "    rmse = np.sqrt(mse)\n",
    "    \n",
    "    return rmse\n",
    "\n",
    "transform_df = transform_features(house)\n",
    "filtered_df = select_features(transform_df)\n",
    "rmse = train_and_test(filtered_df)\n",
    "\n",
    "rmse"
   ]
  },
  {
   "cell_type": "markdown",
   "metadata": {},
   "source": [
    "# 2. Feature Engineering"
   ]
  },
  {
   "cell_type": "markdown",
   "metadata": {},
   "source": [
    "Let's now start removing features with many missing values, diving deeper into potential categorical features, and transforming text and numerical columns. Update transform_features() so that any column from the data frame with more than 25% (or another cutoff value) missing values is dropped. You also need to remove any columns that leak information about the sale (e.g. like the year the sale happened). In general, the goal of this function is to:\n",
    "\n",
    "* `remove features` that we don't want to use in the model, just based on the number of missing values or data leakage\n",
    "* `transform features` into the proper format (numerical to categorical, scaling numerical, filling in missing values, etc)\n",
    "* `create new features` by combining other features"
   ]
  },
  {
   "cell_type": "markdown",
   "metadata": {},
   "source": [
    "**Handle missing values**:\n",
    "* All columns:\n",
    "   * Drop any with 5% or more missing values for now.\n",
    "* Text columns:\n",
    "   * Drop any with 1 or more missing values for now.\n",
    "* Numerical columns:\n",
    "   * For columns with missing values, fill in with the most common value in that column"
   ]
  },
  {
   "cell_type": "markdown",
   "metadata": {},
   "source": [
    "\n",
    "1: All columns: Drop any with 5% or more missing values for now.\n"
   ]
  },
  {
   "cell_type": "code",
   "execution_count": 116,
   "metadata": {
    "ExecuteTime": {
     "end_time": "2023-11-03T02:40:41.050936Z",
     "start_time": "2023-11-03T02:40:40.385515Z"
    }
   },
   "outputs": [],
   "source": [
    "## Series object: column name -> number of missing values\n",
    "num_missing = house.isnull().sum()"
   ]
  },
  {
   "cell_type": "code",
   "execution_count": 117,
   "outputs": [
    {
     "data": {
      "text/plain": "Order               0\nPID                 0\nMS SubClass         0\nMS Zoning           0\nLot Frontage      490\n                 ... \nMo Sold             0\nYr Sold             0\nSale Type           0\nSale Condition      0\nSalePrice           0\nLength: 82, dtype: int64"
     },
     "execution_count": 117,
     "metadata": {},
     "output_type": "execute_result"
    }
   ],
   "source": [
    "num_missing"
   ],
   "metadata": {
    "collapsed": false,
    "ExecuteTime": {
     "end_time": "2023-11-03T02:40:41.051052Z",
     "start_time": "2023-11-03T02:40:40.395974Z"
    }
   }
  },
  {
   "cell_type": "code",
   "execution_count": 118,
   "metadata": {
    "ExecuteTime": {
     "end_time": "2023-11-03T02:40:41.066705Z",
     "start_time": "2023-11-03T02:40:40.404911Z"
    }
   },
   "outputs": [],
   "source": [
    "# Filter Series to columns containing >5% missing values\n",
    "drop_missing_cols = num_missing[(num_missing > len(house)/20)].sort_values()\n",
    "\n",
    "# Drop those columns from the data frame. Note the use of the .index accessor\n",
    "df = house.drop(drop_missing_cols.index, axis=1)"
   ]
  },
  {
   "cell_type": "code",
   "execution_count": 119,
   "outputs": [
    {
     "data": {
      "text/plain": "      Order        PID  MS SubClass MS Zoning  Lot Area Street Lot Shape   \n0         1  526301100           20        RL     31770   Pave       IR1  \\\n1         2  526350040           20        RH     11622   Pave       Reg   \n2         3  526351010           20        RL     14267   Pave       IR1   \n3         4  526353030           20        RL     11160   Pave       Reg   \n4         5  527105010           60        RL     13830   Pave       IR1   \n...     ...        ...          ...       ...       ...    ...       ...   \n2925   2926  923275080           80        RL      7937   Pave       IR1   \n2926   2927  923276100           20        RL      8885   Pave       IR1   \n2927   2928  923400125           85        RL     10441   Pave       Reg   \n2928   2929  924100070           20        RL     10010   Pave       Reg   \n2929   2930  924151050           60        RL      9627   Pave       Reg   \n\n     Land Contour Utilities Lot Config Land Slope Neighborhood Condition 1   \n0             Lvl    AllPub     Corner        Gtl        NAmes        Norm  \\\n1             Lvl    AllPub     Inside        Gtl        NAmes       Feedr   \n2             Lvl    AllPub     Corner        Gtl        NAmes        Norm   \n3             Lvl    AllPub     Corner        Gtl        NAmes        Norm   \n4             Lvl    AllPub     Inside        Gtl      Gilbert        Norm   \n...           ...       ...        ...        ...          ...         ...   \n2925          Lvl    AllPub    CulDSac        Gtl      Mitchel        Norm   \n2926          Low    AllPub     Inside        Mod      Mitchel        Norm   \n2927          Lvl    AllPub     Inside        Gtl      Mitchel        Norm   \n2928          Lvl    AllPub     Inside        Mod      Mitchel        Norm   \n2929          Lvl    AllPub     Inside        Mod      Mitchel        Norm   \n\n     Condition 2 Bldg Type House Style  Overall Qual  Overall Cond   \n0           Norm      1Fam      1Story             6             5  \\\n1           Norm      1Fam      1Story             5             6   \n2           Norm      1Fam      1Story             6             6   \n3           Norm      1Fam      1Story             7             5   \n4           Norm      1Fam      2Story             5             5   \n...          ...       ...         ...           ...           ...   \n2925        Norm      1Fam        SLvl             6             6   \n2926        Norm      1Fam      1Story             5             5   \n2927        Norm      1Fam      SFoyer             5             5   \n2928        Norm      1Fam      1Story             5             5   \n2929        Norm      1Fam      2Story             7             5   \n\n      Year Built  Year Remod/Add Roof Style Roof Matl Exterior 1st   \n0           1960            1960        Hip   CompShg      BrkFace  \\\n1           1961            1961      Gable   CompShg      VinylSd   \n2           1958            1958        Hip   CompShg      Wd Sdng   \n3           1968            1968        Hip   CompShg      BrkFace   \n4           1997            1998      Gable   CompShg      VinylSd   \n...          ...             ...        ...       ...          ...   \n2925        1984            1984      Gable   CompShg      HdBoard   \n2926        1983            1983      Gable   CompShg      HdBoard   \n2927        1992            1992      Gable   CompShg      HdBoard   \n2928        1974            1975      Gable   CompShg      HdBoard   \n2929        1993            1994      Gable   CompShg      HdBoard   \n\n     Exterior 2nd  Mas Vnr Area Exter Qual Exter Cond Foundation Bsmt Qual   \n0         Plywood         112.0         TA         TA     CBlock        TA  \\\n1         VinylSd           0.0         TA         TA     CBlock        TA   \n2         Wd Sdng         108.0         TA         TA     CBlock        TA   \n3         BrkFace           0.0         Gd         TA     CBlock        TA   \n4         VinylSd           0.0         TA         TA      PConc        Gd   \n...           ...           ...        ...        ...        ...       ...   \n2925      HdBoard           0.0         TA         TA     CBlock        TA   \n2926      HdBoard           0.0         TA         TA     CBlock        Gd   \n2927      Wd Shng           0.0         TA         TA      PConc        Gd   \n2928      HdBoard           0.0         TA         TA     CBlock        Gd   \n2929      HdBoard          94.0         TA         TA      PConc        Gd   \n\n     Bsmt Cond Bsmt Exposure BsmtFin Type 1  BsmtFin SF 1 BsmtFin Type 2   \n0           Gd            Gd            BLQ         639.0            Unf  \\\n1           TA            No            Rec         468.0            LwQ   \n2           TA            No            ALQ         923.0            Unf   \n3           TA            No            ALQ        1065.0            Unf   \n4           TA            No            GLQ         791.0            Unf   \n...        ...           ...            ...           ...            ...   \n2925        TA            Av            GLQ         819.0            Unf   \n2926        TA            Av            BLQ         301.0            ALQ   \n2927        TA            Av            GLQ         337.0            Unf   \n2928        TA            Av            ALQ        1071.0            LwQ   \n2929        TA            Av            LwQ         758.0            Unf   \n\n      BsmtFin SF 2  Bsmt Unf SF  Total Bsmt SF Heating Heating QC Central Air   \n0              0.0        441.0         1080.0    GasA         Fa           Y  \\\n1            144.0        270.0          882.0    GasA         TA           Y   \n2              0.0        406.0         1329.0    GasA         TA           Y   \n3              0.0       1045.0         2110.0    GasA         Ex           Y   \n4              0.0        137.0          928.0    GasA         Gd           Y   \n...            ...          ...            ...     ...        ...         ...   \n2925           0.0        184.0         1003.0    GasA         TA           Y   \n2926         324.0        239.0          864.0    GasA         TA           Y   \n2927           0.0        575.0          912.0    GasA         TA           Y   \n2928         123.0        195.0         1389.0    GasA         Gd           Y   \n2929           0.0        238.0          996.0    GasA         Ex           Y   \n\n     Electrical  1st Flr SF  2nd Flr SF  Low Qual Fin SF  Gr Liv Area   \n0         SBrkr        1656           0                0         1656  \\\n1         SBrkr         896           0                0          896   \n2         SBrkr        1329           0                0         1329   \n3         SBrkr        2110           0                0         2110   \n4         SBrkr         928         701                0         1629   \n...         ...         ...         ...              ...          ...   \n2925      SBrkr        1003           0                0         1003   \n2926      SBrkr         902           0                0          902   \n2927      SBrkr         970           0                0          970   \n2928      SBrkr        1389           0                0         1389   \n2929      SBrkr         996        1004                0         2000   \n\n      Bsmt Full Bath  Bsmt Half Bath  Full Bath  Half Bath  Bedroom AbvGr   \n0                1.0             0.0          1          0              3  \\\n1                0.0             0.0          1          0              2   \n2                0.0             0.0          1          1              3   \n3                1.0             0.0          2          1              3   \n4                0.0             0.0          2          1              3   \n...              ...             ...        ...        ...            ...   \n2925             1.0             0.0          1          0              3   \n2926             1.0             0.0          1          0              2   \n2927             0.0             1.0          1          0              3   \n2928             1.0             0.0          1          0              2   \n2929             0.0             0.0          2          1              3   \n\n      Kitchen AbvGr Kitchen Qual  TotRms AbvGrd Functional  Fireplaces   \n0                 1           TA              7        Typ           2  \\\n1                 1           TA              5        Typ           0   \n2                 1           Gd              6        Typ           0   \n3                 1           Ex              8        Typ           2   \n4                 1           TA              6        Typ           1   \n...             ...          ...            ...        ...         ...   \n2925              1           TA              6        Typ           0   \n2926              1           TA              5        Typ           0   \n2927              1           TA              6        Typ           0   \n2928              1           TA              6        Typ           1   \n2929              1           TA              9        Typ           1   \n\n      Garage Cars  Garage Area Paved Drive  Wood Deck SF  Open Porch SF   \n0             2.0        528.0           P           210             62  \\\n1             1.0        730.0           Y           140              0   \n2             1.0        312.0           Y           393             36   \n3             2.0        522.0           Y             0              0   \n4             2.0        482.0           Y           212             34   \n...           ...          ...         ...           ...            ...   \n2925          2.0        588.0           Y           120              0   \n2926          2.0        484.0           Y           164              0   \n2927          0.0          0.0           Y            80             32   \n2928          2.0        418.0           Y           240             38   \n2929          3.0        650.0           Y           190             48   \n\n      Enclosed Porch  3Ssn Porch  Screen Porch  Pool Area  Misc Val  Mo Sold   \n0                  0           0             0          0         0        5  \\\n1                  0           0           120          0         0        6   \n2                  0           0             0          0     12500        6   \n3                  0           0             0          0         0        4   \n4                  0           0             0          0         0        3   \n...              ...         ...           ...        ...       ...      ...   \n2925               0           0             0          0         0        3   \n2926               0           0             0          0         0        6   \n2927               0           0             0          0       700        7   \n2928               0           0             0          0         0        4   \n2929               0           0             0          0         0       11   \n\n      Yr Sold Sale Type Sale Condition  SalePrice  \n0        2010       WD          Normal     215000  \n1        2010       WD          Normal     105000  \n2        2010       WD          Normal     172000  \n3        2010       WD          Normal     244000  \n4        2010       WD          Normal     189900  \n...       ...       ...            ...        ...  \n2925     2006       WD          Normal     142500  \n2926     2006       WD          Normal     131000  \n2927     2006       WD          Normal     132000  \n2928     2006       WD          Normal     170000  \n2929     2006       WD          Normal     188000  \n\n[2930 rows x 70 columns]",
      "text/html": "<div>\n<style scoped>\n    .dataframe tbody tr th:only-of-type {\n        vertical-align: middle;\n    }\n\n    .dataframe tbody tr th {\n        vertical-align: top;\n    }\n\n    .dataframe thead th {\n        text-align: right;\n    }\n</style>\n<table border=\"1\" class=\"dataframe\">\n  <thead>\n    <tr style=\"text-align: right;\">\n      <th></th>\n      <th>Order</th>\n      <th>PID</th>\n      <th>MS SubClass</th>\n      <th>MS Zoning</th>\n      <th>Lot Area</th>\n      <th>Street</th>\n      <th>Lot Shape</th>\n      <th>Land Contour</th>\n      <th>Utilities</th>\n      <th>Lot Config</th>\n      <th>Land Slope</th>\n      <th>Neighborhood</th>\n      <th>Condition 1</th>\n      <th>Condition 2</th>\n      <th>Bldg Type</th>\n      <th>House Style</th>\n      <th>Overall Qual</th>\n      <th>Overall Cond</th>\n      <th>Year Built</th>\n      <th>Year Remod/Add</th>\n      <th>Roof Style</th>\n      <th>Roof Matl</th>\n      <th>Exterior 1st</th>\n      <th>Exterior 2nd</th>\n      <th>Mas Vnr Area</th>\n      <th>Exter Qual</th>\n      <th>Exter Cond</th>\n      <th>Foundation</th>\n      <th>Bsmt Qual</th>\n      <th>Bsmt Cond</th>\n      <th>Bsmt Exposure</th>\n      <th>BsmtFin Type 1</th>\n      <th>BsmtFin SF 1</th>\n      <th>BsmtFin Type 2</th>\n      <th>BsmtFin SF 2</th>\n      <th>Bsmt Unf SF</th>\n      <th>Total Bsmt SF</th>\n      <th>Heating</th>\n      <th>Heating QC</th>\n      <th>Central Air</th>\n      <th>Electrical</th>\n      <th>1st Flr SF</th>\n      <th>2nd Flr SF</th>\n      <th>Low Qual Fin SF</th>\n      <th>Gr Liv Area</th>\n      <th>Bsmt Full Bath</th>\n      <th>Bsmt Half Bath</th>\n      <th>Full Bath</th>\n      <th>Half Bath</th>\n      <th>Bedroom AbvGr</th>\n      <th>Kitchen AbvGr</th>\n      <th>Kitchen Qual</th>\n      <th>TotRms AbvGrd</th>\n      <th>Functional</th>\n      <th>Fireplaces</th>\n      <th>Garage Cars</th>\n      <th>Garage Area</th>\n      <th>Paved Drive</th>\n      <th>Wood Deck SF</th>\n      <th>Open Porch SF</th>\n      <th>Enclosed Porch</th>\n      <th>3Ssn Porch</th>\n      <th>Screen Porch</th>\n      <th>Pool Area</th>\n      <th>Misc Val</th>\n      <th>Mo Sold</th>\n      <th>Yr Sold</th>\n      <th>Sale Type</th>\n      <th>Sale Condition</th>\n      <th>SalePrice</th>\n    </tr>\n  </thead>\n  <tbody>\n    <tr>\n      <th>0</th>\n      <td>1</td>\n      <td>526301100</td>\n      <td>20</td>\n      <td>RL</td>\n      <td>31770</td>\n      <td>Pave</td>\n      <td>IR1</td>\n      <td>Lvl</td>\n      <td>AllPub</td>\n      <td>Corner</td>\n      <td>Gtl</td>\n      <td>NAmes</td>\n      <td>Norm</td>\n      <td>Norm</td>\n      <td>1Fam</td>\n      <td>1Story</td>\n      <td>6</td>\n      <td>5</td>\n      <td>1960</td>\n      <td>1960</td>\n      <td>Hip</td>\n      <td>CompShg</td>\n      <td>BrkFace</td>\n      <td>Plywood</td>\n      <td>112.0</td>\n      <td>TA</td>\n      <td>TA</td>\n      <td>CBlock</td>\n      <td>TA</td>\n      <td>Gd</td>\n      <td>Gd</td>\n      <td>BLQ</td>\n      <td>639.0</td>\n      <td>Unf</td>\n      <td>0.0</td>\n      <td>441.0</td>\n      <td>1080.0</td>\n      <td>GasA</td>\n      <td>Fa</td>\n      <td>Y</td>\n      <td>SBrkr</td>\n      <td>1656</td>\n      <td>0</td>\n      <td>0</td>\n      <td>1656</td>\n      <td>1.0</td>\n      <td>0.0</td>\n      <td>1</td>\n      <td>0</td>\n      <td>3</td>\n      <td>1</td>\n      <td>TA</td>\n      <td>7</td>\n      <td>Typ</td>\n      <td>2</td>\n      <td>2.0</td>\n      <td>528.0</td>\n      <td>P</td>\n      <td>210</td>\n      <td>62</td>\n      <td>0</td>\n      <td>0</td>\n      <td>0</td>\n      <td>0</td>\n      <td>0</td>\n      <td>5</td>\n      <td>2010</td>\n      <td>WD</td>\n      <td>Normal</td>\n      <td>215000</td>\n    </tr>\n    <tr>\n      <th>1</th>\n      <td>2</td>\n      <td>526350040</td>\n      <td>20</td>\n      <td>RH</td>\n      <td>11622</td>\n      <td>Pave</td>\n      <td>Reg</td>\n      <td>Lvl</td>\n      <td>AllPub</td>\n      <td>Inside</td>\n      <td>Gtl</td>\n      <td>NAmes</td>\n      <td>Feedr</td>\n      <td>Norm</td>\n      <td>1Fam</td>\n      <td>1Story</td>\n      <td>5</td>\n      <td>6</td>\n      <td>1961</td>\n      <td>1961</td>\n      <td>Gable</td>\n      <td>CompShg</td>\n      <td>VinylSd</td>\n      <td>VinylSd</td>\n      <td>0.0</td>\n      <td>TA</td>\n      <td>TA</td>\n      <td>CBlock</td>\n      <td>TA</td>\n      <td>TA</td>\n      <td>No</td>\n      <td>Rec</td>\n      <td>468.0</td>\n      <td>LwQ</td>\n      <td>144.0</td>\n      <td>270.0</td>\n      <td>882.0</td>\n      <td>GasA</td>\n      <td>TA</td>\n      <td>Y</td>\n      <td>SBrkr</td>\n      <td>896</td>\n      <td>0</td>\n      <td>0</td>\n      <td>896</td>\n      <td>0.0</td>\n      <td>0.0</td>\n      <td>1</td>\n      <td>0</td>\n      <td>2</td>\n      <td>1</td>\n      <td>TA</td>\n      <td>5</td>\n      <td>Typ</td>\n      <td>0</td>\n      <td>1.0</td>\n      <td>730.0</td>\n      <td>Y</td>\n      <td>140</td>\n      <td>0</td>\n      <td>0</td>\n      <td>0</td>\n      <td>120</td>\n      <td>0</td>\n      <td>0</td>\n      <td>6</td>\n      <td>2010</td>\n      <td>WD</td>\n      <td>Normal</td>\n      <td>105000</td>\n    </tr>\n    <tr>\n      <th>2</th>\n      <td>3</td>\n      <td>526351010</td>\n      <td>20</td>\n      <td>RL</td>\n      <td>14267</td>\n      <td>Pave</td>\n      <td>IR1</td>\n      <td>Lvl</td>\n      <td>AllPub</td>\n      <td>Corner</td>\n      <td>Gtl</td>\n      <td>NAmes</td>\n      <td>Norm</td>\n      <td>Norm</td>\n      <td>1Fam</td>\n      <td>1Story</td>\n      <td>6</td>\n      <td>6</td>\n      <td>1958</td>\n      <td>1958</td>\n      <td>Hip</td>\n      <td>CompShg</td>\n      <td>Wd Sdng</td>\n      <td>Wd Sdng</td>\n      <td>108.0</td>\n      <td>TA</td>\n      <td>TA</td>\n      <td>CBlock</td>\n      <td>TA</td>\n      <td>TA</td>\n      <td>No</td>\n      <td>ALQ</td>\n      <td>923.0</td>\n      <td>Unf</td>\n      <td>0.0</td>\n      <td>406.0</td>\n      <td>1329.0</td>\n      <td>GasA</td>\n      <td>TA</td>\n      <td>Y</td>\n      <td>SBrkr</td>\n      <td>1329</td>\n      <td>0</td>\n      <td>0</td>\n      <td>1329</td>\n      <td>0.0</td>\n      <td>0.0</td>\n      <td>1</td>\n      <td>1</td>\n      <td>3</td>\n      <td>1</td>\n      <td>Gd</td>\n      <td>6</td>\n      <td>Typ</td>\n      <td>0</td>\n      <td>1.0</td>\n      <td>312.0</td>\n      <td>Y</td>\n      <td>393</td>\n      <td>36</td>\n      <td>0</td>\n      <td>0</td>\n      <td>0</td>\n      <td>0</td>\n      <td>12500</td>\n      <td>6</td>\n      <td>2010</td>\n      <td>WD</td>\n      <td>Normal</td>\n      <td>172000</td>\n    </tr>\n    <tr>\n      <th>3</th>\n      <td>4</td>\n      <td>526353030</td>\n      <td>20</td>\n      <td>RL</td>\n      <td>11160</td>\n      <td>Pave</td>\n      <td>Reg</td>\n      <td>Lvl</td>\n      <td>AllPub</td>\n      <td>Corner</td>\n      <td>Gtl</td>\n      <td>NAmes</td>\n      <td>Norm</td>\n      <td>Norm</td>\n      <td>1Fam</td>\n      <td>1Story</td>\n      <td>7</td>\n      <td>5</td>\n      <td>1968</td>\n      <td>1968</td>\n      <td>Hip</td>\n      <td>CompShg</td>\n      <td>BrkFace</td>\n      <td>BrkFace</td>\n      <td>0.0</td>\n      <td>Gd</td>\n      <td>TA</td>\n      <td>CBlock</td>\n      <td>TA</td>\n      <td>TA</td>\n      <td>No</td>\n      <td>ALQ</td>\n      <td>1065.0</td>\n      <td>Unf</td>\n      <td>0.0</td>\n      <td>1045.0</td>\n      <td>2110.0</td>\n      <td>GasA</td>\n      <td>Ex</td>\n      <td>Y</td>\n      <td>SBrkr</td>\n      <td>2110</td>\n      <td>0</td>\n      <td>0</td>\n      <td>2110</td>\n      <td>1.0</td>\n      <td>0.0</td>\n      <td>2</td>\n      <td>1</td>\n      <td>3</td>\n      <td>1</td>\n      <td>Ex</td>\n      <td>8</td>\n      <td>Typ</td>\n      <td>2</td>\n      <td>2.0</td>\n      <td>522.0</td>\n      <td>Y</td>\n      <td>0</td>\n      <td>0</td>\n      <td>0</td>\n      <td>0</td>\n      <td>0</td>\n      <td>0</td>\n      <td>0</td>\n      <td>4</td>\n      <td>2010</td>\n      <td>WD</td>\n      <td>Normal</td>\n      <td>244000</td>\n    </tr>\n    <tr>\n      <th>4</th>\n      <td>5</td>\n      <td>527105010</td>\n      <td>60</td>\n      <td>RL</td>\n      <td>13830</td>\n      <td>Pave</td>\n      <td>IR1</td>\n      <td>Lvl</td>\n      <td>AllPub</td>\n      <td>Inside</td>\n      <td>Gtl</td>\n      <td>Gilbert</td>\n      <td>Norm</td>\n      <td>Norm</td>\n      <td>1Fam</td>\n      <td>2Story</td>\n      <td>5</td>\n      <td>5</td>\n      <td>1997</td>\n      <td>1998</td>\n      <td>Gable</td>\n      <td>CompShg</td>\n      <td>VinylSd</td>\n      <td>VinylSd</td>\n      <td>0.0</td>\n      <td>TA</td>\n      <td>TA</td>\n      <td>PConc</td>\n      <td>Gd</td>\n      <td>TA</td>\n      <td>No</td>\n      <td>GLQ</td>\n      <td>791.0</td>\n      <td>Unf</td>\n      <td>0.0</td>\n      <td>137.0</td>\n      <td>928.0</td>\n      <td>GasA</td>\n      <td>Gd</td>\n      <td>Y</td>\n      <td>SBrkr</td>\n      <td>928</td>\n      <td>701</td>\n      <td>0</td>\n      <td>1629</td>\n      <td>0.0</td>\n      <td>0.0</td>\n      <td>2</td>\n      <td>1</td>\n      <td>3</td>\n      <td>1</td>\n      <td>TA</td>\n      <td>6</td>\n      <td>Typ</td>\n      <td>1</td>\n      <td>2.0</td>\n      <td>482.0</td>\n      <td>Y</td>\n      <td>212</td>\n      <td>34</td>\n      <td>0</td>\n      <td>0</td>\n      <td>0</td>\n      <td>0</td>\n      <td>0</td>\n      <td>3</td>\n      <td>2010</td>\n      <td>WD</td>\n      <td>Normal</td>\n      <td>189900</td>\n    </tr>\n    <tr>\n      <th>...</th>\n      <td>...</td>\n      <td>...</td>\n      <td>...</td>\n      <td>...</td>\n      <td>...</td>\n      <td>...</td>\n      <td>...</td>\n      <td>...</td>\n      <td>...</td>\n      <td>...</td>\n      <td>...</td>\n      <td>...</td>\n      <td>...</td>\n      <td>...</td>\n      <td>...</td>\n      <td>...</td>\n      <td>...</td>\n      <td>...</td>\n      <td>...</td>\n      <td>...</td>\n      <td>...</td>\n      <td>...</td>\n      <td>...</td>\n      <td>...</td>\n      <td>...</td>\n      <td>...</td>\n      <td>...</td>\n      <td>...</td>\n      <td>...</td>\n      <td>...</td>\n      <td>...</td>\n      <td>...</td>\n      <td>...</td>\n      <td>...</td>\n      <td>...</td>\n      <td>...</td>\n      <td>...</td>\n      <td>...</td>\n      <td>...</td>\n      <td>...</td>\n      <td>...</td>\n      <td>...</td>\n      <td>...</td>\n      <td>...</td>\n      <td>...</td>\n      <td>...</td>\n      <td>...</td>\n      <td>...</td>\n      <td>...</td>\n      <td>...</td>\n      <td>...</td>\n      <td>...</td>\n      <td>...</td>\n      <td>...</td>\n      <td>...</td>\n      <td>...</td>\n      <td>...</td>\n      <td>...</td>\n      <td>...</td>\n      <td>...</td>\n      <td>...</td>\n      <td>...</td>\n      <td>...</td>\n      <td>...</td>\n      <td>...</td>\n      <td>...</td>\n      <td>...</td>\n      <td>...</td>\n      <td>...</td>\n      <td>...</td>\n    </tr>\n    <tr>\n      <th>2925</th>\n      <td>2926</td>\n      <td>923275080</td>\n      <td>80</td>\n      <td>RL</td>\n      <td>7937</td>\n      <td>Pave</td>\n      <td>IR1</td>\n      <td>Lvl</td>\n      <td>AllPub</td>\n      <td>CulDSac</td>\n      <td>Gtl</td>\n      <td>Mitchel</td>\n      <td>Norm</td>\n      <td>Norm</td>\n      <td>1Fam</td>\n      <td>SLvl</td>\n      <td>6</td>\n      <td>6</td>\n      <td>1984</td>\n      <td>1984</td>\n      <td>Gable</td>\n      <td>CompShg</td>\n      <td>HdBoard</td>\n      <td>HdBoard</td>\n      <td>0.0</td>\n      <td>TA</td>\n      <td>TA</td>\n      <td>CBlock</td>\n      <td>TA</td>\n      <td>TA</td>\n      <td>Av</td>\n      <td>GLQ</td>\n      <td>819.0</td>\n      <td>Unf</td>\n      <td>0.0</td>\n      <td>184.0</td>\n      <td>1003.0</td>\n      <td>GasA</td>\n      <td>TA</td>\n      <td>Y</td>\n      <td>SBrkr</td>\n      <td>1003</td>\n      <td>0</td>\n      <td>0</td>\n      <td>1003</td>\n      <td>1.0</td>\n      <td>0.0</td>\n      <td>1</td>\n      <td>0</td>\n      <td>3</td>\n      <td>1</td>\n      <td>TA</td>\n      <td>6</td>\n      <td>Typ</td>\n      <td>0</td>\n      <td>2.0</td>\n      <td>588.0</td>\n      <td>Y</td>\n      <td>120</td>\n      <td>0</td>\n      <td>0</td>\n      <td>0</td>\n      <td>0</td>\n      <td>0</td>\n      <td>0</td>\n      <td>3</td>\n      <td>2006</td>\n      <td>WD</td>\n      <td>Normal</td>\n      <td>142500</td>\n    </tr>\n    <tr>\n      <th>2926</th>\n      <td>2927</td>\n      <td>923276100</td>\n      <td>20</td>\n      <td>RL</td>\n      <td>8885</td>\n      <td>Pave</td>\n      <td>IR1</td>\n      <td>Low</td>\n      <td>AllPub</td>\n      <td>Inside</td>\n      <td>Mod</td>\n      <td>Mitchel</td>\n      <td>Norm</td>\n      <td>Norm</td>\n      <td>1Fam</td>\n      <td>1Story</td>\n      <td>5</td>\n      <td>5</td>\n      <td>1983</td>\n      <td>1983</td>\n      <td>Gable</td>\n      <td>CompShg</td>\n      <td>HdBoard</td>\n      <td>HdBoard</td>\n      <td>0.0</td>\n      <td>TA</td>\n      <td>TA</td>\n      <td>CBlock</td>\n      <td>Gd</td>\n      <td>TA</td>\n      <td>Av</td>\n      <td>BLQ</td>\n      <td>301.0</td>\n      <td>ALQ</td>\n      <td>324.0</td>\n      <td>239.0</td>\n      <td>864.0</td>\n      <td>GasA</td>\n      <td>TA</td>\n      <td>Y</td>\n      <td>SBrkr</td>\n      <td>902</td>\n      <td>0</td>\n      <td>0</td>\n      <td>902</td>\n      <td>1.0</td>\n      <td>0.0</td>\n      <td>1</td>\n      <td>0</td>\n      <td>2</td>\n      <td>1</td>\n      <td>TA</td>\n      <td>5</td>\n      <td>Typ</td>\n      <td>0</td>\n      <td>2.0</td>\n      <td>484.0</td>\n      <td>Y</td>\n      <td>164</td>\n      <td>0</td>\n      <td>0</td>\n      <td>0</td>\n      <td>0</td>\n      <td>0</td>\n      <td>0</td>\n      <td>6</td>\n      <td>2006</td>\n      <td>WD</td>\n      <td>Normal</td>\n      <td>131000</td>\n    </tr>\n    <tr>\n      <th>2927</th>\n      <td>2928</td>\n      <td>923400125</td>\n      <td>85</td>\n      <td>RL</td>\n      <td>10441</td>\n      <td>Pave</td>\n      <td>Reg</td>\n      <td>Lvl</td>\n      <td>AllPub</td>\n      <td>Inside</td>\n      <td>Gtl</td>\n      <td>Mitchel</td>\n      <td>Norm</td>\n      <td>Norm</td>\n      <td>1Fam</td>\n      <td>SFoyer</td>\n      <td>5</td>\n      <td>5</td>\n      <td>1992</td>\n      <td>1992</td>\n      <td>Gable</td>\n      <td>CompShg</td>\n      <td>HdBoard</td>\n      <td>Wd Shng</td>\n      <td>0.0</td>\n      <td>TA</td>\n      <td>TA</td>\n      <td>PConc</td>\n      <td>Gd</td>\n      <td>TA</td>\n      <td>Av</td>\n      <td>GLQ</td>\n      <td>337.0</td>\n      <td>Unf</td>\n      <td>0.0</td>\n      <td>575.0</td>\n      <td>912.0</td>\n      <td>GasA</td>\n      <td>TA</td>\n      <td>Y</td>\n      <td>SBrkr</td>\n      <td>970</td>\n      <td>0</td>\n      <td>0</td>\n      <td>970</td>\n      <td>0.0</td>\n      <td>1.0</td>\n      <td>1</td>\n      <td>0</td>\n      <td>3</td>\n      <td>1</td>\n      <td>TA</td>\n      <td>6</td>\n      <td>Typ</td>\n      <td>0</td>\n      <td>0.0</td>\n      <td>0.0</td>\n      <td>Y</td>\n      <td>80</td>\n      <td>32</td>\n      <td>0</td>\n      <td>0</td>\n      <td>0</td>\n      <td>0</td>\n      <td>700</td>\n      <td>7</td>\n      <td>2006</td>\n      <td>WD</td>\n      <td>Normal</td>\n      <td>132000</td>\n    </tr>\n    <tr>\n      <th>2928</th>\n      <td>2929</td>\n      <td>924100070</td>\n      <td>20</td>\n      <td>RL</td>\n      <td>10010</td>\n      <td>Pave</td>\n      <td>Reg</td>\n      <td>Lvl</td>\n      <td>AllPub</td>\n      <td>Inside</td>\n      <td>Mod</td>\n      <td>Mitchel</td>\n      <td>Norm</td>\n      <td>Norm</td>\n      <td>1Fam</td>\n      <td>1Story</td>\n      <td>5</td>\n      <td>5</td>\n      <td>1974</td>\n      <td>1975</td>\n      <td>Gable</td>\n      <td>CompShg</td>\n      <td>HdBoard</td>\n      <td>HdBoard</td>\n      <td>0.0</td>\n      <td>TA</td>\n      <td>TA</td>\n      <td>CBlock</td>\n      <td>Gd</td>\n      <td>TA</td>\n      <td>Av</td>\n      <td>ALQ</td>\n      <td>1071.0</td>\n      <td>LwQ</td>\n      <td>123.0</td>\n      <td>195.0</td>\n      <td>1389.0</td>\n      <td>GasA</td>\n      <td>Gd</td>\n      <td>Y</td>\n      <td>SBrkr</td>\n      <td>1389</td>\n      <td>0</td>\n      <td>0</td>\n      <td>1389</td>\n      <td>1.0</td>\n      <td>0.0</td>\n      <td>1</td>\n      <td>0</td>\n      <td>2</td>\n      <td>1</td>\n      <td>TA</td>\n      <td>6</td>\n      <td>Typ</td>\n      <td>1</td>\n      <td>2.0</td>\n      <td>418.0</td>\n      <td>Y</td>\n      <td>240</td>\n      <td>38</td>\n      <td>0</td>\n      <td>0</td>\n      <td>0</td>\n      <td>0</td>\n      <td>0</td>\n      <td>4</td>\n      <td>2006</td>\n      <td>WD</td>\n      <td>Normal</td>\n      <td>170000</td>\n    </tr>\n    <tr>\n      <th>2929</th>\n      <td>2930</td>\n      <td>924151050</td>\n      <td>60</td>\n      <td>RL</td>\n      <td>9627</td>\n      <td>Pave</td>\n      <td>Reg</td>\n      <td>Lvl</td>\n      <td>AllPub</td>\n      <td>Inside</td>\n      <td>Mod</td>\n      <td>Mitchel</td>\n      <td>Norm</td>\n      <td>Norm</td>\n      <td>1Fam</td>\n      <td>2Story</td>\n      <td>7</td>\n      <td>5</td>\n      <td>1993</td>\n      <td>1994</td>\n      <td>Gable</td>\n      <td>CompShg</td>\n      <td>HdBoard</td>\n      <td>HdBoard</td>\n      <td>94.0</td>\n      <td>TA</td>\n      <td>TA</td>\n      <td>PConc</td>\n      <td>Gd</td>\n      <td>TA</td>\n      <td>Av</td>\n      <td>LwQ</td>\n      <td>758.0</td>\n      <td>Unf</td>\n      <td>0.0</td>\n      <td>238.0</td>\n      <td>996.0</td>\n      <td>GasA</td>\n      <td>Ex</td>\n      <td>Y</td>\n      <td>SBrkr</td>\n      <td>996</td>\n      <td>1004</td>\n      <td>0</td>\n      <td>2000</td>\n      <td>0.0</td>\n      <td>0.0</td>\n      <td>2</td>\n      <td>1</td>\n      <td>3</td>\n      <td>1</td>\n      <td>TA</td>\n      <td>9</td>\n      <td>Typ</td>\n      <td>1</td>\n      <td>3.0</td>\n      <td>650.0</td>\n      <td>Y</td>\n      <td>190</td>\n      <td>48</td>\n      <td>0</td>\n      <td>0</td>\n      <td>0</td>\n      <td>0</td>\n      <td>0</td>\n      <td>11</td>\n      <td>2006</td>\n      <td>WD</td>\n      <td>Normal</td>\n      <td>188000</td>\n    </tr>\n  </tbody>\n</table>\n<p>2930 rows × 70 columns</p>\n</div>"
     },
     "execution_count": 119,
     "metadata": {},
     "output_type": "execute_result"
    }
   ],
   "source": [
    "df"
   ],
   "metadata": {
    "collapsed": false,
    "ExecuteTime": {
     "end_time": "2023-11-03T02:40:41.067775Z",
     "start_time": "2023-11-03T02:40:40.409444Z"
    }
   }
  },
  {
   "cell_type": "markdown",
   "metadata": {},
   "source": [
    "2: Text columns: Drop any with 1 or more missing values for now."
   ]
  },
  {
   "cell_type": "code",
   "execution_count": 120,
   "metadata": {
    "ExecuteTime": {
     "end_time": "2023-11-03T02:40:41.067853Z",
     "start_time": "2023-11-03T02:40:40.455035Z"
    }
   },
   "outputs": [],
   "source": [
    "## Series object: column name -> number of missing values\n",
    "text_mv_counts = df.select_dtypes(include=['object']).isnull().sum().sort_values(ascending=False)\n",
    "\n",
    "## Filter Series to columns containing *any* missing values\n",
    "drop_missing_cols_2 = text_mv_counts[text_mv_counts > 0]\n",
    "\n",
    "df = df.drop(drop_missing_cols_2.index, axis=1)"
   ]
  },
  {
   "cell_type": "markdown",
   "metadata": {},
   "source": [
    "3: Numerical columns: For columns with missing values, fill in with the most common value in that column"
   ]
  },
  {
   "cell_type": "code",
   "execution_count": 121,
   "metadata": {
    "ExecuteTime": {
     "end_time": "2023-11-03T02:40:41.067991Z",
     "start_time": "2023-11-03T02:40:40.462622Z"
    }
   },
   "outputs": [
    {
     "data": {
      "text/plain": "BsmtFin SF 1       1\nBsmtFin SF 2       1\nBsmt Unf SF        1\nTotal Bsmt SF      1\nGarage Cars        1\nGarage Area        1\nBsmt Full Bath     2\nBsmt Half Bath     2\nMas Vnr Area      23\ndtype: int64"
     },
     "execution_count": 121,
     "metadata": {},
     "output_type": "execute_result"
    }
   ],
   "source": [
    "## Compute column-wise missing value counts\n",
    "num_missing = df.select_dtypes(include=['int', 'float']).isnull().sum()\n",
    "fixable_numeric_cols = num_missing[(num_missing < len(df)/20) & (num_missing > 0)].sort_values()\n",
    "fixable_numeric_cols"
   ]
  },
  {
   "cell_type": "code",
   "execution_count": 122,
   "metadata": {
    "ExecuteTime": {
     "end_time": "2023-11-03T02:40:41.068118Z",
     "start_time": "2023-11-03T02:40:40.474589Z"
    }
   },
   "outputs": [
    {
     "data": {
      "text/plain": "{'BsmtFin SF 1': 0.0,\n 'BsmtFin SF 2': 0.0,\n 'Bsmt Unf SF': 0.0,\n 'Total Bsmt SF': 0.0,\n 'Garage Cars': 2.0,\n 'Garage Area': 0.0,\n 'Bsmt Full Bath': 0.0,\n 'Bsmt Half Bath': 0.0,\n 'Mas Vnr Area': 0.0}"
     },
     "execution_count": 122,
     "metadata": {},
     "output_type": "execute_result"
    }
   ],
   "source": [
    "## Compute the most common value for each column in `fixable_nmeric_missing_cols`.\n",
    "replacement_values_dict = df[fixable_numeric_cols.index].mode().to_dict(orient='records')[0]\n",
    "replacement_values_dict"
   ]
  },
  {
   "cell_type": "code",
   "execution_count": 123,
   "metadata": {
    "ExecuteTime": {
     "end_time": "2023-11-03T02:40:41.068177Z",
     "start_time": "2023-11-03T02:40:40.478376Z"
    }
   },
   "outputs": [],
   "source": [
    "## Use `pd.DataFrame.fillna()` to replace missing values.\n",
    "df = df.fillna(replacement_values_dict)"
   ]
  },
  {
   "cell_type": "code",
   "execution_count": 124,
   "metadata": {
    "ExecuteTime": {
     "end_time": "2023-11-03T02:40:41.068283Z",
     "start_time": "2023-11-03T02:40:40.485306Z"
    }
   },
   "outputs": [
    {
     "data": {
      "text/plain": "0    64\nName: count, dtype: int64"
     },
     "execution_count": 124,
     "metadata": {},
     "output_type": "execute_result"
    }
   ],
   "source": [
    "## Verify that every column has 0 missing values\n",
    "df.isnull().sum().value_counts()"
   ]
  },
  {
   "cell_type": "code",
   "execution_count": 125,
   "outputs": [
    {
     "data": {
      "text/plain": "      Order        PID  MS SubClass MS Zoning  Lot Area Street Lot Shape   \n0         1  526301100           20        RL     31770   Pave       IR1  \\\n1         2  526350040           20        RH     11622   Pave       Reg   \n2         3  526351010           20        RL     14267   Pave       IR1   \n3         4  526353030           20        RL     11160   Pave       Reg   \n4         5  527105010           60        RL     13830   Pave       IR1   \n...     ...        ...          ...       ...       ...    ...       ...   \n2925   2926  923275080           80        RL      7937   Pave       IR1   \n2926   2927  923276100           20        RL      8885   Pave       IR1   \n2927   2928  923400125           85        RL     10441   Pave       Reg   \n2928   2929  924100070           20        RL     10010   Pave       Reg   \n2929   2930  924151050           60        RL      9627   Pave       Reg   \n\n     Land Contour Utilities Lot Config Land Slope Neighborhood Condition 1   \n0             Lvl    AllPub     Corner        Gtl        NAmes        Norm  \\\n1             Lvl    AllPub     Inside        Gtl        NAmes       Feedr   \n2             Lvl    AllPub     Corner        Gtl        NAmes        Norm   \n3             Lvl    AllPub     Corner        Gtl        NAmes        Norm   \n4             Lvl    AllPub     Inside        Gtl      Gilbert        Norm   \n...           ...       ...        ...        ...          ...         ...   \n2925          Lvl    AllPub    CulDSac        Gtl      Mitchel        Norm   \n2926          Low    AllPub     Inside        Mod      Mitchel        Norm   \n2927          Lvl    AllPub     Inside        Gtl      Mitchel        Norm   \n2928          Lvl    AllPub     Inside        Mod      Mitchel        Norm   \n2929          Lvl    AllPub     Inside        Mod      Mitchel        Norm   \n\n     Condition 2 Bldg Type House Style  Overall Qual  Overall Cond   \n0           Norm      1Fam      1Story             6             5  \\\n1           Norm      1Fam      1Story             5             6   \n2           Norm      1Fam      1Story             6             6   \n3           Norm      1Fam      1Story             7             5   \n4           Norm      1Fam      2Story             5             5   \n...          ...       ...         ...           ...           ...   \n2925        Norm      1Fam        SLvl             6             6   \n2926        Norm      1Fam      1Story             5             5   \n2927        Norm      1Fam      SFoyer             5             5   \n2928        Norm      1Fam      1Story             5             5   \n2929        Norm      1Fam      2Story             7             5   \n\n      Year Built  Year Remod/Add Roof Style Roof Matl Exterior 1st   \n0           1960            1960        Hip   CompShg      BrkFace  \\\n1           1961            1961      Gable   CompShg      VinylSd   \n2           1958            1958        Hip   CompShg      Wd Sdng   \n3           1968            1968        Hip   CompShg      BrkFace   \n4           1997            1998      Gable   CompShg      VinylSd   \n...          ...             ...        ...       ...          ...   \n2925        1984            1984      Gable   CompShg      HdBoard   \n2926        1983            1983      Gable   CompShg      HdBoard   \n2927        1992            1992      Gable   CompShg      HdBoard   \n2928        1974            1975      Gable   CompShg      HdBoard   \n2929        1993            1994      Gable   CompShg      HdBoard   \n\n     Exterior 2nd  Mas Vnr Area Exter Qual Exter Cond Foundation   \n0         Plywood         112.0         TA         TA     CBlock  \\\n1         VinylSd           0.0         TA         TA     CBlock   \n2         Wd Sdng         108.0         TA         TA     CBlock   \n3         BrkFace           0.0         Gd         TA     CBlock   \n4         VinylSd           0.0         TA         TA      PConc   \n...           ...           ...        ...        ...        ...   \n2925      HdBoard           0.0         TA         TA     CBlock   \n2926      HdBoard           0.0         TA         TA     CBlock   \n2927      Wd Shng           0.0         TA         TA      PConc   \n2928      HdBoard           0.0         TA         TA     CBlock   \n2929      HdBoard          94.0         TA         TA      PConc   \n\n      BsmtFin SF 1  BsmtFin SF 2  Bsmt Unf SF  Total Bsmt SF Heating   \n0            639.0           0.0        441.0         1080.0    GasA  \\\n1            468.0         144.0        270.0          882.0    GasA   \n2            923.0           0.0        406.0         1329.0    GasA   \n3           1065.0           0.0       1045.0         2110.0    GasA   \n4            791.0           0.0        137.0          928.0    GasA   \n...            ...           ...          ...            ...     ...   \n2925         819.0           0.0        184.0         1003.0    GasA   \n2926         301.0         324.0        239.0          864.0    GasA   \n2927         337.0           0.0        575.0          912.0    GasA   \n2928        1071.0         123.0        195.0         1389.0    GasA   \n2929         758.0           0.0        238.0          996.0    GasA   \n\n     Heating QC Central Air  1st Flr SF  2nd Flr SF  Low Qual Fin SF   \n0            Fa           Y        1656           0                0  \\\n1            TA           Y         896           0                0   \n2            TA           Y        1329           0                0   \n3            Ex           Y        2110           0                0   \n4            Gd           Y         928         701                0   \n...         ...         ...         ...         ...              ...   \n2925         TA           Y        1003           0                0   \n2926         TA           Y         902           0                0   \n2927         TA           Y         970           0                0   \n2928         Gd           Y        1389           0                0   \n2929         Ex           Y         996        1004                0   \n\n      Gr Liv Area  Bsmt Full Bath  Bsmt Half Bath  Full Bath  Half Bath   \n0            1656             1.0             0.0          1          0  \\\n1             896             0.0             0.0          1          0   \n2            1329             0.0             0.0          1          1   \n3            2110             1.0             0.0          2          1   \n4            1629             0.0             0.0          2          1   \n...           ...             ...             ...        ...        ...   \n2925         1003             1.0             0.0          1          0   \n2926          902             1.0             0.0          1          0   \n2927          970             0.0             1.0          1          0   \n2928         1389             1.0             0.0          1          0   \n2929         2000             0.0             0.0          2          1   \n\n      Bedroom AbvGr  Kitchen AbvGr Kitchen Qual  TotRms AbvGrd Functional   \n0                 3              1           TA              7        Typ  \\\n1                 2              1           TA              5        Typ   \n2                 3              1           Gd              6        Typ   \n3                 3              1           Ex              8        Typ   \n4                 3              1           TA              6        Typ   \n...             ...            ...          ...            ...        ...   \n2925              3              1           TA              6        Typ   \n2926              2              1           TA              5        Typ   \n2927              3              1           TA              6        Typ   \n2928              2              1           TA              6        Typ   \n2929              3              1           TA              9        Typ   \n\n      Fireplaces  Garage Cars  Garage Area Paved Drive  Wood Deck SF   \n0              2          2.0        528.0           P           210  \\\n1              0          1.0        730.0           Y           140   \n2              0          1.0        312.0           Y           393   \n3              2          2.0        522.0           Y             0   \n4              1          2.0        482.0           Y           212   \n...          ...          ...          ...         ...           ...   \n2925           0          2.0        588.0           Y           120   \n2926           0          2.0        484.0           Y           164   \n2927           0          0.0          0.0           Y            80   \n2928           1          2.0        418.0           Y           240   \n2929           1          3.0        650.0           Y           190   \n\n      Open Porch SF  Enclosed Porch  3Ssn Porch  Screen Porch  Pool Area   \n0                62               0           0             0          0  \\\n1                 0               0           0           120          0   \n2                36               0           0             0          0   \n3                 0               0           0             0          0   \n4                34               0           0             0          0   \n...             ...             ...         ...           ...        ...   \n2925              0               0           0             0          0   \n2926              0               0           0             0          0   \n2927             32               0           0             0          0   \n2928             38               0           0             0          0   \n2929             48               0           0             0          0   \n\n      Misc Val  Mo Sold  Yr Sold Sale Type Sale Condition  SalePrice  \n0            0        5     2010       WD          Normal     215000  \n1            0        6     2010       WD          Normal     105000  \n2        12500        6     2010       WD          Normal     172000  \n3            0        4     2010       WD          Normal     244000  \n4            0        3     2010       WD          Normal     189900  \n...        ...      ...      ...       ...            ...        ...  \n2925         0        3     2006       WD          Normal     142500  \n2926         0        6     2006       WD          Normal     131000  \n2927       700        7     2006       WD          Normal     132000  \n2928         0        4     2006       WD          Normal     170000  \n2929         0       11     2006       WD          Normal     188000  \n\n[2930 rows x 64 columns]",
      "text/html": "<div>\n<style scoped>\n    .dataframe tbody tr th:only-of-type {\n        vertical-align: middle;\n    }\n\n    .dataframe tbody tr th {\n        vertical-align: top;\n    }\n\n    .dataframe thead th {\n        text-align: right;\n    }\n</style>\n<table border=\"1\" class=\"dataframe\">\n  <thead>\n    <tr style=\"text-align: right;\">\n      <th></th>\n      <th>Order</th>\n      <th>PID</th>\n      <th>MS SubClass</th>\n      <th>MS Zoning</th>\n      <th>Lot Area</th>\n      <th>Street</th>\n      <th>Lot Shape</th>\n      <th>Land Contour</th>\n      <th>Utilities</th>\n      <th>Lot Config</th>\n      <th>Land Slope</th>\n      <th>Neighborhood</th>\n      <th>Condition 1</th>\n      <th>Condition 2</th>\n      <th>Bldg Type</th>\n      <th>House Style</th>\n      <th>Overall Qual</th>\n      <th>Overall Cond</th>\n      <th>Year Built</th>\n      <th>Year Remod/Add</th>\n      <th>Roof Style</th>\n      <th>Roof Matl</th>\n      <th>Exterior 1st</th>\n      <th>Exterior 2nd</th>\n      <th>Mas Vnr Area</th>\n      <th>Exter Qual</th>\n      <th>Exter Cond</th>\n      <th>Foundation</th>\n      <th>BsmtFin SF 1</th>\n      <th>BsmtFin SF 2</th>\n      <th>Bsmt Unf SF</th>\n      <th>Total Bsmt SF</th>\n      <th>Heating</th>\n      <th>Heating QC</th>\n      <th>Central Air</th>\n      <th>1st Flr SF</th>\n      <th>2nd Flr SF</th>\n      <th>Low Qual Fin SF</th>\n      <th>Gr Liv Area</th>\n      <th>Bsmt Full Bath</th>\n      <th>Bsmt Half Bath</th>\n      <th>Full Bath</th>\n      <th>Half Bath</th>\n      <th>Bedroom AbvGr</th>\n      <th>Kitchen AbvGr</th>\n      <th>Kitchen Qual</th>\n      <th>TotRms AbvGrd</th>\n      <th>Functional</th>\n      <th>Fireplaces</th>\n      <th>Garage Cars</th>\n      <th>Garage Area</th>\n      <th>Paved Drive</th>\n      <th>Wood Deck SF</th>\n      <th>Open Porch SF</th>\n      <th>Enclosed Porch</th>\n      <th>3Ssn Porch</th>\n      <th>Screen Porch</th>\n      <th>Pool Area</th>\n      <th>Misc Val</th>\n      <th>Mo Sold</th>\n      <th>Yr Sold</th>\n      <th>Sale Type</th>\n      <th>Sale Condition</th>\n      <th>SalePrice</th>\n    </tr>\n  </thead>\n  <tbody>\n    <tr>\n      <th>0</th>\n      <td>1</td>\n      <td>526301100</td>\n      <td>20</td>\n      <td>RL</td>\n      <td>31770</td>\n      <td>Pave</td>\n      <td>IR1</td>\n      <td>Lvl</td>\n      <td>AllPub</td>\n      <td>Corner</td>\n      <td>Gtl</td>\n      <td>NAmes</td>\n      <td>Norm</td>\n      <td>Norm</td>\n      <td>1Fam</td>\n      <td>1Story</td>\n      <td>6</td>\n      <td>5</td>\n      <td>1960</td>\n      <td>1960</td>\n      <td>Hip</td>\n      <td>CompShg</td>\n      <td>BrkFace</td>\n      <td>Plywood</td>\n      <td>112.0</td>\n      <td>TA</td>\n      <td>TA</td>\n      <td>CBlock</td>\n      <td>639.0</td>\n      <td>0.0</td>\n      <td>441.0</td>\n      <td>1080.0</td>\n      <td>GasA</td>\n      <td>Fa</td>\n      <td>Y</td>\n      <td>1656</td>\n      <td>0</td>\n      <td>0</td>\n      <td>1656</td>\n      <td>1.0</td>\n      <td>0.0</td>\n      <td>1</td>\n      <td>0</td>\n      <td>3</td>\n      <td>1</td>\n      <td>TA</td>\n      <td>7</td>\n      <td>Typ</td>\n      <td>2</td>\n      <td>2.0</td>\n      <td>528.0</td>\n      <td>P</td>\n      <td>210</td>\n      <td>62</td>\n      <td>0</td>\n      <td>0</td>\n      <td>0</td>\n      <td>0</td>\n      <td>0</td>\n      <td>5</td>\n      <td>2010</td>\n      <td>WD</td>\n      <td>Normal</td>\n      <td>215000</td>\n    </tr>\n    <tr>\n      <th>1</th>\n      <td>2</td>\n      <td>526350040</td>\n      <td>20</td>\n      <td>RH</td>\n      <td>11622</td>\n      <td>Pave</td>\n      <td>Reg</td>\n      <td>Lvl</td>\n      <td>AllPub</td>\n      <td>Inside</td>\n      <td>Gtl</td>\n      <td>NAmes</td>\n      <td>Feedr</td>\n      <td>Norm</td>\n      <td>1Fam</td>\n      <td>1Story</td>\n      <td>5</td>\n      <td>6</td>\n      <td>1961</td>\n      <td>1961</td>\n      <td>Gable</td>\n      <td>CompShg</td>\n      <td>VinylSd</td>\n      <td>VinylSd</td>\n      <td>0.0</td>\n      <td>TA</td>\n      <td>TA</td>\n      <td>CBlock</td>\n      <td>468.0</td>\n      <td>144.0</td>\n      <td>270.0</td>\n      <td>882.0</td>\n      <td>GasA</td>\n      <td>TA</td>\n      <td>Y</td>\n      <td>896</td>\n      <td>0</td>\n      <td>0</td>\n      <td>896</td>\n      <td>0.0</td>\n      <td>0.0</td>\n      <td>1</td>\n      <td>0</td>\n      <td>2</td>\n      <td>1</td>\n      <td>TA</td>\n      <td>5</td>\n      <td>Typ</td>\n      <td>0</td>\n      <td>1.0</td>\n      <td>730.0</td>\n      <td>Y</td>\n      <td>140</td>\n      <td>0</td>\n      <td>0</td>\n      <td>0</td>\n      <td>120</td>\n      <td>0</td>\n      <td>0</td>\n      <td>6</td>\n      <td>2010</td>\n      <td>WD</td>\n      <td>Normal</td>\n      <td>105000</td>\n    </tr>\n    <tr>\n      <th>2</th>\n      <td>3</td>\n      <td>526351010</td>\n      <td>20</td>\n      <td>RL</td>\n      <td>14267</td>\n      <td>Pave</td>\n      <td>IR1</td>\n      <td>Lvl</td>\n      <td>AllPub</td>\n      <td>Corner</td>\n      <td>Gtl</td>\n      <td>NAmes</td>\n      <td>Norm</td>\n      <td>Norm</td>\n      <td>1Fam</td>\n      <td>1Story</td>\n      <td>6</td>\n      <td>6</td>\n      <td>1958</td>\n      <td>1958</td>\n      <td>Hip</td>\n      <td>CompShg</td>\n      <td>Wd Sdng</td>\n      <td>Wd Sdng</td>\n      <td>108.0</td>\n      <td>TA</td>\n      <td>TA</td>\n      <td>CBlock</td>\n      <td>923.0</td>\n      <td>0.0</td>\n      <td>406.0</td>\n      <td>1329.0</td>\n      <td>GasA</td>\n      <td>TA</td>\n      <td>Y</td>\n      <td>1329</td>\n      <td>0</td>\n      <td>0</td>\n      <td>1329</td>\n      <td>0.0</td>\n      <td>0.0</td>\n      <td>1</td>\n      <td>1</td>\n      <td>3</td>\n      <td>1</td>\n      <td>Gd</td>\n      <td>6</td>\n      <td>Typ</td>\n      <td>0</td>\n      <td>1.0</td>\n      <td>312.0</td>\n      <td>Y</td>\n      <td>393</td>\n      <td>36</td>\n      <td>0</td>\n      <td>0</td>\n      <td>0</td>\n      <td>0</td>\n      <td>12500</td>\n      <td>6</td>\n      <td>2010</td>\n      <td>WD</td>\n      <td>Normal</td>\n      <td>172000</td>\n    </tr>\n    <tr>\n      <th>3</th>\n      <td>4</td>\n      <td>526353030</td>\n      <td>20</td>\n      <td>RL</td>\n      <td>11160</td>\n      <td>Pave</td>\n      <td>Reg</td>\n      <td>Lvl</td>\n      <td>AllPub</td>\n      <td>Corner</td>\n      <td>Gtl</td>\n      <td>NAmes</td>\n      <td>Norm</td>\n      <td>Norm</td>\n      <td>1Fam</td>\n      <td>1Story</td>\n      <td>7</td>\n      <td>5</td>\n      <td>1968</td>\n      <td>1968</td>\n      <td>Hip</td>\n      <td>CompShg</td>\n      <td>BrkFace</td>\n      <td>BrkFace</td>\n      <td>0.0</td>\n      <td>Gd</td>\n      <td>TA</td>\n      <td>CBlock</td>\n      <td>1065.0</td>\n      <td>0.0</td>\n      <td>1045.0</td>\n      <td>2110.0</td>\n      <td>GasA</td>\n      <td>Ex</td>\n      <td>Y</td>\n      <td>2110</td>\n      <td>0</td>\n      <td>0</td>\n      <td>2110</td>\n      <td>1.0</td>\n      <td>0.0</td>\n      <td>2</td>\n      <td>1</td>\n      <td>3</td>\n      <td>1</td>\n      <td>Ex</td>\n      <td>8</td>\n      <td>Typ</td>\n      <td>2</td>\n      <td>2.0</td>\n      <td>522.0</td>\n      <td>Y</td>\n      <td>0</td>\n      <td>0</td>\n      <td>0</td>\n      <td>0</td>\n      <td>0</td>\n      <td>0</td>\n      <td>0</td>\n      <td>4</td>\n      <td>2010</td>\n      <td>WD</td>\n      <td>Normal</td>\n      <td>244000</td>\n    </tr>\n    <tr>\n      <th>4</th>\n      <td>5</td>\n      <td>527105010</td>\n      <td>60</td>\n      <td>RL</td>\n      <td>13830</td>\n      <td>Pave</td>\n      <td>IR1</td>\n      <td>Lvl</td>\n      <td>AllPub</td>\n      <td>Inside</td>\n      <td>Gtl</td>\n      <td>Gilbert</td>\n      <td>Norm</td>\n      <td>Norm</td>\n      <td>1Fam</td>\n      <td>2Story</td>\n      <td>5</td>\n      <td>5</td>\n      <td>1997</td>\n      <td>1998</td>\n      <td>Gable</td>\n      <td>CompShg</td>\n      <td>VinylSd</td>\n      <td>VinylSd</td>\n      <td>0.0</td>\n      <td>TA</td>\n      <td>TA</td>\n      <td>PConc</td>\n      <td>791.0</td>\n      <td>0.0</td>\n      <td>137.0</td>\n      <td>928.0</td>\n      <td>GasA</td>\n      <td>Gd</td>\n      <td>Y</td>\n      <td>928</td>\n      <td>701</td>\n      <td>0</td>\n      <td>1629</td>\n      <td>0.0</td>\n      <td>0.0</td>\n      <td>2</td>\n      <td>1</td>\n      <td>3</td>\n      <td>1</td>\n      <td>TA</td>\n      <td>6</td>\n      <td>Typ</td>\n      <td>1</td>\n      <td>2.0</td>\n      <td>482.0</td>\n      <td>Y</td>\n      <td>212</td>\n      <td>34</td>\n      <td>0</td>\n      <td>0</td>\n      <td>0</td>\n      <td>0</td>\n      <td>0</td>\n      <td>3</td>\n      <td>2010</td>\n      <td>WD</td>\n      <td>Normal</td>\n      <td>189900</td>\n    </tr>\n    <tr>\n      <th>...</th>\n      <td>...</td>\n      <td>...</td>\n      <td>...</td>\n      <td>...</td>\n      <td>...</td>\n      <td>...</td>\n      <td>...</td>\n      <td>...</td>\n      <td>...</td>\n      <td>...</td>\n      <td>...</td>\n      <td>...</td>\n      <td>...</td>\n      <td>...</td>\n      <td>...</td>\n      <td>...</td>\n      <td>...</td>\n      <td>...</td>\n      <td>...</td>\n      <td>...</td>\n      <td>...</td>\n      <td>...</td>\n      <td>...</td>\n      <td>...</td>\n      <td>...</td>\n      <td>...</td>\n      <td>...</td>\n      <td>...</td>\n      <td>...</td>\n      <td>...</td>\n      <td>...</td>\n      <td>...</td>\n      <td>...</td>\n      <td>...</td>\n      <td>...</td>\n      <td>...</td>\n      <td>...</td>\n      <td>...</td>\n      <td>...</td>\n      <td>...</td>\n      <td>...</td>\n      <td>...</td>\n      <td>...</td>\n      <td>...</td>\n      <td>...</td>\n      <td>...</td>\n      <td>...</td>\n      <td>...</td>\n      <td>...</td>\n      <td>...</td>\n      <td>...</td>\n      <td>...</td>\n      <td>...</td>\n      <td>...</td>\n      <td>...</td>\n      <td>...</td>\n      <td>...</td>\n      <td>...</td>\n      <td>...</td>\n      <td>...</td>\n      <td>...</td>\n      <td>...</td>\n      <td>...</td>\n      <td>...</td>\n    </tr>\n    <tr>\n      <th>2925</th>\n      <td>2926</td>\n      <td>923275080</td>\n      <td>80</td>\n      <td>RL</td>\n      <td>7937</td>\n      <td>Pave</td>\n      <td>IR1</td>\n      <td>Lvl</td>\n      <td>AllPub</td>\n      <td>CulDSac</td>\n      <td>Gtl</td>\n      <td>Mitchel</td>\n      <td>Norm</td>\n      <td>Norm</td>\n      <td>1Fam</td>\n      <td>SLvl</td>\n      <td>6</td>\n      <td>6</td>\n      <td>1984</td>\n      <td>1984</td>\n      <td>Gable</td>\n      <td>CompShg</td>\n      <td>HdBoard</td>\n      <td>HdBoard</td>\n      <td>0.0</td>\n      <td>TA</td>\n      <td>TA</td>\n      <td>CBlock</td>\n      <td>819.0</td>\n      <td>0.0</td>\n      <td>184.0</td>\n      <td>1003.0</td>\n      <td>GasA</td>\n      <td>TA</td>\n      <td>Y</td>\n      <td>1003</td>\n      <td>0</td>\n      <td>0</td>\n      <td>1003</td>\n      <td>1.0</td>\n      <td>0.0</td>\n      <td>1</td>\n      <td>0</td>\n      <td>3</td>\n      <td>1</td>\n      <td>TA</td>\n      <td>6</td>\n      <td>Typ</td>\n      <td>0</td>\n      <td>2.0</td>\n      <td>588.0</td>\n      <td>Y</td>\n      <td>120</td>\n      <td>0</td>\n      <td>0</td>\n      <td>0</td>\n      <td>0</td>\n      <td>0</td>\n      <td>0</td>\n      <td>3</td>\n      <td>2006</td>\n      <td>WD</td>\n      <td>Normal</td>\n      <td>142500</td>\n    </tr>\n    <tr>\n      <th>2926</th>\n      <td>2927</td>\n      <td>923276100</td>\n      <td>20</td>\n      <td>RL</td>\n      <td>8885</td>\n      <td>Pave</td>\n      <td>IR1</td>\n      <td>Low</td>\n      <td>AllPub</td>\n      <td>Inside</td>\n      <td>Mod</td>\n      <td>Mitchel</td>\n      <td>Norm</td>\n      <td>Norm</td>\n      <td>1Fam</td>\n      <td>1Story</td>\n      <td>5</td>\n      <td>5</td>\n      <td>1983</td>\n      <td>1983</td>\n      <td>Gable</td>\n      <td>CompShg</td>\n      <td>HdBoard</td>\n      <td>HdBoard</td>\n      <td>0.0</td>\n      <td>TA</td>\n      <td>TA</td>\n      <td>CBlock</td>\n      <td>301.0</td>\n      <td>324.0</td>\n      <td>239.0</td>\n      <td>864.0</td>\n      <td>GasA</td>\n      <td>TA</td>\n      <td>Y</td>\n      <td>902</td>\n      <td>0</td>\n      <td>0</td>\n      <td>902</td>\n      <td>1.0</td>\n      <td>0.0</td>\n      <td>1</td>\n      <td>0</td>\n      <td>2</td>\n      <td>1</td>\n      <td>TA</td>\n      <td>5</td>\n      <td>Typ</td>\n      <td>0</td>\n      <td>2.0</td>\n      <td>484.0</td>\n      <td>Y</td>\n      <td>164</td>\n      <td>0</td>\n      <td>0</td>\n      <td>0</td>\n      <td>0</td>\n      <td>0</td>\n      <td>0</td>\n      <td>6</td>\n      <td>2006</td>\n      <td>WD</td>\n      <td>Normal</td>\n      <td>131000</td>\n    </tr>\n    <tr>\n      <th>2927</th>\n      <td>2928</td>\n      <td>923400125</td>\n      <td>85</td>\n      <td>RL</td>\n      <td>10441</td>\n      <td>Pave</td>\n      <td>Reg</td>\n      <td>Lvl</td>\n      <td>AllPub</td>\n      <td>Inside</td>\n      <td>Gtl</td>\n      <td>Mitchel</td>\n      <td>Norm</td>\n      <td>Norm</td>\n      <td>1Fam</td>\n      <td>SFoyer</td>\n      <td>5</td>\n      <td>5</td>\n      <td>1992</td>\n      <td>1992</td>\n      <td>Gable</td>\n      <td>CompShg</td>\n      <td>HdBoard</td>\n      <td>Wd Shng</td>\n      <td>0.0</td>\n      <td>TA</td>\n      <td>TA</td>\n      <td>PConc</td>\n      <td>337.0</td>\n      <td>0.0</td>\n      <td>575.0</td>\n      <td>912.0</td>\n      <td>GasA</td>\n      <td>TA</td>\n      <td>Y</td>\n      <td>970</td>\n      <td>0</td>\n      <td>0</td>\n      <td>970</td>\n      <td>0.0</td>\n      <td>1.0</td>\n      <td>1</td>\n      <td>0</td>\n      <td>3</td>\n      <td>1</td>\n      <td>TA</td>\n      <td>6</td>\n      <td>Typ</td>\n      <td>0</td>\n      <td>0.0</td>\n      <td>0.0</td>\n      <td>Y</td>\n      <td>80</td>\n      <td>32</td>\n      <td>0</td>\n      <td>0</td>\n      <td>0</td>\n      <td>0</td>\n      <td>700</td>\n      <td>7</td>\n      <td>2006</td>\n      <td>WD</td>\n      <td>Normal</td>\n      <td>132000</td>\n    </tr>\n    <tr>\n      <th>2928</th>\n      <td>2929</td>\n      <td>924100070</td>\n      <td>20</td>\n      <td>RL</td>\n      <td>10010</td>\n      <td>Pave</td>\n      <td>Reg</td>\n      <td>Lvl</td>\n      <td>AllPub</td>\n      <td>Inside</td>\n      <td>Mod</td>\n      <td>Mitchel</td>\n      <td>Norm</td>\n      <td>Norm</td>\n      <td>1Fam</td>\n      <td>1Story</td>\n      <td>5</td>\n      <td>5</td>\n      <td>1974</td>\n      <td>1975</td>\n      <td>Gable</td>\n      <td>CompShg</td>\n      <td>HdBoard</td>\n      <td>HdBoard</td>\n      <td>0.0</td>\n      <td>TA</td>\n      <td>TA</td>\n      <td>CBlock</td>\n      <td>1071.0</td>\n      <td>123.0</td>\n      <td>195.0</td>\n      <td>1389.0</td>\n      <td>GasA</td>\n      <td>Gd</td>\n      <td>Y</td>\n      <td>1389</td>\n      <td>0</td>\n      <td>0</td>\n      <td>1389</td>\n      <td>1.0</td>\n      <td>0.0</td>\n      <td>1</td>\n      <td>0</td>\n      <td>2</td>\n      <td>1</td>\n      <td>TA</td>\n      <td>6</td>\n      <td>Typ</td>\n      <td>1</td>\n      <td>2.0</td>\n      <td>418.0</td>\n      <td>Y</td>\n      <td>240</td>\n      <td>38</td>\n      <td>0</td>\n      <td>0</td>\n      <td>0</td>\n      <td>0</td>\n      <td>0</td>\n      <td>4</td>\n      <td>2006</td>\n      <td>WD</td>\n      <td>Normal</td>\n      <td>170000</td>\n    </tr>\n    <tr>\n      <th>2929</th>\n      <td>2930</td>\n      <td>924151050</td>\n      <td>60</td>\n      <td>RL</td>\n      <td>9627</td>\n      <td>Pave</td>\n      <td>Reg</td>\n      <td>Lvl</td>\n      <td>AllPub</td>\n      <td>Inside</td>\n      <td>Mod</td>\n      <td>Mitchel</td>\n      <td>Norm</td>\n      <td>Norm</td>\n      <td>1Fam</td>\n      <td>2Story</td>\n      <td>7</td>\n      <td>5</td>\n      <td>1993</td>\n      <td>1994</td>\n      <td>Gable</td>\n      <td>CompShg</td>\n      <td>HdBoard</td>\n      <td>HdBoard</td>\n      <td>94.0</td>\n      <td>TA</td>\n      <td>TA</td>\n      <td>PConc</td>\n      <td>758.0</td>\n      <td>0.0</td>\n      <td>238.0</td>\n      <td>996.0</td>\n      <td>GasA</td>\n      <td>Ex</td>\n      <td>Y</td>\n      <td>996</td>\n      <td>1004</td>\n      <td>0</td>\n      <td>2000</td>\n      <td>0.0</td>\n      <td>0.0</td>\n      <td>2</td>\n      <td>1</td>\n      <td>3</td>\n      <td>1</td>\n      <td>TA</td>\n      <td>9</td>\n      <td>Typ</td>\n      <td>1</td>\n      <td>3.0</td>\n      <td>650.0</td>\n      <td>Y</td>\n      <td>190</td>\n      <td>48</td>\n      <td>0</td>\n      <td>0</td>\n      <td>0</td>\n      <td>0</td>\n      <td>0</td>\n      <td>11</td>\n      <td>2006</td>\n      <td>WD</td>\n      <td>Normal</td>\n      <td>188000</td>\n    </tr>\n  </tbody>\n</table>\n<p>2930 rows × 64 columns</p>\n</div>"
     },
     "execution_count": 125,
     "metadata": {},
     "output_type": "execute_result"
    }
   ],
   "source": [
    "df"
   ],
   "metadata": {
    "collapsed": false,
    "ExecuteTime": {
     "end_time": "2023-11-03T02:40:41.069069Z",
     "start_time": "2023-11-03T02:40:40.521086Z"
    }
   }
  },
  {
   "cell_type": "markdown",
   "metadata": {},
   "source": [
    "What new features can we create, that better capture the information in some of the features?"
   ]
  },
  {
   "cell_type": "code",
   "execution_count": 126,
   "metadata": {
    "ExecuteTime": {
     "end_time": "2023-11-03T02:40:41.081039Z",
     "start_time": "2023-11-03T02:40:40.525728Z"
    }
   },
   "outputs": [
    {
     "data": {
      "text/plain": "2180   -1\ndtype: int64"
     },
     "execution_count": 126,
     "metadata": {},
     "output_type": "execute_result"
    }
   ],
   "source": [
    "years_sold = df['Yr Sold'] - df['Year Built']\n",
    "years_sold[years_sold < 0]"
   ]
  },
  {
   "cell_type": "code",
   "execution_count": 127,
   "metadata": {
    "ExecuteTime": {
     "end_time": "2023-11-03T02:40:41.081174Z",
     "start_time": "2023-11-03T02:40:40.533008Z"
    }
   },
   "outputs": [
    {
     "data": {
      "text/plain": "1702   -1\n2180   -2\n2181   -1\ndtype: int64"
     },
     "execution_count": 127,
     "metadata": {},
     "output_type": "execute_result"
    }
   ],
   "source": [
    "years_since_remod = df['Yr Sold'] - df['Year Remod/Add']\n",
    "years_since_remod[years_since_remod < 0]"
   ]
  },
  {
   "cell_type": "code",
   "execution_count": 128,
   "metadata": {
    "ExecuteTime": {
     "end_time": "2023-11-03T02:40:41.081250Z",
     "start_time": "2023-11-03T02:40:40.539324Z"
    }
   },
   "outputs": [],
   "source": [
    "## Create new columns\n",
    "df['Years Before Sale'] = years_sold\n",
    "df['Years Since Remod'] = years_since_remod\n",
    "\n",
    "## Drop rows with negative values for both of these new features\n",
    "df = df.drop([1702, 2180, 2181], axis=0)\n",
    "\n",
    "## No longer need original year columns\n",
    "df = df.drop([\"Year Built\", \"Year Remod/Add\"], axis = 1)"
   ]
  },
  {
   "cell_type": "markdown",
   "metadata": {},
   "source": [
    "Drop columns that:\n",
    "\n",
    "* that aren't useful for ML\n",
    "* leak data about the final sale, read more about columns [here](https://ww2.amstat.org/publications/jse/v19n3/decock/DataDocumentation.txt)"
   ]
  },
  {
   "cell_type": "code",
   "execution_count": 129,
   "metadata": {
    "ExecuteTime": {
     "end_time": "2023-11-03T02:40:41.081309Z",
     "start_time": "2023-11-03T02:40:40.549250Z"
    }
   },
   "outputs": [],
   "source": [
    "## Drop columns that aren't useful for ML\n",
    "df = df.drop([\"PID\", \"Order\"], axis=1)\n",
    "\n",
    "## Drop columns that leak info about the final sale\n",
    "df = df.drop([\"Mo Sold\", \"Sale Condition\", \"Sale Type\", \"Yr Sold\"], axis=1)"
   ]
  },
  {
   "cell_type": "markdown",
   "metadata": {},
   "source": [
    "Let's update transform_features()"
   ]
  },
  {
   "cell_type": "code",
   "execution_count": 130,
   "metadata": {
    "ExecuteTime": {
     "end_time": "2023-11-03T02:40:41.081456Z",
     "start_time": "2023-11-03T02:40:40.565652Z"
    }
   },
   "outputs": [
    {
     "data": {
      "text/plain": "55275.36731241307"
     },
     "execution_count": 130,
     "metadata": {},
     "output_type": "execute_result"
    }
   ],
   "source": [
    "# ver1\n",
    "def transform_features(df):\n",
    "    num_missing = df.isnull().sum()\n",
    "    drop_missing_cols = num_missing[(num_missing > len(df)/20)].sort_values()\n",
    "    df = df.drop(drop_missing_cols.index, axis=1)\n",
    "    \n",
    "    text_mv_counts = df.select_dtypes(include=['object']).isnull().sum().sort_values(ascending=False)\n",
    "    drop_missing_cols_2 = text_mv_counts[text_mv_counts > 0]\n",
    "    df = df.drop(drop_missing_cols_2.index, axis=1)\n",
    "    \n",
    "    num_missing = df.select_dtypes(include=['int', 'float']).isnull().sum()\n",
    "    fixable_numeric_cols = num_missing[(num_missing < len(df)/20) & (num_missing > 0)].sort_values()\n",
    "    replacement_values_dict = df[fixable_numeric_cols.index].mode().to_dict(orient='records')[0]\n",
    "    df = df.fillna(replacement_values_dict)\n",
    "    \n",
    "    years_sold = df['Yr Sold'] - df['Year Built']\n",
    "    years_since_remod = df['Yr Sold'] - df['Year Remod/Add']\n",
    "    df['Years Before Sale'] = years_sold\n",
    "    df['Years Since Remod'] = years_since_remod\n",
    "    df = df.drop([1702, 2180, 2181], axis=0)\n",
    "\n",
    "    df = df.drop([\"PID\", \"Order\", \"Mo Sold\", \"Sale Condition\", \"Sale Type\", \"Year Built\", \"Year Remod/Add\"], axis=1)\n",
    "    return df\n",
    "\n",
    "def select_features(df):\n",
    "    return df[[\"Gr Liv Area\", \"SalePrice\"]]\n",
    "\n",
    "def train_and_test(df):  \n",
    "    train = df[:1460]\n",
    "    test = df[1460:]\n",
    "    \n",
    "    ## You can use `pd.DataFrame.select_dtypes()` to specify column types\n",
    "    ## and return only those columns as a data frame.\n",
    "    numeric_train = train.select_dtypes(include=['integer', 'float'])\n",
    "    numeric_test = test.select_dtypes(include=['integer', 'float'])\n",
    "    \n",
    "    ## You can use `pd.Series.drop()` to drop a value.\n",
    "    features = numeric_train.columns.drop(\"SalePrice\")\n",
    "    lr = linear_model.LinearRegression()\n",
    "    lr.fit(train[features], train[\"SalePrice\"])\n",
    "    predictions = lr.predict(test[features])\n",
    "    mse = mean_squared_error(test[\"SalePrice\"], predictions)\n",
    "    rmse = np.sqrt(mse)\n",
    "    \n",
    "    return rmse\n",
    "\n",
    "df = pd.read_csv(\"AmesHousing.tsv\", delimiter=\"\\t\")\n",
    "transform_df = transform_features(df)\n",
    "filtered_df = select_features(transform_df)\n",
    "rmse = train_and_test(filtered_df)\n",
    "\n",
    "rmse"
   ]
  },
  {
   "cell_type": "markdown",
   "metadata": {},
   "source": [
    "# Feature Selection"
   ]
  },
  {
   "cell_type": "code",
   "execution_count": 131,
   "metadata": {
    "ExecuteTime": {
     "end_time": "2023-11-03T02:40:41.082438Z",
     "start_time": "2023-11-03T02:40:40.640715Z"
    }
   },
   "outputs": [
    {
     "data": {
      "text/plain": "   MS SubClass  Lot Area  Overall Qual  Overall Cond  Mas Vnr Area   \n0           20     31770             6             5         112.0  \\\n1           20     11622             5             6           0.0   \n2           20     14267             6             6         108.0   \n3           20     11160             7             5           0.0   \n4           60     13830             5             5           0.0   \n\n   BsmtFin SF 1  BsmtFin SF 2  Bsmt Unf SF  Total Bsmt SF  1st Flr SF   \n0         639.0           0.0        441.0         1080.0        1656  \\\n1         468.0         144.0        270.0          882.0         896   \n2         923.0           0.0        406.0         1329.0        1329   \n3        1065.0           0.0       1045.0         2110.0        2110   \n4         791.0           0.0        137.0          928.0         928   \n\n   2nd Flr SF  Low Qual Fin SF  Gr Liv Area  Bsmt Full Bath  Bsmt Half Bath   \n0           0                0         1656             1.0             0.0  \\\n1           0                0          896             0.0             0.0   \n2           0                0         1329             0.0             0.0   \n3           0                0         2110             1.0             0.0   \n4         701                0         1629             0.0             0.0   \n\n   Full Bath  Half Bath  Bedroom AbvGr  Kitchen AbvGr  TotRms AbvGrd   \n0          1          0              3              1              7  \\\n1          1          0              2              1              5   \n2          1          1              3              1              6   \n3          2          1              3              1              8   \n4          2          1              3              1              6   \n\n   Fireplaces  Garage Cars  Garage Area  Wood Deck SF  Open Porch SF   \n0           2          2.0        528.0           210             62  \\\n1           0          1.0        730.0           140              0   \n2           0          1.0        312.0           393             36   \n3           2          2.0        522.0             0              0   \n4           1          2.0        482.0           212             34   \n\n   Enclosed Porch  3Ssn Porch  Screen Porch  Pool Area  Misc Val  Yr Sold   \n0               0           0             0          0         0     2010  \\\n1               0           0           120          0         0     2010   \n2               0           0             0          0     12500     2010   \n3               0           0             0          0         0     2010   \n4               0           0             0          0         0     2010   \n\n   SalePrice  Years Before Sale  Years Since Remod  \n0     215000                 50                 50  \n1     105000                 49                 49  \n2     172000                 52                 52  \n3     244000                 42                 42  \n4     189900                 13                 12  ",
      "text/html": "<div>\n<style scoped>\n    .dataframe tbody tr th:only-of-type {\n        vertical-align: middle;\n    }\n\n    .dataframe tbody tr th {\n        vertical-align: top;\n    }\n\n    .dataframe thead th {\n        text-align: right;\n    }\n</style>\n<table border=\"1\" class=\"dataframe\">\n  <thead>\n    <tr style=\"text-align: right;\">\n      <th></th>\n      <th>MS SubClass</th>\n      <th>Lot Area</th>\n      <th>Overall Qual</th>\n      <th>Overall Cond</th>\n      <th>Mas Vnr Area</th>\n      <th>BsmtFin SF 1</th>\n      <th>BsmtFin SF 2</th>\n      <th>Bsmt Unf SF</th>\n      <th>Total Bsmt SF</th>\n      <th>1st Flr SF</th>\n      <th>2nd Flr SF</th>\n      <th>Low Qual Fin SF</th>\n      <th>Gr Liv Area</th>\n      <th>Bsmt Full Bath</th>\n      <th>Bsmt Half Bath</th>\n      <th>Full Bath</th>\n      <th>Half Bath</th>\n      <th>Bedroom AbvGr</th>\n      <th>Kitchen AbvGr</th>\n      <th>TotRms AbvGrd</th>\n      <th>Fireplaces</th>\n      <th>Garage Cars</th>\n      <th>Garage Area</th>\n      <th>Wood Deck SF</th>\n      <th>Open Porch SF</th>\n      <th>Enclosed Porch</th>\n      <th>3Ssn Porch</th>\n      <th>Screen Porch</th>\n      <th>Pool Area</th>\n      <th>Misc Val</th>\n      <th>Yr Sold</th>\n      <th>SalePrice</th>\n      <th>Years Before Sale</th>\n      <th>Years Since Remod</th>\n    </tr>\n  </thead>\n  <tbody>\n    <tr>\n      <th>0</th>\n      <td>20</td>\n      <td>31770</td>\n      <td>6</td>\n      <td>5</td>\n      <td>112.0</td>\n      <td>639.0</td>\n      <td>0.0</td>\n      <td>441.0</td>\n      <td>1080.0</td>\n      <td>1656</td>\n      <td>0</td>\n      <td>0</td>\n      <td>1656</td>\n      <td>1.0</td>\n      <td>0.0</td>\n      <td>1</td>\n      <td>0</td>\n      <td>3</td>\n      <td>1</td>\n      <td>7</td>\n      <td>2</td>\n      <td>2.0</td>\n      <td>528.0</td>\n      <td>210</td>\n      <td>62</td>\n      <td>0</td>\n      <td>0</td>\n      <td>0</td>\n      <td>0</td>\n      <td>0</td>\n      <td>2010</td>\n      <td>215000</td>\n      <td>50</td>\n      <td>50</td>\n    </tr>\n    <tr>\n      <th>1</th>\n      <td>20</td>\n      <td>11622</td>\n      <td>5</td>\n      <td>6</td>\n      <td>0.0</td>\n      <td>468.0</td>\n      <td>144.0</td>\n      <td>270.0</td>\n      <td>882.0</td>\n      <td>896</td>\n      <td>0</td>\n      <td>0</td>\n      <td>896</td>\n      <td>0.0</td>\n      <td>0.0</td>\n      <td>1</td>\n      <td>0</td>\n      <td>2</td>\n      <td>1</td>\n      <td>5</td>\n      <td>0</td>\n      <td>1.0</td>\n      <td>730.0</td>\n      <td>140</td>\n      <td>0</td>\n      <td>0</td>\n      <td>0</td>\n      <td>120</td>\n      <td>0</td>\n      <td>0</td>\n      <td>2010</td>\n      <td>105000</td>\n      <td>49</td>\n      <td>49</td>\n    </tr>\n    <tr>\n      <th>2</th>\n      <td>20</td>\n      <td>14267</td>\n      <td>6</td>\n      <td>6</td>\n      <td>108.0</td>\n      <td>923.0</td>\n      <td>0.0</td>\n      <td>406.0</td>\n      <td>1329.0</td>\n      <td>1329</td>\n      <td>0</td>\n      <td>0</td>\n      <td>1329</td>\n      <td>0.0</td>\n      <td>0.0</td>\n      <td>1</td>\n      <td>1</td>\n      <td>3</td>\n      <td>1</td>\n      <td>6</td>\n      <td>0</td>\n      <td>1.0</td>\n      <td>312.0</td>\n      <td>393</td>\n      <td>36</td>\n      <td>0</td>\n      <td>0</td>\n      <td>0</td>\n      <td>0</td>\n      <td>12500</td>\n      <td>2010</td>\n      <td>172000</td>\n      <td>52</td>\n      <td>52</td>\n    </tr>\n    <tr>\n      <th>3</th>\n      <td>20</td>\n      <td>11160</td>\n      <td>7</td>\n      <td>5</td>\n      <td>0.0</td>\n      <td>1065.0</td>\n      <td>0.0</td>\n      <td>1045.0</td>\n      <td>2110.0</td>\n      <td>2110</td>\n      <td>0</td>\n      <td>0</td>\n      <td>2110</td>\n      <td>1.0</td>\n      <td>0.0</td>\n      <td>2</td>\n      <td>1</td>\n      <td>3</td>\n      <td>1</td>\n      <td>8</td>\n      <td>2</td>\n      <td>2.0</td>\n      <td>522.0</td>\n      <td>0</td>\n      <td>0</td>\n      <td>0</td>\n      <td>0</td>\n      <td>0</td>\n      <td>0</td>\n      <td>0</td>\n      <td>2010</td>\n      <td>244000</td>\n      <td>42</td>\n      <td>42</td>\n    </tr>\n    <tr>\n      <th>4</th>\n      <td>60</td>\n      <td>13830</td>\n      <td>5</td>\n      <td>5</td>\n      <td>0.0</td>\n      <td>791.0</td>\n      <td>0.0</td>\n      <td>137.0</td>\n      <td>928.0</td>\n      <td>928</td>\n      <td>701</td>\n      <td>0</td>\n      <td>1629</td>\n      <td>0.0</td>\n      <td>0.0</td>\n      <td>2</td>\n      <td>1</td>\n      <td>3</td>\n      <td>1</td>\n      <td>6</td>\n      <td>1</td>\n      <td>2.0</td>\n      <td>482.0</td>\n      <td>212</td>\n      <td>34</td>\n      <td>0</td>\n      <td>0</td>\n      <td>0</td>\n      <td>0</td>\n      <td>0</td>\n      <td>2010</td>\n      <td>189900</td>\n      <td>13</td>\n      <td>12</td>\n    </tr>\n  </tbody>\n</table>\n</div>"
     },
     "execution_count": 131,
     "metadata": {},
     "output_type": "execute_result"
    }
   ],
   "source": [
    "numerical_df = transform_df.select_dtypes(include=['int64', 'float'])\n",
    "numerical_df.head(5)"
   ]
  },
  {
   "cell_type": "code",
   "execution_count": 132,
   "metadata": {
    "ExecuteTime": {
     "end_time": "2023-11-03T02:40:41.082590Z",
     "start_time": "2023-11-03T02:40:40.654874Z"
    }
   },
   "outputs": [
    {
     "data": {
      "text/plain": "BsmtFin SF 2         0.006127\nMisc Val             0.019273\nYr Sold              0.030358\n3Ssn Porch           0.032268\nBsmt Half Bath       0.035875\nLow Qual Fin SF      0.037629\nPool Area            0.068438\nMS SubClass          0.085128\nOverall Cond         0.101540\nScreen Porch         0.112280\nKitchen AbvGr        0.119760\nEnclosed Porch       0.128685\nBedroom AbvGr        0.143916\nBsmt Unf SF          0.182751\nLot Area             0.267520\n2nd Flr SF           0.269601\nBsmt Full Bath       0.276258\nHalf Bath            0.284871\nOpen Porch SF        0.316262\nWood Deck SF         0.328183\nBsmtFin SF 1         0.439284\nFireplaces           0.474831\nTotRms AbvGrd        0.498574\nMas Vnr Area         0.506983\nYears Since Remod    0.534985\nFull Bath            0.546118\nYears Before Sale    0.558979\n1st Flr SF           0.635185\nGarage Area          0.641425\nTotal Bsmt SF        0.644012\nGarage Cars          0.648361\nGr Liv Area          0.717596\nOverall Qual         0.801206\nSalePrice            1.000000\nName: SalePrice, dtype: float64"
     },
     "execution_count": 132,
     "metadata": {},
     "output_type": "execute_result"
    }
   ],
   "source": [
    "abs_corr_coeffs = numerical_df.corr()['SalePrice'].abs().sort_values()\n",
    "abs_corr_coeffs"
   ]
  },
  {
   "cell_type": "code",
   "execution_count": 133,
   "metadata": {
    "ExecuteTime": {
     "end_time": "2023-11-03T02:40:41.082719Z",
     "start_time": "2023-11-03T02:40:40.669581Z"
    }
   },
   "outputs": [
    {
     "data": {
      "text/plain": "BsmtFin SF 1         0.439284\nFireplaces           0.474831\nTotRms AbvGrd        0.498574\nMas Vnr Area         0.506983\nYears Since Remod    0.534985\nFull Bath            0.546118\nYears Before Sale    0.558979\n1st Flr SF           0.635185\nGarage Area          0.641425\nTotal Bsmt SF        0.644012\nGarage Cars          0.648361\nGr Liv Area          0.717596\nOverall Qual         0.801206\nSalePrice            1.000000\nName: SalePrice, dtype: float64"
     },
     "execution_count": 133,
     "metadata": {},
     "output_type": "execute_result"
    }
   ],
   "source": [
    "## Let's only keep columns with a correlation coefficient of larger than 0.4 (arbitrary, worth experimenting later!)\n",
    "abs_corr_coeffs[abs_corr_coeffs > 0.4]"
   ]
  },
  {
   "cell_type": "code",
   "execution_count": 134,
   "metadata": {
    "ExecuteTime": {
     "end_time": "2023-11-03T02:40:41.082781Z",
     "start_time": "2023-11-03T02:40:40.675140Z"
    }
   },
   "outputs": [],
   "source": [
    "## Drop columns with less than 0.4 correlation with SalePrice\n",
    "transform_df = transform_df.drop(abs_corr_coeffs[abs_corr_coeffs < 0.4].index, axis=1)"
   ]
  },
  {
   "cell_type": "code",
   "execution_count": 135,
   "outputs": [
    {
     "data": {
      "text/plain": "(2927, 39)"
     },
     "execution_count": 135,
     "metadata": {},
     "output_type": "execute_result"
    }
   ],
   "source": [
    "transform_df.shape"
   ],
   "metadata": {
    "collapsed": false,
    "ExecuteTime": {
     "end_time": "2023-11-03T02:40:45.726963Z",
     "start_time": "2023-11-03T02:40:45.695199Z"
    }
   }
  },
  {
   "cell_type": "markdown",
   "metadata": {},
   "source": [
    "Which categorical columns should we keep?"
   ]
  },
  {
   "cell_type": "code",
   "execution_count": 136,
   "metadata": {
    "ExecuteTime": {
     "end_time": "2023-11-03T02:40:49.225395Z",
     "start_time": "2023-11-03T02:40:49.200215Z"
    }
   },
   "outputs": [],
   "source": [
    "## Create a list of column names from documentation that are *meant* to be categorical\n",
    "nominal_features = [\"PID\", \"MS SubClass\", \"MS Zoning\", \"Street\", \"Alley\", \"Land Contour\", \"Lot Config\", \"Neighborhood\", \n",
    "                    \"Condition 1\", \"Condition 2\", \"Bldg Type\", \"House Style\", \"Roof Style\", \"Roof Matl\", \"Exterior 1st\", \n",
    "                    \"Exterior 2nd\", \"Mas Vnr Type\", \"Foundation\", \"Heating\", \"Central Air\", \"Garage Type\", \n",
    "                    \"Misc Feature\", \"Sale Type\", \"Sale Condition\"]"
   ]
  },
  {
   "cell_type": "markdown",
   "metadata": {},
   "source": [
    "* Which columns are currently numerical but need to be encoded as categorical instead (because the numbers don't have any semantic meaning)?\n",
    "* If a categorical column has hundreds of unique values (or categories), should we keep it? When we dummy code this column, hundreds of columns will need to be added back to the data frame."
   ]
  },
  {
   "cell_type": "code",
   "execution_count": 137,
   "metadata": {
    "ExecuteTime": {
     "end_time": "2023-11-03T02:40:54.900064Z",
     "start_time": "2023-11-03T02:40:54.860753Z"
    }
   },
   "outputs": [],
   "source": [
    "## Which categorical columns have we still carried with us? We'll test tehse \n",
    "transform_cat_cols = []\n",
    "for col in nominal_features:\n",
    "    if col in transform_df.columns:\n",
    "        transform_cat_cols.append(col)\n",
    "\n",
    "## How many unique values in each categorical column?\n",
    "uniqueness_counts = transform_df[transform_cat_cols].apply(lambda col: len(col.value_counts())).sort_values()\n",
    "\n",
    "## Aribtrary cutoff of 10 unique values (worth experimenting)\n",
    "drop_nonuniq_cols = uniqueness_counts[uniqueness_counts > 10].index\n",
    "transform_df = transform_df.drop(drop_nonuniq_cols, axis=1)"
   ]
  },
  {
   "cell_type": "code",
   "execution_count": 142,
   "outputs": [
    {
     "data": {
      "text/plain": "36"
     },
     "execution_count": 142,
     "metadata": {},
     "output_type": "execute_result"
    }
   ],
   "source": [
    "len(transform_df.columns)"
   ],
   "metadata": {
    "collapsed": false,
    "ExecuteTime": {
     "end_time": "2023-11-03T02:46:19.747824Z",
     "start_time": "2023-11-03T02:46:19.708255Z"
    }
   }
  },
  {
   "cell_type": "code",
   "execution_count": 139,
   "outputs": [
    {
     "data": {
      "text/plain": "16"
     },
     "execution_count": 139,
     "metadata": {},
     "output_type": "execute_result"
    }
   ],
   "source": [
    "len(uniqueness_counts)"
   ],
   "metadata": {
    "collapsed": false,
    "ExecuteTime": {
     "end_time": "2023-11-03T02:41:08.888699Z",
     "start_time": "2023-11-03T02:41:08.848681Z"
    }
   }
  },
  {
   "cell_type": "code",
   "execution_count": 110,
   "outputs": [
    {
     "data": {
      "text/plain": "(13,)"
     },
     "execution_count": 110,
     "metadata": {},
     "output_type": "execute_result"
    }
   ],
   "source": [
    "\n",
    "uniqueness_counts[uniqueness_counts <= 10].shape"
   ],
   "metadata": {
    "collapsed": false,
    "ExecuteTime": {
     "end_time": "2023-11-03T00:17:55.358764Z",
     "start_time": "2023-11-03T00:17:55.317337Z"
    }
   }
  },
  {
   "cell_type": "code",
   "execution_count": 94,
   "outputs": [
    {
     "data": {
      "text/plain": "(2927, 36)"
     },
     "execution_count": 94,
     "metadata": {},
     "output_type": "execute_result"
    }
   ],
   "source": [
    "transform_df.shape"
   ],
   "metadata": {
    "collapsed": false,
    "ExecuteTime": {
     "end_time": "2023-11-03T00:11:29.129485Z",
     "start_time": "2023-11-03T00:11:28.046259Z"
    }
   }
  },
  {
   "cell_type": "code",
   "execution_count": 95,
   "metadata": {
    "ExecuteTime": {
     "end_time": "2023-11-03T00:11:29.129537Z",
     "start_time": "2023-11-03T00:11:28.050660Z"
    }
   },
   "outputs": [],
   "source": [
    "## Select just the remaining text columns and convert to categorical\n",
    "text_cols = transform_df.select_dtypes(include=['object'])\n",
    "for col in text_cols:\n",
    "    transform_df[col] = transform_df[col].astype('category')\n",
    "    \n",
    "## Create dummy columns and add back to the dataframe!\n",
    "transform_df = pd.concat([\n",
    "    transform_df, \n",
    "    pd.get_dummies(transform_df.select_dtypes(include=['category']))\n",
    "], axis=1).drop(text_cols,axis=1)"
   ]
  },
  {
   "cell_type": "code",
   "execution_count": 96,
   "outputs": [
    {
     "data": {
      "text/plain": "      Overall Qual  Mas Vnr Area  BsmtFin SF 1  Total Bsmt SF  1st Flr SF   \n0                6         112.0         639.0         1080.0        1656  \\\n1                5           0.0         468.0          882.0         896   \n2                6         108.0         923.0         1329.0        1329   \n3                7           0.0        1065.0         2110.0        2110   \n4                5           0.0         791.0          928.0         928   \n...            ...           ...           ...            ...         ...   \n2925             6           0.0         819.0         1003.0        1003   \n2926             5           0.0         301.0          864.0         902   \n2927             5           0.0         337.0          912.0         970   \n2928             5           0.0        1071.0         1389.0        1389   \n2929             7          94.0         758.0          996.0         996   \n\n      Gr Liv Area  Full Bath  TotRms AbvGrd  Fireplaces  Garage Cars   \n0            1656          1              7           2          2.0  \\\n1             896          1              5           0          1.0   \n2            1329          1              6           0          1.0   \n3            2110          2              8           2          2.0   \n4            1629          2              6           1          2.0   \n...           ...        ...            ...         ...          ...   \n2925         1003          1              6           0          2.0   \n2926          902          1              5           0          2.0   \n2927          970          1              6           0          0.0   \n2928         1389          1              6           1          2.0   \n2929         2000          2              9           1          3.0   \n\n      Garage Area  SalePrice  Years Before Sale  Years Since Remod   \n0           528.0     215000                 50                 50  \\\n1           730.0     105000                 49                 49   \n2           312.0     172000                 52                 52   \n3           522.0     244000                 42                 42   \n4           482.0     189900                 13                 12   \n...           ...        ...                ...                ...   \n2925        588.0     142500                 22                 22   \n2926        484.0     131000                 23                 23   \n2927          0.0     132000                 14                 14   \n2928        418.0     170000                 32                 31   \n2929        650.0     188000                 13                 12   \n\n      MS Zoning_A (agr)  MS Zoning_C (all)  MS Zoning_FV  MS Zoning_I (all)   \n0                 False              False         False              False  \\\n1                 False              False         False              False   \n2                 False              False         False              False   \n3                 False              False         False              False   \n4                 False              False         False              False   \n...                 ...                ...           ...                ...   \n2925              False              False         False              False   \n2926              False              False         False              False   \n2927              False              False         False              False   \n2928              False              False         False              False   \n2929              False              False         False              False   \n\n      MS Zoning_RH  MS Zoning_RL  MS Zoning_RM  Street_Grvl  Street_Pave   \n0            False          True         False        False         True  \\\n1             True         False         False        False         True   \n2            False          True         False        False         True   \n3            False          True         False        False         True   \n4            False          True         False        False         True   \n...            ...           ...           ...          ...          ...   \n2925         False          True         False        False         True   \n2926         False          True         False        False         True   \n2927         False          True         False        False         True   \n2928         False          True         False        False         True   \n2929         False          True         False        False         True   \n\n      Lot Shape_IR1  Lot Shape_IR2  Lot Shape_IR3  Lot Shape_Reg   \n0              True          False          False          False  \\\n1             False          False          False           True   \n2              True          False          False          False   \n3             False          False          False           True   \n4              True          False          False          False   \n...             ...            ...            ...            ...   \n2925           True          False          False          False   \n2926           True          False          False          False   \n2927          False          False          False           True   \n2928          False          False          False           True   \n2929          False          False          False           True   \n\n      Land Contour_Bnk  Land Contour_HLS  Land Contour_Low  Land Contour_Lvl   \n0                False             False             False              True  \\\n1                False             False             False              True   \n2                False             False             False              True   \n3                False             False             False              True   \n4                False             False             False              True   \n...                ...               ...               ...               ...   \n2925             False             False             False              True   \n2926             False             False              True             False   \n2927             False             False             False              True   \n2928             False             False             False              True   \n2929             False             False             False              True   \n\n      Utilities_AllPub  Utilities_NoSeWa  Utilities_NoSewr  Lot Config_Corner   \n0                 True             False             False               True  \\\n1                 True             False             False              False   \n2                 True             False             False               True   \n3                 True             False             False               True   \n4                 True             False             False              False   \n...                ...               ...               ...                ...   \n2925              True             False             False              False   \n2926              True             False             False              False   \n2927              True             False             False              False   \n2928              True             False             False              False   \n2929              True             False             False              False   \n\n      Lot Config_CulDSac  Lot Config_FR2  Lot Config_FR3  Lot Config_Inside   \n0                  False           False           False              False  \\\n1                  False           False           False               True   \n2                  False           False           False              False   \n3                  False           False           False              False   \n4                  False           False           False               True   \n...                  ...             ...             ...                ...   \n2925                True           False           False              False   \n2926               False           False           False               True   \n2927               False           False           False               True   \n2928               False           False           False               True   \n2929               False           False           False               True   \n\n      Land Slope_Gtl  Land Slope_Mod  Land Slope_Sev  Condition 1_Artery   \n0               True           False           False               False  \\\n1               True           False           False               False   \n2               True           False           False               False   \n3               True           False           False               False   \n4               True           False           False               False   \n...              ...             ...             ...                 ...   \n2925            True           False           False               False   \n2926           False            True           False               False   \n2927            True           False           False               False   \n2928           False            True           False               False   \n2929           False            True           False               False   \n\n      Condition 1_Feedr  Condition 1_Norm  Condition 1_PosA  Condition 1_PosN   \n0                 False              True             False             False  \\\n1                  True             False             False             False   \n2                 False              True             False             False   \n3                 False              True             False             False   \n4                 False              True             False             False   \n...                 ...               ...               ...               ...   \n2925              False              True             False             False   \n2926              False              True             False             False   \n2927              False              True             False             False   \n2928              False              True             False             False   \n2929              False              True             False             False   \n\n      Condition 1_RRAe  Condition 1_RRAn  Condition 1_RRNe  Condition 1_RRNn   \n0                False             False             False             False  \\\n1                False             False             False             False   \n2                False             False             False             False   \n3                False             False             False             False   \n4                False             False             False             False   \n...                ...               ...               ...               ...   \n2925             False             False             False             False   \n2926             False             False             False             False   \n2927             False             False             False             False   \n2928             False             False             False             False   \n2929             False             False             False             False   \n\n      Condition 2_Artery  Condition 2_Feedr  Condition 2_Norm   \n0                  False              False              True  \\\n1                  False              False              True   \n2                  False              False              True   \n3                  False              False              True   \n4                  False              False              True   \n...                  ...                ...               ...   \n2925               False              False              True   \n2926               False              False              True   \n2927               False              False              True   \n2928               False              False              True   \n2929               False              False              True   \n\n      Condition 2_PosA  Condition 2_PosN  Condition 2_RRAe  Condition 2_RRAn   \n0                False             False             False             False  \\\n1                False             False             False             False   \n2                False             False             False             False   \n3                False             False             False             False   \n4                False             False             False             False   \n...                ...               ...               ...               ...   \n2925             False             False             False             False   \n2926             False             False             False             False   \n2927             False             False             False             False   \n2928             False             False             False             False   \n2929             False             False             False             False   \n\n      Condition 2_RRNn  Bldg Type_1Fam  Bldg Type_2fmCon  Bldg Type_Duplex   \n0                False            True             False             False  \\\n1                False            True             False             False   \n2                False            True             False             False   \n3                False            True             False             False   \n4                False            True             False             False   \n...                ...             ...               ...               ...   \n2925             False            True             False             False   \n2926             False            True             False             False   \n2927             False            True             False             False   \n2928             False            True             False             False   \n2929             False            True             False             False   \n\n      Bldg Type_Twnhs  Bldg Type_TwnhsE  House Style_1.5Fin   \n0               False             False               False  \\\n1               False             False               False   \n2               False             False               False   \n3               False             False               False   \n4               False             False               False   \n...               ...               ...                 ...   \n2925            False             False               False   \n2926            False             False               False   \n2927            False             False               False   \n2928            False             False               False   \n2929            False             False               False   \n\n      House Style_1.5Unf  House Style_1Story  House Style_2.5Fin   \n0                  False                True               False  \\\n1                  False                True               False   \n2                  False                True               False   \n3                  False                True               False   \n4                  False               False               False   \n...                  ...                 ...                 ...   \n2925               False               False               False   \n2926               False                True               False   \n2927               False               False               False   \n2928               False                True               False   \n2929               False               False               False   \n\n      House Style_2.5Unf  House Style_2Story  House Style_SFoyer   \n0                  False               False               False  \\\n1                  False               False               False   \n2                  False               False               False   \n3                  False               False               False   \n4                  False                True               False   \n...                  ...                 ...                 ...   \n2925               False               False               False   \n2926               False               False               False   \n2927               False               False                True   \n2928               False               False               False   \n2929               False                True               False   \n\n      House Style_SLvl  Roof Style_Flat  Roof Style_Gable  Roof Style_Gambrel   \n0                False            False             False               False  \\\n1                False            False              True               False   \n2                False            False             False               False   \n3                False            False             False               False   \n4                False            False              True               False   \n...                ...              ...               ...                 ...   \n2925              True            False              True               False   \n2926             False            False              True               False   \n2927             False            False              True               False   \n2928             False            False              True               False   \n2929             False            False              True               False   \n\n      Roof Style_Hip  Roof Style_Mansard  Roof Style_Shed  Roof Matl_ClyTile   \n0               True               False            False              False  \\\n1              False               False            False              False   \n2               True               False            False              False   \n3               True               False            False              False   \n4              False               False            False              False   \n...              ...                 ...              ...                ...   \n2925           False               False            False              False   \n2926           False               False            False              False   \n2927           False               False            False              False   \n2928           False               False            False              False   \n2929           False               False            False              False   \n\n      Roof Matl_CompShg  Roof Matl_Membran  Roof Matl_Metal  Roof Matl_Roll   \n0                  True              False            False           False  \\\n1                  True              False            False           False   \n2                  True              False            False           False   \n3                  True              False            False           False   \n4                  True              False            False           False   \n...                 ...                ...              ...             ...   \n2925               True              False            False           False   \n2926               True              False            False           False   \n2927               True              False            False           False   \n2928               True              False            False           False   \n2929               True              False            False           False   \n\n      Roof Matl_Tar&Grv  Roof Matl_WdShake  Roof Matl_WdShngl  Exter Qual_Ex   \n0                 False              False              False          False  \\\n1                 False              False              False          False   \n2                 False              False              False          False   \n3                 False              False              False          False   \n4                 False              False              False          False   \n...                 ...                ...                ...            ...   \n2925              False              False              False          False   \n2926              False              False              False          False   \n2927              False              False              False          False   \n2928              False              False              False          False   \n2929              False              False              False          False   \n\n      Exter Qual_Fa  Exter Qual_Gd  Exter Qual_TA  Exter Cond_Ex   \n0             False          False           True          False  \\\n1             False          False           True          False   \n2             False          False           True          False   \n3             False           True          False          False   \n4             False          False           True          False   \n...             ...            ...            ...            ...   \n2925          False          False           True          False   \n2926          False          False           True          False   \n2927          False          False           True          False   \n2928          False          False           True          False   \n2929          False          False           True          False   \n\n      Exter Cond_Fa  Exter Cond_Gd  Exter Cond_Po  Exter Cond_TA   \n0             False          False          False           True  \\\n1             False          False          False           True   \n2             False          False          False           True   \n3             False          False          False           True   \n4             False          False          False           True   \n...             ...            ...            ...            ...   \n2925          False          False          False           True   \n2926          False          False          False           True   \n2927          False          False          False           True   \n2928          False          False          False           True   \n2929          False          False          False           True   \n\n      Foundation_BrkTil  Foundation_CBlock  Foundation_PConc  Foundation_Slab   \n0                 False               True             False            False  \\\n1                 False               True             False            False   \n2                 False               True             False            False   \n3                 False               True             False            False   \n4                 False              False              True            False   \n...                 ...                ...               ...              ...   \n2925              False               True             False            False   \n2926              False               True             False            False   \n2927              False              False              True            False   \n2928              False               True             False            False   \n2929              False              False              True            False   \n\n      Foundation_Stone  Foundation_Wood  Heating_Floor  Heating_GasA   \n0                False            False          False          True  \\\n1                False            False          False          True   \n2                False            False          False          True   \n3                False            False          False          True   \n4                False            False          False          True   \n...                ...              ...            ...           ...   \n2925             False            False          False          True   \n2926             False            False          False          True   \n2927             False            False          False          True   \n2928             False            False          False          True   \n2929             False            False          False          True   \n\n      Heating_GasW  Heating_Grav  Heating_OthW  Heating_Wall  Heating QC_Ex   \n0            False         False         False         False          False  \\\n1            False         False         False         False          False   \n2            False         False         False         False          False   \n3            False         False         False         False           True   \n4            False         False         False         False          False   \n...            ...           ...           ...           ...            ...   \n2925         False         False         False         False          False   \n2926         False         False         False         False          False   \n2927         False         False         False         False          False   \n2928         False         False         False         False          False   \n2929         False         False         False         False           True   \n\n      Heating QC_Fa  Heating QC_Gd  Heating QC_Po  Heating QC_TA   \n0              True          False          False          False  \\\n1             False          False          False           True   \n2             False          False          False           True   \n3             False          False          False          False   \n4             False           True          False          False   \n...             ...            ...            ...            ...   \n2925          False          False          False           True   \n2926          False          False          False           True   \n2927          False          False          False           True   \n2928          False           True          False          False   \n2929          False          False          False          False   \n\n      Central Air_N  Central Air_Y  Kitchen Qual_Ex  Kitchen Qual_Fa   \n0             False           True            False            False  \\\n1             False           True            False            False   \n2             False           True            False            False   \n3             False           True             True            False   \n4             False           True            False            False   \n...             ...            ...              ...              ...   \n2925          False           True            False            False   \n2926          False           True            False            False   \n2927          False           True            False            False   \n2928          False           True            False            False   \n2929          False           True            False            False   \n\n      Kitchen Qual_Gd  Kitchen Qual_Po  Kitchen Qual_TA  Functional_Maj1   \n0               False            False             True            False  \\\n1               False            False             True            False   \n2                True            False            False            False   \n3               False            False            False            False   \n4               False            False             True            False   \n...               ...              ...              ...              ...   \n2925            False            False             True            False   \n2926            False            False             True            False   \n2927            False            False             True            False   \n2928            False            False             True            False   \n2929            False            False             True            False   \n\n      Functional_Maj2  Functional_Min1  Functional_Min2  Functional_Mod   \n0               False            False            False           False  \\\n1               False            False            False           False   \n2               False            False            False           False   \n3               False            False            False           False   \n4               False            False            False           False   \n...               ...              ...              ...             ...   \n2925            False            False            False           False   \n2926            False            False            False           False   \n2927            False            False            False           False   \n2928            False            False            False           False   \n2929            False            False            False           False   \n\n      Functional_Sal  Functional_Sev  Functional_Typ  Paved Drive_N   \n0              False           False            True          False  \\\n1              False           False            True          False   \n2              False           False            True          False   \n3              False           False            True          False   \n4              False           False            True          False   \n...              ...             ...             ...            ...   \n2925           False           False            True          False   \n2926           False           False            True          False   \n2927           False           False            True          False   \n2928           False           False            True          False   \n2929           False           False            True          False   \n\n      Paved Drive_P  Paved Drive_Y  \n0              True          False  \n1             False           True  \n2             False           True  \n3             False           True  \n4             False           True  \n...             ...            ...  \n2925          False           True  \n2926          False           True  \n2927          False           True  \n2928          False           True  \n2929          False           True  \n\n[2927 rows x 130 columns]",
      "text/html": "<div>\n<style scoped>\n    .dataframe tbody tr th:only-of-type {\n        vertical-align: middle;\n    }\n\n    .dataframe tbody tr th {\n        vertical-align: top;\n    }\n\n    .dataframe thead th {\n        text-align: right;\n    }\n</style>\n<table border=\"1\" class=\"dataframe\">\n  <thead>\n    <tr style=\"text-align: right;\">\n      <th></th>\n      <th>Overall Qual</th>\n      <th>Mas Vnr Area</th>\n      <th>BsmtFin SF 1</th>\n      <th>Total Bsmt SF</th>\n      <th>1st Flr SF</th>\n      <th>Gr Liv Area</th>\n      <th>Full Bath</th>\n      <th>TotRms AbvGrd</th>\n      <th>Fireplaces</th>\n      <th>Garage Cars</th>\n      <th>Garage Area</th>\n      <th>SalePrice</th>\n      <th>Years Before Sale</th>\n      <th>Years Since Remod</th>\n      <th>MS Zoning_A (agr)</th>\n      <th>MS Zoning_C (all)</th>\n      <th>MS Zoning_FV</th>\n      <th>MS Zoning_I (all)</th>\n      <th>MS Zoning_RH</th>\n      <th>MS Zoning_RL</th>\n      <th>MS Zoning_RM</th>\n      <th>Street_Grvl</th>\n      <th>Street_Pave</th>\n      <th>Lot Shape_IR1</th>\n      <th>Lot Shape_IR2</th>\n      <th>Lot Shape_IR3</th>\n      <th>Lot Shape_Reg</th>\n      <th>Land Contour_Bnk</th>\n      <th>Land Contour_HLS</th>\n      <th>Land Contour_Low</th>\n      <th>Land Contour_Lvl</th>\n      <th>Utilities_AllPub</th>\n      <th>Utilities_NoSeWa</th>\n      <th>Utilities_NoSewr</th>\n      <th>Lot Config_Corner</th>\n      <th>Lot Config_CulDSac</th>\n      <th>Lot Config_FR2</th>\n      <th>Lot Config_FR3</th>\n      <th>Lot Config_Inside</th>\n      <th>Land Slope_Gtl</th>\n      <th>Land Slope_Mod</th>\n      <th>Land Slope_Sev</th>\n      <th>Condition 1_Artery</th>\n      <th>Condition 1_Feedr</th>\n      <th>Condition 1_Norm</th>\n      <th>Condition 1_PosA</th>\n      <th>Condition 1_PosN</th>\n      <th>Condition 1_RRAe</th>\n      <th>Condition 1_RRAn</th>\n      <th>Condition 1_RRNe</th>\n      <th>Condition 1_RRNn</th>\n      <th>Condition 2_Artery</th>\n      <th>Condition 2_Feedr</th>\n      <th>Condition 2_Norm</th>\n      <th>Condition 2_PosA</th>\n      <th>Condition 2_PosN</th>\n      <th>Condition 2_RRAe</th>\n      <th>Condition 2_RRAn</th>\n      <th>Condition 2_RRNn</th>\n      <th>Bldg Type_1Fam</th>\n      <th>Bldg Type_2fmCon</th>\n      <th>Bldg Type_Duplex</th>\n      <th>Bldg Type_Twnhs</th>\n      <th>Bldg Type_TwnhsE</th>\n      <th>House Style_1.5Fin</th>\n      <th>House Style_1.5Unf</th>\n      <th>House Style_1Story</th>\n      <th>House Style_2.5Fin</th>\n      <th>House Style_2.5Unf</th>\n      <th>House Style_2Story</th>\n      <th>House Style_SFoyer</th>\n      <th>House Style_SLvl</th>\n      <th>Roof Style_Flat</th>\n      <th>Roof Style_Gable</th>\n      <th>Roof Style_Gambrel</th>\n      <th>Roof Style_Hip</th>\n      <th>Roof Style_Mansard</th>\n      <th>Roof Style_Shed</th>\n      <th>Roof Matl_ClyTile</th>\n      <th>Roof Matl_CompShg</th>\n      <th>Roof Matl_Membran</th>\n      <th>Roof Matl_Metal</th>\n      <th>Roof Matl_Roll</th>\n      <th>Roof Matl_Tar&amp;Grv</th>\n      <th>Roof Matl_WdShake</th>\n      <th>Roof Matl_WdShngl</th>\n      <th>Exter Qual_Ex</th>\n      <th>Exter Qual_Fa</th>\n      <th>Exter Qual_Gd</th>\n      <th>Exter Qual_TA</th>\n      <th>Exter Cond_Ex</th>\n      <th>Exter Cond_Fa</th>\n      <th>Exter Cond_Gd</th>\n      <th>Exter Cond_Po</th>\n      <th>Exter Cond_TA</th>\n      <th>Foundation_BrkTil</th>\n      <th>Foundation_CBlock</th>\n      <th>Foundation_PConc</th>\n      <th>Foundation_Slab</th>\n      <th>Foundation_Stone</th>\n      <th>Foundation_Wood</th>\n      <th>Heating_Floor</th>\n      <th>Heating_GasA</th>\n      <th>Heating_GasW</th>\n      <th>Heating_Grav</th>\n      <th>Heating_OthW</th>\n      <th>Heating_Wall</th>\n      <th>Heating QC_Ex</th>\n      <th>Heating QC_Fa</th>\n      <th>Heating QC_Gd</th>\n      <th>Heating QC_Po</th>\n      <th>Heating QC_TA</th>\n      <th>Central Air_N</th>\n      <th>Central Air_Y</th>\n      <th>Kitchen Qual_Ex</th>\n      <th>Kitchen Qual_Fa</th>\n      <th>Kitchen Qual_Gd</th>\n      <th>Kitchen Qual_Po</th>\n      <th>Kitchen Qual_TA</th>\n      <th>Functional_Maj1</th>\n      <th>Functional_Maj2</th>\n      <th>Functional_Min1</th>\n      <th>Functional_Min2</th>\n      <th>Functional_Mod</th>\n      <th>Functional_Sal</th>\n      <th>Functional_Sev</th>\n      <th>Functional_Typ</th>\n      <th>Paved Drive_N</th>\n      <th>Paved Drive_P</th>\n      <th>Paved Drive_Y</th>\n    </tr>\n  </thead>\n  <tbody>\n    <tr>\n      <th>0</th>\n      <td>6</td>\n      <td>112.0</td>\n      <td>639.0</td>\n      <td>1080.0</td>\n      <td>1656</td>\n      <td>1656</td>\n      <td>1</td>\n      <td>7</td>\n      <td>2</td>\n      <td>2.0</td>\n      <td>528.0</td>\n      <td>215000</td>\n      <td>50</td>\n      <td>50</td>\n      <td>False</td>\n      <td>False</td>\n      <td>False</td>\n      <td>False</td>\n      <td>False</td>\n      <td>True</td>\n      <td>False</td>\n      <td>False</td>\n      <td>True</td>\n      <td>True</td>\n      <td>False</td>\n      <td>False</td>\n      <td>False</td>\n      <td>False</td>\n      <td>False</td>\n      <td>False</td>\n      <td>True</td>\n      <td>True</td>\n      <td>False</td>\n      <td>False</td>\n      <td>True</td>\n      <td>False</td>\n      <td>False</td>\n      <td>False</td>\n      <td>False</td>\n      <td>True</td>\n      <td>False</td>\n      <td>False</td>\n      <td>False</td>\n      <td>False</td>\n      <td>True</td>\n      <td>False</td>\n      <td>False</td>\n      <td>False</td>\n      <td>False</td>\n      <td>False</td>\n      <td>False</td>\n      <td>False</td>\n      <td>False</td>\n      <td>True</td>\n      <td>False</td>\n      <td>False</td>\n      <td>False</td>\n      <td>False</td>\n      <td>False</td>\n      <td>True</td>\n      <td>False</td>\n      <td>False</td>\n      <td>False</td>\n      <td>False</td>\n      <td>False</td>\n      <td>False</td>\n      <td>True</td>\n      <td>False</td>\n      <td>False</td>\n      <td>False</td>\n      <td>False</td>\n      <td>False</td>\n      <td>False</td>\n      <td>False</td>\n      <td>False</td>\n      <td>True</td>\n      <td>False</td>\n      <td>False</td>\n      <td>False</td>\n      <td>True</td>\n      <td>False</td>\n      <td>False</td>\n      <td>False</td>\n      <td>False</td>\n      <td>False</td>\n      <td>False</td>\n      <td>False</td>\n      <td>False</td>\n      <td>False</td>\n      <td>True</td>\n      <td>False</td>\n      <td>False</td>\n      <td>False</td>\n      <td>False</td>\n      <td>True</td>\n      <td>False</td>\n      <td>True</td>\n      <td>False</td>\n      <td>False</td>\n      <td>False</td>\n      <td>False</td>\n      <td>False</td>\n      <td>True</td>\n      <td>False</td>\n      <td>False</td>\n      <td>False</td>\n      <td>False</td>\n      <td>False</td>\n      <td>True</td>\n      <td>False</td>\n      <td>False</td>\n      <td>False</td>\n      <td>False</td>\n      <td>True</td>\n      <td>False</td>\n      <td>False</td>\n      <td>False</td>\n      <td>False</td>\n      <td>True</td>\n      <td>False</td>\n      <td>False</td>\n      <td>False</td>\n      <td>False</td>\n      <td>False</td>\n      <td>False</td>\n      <td>False</td>\n      <td>True</td>\n      <td>False</td>\n      <td>True</td>\n      <td>False</td>\n    </tr>\n    <tr>\n      <th>1</th>\n      <td>5</td>\n      <td>0.0</td>\n      <td>468.0</td>\n      <td>882.0</td>\n      <td>896</td>\n      <td>896</td>\n      <td>1</td>\n      <td>5</td>\n      <td>0</td>\n      <td>1.0</td>\n      <td>730.0</td>\n      <td>105000</td>\n      <td>49</td>\n      <td>49</td>\n      <td>False</td>\n      <td>False</td>\n      <td>False</td>\n      <td>False</td>\n      <td>True</td>\n      <td>False</td>\n      <td>False</td>\n      <td>False</td>\n      <td>True</td>\n      <td>False</td>\n      <td>False</td>\n      <td>False</td>\n      <td>True</td>\n      <td>False</td>\n      <td>False</td>\n      <td>False</td>\n      <td>True</td>\n      <td>True</td>\n      <td>False</td>\n      <td>False</td>\n      <td>False</td>\n      <td>False</td>\n      <td>False</td>\n      <td>False</td>\n      <td>True</td>\n      <td>True</td>\n      <td>False</td>\n      <td>False</td>\n      <td>False</td>\n      <td>True</td>\n      <td>False</td>\n      <td>False</td>\n      <td>False</td>\n      <td>False</td>\n      <td>False</td>\n      <td>False</td>\n      <td>False</td>\n      <td>False</td>\n      <td>False</td>\n      <td>True</td>\n      <td>False</td>\n      <td>False</td>\n      <td>False</td>\n      <td>False</td>\n      <td>False</td>\n      <td>True</td>\n      <td>False</td>\n      <td>False</td>\n      <td>False</td>\n      <td>False</td>\n      <td>False</td>\n      <td>False</td>\n      <td>True</td>\n      <td>False</td>\n      <td>False</td>\n      <td>False</td>\n      <td>False</td>\n      <td>False</td>\n      <td>False</td>\n      <td>True</td>\n      <td>False</td>\n      <td>False</td>\n      <td>False</td>\n      <td>False</td>\n      <td>False</td>\n      <td>True</td>\n      <td>False</td>\n      <td>False</td>\n      <td>False</td>\n      <td>False</td>\n      <td>False</td>\n      <td>False</td>\n      <td>False</td>\n      <td>False</td>\n      <td>False</td>\n      <td>True</td>\n      <td>False</td>\n      <td>False</td>\n      <td>False</td>\n      <td>False</td>\n      <td>True</td>\n      <td>False</td>\n      <td>True</td>\n      <td>False</td>\n      <td>False</td>\n      <td>False</td>\n      <td>False</td>\n      <td>False</td>\n      <td>True</td>\n      <td>False</td>\n      <td>False</td>\n      <td>False</td>\n      <td>False</td>\n      <td>False</td>\n      <td>False</td>\n      <td>False</td>\n      <td>False</td>\n      <td>True</td>\n      <td>False</td>\n      <td>True</td>\n      <td>False</td>\n      <td>False</td>\n      <td>False</td>\n      <td>False</td>\n      <td>True</td>\n      <td>False</td>\n      <td>False</td>\n      <td>False</td>\n      <td>False</td>\n      <td>False</td>\n      <td>False</td>\n      <td>False</td>\n      <td>True</td>\n      <td>False</td>\n      <td>False</td>\n      <td>True</td>\n    </tr>\n    <tr>\n      <th>2</th>\n      <td>6</td>\n      <td>108.0</td>\n      <td>923.0</td>\n      <td>1329.0</td>\n      <td>1329</td>\n      <td>1329</td>\n      <td>1</td>\n      <td>6</td>\n      <td>0</td>\n      <td>1.0</td>\n      <td>312.0</td>\n      <td>172000</td>\n      <td>52</td>\n      <td>52</td>\n      <td>False</td>\n      <td>False</td>\n      <td>False</td>\n      <td>False</td>\n      <td>False</td>\n      <td>True</td>\n      <td>False</td>\n      <td>False</td>\n      <td>True</td>\n      <td>True</td>\n      <td>False</td>\n      <td>False</td>\n      <td>False</td>\n      <td>False</td>\n      <td>False</td>\n      <td>False</td>\n      <td>True</td>\n      <td>True</td>\n      <td>False</td>\n      <td>False</td>\n      <td>True</td>\n      <td>False</td>\n      <td>False</td>\n      <td>False</td>\n      <td>False</td>\n      <td>True</td>\n      <td>False</td>\n      <td>False</td>\n      <td>False</td>\n      <td>False</td>\n      <td>True</td>\n      <td>False</td>\n      <td>False</td>\n      <td>False</td>\n      <td>False</td>\n      <td>False</td>\n      <td>False</td>\n      <td>False</td>\n      <td>False</td>\n      <td>True</td>\n      <td>False</td>\n      <td>False</td>\n      <td>False</td>\n      <td>False</td>\n      <td>False</td>\n      <td>True</td>\n      <td>False</td>\n      <td>False</td>\n      <td>False</td>\n      <td>False</td>\n      <td>False</td>\n      <td>False</td>\n      <td>True</td>\n      <td>False</td>\n      <td>False</td>\n      <td>False</td>\n      <td>False</td>\n      <td>False</td>\n      <td>False</td>\n      <td>False</td>\n      <td>False</td>\n      <td>True</td>\n      <td>False</td>\n      <td>False</td>\n      <td>False</td>\n      <td>True</td>\n      <td>False</td>\n      <td>False</td>\n      <td>False</td>\n      <td>False</td>\n      <td>False</td>\n      <td>False</td>\n      <td>False</td>\n      <td>False</td>\n      <td>False</td>\n      <td>True</td>\n      <td>False</td>\n      <td>False</td>\n      <td>False</td>\n      <td>False</td>\n      <td>True</td>\n      <td>False</td>\n      <td>True</td>\n      <td>False</td>\n      <td>False</td>\n      <td>False</td>\n      <td>False</td>\n      <td>False</td>\n      <td>True</td>\n      <td>False</td>\n      <td>False</td>\n      <td>False</td>\n      <td>False</td>\n      <td>False</td>\n      <td>False</td>\n      <td>False</td>\n      <td>False</td>\n      <td>True</td>\n      <td>False</td>\n      <td>True</td>\n      <td>False</td>\n      <td>False</td>\n      <td>True</td>\n      <td>False</td>\n      <td>False</td>\n      <td>False</td>\n      <td>False</td>\n      <td>False</td>\n      <td>False</td>\n      <td>False</td>\n      <td>False</td>\n      <td>False</td>\n      <td>True</td>\n      <td>False</td>\n      <td>False</td>\n      <td>True</td>\n    </tr>\n    <tr>\n      <th>3</th>\n      <td>7</td>\n      <td>0.0</td>\n      <td>1065.0</td>\n      <td>2110.0</td>\n      <td>2110</td>\n      <td>2110</td>\n      <td>2</td>\n      <td>8</td>\n      <td>2</td>\n      <td>2.0</td>\n      <td>522.0</td>\n      <td>244000</td>\n      <td>42</td>\n      <td>42</td>\n      <td>False</td>\n      <td>False</td>\n      <td>False</td>\n      <td>False</td>\n      <td>False</td>\n      <td>True</td>\n      <td>False</td>\n      <td>False</td>\n      <td>True</td>\n      <td>False</td>\n      <td>False</td>\n      <td>False</td>\n      <td>True</td>\n      <td>False</td>\n      <td>False</td>\n      <td>False</td>\n      <td>True</td>\n      <td>True</td>\n      <td>False</td>\n      <td>False</td>\n      <td>True</td>\n      <td>False</td>\n      <td>False</td>\n      <td>False</td>\n      <td>False</td>\n      <td>True</td>\n      <td>False</td>\n      <td>False</td>\n      <td>False</td>\n      <td>False</td>\n      <td>True</td>\n      <td>False</td>\n      <td>False</td>\n      <td>False</td>\n      <td>False</td>\n      <td>False</td>\n      <td>False</td>\n      <td>False</td>\n      <td>False</td>\n      <td>True</td>\n      <td>False</td>\n      <td>False</td>\n      <td>False</td>\n      <td>False</td>\n      <td>False</td>\n      <td>True</td>\n      <td>False</td>\n      <td>False</td>\n      <td>False</td>\n      <td>False</td>\n      <td>False</td>\n      <td>False</td>\n      <td>True</td>\n      <td>False</td>\n      <td>False</td>\n      <td>False</td>\n      <td>False</td>\n      <td>False</td>\n      <td>False</td>\n      <td>False</td>\n      <td>False</td>\n      <td>True</td>\n      <td>False</td>\n      <td>False</td>\n      <td>False</td>\n      <td>True</td>\n      <td>False</td>\n      <td>False</td>\n      <td>False</td>\n      <td>False</td>\n      <td>False</td>\n      <td>False</td>\n      <td>False</td>\n      <td>False</td>\n      <td>True</td>\n      <td>False</td>\n      <td>False</td>\n      <td>False</td>\n      <td>False</td>\n      <td>False</td>\n      <td>True</td>\n      <td>False</td>\n      <td>True</td>\n      <td>False</td>\n      <td>False</td>\n      <td>False</td>\n      <td>False</td>\n      <td>False</td>\n      <td>True</td>\n      <td>False</td>\n      <td>False</td>\n      <td>False</td>\n      <td>False</td>\n      <td>True</td>\n      <td>False</td>\n      <td>False</td>\n      <td>False</td>\n      <td>False</td>\n      <td>False</td>\n      <td>True</td>\n      <td>True</td>\n      <td>False</td>\n      <td>False</td>\n      <td>False</td>\n      <td>False</td>\n      <td>False</td>\n      <td>False</td>\n      <td>False</td>\n      <td>False</td>\n      <td>False</td>\n      <td>False</td>\n      <td>False</td>\n      <td>True</td>\n      <td>False</td>\n      <td>False</td>\n      <td>True</td>\n    </tr>\n    <tr>\n      <th>4</th>\n      <td>5</td>\n      <td>0.0</td>\n      <td>791.0</td>\n      <td>928.0</td>\n      <td>928</td>\n      <td>1629</td>\n      <td>2</td>\n      <td>6</td>\n      <td>1</td>\n      <td>2.0</td>\n      <td>482.0</td>\n      <td>189900</td>\n      <td>13</td>\n      <td>12</td>\n      <td>False</td>\n      <td>False</td>\n      <td>False</td>\n      <td>False</td>\n      <td>False</td>\n      <td>True</td>\n      <td>False</td>\n      <td>False</td>\n      <td>True</td>\n      <td>True</td>\n      <td>False</td>\n      <td>False</td>\n      <td>False</td>\n      <td>False</td>\n      <td>False</td>\n      <td>False</td>\n      <td>True</td>\n      <td>True</td>\n      <td>False</td>\n      <td>False</td>\n      <td>False</td>\n      <td>False</td>\n      <td>False</td>\n      <td>False</td>\n      <td>True</td>\n      <td>True</td>\n      <td>False</td>\n      <td>False</td>\n      <td>False</td>\n      <td>False</td>\n      <td>True</td>\n      <td>False</td>\n      <td>False</td>\n      <td>False</td>\n      <td>False</td>\n      <td>False</td>\n      <td>False</td>\n      <td>False</td>\n      <td>False</td>\n      <td>True</td>\n      <td>False</td>\n      <td>False</td>\n      <td>False</td>\n      <td>False</td>\n      <td>False</td>\n      <td>True</td>\n      <td>False</td>\n      <td>False</td>\n      <td>False</td>\n      <td>False</td>\n      <td>False</td>\n      <td>False</td>\n      <td>False</td>\n      <td>False</td>\n      <td>False</td>\n      <td>True</td>\n      <td>False</td>\n      <td>False</td>\n      <td>False</td>\n      <td>True</td>\n      <td>False</td>\n      <td>False</td>\n      <td>False</td>\n      <td>False</td>\n      <td>False</td>\n      <td>True</td>\n      <td>False</td>\n      <td>False</td>\n      <td>False</td>\n      <td>False</td>\n      <td>False</td>\n      <td>False</td>\n      <td>False</td>\n      <td>False</td>\n      <td>False</td>\n      <td>True</td>\n      <td>False</td>\n      <td>False</td>\n      <td>False</td>\n      <td>False</td>\n      <td>True</td>\n      <td>False</td>\n      <td>False</td>\n      <td>True</td>\n      <td>False</td>\n      <td>False</td>\n      <td>False</td>\n      <td>False</td>\n      <td>True</td>\n      <td>False</td>\n      <td>False</td>\n      <td>False</td>\n      <td>False</td>\n      <td>False</td>\n      <td>False</td>\n      <td>True</td>\n      <td>False</td>\n      <td>False</td>\n      <td>False</td>\n      <td>True</td>\n      <td>False</td>\n      <td>False</td>\n      <td>False</td>\n      <td>False</td>\n      <td>True</td>\n      <td>False</td>\n      <td>False</td>\n      <td>False</td>\n      <td>False</td>\n      <td>False</td>\n      <td>False</td>\n      <td>False</td>\n      <td>True</td>\n      <td>False</td>\n      <td>False</td>\n      <td>True</td>\n    </tr>\n    <tr>\n      <th>...</th>\n      <td>...</td>\n      <td>...</td>\n      <td>...</td>\n      <td>...</td>\n      <td>...</td>\n      <td>...</td>\n      <td>...</td>\n      <td>...</td>\n      <td>...</td>\n      <td>...</td>\n      <td>...</td>\n      <td>...</td>\n      <td>...</td>\n      <td>...</td>\n      <td>...</td>\n      <td>...</td>\n      <td>...</td>\n      <td>...</td>\n      <td>...</td>\n      <td>...</td>\n      <td>...</td>\n      <td>...</td>\n      <td>...</td>\n      <td>...</td>\n      <td>...</td>\n      <td>...</td>\n      <td>...</td>\n      <td>...</td>\n      <td>...</td>\n      <td>...</td>\n      <td>...</td>\n      <td>...</td>\n      <td>...</td>\n      <td>...</td>\n      <td>...</td>\n      <td>...</td>\n      <td>...</td>\n      <td>...</td>\n      <td>...</td>\n      <td>...</td>\n      <td>...</td>\n      <td>...</td>\n      <td>...</td>\n      <td>...</td>\n      <td>...</td>\n      <td>...</td>\n      <td>...</td>\n      <td>...</td>\n      <td>...</td>\n      <td>...</td>\n      <td>...</td>\n      <td>...</td>\n      <td>...</td>\n      <td>...</td>\n      <td>...</td>\n      <td>...</td>\n      <td>...</td>\n      <td>...</td>\n      <td>...</td>\n      <td>...</td>\n      <td>...</td>\n      <td>...</td>\n      <td>...</td>\n      <td>...</td>\n      <td>...</td>\n      <td>...</td>\n      <td>...</td>\n      <td>...</td>\n      <td>...</td>\n      <td>...</td>\n      <td>...</td>\n      <td>...</td>\n      <td>...</td>\n      <td>...</td>\n      <td>...</td>\n      <td>...</td>\n      <td>...</td>\n      <td>...</td>\n      <td>...</td>\n      <td>...</td>\n      <td>...</td>\n      <td>...</td>\n      <td>...</td>\n      <td>...</td>\n      <td>...</td>\n      <td>...</td>\n      <td>...</td>\n      <td>...</td>\n      <td>...</td>\n      <td>...</td>\n      <td>...</td>\n      <td>...</td>\n      <td>...</td>\n      <td>...</td>\n      <td>...</td>\n      <td>...</td>\n      <td>...</td>\n      <td>...</td>\n      <td>...</td>\n      <td>...</td>\n      <td>...</td>\n      <td>...</td>\n      <td>...</td>\n      <td>...</td>\n      <td>...</td>\n      <td>...</td>\n      <td>...</td>\n      <td>...</td>\n      <td>...</td>\n      <td>...</td>\n      <td>...</td>\n      <td>...</td>\n      <td>...</td>\n      <td>...</td>\n      <td>...</td>\n      <td>...</td>\n      <td>...</td>\n      <td>...</td>\n      <td>...</td>\n      <td>...</td>\n      <td>...</td>\n      <td>...</td>\n      <td>...</td>\n      <td>...</td>\n      <td>...</td>\n      <td>...</td>\n      <td>...</td>\n      <td>...</td>\n      <td>...</td>\n      <td>...</td>\n    </tr>\n    <tr>\n      <th>2925</th>\n      <td>6</td>\n      <td>0.0</td>\n      <td>819.0</td>\n      <td>1003.0</td>\n      <td>1003</td>\n      <td>1003</td>\n      <td>1</td>\n      <td>6</td>\n      <td>0</td>\n      <td>2.0</td>\n      <td>588.0</td>\n      <td>142500</td>\n      <td>22</td>\n      <td>22</td>\n      <td>False</td>\n      <td>False</td>\n      <td>False</td>\n      <td>False</td>\n      <td>False</td>\n      <td>True</td>\n      <td>False</td>\n      <td>False</td>\n      <td>True</td>\n      <td>True</td>\n      <td>False</td>\n      <td>False</td>\n      <td>False</td>\n      <td>False</td>\n      <td>False</td>\n      <td>False</td>\n      <td>True</td>\n      <td>True</td>\n      <td>False</td>\n      <td>False</td>\n      <td>False</td>\n      <td>True</td>\n      <td>False</td>\n      <td>False</td>\n      <td>False</td>\n      <td>True</td>\n      <td>False</td>\n      <td>False</td>\n      <td>False</td>\n      <td>False</td>\n      <td>True</td>\n      <td>False</td>\n      <td>False</td>\n      <td>False</td>\n      <td>False</td>\n      <td>False</td>\n      <td>False</td>\n      <td>False</td>\n      <td>False</td>\n      <td>True</td>\n      <td>False</td>\n      <td>False</td>\n      <td>False</td>\n      <td>False</td>\n      <td>False</td>\n      <td>True</td>\n      <td>False</td>\n      <td>False</td>\n      <td>False</td>\n      <td>False</td>\n      <td>False</td>\n      <td>False</td>\n      <td>False</td>\n      <td>False</td>\n      <td>False</td>\n      <td>False</td>\n      <td>False</td>\n      <td>True</td>\n      <td>False</td>\n      <td>True</td>\n      <td>False</td>\n      <td>False</td>\n      <td>False</td>\n      <td>False</td>\n      <td>False</td>\n      <td>True</td>\n      <td>False</td>\n      <td>False</td>\n      <td>False</td>\n      <td>False</td>\n      <td>False</td>\n      <td>False</td>\n      <td>False</td>\n      <td>False</td>\n      <td>False</td>\n      <td>True</td>\n      <td>False</td>\n      <td>False</td>\n      <td>False</td>\n      <td>False</td>\n      <td>True</td>\n      <td>False</td>\n      <td>True</td>\n      <td>False</td>\n      <td>False</td>\n      <td>False</td>\n      <td>False</td>\n      <td>False</td>\n      <td>True</td>\n      <td>False</td>\n      <td>False</td>\n      <td>False</td>\n      <td>False</td>\n      <td>False</td>\n      <td>False</td>\n      <td>False</td>\n      <td>False</td>\n      <td>True</td>\n      <td>False</td>\n      <td>True</td>\n      <td>False</td>\n      <td>False</td>\n      <td>False</td>\n      <td>False</td>\n      <td>True</td>\n      <td>False</td>\n      <td>False</td>\n      <td>False</td>\n      <td>False</td>\n      <td>False</td>\n      <td>False</td>\n      <td>False</td>\n      <td>True</td>\n      <td>False</td>\n      <td>False</td>\n      <td>True</td>\n    </tr>\n    <tr>\n      <th>2926</th>\n      <td>5</td>\n      <td>0.0</td>\n      <td>301.0</td>\n      <td>864.0</td>\n      <td>902</td>\n      <td>902</td>\n      <td>1</td>\n      <td>5</td>\n      <td>0</td>\n      <td>2.0</td>\n      <td>484.0</td>\n      <td>131000</td>\n      <td>23</td>\n      <td>23</td>\n      <td>False</td>\n      <td>False</td>\n      <td>False</td>\n      <td>False</td>\n      <td>False</td>\n      <td>True</td>\n      <td>False</td>\n      <td>False</td>\n      <td>True</td>\n      <td>True</td>\n      <td>False</td>\n      <td>False</td>\n      <td>False</td>\n      <td>False</td>\n      <td>False</td>\n      <td>True</td>\n      <td>False</td>\n      <td>True</td>\n      <td>False</td>\n      <td>False</td>\n      <td>False</td>\n      <td>False</td>\n      <td>False</td>\n      <td>False</td>\n      <td>True</td>\n      <td>False</td>\n      <td>True</td>\n      <td>False</td>\n      <td>False</td>\n      <td>False</td>\n      <td>True</td>\n      <td>False</td>\n      <td>False</td>\n      <td>False</td>\n      <td>False</td>\n      <td>False</td>\n      <td>False</td>\n      <td>False</td>\n      <td>False</td>\n      <td>True</td>\n      <td>False</td>\n      <td>False</td>\n      <td>False</td>\n      <td>False</td>\n      <td>False</td>\n      <td>True</td>\n      <td>False</td>\n      <td>False</td>\n      <td>False</td>\n      <td>False</td>\n      <td>False</td>\n      <td>False</td>\n      <td>True</td>\n      <td>False</td>\n      <td>False</td>\n      <td>False</td>\n      <td>False</td>\n      <td>False</td>\n      <td>False</td>\n      <td>True</td>\n      <td>False</td>\n      <td>False</td>\n      <td>False</td>\n      <td>False</td>\n      <td>False</td>\n      <td>True</td>\n      <td>False</td>\n      <td>False</td>\n      <td>False</td>\n      <td>False</td>\n      <td>False</td>\n      <td>False</td>\n      <td>False</td>\n      <td>False</td>\n      <td>False</td>\n      <td>True</td>\n      <td>False</td>\n      <td>False</td>\n      <td>False</td>\n      <td>False</td>\n      <td>True</td>\n      <td>False</td>\n      <td>True</td>\n      <td>False</td>\n      <td>False</td>\n      <td>False</td>\n      <td>False</td>\n      <td>False</td>\n      <td>True</td>\n      <td>False</td>\n      <td>False</td>\n      <td>False</td>\n      <td>False</td>\n      <td>False</td>\n      <td>False</td>\n      <td>False</td>\n      <td>False</td>\n      <td>True</td>\n      <td>False</td>\n      <td>True</td>\n      <td>False</td>\n      <td>False</td>\n      <td>False</td>\n      <td>False</td>\n      <td>True</td>\n      <td>False</td>\n      <td>False</td>\n      <td>False</td>\n      <td>False</td>\n      <td>False</td>\n      <td>False</td>\n      <td>False</td>\n      <td>True</td>\n      <td>False</td>\n      <td>False</td>\n      <td>True</td>\n    </tr>\n    <tr>\n      <th>2927</th>\n      <td>5</td>\n      <td>0.0</td>\n      <td>337.0</td>\n      <td>912.0</td>\n      <td>970</td>\n      <td>970</td>\n      <td>1</td>\n      <td>6</td>\n      <td>0</td>\n      <td>0.0</td>\n      <td>0.0</td>\n      <td>132000</td>\n      <td>14</td>\n      <td>14</td>\n      <td>False</td>\n      <td>False</td>\n      <td>False</td>\n      <td>False</td>\n      <td>False</td>\n      <td>True</td>\n      <td>False</td>\n      <td>False</td>\n      <td>True</td>\n      <td>False</td>\n      <td>False</td>\n      <td>False</td>\n      <td>True</td>\n      <td>False</td>\n      <td>False</td>\n      <td>False</td>\n      <td>True</td>\n      <td>True</td>\n      <td>False</td>\n      <td>False</td>\n      <td>False</td>\n      <td>False</td>\n      <td>False</td>\n      <td>False</td>\n      <td>True</td>\n      <td>True</td>\n      <td>False</td>\n      <td>False</td>\n      <td>False</td>\n      <td>False</td>\n      <td>True</td>\n      <td>False</td>\n      <td>False</td>\n      <td>False</td>\n      <td>False</td>\n      <td>False</td>\n      <td>False</td>\n      <td>False</td>\n      <td>False</td>\n      <td>True</td>\n      <td>False</td>\n      <td>False</td>\n      <td>False</td>\n      <td>False</td>\n      <td>False</td>\n      <td>True</td>\n      <td>False</td>\n      <td>False</td>\n      <td>False</td>\n      <td>False</td>\n      <td>False</td>\n      <td>False</td>\n      <td>False</td>\n      <td>False</td>\n      <td>False</td>\n      <td>False</td>\n      <td>True</td>\n      <td>False</td>\n      <td>False</td>\n      <td>True</td>\n      <td>False</td>\n      <td>False</td>\n      <td>False</td>\n      <td>False</td>\n      <td>False</td>\n      <td>True</td>\n      <td>False</td>\n      <td>False</td>\n      <td>False</td>\n      <td>False</td>\n      <td>False</td>\n      <td>False</td>\n      <td>False</td>\n      <td>False</td>\n      <td>False</td>\n      <td>True</td>\n      <td>False</td>\n      <td>False</td>\n      <td>False</td>\n      <td>False</td>\n      <td>True</td>\n      <td>False</td>\n      <td>False</td>\n      <td>True</td>\n      <td>False</td>\n      <td>False</td>\n      <td>False</td>\n      <td>False</td>\n      <td>True</td>\n      <td>False</td>\n      <td>False</td>\n      <td>False</td>\n      <td>False</td>\n      <td>False</td>\n      <td>False</td>\n      <td>False</td>\n      <td>False</td>\n      <td>True</td>\n      <td>False</td>\n      <td>True</td>\n      <td>False</td>\n      <td>False</td>\n      <td>False</td>\n      <td>False</td>\n      <td>True</td>\n      <td>False</td>\n      <td>False</td>\n      <td>False</td>\n      <td>False</td>\n      <td>False</td>\n      <td>False</td>\n      <td>False</td>\n      <td>True</td>\n      <td>False</td>\n      <td>False</td>\n      <td>True</td>\n    </tr>\n    <tr>\n      <th>2928</th>\n      <td>5</td>\n      <td>0.0</td>\n      <td>1071.0</td>\n      <td>1389.0</td>\n      <td>1389</td>\n      <td>1389</td>\n      <td>1</td>\n      <td>6</td>\n      <td>1</td>\n      <td>2.0</td>\n      <td>418.0</td>\n      <td>170000</td>\n      <td>32</td>\n      <td>31</td>\n      <td>False</td>\n      <td>False</td>\n      <td>False</td>\n      <td>False</td>\n      <td>False</td>\n      <td>True</td>\n      <td>False</td>\n      <td>False</td>\n      <td>True</td>\n      <td>False</td>\n      <td>False</td>\n      <td>False</td>\n      <td>True</td>\n      <td>False</td>\n      <td>False</td>\n      <td>False</td>\n      <td>True</td>\n      <td>True</td>\n      <td>False</td>\n      <td>False</td>\n      <td>False</td>\n      <td>False</td>\n      <td>False</td>\n      <td>False</td>\n      <td>True</td>\n      <td>False</td>\n      <td>True</td>\n      <td>False</td>\n      <td>False</td>\n      <td>False</td>\n      <td>True</td>\n      <td>False</td>\n      <td>False</td>\n      <td>False</td>\n      <td>False</td>\n      <td>False</td>\n      <td>False</td>\n      <td>False</td>\n      <td>False</td>\n      <td>True</td>\n      <td>False</td>\n      <td>False</td>\n      <td>False</td>\n      <td>False</td>\n      <td>False</td>\n      <td>True</td>\n      <td>False</td>\n      <td>False</td>\n      <td>False</td>\n      <td>False</td>\n      <td>False</td>\n      <td>False</td>\n      <td>True</td>\n      <td>False</td>\n      <td>False</td>\n      <td>False</td>\n      <td>False</td>\n      <td>False</td>\n      <td>False</td>\n      <td>True</td>\n      <td>False</td>\n      <td>False</td>\n      <td>False</td>\n      <td>False</td>\n      <td>False</td>\n      <td>True</td>\n      <td>False</td>\n      <td>False</td>\n      <td>False</td>\n      <td>False</td>\n      <td>False</td>\n      <td>False</td>\n      <td>False</td>\n      <td>False</td>\n      <td>False</td>\n      <td>True</td>\n      <td>False</td>\n      <td>False</td>\n      <td>False</td>\n      <td>False</td>\n      <td>True</td>\n      <td>False</td>\n      <td>True</td>\n      <td>False</td>\n      <td>False</td>\n      <td>False</td>\n      <td>False</td>\n      <td>False</td>\n      <td>True</td>\n      <td>False</td>\n      <td>False</td>\n      <td>False</td>\n      <td>False</td>\n      <td>False</td>\n      <td>False</td>\n      <td>True</td>\n      <td>False</td>\n      <td>False</td>\n      <td>False</td>\n      <td>True</td>\n      <td>False</td>\n      <td>False</td>\n      <td>False</td>\n      <td>False</td>\n      <td>True</td>\n      <td>False</td>\n      <td>False</td>\n      <td>False</td>\n      <td>False</td>\n      <td>False</td>\n      <td>False</td>\n      <td>False</td>\n      <td>True</td>\n      <td>False</td>\n      <td>False</td>\n      <td>True</td>\n    </tr>\n    <tr>\n      <th>2929</th>\n      <td>7</td>\n      <td>94.0</td>\n      <td>758.0</td>\n      <td>996.0</td>\n      <td>996</td>\n      <td>2000</td>\n      <td>2</td>\n      <td>9</td>\n      <td>1</td>\n      <td>3.0</td>\n      <td>650.0</td>\n      <td>188000</td>\n      <td>13</td>\n      <td>12</td>\n      <td>False</td>\n      <td>False</td>\n      <td>False</td>\n      <td>False</td>\n      <td>False</td>\n      <td>True</td>\n      <td>False</td>\n      <td>False</td>\n      <td>True</td>\n      <td>False</td>\n      <td>False</td>\n      <td>False</td>\n      <td>True</td>\n      <td>False</td>\n      <td>False</td>\n      <td>False</td>\n      <td>True</td>\n      <td>True</td>\n      <td>False</td>\n      <td>False</td>\n      <td>False</td>\n      <td>False</td>\n      <td>False</td>\n      <td>False</td>\n      <td>True</td>\n      <td>False</td>\n      <td>True</td>\n      <td>False</td>\n      <td>False</td>\n      <td>False</td>\n      <td>True</td>\n      <td>False</td>\n      <td>False</td>\n      <td>False</td>\n      <td>False</td>\n      <td>False</td>\n      <td>False</td>\n      <td>False</td>\n      <td>False</td>\n      <td>True</td>\n      <td>False</td>\n      <td>False</td>\n      <td>False</td>\n      <td>False</td>\n      <td>False</td>\n      <td>True</td>\n      <td>False</td>\n      <td>False</td>\n      <td>False</td>\n      <td>False</td>\n      <td>False</td>\n      <td>False</td>\n      <td>False</td>\n      <td>False</td>\n      <td>False</td>\n      <td>True</td>\n      <td>False</td>\n      <td>False</td>\n      <td>False</td>\n      <td>True</td>\n      <td>False</td>\n      <td>False</td>\n      <td>False</td>\n      <td>False</td>\n      <td>False</td>\n      <td>True</td>\n      <td>False</td>\n      <td>False</td>\n      <td>False</td>\n      <td>False</td>\n      <td>False</td>\n      <td>False</td>\n      <td>False</td>\n      <td>False</td>\n      <td>False</td>\n      <td>True</td>\n      <td>False</td>\n      <td>False</td>\n      <td>False</td>\n      <td>False</td>\n      <td>True</td>\n      <td>False</td>\n      <td>False</td>\n      <td>True</td>\n      <td>False</td>\n      <td>False</td>\n      <td>False</td>\n      <td>False</td>\n      <td>True</td>\n      <td>False</td>\n      <td>False</td>\n      <td>False</td>\n      <td>False</td>\n      <td>True</td>\n      <td>False</td>\n      <td>False</td>\n      <td>False</td>\n      <td>False</td>\n      <td>False</td>\n      <td>True</td>\n      <td>False</td>\n      <td>False</td>\n      <td>False</td>\n      <td>False</td>\n      <td>True</td>\n      <td>False</td>\n      <td>False</td>\n      <td>False</td>\n      <td>False</td>\n      <td>False</td>\n      <td>False</td>\n      <td>False</td>\n      <td>True</td>\n      <td>False</td>\n      <td>False</td>\n      <td>True</td>\n    </tr>\n  </tbody>\n</table>\n<p>2927 rows × 130 columns</p>\n</div>"
     },
     "execution_count": 96,
     "metadata": {},
     "output_type": "execute_result"
    }
   ],
   "source": [
    "transform_df"
   ],
   "metadata": {
    "collapsed": false,
    "ExecuteTime": {
     "end_time": "2023-11-03T00:11:29.131529Z",
     "start_time": "2023-11-03T00:11:28.106164Z"
    }
   }
  },
  {
   "cell_type": "code",
   "execution_count": 97,
   "outputs": [
    {
     "data": {
      "text/plain": "(2927, 130)"
     },
     "execution_count": 97,
     "metadata": {},
     "output_type": "execute_result"
    }
   ],
   "source": [
    "transform_df.shape"
   ],
   "metadata": {
    "collapsed": false,
    "ExecuteTime": {
     "end_time": "2023-11-03T00:11:29.131686Z",
     "start_time": "2023-11-03T00:11:28.116399Z"
    }
   }
  },
  {
   "cell_type": "markdown",
   "metadata": {},
   "source": [
    "Update select_features()"
   ]
  },
  {
   "cell_type": "code",
   "execution_count": 148,
   "metadata": {
    "ExecuteTime": {
     "end_time": "2023-11-03T03:01:52.853084Z",
     "start_time": "2023-11-03T03:01:52.712594Z"
    }
   },
   "outputs": [
    {
     "name": "stdout",
     "output_type": "stream",
     "text": [
      "[32080.656232652735, 31980.15696708901, 31511.43213381444, 37506.900079952815]\n"
     ]
    },
    {
     "data": {
      "text/plain": "33269.78635337725"
     },
     "execution_count": 148,
     "metadata": {},
     "output_type": "execute_result"
    }
   ],
   "source": [
    "def transform_features(df):\n",
    "    num_missing = df.isnull().sum()\n",
    "    drop_missing_cols = num_missing[(num_missing > len(df)/20)].sort_values()\n",
    "    df = df.drop(drop_missing_cols.index, axis=1)\n",
    "    \n",
    "    text_mv_counts = df.select_dtypes(include=['object']).isnull().sum().sort_values(ascending=False)\n",
    "    drop_missing_cols_2 = text_mv_counts[text_mv_counts > 0]\n",
    "    df = df.drop(drop_missing_cols_2.index, axis=1)\n",
    "    \n",
    "    num_missing = df.select_dtypes(include=['int64', 'float']).isnull().sum()\n",
    "    fixable_numeric_cols = num_missing[(num_missing < len(df)/20) & (num_missing > 0)].sort_values()\n",
    "    replacement_values_dict = df[fixable_numeric_cols.index].mode().to_dict(orient='records')[0]\n",
    "    df = df.fillna(replacement_values_dict)\n",
    "    \n",
    "    years_sold = df['Yr Sold'] - df['Year Built']\n",
    "    years_since_remod = df['Yr Sold'] - df['Year Remod/Add']\n",
    "    df['Years Before Sale'] = years_sold\n",
    "    df['Years Since Remod'] = years_since_remod\n",
    "    df = df.drop([1702, 2180, 2181], axis=0)\n",
    "\n",
    "    df = df.drop([\"PID\", \"Order\", \"Mo Sold\", \"Sale Condition\", \"Sale Type\", \"Year Built\", \"Year Remod/Add\"], axis=1)\n",
    "    return df\n",
    "\n",
    "def select_features(df, coeff_threshold=0.4, uniq_threshold=10):\n",
    "    numerical_df = df.select_dtypes(include=['int64', 'float'])\n",
    "    abs_corr_coeffs = numerical_df.corr()['SalePrice'].abs().sort_values()\n",
    "    df = df.drop(abs_corr_coeffs[abs_corr_coeffs < coeff_threshold].index, axis=1)\n",
    "    \n",
    "    nominal_features = [\"PID\", \"MS SubClass\", \"MS Zoning\", \"Street\", \"Alley\", \"Land Contour\", \"Lot Config\", \"Neighborhood\", \n",
    "                    \"Condition 1\", \"Condition 2\", \"Bldg Type\", \"House Style\", \"Roof Style\", \"Roof Matl\", \"Exterior 1st\", \n",
    "                    \"Exterior 2nd\", \"Mas Vnr Type\", \"Foundation\", \"Heating\", \"Central Air\", \"Garage Type\", \n",
    "                    \"Misc Feature\", \"Sale Type\", \"Sale Condition\"]\n",
    "    \n",
    "    transform_cat_cols = []\n",
    "    for col in nominal_features:\n",
    "        if col in df.columns:\n",
    "            transform_cat_cols.append(col)\n",
    "\n",
    "    uniqueness_counts = df[transform_cat_cols].apply(lambda col: len(col.value_counts())).sort_values()\n",
    "    drop_nonuniq_cols = uniqueness_counts[uniqueness_counts > 10].index\n",
    "    df = df.drop(drop_nonuniq_cols, axis=1)\n",
    "    \n",
    "    text_cols = df.select_dtypes(include=['object'])\n",
    "    for col in text_cols:\n",
    "        df[col] = df[col].astype('category')\n",
    "    df = pd.concat([df, pd.get_dummies(df.select_dtypes(include=['category']))], axis=1).drop(text_cols,axis=1)\n",
    "    \n",
    "    return df\n",
    "\n",
    "def train_and_test(df, k=0):\n",
    "    numeric_df = df.select_dtypes(include=['integer', 'float'])\n",
    "    features = numeric_df.columns.drop(\"SalePrice\")\n",
    "    lr = linear_model.LinearRegression()\n",
    "    \n",
    "    if k == 0:\n",
    "        train = df[:1460]\n",
    "        test = df[1460:]\n",
    "\n",
    "        lr.fit(train[features], train[\"SalePrice\"])\n",
    "        predictions = lr.predict(test[features])\n",
    "        mse = mean_squared_error(test[\"SalePrice\"], predictions)\n",
    "        rmse = np.sqrt(mse)\n",
    "\n",
    "        return rmse\n",
    "    \n",
    "    if k == 1:\n",
    "        # Randomize *all* rows (frac=1) from `df` and return\n",
    "        shuffled_df = df.sample(frac=1, )\n",
    "        train = df[:1460]\n",
    "        test = df[1460:]\n",
    "        \n",
    "        lr.fit(train[features], train[\"SalePrice\"])\n",
    "        predictions_one = lr.predict(test[features])        \n",
    "        \n",
    "        mse_one = mean_squared_error(test[\"SalePrice\"], predictions_one)\n",
    "        rmse_one = np.sqrt(mse_one)\n",
    "        \n",
    "        lr.fit(test[features], test[\"SalePrice\"])\n",
    "        predictions_two = lr.predict(train[features])        \n",
    "       \n",
    "        mse_two = mean_squared_error(train[\"SalePrice\"], predictions_two)\n",
    "        rmse_two = np.sqrt(mse_two)\n",
    "        \n",
    "        avg_rmse = np.mean([rmse_one, rmse_two])\n",
    "        print(f'rmse_one:{rmse_one}')\n",
    "        print(f'rmse_one:{rmse_two}')\n",
    "        return avg_rmse\n",
    "    else:\n",
    "        kf = KFold(n_splits=k, shuffle=True)\n",
    "        rmse_values = []\n",
    "        for train_index, test_index, in kf.split(df):\n",
    "            train = df.iloc[train_index]\n",
    "            test = df.iloc[test_index]\n",
    "            lr.fit(train[features], train[\"SalePrice\"])\n",
    "            predictions = lr.predict(test[features])\n",
    "            mse = mean_squared_error(test[\"SalePrice\"], predictions)\n",
    "            rmse = np.sqrt(mse)\n",
    "            rmse_values.append(rmse)\n",
    "        print(rmse_values)\n",
    "        avg_rmse = np.mean(rmse_values)\n",
    "        return avg_rmse\n",
    "\n",
    "df = pd.read_csv(\"AmesHousing.tsv\", delimiter=\"\\t\")\n",
    "transform_df = transform_features(df)\n",
    "filtered_df = select_features(transform_df)\n",
    "rmse = train_and_test(filtered_df, k=4)\n",
    "\n",
    "rmse"
   ]
  },
  {
   "cell_type": "code",
   "execution_count": 146,
   "outputs": [
    {
     "data": {
      "text/plain": "36623.53562910474"
     },
     "execution_count": 146,
     "metadata": {},
     "output_type": "execute_result"
    }
   ],
   "source": [
    "rmse = train_and_test(filtered_df, k=0)\n",
    "\n",
    "rmse"
   ],
   "metadata": {
    "collapsed": false,
    "ExecuteTime": {
     "end_time": "2023-11-03T03:00:43.965400Z",
     "start_time": "2023-11-03T03:00:43.920207Z"
    }
   }
  },
  {
   "cell_type": "code",
   "execution_count": 149,
   "outputs": [
    {
     "name": "stdout",
     "output_type": "stream",
     "text": [
      "rmse_one:36623.53562910474\n",
      "rmse_one:30924.751476605004\n"
     ]
    },
    {
     "data": {
      "text/plain": "33774.143552854875"
     },
     "execution_count": 149,
     "metadata": {},
     "output_type": "execute_result"
    }
   ],
   "source": [
    "rmse = train_and_test(filtered_df, k=1)\n",
    "\n",
    "rmse"
   ],
   "metadata": {
    "collapsed": false,
    "ExecuteTime": {
     "end_time": "2023-11-03T03:01:55.924242Z",
     "start_time": "2023-11-03T03:01:55.880951Z"
    }
   }
  },
  {
   "cell_type": "code",
   "execution_count": 144,
   "outputs": [
    {
     "data": {
      "text/plain": "(2927, 59)"
     },
     "execution_count": 144,
     "metadata": {},
     "output_type": "execute_result"
    }
   ],
   "source": [
    "transform_df.shape"
   ],
   "metadata": {
    "collapsed": false,
    "ExecuteTime": {
     "end_time": "2023-11-03T02:52:38.048964Z",
     "start_time": "2023-11-03T02:52:37.982626Z"
    }
   }
  },
  {
   "cell_type": "code",
   "execution_count": 145,
   "outputs": [
    {
     "data": {
      "text/plain": "(2930, 82)"
     },
     "execution_count": 145,
     "metadata": {},
     "output_type": "execute_result"
    }
   ],
   "source": [
    "\n",
    "df.shape"
   ],
   "metadata": {
    "collapsed": false,
    "ExecuteTime": {
     "end_time": "2023-11-03T02:52:56.750618Z",
     "start_time": "2023-11-03T02:52:56.720428Z"
    }
   }
  },
  {
   "cell_type": "code",
   "execution_count": 98,
   "outputs": [],
   "source": [],
   "metadata": {
    "collapsed": false,
    "ExecuteTime": {
     "end_time": "2023-11-03T00:11:29.134088Z",
     "start_time": "2023-11-03T00:11:28.254894Z"
    }
   }
  },
  {
   "cell_type": "code",
   "execution_count": 99,
   "outputs": [],
   "source": [
    "# ==============================="
   ],
   "metadata": {
    "collapsed": false,
    "ExecuteTime": {
     "end_time": "2023-11-03T00:11:29.134153Z",
     "start_time": "2023-11-03T00:11:28.258309Z"
    }
   }
  },
  {
   "cell_type": "code",
   "execution_count": null,
   "outputs": [],
   "source": [],
   "metadata": {
    "collapsed": false
   }
  },
  {
   "cell_type": "code",
   "execution_count": 155,
   "outputs": [
    {
     "data": {
      "text/plain": "      MS SubClass MS Zoning  Lot Area Street Lot Shape Land Contour Utilities   \n0              20        RL     31770   Pave       IR1          Lvl    AllPub  \\\n1              20        RH     11622   Pave       Reg          Lvl    AllPub   \n2              20        RL     14267   Pave       IR1          Lvl    AllPub   \n3              20        RL     11160   Pave       Reg          Lvl    AllPub   \n4              60        RL     13830   Pave       IR1          Lvl    AllPub   \n...           ...       ...       ...    ...       ...          ...       ...   \n2925           80        RL      7937   Pave       IR1          Lvl    AllPub   \n2926           20        RL      8885   Pave       IR1          Low    AllPub   \n2927           85        RL     10441   Pave       Reg          Lvl    AllPub   \n2928           20        RL     10010   Pave       Reg          Lvl    AllPub   \n2929           60        RL      9627   Pave       Reg          Lvl    AllPub   \n\n     Lot Config Land Slope Neighborhood Condition 1 Condition 2 Bldg Type   \n0        Corner        Gtl        NAmes        Norm        Norm      1Fam  \\\n1        Inside        Gtl        NAmes       Feedr        Norm      1Fam   \n2        Corner        Gtl        NAmes        Norm        Norm      1Fam   \n3        Corner        Gtl        NAmes        Norm        Norm      1Fam   \n4        Inside        Gtl      Gilbert        Norm        Norm      1Fam   \n...         ...        ...          ...         ...         ...       ...   \n2925    CulDSac        Gtl      Mitchel        Norm        Norm      1Fam   \n2926     Inside        Mod      Mitchel        Norm        Norm      1Fam   \n2927     Inside        Gtl      Mitchel        Norm        Norm      1Fam   \n2928     Inside        Mod      Mitchel        Norm        Norm      1Fam   \n2929     Inside        Mod      Mitchel        Norm        Norm      1Fam   \n\n     House Style  Overall Qual  Overall Cond Roof Style Roof Matl   \n0         1Story             6             5        Hip   CompShg  \\\n1         1Story             5             6      Gable   CompShg   \n2         1Story             6             6        Hip   CompShg   \n3         1Story             7             5        Hip   CompShg   \n4         2Story             5             5      Gable   CompShg   \n...          ...           ...           ...        ...       ...   \n2925        SLvl             6             6      Gable   CompShg   \n2926      1Story             5             5      Gable   CompShg   \n2927      SFoyer             5             5      Gable   CompShg   \n2928      1Story             5             5      Gable   CompShg   \n2929      2Story             7             5      Gable   CompShg   \n\n     Exterior 1st Exterior 2nd  Mas Vnr Area Exter Qual Exter Cond Foundation   \n0         BrkFace      Plywood         112.0         TA         TA     CBlock  \\\n1         VinylSd      VinylSd           0.0         TA         TA     CBlock   \n2         Wd Sdng      Wd Sdng         108.0         TA         TA     CBlock   \n3         BrkFace      BrkFace           0.0         Gd         TA     CBlock   \n4         VinylSd      VinylSd           0.0         TA         TA      PConc   \n...           ...          ...           ...        ...        ...        ...   \n2925      HdBoard      HdBoard           0.0         TA         TA     CBlock   \n2926      HdBoard      HdBoard           0.0         TA         TA     CBlock   \n2927      HdBoard      Wd Shng           0.0         TA         TA      PConc   \n2928      HdBoard      HdBoard           0.0         TA         TA     CBlock   \n2929      HdBoard      HdBoard          94.0         TA         TA      PConc   \n\n      BsmtFin SF 1  BsmtFin SF 2  Bsmt Unf SF  Total Bsmt SF Heating   \n0            639.0           0.0        441.0         1080.0    GasA  \\\n1            468.0         144.0        270.0          882.0    GasA   \n2            923.0           0.0        406.0         1329.0    GasA   \n3           1065.0           0.0       1045.0         2110.0    GasA   \n4            791.0           0.0        137.0          928.0    GasA   \n...            ...           ...          ...            ...     ...   \n2925         819.0           0.0        184.0         1003.0    GasA   \n2926         301.0         324.0        239.0          864.0    GasA   \n2927         337.0           0.0        575.0          912.0    GasA   \n2928        1071.0         123.0        195.0         1389.0    GasA   \n2929         758.0           0.0        238.0          996.0    GasA   \n\n     Heating QC Central Air  1st Flr SF  2nd Flr SF  Low Qual Fin SF   \n0            Fa           Y        1656           0                0  \\\n1            TA           Y         896           0                0   \n2            TA           Y        1329           0                0   \n3            Ex           Y        2110           0                0   \n4            Gd           Y         928         701                0   \n...         ...         ...         ...         ...              ...   \n2925         TA           Y        1003           0                0   \n2926         TA           Y         902           0                0   \n2927         TA           Y         970           0                0   \n2928         Gd           Y        1389           0                0   \n2929         Ex           Y         996        1004                0   \n\n      Gr Liv Area  Bsmt Full Bath  Bsmt Half Bath  Full Bath  Half Bath   \n0            1656             1.0             0.0          1          0  \\\n1             896             0.0             0.0          1          0   \n2            1329             0.0             0.0          1          1   \n3            2110             1.0             0.0          2          1   \n4            1629             0.0             0.0          2          1   \n...           ...             ...             ...        ...        ...   \n2925         1003             1.0             0.0          1          0   \n2926          902             1.0             0.0          1          0   \n2927          970             0.0             1.0          1          0   \n2928         1389             1.0             0.0          1          0   \n2929         2000             0.0             0.0          2          1   \n\n      Bedroom AbvGr  Kitchen AbvGr Kitchen Qual  TotRms AbvGrd Functional   \n0                 3              1           TA              7        Typ  \\\n1                 2              1           TA              5        Typ   \n2                 3              1           Gd              6        Typ   \n3                 3              1           Ex              8        Typ   \n4                 3              1           TA              6        Typ   \n...             ...            ...          ...            ...        ...   \n2925              3              1           TA              6        Typ   \n2926              2              1           TA              5        Typ   \n2927              3              1           TA              6        Typ   \n2928              2              1           TA              6        Typ   \n2929              3              1           TA              9        Typ   \n\n      Fireplaces  Garage Cars  Garage Area Paved Drive  Wood Deck SF   \n0              2          2.0        528.0           P           210  \\\n1              0          1.0        730.0           Y           140   \n2              0          1.0        312.0           Y           393   \n3              2          2.0        522.0           Y             0   \n4              1          2.0        482.0           Y           212   \n...          ...          ...          ...         ...           ...   \n2925           0          2.0        588.0           Y           120   \n2926           0          2.0        484.0           Y           164   \n2927           0          0.0          0.0           Y            80   \n2928           1          2.0        418.0           Y           240   \n2929           1          3.0        650.0           Y           190   \n\n      Open Porch SF  Enclosed Porch  3Ssn Porch  Screen Porch  Pool Area   \n0                62               0           0             0          0  \\\n1                 0               0           0           120          0   \n2                36               0           0             0          0   \n3                 0               0           0             0          0   \n4                34               0           0             0          0   \n...             ...             ...         ...           ...        ...   \n2925              0               0           0             0          0   \n2926              0               0           0             0          0   \n2927             32               0           0             0          0   \n2928             38               0           0             0          0   \n2929             48               0           0             0          0   \n\n      Misc Val  Yr Sold  SalePrice  Years Before Sale  Years Since Remod  \n0            0     2010     215000                 50                 50  \n1            0     2010     105000                 49                 49  \n2        12500     2010     172000                 52                 52  \n3            0     2010     244000                 42                 42  \n4            0     2010     189900                 13                 12  \n...        ...      ...        ...                ...                ...  \n2925         0     2006     142500                 22                 22  \n2926         0     2006     131000                 23                 23  \n2927       700     2006     132000                 14                 14  \n2928         0     2006     170000                 32                 31  \n2929         0     2006     188000                 13                 12  \n\n[2927 rows x 59 columns]",
      "text/html": "<div>\n<style scoped>\n    .dataframe tbody tr th:only-of-type {\n        vertical-align: middle;\n    }\n\n    .dataframe tbody tr th {\n        vertical-align: top;\n    }\n\n    .dataframe thead th {\n        text-align: right;\n    }\n</style>\n<table border=\"1\" class=\"dataframe\">\n  <thead>\n    <tr style=\"text-align: right;\">\n      <th></th>\n      <th>MS SubClass</th>\n      <th>MS Zoning</th>\n      <th>Lot Area</th>\n      <th>Street</th>\n      <th>Lot Shape</th>\n      <th>Land Contour</th>\n      <th>Utilities</th>\n      <th>Lot Config</th>\n      <th>Land Slope</th>\n      <th>Neighborhood</th>\n      <th>Condition 1</th>\n      <th>Condition 2</th>\n      <th>Bldg Type</th>\n      <th>House Style</th>\n      <th>Overall Qual</th>\n      <th>Overall Cond</th>\n      <th>Roof Style</th>\n      <th>Roof Matl</th>\n      <th>Exterior 1st</th>\n      <th>Exterior 2nd</th>\n      <th>Mas Vnr Area</th>\n      <th>Exter Qual</th>\n      <th>Exter Cond</th>\n      <th>Foundation</th>\n      <th>BsmtFin SF 1</th>\n      <th>BsmtFin SF 2</th>\n      <th>Bsmt Unf SF</th>\n      <th>Total Bsmt SF</th>\n      <th>Heating</th>\n      <th>Heating QC</th>\n      <th>Central Air</th>\n      <th>1st Flr SF</th>\n      <th>2nd Flr SF</th>\n      <th>Low Qual Fin SF</th>\n      <th>Gr Liv Area</th>\n      <th>Bsmt Full Bath</th>\n      <th>Bsmt Half Bath</th>\n      <th>Full Bath</th>\n      <th>Half Bath</th>\n      <th>Bedroom AbvGr</th>\n      <th>Kitchen AbvGr</th>\n      <th>Kitchen Qual</th>\n      <th>TotRms AbvGrd</th>\n      <th>Functional</th>\n      <th>Fireplaces</th>\n      <th>Garage Cars</th>\n      <th>Garage Area</th>\n      <th>Paved Drive</th>\n      <th>Wood Deck SF</th>\n      <th>Open Porch SF</th>\n      <th>Enclosed Porch</th>\n      <th>3Ssn Porch</th>\n      <th>Screen Porch</th>\n      <th>Pool Area</th>\n      <th>Misc Val</th>\n      <th>Yr Sold</th>\n      <th>SalePrice</th>\n      <th>Years Before Sale</th>\n      <th>Years Since Remod</th>\n    </tr>\n  </thead>\n  <tbody>\n    <tr>\n      <th>0</th>\n      <td>20</td>\n      <td>RL</td>\n      <td>31770</td>\n      <td>Pave</td>\n      <td>IR1</td>\n      <td>Lvl</td>\n      <td>AllPub</td>\n      <td>Corner</td>\n      <td>Gtl</td>\n      <td>NAmes</td>\n      <td>Norm</td>\n      <td>Norm</td>\n      <td>1Fam</td>\n      <td>1Story</td>\n      <td>6</td>\n      <td>5</td>\n      <td>Hip</td>\n      <td>CompShg</td>\n      <td>BrkFace</td>\n      <td>Plywood</td>\n      <td>112.0</td>\n      <td>TA</td>\n      <td>TA</td>\n      <td>CBlock</td>\n      <td>639.0</td>\n      <td>0.0</td>\n      <td>441.0</td>\n      <td>1080.0</td>\n      <td>GasA</td>\n      <td>Fa</td>\n      <td>Y</td>\n      <td>1656</td>\n      <td>0</td>\n      <td>0</td>\n      <td>1656</td>\n      <td>1.0</td>\n      <td>0.0</td>\n      <td>1</td>\n      <td>0</td>\n      <td>3</td>\n      <td>1</td>\n      <td>TA</td>\n      <td>7</td>\n      <td>Typ</td>\n      <td>2</td>\n      <td>2.0</td>\n      <td>528.0</td>\n      <td>P</td>\n      <td>210</td>\n      <td>62</td>\n      <td>0</td>\n      <td>0</td>\n      <td>0</td>\n      <td>0</td>\n      <td>0</td>\n      <td>2010</td>\n      <td>215000</td>\n      <td>50</td>\n      <td>50</td>\n    </tr>\n    <tr>\n      <th>1</th>\n      <td>20</td>\n      <td>RH</td>\n      <td>11622</td>\n      <td>Pave</td>\n      <td>Reg</td>\n      <td>Lvl</td>\n      <td>AllPub</td>\n      <td>Inside</td>\n      <td>Gtl</td>\n      <td>NAmes</td>\n      <td>Feedr</td>\n      <td>Norm</td>\n      <td>1Fam</td>\n      <td>1Story</td>\n      <td>5</td>\n      <td>6</td>\n      <td>Gable</td>\n      <td>CompShg</td>\n      <td>VinylSd</td>\n      <td>VinylSd</td>\n      <td>0.0</td>\n      <td>TA</td>\n      <td>TA</td>\n      <td>CBlock</td>\n      <td>468.0</td>\n      <td>144.0</td>\n      <td>270.0</td>\n      <td>882.0</td>\n      <td>GasA</td>\n      <td>TA</td>\n      <td>Y</td>\n      <td>896</td>\n      <td>0</td>\n      <td>0</td>\n      <td>896</td>\n      <td>0.0</td>\n      <td>0.0</td>\n      <td>1</td>\n      <td>0</td>\n      <td>2</td>\n      <td>1</td>\n      <td>TA</td>\n      <td>5</td>\n      <td>Typ</td>\n      <td>0</td>\n      <td>1.0</td>\n      <td>730.0</td>\n      <td>Y</td>\n      <td>140</td>\n      <td>0</td>\n      <td>0</td>\n      <td>0</td>\n      <td>120</td>\n      <td>0</td>\n      <td>0</td>\n      <td>2010</td>\n      <td>105000</td>\n      <td>49</td>\n      <td>49</td>\n    </tr>\n    <tr>\n      <th>2</th>\n      <td>20</td>\n      <td>RL</td>\n      <td>14267</td>\n      <td>Pave</td>\n      <td>IR1</td>\n      <td>Lvl</td>\n      <td>AllPub</td>\n      <td>Corner</td>\n      <td>Gtl</td>\n      <td>NAmes</td>\n      <td>Norm</td>\n      <td>Norm</td>\n      <td>1Fam</td>\n      <td>1Story</td>\n      <td>6</td>\n      <td>6</td>\n      <td>Hip</td>\n      <td>CompShg</td>\n      <td>Wd Sdng</td>\n      <td>Wd Sdng</td>\n      <td>108.0</td>\n      <td>TA</td>\n      <td>TA</td>\n      <td>CBlock</td>\n      <td>923.0</td>\n      <td>0.0</td>\n      <td>406.0</td>\n      <td>1329.0</td>\n      <td>GasA</td>\n      <td>TA</td>\n      <td>Y</td>\n      <td>1329</td>\n      <td>0</td>\n      <td>0</td>\n      <td>1329</td>\n      <td>0.0</td>\n      <td>0.0</td>\n      <td>1</td>\n      <td>1</td>\n      <td>3</td>\n      <td>1</td>\n      <td>Gd</td>\n      <td>6</td>\n      <td>Typ</td>\n      <td>0</td>\n      <td>1.0</td>\n      <td>312.0</td>\n      <td>Y</td>\n      <td>393</td>\n      <td>36</td>\n      <td>0</td>\n      <td>0</td>\n      <td>0</td>\n      <td>0</td>\n      <td>12500</td>\n      <td>2010</td>\n      <td>172000</td>\n      <td>52</td>\n      <td>52</td>\n    </tr>\n    <tr>\n      <th>3</th>\n      <td>20</td>\n      <td>RL</td>\n      <td>11160</td>\n      <td>Pave</td>\n      <td>Reg</td>\n      <td>Lvl</td>\n      <td>AllPub</td>\n      <td>Corner</td>\n      <td>Gtl</td>\n      <td>NAmes</td>\n      <td>Norm</td>\n      <td>Norm</td>\n      <td>1Fam</td>\n      <td>1Story</td>\n      <td>7</td>\n      <td>5</td>\n      <td>Hip</td>\n      <td>CompShg</td>\n      <td>BrkFace</td>\n      <td>BrkFace</td>\n      <td>0.0</td>\n      <td>Gd</td>\n      <td>TA</td>\n      <td>CBlock</td>\n      <td>1065.0</td>\n      <td>0.0</td>\n      <td>1045.0</td>\n      <td>2110.0</td>\n      <td>GasA</td>\n      <td>Ex</td>\n      <td>Y</td>\n      <td>2110</td>\n      <td>0</td>\n      <td>0</td>\n      <td>2110</td>\n      <td>1.0</td>\n      <td>0.0</td>\n      <td>2</td>\n      <td>1</td>\n      <td>3</td>\n      <td>1</td>\n      <td>Ex</td>\n      <td>8</td>\n      <td>Typ</td>\n      <td>2</td>\n      <td>2.0</td>\n      <td>522.0</td>\n      <td>Y</td>\n      <td>0</td>\n      <td>0</td>\n      <td>0</td>\n      <td>0</td>\n      <td>0</td>\n      <td>0</td>\n      <td>0</td>\n      <td>2010</td>\n      <td>244000</td>\n      <td>42</td>\n      <td>42</td>\n    </tr>\n    <tr>\n      <th>4</th>\n      <td>60</td>\n      <td>RL</td>\n      <td>13830</td>\n      <td>Pave</td>\n      <td>IR1</td>\n      <td>Lvl</td>\n      <td>AllPub</td>\n      <td>Inside</td>\n      <td>Gtl</td>\n      <td>Gilbert</td>\n      <td>Norm</td>\n      <td>Norm</td>\n      <td>1Fam</td>\n      <td>2Story</td>\n      <td>5</td>\n      <td>5</td>\n      <td>Gable</td>\n      <td>CompShg</td>\n      <td>VinylSd</td>\n      <td>VinylSd</td>\n      <td>0.0</td>\n      <td>TA</td>\n      <td>TA</td>\n      <td>PConc</td>\n      <td>791.0</td>\n      <td>0.0</td>\n      <td>137.0</td>\n      <td>928.0</td>\n      <td>GasA</td>\n      <td>Gd</td>\n      <td>Y</td>\n      <td>928</td>\n      <td>701</td>\n      <td>0</td>\n      <td>1629</td>\n      <td>0.0</td>\n      <td>0.0</td>\n      <td>2</td>\n      <td>1</td>\n      <td>3</td>\n      <td>1</td>\n      <td>TA</td>\n      <td>6</td>\n      <td>Typ</td>\n      <td>1</td>\n      <td>2.0</td>\n      <td>482.0</td>\n      <td>Y</td>\n      <td>212</td>\n      <td>34</td>\n      <td>0</td>\n      <td>0</td>\n      <td>0</td>\n      <td>0</td>\n      <td>0</td>\n      <td>2010</td>\n      <td>189900</td>\n      <td>13</td>\n      <td>12</td>\n    </tr>\n    <tr>\n      <th>...</th>\n      <td>...</td>\n      <td>...</td>\n      <td>...</td>\n      <td>...</td>\n      <td>...</td>\n      <td>...</td>\n      <td>...</td>\n      <td>...</td>\n      <td>...</td>\n      <td>...</td>\n      <td>...</td>\n      <td>...</td>\n      <td>...</td>\n      <td>...</td>\n      <td>...</td>\n      <td>...</td>\n      <td>...</td>\n      <td>...</td>\n      <td>...</td>\n      <td>...</td>\n      <td>...</td>\n      <td>...</td>\n      <td>...</td>\n      <td>...</td>\n      <td>...</td>\n      <td>...</td>\n      <td>...</td>\n      <td>...</td>\n      <td>...</td>\n      <td>...</td>\n      <td>...</td>\n      <td>...</td>\n      <td>...</td>\n      <td>...</td>\n      <td>...</td>\n      <td>...</td>\n      <td>...</td>\n      <td>...</td>\n      <td>...</td>\n      <td>...</td>\n      <td>...</td>\n      <td>...</td>\n      <td>...</td>\n      <td>...</td>\n      <td>...</td>\n      <td>...</td>\n      <td>...</td>\n      <td>...</td>\n      <td>...</td>\n      <td>...</td>\n      <td>...</td>\n      <td>...</td>\n      <td>...</td>\n      <td>...</td>\n      <td>...</td>\n      <td>...</td>\n      <td>...</td>\n      <td>...</td>\n      <td>...</td>\n    </tr>\n    <tr>\n      <th>2925</th>\n      <td>80</td>\n      <td>RL</td>\n      <td>7937</td>\n      <td>Pave</td>\n      <td>IR1</td>\n      <td>Lvl</td>\n      <td>AllPub</td>\n      <td>CulDSac</td>\n      <td>Gtl</td>\n      <td>Mitchel</td>\n      <td>Norm</td>\n      <td>Norm</td>\n      <td>1Fam</td>\n      <td>SLvl</td>\n      <td>6</td>\n      <td>6</td>\n      <td>Gable</td>\n      <td>CompShg</td>\n      <td>HdBoard</td>\n      <td>HdBoard</td>\n      <td>0.0</td>\n      <td>TA</td>\n      <td>TA</td>\n      <td>CBlock</td>\n      <td>819.0</td>\n      <td>0.0</td>\n      <td>184.0</td>\n      <td>1003.0</td>\n      <td>GasA</td>\n      <td>TA</td>\n      <td>Y</td>\n      <td>1003</td>\n      <td>0</td>\n      <td>0</td>\n      <td>1003</td>\n      <td>1.0</td>\n      <td>0.0</td>\n      <td>1</td>\n      <td>0</td>\n      <td>3</td>\n      <td>1</td>\n      <td>TA</td>\n      <td>6</td>\n      <td>Typ</td>\n      <td>0</td>\n      <td>2.0</td>\n      <td>588.0</td>\n      <td>Y</td>\n      <td>120</td>\n      <td>0</td>\n      <td>0</td>\n      <td>0</td>\n      <td>0</td>\n      <td>0</td>\n      <td>0</td>\n      <td>2006</td>\n      <td>142500</td>\n      <td>22</td>\n      <td>22</td>\n    </tr>\n    <tr>\n      <th>2926</th>\n      <td>20</td>\n      <td>RL</td>\n      <td>8885</td>\n      <td>Pave</td>\n      <td>IR1</td>\n      <td>Low</td>\n      <td>AllPub</td>\n      <td>Inside</td>\n      <td>Mod</td>\n      <td>Mitchel</td>\n      <td>Norm</td>\n      <td>Norm</td>\n      <td>1Fam</td>\n      <td>1Story</td>\n      <td>5</td>\n      <td>5</td>\n      <td>Gable</td>\n      <td>CompShg</td>\n      <td>HdBoard</td>\n      <td>HdBoard</td>\n      <td>0.0</td>\n      <td>TA</td>\n      <td>TA</td>\n      <td>CBlock</td>\n      <td>301.0</td>\n      <td>324.0</td>\n      <td>239.0</td>\n      <td>864.0</td>\n      <td>GasA</td>\n      <td>TA</td>\n      <td>Y</td>\n      <td>902</td>\n      <td>0</td>\n      <td>0</td>\n      <td>902</td>\n      <td>1.0</td>\n      <td>0.0</td>\n      <td>1</td>\n      <td>0</td>\n      <td>2</td>\n      <td>1</td>\n      <td>TA</td>\n      <td>5</td>\n      <td>Typ</td>\n      <td>0</td>\n      <td>2.0</td>\n      <td>484.0</td>\n      <td>Y</td>\n      <td>164</td>\n      <td>0</td>\n      <td>0</td>\n      <td>0</td>\n      <td>0</td>\n      <td>0</td>\n      <td>0</td>\n      <td>2006</td>\n      <td>131000</td>\n      <td>23</td>\n      <td>23</td>\n    </tr>\n    <tr>\n      <th>2927</th>\n      <td>85</td>\n      <td>RL</td>\n      <td>10441</td>\n      <td>Pave</td>\n      <td>Reg</td>\n      <td>Lvl</td>\n      <td>AllPub</td>\n      <td>Inside</td>\n      <td>Gtl</td>\n      <td>Mitchel</td>\n      <td>Norm</td>\n      <td>Norm</td>\n      <td>1Fam</td>\n      <td>SFoyer</td>\n      <td>5</td>\n      <td>5</td>\n      <td>Gable</td>\n      <td>CompShg</td>\n      <td>HdBoard</td>\n      <td>Wd Shng</td>\n      <td>0.0</td>\n      <td>TA</td>\n      <td>TA</td>\n      <td>PConc</td>\n      <td>337.0</td>\n      <td>0.0</td>\n      <td>575.0</td>\n      <td>912.0</td>\n      <td>GasA</td>\n      <td>TA</td>\n      <td>Y</td>\n      <td>970</td>\n      <td>0</td>\n      <td>0</td>\n      <td>970</td>\n      <td>0.0</td>\n      <td>1.0</td>\n      <td>1</td>\n      <td>0</td>\n      <td>3</td>\n      <td>1</td>\n      <td>TA</td>\n      <td>6</td>\n      <td>Typ</td>\n      <td>0</td>\n      <td>0.0</td>\n      <td>0.0</td>\n      <td>Y</td>\n      <td>80</td>\n      <td>32</td>\n      <td>0</td>\n      <td>0</td>\n      <td>0</td>\n      <td>0</td>\n      <td>700</td>\n      <td>2006</td>\n      <td>132000</td>\n      <td>14</td>\n      <td>14</td>\n    </tr>\n    <tr>\n      <th>2928</th>\n      <td>20</td>\n      <td>RL</td>\n      <td>10010</td>\n      <td>Pave</td>\n      <td>Reg</td>\n      <td>Lvl</td>\n      <td>AllPub</td>\n      <td>Inside</td>\n      <td>Mod</td>\n      <td>Mitchel</td>\n      <td>Norm</td>\n      <td>Norm</td>\n      <td>1Fam</td>\n      <td>1Story</td>\n      <td>5</td>\n      <td>5</td>\n      <td>Gable</td>\n      <td>CompShg</td>\n      <td>HdBoard</td>\n      <td>HdBoard</td>\n      <td>0.0</td>\n      <td>TA</td>\n      <td>TA</td>\n      <td>CBlock</td>\n      <td>1071.0</td>\n      <td>123.0</td>\n      <td>195.0</td>\n      <td>1389.0</td>\n      <td>GasA</td>\n      <td>Gd</td>\n      <td>Y</td>\n      <td>1389</td>\n      <td>0</td>\n      <td>0</td>\n      <td>1389</td>\n      <td>1.0</td>\n      <td>0.0</td>\n      <td>1</td>\n      <td>0</td>\n      <td>2</td>\n      <td>1</td>\n      <td>TA</td>\n      <td>6</td>\n      <td>Typ</td>\n      <td>1</td>\n      <td>2.0</td>\n      <td>418.0</td>\n      <td>Y</td>\n      <td>240</td>\n      <td>38</td>\n      <td>0</td>\n      <td>0</td>\n      <td>0</td>\n      <td>0</td>\n      <td>0</td>\n      <td>2006</td>\n      <td>170000</td>\n      <td>32</td>\n      <td>31</td>\n    </tr>\n    <tr>\n      <th>2929</th>\n      <td>60</td>\n      <td>RL</td>\n      <td>9627</td>\n      <td>Pave</td>\n      <td>Reg</td>\n      <td>Lvl</td>\n      <td>AllPub</td>\n      <td>Inside</td>\n      <td>Mod</td>\n      <td>Mitchel</td>\n      <td>Norm</td>\n      <td>Norm</td>\n      <td>1Fam</td>\n      <td>2Story</td>\n      <td>7</td>\n      <td>5</td>\n      <td>Gable</td>\n      <td>CompShg</td>\n      <td>HdBoard</td>\n      <td>HdBoard</td>\n      <td>94.0</td>\n      <td>TA</td>\n      <td>TA</td>\n      <td>PConc</td>\n      <td>758.0</td>\n      <td>0.0</td>\n      <td>238.0</td>\n      <td>996.0</td>\n      <td>GasA</td>\n      <td>Ex</td>\n      <td>Y</td>\n      <td>996</td>\n      <td>1004</td>\n      <td>0</td>\n      <td>2000</td>\n      <td>0.0</td>\n      <td>0.0</td>\n      <td>2</td>\n      <td>1</td>\n      <td>3</td>\n      <td>1</td>\n      <td>TA</td>\n      <td>9</td>\n      <td>Typ</td>\n      <td>1</td>\n      <td>3.0</td>\n      <td>650.0</td>\n      <td>Y</td>\n      <td>190</td>\n      <td>48</td>\n      <td>0</td>\n      <td>0</td>\n      <td>0</td>\n      <td>0</td>\n      <td>0</td>\n      <td>2006</td>\n      <td>188000</td>\n      <td>13</td>\n      <td>12</td>\n    </tr>\n  </tbody>\n</table>\n<p>2927 rows × 59 columns</p>\n</div>"
     },
     "execution_count": 155,
     "metadata": {},
     "output_type": "execute_result"
    }
   ],
   "source": [
    "transform_features(house)"
   ],
   "metadata": {
    "collapsed": false,
    "ExecuteTime": {
     "end_time": "2023-11-03T03:27:47.625544Z",
     "start_time": "2023-11-03T03:27:47.498707Z"
    }
   }
  },
  {
   "cell_type": "code",
   "execution_count": 156,
   "outputs": [
    {
     "data": {
      "text/plain": "(2930, 70)"
     },
     "execution_count": 156,
     "metadata": {},
     "output_type": "execute_result"
    }
   ],
   "source": [
    "house.shape"
   ],
   "metadata": {
    "collapsed": false,
    "ExecuteTime": {
     "end_time": "2023-11-03T03:42:41.576042Z",
     "start_time": "2023-11-03T03:42:41.425334Z"
    }
   }
  },
  {
   "cell_type": "code",
   "execution_count": null,
   "outputs": [],
   "source": [],
   "metadata": {
    "collapsed": false
   }
  }
 ],
 "metadata": {
  "kernelspec": {
   "display_name": "Python 3",
   "language": "python",
   "name": "python3"
  },
  "language_info": {
   "codemirror_mode": {
    "name": "ipython",
    "version": 3
   },
   "file_extension": ".py",
   "mimetype": "text/x-python",
   "name": "python",
   "nbconvert_exporter": "python",
   "pygments_lexer": "ipython3",
   "version": "3.7.7"
  }
 },
 "nbformat": 4,
 "nbformat_minor": 2
}
