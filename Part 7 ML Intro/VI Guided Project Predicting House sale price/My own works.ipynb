{
 "cells": [
  {
   "cell_type": "markdown",
   "source": [],
   "metadata": {
    "collapsed": false
   },
   "id": "6c1783339efd55de"
  },
  {
   "cell_type": "code",
   "execution_count": 48,
   "id": "initial_id",
   "metadata": {
    "collapsed": true,
    "ExecuteTime": {
     "end_time": "2023-11-02T13:16:01.981527Z",
     "start_time": "2023-11-02T13:16:01.705355Z"
    }
   },
   "outputs": [],
   "source": [
    "import pandas as pd\n",
    "import numpy as np\n",
    "import matplotlib as plt\n",
    "\n",
    "from sklearn.linear_model import LinearRegression\n",
    "from sklearn.metrics import mean_squared_error"
   ]
  },
  {
   "cell_type": "code",
   "execution_count": 107,
   "outputs": [],
   "source": [
    "house = pd.read_csv('AmesHousing.tsv', delimiter='\\t')"
   ],
   "metadata": {
    "collapsed": false,
    "ExecuteTime": {
     "end_time": "2023-11-02T14:03:48.492219Z",
     "start_time": "2023-11-02T14:03:48.452103Z"
    }
   },
   "id": "12478f960a4d4b84"
  },
  {
   "cell_type": "code",
   "execution_count": 50,
   "outputs": [
    {
     "data": {
      "text/plain": "      Order        PID  MS SubClass MS Zoning  Lot Frontage  Lot Area Street   \n0         1  526301100           20        RL         141.0     31770   Pave  \\\n1         2  526350040           20        RH          80.0     11622   Pave   \n2         3  526351010           20        RL          81.0     14267   Pave   \n3         4  526353030           20        RL          93.0     11160   Pave   \n4         5  527105010           60        RL          74.0     13830   Pave   \n...     ...        ...          ...       ...           ...       ...    ...   \n2925   2926  923275080           80        RL          37.0      7937   Pave   \n2926   2927  923276100           20        RL           NaN      8885   Pave   \n2927   2928  923400125           85        RL          62.0     10441   Pave   \n2928   2929  924100070           20        RL          77.0     10010   Pave   \n2929   2930  924151050           60        RL          74.0      9627   Pave   \n\n     Alley Lot Shape Land Contour  ... Pool Area Pool QC  Fence Misc Feature   \n0      NaN       IR1          Lvl  ...         0     NaN    NaN          NaN  \\\n1      NaN       Reg          Lvl  ...         0     NaN  MnPrv          NaN   \n2      NaN       IR1          Lvl  ...         0     NaN    NaN         Gar2   \n3      NaN       Reg          Lvl  ...         0     NaN    NaN          NaN   \n4      NaN       IR1          Lvl  ...         0     NaN  MnPrv          NaN   \n...    ...       ...          ...  ...       ...     ...    ...          ...   \n2925   NaN       IR1          Lvl  ...         0     NaN  GdPrv          NaN   \n2926   NaN       IR1          Low  ...         0     NaN  MnPrv          NaN   \n2927   NaN       Reg          Lvl  ...         0     NaN  MnPrv         Shed   \n2928   NaN       Reg          Lvl  ...         0     NaN    NaN          NaN   \n2929   NaN       Reg          Lvl  ...         0     NaN    NaN          NaN   \n\n     Misc Val Mo Sold Yr Sold Sale Type  Sale Condition  SalePrice  \n0           0       5    2010       WD           Normal     215000  \n1           0       6    2010       WD           Normal     105000  \n2       12500       6    2010       WD           Normal     172000  \n3           0       4    2010       WD           Normal     244000  \n4           0       3    2010       WD           Normal     189900  \n...       ...     ...     ...       ...             ...        ...  \n2925        0       3    2006       WD           Normal     142500  \n2926        0       6    2006       WD           Normal     131000  \n2927      700       7    2006       WD           Normal     132000  \n2928        0       4    2006       WD           Normal     170000  \n2929        0      11    2006       WD           Normal     188000  \n\n[2930 rows x 82 columns]",
      "text/html": "<div>\n<style scoped>\n    .dataframe tbody tr th:only-of-type {\n        vertical-align: middle;\n    }\n\n    .dataframe tbody tr th {\n        vertical-align: top;\n    }\n\n    .dataframe thead th {\n        text-align: right;\n    }\n</style>\n<table border=\"1\" class=\"dataframe\">\n  <thead>\n    <tr style=\"text-align: right;\">\n      <th></th>\n      <th>Order</th>\n      <th>PID</th>\n      <th>MS SubClass</th>\n      <th>MS Zoning</th>\n      <th>Lot Frontage</th>\n      <th>Lot Area</th>\n      <th>Street</th>\n      <th>Alley</th>\n      <th>Lot Shape</th>\n      <th>Land Contour</th>\n      <th>...</th>\n      <th>Pool Area</th>\n      <th>Pool QC</th>\n      <th>Fence</th>\n      <th>Misc Feature</th>\n      <th>Misc Val</th>\n      <th>Mo Sold</th>\n      <th>Yr Sold</th>\n      <th>Sale Type</th>\n      <th>Sale Condition</th>\n      <th>SalePrice</th>\n    </tr>\n  </thead>\n  <tbody>\n    <tr>\n      <th>0</th>\n      <td>1</td>\n      <td>526301100</td>\n      <td>20</td>\n      <td>RL</td>\n      <td>141.0</td>\n      <td>31770</td>\n      <td>Pave</td>\n      <td>NaN</td>\n      <td>IR1</td>\n      <td>Lvl</td>\n      <td>...</td>\n      <td>0</td>\n      <td>NaN</td>\n      <td>NaN</td>\n      <td>NaN</td>\n      <td>0</td>\n      <td>5</td>\n      <td>2010</td>\n      <td>WD</td>\n      <td>Normal</td>\n      <td>215000</td>\n    </tr>\n    <tr>\n      <th>1</th>\n      <td>2</td>\n      <td>526350040</td>\n      <td>20</td>\n      <td>RH</td>\n      <td>80.0</td>\n      <td>11622</td>\n      <td>Pave</td>\n      <td>NaN</td>\n      <td>Reg</td>\n      <td>Lvl</td>\n      <td>...</td>\n      <td>0</td>\n      <td>NaN</td>\n      <td>MnPrv</td>\n      <td>NaN</td>\n      <td>0</td>\n      <td>6</td>\n      <td>2010</td>\n      <td>WD</td>\n      <td>Normal</td>\n      <td>105000</td>\n    </tr>\n    <tr>\n      <th>2</th>\n      <td>3</td>\n      <td>526351010</td>\n      <td>20</td>\n      <td>RL</td>\n      <td>81.0</td>\n      <td>14267</td>\n      <td>Pave</td>\n      <td>NaN</td>\n      <td>IR1</td>\n      <td>Lvl</td>\n      <td>...</td>\n      <td>0</td>\n      <td>NaN</td>\n      <td>NaN</td>\n      <td>Gar2</td>\n      <td>12500</td>\n      <td>6</td>\n      <td>2010</td>\n      <td>WD</td>\n      <td>Normal</td>\n      <td>172000</td>\n    </tr>\n    <tr>\n      <th>3</th>\n      <td>4</td>\n      <td>526353030</td>\n      <td>20</td>\n      <td>RL</td>\n      <td>93.0</td>\n      <td>11160</td>\n      <td>Pave</td>\n      <td>NaN</td>\n      <td>Reg</td>\n      <td>Lvl</td>\n      <td>...</td>\n      <td>0</td>\n      <td>NaN</td>\n      <td>NaN</td>\n      <td>NaN</td>\n      <td>0</td>\n      <td>4</td>\n      <td>2010</td>\n      <td>WD</td>\n      <td>Normal</td>\n      <td>244000</td>\n    </tr>\n    <tr>\n      <th>4</th>\n      <td>5</td>\n      <td>527105010</td>\n      <td>60</td>\n      <td>RL</td>\n      <td>74.0</td>\n      <td>13830</td>\n      <td>Pave</td>\n      <td>NaN</td>\n      <td>IR1</td>\n      <td>Lvl</td>\n      <td>...</td>\n      <td>0</td>\n      <td>NaN</td>\n      <td>MnPrv</td>\n      <td>NaN</td>\n      <td>0</td>\n      <td>3</td>\n      <td>2010</td>\n      <td>WD</td>\n      <td>Normal</td>\n      <td>189900</td>\n    </tr>\n    <tr>\n      <th>...</th>\n      <td>...</td>\n      <td>...</td>\n      <td>...</td>\n      <td>...</td>\n      <td>...</td>\n      <td>...</td>\n      <td>...</td>\n      <td>...</td>\n      <td>...</td>\n      <td>...</td>\n      <td>...</td>\n      <td>...</td>\n      <td>...</td>\n      <td>...</td>\n      <td>...</td>\n      <td>...</td>\n      <td>...</td>\n      <td>...</td>\n      <td>...</td>\n      <td>...</td>\n      <td>...</td>\n    </tr>\n    <tr>\n      <th>2925</th>\n      <td>2926</td>\n      <td>923275080</td>\n      <td>80</td>\n      <td>RL</td>\n      <td>37.0</td>\n      <td>7937</td>\n      <td>Pave</td>\n      <td>NaN</td>\n      <td>IR1</td>\n      <td>Lvl</td>\n      <td>...</td>\n      <td>0</td>\n      <td>NaN</td>\n      <td>GdPrv</td>\n      <td>NaN</td>\n      <td>0</td>\n      <td>3</td>\n      <td>2006</td>\n      <td>WD</td>\n      <td>Normal</td>\n      <td>142500</td>\n    </tr>\n    <tr>\n      <th>2926</th>\n      <td>2927</td>\n      <td>923276100</td>\n      <td>20</td>\n      <td>RL</td>\n      <td>NaN</td>\n      <td>8885</td>\n      <td>Pave</td>\n      <td>NaN</td>\n      <td>IR1</td>\n      <td>Low</td>\n      <td>...</td>\n      <td>0</td>\n      <td>NaN</td>\n      <td>MnPrv</td>\n      <td>NaN</td>\n      <td>0</td>\n      <td>6</td>\n      <td>2006</td>\n      <td>WD</td>\n      <td>Normal</td>\n      <td>131000</td>\n    </tr>\n    <tr>\n      <th>2927</th>\n      <td>2928</td>\n      <td>923400125</td>\n      <td>85</td>\n      <td>RL</td>\n      <td>62.0</td>\n      <td>10441</td>\n      <td>Pave</td>\n      <td>NaN</td>\n      <td>Reg</td>\n      <td>Lvl</td>\n      <td>...</td>\n      <td>0</td>\n      <td>NaN</td>\n      <td>MnPrv</td>\n      <td>Shed</td>\n      <td>700</td>\n      <td>7</td>\n      <td>2006</td>\n      <td>WD</td>\n      <td>Normal</td>\n      <td>132000</td>\n    </tr>\n    <tr>\n      <th>2928</th>\n      <td>2929</td>\n      <td>924100070</td>\n      <td>20</td>\n      <td>RL</td>\n      <td>77.0</td>\n      <td>10010</td>\n      <td>Pave</td>\n      <td>NaN</td>\n      <td>Reg</td>\n      <td>Lvl</td>\n      <td>...</td>\n      <td>0</td>\n      <td>NaN</td>\n      <td>NaN</td>\n      <td>NaN</td>\n      <td>0</td>\n      <td>4</td>\n      <td>2006</td>\n      <td>WD</td>\n      <td>Normal</td>\n      <td>170000</td>\n    </tr>\n    <tr>\n      <th>2929</th>\n      <td>2930</td>\n      <td>924151050</td>\n      <td>60</td>\n      <td>RL</td>\n      <td>74.0</td>\n      <td>9627</td>\n      <td>Pave</td>\n      <td>NaN</td>\n      <td>Reg</td>\n      <td>Lvl</td>\n      <td>...</td>\n      <td>0</td>\n      <td>NaN</td>\n      <td>NaN</td>\n      <td>NaN</td>\n      <td>0</td>\n      <td>11</td>\n      <td>2006</td>\n      <td>WD</td>\n      <td>Normal</td>\n      <td>188000</td>\n    </tr>\n  </tbody>\n</table>\n<p>2930 rows × 82 columns</p>\n</div>"
     },
     "execution_count": 50,
     "metadata": {},
     "output_type": "execute_result"
    }
   ],
   "source": [
    "house"
   ],
   "metadata": {
    "collapsed": false,
    "ExecuteTime": {
     "end_time": "2023-11-02T13:16:02.049750Z",
     "start_time": "2023-11-02T13:16:01.754826Z"
    }
   },
   "id": "50dd00e5a7575c7"
  },
  {
   "cell_type": "code",
   "execution_count": 51,
   "outputs": [],
   "source": [
    "def transform_features(df):\n",
    "    return df\n",
    "\n",
    "def select_features(df):\n",
    "    return df[['Gr Liv Area','SalePrice']]\n",
    "\n",
    "def train_and_test(df):\n",
    "    train = df[:1460]\n",
    "    test = df[1460:]\n",
    "\n",
    "    numeric_train = train.select_dtypes(include=['integer', 'float'])\n",
    "    numeric_test = test.select_dtypes(include=['integer', 'float'])\n",
    "\n",
    "    \n",
    "    numeric_features = numeric_train.columns.drop(['SalePrice'])\n",
    "\n",
    "    lr = LinearRegression()\n",
    "    lr.fit(train[numeric_features], train['SalePrice'])\n",
    "\n",
    "    # train_predictions = lr.predict(train[numeric_features])\n",
    "    test_predictions = lr.predict(test[numeric_features])\n",
    "\n",
    "\n",
    "    # train_mse = mean_squared_error(train_predictions, train['SalePrice'])\n",
    "    test_mse = mean_squared_error(test_predictions,test['SalePrice'])\n",
    "\n",
    "    # train_rmse = np.sqrt(train_mse)\n",
    "    test_rmse = np.sqrt(test_mse)\n",
    "\n",
    "    return (test_mse, test_rmse)\n",
    "    "
   ],
   "metadata": {
    "collapsed": false,
    "ExecuteTime": {
     "end_time": "2023-11-02T13:16:02.049856Z",
     "start_time": "2023-11-02T13:16:01.760732Z"
    }
   },
   "id": "9bb172bdbc522874"
  },
  {
   "cell_type": "code",
   "execution_count": 52,
   "outputs": [
    {
     "data": {
      "text/plain": "(3259068472.1879897, 57088.25161263909)"
     },
     "execution_count": 52,
     "metadata": {},
     "output_type": "execute_result"
    }
   ],
   "source": [
    "transform_df = transform_features(house)\n",
    "filtered_df = select_features(transform_df)\n",
    "\n",
    "train_and_test(filtered_df)\n",
    "# rmse = train_and_test(filtered_df)\n",
    "# # \n",
    "# rmse"
   ],
   "metadata": {
    "collapsed": false,
    "ExecuteTime": {
     "end_time": "2023-11-02T13:16:02.050057Z",
     "start_time": "2023-11-02T13:16:01.764964Z"
    }
   },
   "id": "bd2e1b1548330b08"
  },
  {
   "cell_type": "markdown",
   "source": [
    "# Feature Engineering"
   ],
   "metadata": {
    "collapsed": false
   },
   "id": "989dfe83a76c16bd"
  },
  {
   "cell_type": "code",
   "execution_count": 53,
   "outputs": [],
   "source": [
    "# All columns \n",
    "# 1. Drop any columns with more than 5% missing data (more_5pc_column)\n",
    "\n",
    "# 2. Sort out all numerical columns \n",
    "\n",
    "# 3. Fill the missing value column with the most frequent value in that column"
   ],
   "metadata": {
    "collapsed": false,
    "ExecuteTime": {
     "end_time": "2023-11-02T13:16:02.050133Z",
     "start_time": "2023-11-02T13:16:01.774803Z"
    }
   },
   "id": "cc8ad1938cece11a"
  },
  {
   "cell_type": "code",
   "execution_count": 54,
   "outputs": [],
   "source": [
    "#1. "
   ],
   "metadata": {
    "collapsed": false,
    "ExecuteTime": {
     "end_time": "2023-11-02T13:16:02.050210Z",
     "start_time": "2023-11-02T13:16:01.778223Z"
    }
   },
   "id": "c1116cc868d225ff"
  },
  {
   "cell_type": "code",
   "execution_count": 55,
   "outputs": [],
   "source": [
    "temp = ((house.isnull().sum() / house.shape[1])> 0.05) \n",
    "more_5pc_column = ([index for index, value in temp.items() if value == False]) "
   ],
   "metadata": {
    "collapsed": false,
    "ExecuteTime": {
     "end_time": "2023-11-02T13:16:02.050289Z",
     "start_time": "2023-11-02T13:16:01.786591Z"
    }
   },
   "id": "a320c2c207e32956"
  },
  {
   "cell_type": "code",
   "execution_count": 56,
   "outputs": [
    {
     "data": {
      "text/plain": "Bsmt Full Bath    2\nBsmt Half Bath    2\nBsmtFin SF 2      1\nGarage Cars       1\nGarage Area       1\n                 ..\nExter Qual        0\nExter Cond        0\nFoundation        0\nHeating           0\nSalePrice         0\nLength: 64, dtype: int64"
     },
     "execution_count": 56,
     "metadata": {},
     "output_type": "execute_result"
    }
   ],
   "source": [
    "house[more_5pc_column].isnull().sum().sort_values(ascending=False)"
   ],
   "metadata": {
    "collapsed": false,
    "ExecuteTime": {
     "end_time": "2023-11-02T13:16:02.050626Z",
     "start_time": "2023-11-02T13:16:01.794090Z"
    }
   },
   "id": "9da3464467ff8e95"
  },
  {
   "cell_type": "code",
   "execution_count": 57,
   "outputs": [],
   "source": [
    "# 2. Sort out all numerical columns "
   ],
   "metadata": {
    "collapsed": false,
    "ExecuteTime": {
     "end_time": "2023-11-02T13:16:02.050738Z",
     "start_time": "2023-11-02T13:16:01.803081Z"
    }
   },
   "id": "a2013102d89ece1b"
  },
  {
   "cell_type": "code",
   "execution_count": 58,
   "outputs": [
    {
     "data": {
      "text/plain": "(2930, 36)"
     },
     "execution_count": 58,
     "metadata": {},
     "output_type": "execute_result"
    }
   ],
   "source": [
    "house[more_5pc_column].select_dtypes(['int','float']).shape"
   ],
   "metadata": {
    "collapsed": false,
    "ExecuteTime": {
     "end_time": "2023-11-02T13:16:02.050893Z",
     "start_time": "2023-11-02T13:16:01.805343Z"
    }
   },
   "id": "cef09135332e7358"
  },
  {
   "cell_type": "code",
   "execution_count": 59,
   "outputs": [],
   "source": [
    "numerical_feature = house[more_5pc_column].select_dtypes(['int','float']).columns"
   ],
   "metadata": {
    "collapsed": false,
    "ExecuteTime": {
     "end_time": "2023-11-02T13:16:02.051031Z",
     "start_time": "2023-11-02T13:16:01.812725Z"
    }
   },
   "id": "4efd01fd2b30f556"
  },
  {
   "cell_type": "code",
   "execution_count": 60,
   "outputs": [
    {
     "data": {
      "text/plain": "Index(['Order', 'PID', 'MS SubClass', 'Lot Area', 'Overall Qual',\n       'Overall Cond', 'Year Built', 'Year Remod/Add', 'BsmtFin SF 1',\n       'BsmtFin SF 2', 'Bsmt Unf SF', 'Total Bsmt SF', '1st Flr SF',\n       '2nd Flr SF', 'Low Qual Fin SF', 'Gr Liv Area', 'Bsmt Full Bath',\n       'Bsmt Half Bath', 'Full Bath', 'Half Bath', 'Bedroom AbvGr',\n       'Kitchen AbvGr', 'TotRms AbvGrd', 'Fireplaces', 'Garage Cars',\n       'Garage Area', 'Wood Deck SF', 'Open Porch SF', 'Enclosed Porch',\n       '3Ssn Porch', 'Screen Porch', 'Pool Area', 'Misc Val', 'Mo Sold',\n       'Yr Sold', 'SalePrice'],\n      dtype='object')"
     },
     "execution_count": 60,
     "metadata": {},
     "output_type": "execute_result"
    }
   ],
   "source": [
    "numerical_feature"
   ],
   "metadata": {
    "collapsed": false,
    "ExecuteTime": {
     "end_time": "2023-11-02T13:16:02.051190Z",
     "start_time": "2023-11-02T13:16:01.816989Z"
    }
   },
   "id": "f75515c59cff2a62"
  },
  {
   "cell_type": "code",
   "execution_count": 61,
   "outputs": [],
   "source": [
    "# remove the SalePrice column\n",
    "# numerical_feature=numerical_feature.drop('SalePrice')"
   ],
   "metadata": {
    "collapsed": false,
    "ExecuteTime": {
     "end_time": "2023-11-02T13:16:02.051317Z",
     "start_time": "2023-11-02T13:16:01.820215Z"
    }
   },
   "id": "80da42e629c83ce5"
  },
  {
   "cell_type": "code",
   "execution_count": 62,
   "outputs": [
    {
     "data": {
      "text/plain": "36"
     },
     "execution_count": 62,
     "metadata": {},
     "output_type": "execute_result"
    }
   ],
   "source": [
    "len(numerical_feature)"
   ],
   "metadata": {
    "collapsed": false,
    "ExecuteTime": {
     "end_time": "2023-11-02T13:16:02.051462Z",
     "start_time": "2023-11-02T13:16:01.823731Z"
    }
   },
   "id": "3c6c375fd83b96ac"
  },
  {
   "cell_type": "code",
   "execution_count": 63,
   "outputs": [],
   "source": [
    "# 3. Fill the missing value with the most frequent value in that column"
   ],
   "metadata": {
    "collapsed": false,
    "ExecuteTime": {
     "end_time": "2023-11-02T13:16:02.051552Z",
     "start_time": "2023-11-02T13:16:01.826823Z"
    }
   },
   "id": "1062e3ebe6f49a20"
  },
  {
   "cell_type": "code",
   "execution_count": 64,
   "outputs": [
    {
     "data": {
      "text/plain": "      Order        PID  MS SubClass  Lot Area  Overall Qual  Overall Cond   \n0         1  526301100           20     31770             6             5  \\\n1         2  526350040           20     11622             5             6   \n2         3  526351010           20     14267             6             6   \n3         4  526353030           20     11160             7             5   \n4         5  527105010           60     13830             5             5   \n...     ...        ...          ...       ...           ...           ...   \n2925   2926  923275080           80      7937             6             6   \n2926   2927  923276100           20      8885             5             5   \n2927   2928  923400125           85     10441             5             5   \n2928   2929  924100070           20     10010             5             5   \n2929   2930  924151050           60      9627             7             5   \n\n      Year Built  Year Remod/Add  BsmtFin SF 1  BsmtFin SF 2  ...   \n0           1960            1960         639.0           0.0  ...  \\\n1           1961            1961         468.0         144.0  ...   \n2           1958            1958         923.0           0.0  ...   \n3           1968            1968        1065.0           0.0  ...   \n4           1997            1998         791.0           0.0  ...   \n...          ...             ...           ...           ...  ...   \n2925        1984            1984         819.0           0.0  ...   \n2926        1983            1983         301.0         324.0  ...   \n2927        1992            1992         337.0           0.0  ...   \n2928        1974            1975        1071.0         123.0  ...   \n2929        1993            1994         758.0           0.0  ...   \n\n      Wood Deck SF  Open Porch SF  Enclosed Porch  3Ssn Porch  Screen Porch   \n0              210             62               0           0             0  \\\n1              140              0               0           0           120   \n2              393             36               0           0             0   \n3                0              0               0           0             0   \n4              212             34               0           0             0   \n...            ...            ...             ...         ...           ...   \n2925           120              0               0           0             0   \n2926           164              0               0           0             0   \n2927            80             32               0           0             0   \n2928           240             38               0           0             0   \n2929           190             48               0           0             0   \n\n      Pool Area  Misc Val  Mo Sold  Yr Sold  SalePrice  \n0             0         0        5     2010     215000  \n1             0         0        6     2010     105000  \n2             0     12500        6     2010     172000  \n3             0         0        4     2010     244000  \n4             0         0        3     2010     189900  \n...         ...       ...      ...      ...        ...  \n2925          0         0        3     2006     142500  \n2926          0         0        6     2006     131000  \n2927          0       700        7     2006     132000  \n2928          0         0        4     2006     170000  \n2929          0         0       11     2006     188000  \n\n[2930 rows x 36 columns]",
      "text/html": "<div>\n<style scoped>\n    .dataframe tbody tr th:only-of-type {\n        vertical-align: middle;\n    }\n\n    .dataframe tbody tr th {\n        vertical-align: top;\n    }\n\n    .dataframe thead th {\n        text-align: right;\n    }\n</style>\n<table border=\"1\" class=\"dataframe\">\n  <thead>\n    <tr style=\"text-align: right;\">\n      <th></th>\n      <th>Order</th>\n      <th>PID</th>\n      <th>MS SubClass</th>\n      <th>Lot Area</th>\n      <th>Overall Qual</th>\n      <th>Overall Cond</th>\n      <th>Year Built</th>\n      <th>Year Remod/Add</th>\n      <th>BsmtFin SF 1</th>\n      <th>BsmtFin SF 2</th>\n      <th>...</th>\n      <th>Wood Deck SF</th>\n      <th>Open Porch SF</th>\n      <th>Enclosed Porch</th>\n      <th>3Ssn Porch</th>\n      <th>Screen Porch</th>\n      <th>Pool Area</th>\n      <th>Misc Val</th>\n      <th>Mo Sold</th>\n      <th>Yr Sold</th>\n      <th>SalePrice</th>\n    </tr>\n  </thead>\n  <tbody>\n    <tr>\n      <th>0</th>\n      <td>1</td>\n      <td>526301100</td>\n      <td>20</td>\n      <td>31770</td>\n      <td>6</td>\n      <td>5</td>\n      <td>1960</td>\n      <td>1960</td>\n      <td>639.0</td>\n      <td>0.0</td>\n      <td>...</td>\n      <td>210</td>\n      <td>62</td>\n      <td>0</td>\n      <td>0</td>\n      <td>0</td>\n      <td>0</td>\n      <td>0</td>\n      <td>5</td>\n      <td>2010</td>\n      <td>215000</td>\n    </tr>\n    <tr>\n      <th>1</th>\n      <td>2</td>\n      <td>526350040</td>\n      <td>20</td>\n      <td>11622</td>\n      <td>5</td>\n      <td>6</td>\n      <td>1961</td>\n      <td>1961</td>\n      <td>468.0</td>\n      <td>144.0</td>\n      <td>...</td>\n      <td>140</td>\n      <td>0</td>\n      <td>0</td>\n      <td>0</td>\n      <td>120</td>\n      <td>0</td>\n      <td>0</td>\n      <td>6</td>\n      <td>2010</td>\n      <td>105000</td>\n    </tr>\n    <tr>\n      <th>2</th>\n      <td>3</td>\n      <td>526351010</td>\n      <td>20</td>\n      <td>14267</td>\n      <td>6</td>\n      <td>6</td>\n      <td>1958</td>\n      <td>1958</td>\n      <td>923.0</td>\n      <td>0.0</td>\n      <td>...</td>\n      <td>393</td>\n      <td>36</td>\n      <td>0</td>\n      <td>0</td>\n      <td>0</td>\n      <td>0</td>\n      <td>12500</td>\n      <td>6</td>\n      <td>2010</td>\n      <td>172000</td>\n    </tr>\n    <tr>\n      <th>3</th>\n      <td>4</td>\n      <td>526353030</td>\n      <td>20</td>\n      <td>11160</td>\n      <td>7</td>\n      <td>5</td>\n      <td>1968</td>\n      <td>1968</td>\n      <td>1065.0</td>\n      <td>0.0</td>\n      <td>...</td>\n      <td>0</td>\n      <td>0</td>\n      <td>0</td>\n      <td>0</td>\n      <td>0</td>\n      <td>0</td>\n      <td>0</td>\n      <td>4</td>\n      <td>2010</td>\n      <td>244000</td>\n    </tr>\n    <tr>\n      <th>4</th>\n      <td>5</td>\n      <td>527105010</td>\n      <td>60</td>\n      <td>13830</td>\n      <td>5</td>\n      <td>5</td>\n      <td>1997</td>\n      <td>1998</td>\n      <td>791.0</td>\n      <td>0.0</td>\n      <td>...</td>\n      <td>212</td>\n      <td>34</td>\n      <td>0</td>\n      <td>0</td>\n      <td>0</td>\n      <td>0</td>\n      <td>0</td>\n      <td>3</td>\n      <td>2010</td>\n      <td>189900</td>\n    </tr>\n    <tr>\n      <th>...</th>\n      <td>...</td>\n      <td>...</td>\n      <td>...</td>\n      <td>...</td>\n      <td>...</td>\n      <td>...</td>\n      <td>...</td>\n      <td>...</td>\n      <td>...</td>\n      <td>...</td>\n      <td>...</td>\n      <td>...</td>\n      <td>...</td>\n      <td>...</td>\n      <td>...</td>\n      <td>...</td>\n      <td>...</td>\n      <td>...</td>\n      <td>...</td>\n      <td>...</td>\n      <td>...</td>\n    </tr>\n    <tr>\n      <th>2925</th>\n      <td>2926</td>\n      <td>923275080</td>\n      <td>80</td>\n      <td>7937</td>\n      <td>6</td>\n      <td>6</td>\n      <td>1984</td>\n      <td>1984</td>\n      <td>819.0</td>\n      <td>0.0</td>\n      <td>...</td>\n      <td>120</td>\n      <td>0</td>\n      <td>0</td>\n      <td>0</td>\n      <td>0</td>\n      <td>0</td>\n      <td>0</td>\n      <td>3</td>\n      <td>2006</td>\n      <td>142500</td>\n    </tr>\n    <tr>\n      <th>2926</th>\n      <td>2927</td>\n      <td>923276100</td>\n      <td>20</td>\n      <td>8885</td>\n      <td>5</td>\n      <td>5</td>\n      <td>1983</td>\n      <td>1983</td>\n      <td>301.0</td>\n      <td>324.0</td>\n      <td>...</td>\n      <td>164</td>\n      <td>0</td>\n      <td>0</td>\n      <td>0</td>\n      <td>0</td>\n      <td>0</td>\n      <td>0</td>\n      <td>6</td>\n      <td>2006</td>\n      <td>131000</td>\n    </tr>\n    <tr>\n      <th>2927</th>\n      <td>2928</td>\n      <td>923400125</td>\n      <td>85</td>\n      <td>10441</td>\n      <td>5</td>\n      <td>5</td>\n      <td>1992</td>\n      <td>1992</td>\n      <td>337.0</td>\n      <td>0.0</td>\n      <td>...</td>\n      <td>80</td>\n      <td>32</td>\n      <td>0</td>\n      <td>0</td>\n      <td>0</td>\n      <td>0</td>\n      <td>700</td>\n      <td>7</td>\n      <td>2006</td>\n      <td>132000</td>\n    </tr>\n    <tr>\n      <th>2928</th>\n      <td>2929</td>\n      <td>924100070</td>\n      <td>20</td>\n      <td>10010</td>\n      <td>5</td>\n      <td>5</td>\n      <td>1974</td>\n      <td>1975</td>\n      <td>1071.0</td>\n      <td>123.0</td>\n      <td>...</td>\n      <td>240</td>\n      <td>38</td>\n      <td>0</td>\n      <td>0</td>\n      <td>0</td>\n      <td>0</td>\n      <td>0</td>\n      <td>4</td>\n      <td>2006</td>\n      <td>170000</td>\n    </tr>\n    <tr>\n      <th>2929</th>\n      <td>2930</td>\n      <td>924151050</td>\n      <td>60</td>\n      <td>9627</td>\n      <td>7</td>\n      <td>5</td>\n      <td>1993</td>\n      <td>1994</td>\n      <td>758.0</td>\n      <td>0.0</td>\n      <td>...</td>\n      <td>190</td>\n      <td>48</td>\n      <td>0</td>\n      <td>0</td>\n      <td>0</td>\n      <td>0</td>\n      <td>0</td>\n      <td>11</td>\n      <td>2006</td>\n      <td>188000</td>\n    </tr>\n  </tbody>\n</table>\n<p>2930 rows × 36 columns</p>\n</div>"
     },
     "execution_count": 64,
     "metadata": {},
     "output_type": "execute_result"
    }
   ],
   "source": [
    "house[numerical_feature]"
   ],
   "metadata": {
    "collapsed": false,
    "ExecuteTime": {
     "end_time": "2023-11-02T13:16:02.052209Z",
     "start_time": "2023-11-02T13:16:01.831282Z"
    }
   },
   "id": "b5d1b4b89ca73cb4"
  },
  {
   "cell_type": "code",
   "execution_count": 65,
   "outputs": [],
   "source": [
    "def replace_missing_values(df):\n",
    "    df_new= df.copy()\n",
    "    num_changes = 0\n",
    "    for col in df_new.columns:\n",
    "        if df[col].isnull().sum() > 0:\n",
    "            most_frequent_value = df[col].mode()[0]\n",
    "            df_new[col].fillna(most_frequent_value, inplace=True)\n",
    "            print(f\"Column Name: {col} ||Missing value: {df[col].isnull().sum()} || Value Replaced: {most_frequent_value}\")\n",
    "            num_changes += 1\n",
    "    print(f\"===========\\nTotal Number of Changes Made: {num_changes} out of {df.shape[1]}.\")\n",
    "    \n",
    "    return df_new"
   ],
   "metadata": {
    "collapsed": false,
    "ExecuteTime": {
     "end_time": "2023-11-02T13:16:02.052316Z",
     "start_time": "2023-11-02T13:16:01.842930Z"
    }
   },
   "id": "6544ffcaa8a64a30"
  },
  {
   "cell_type": "code",
   "execution_count": 66,
   "outputs": [
    {
     "name": "stdout",
     "output_type": "stream",
     "text": [
      "Column Name: BsmtFin SF 1 ||Missing value: 1 || Value Replaced: 0.0\n",
      "Column Name: BsmtFin SF 2 ||Missing value: 1 || Value Replaced: 0.0\n",
      "Column Name: Bsmt Unf SF ||Missing value: 1 || Value Replaced: 0.0\n",
      "Column Name: Total Bsmt SF ||Missing value: 1 || Value Replaced: 0.0\n",
      "Column Name: Bsmt Full Bath ||Missing value: 2 || Value Replaced: 0.0\n",
      "Column Name: Bsmt Half Bath ||Missing value: 2 || Value Replaced: 0.0\n",
      "Column Name: Garage Cars ||Missing value: 1 || Value Replaced: 2.0\n",
      "Column Name: Garage Area ||Missing value: 1 || Value Replaced: 0.0\n",
      "===========\n",
      "Total Number of Changes Made: 8 out of 36.\n"
     ]
    }
   ],
   "source": [
    "imputed_df = replace_missing_values(house[numerical_feature])"
   ],
   "metadata": {
    "collapsed": false,
    "ExecuteTime": {
     "end_time": "2023-11-02T13:16:02.052550Z",
     "start_time": "2023-11-02T13:16:01.846437Z"
    }
   },
   "id": "9e1714688b211f73"
  },
  {
   "cell_type": "code",
   "execution_count": 67,
   "outputs": [
    {
     "data": {
      "text/plain": "Order              0\nPID                0\nBedroom AbvGr      0\nKitchen AbvGr      0\nTotRms AbvGrd      0\nFireplaces         0\nGarage Cars        0\nGarage Area        0\nWood Deck SF       0\nOpen Porch SF      0\nEnclosed Porch     0\n3Ssn Porch         0\nScreen Porch       0\nPool Area          0\nMisc Val           0\nMo Sold            0\nYr Sold            0\nHalf Bath          0\nFull Bath          0\nBsmt Half Bath     0\nBsmtFin SF 1       0\nMS SubClass        0\nLot Area           0\nOverall Qual       0\nOverall Cond       0\nYear Built         0\nYear Remod/Add     0\nBsmtFin SF 2       0\nBsmt Full Bath     0\nBsmt Unf SF        0\nTotal Bsmt SF      0\n1st Flr SF         0\n2nd Flr SF         0\nLow Qual Fin SF    0\nGr Liv Area        0\nSalePrice          0\ndtype: int64"
     },
     "execution_count": 67,
     "metadata": {},
     "output_type": "execute_result"
    }
   ],
   "source": [
    "imputed_df.isnull().sum().sort_values(ascending=False)"
   ],
   "metadata": {
    "collapsed": false,
    "ExecuteTime": {
     "end_time": "2023-11-02T13:16:02.052793Z",
     "start_time": "2023-11-02T13:16:01.858131Z"
    }
   },
   "id": "3eb2b684644733a"
  },
  {
   "cell_type": "code",
   "execution_count": 96,
   "outputs": [
    {
     "data": {
      "text/plain": "['Order',\n 'PID',\n 'MS SubClass',\n 'MS Zoning',\n 'Lot Frontage',\n 'Lot Area',\n 'Street',\n 'Alley',\n 'Lot Shape',\n 'Land Contour',\n 'Utilities',\n 'Lot Config',\n 'Land Slope',\n 'Neighborhood',\n 'Condition 1',\n 'Condition 2',\n 'Bldg Type',\n 'House Style',\n 'Overall Qual',\n 'Overall Cond',\n 'Year Built',\n 'Year Remod/Add',\n 'Roof Style',\n 'Roof Matl',\n 'Exterior 1st',\n 'Exterior 2nd',\n 'Mas Vnr Type',\n 'Mas Vnr Area',\n 'Exter Qual',\n 'Exter Cond',\n 'Foundation',\n 'Bsmt Qual',\n 'Bsmt Cond',\n 'Bsmt Exposure',\n 'BsmtFin Type 1',\n 'BsmtFin SF 1',\n 'BsmtFin Type 2',\n 'BsmtFin SF 2',\n 'Bsmt Unf SF',\n 'Total Bsmt SF',\n 'Heating',\n 'Heating QC',\n 'Central Air',\n 'Electrical',\n '1st Flr SF',\n '2nd Flr SF',\n 'Low Qual Fin SF',\n 'Gr Liv Area',\n 'Bsmt Full Bath',\n 'Bsmt Half Bath',\n 'Full Bath',\n 'Half Bath',\n 'Bedroom AbvGr',\n 'Kitchen AbvGr',\n 'Kitchen Qual',\n 'TotRms AbvGrd',\n 'Functional',\n 'Fireplaces',\n 'Fireplace Qu',\n 'Garage Type',\n 'Garage Yr Blt',\n 'Garage Finish',\n 'Garage Cars',\n 'Garage Area',\n 'Garage Qual',\n 'Garage Cond',\n 'Paved Drive',\n 'Wood Deck SF',\n 'Open Porch SF',\n 'Enclosed Porch',\n '3Ssn Porch',\n 'Screen Porch',\n 'Pool Area',\n 'Pool QC',\n 'Fence',\n 'Misc Feature',\n 'Misc Val',\n 'Mo Sold',\n 'Yr Sold',\n 'Sale Type',\n 'Sale Condition',\n 'SalePrice']"
     },
     "execution_count": 96,
     "metadata": {},
     "output_type": "execute_result"
    }
   ],
   "source": [
    "house.columns.tolist()"
   ],
   "metadata": {
    "collapsed": false,
    "ExecuteTime": {
     "end_time": "2023-11-02T13:58:06.648484Z",
     "start_time": "2023-11-02T13:58:06.622680Z"
    }
   },
   "id": "9ba5ee4de73261cc"
  },
  {
   "cell_type": "code",
   "execution_count": 69,
   "outputs": [
    {
     "data": {
      "text/plain": "0       0\n1948    0\n1949    0\n1950    0\n1951    0\n       ..\n979     0\n980     0\n981     0\n983     0\n2929    0\nName: Yr Sold, Length: 2930, dtype: int64"
     },
     "execution_count": 69,
     "metadata": {},
     "output_type": "execute_result"
    }
   ],
   "source": [
    "(imputed_df['Yr Sold']-imputed_df['Yr Sold']).sort_values()"
   ],
   "metadata": {
    "collapsed": false,
    "ExecuteTime": {
     "end_time": "2023-11-02T13:16:02.053184Z",
     "start_time": "2023-11-02T13:16:01.868182Z"
    }
   },
   "id": "52f7f109540c2282"
  },
  {
   "cell_type": "code",
   "execution_count": 70,
   "outputs": [],
   "source": [
    "# Newly create 2 columns\n",
    "imputed_df['Years Before Sale'] = (imputed_df['Yr Sold']-imputed_df['Yr Sold'])\n",
    "imputed_df['Years Since Remod'] = imputed_df['Yr Sold']-imputed_df['Year Remod/Add']"
   ],
   "metadata": {
    "collapsed": false,
    "ExecuteTime": {
     "end_time": "2023-11-02T13:17:51.013031Z",
     "start_time": "2023-11-02T13:17:50.987421Z"
    }
   },
   "id": "515054c8c00e0f15"
  },
  {
   "cell_type": "code",
   "execution_count": 72,
   "outputs": [],
   "source": [
    "imputed_df=imputed_df.drop([2180,2181,1702],axis=0)"
   ],
   "metadata": {
    "collapsed": false,
    "ExecuteTime": {
     "end_time": "2023-11-02T13:18:02.639486Z",
     "start_time": "2023-11-02T13:18:02.614060Z"
    }
   },
   "id": "8fde45dca0dfb494"
  },
  {
   "cell_type": "code",
   "execution_count": 79,
   "outputs": [
    {
     "ename": "KeyError",
     "evalue": "\"['PID', 'Order'] not found in axis\"",
     "output_type": "error",
     "traceback": [
      "\u001B[0;31m---------------------------------------------------------------------------\u001B[0m",
      "\u001B[0;31mKeyError\u001B[0m                                  Traceback (most recent call last)",
      "\u001B[0;32m<ipython-input-79-b369f96b636d>\u001B[0m in \u001B[0;36m<module>\u001B[0;34m\u001B[0m\n\u001B[1;32m      1\u001B[0m \u001B[0;31m# drop colums that aren't useful for ML\u001B[0m\u001B[0;34m\u001B[0m\u001B[0;34m\u001B[0m\u001B[0;34m\u001B[0m\u001B[0m\n\u001B[1;32m      2\u001B[0m \u001B[0;34m\u001B[0m\u001B[0m\n\u001B[0;32m----> 3\u001B[0;31m \u001B[0mimputed_df\u001B[0m \u001B[0;34m=\u001B[0m \u001B[0mimputed_df\u001B[0m\u001B[0;34m.\u001B[0m\u001B[0mdrop\u001B[0m\u001B[0;34m(\u001B[0m\u001B[0;34m[\u001B[0m\u001B[0;34m'PID'\u001B[0m\u001B[0;34m,\u001B[0m\u001B[0;34m'Order'\u001B[0m\u001B[0;34m]\u001B[0m\u001B[0;34m,\u001B[0m \u001B[0maxis\u001B[0m \u001B[0;34m=\u001B[0m \u001B[0;36m1\u001B[0m\u001B[0;34m)\u001B[0m\u001B[0;34m\u001B[0m\u001B[0;34m\u001B[0m\u001B[0m\n\u001B[0m\u001B[1;32m      4\u001B[0m \u001B[0;34m\u001B[0m\u001B[0m\n\u001B[1;32m      5\u001B[0m \u001B[0;31m# Drop clumns that leak info about the final sale:\u001B[0m\u001B[0;34m\u001B[0m\u001B[0;34m\u001B[0m\u001B[0;34m\u001B[0m\u001B[0m\n",
      "\u001B[0;32m~/opt/anaconda3/envs/transformers_env/lib/python3.8/site-packages/pandas/core/frame.py\u001B[0m in \u001B[0;36mdrop\u001B[0;34m(self, labels, axis, index, columns, level, inplace, errors)\u001B[0m\n\u001B[1;32m   5266\u001B[0m                 \u001B[0mweight\u001B[0m  \u001B[0;36m1.0\u001B[0m     \u001B[0;36m0.8\u001B[0m\u001B[0;34m\u001B[0m\u001B[0;34m\u001B[0m\u001B[0m\n\u001B[1;32m   5267\u001B[0m         \"\"\"\n\u001B[0;32m-> 5268\u001B[0;31m         return super().drop(\n\u001B[0m\u001B[1;32m   5269\u001B[0m             \u001B[0mlabels\u001B[0m\u001B[0;34m=\u001B[0m\u001B[0mlabels\u001B[0m\u001B[0;34m,\u001B[0m\u001B[0;34m\u001B[0m\u001B[0;34m\u001B[0m\u001B[0m\n\u001B[1;32m   5270\u001B[0m             \u001B[0maxis\u001B[0m\u001B[0;34m=\u001B[0m\u001B[0maxis\u001B[0m\u001B[0;34m,\u001B[0m\u001B[0;34m\u001B[0m\u001B[0;34m\u001B[0m\u001B[0m\n",
      "\u001B[0;32m~/opt/anaconda3/envs/transformers_env/lib/python3.8/site-packages/pandas/core/generic.py\u001B[0m in \u001B[0;36mdrop\u001B[0;34m(self, labels, axis, index, columns, level, inplace, errors)\u001B[0m\n\u001B[1;32m   4547\u001B[0m         \u001B[0;32mfor\u001B[0m \u001B[0maxis\u001B[0m\u001B[0;34m,\u001B[0m \u001B[0mlabels\u001B[0m \u001B[0;32min\u001B[0m \u001B[0maxes\u001B[0m\u001B[0;34m.\u001B[0m\u001B[0mitems\u001B[0m\u001B[0;34m(\u001B[0m\u001B[0;34m)\u001B[0m\u001B[0;34m:\u001B[0m\u001B[0;34m\u001B[0m\u001B[0;34m\u001B[0m\u001B[0m\n\u001B[1;32m   4548\u001B[0m             \u001B[0;32mif\u001B[0m \u001B[0mlabels\u001B[0m \u001B[0;32mis\u001B[0m \u001B[0;32mnot\u001B[0m \u001B[0;32mNone\u001B[0m\u001B[0;34m:\u001B[0m\u001B[0;34m\u001B[0m\u001B[0;34m\u001B[0m\u001B[0m\n\u001B[0;32m-> 4549\u001B[0;31m                 \u001B[0mobj\u001B[0m \u001B[0;34m=\u001B[0m \u001B[0mobj\u001B[0m\u001B[0;34m.\u001B[0m\u001B[0m_drop_axis\u001B[0m\u001B[0;34m(\u001B[0m\u001B[0mlabels\u001B[0m\u001B[0;34m,\u001B[0m \u001B[0maxis\u001B[0m\u001B[0;34m,\u001B[0m \u001B[0mlevel\u001B[0m\u001B[0;34m=\u001B[0m\u001B[0mlevel\u001B[0m\u001B[0;34m,\u001B[0m \u001B[0merrors\u001B[0m\u001B[0;34m=\u001B[0m\u001B[0merrors\u001B[0m\u001B[0;34m)\u001B[0m\u001B[0;34m\u001B[0m\u001B[0;34m\u001B[0m\u001B[0m\n\u001B[0m\u001B[1;32m   4550\u001B[0m \u001B[0;34m\u001B[0m\u001B[0m\n\u001B[1;32m   4551\u001B[0m         \u001B[0;32mif\u001B[0m \u001B[0minplace\u001B[0m\u001B[0;34m:\u001B[0m\u001B[0;34m\u001B[0m\u001B[0;34m\u001B[0m\u001B[0m\n",
      "\u001B[0;32m~/opt/anaconda3/envs/transformers_env/lib/python3.8/site-packages/pandas/core/generic.py\u001B[0m in \u001B[0;36m_drop_axis\u001B[0;34m(self, labels, axis, level, errors, only_slice)\u001B[0m\n\u001B[1;32m   4589\u001B[0m                 \u001B[0mnew_axis\u001B[0m \u001B[0;34m=\u001B[0m \u001B[0maxis\u001B[0m\u001B[0;34m.\u001B[0m\u001B[0mdrop\u001B[0m\u001B[0;34m(\u001B[0m\u001B[0mlabels\u001B[0m\u001B[0;34m,\u001B[0m \u001B[0mlevel\u001B[0m\u001B[0;34m=\u001B[0m\u001B[0mlevel\u001B[0m\u001B[0;34m,\u001B[0m \u001B[0merrors\u001B[0m\u001B[0;34m=\u001B[0m\u001B[0merrors\u001B[0m\u001B[0;34m)\u001B[0m\u001B[0;34m\u001B[0m\u001B[0;34m\u001B[0m\u001B[0m\n\u001B[1;32m   4590\u001B[0m             \u001B[0;32melse\u001B[0m\u001B[0;34m:\u001B[0m\u001B[0;34m\u001B[0m\u001B[0;34m\u001B[0m\u001B[0m\n\u001B[0;32m-> 4591\u001B[0;31m                 \u001B[0mnew_axis\u001B[0m \u001B[0;34m=\u001B[0m \u001B[0maxis\u001B[0m\u001B[0;34m.\u001B[0m\u001B[0mdrop\u001B[0m\u001B[0;34m(\u001B[0m\u001B[0mlabels\u001B[0m\u001B[0;34m,\u001B[0m \u001B[0merrors\u001B[0m\u001B[0;34m=\u001B[0m\u001B[0merrors\u001B[0m\u001B[0;34m)\u001B[0m\u001B[0;34m\u001B[0m\u001B[0;34m\u001B[0m\u001B[0m\n\u001B[0m\u001B[1;32m   4592\u001B[0m             \u001B[0mindexer\u001B[0m \u001B[0;34m=\u001B[0m \u001B[0maxis\u001B[0m\u001B[0;34m.\u001B[0m\u001B[0mget_indexer\u001B[0m\u001B[0;34m(\u001B[0m\u001B[0mnew_axis\u001B[0m\u001B[0;34m)\u001B[0m\u001B[0;34m\u001B[0m\u001B[0;34m\u001B[0m\u001B[0m\n\u001B[1;32m   4593\u001B[0m \u001B[0;34m\u001B[0m\u001B[0m\n",
      "\u001B[0;32m~/opt/anaconda3/envs/transformers_env/lib/python3.8/site-packages/pandas/core/indexes/base.py\u001B[0m in \u001B[0;36mdrop\u001B[0;34m(self, labels, errors)\u001B[0m\n\u001B[1;32m   6694\u001B[0m         \u001B[0;32mif\u001B[0m \u001B[0mmask\u001B[0m\u001B[0;34m.\u001B[0m\u001B[0many\u001B[0m\u001B[0;34m(\u001B[0m\u001B[0;34m)\u001B[0m\u001B[0;34m:\u001B[0m\u001B[0;34m\u001B[0m\u001B[0;34m\u001B[0m\u001B[0m\n\u001B[1;32m   6695\u001B[0m             \u001B[0;32mif\u001B[0m \u001B[0merrors\u001B[0m \u001B[0;34m!=\u001B[0m \u001B[0;34m\"ignore\"\u001B[0m\u001B[0;34m:\u001B[0m\u001B[0;34m\u001B[0m\u001B[0;34m\u001B[0m\u001B[0m\n\u001B[0;32m-> 6696\u001B[0;31m                 \u001B[0;32mraise\u001B[0m \u001B[0mKeyError\u001B[0m\u001B[0;34m(\u001B[0m\u001B[0;34mf\"{list(labels[mask])} not found in axis\"\u001B[0m\u001B[0;34m)\u001B[0m\u001B[0;34m\u001B[0m\u001B[0;34m\u001B[0m\u001B[0m\n\u001B[0m\u001B[1;32m   6697\u001B[0m             \u001B[0mindexer\u001B[0m \u001B[0;34m=\u001B[0m \u001B[0mindexer\u001B[0m\u001B[0;34m[\u001B[0m\u001B[0;34m~\u001B[0m\u001B[0mmask\u001B[0m\u001B[0;34m]\u001B[0m\u001B[0;34m\u001B[0m\u001B[0;34m\u001B[0m\u001B[0m\n\u001B[1;32m   6698\u001B[0m         \u001B[0;32mreturn\u001B[0m \u001B[0mself\u001B[0m\u001B[0;34m.\u001B[0m\u001B[0mdelete\u001B[0m\u001B[0;34m(\u001B[0m\u001B[0mindexer\u001B[0m\u001B[0;34m)\u001B[0m\u001B[0;34m\u001B[0m\u001B[0;34m\u001B[0m\u001B[0m\n",
      "\u001B[0;31mKeyError\u001B[0m: \"['PID', 'Order'] not found in axis\""
     ]
    }
   ],
   "source": [
    "# drop colums that aren't useful for ML\n",
    "\n",
    "imputed_df = imputed_df.drop(['PID','Order'], axis = 1)\n",
    "\n"
   ],
   "metadata": {
    "collapsed": false,
    "ExecuteTime": {
     "end_time": "2023-11-02T13:24:10.971247Z",
     "start_time": "2023-11-02T13:24:10.912176Z"
    }
   },
   "id": "4945e6d91b86f9ed"
  },
  {
   "cell_type": "markdown",
   "source": [],
   "metadata": {
    "collapsed": false
   },
   "id": "bc66b04c1da2cc03"
  },
  {
   "cell_type": "code",
   "execution_count": 81,
   "outputs": [],
   "source": [
    "# Drop clumns that leak info about the final sale:\n",
    "imputed_df = imputed_df.drop([\"Mo Sold\", \"Yr Sold\"], axis=1)"
   ],
   "metadata": {
    "collapsed": false,
    "ExecuteTime": {
     "end_time": "2023-11-02T13:24:51.732437Z",
     "start_time": "2023-11-02T13:24:51.699590Z"
    }
   },
   "id": "fce980967e1fef50"
  },
  {
   "cell_type": "code",
   "execution_count": null,
   "outputs": [],
   "source": [],
   "metadata": {
    "collapsed": false
   },
   "id": "671cb1bb519a2631"
  },
  {
   "cell_type": "code",
   "execution_count": 125,
   "outputs": [],
   "source": [
    "# Let's update the transform_features function\n",
    "\n",
    "def transform_features(df):\n",
    "    temp = ((df.isnull().sum() / df.shape[1])> 0.05)\n",
    "    more_5pc_column = ([index for index, value in temp.items() if value == False])\n",
    "    numerical_feature = house[more_5pc_column].select_dtypes(['int','float']).columns\n",
    "    df = df[numerical_feature]\n",
    "    df = replace_missing_values(df)\n",
    "    df['Years Before Sale'] = (df['Yr Sold']-df['Year Built'])\n",
    "    df['Years Since Remod'] = (df['Yr Sold']-df['Year Remod/Add'])\n",
    "    \n",
    "    df = df[df['Years Before Sale'] >0]\n",
    "    df = df[df['Years Since Remod'] >0]\n",
    "    df = df.drop(['PID', 'Order'], axis = 1)\n",
    "\n",
    "    # Drop clumns that leak info about the final sale:\n",
    "    df = df.drop([\"Mo Sold\", \"Yr Sold\"], axis=1)\n",
    "    \n",
    "    return df"
   ],
   "metadata": {
    "collapsed": false,
    "ExecuteTime": {
     "end_time": "2023-11-02T14:10:17.142273Z",
     "start_time": "2023-11-02T14:10:17.121523Z"
    }
   },
   "id": "afb6651d716c2077"
  },
  {
   "cell_type": "code",
   "execution_count": 126,
   "outputs": [
    {
     "name": "stdout",
     "output_type": "stream",
     "text": [
      "Column Name: BsmtFin SF 1 ||Missing value: 1 || Value Replaced: 0.0\n",
      "Column Name: BsmtFin SF 2 ||Missing value: 1 || Value Replaced: 0.0\n",
      "Column Name: Bsmt Unf SF ||Missing value: 1 || Value Replaced: 0.0\n",
      "Column Name: Total Bsmt SF ||Missing value: 1 || Value Replaced: 0.0\n",
      "Column Name: Bsmt Full Bath ||Missing value: 2 || Value Replaced: 0.0\n",
      "Column Name: Bsmt Half Bath ||Missing value: 2 || Value Replaced: 0.0\n",
      "Column Name: Garage Cars ||Missing value: 1 || Value Replaced: 2.0\n",
      "Column Name: Garage Area ||Missing value: 1 || Value Replaced: 0.0\n",
      "===========\n",
      "Total Number of Changes Made: 8 out of 36.\n"
     ]
    }
   ],
   "source": [
    "temp= transform_features(house)"
   ],
   "metadata": {
    "collapsed": false,
    "ExecuteTime": {
     "end_time": "2023-11-02T14:10:18.135177Z",
     "start_time": "2023-11-02T14:10:18.106130Z"
    }
   },
   "id": "d68b57769675dd"
  },
  {
   "cell_type": "code",
   "execution_count": 132,
   "outputs": [
    {
     "name": "stdout",
     "output_type": "stream",
     "text": [
      "<class 'pandas.core.frame.DataFrame'>\n",
      "Index: 2689 entries, 0 to 2929\n",
      "Data columns (total 34 columns):\n",
      " #   Column             Non-Null Count  Dtype  \n",
      "---  ------             --------------  -----  \n",
      " 0   MS SubClass        2689 non-null   int64  \n",
      " 1   Lot Area           2689 non-null   int64  \n",
      " 2   Overall Qual       2689 non-null   int64  \n",
      " 3   Overall Cond       2689 non-null   int64  \n",
      " 4   Year Built         2689 non-null   int64  \n",
      " 5   Year Remod/Add     2689 non-null   int64  \n",
      " 6   BsmtFin SF 1       2689 non-null   float64\n",
      " 7   BsmtFin SF 2       2689 non-null   float64\n",
      " 8   Bsmt Unf SF        2689 non-null   float64\n",
      " 9   Total Bsmt SF      2689 non-null   float64\n",
      " 10  1st Flr SF         2689 non-null   int64  \n",
      " 11  2nd Flr SF         2689 non-null   int64  \n",
      " 12  Low Qual Fin SF    2689 non-null   int64  \n",
      " 13  Gr Liv Area        2689 non-null   int64  \n",
      " 14  Bsmt Full Bath     2689 non-null   float64\n",
      " 15  Bsmt Half Bath     2689 non-null   float64\n",
      " 16  Full Bath          2689 non-null   int64  \n",
      " 17  Half Bath          2689 non-null   int64  \n",
      " 18  Bedroom AbvGr      2689 non-null   int64  \n",
      " 19  Kitchen AbvGr      2689 non-null   int64  \n",
      " 20  TotRms AbvGrd      2689 non-null   int64  \n",
      " 21  Fireplaces         2689 non-null   int64  \n",
      " 22  Garage Cars        2689 non-null   float64\n",
      " 23  Garage Area        2689 non-null   float64\n",
      " 24  Wood Deck SF       2689 non-null   int64  \n",
      " 25  Open Porch SF      2689 non-null   int64  \n",
      " 26  Enclosed Porch     2689 non-null   int64  \n",
      " 27  3Ssn Porch         2689 non-null   int64  \n",
      " 28  Screen Porch       2689 non-null   int64  \n",
      " 29  Pool Area          2689 non-null   int64  \n",
      " 30  Misc Val           2689 non-null   int64  \n",
      " 31  SalePrice          2689 non-null   int64  \n",
      " 32  Years Before Sale  2689 non-null   int64  \n",
      " 33  Years Since Remod  2689 non-null   int64  \n",
      "dtypes: float64(8), int64(26)\n",
      "memory usage: 735.3 KB\n"
     ]
    }
   ],
   "source": [
    "temp.info()"
   ],
   "metadata": {
    "collapsed": false,
    "ExecuteTime": {
     "end_time": "2023-11-02T14:19:18.534516Z",
     "start_time": "2023-11-02T14:19:18.524795Z"
    }
   },
   "id": "fdaa3b6eb12b8df3"
  },
  {
   "cell_type": "code",
   "execution_count": 129,
   "outputs": [
    {
     "data": {
      "text/plain": "(2930, 82)"
     },
     "execution_count": 129,
     "metadata": {},
     "output_type": "execute_result"
    }
   ],
   "source": [
    "house.shape"
   ],
   "metadata": {
    "collapsed": false,
    "ExecuteTime": {
     "end_time": "2023-11-02T14:10:53.176067Z",
     "start_time": "2023-11-02T14:10:53.148926Z"
    }
   },
   "id": "7f31b02a1f715aa"
  },
  {
   "cell_type": "code",
   "execution_count": 82,
   "outputs": [
    {
     "data": {
      "text/plain": "      MS SubClass  Lot Area  Overall Qual  Overall Cond  Year Built   \n0              20     31770             6             5        1960  \\\n1              20     11622             5             6        1961   \n2              20     14267             6             6        1958   \n3              20     11160             7             5        1968   \n4              60     13830             5             5        1997   \n...           ...       ...           ...           ...         ...   \n2925           80      7937             6             6        1984   \n2926           20      8885             5             5        1983   \n2927           85     10441             5             5        1992   \n2928           20     10010             5             5        1974   \n2929           60      9627             7             5        1993   \n\n      Year Remod/Add  BsmtFin SF 1  BsmtFin SF 2  Bsmt Unf SF  Total Bsmt SF   \n0               1960         639.0           0.0        441.0         1080.0  \\\n1               1961         468.0         144.0        270.0          882.0   \n2               1958         923.0           0.0        406.0         1329.0   \n3               1968        1065.0           0.0       1045.0         2110.0   \n4               1998         791.0           0.0        137.0          928.0   \n...              ...           ...           ...          ...            ...   \n2925            1984         819.0           0.0        184.0         1003.0   \n2926            1983         301.0         324.0        239.0          864.0   \n2927            1992         337.0           0.0        575.0          912.0   \n2928            1975        1071.0         123.0        195.0         1389.0   \n2929            1994         758.0           0.0        238.0          996.0   \n\n      ...  Wood Deck SF  Open Porch SF  Enclosed Porch  3Ssn Porch   \n0     ...           210             62               0           0  \\\n1     ...           140              0               0           0   \n2     ...           393             36               0           0   \n3     ...             0              0               0           0   \n4     ...           212             34               0           0   \n...   ...           ...            ...             ...         ...   \n2925  ...           120              0               0           0   \n2926  ...           164              0               0           0   \n2927  ...            80             32               0           0   \n2928  ...           240             38               0           0   \n2929  ...           190             48               0           0   \n\n      Screen Porch  Pool Area  Misc Val  SalePrice  Years Before Sale   \n0                0          0         0     215000                  0  \\\n1              120          0         0     105000                  0   \n2                0          0     12500     172000                  0   \n3                0          0         0     244000                  0   \n4                0          0         0     189900                  0   \n...            ...        ...       ...        ...                ...   \n2925             0          0         0     142500                  0   \n2926             0          0         0     131000                  0   \n2927             0          0       700     132000                  0   \n2928             0          0         0     170000                  0   \n2929             0          0         0     188000                  0   \n\n      Years Since Remod  \n0                    50  \n1                    49  \n2                    52  \n3                    42  \n4                    12  \n...                 ...  \n2925                 22  \n2926                 23  \n2927                 14  \n2928                 31  \n2929                 12  \n\n[2927 rows x 34 columns]",
      "text/html": "<div>\n<style scoped>\n    .dataframe tbody tr th:only-of-type {\n        vertical-align: middle;\n    }\n\n    .dataframe tbody tr th {\n        vertical-align: top;\n    }\n\n    .dataframe thead th {\n        text-align: right;\n    }\n</style>\n<table border=\"1\" class=\"dataframe\">\n  <thead>\n    <tr style=\"text-align: right;\">\n      <th></th>\n      <th>MS SubClass</th>\n      <th>Lot Area</th>\n      <th>Overall Qual</th>\n      <th>Overall Cond</th>\n      <th>Year Built</th>\n      <th>Year Remod/Add</th>\n      <th>BsmtFin SF 1</th>\n      <th>BsmtFin SF 2</th>\n      <th>Bsmt Unf SF</th>\n      <th>Total Bsmt SF</th>\n      <th>...</th>\n      <th>Wood Deck SF</th>\n      <th>Open Porch SF</th>\n      <th>Enclosed Porch</th>\n      <th>3Ssn Porch</th>\n      <th>Screen Porch</th>\n      <th>Pool Area</th>\n      <th>Misc Val</th>\n      <th>SalePrice</th>\n      <th>Years Before Sale</th>\n      <th>Years Since Remod</th>\n    </tr>\n  </thead>\n  <tbody>\n    <tr>\n      <th>0</th>\n      <td>20</td>\n      <td>31770</td>\n      <td>6</td>\n      <td>5</td>\n      <td>1960</td>\n      <td>1960</td>\n      <td>639.0</td>\n      <td>0.0</td>\n      <td>441.0</td>\n      <td>1080.0</td>\n      <td>...</td>\n      <td>210</td>\n      <td>62</td>\n      <td>0</td>\n      <td>0</td>\n      <td>0</td>\n      <td>0</td>\n      <td>0</td>\n      <td>215000</td>\n      <td>0</td>\n      <td>50</td>\n    </tr>\n    <tr>\n      <th>1</th>\n      <td>20</td>\n      <td>11622</td>\n      <td>5</td>\n      <td>6</td>\n      <td>1961</td>\n      <td>1961</td>\n      <td>468.0</td>\n      <td>144.0</td>\n      <td>270.0</td>\n      <td>882.0</td>\n      <td>...</td>\n      <td>140</td>\n      <td>0</td>\n      <td>0</td>\n      <td>0</td>\n      <td>120</td>\n      <td>0</td>\n      <td>0</td>\n      <td>105000</td>\n      <td>0</td>\n      <td>49</td>\n    </tr>\n    <tr>\n      <th>2</th>\n      <td>20</td>\n      <td>14267</td>\n      <td>6</td>\n      <td>6</td>\n      <td>1958</td>\n      <td>1958</td>\n      <td>923.0</td>\n      <td>0.0</td>\n      <td>406.0</td>\n      <td>1329.0</td>\n      <td>...</td>\n      <td>393</td>\n      <td>36</td>\n      <td>0</td>\n      <td>0</td>\n      <td>0</td>\n      <td>0</td>\n      <td>12500</td>\n      <td>172000</td>\n      <td>0</td>\n      <td>52</td>\n    </tr>\n    <tr>\n      <th>3</th>\n      <td>20</td>\n      <td>11160</td>\n      <td>7</td>\n      <td>5</td>\n      <td>1968</td>\n      <td>1968</td>\n      <td>1065.0</td>\n      <td>0.0</td>\n      <td>1045.0</td>\n      <td>2110.0</td>\n      <td>...</td>\n      <td>0</td>\n      <td>0</td>\n      <td>0</td>\n      <td>0</td>\n      <td>0</td>\n      <td>0</td>\n      <td>0</td>\n      <td>244000</td>\n      <td>0</td>\n      <td>42</td>\n    </tr>\n    <tr>\n      <th>4</th>\n      <td>60</td>\n      <td>13830</td>\n      <td>5</td>\n      <td>5</td>\n      <td>1997</td>\n      <td>1998</td>\n      <td>791.0</td>\n      <td>0.0</td>\n      <td>137.0</td>\n      <td>928.0</td>\n      <td>...</td>\n      <td>212</td>\n      <td>34</td>\n      <td>0</td>\n      <td>0</td>\n      <td>0</td>\n      <td>0</td>\n      <td>0</td>\n      <td>189900</td>\n      <td>0</td>\n      <td>12</td>\n    </tr>\n    <tr>\n      <th>...</th>\n      <td>...</td>\n      <td>...</td>\n      <td>...</td>\n      <td>...</td>\n      <td>...</td>\n      <td>...</td>\n      <td>...</td>\n      <td>...</td>\n      <td>...</td>\n      <td>...</td>\n      <td>...</td>\n      <td>...</td>\n      <td>...</td>\n      <td>...</td>\n      <td>...</td>\n      <td>...</td>\n      <td>...</td>\n      <td>...</td>\n      <td>...</td>\n      <td>...</td>\n      <td>...</td>\n    </tr>\n    <tr>\n      <th>2925</th>\n      <td>80</td>\n      <td>7937</td>\n      <td>6</td>\n      <td>6</td>\n      <td>1984</td>\n      <td>1984</td>\n      <td>819.0</td>\n      <td>0.0</td>\n      <td>184.0</td>\n      <td>1003.0</td>\n      <td>...</td>\n      <td>120</td>\n      <td>0</td>\n      <td>0</td>\n      <td>0</td>\n      <td>0</td>\n      <td>0</td>\n      <td>0</td>\n      <td>142500</td>\n      <td>0</td>\n      <td>22</td>\n    </tr>\n    <tr>\n      <th>2926</th>\n      <td>20</td>\n      <td>8885</td>\n      <td>5</td>\n      <td>5</td>\n      <td>1983</td>\n      <td>1983</td>\n      <td>301.0</td>\n      <td>324.0</td>\n      <td>239.0</td>\n      <td>864.0</td>\n      <td>...</td>\n      <td>164</td>\n      <td>0</td>\n      <td>0</td>\n      <td>0</td>\n      <td>0</td>\n      <td>0</td>\n      <td>0</td>\n      <td>131000</td>\n      <td>0</td>\n      <td>23</td>\n    </tr>\n    <tr>\n      <th>2927</th>\n      <td>85</td>\n      <td>10441</td>\n      <td>5</td>\n      <td>5</td>\n      <td>1992</td>\n      <td>1992</td>\n      <td>337.0</td>\n      <td>0.0</td>\n      <td>575.0</td>\n      <td>912.0</td>\n      <td>...</td>\n      <td>80</td>\n      <td>32</td>\n      <td>0</td>\n      <td>0</td>\n      <td>0</td>\n      <td>0</td>\n      <td>700</td>\n      <td>132000</td>\n      <td>0</td>\n      <td>14</td>\n    </tr>\n    <tr>\n      <th>2928</th>\n      <td>20</td>\n      <td>10010</td>\n      <td>5</td>\n      <td>5</td>\n      <td>1974</td>\n      <td>1975</td>\n      <td>1071.0</td>\n      <td>123.0</td>\n      <td>195.0</td>\n      <td>1389.0</td>\n      <td>...</td>\n      <td>240</td>\n      <td>38</td>\n      <td>0</td>\n      <td>0</td>\n      <td>0</td>\n      <td>0</td>\n      <td>0</td>\n      <td>170000</td>\n      <td>0</td>\n      <td>31</td>\n    </tr>\n    <tr>\n      <th>2929</th>\n      <td>60</td>\n      <td>9627</td>\n      <td>7</td>\n      <td>5</td>\n      <td>1993</td>\n      <td>1994</td>\n      <td>758.0</td>\n      <td>0.0</td>\n      <td>238.0</td>\n      <td>996.0</td>\n      <td>...</td>\n      <td>190</td>\n      <td>48</td>\n      <td>0</td>\n      <td>0</td>\n      <td>0</td>\n      <td>0</td>\n      <td>0</td>\n      <td>188000</td>\n      <td>0</td>\n      <td>12</td>\n    </tr>\n  </tbody>\n</table>\n<p>2927 rows × 34 columns</p>\n</div>"
     },
     "execution_count": 82,
     "metadata": {},
     "output_type": "execute_result"
    }
   ],
   "source": [
    "imputed_df['Year Remod/Add']"
   ],
   "metadata": {
    "collapsed": false,
    "ExecuteTime": {
     "end_time": "2023-11-02T13:33:25.324334Z",
     "start_time": "2023-11-02T13:33:25.304390Z"
    }
   },
   "id": "58bafa61fc5c34ed"
  },
  {
   "cell_type": "code",
   "execution_count": 89,
   "outputs": [
    {
     "data": {
      "text/plain": "      MS SubClass  Lot Area  Overall Qual  Overall Cond  Year Built   \n0              20     31770             6             5        1960  \\\n1              20     11622             5             6        1961   \n2              20     14267             6             6        1958   \n3              20     11160             7             5        1968   \n4              60     13830             5             5        1997   \n...           ...       ...           ...           ...         ...   \n2925           80      7937             6             6        1984   \n2926           20      8885             5             5        1983   \n2927           85     10441             5             5        1992   \n2928           20     10010             5             5        1974   \n2929           60      9627             7             5        1993   \n\n      Year Remod/Add  BsmtFin SF 1  BsmtFin SF 2  Bsmt Unf SF  Total Bsmt SF   \n0               1960         639.0           0.0        441.0         1080.0  \\\n1               1961         468.0         144.0        270.0          882.0   \n2               1958         923.0           0.0        406.0         1329.0   \n3               1968        1065.0           0.0       1045.0         2110.0   \n4               1998         791.0           0.0        137.0          928.0   \n...              ...           ...           ...          ...            ...   \n2925            1984         819.0           0.0        184.0         1003.0   \n2926            1983         301.0         324.0        239.0          864.0   \n2927            1992         337.0           0.0        575.0          912.0   \n2928            1975        1071.0         123.0        195.0         1389.0   \n2929            1994         758.0           0.0        238.0          996.0   \n\n      ...  Wood Deck SF  Open Porch SF  Enclosed Porch  3Ssn Porch   \n0     ...           210             62               0           0  \\\n1     ...           140              0               0           0   \n2     ...           393             36               0           0   \n3     ...             0              0               0           0   \n4     ...           212             34               0           0   \n...   ...           ...            ...             ...         ...   \n2925  ...           120              0               0           0   \n2926  ...           164              0               0           0   \n2927  ...            80             32               0           0   \n2928  ...           240             38               0           0   \n2929  ...           190             48               0           0   \n\n      Screen Porch  Pool Area  Misc Val  SalePrice  Years Before Sale   \n0                0          0         0     215000                  0  \\\n1              120          0         0     105000                  0   \n2                0          0     12500     172000                  0   \n3                0          0         0     244000                  0   \n4                0          0         0     189900                  0   \n...            ...        ...       ...        ...                ...   \n2925             0          0         0     142500                  0   \n2926             0          0         0     131000                  0   \n2927             0          0       700     132000                  0   \n2928             0          0         0     170000                  0   \n2929             0          0         0     188000                  0   \n\n      Years Since Remod  \n0                    50  \n1                    49  \n2                    52  \n3                    42  \n4                    12  \n...                 ...  \n2925                 22  \n2926                 23  \n2927                 14  \n2928                 31  \n2929                 12  \n\n[2927 rows x 34 columns]",
      "text/html": "<div>\n<style scoped>\n    .dataframe tbody tr th:only-of-type {\n        vertical-align: middle;\n    }\n\n    .dataframe tbody tr th {\n        vertical-align: top;\n    }\n\n    .dataframe thead th {\n        text-align: right;\n    }\n</style>\n<table border=\"1\" class=\"dataframe\">\n  <thead>\n    <tr style=\"text-align: right;\">\n      <th></th>\n      <th>MS SubClass</th>\n      <th>Lot Area</th>\n      <th>Overall Qual</th>\n      <th>Overall Cond</th>\n      <th>Year Built</th>\n      <th>Year Remod/Add</th>\n      <th>BsmtFin SF 1</th>\n      <th>BsmtFin SF 2</th>\n      <th>Bsmt Unf SF</th>\n      <th>Total Bsmt SF</th>\n      <th>...</th>\n      <th>Wood Deck SF</th>\n      <th>Open Porch SF</th>\n      <th>Enclosed Porch</th>\n      <th>3Ssn Porch</th>\n      <th>Screen Porch</th>\n      <th>Pool Area</th>\n      <th>Misc Val</th>\n      <th>SalePrice</th>\n      <th>Years Before Sale</th>\n      <th>Years Since Remod</th>\n    </tr>\n  </thead>\n  <tbody>\n    <tr>\n      <th>0</th>\n      <td>20</td>\n      <td>31770</td>\n      <td>6</td>\n      <td>5</td>\n      <td>1960</td>\n      <td>1960</td>\n      <td>639.0</td>\n      <td>0.0</td>\n      <td>441.0</td>\n      <td>1080.0</td>\n      <td>...</td>\n      <td>210</td>\n      <td>62</td>\n      <td>0</td>\n      <td>0</td>\n      <td>0</td>\n      <td>0</td>\n      <td>0</td>\n      <td>215000</td>\n      <td>0</td>\n      <td>50</td>\n    </tr>\n    <tr>\n      <th>1</th>\n      <td>20</td>\n      <td>11622</td>\n      <td>5</td>\n      <td>6</td>\n      <td>1961</td>\n      <td>1961</td>\n      <td>468.0</td>\n      <td>144.0</td>\n      <td>270.0</td>\n      <td>882.0</td>\n      <td>...</td>\n      <td>140</td>\n      <td>0</td>\n      <td>0</td>\n      <td>0</td>\n      <td>120</td>\n      <td>0</td>\n      <td>0</td>\n      <td>105000</td>\n      <td>0</td>\n      <td>49</td>\n    </tr>\n    <tr>\n      <th>2</th>\n      <td>20</td>\n      <td>14267</td>\n      <td>6</td>\n      <td>6</td>\n      <td>1958</td>\n      <td>1958</td>\n      <td>923.0</td>\n      <td>0.0</td>\n      <td>406.0</td>\n      <td>1329.0</td>\n      <td>...</td>\n      <td>393</td>\n      <td>36</td>\n      <td>0</td>\n      <td>0</td>\n      <td>0</td>\n      <td>0</td>\n      <td>12500</td>\n      <td>172000</td>\n      <td>0</td>\n      <td>52</td>\n    </tr>\n    <tr>\n      <th>3</th>\n      <td>20</td>\n      <td>11160</td>\n      <td>7</td>\n      <td>5</td>\n      <td>1968</td>\n      <td>1968</td>\n      <td>1065.0</td>\n      <td>0.0</td>\n      <td>1045.0</td>\n      <td>2110.0</td>\n      <td>...</td>\n      <td>0</td>\n      <td>0</td>\n      <td>0</td>\n      <td>0</td>\n      <td>0</td>\n      <td>0</td>\n      <td>0</td>\n      <td>244000</td>\n      <td>0</td>\n      <td>42</td>\n    </tr>\n    <tr>\n      <th>4</th>\n      <td>60</td>\n      <td>13830</td>\n      <td>5</td>\n      <td>5</td>\n      <td>1997</td>\n      <td>1998</td>\n      <td>791.0</td>\n      <td>0.0</td>\n      <td>137.0</td>\n      <td>928.0</td>\n      <td>...</td>\n      <td>212</td>\n      <td>34</td>\n      <td>0</td>\n      <td>0</td>\n      <td>0</td>\n      <td>0</td>\n      <td>0</td>\n      <td>189900</td>\n      <td>0</td>\n      <td>12</td>\n    </tr>\n    <tr>\n      <th>...</th>\n      <td>...</td>\n      <td>...</td>\n      <td>...</td>\n      <td>...</td>\n      <td>...</td>\n      <td>...</td>\n      <td>...</td>\n      <td>...</td>\n      <td>...</td>\n      <td>...</td>\n      <td>...</td>\n      <td>...</td>\n      <td>...</td>\n      <td>...</td>\n      <td>...</td>\n      <td>...</td>\n      <td>...</td>\n      <td>...</td>\n      <td>...</td>\n      <td>...</td>\n      <td>...</td>\n    </tr>\n    <tr>\n      <th>2925</th>\n      <td>80</td>\n      <td>7937</td>\n      <td>6</td>\n      <td>6</td>\n      <td>1984</td>\n      <td>1984</td>\n      <td>819.0</td>\n      <td>0.0</td>\n      <td>184.0</td>\n      <td>1003.0</td>\n      <td>...</td>\n      <td>120</td>\n      <td>0</td>\n      <td>0</td>\n      <td>0</td>\n      <td>0</td>\n      <td>0</td>\n      <td>0</td>\n      <td>142500</td>\n      <td>0</td>\n      <td>22</td>\n    </tr>\n    <tr>\n      <th>2926</th>\n      <td>20</td>\n      <td>8885</td>\n      <td>5</td>\n      <td>5</td>\n      <td>1983</td>\n      <td>1983</td>\n      <td>301.0</td>\n      <td>324.0</td>\n      <td>239.0</td>\n      <td>864.0</td>\n      <td>...</td>\n      <td>164</td>\n      <td>0</td>\n      <td>0</td>\n      <td>0</td>\n      <td>0</td>\n      <td>0</td>\n      <td>0</td>\n      <td>131000</td>\n      <td>0</td>\n      <td>23</td>\n    </tr>\n    <tr>\n      <th>2927</th>\n      <td>85</td>\n      <td>10441</td>\n      <td>5</td>\n      <td>5</td>\n      <td>1992</td>\n      <td>1992</td>\n      <td>337.0</td>\n      <td>0.0</td>\n      <td>575.0</td>\n      <td>912.0</td>\n      <td>...</td>\n      <td>80</td>\n      <td>32</td>\n      <td>0</td>\n      <td>0</td>\n      <td>0</td>\n      <td>0</td>\n      <td>700</td>\n      <td>132000</td>\n      <td>0</td>\n      <td>14</td>\n    </tr>\n    <tr>\n      <th>2928</th>\n      <td>20</td>\n      <td>10010</td>\n      <td>5</td>\n      <td>5</td>\n      <td>1974</td>\n      <td>1975</td>\n      <td>1071.0</td>\n      <td>123.0</td>\n      <td>195.0</td>\n      <td>1389.0</td>\n      <td>...</td>\n      <td>240</td>\n      <td>38</td>\n      <td>0</td>\n      <td>0</td>\n      <td>0</td>\n      <td>0</td>\n      <td>0</td>\n      <td>170000</td>\n      <td>0</td>\n      <td>31</td>\n    </tr>\n    <tr>\n      <th>2929</th>\n      <td>60</td>\n      <td>9627</td>\n      <td>7</td>\n      <td>5</td>\n      <td>1993</td>\n      <td>1994</td>\n      <td>758.0</td>\n      <td>0.0</td>\n      <td>238.0</td>\n      <td>996.0</td>\n      <td>...</td>\n      <td>190</td>\n      <td>48</td>\n      <td>0</td>\n      <td>0</td>\n      <td>0</td>\n      <td>0</td>\n      <td>0</td>\n      <td>188000</td>\n      <td>0</td>\n      <td>12</td>\n    </tr>\n  </tbody>\n</table>\n<p>2927 rows × 34 columns</p>\n</div>"
     },
     "execution_count": 89,
     "metadata": {},
     "output_type": "execute_result"
    }
   ],
   "source": [
    "imputed_df[imputed_df['Overall Qual']>0]"
   ],
   "metadata": {
    "collapsed": false,
    "ExecuteTime": {
     "end_time": "2023-11-02T13:49:47.570531Z",
     "start_time": "2023-11-02T13:49:47.515518Z"
    }
   },
   "id": "66e713e19ec99122"
  },
  {
   "cell_type": "markdown",
   "source": [
    "## Corelation study on the features"
   ],
   "metadata": {
    "collapsed": false
   },
   "id": "ba4b532d5d111fe"
  },
  {
   "cell_type": "code",
   "execution_count": null,
   "outputs": [],
   "source": [
    "df_corr = imputed_df.corr()"
   ],
   "metadata": {
    "collapsed": false
   },
   "id": "6c82aec45351419a"
  },
  {
   "cell_type": "code",
   "execution_count": null,
   "outputs": [],
   "source": [
    "import seaborn as sns\n",
    "import matplotlib.pyplot as plt\n",
    "fig, ax = plt.subplots(figsize=(10, 10))\n",
    "sns.heatmap(df_corr, ax=ax)"
   ],
   "metadata": {
    "collapsed": false
   },
   "id": "3fa0487907271643"
  },
  {
   "cell_type": "code",
   "execution_count": null,
   "outputs": [],
   "source": [
    "df_corr.shape"
   ],
   "metadata": {
    "collapsed": false
   },
   "id": "f8132b8fade5d9a7"
  },
  {
   "cell_type": "code",
   "execution_count": null,
   "outputs": [],
   "source": [
    "SalePrice_corr_features= df_corr['SalePrice']"
   ],
   "metadata": {
    "collapsed": false
   },
   "id": "43b9ac32d84fb05b"
  },
  {
   "cell_type": "code",
   "execution_count": null,
   "outputs": [],
   "source": [
    "SalePrice_corr_features.sort_values(ascending=False)"
   ],
   "metadata": {
    "collapsed": false
   },
   "id": "16f3f1016de81c58"
  },
  {
   "cell_type": "code",
   "execution_count": null,
   "outputs": [],
   "source": [],
   "metadata": {
    "collapsed": false
   },
   "id": "e8c98c7640b7560f"
  },
  {
   "cell_type": "code",
   "execution_count": null,
   "outputs": [],
   "source": [
    "    "
   ],
   "metadata": {
    "collapsed": false
   },
   "id": "9ca4104d6accdc1d"
  },
  {
   "cell_type": "code",
   "execution_count": 78,
   "outputs": [
    {
     "name": "stdout",
     "output_type": "stream",
     "text": [
      "SalePrice            1.000000\n",
      "Overall Qual         0.801206\n",
      "Gr Liv Area          0.717596\n",
      "Garage Cars          0.648361\n",
      "Total Bsmt SF        0.644012\n",
      "Garage Area          0.641425\n",
      "1st Flr SF           0.635185\n",
      "Year Built           0.558490\n",
      "Full Bath            0.546118\n",
      "Year Remod/Add       0.533007\n",
      "TotRms AbvGrd        0.498574\n",
      "Fireplaces           0.474831\n",
      "BsmtFin SF 1         0.439284\n",
      "Wood Deck SF         0.328183\n",
      "Open Porch SF        0.316262\n",
      "Half Bath            0.284871\n",
      "Bsmt Full Bath       0.276258\n",
      "2nd Flr SF           0.269601\n",
      "Lot Area             0.267520\n",
      "Bsmt Unf SF          0.182751\n",
      "Bedroom AbvGr        0.143916\n",
      "Screen Porch         0.112280\n",
      "Pool Area            0.068438\n",
      "Mo Sold              0.035273\n",
      "3Ssn Porch           0.032268\n",
      "BsmtFin SF 2         0.006127\n",
      "Misc Val            -0.019273\n",
      "Yr Sold             -0.030358\n",
      "Bsmt Half Bath      -0.035875\n",
      "Low Qual Fin SF     -0.037629\n",
      "MS SubClass         -0.085128\n",
      "Overall Cond        -0.101540\n",
      "Kitchen AbvGr       -0.119760\n",
      "Enclosed Porch      -0.128685\n",
      "Years Since Remod   -0.534985\n",
      "Years Before Sale         NaN\n",
      "Name: SalePrice, dtype: float64\n"
     ]
    }
   ],
   "source": [
    "print(imputed_df.corr()['SalePrice'].sort_values(ascending=False))"
   ],
   "metadata": {
    "collapsed": false,
    "ExecuteTime": {
     "end_time": "2023-11-02T13:22:20.231537Z",
     "start_time": "2023-11-02T13:22:20.206727Z"
    }
   },
   "id": "8c6ab67ed28c5731"
  },
  {
   "cell_type": "code",
   "execution_count": null,
   "outputs": [],
   "source": [],
   "metadata": {
    "collapsed": false
   },
   "id": "115a9b4d1225ee35"
  }
 ],
 "metadata": {
  "kernelspec": {
   "display_name": "Python 3",
   "language": "python",
   "name": "python3"
  },
  "language_info": {
   "codemirror_mode": {
    "name": "ipython",
    "version": 2
   },
   "file_extension": ".py",
   "mimetype": "text/x-python",
   "name": "python",
   "nbconvert_exporter": "python",
   "pygments_lexer": "ipython2",
   "version": "2.7.6"
  }
 },
 "nbformat": 4,
 "nbformat_minor": 5
}
