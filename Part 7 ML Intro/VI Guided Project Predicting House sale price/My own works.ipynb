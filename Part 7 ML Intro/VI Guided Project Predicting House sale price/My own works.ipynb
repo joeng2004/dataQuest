{
 "cells": [
  {
   "cell_type": "markdown",
   "source": [],
   "metadata": {
    "collapsed": false
   },
   "id": "6c1783339efd55de"
  },
  {
   "cell_type": "code",
   "execution_count": 31,
   "id": "initial_id",
   "metadata": {
    "collapsed": true,
    "ExecuteTime": {
     "end_time": "2023-11-02T09:43:39.188835Z",
     "start_time": "2023-11-02T09:43:38.386158Z"
    }
   },
   "outputs": [],
   "source": [
    "import pandas as pd\n",
    "import numpy as np\n",
    "import matplotlib as plt\n",
    "\n",
    "from sklearn.linear_model import LinearRegression\n",
    "from sklearn.metrics import mean_squared_error"
   ]
  },
  {
   "cell_type": "code",
   "execution_count": 8,
   "outputs": [],
   "source": [
    "house = pd.read_csv('AmesHousing.tsv', delimiter='\\t')"
   ],
   "metadata": {
    "collapsed": false,
    "ExecuteTime": {
     "end_time": "2023-11-02T09:36:06.145458Z",
     "start_time": "2023-11-02T09:36:06.090085Z"
    }
   },
   "id": "12478f960a4d4b84"
  },
  {
   "cell_type": "code",
   "execution_count": 5,
   "outputs": [
    {
     "data": {
      "text/plain": "      Order        PID  MS SubClass MS Zoning  Lot Frontage  Lot Area Street   \n0         1  526301100           20        RL         141.0     31770   Pave  \\\n1         2  526350040           20        RH          80.0     11622   Pave   \n2         3  526351010           20        RL          81.0     14267   Pave   \n3         4  526353030           20        RL          93.0     11160   Pave   \n4         5  527105010           60        RL          74.0     13830   Pave   \n...     ...        ...          ...       ...           ...       ...    ...   \n2925   2926  923275080           80        RL          37.0      7937   Pave   \n2926   2927  923276100           20        RL           NaN      8885   Pave   \n2927   2928  923400125           85        RL          62.0     10441   Pave   \n2928   2929  924100070           20        RL          77.0     10010   Pave   \n2929   2930  924151050           60        RL          74.0      9627   Pave   \n\n     Alley Lot Shape Land Contour  ... Pool Area Pool QC  Fence Misc Feature   \n0      NaN       IR1          Lvl  ...         0     NaN    NaN          NaN  \\\n1      NaN       Reg          Lvl  ...         0     NaN  MnPrv          NaN   \n2      NaN       IR1          Lvl  ...         0     NaN    NaN         Gar2   \n3      NaN       Reg          Lvl  ...         0     NaN    NaN          NaN   \n4      NaN       IR1          Lvl  ...         0     NaN  MnPrv          NaN   \n...    ...       ...          ...  ...       ...     ...    ...          ...   \n2925   NaN       IR1          Lvl  ...         0     NaN  GdPrv          NaN   \n2926   NaN       IR1          Low  ...         0     NaN  MnPrv          NaN   \n2927   NaN       Reg          Lvl  ...         0     NaN  MnPrv         Shed   \n2928   NaN       Reg          Lvl  ...         0     NaN    NaN          NaN   \n2929   NaN       Reg          Lvl  ...         0     NaN    NaN          NaN   \n\n     Misc Val Mo Sold Yr Sold Sale Type  Sale Condition  SalePrice  \n0           0       5    2010       WD           Normal     215000  \n1           0       6    2010       WD           Normal     105000  \n2       12500       6    2010       WD           Normal     172000  \n3           0       4    2010       WD           Normal     244000  \n4           0       3    2010       WD           Normal     189900  \n...       ...     ...     ...       ...             ...        ...  \n2925        0       3    2006       WD           Normal     142500  \n2926        0       6    2006       WD           Normal     131000  \n2927      700       7    2006       WD           Normal     132000  \n2928        0       4    2006       WD           Normal     170000  \n2929        0      11    2006       WD           Normal     188000  \n\n[2930 rows x 82 columns]",
      "text/html": "<div>\n<style scoped>\n    .dataframe tbody tr th:only-of-type {\n        vertical-align: middle;\n    }\n\n    .dataframe tbody tr th {\n        vertical-align: top;\n    }\n\n    .dataframe thead th {\n        text-align: right;\n    }\n</style>\n<table border=\"1\" class=\"dataframe\">\n  <thead>\n    <tr style=\"text-align: right;\">\n      <th></th>\n      <th>Order</th>\n      <th>PID</th>\n      <th>MS SubClass</th>\n      <th>MS Zoning</th>\n      <th>Lot Frontage</th>\n      <th>Lot Area</th>\n      <th>Street</th>\n      <th>Alley</th>\n      <th>Lot Shape</th>\n      <th>Land Contour</th>\n      <th>...</th>\n      <th>Pool Area</th>\n      <th>Pool QC</th>\n      <th>Fence</th>\n      <th>Misc Feature</th>\n      <th>Misc Val</th>\n      <th>Mo Sold</th>\n      <th>Yr Sold</th>\n      <th>Sale Type</th>\n      <th>Sale Condition</th>\n      <th>SalePrice</th>\n    </tr>\n  </thead>\n  <tbody>\n    <tr>\n      <th>0</th>\n      <td>1</td>\n      <td>526301100</td>\n      <td>20</td>\n      <td>RL</td>\n      <td>141.0</td>\n      <td>31770</td>\n      <td>Pave</td>\n      <td>NaN</td>\n      <td>IR1</td>\n      <td>Lvl</td>\n      <td>...</td>\n      <td>0</td>\n      <td>NaN</td>\n      <td>NaN</td>\n      <td>NaN</td>\n      <td>0</td>\n      <td>5</td>\n      <td>2010</td>\n      <td>WD</td>\n      <td>Normal</td>\n      <td>215000</td>\n    </tr>\n    <tr>\n      <th>1</th>\n      <td>2</td>\n      <td>526350040</td>\n      <td>20</td>\n      <td>RH</td>\n      <td>80.0</td>\n      <td>11622</td>\n      <td>Pave</td>\n      <td>NaN</td>\n      <td>Reg</td>\n      <td>Lvl</td>\n      <td>...</td>\n      <td>0</td>\n      <td>NaN</td>\n      <td>MnPrv</td>\n      <td>NaN</td>\n      <td>0</td>\n      <td>6</td>\n      <td>2010</td>\n      <td>WD</td>\n      <td>Normal</td>\n      <td>105000</td>\n    </tr>\n    <tr>\n      <th>2</th>\n      <td>3</td>\n      <td>526351010</td>\n      <td>20</td>\n      <td>RL</td>\n      <td>81.0</td>\n      <td>14267</td>\n      <td>Pave</td>\n      <td>NaN</td>\n      <td>IR1</td>\n      <td>Lvl</td>\n      <td>...</td>\n      <td>0</td>\n      <td>NaN</td>\n      <td>NaN</td>\n      <td>Gar2</td>\n      <td>12500</td>\n      <td>6</td>\n      <td>2010</td>\n      <td>WD</td>\n      <td>Normal</td>\n      <td>172000</td>\n    </tr>\n    <tr>\n      <th>3</th>\n      <td>4</td>\n      <td>526353030</td>\n      <td>20</td>\n      <td>RL</td>\n      <td>93.0</td>\n      <td>11160</td>\n      <td>Pave</td>\n      <td>NaN</td>\n      <td>Reg</td>\n      <td>Lvl</td>\n      <td>...</td>\n      <td>0</td>\n      <td>NaN</td>\n      <td>NaN</td>\n      <td>NaN</td>\n      <td>0</td>\n      <td>4</td>\n      <td>2010</td>\n      <td>WD</td>\n      <td>Normal</td>\n      <td>244000</td>\n    </tr>\n    <tr>\n      <th>4</th>\n      <td>5</td>\n      <td>527105010</td>\n      <td>60</td>\n      <td>RL</td>\n      <td>74.0</td>\n      <td>13830</td>\n      <td>Pave</td>\n      <td>NaN</td>\n      <td>IR1</td>\n      <td>Lvl</td>\n      <td>...</td>\n      <td>0</td>\n      <td>NaN</td>\n      <td>MnPrv</td>\n      <td>NaN</td>\n      <td>0</td>\n      <td>3</td>\n      <td>2010</td>\n      <td>WD</td>\n      <td>Normal</td>\n      <td>189900</td>\n    </tr>\n    <tr>\n      <th>...</th>\n      <td>...</td>\n      <td>...</td>\n      <td>...</td>\n      <td>...</td>\n      <td>...</td>\n      <td>...</td>\n      <td>...</td>\n      <td>...</td>\n      <td>...</td>\n      <td>...</td>\n      <td>...</td>\n      <td>...</td>\n      <td>...</td>\n      <td>...</td>\n      <td>...</td>\n      <td>...</td>\n      <td>...</td>\n      <td>...</td>\n      <td>...</td>\n      <td>...</td>\n      <td>...</td>\n    </tr>\n    <tr>\n      <th>2925</th>\n      <td>2926</td>\n      <td>923275080</td>\n      <td>80</td>\n      <td>RL</td>\n      <td>37.0</td>\n      <td>7937</td>\n      <td>Pave</td>\n      <td>NaN</td>\n      <td>IR1</td>\n      <td>Lvl</td>\n      <td>...</td>\n      <td>0</td>\n      <td>NaN</td>\n      <td>GdPrv</td>\n      <td>NaN</td>\n      <td>0</td>\n      <td>3</td>\n      <td>2006</td>\n      <td>WD</td>\n      <td>Normal</td>\n      <td>142500</td>\n    </tr>\n    <tr>\n      <th>2926</th>\n      <td>2927</td>\n      <td>923276100</td>\n      <td>20</td>\n      <td>RL</td>\n      <td>NaN</td>\n      <td>8885</td>\n      <td>Pave</td>\n      <td>NaN</td>\n      <td>IR1</td>\n      <td>Low</td>\n      <td>...</td>\n      <td>0</td>\n      <td>NaN</td>\n      <td>MnPrv</td>\n      <td>NaN</td>\n      <td>0</td>\n      <td>6</td>\n      <td>2006</td>\n      <td>WD</td>\n      <td>Normal</td>\n      <td>131000</td>\n    </tr>\n    <tr>\n      <th>2927</th>\n      <td>2928</td>\n      <td>923400125</td>\n      <td>85</td>\n      <td>RL</td>\n      <td>62.0</td>\n      <td>10441</td>\n      <td>Pave</td>\n      <td>NaN</td>\n      <td>Reg</td>\n      <td>Lvl</td>\n      <td>...</td>\n      <td>0</td>\n      <td>NaN</td>\n      <td>MnPrv</td>\n      <td>Shed</td>\n      <td>700</td>\n      <td>7</td>\n      <td>2006</td>\n      <td>WD</td>\n      <td>Normal</td>\n      <td>132000</td>\n    </tr>\n    <tr>\n      <th>2928</th>\n      <td>2929</td>\n      <td>924100070</td>\n      <td>20</td>\n      <td>RL</td>\n      <td>77.0</td>\n      <td>10010</td>\n      <td>Pave</td>\n      <td>NaN</td>\n      <td>Reg</td>\n      <td>Lvl</td>\n      <td>...</td>\n      <td>0</td>\n      <td>NaN</td>\n      <td>NaN</td>\n      <td>NaN</td>\n      <td>0</td>\n      <td>4</td>\n      <td>2006</td>\n      <td>WD</td>\n      <td>Normal</td>\n      <td>170000</td>\n    </tr>\n    <tr>\n      <th>2929</th>\n      <td>2930</td>\n      <td>924151050</td>\n      <td>60</td>\n      <td>RL</td>\n      <td>74.0</td>\n      <td>9627</td>\n      <td>Pave</td>\n      <td>NaN</td>\n      <td>Reg</td>\n      <td>Lvl</td>\n      <td>...</td>\n      <td>0</td>\n      <td>NaN</td>\n      <td>NaN</td>\n      <td>NaN</td>\n      <td>0</td>\n      <td>11</td>\n      <td>2006</td>\n      <td>WD</td>\n      <td>Normal</td>\n      <td>188000</td>\n    </tr>\n  </tbody>\n</table>\n<p>2930 rows × 82 columns</p>\n</div>"
     },
     "execution_count": 5,
     "metadata": {},
     "output_type": "execute_result"
    }
   ],
   "source": [
    "house"
   ],
   "metadata": {
    "collapsed": false,
    "ExecuteTime": {
     "end_time": "2023-11-02T09:18:52.390488Z",
     "start_time": "2023-11-02T09:18:52.371043Z"
    }
   },
   "id": "50dd00e5a7575c7"
  },
  {
   "cell_type": "code",
   "execution_count": 43,
   "outputs": [],
   "source": [
    "def transform_features(df):\n",
    "    return df\n",
    "\n",
    "def select_features(df):\n",
    "    return df[['Gr Liv Area','SalePrice']]\n",
    "\n",
    "def train_and_test(df):\n",
    "    train = df[:1460]\n",
    "    test = df[1460:]\n",
    "\n",
    "    numeric_train = train.select_dtypes(include=['integer', 'float'])\n",
    "    numeric_test = test.select_dtypes(include=['integer', 'float'])\n",
    "\n",
    "    \n",
    "    numeric_features = numeric_train.columns.drop(['SalePrice'])\n",
    "\n",
    "    lr = LinearRegression()\n",
    "    lr.fit(train[numeric_features], train['SalePrice'])\n",
    "\n",
    "    # train_predictions = lr.predict(train[numeric_features])\n",
    "    test_predictions = lr.predict(test[numeric_features])\n",
    "\n",
    "\n",
    "    # train_mse = mean_squared_error(train_predictions, train['SalePrice'])\n",
    "    test_mse = mean_squared_error(test_predictions,test['SalePrice'])\n",
    "\n",
    "    # train_rmse = np.sqrt(train_mse)\n",
    "    test_rmse = np.sqrt(test_mse)\n",
    "\n",
    "    return (test_mse, test_rmse)\n",
    "    "
   ],
   "metadata": {
    "collapsed": false,
    "ExecuteTime": {
     "end_time": "2023-11-02T09:54:13.376137Z",
     "start_time": "2023-11-02T09:54:13.364739Z"
    }
   },
   "id": "9bb172bdbc522874"
  },
  {
   "cell_type": "code",
   "execution_count": 44,
   "outputs": [
    {
     "data": {
      "text/plain": "(3259068472.1879897, 57088.25161263909)"
     },
     "execution_count": 44,
     "metadata": {},
     "output_type": "execute_result"
    }
   ],
   "source": [
    "transform_df = transform_features(house)\n",
    "filtered_df = select_features(transform_df)\n",
    "\n",
    "train_and_test(filtered_df)\n",
    "# rmse = train_and_test(filtered_df)\n",
    "# # \n",
    "# rmse"
   ],
   "metadata": {
    "collapsed": false,
    "ExecuteTime": {
     "end_time": "2023-11-02T09:54:14.071629Z",
     "start_time": "2023-11-02T09:54:14.061915Z"
    }
   },
   "id": "bd2e1b1548330b08"
  },
  {
   "cell_type": "markdown",
   "source": [
    "# Feature Engineering"
   ],
   "metadata": {
    "collapsed": false
   },
   "id": "989dfe83a76c16bd"
  },
  {
   "cell_type": "code",
   "execution_count": null,
   "outputs": [],
   "source": [
    "# All columns \n",
    "# 1. Drop any columns with more than 5% missing data (more_5pc_column)\n",
    "\n",
    "# 2. Sort out all numerical columns \n",
    "\n",
    "# 3. Fill the missing value column with the most frequent value in that column"
   ],
   "metadata": {
    "collapsed": false
   },
   "id": "cc8ad1938cece11a"
  },
  {
   "cell_type": "code",
   "execution_count": null,
   "outputs": [],
   "source": [
    "#1. "
   ],
   "metadata": {
    "collapsed": false
   },
   "id": "c1116cc868d225ff"
  },
  {
   "cell_type": "code",
   "execution_count": 98,
   "outputs": [],
   "source": [
    "temp = ((house.isnull().sum() / house.shape[1])> 0.05) \n",
    "more_5pc_column = ([index for index, value in temp.items() if value == False]) "
   ],
   "metadata": {
    "collapsed": false,
    "ExecuteTime": {
     "end_time": "2023-11-02T10:47:37.423162Z",
     "start_time": "2023-11-02T10:47:37.411534Z"
    }
   },
   "id": "a320c2c207e32956"
  },
  {
   "cell_type": "code",
   "execution_count": 99,
   "outputs": [
    {
     "data": {
      "text/plain": "Bsmt Full Bath    2\nBsmt Half Bath    2\nBsmtFin SF 2      1\nGarage Cars       1\nGarage Area       1\n                 ..\nExter Qual        0\nExter Cond        0\nFoundation        0\nHeating           0\nSalePrice         0\nLength: 64, dtype: int64"
     },
     "execution_count": 99,
     "metadata": {},
     "output_type": "execute_result"
    }
   ],
   "source": [
    "house[more_5pc_column].isnull().sum().sort_values(ascending=False)"
   ],
   "metadata": {
    "collapsed": false,
    "ExecuteTime": {
     "end_time": "2023-11-02T10:47:38.001551Z",
     "start_time": "2023-11-02T10:47:37.992402Z"
    }
   },
   "id": "9da3464467ff8e95"
  },
  {
   "cell_type": "code",
   "execution_count": null,
   "outputs": [],
   "source": [
    "# 2. Sort out all numerical columns "
   ],
   "metadata": {
    "collapsed": false
   },
   "id": "a2013102d89ece1b"
  },
  {
   "cell_type": "code",
   "execution_count": 101,
   "outputs": [
    {
     "data": {
      "text/plain": "(2930, 36)"
     },
     "execution_count": 101,
     "metadata": {},
     "output_type": "execute_result"
    }
   ],
   "source": [
    "house[more_5pc_column].select_dtypes(['int','float']).shape"
   ],
   "metadata": {
    "collapsed": false,
    "ExecuteTime": {
     "end_time": "2023-11-02T10:51:52.885251Z",
     "start_time": "2023-11-02T10:51:52.873190Z"
    }
   },
   "id": "cef09135332e7358"
  },
  {
   "cell_type": "code",
   "execution_count": 103,
   "outputs": [],
   "source": [
    "numerical_feature = house[more_5pc_column].select_dtypes(['int','float']).columns"
   ],
   "metadata": {
    "collapsed": false,
    "ExecuteTime": {
     "end_time": "2023-11-02T10:52:45.875488Z",
     "start_time": "2023-11-02T10:52:45.859969Z"
    }
   },
   "id": "4efd01fd2b30f556"
  },
  {
   "cell_type": "code",
   "execution_count": 104,
   "outputs": [
    {
     "data": {
      "text/plain": "Index(['Order', 'PID', 'MS SubClass', 'Lot Area', 'Overall Qual',\n       'Overall Cond', 'Year Built', 'Year Remod/Add', 'BsmtFin SF 1',\n       'BsmtFin SF 2', 'Bsmt Unf SF', 'Total Bsmt SF', '1st Flr SF',\n       '2nd Flr SF', 'Low Qual Fin SF', 'Gr Liv Area', 'Bsmt Full Bath',\n       'Bsmt Half Bath', 'Full Bath', 'Half Bath', 'Bedroom AbvGr',\n       'Kitchen AbvGr', 'TotRms AbvGrd', 'Fireplaces', 'Garage Cars',\n       'Garage Area', 'Wood Deck SF', 'Open Porch SF', 'Enclosed Porch',\n       '3Ssn Porch', 'Screen Porch', 'Pool Area', 'Misc Val', 'Mo Sold',\n       'Yr Sold', 'SalePrice'],\n      dtype='object')"
     },
     "execution_count": 104,
     "metadata": {},
     "output_type": "execute_result"
    }
   ],
   "source": [
    "numerical_feature"
   ],
   "metadata": {
    "collapsed": false,
    "ExecuteTime": {
     "end_time": "2023-11-02T10:53:04.175327Z",
     "start_time": "2023-11-02T10:53:04.159944Z"
    }
   },
   "id": "f75515c59cff2a62"
  },
  {
   "cell_type": "code",
   "execution_count": 106,
   "outputs": [],
   "source": [
    "# remove the SalePrice column\n",
    "numerical_feature=numerical_feature.drop('SalePrice')"
   ],
   "metadata": {
    "collapsed": false,
    "ExecuteTime": {
     "end_time": "2023-11-02T10:53:37.159091Z",
     "start_time": "2023-11-02T10:53:37.139655Z"
    }
   },
   "id": "80da42e629c83ce5"
  },
  {
   "cell_type": "code",
   "execution_count": 107,
   "outputs": [
    {
     "data": {
      "text/plain": "35"
     },
     "execution_count": 107,
     "metadata": {},
     "output_type": "execute_result"
    }
   ],
   "source": [
    "len(numerical_feature)"
   ],
   "metadata": {
    "collapsed": false,
    "ExecuteTime": {
     "end_time": "2023-11-02T10:53:47.025877Z",
     "start_time": "2023-11-02T10:53:47.000393Z"
    }
   },
   "id": "3c6c375fd83b96ac"
  },
  {
   "cell_type": "code",
   "execution_count": null,
   "outputs": [],
   "source": [
    "# 3. Fill the missing value with the most frequent value in that column"
   ],
   "metadata": {
    "collapsed": false
   },
   "id": "1062e3ebe6f49a20"
  },
  {
   "cell_type": "code",
   "execution_count": null,
   "outputs": [],
   "source": [],
   "metadata": {
    "collapsed": false
   },
   "id": "b5d1b4b89ca73cb4"
  },
  {
   "cell_type": "code",
   "execution_count": null,
   "outputs": [],
   "source": [],
   "metadata": {
    "collapsed": false
   },
   "id": "6544ffcaa8a64a30"
  },
  {
   "cell_type": "code",
   "execution_count": null,
   "outputs": [],
   "source": [],
   "metadata": {
    "collapsed": false
   },
   "id": "9e1714688b211f73"
  },
  {
   "cell_type": "code",
   "execution_count": null,
   "outputs": [],
   "source": [],
   "metadata": {
    "collapsed": false
   },
   "id": "3eb2b684644733a"
  }
 ],
 "metadata": {
  "kernelspec": {
   "display_name": "Python 3",
   "language": "python",
   "name": "python3"
  },
  "language_info": {
   "codemirror_mode": {
    "name": "ipython",
    "version": 2
   },
   "file_extension": ".py",
   "mimetype": "text/x-python",
   "name": "python",
   "nbconvert_exporter": "python",
   "pygments_lexer": "ipython2",
   "version": "2.7.6"
  }
 },
 "nbformat": 4,
 "nbformat_minor": 5
}
