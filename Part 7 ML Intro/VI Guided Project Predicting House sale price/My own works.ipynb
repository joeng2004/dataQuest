{
 "cells": [
  {
   "cell_type": "markdown",
   "source": [],
   "metadata": {
    "collapsed": false
   },
   "id": "6c1783339efd55de"
  },
  {
   "cell_type": "code",
   "execution_count": 48,
   "id": "initial_id",
   "metadata": {
    "collapsed": true,
    "ExecuteTime": {
     "end_time": "2023-11-02T13:16:01.981527Z",
     "start_time": "2023-11-02T13:16:01.705355Z"
    }
   },
   "outputs": [],
   "source": [
    "import pandas as pd\n",
    "import numpy as np\n",
    "import matplotlib as plt\n",
    "\n",
    "from sklearn.linear_model import LinearRegression\n",
    "from sklearn.metrics import mean_squared_error"
   ]
  },
  {
   "cell_type": "code",
   "execution_count": 107,
   "outputs": [],
   "source": [
    "house = pd.read_csv('AmesHousing.tsv', delimiter='\\t')"
   ],
   "metadata": {
    "collapsed": false,
    "ExecuteTime": {
     "end_time": "2023-11-02T14:03:48.492219Z",
     "start_time": "2023-11-02T14:03:48.452103Z"
    }
   },
   "id": "12478f960a4d4b84"
  },
  {
   "cell_type": "code",
   "execution_count": 50,
   "outputs": [
    {
     "data": {
      "text/plain": "      Order        PID  MS SubClass MS Zoning  Lot Frontage  Lot Area Street   \n0         1  526301100           20        RL         141.0     31770   Pave  \\\n1         2  526350040           20        RH          80.0     11622   Pave   \n2         3  526351010           20        RL          81.0     14267   Pave   \n3         4  526353030           20        RL          93.0     11160   Pave   \n4         5  527105010           60        RL          74.0     13830   Pave   \n...     ...        ...          ...       ...           ...       ...    ...   \n2925   2926  923275080           80        RL          37.0      7937   Pave   \n2926   2927  923276100           20        RL           NaN      8885   Pave   \n2927   2928  923400125           85        RL          62.0     10441   Pave   \n2928   2929  924100070           20        RL          77.0     10010   Pave   \n2929   2930  924151050           60        RL          74.0      9627   Pave   \n\n     Alley Lot Shape Land Contour  ... Pool Area Pool QC  Fence Misc Feature   \n0      NaN       IR1          Lvl  ...         0     NaN    NaN          NaN  \\\n1      NaN       Reg          Lvl  ...         0     NaN  MnPrv          NaN   \n2      NaN       IR1          Lvl  ...         0     NaN    NaN         Gar2   \n3      NaN       Reg          Lvl  ...         0     NaN    NaN          NaN   \n4      NaN       IR1          Lvl  ...         0     NaN  MnPrv          NaN   \n...    ...       ...          ...  ...       ...     ...    ...          ...   \n2925   NaN       IR1          Lvl  ...         0     NaN  GdPrv          NaN   \n2926   NaN       IR1          Low  ...         0     NaN  MnPrv          NaN   \n2927   NaN       Reg          Lvl  ...         0     NaN  MnPrv         Shed   \n2928   NaN       Reg          Lvl  ...         0     NaN    NaN          NaN   \n2929   NaN       Reg          Lvl  ...         0     NaN    NaN          NaN   \n\n     Misc Val Mo Sold Yr Sold Sale Type  Sale Condition  SalePrice  \n0           0       5    2010       WD           Normal     215000  \n1           0       6    2010       WD           Normal     105000  \n2       12500       6    2010       WD           Normal     172000  \n3           0       4    2010       WD           Normal     244000  \n4           0       3    2010       WD           Normal     189900  \n...       ...     ...     ...       ...             ...        ...  \n2925        0       3    2006       WD           Normal     142500  \n2926        0       6    2006       WD           Normal     131000  \n2927      700       7    2006       WD           Normal     132000  \n2928        0       4    2006       WD           Normal     170000  \n2929        0      11    2006       WD           Normal     188000  \n\n[2930 rows x 82 columns]",
      "text/html": "<div>\n<style scoped>\n    .dataframe tbody tr th:only-of-type {\n        vertical-align: middle;\n    }\n\n    .dataframe tbody tr th {\n        vertical-align: top;\n    }\n\n    .dataframe thead th {\n        text-align: right;\n    }\n</style>\n<table border=\"1\" class=\"dataframe\">\n  <thead>\n    <tr style=\"text-align: right;\">\n      <th></th>\n      <th>Order</th>\n      <th>PID</th>\n      <th>MS SubClass</th>\n      <th>MS Zoning</th>\n      <th>Lot Frontage</th>\n      <th>Lot Area</th>\n      <th>Street</th>\n      <th>Alley</th>\n      <th>Lot Shape</th>\n      <th>Land Contour</th>\n      <th>...</th>\n      <th>Pool Area</th>\n      <th>Pool QC</th>\n      <th>Fence</th>\n      <th>Misc Feature</th>\n      <th>Misc Val</th>\n      <th>Mo Sold</th>\n      <th>Yr Sold</th>\n      <th>Sale Type</th>\n      <th>Sale Condition</th>\n      <th>SalePrice</th>\n    </tr>\n  </thead>\n  <tbody>\n    <tr>\n      <th>0</th>\n      <td>1</td>\n      <td>526301100</td>\n      <td>20</td>\n      <td>RL</td>\n      <td>141.0</td>\n      <td>31770</td>\n      <td>Pave</td>\n      <td>NaN</td>\n      <td>IR1</td>\n      <td>Lvl</td>\n      <td>...</td>\n      <td>0</td>\n      <td>NaN</td>\n      <td>NaN</td>\n      <td>NaN</td>\n      <td>0</td>\n      <td>5</td>\n      <td>2010</td>\n      <td>WD</td>\n      <td>Normal</td>\n      <td>215000</td>\n    </tr>\n    <tr>\n      <th>1</th>\n      <td>2</td>\n      <td>526350040</td>\n      <td>20</td>\n      <td>RH</td>\n      <td>80.0</td>\n      <td>11622</td>\n      <td>Pave</td>\n      <td>NaN</td>\n      <td>Reg</td>\n      <td>Lvl</td>\n      <td>...</td>\n      <td>0</td>\n      <td>NaN</td>\n      <td>MnPrv</td>\n      <td>NaN</td>\n      <td>0</td>\n      <td>6</td>\n      <td>2010</td>\n      <td>WD</td>\n      <td>Normal</td>\n      <td>105000</td>\n    </tr>\n    <tr>\n      <th>2</th>\n      <td>3</td>\n      <td>526351010</td>\n      <td>20</td>\n      <td>RL</td>\n      <td>81.0</td>\n      <td>14267</td>\n      <td>Pave</td>\n      <td>NaN</td>\n      <td>IR1</td>\n      <td>Lvl</td>\n      <td>...</td>\n      <td>0</td>\n      <td>NaN</td>\n      <td>NaN</td>\n      <td>Gar2</td>\n      <td>12500</td>\n      <td>6</td>\n      <td>2010</td>\n      <td>WD</td>\n      <td>Normal</td>\n      <td>172000</td>\n    </tr>\n    <tr>\n      <th>3</th>\n      <td>4</td>\n      <td>526353030</td>\n      <td>20</td>\n      <td>RL</td>\n      <td>93.0</td>\n      <td>11160</td>\n      <td>Pave</td>\n      <td>NaN</td>\n      <td>Reg</td>\n      <td>Lvl</td>\n      <td>...</td>\n      <td>0</td>\n      <td>NaN</td>\n      <td>NaN</td>\n      <td>NaN</td>\n      <td>0</td>\n      <td>4</td>\n      <td>2010</td>\n      <td>WD</td>\n      <td>Normal</td>\n      <td>244000</td>\n    </tr>\n    <tr>\n      <th>4</th>\n      <td>5</td>\n      <td>527105010</td>\n      <td>60</td>\n      <td>RL</td>\n      <td>74.0</td>\n      <td>13830</td>\n      <td>Pave</td>\n      <td>NaN</td>\n      <td>IR1</td>\n      <td>Lvl</td>\n      <td>...</td>\n      <td>0</td>\n      <td>NaN</td>\n      <td>MnPrv</td>\n      <td>NaN</td>\n      <td>0</td>\n      <td>3</td>\n      <td>2010</td>\n      <td>WD</td>\n      <td>Normal</td>\n      <td>189900</td>\n    </tr>\n    <tr>\n      <th>...</th>\n      <td>...</td>\n      <td>...</td>\n      <td>...</td>\n      <td>...</td>\n      <td>...</td>\n      <td>...</td>\n      <td>...</td>\n      <td>...</td>\n      <td>...</td>\n      <td>...</td>\n      <td>...</td>\n      <td>...</td>\n      <td>...</td>\n      <td>...</td>\n      <td>...</td>\n      <td>...</td>\n      <td>...</td>\n      <td>...</td>\n      <td>...</td>\n      <td>...</td>\n      <td>...</td>\n    </tr>\n    <tr>\n      <th>2925</th>\n      <td>2926</td>\n      <td>923275080</td>\n      <td>80</td>\n      <td>RL</td>\n      <td>37.0</td>\n      <td>7937</td>\n      <td>Pave</td>\n      <td>NaN</td>\n      <td>IR1</td>\n      <td>Lvl</td>\n      <td>...</td>\n      <td>0</td>\n      <td>NaN</td>\n      <td>GdPrv</td>\n      <td>NaN</td>\n      <td>0</td>\n      <td>3</td>\n      <td>2006</td>\n      <td>WD</td>\n      <td>Normal</td>\n      <td>142500</td>\n    </tr>\n    <tr>\n      <th>2926</th>\n      <td>2927</td>\n      <td>923276100</td>\n      <td>20</td>\n      <td>RL</td>\n      <td>NaN</td>\n      <td>8885</td>\n      <td>Pave</td>\n      <td>NaN</td>\n      <td>IR1</td>\n      <td>Low</td>\n      <td>...</td>\n      <td>0</td>\n      <td>NaN</td>\n      <td>MnPrv</td>\n      <td>NaN</td>\n      <td>0</td>\n      <td>6</td>\n      <td>2006</td>\n      <td>WD</td>\n      <td>Normal</td>\n      <td>131000</td>\n    </tr>\n    <tr>\n      <th>2927</th>\n      <td>2928</td>\n      <td>923400125</td>\n      <td>85</td>\n      <td>RL</td>\n      <td>62.0</td>\n      <td>10441</td>\n      <td>Pave</td>\n      <td>NaN</td>\n      <td>Reg</td>\n      <td>Lvl</td>\n      <td>...</td>\n      <td>0</td>\n      <td>NaN</td>\n      <td>MnPrv</td>\n      <td>Shed</td>\n      <td>700</td>\n      <td>7</td>\n      <td>2006</td>\n      <td>WD</td>\n      <td>Normal</td>\n      <td>132000</td>\n    </tr>\n    <tr>\n      <th>2928</th>\n      <td>2929</td>\n      <td>924100070</td>\n      <td>20</td>\n      <td>RL</td>\n      <td>77.0</td>\n      <td>10010</td>\n      <td>Pave</td>\n      <td>NaN</td>\n      <td>Reg</td>\n      <td>Lvl</td>\n      <td>...</td>\n      <td>0</td>\n      <td>NaN</td>\n      <td>NaN</td>\n      <td>NaN</td>\n      <td>0</td>\n      <td>4</td>\n      <td>2006</td>\n      <td>WD</td>\n      <td>Normal</td>\n      <td>170000</td>\n    </tr>\n    <tr>\n      <th>2929</th>\n      <td>2930</td>\n      <td>924151050</td>\n      <td>60</td>\n      <td>RL</td>\n      <td>74.0</td>\n      <td>9627</td>\n      <td>Pave</td>\n      <td>NaN</td>\n      <td>Reg</td>\n      <td>Lvl</td>\n      <td>...</td>\n      <td>0</td>\n      <td>NaN</td>\n      <td>NaN</td>\n      <td>NaN</td>\n      <td>0</td>\n      <td>11</td>\n      <td>2006</td>\n      <td>WD</td>\n      <td>Normal</td>\n      <td>188000</td>\n    </tr>\n  </tbody>\n</table>\n<p>2930 rows × 82 columns</p>\n</div>"
     },
     "execution_count": 50,
     "metadata": {},
     "output_type": "execute_result"
    }
   ],
   "source": [
    "house"
   ],
   "metadata": {
    "collapsed": false,
    "ExecuteTime": {
     "end_time": "2023-11-02T13:16:02.049750Z",
     "start_time": "2023-11-02T13:16:01.754826Z"
    }
   },
   "id": "50dd00e5a7575c7"
  },
  {
   "cell_type": "code",
   "execution_count": 51,
   "outputs": [],
   "source": [
    "def transform_features(df):\n",
    "    return df\n",
    "\n",
    "def select_features(df):\n",
    "    return df[['Gr Liv Area','SalePrice']]\n",
    "\n",
    "def train_and_test(df):\n",
    "    train = df[:1460]\n",
    "    test = df[1460:]\n",
    "\n",
    "    numeric_train = train.select_dtypes(include=['integer', 'float'])\n",
    "    numeric_test = test.select_dtypes(include=['integer', 'float'])\n",
    "\n",
    "    \n",
    "    numeric_features = numeric_train.columns.drop(['SalePrice'])\n",
    "\n",
    "    lr = LinearRegression()\n",
    "    lr.fit(train[numeric_features], train['SalePrice'])\n",
    "\n",
    "    # train_predictions = lr.predict(train[numeric_features])\n",
    "    test_predictions = lr.predict(test[numeric_features])\n",
    "\n",
    "\n",
    "    # train_mse = mean_squared_error(train_predictions, train['SalePrice'])\n",
    "    test_mse = mean_squared_error(test_predictions,test['SalePrice'])\n",
    "\n",
    "    # train_rmse = np.sqrt(train_mse)\n",
    "    test_rmse = np.sqrt(test_mse)\n",
    "\n",
    "    return (test_mse, test_rmse)\n",
    "    "
   ],
   "metadata": {
    "collapsed": false,
    "ExecuteTime": {
     "end_time": "2023-11-02T13:16:02.049856Z",
     "start_time": "2023-11-02T13:16:01.760732Z"
    }
   },
   "id": "9bb172bdbc522874"
  },
  {
   "cell_type": "code",
   "execution_count": 52,
   "outputs": [
    {
     "data": {
      "text/plain": "(3259068472.1879897, 57088.25161263909)"
     },
     "execution_count": 52,
     "metadata": {},
     "output_type": "execute_result"
    }
   ],
   "source": [
    "transform_df = transform_features(house)\n",
    "filtered_df = select_features(transform_df)\n",
    "\n",
    "train_and_test(filtered_df)\n",
    "# rmse = train_and_test(filtered_df)\n",
    "# # \n",
    "# rmse"
   ],
   "metadata": {
    "collapsed": false,
    "ExecuteTime": {
     "end_time": "2023-11-02T13:16:02.050057Z",
     "start_time": "2023-11-02T13:16:01.764964Z"
    }
   },
   "id": "bd2e1b1548330b08"
  },
  {
   "cell_type": "markdown",
   "source": [
    "# Feature Engineering"
   ],
   "metadata": {
    "collapsed": false
   },
   "id": "989dfe83a76c16bd"
  },
  {
   "cell_type": "code",
   "execution_count": 53,
   "outputs": [],
   "source": [
    "# All columns \n",
    "# 1. Drop any columns with more than 5% missing data (more_5pc_column)\n",
    "\n",
    "# 2. Sort out all numerical columns \n",
    "\n",
    "# 3. Fill the missing value column with the most frequent value in that column"
   ],
   "metadata": {
    "collapsed": false,
    "ExecuteTime": {
     "end_time": "2023-11-02T13:16:02.050133Z",
     "start_time": "2023-11-02T13:16:01.774803Z"
    }
   },
   "id": "cc8ad1938cece11a"
  },
  {
   "cell_type": "code",
   "execution_count": 54,
   "outputs": [],
   "source": [
    "#1. "
   ],
   "metadata": {
    "collapsed": false,
    "ExecuteTime": {
     "end_time": "2023-11-02T13:16:02.050210Z",
     "start_time": "2023-11-02T13:16:01.778223Z"
    }
   },
   "id": "c1116cc868d225ff"
  },
  {
   "cell_type": "code",
   "execution_count": 55,
   "outputs": [],
   "source": [
    "temp = ((house.isnull().sum() / house.shape[1])> 0.05) \n",
    "more_5pc_column = ([index for index, value in temp.items() if value == False]) "
   ],
   "metadata": {
    "collapsed": false,
    "ExecuteTime": {
     "end_time": "2023-11-02T13:16:02.050289Z",
     "start_time": "2023-11-02T13:16:01.786591Z"
    }
   },
   "id": "a320c2c207e32956"
  },
  {
   "cell_type": "code",
   "execution_count": 56,
   "outputs": [
    {
     "data": {
      "text/plain": "Bsmt Full Bath    2\nBsmt Half Bath    2\nBsmtFin SF 2      1\nGarage Cars       1\nGarage Area       1\n                 ..\nExter Qual        0\nExter Cond        0\nFoundation        0\nHeating           0\nSalePrice         0\nLength: 64, dtype: int64"
     },
     "execution_count": 56,
     "metadata": {},
     "output_type": "execute_result"
    }
   ],
   "source": [
    "house[more_5pc_column].isnull().sum().sort_values(ascending=False)"
   ],
   "metadata": {
    "collapsed": false,
    "ExecuteTime": {
     "end_time": "2023-11-02T13:16:02.050626Z",
     "start_time": "2023-11-02T13:16:01.794090Z"
    }
   },
   "id": "9da3464467ff8e95"
  },
  {
   "cell_type": "code",
   "execution_count": 57,
   "outputs": [],
   "source": [
    "# 2. Sort out all numerical columns "
   ],
   "metadata": {
    "collapsed": false,
    "ExecuteTime": {
     "end_time": "2023-11-02T13:16:02.050738Z",
     "start_time": "2023-11-02T13:16:01.803081Z"
    }
   },
   "id": "a2013102d89ece1b"
  },
  {
   "cell_type": "code",
   "execution_count": 58,
   "outputs": [
    {
     "data": {
      "text/plain": "(2930, 36)"
     },
     "execution_count": 58,
     "metadata": {},
     "output_type": "execute_result"
    }
   ],
   "source": [
    "house[more_5pc_column].select_dtypes(['int','float']).shape"
   ],
   "metadata": {
    "collapsed": false,
    "ExecuteTime": {
     "end_time": "2023-11-02T13:16:02.050893Z",
     "start_time": "2023-11-02T13:16:01.805343Z"
    }
   },
   "id": "cef09135332e7358"
  },
  {
   "cell_type": "code",
   "execution_count": 59,
   "outputs": [],
   "source": [
    "numerical_feature = house[more_5pc_column].select_dtypes(['int','float']).columns"
   ],
   "metadata": {
    "collapsed": false,
    "ExecuteTime": {
     "end_time": "2023-11-02T13:16:02.051031Z",
     "start_time": "2023-11-02T13:16:01.812725Z"
    }
   },
   "id": "4efd01fd2b30f556"
  },
  {
   "cell_type": "code",
   "execution_count": 60,
   "outputs": [
    {
     "data": {
      "text/plain": "Index(['Order', 'PID', 'MS SubClass', 'Lot Area', 'Overall Qual',\n       'Overall Cond', 'Year Built', 'Year Remod/Add', 'BsmtFin SF 1',\n       'BsmtFin SF 2', 'Bsmt Unf SF', 'Total Bsmt SF', '1st Flr SF',\n       '2nd Flr SF', 'Low Qual Fin SF', 'Gr Liv Area', 'Bsmt Full Bath',\n       'Bsmt Half Bath', 'Full Bath', 'Half Bath', 'Bedroom AbvGr',\n       'Kitchen AbvGr', 'TotRms AbvGrd', 'Fireplaces', 'Garage Cars',\n       'Garage Area', 'Wood Deck SF', 'Open Porch SF', 'Enclosed Porch',\n       '3Ssn Porch', 'Screen Porch', 'Pool Area', 'Misc Val', 'Mo Sold',\n       'Yr Sold', 'SalePrice'],\n      dtype='object')"
     },
     "execution_count": 60,
     "metadata": {},
     "output_type": "execute_result"
    }
   ],
   "source": [
    "numerical_feature"
   ],
   "metadata": {
    "collapsed": false,
    "ExecuteTime": {
     "end_time": "2023-11-02T13:16:02.051190Z",
     "start_time": "2023-11-02T13:16:01.816989Z"
    }
   },
   "id": "f75515c59cff2a62"
  },
  {
   "cell_type": "code",
   "execution_count": 61,
   "outputs": [],
   "source": [
    "# remove the SalePrice column\n",
    "# numerical_feature=numerical_feature.drop('SalePrice')"
   ],
   "metadata": {
    "collapsed": false,
    "ExecuteTime": {
     "end_time": "2023-11-02T13:16:02.051317Z",
     "start_time": "2023-11-02T13:16:01.820215Z"
    }
   },
   "id": "80da42e629c83ce5"
  },
  {
   "cell_type": "code",
   "execution_count": 62,
   "outputs": [
    {
     "data": {
      "text/plain": "36"
     },
     "execution_count": 62,
     "metadata": {},
     "output_type": "execute_result"
    }
   ],
   "source": [
    "len(numerical_feature)"
   ],
   "metadata": {
    "collapsed": false,
    "ExecuteTime": {
     "end_time": "2023-11-02T13:16:02.051462Z",
     "start_time": "2023-11-02T13:16:01.823731Z"
    }
   },
   "id": "3c6c375fd83b96ac"
  },
  {
   "cell_type": "code",
   "execution_count": 63,
   "outputs": [],
   "source": [
    "# 3. Fill the missing value with the most frequent value in that column"
   ],
   "metadata": {
    "collapsed": false,
    "ExecuteTime": {
     "end_time": "2023-11-02T13:16:02.051552Z",
     "start_time": "2023-11-02T13:16:01.826823Z"
    }
   },
   "id": "1062e3ebe6f49a20"
  },
  {
   "cell_type": "code",
   "execution_count": 64,
   "outputs": [
    {
     "data": {
      "text/plain": "      Order        PID  MS SubClass  Lot Area  Overall Qual  Overall Cond   \n0         1  526301100           20     31770             6             5  \\\n1         2  526350040           20     11622             5             6   \n2         3  526351010           20     14267             6             6   \n3         4  526353030           20     11160             7             5   \n4         5  527105010           60     13830             5             5   \n...     ...        ...          ...       ...           ...           ...   \n2925   2926  923275080           80      7937             6             6   \n2926   2927  923276100           20      8885             5             5   \n2927   2928  923400125           85     10441             5             5   \n2928   2929  924100070           20     10010             5             5   \n2929   2930  924151050           60      9627             7             5   \n\n      Year Built  Year Remod/Add  BsmtFin SF 1  BsmtFin SF 2  ...   \n0           1960            1960         639.0           0.0  ...  \\\n1           1961            1961         468.0         144.0  ...   \n2           1958            1958         923.0           0.0  ...   \n3           1968            1968        1065.0           0.0  ...   \n4           1997            1998         791.0           0.0  ...   \n...          ...             ...           ...           ...  ...   \n2925        1984            1984         819.0           0.0  ...   \n2926        1983            1983         301.0         324.0  ...   \n2927        1992            1992         337.0           0.0  ...   \n2928        1974            1975        1071.0         123.0  ...   \n2929        1993            1994         758.0           0.0  ...   \n\n      Wood Deck SF  Open Porch SF  Enclosed Porch  3Ssn Porch  Screen Porch   \n0              210             62               0           0             0  \\\n1              140              0               0           0           120   \n2              393             36               0           0             0   \n3                0              0               0           0             0   \n4              212             34               0           0             0   \n...            ...            ...             ...         ...           ...   \n2925           120              0               0           0             0   \n2926           164              0               0           0             0   \n2927            80             32               0           0             0   \n2928           240             38               0           0             0   \n2929           190             48               0           0             0   \n\n      Pool Area  Misc Val  Mo Sold  Yr Sold  SalePrice  \n0             0         0        5     2010     215000  \n1             0         0        6     2010     105000  \n2             0     12500        6     2010     172000  \n3             0         0        4     2010     244000  \n4             0         0        3     2010     189900  \n...         ...       ...      ...      ...        ...  \n2925          0         0        3     2006     142500  \n2926          0         0        6     2006     131000  \n2927          0       700        7     2006     132000  \n2928          0         0        4     2006     170000  \n2929          0         0       11     2006     188000  \n\n[2930 rows x 36 columns]",
      "text/html": "<div>\n<style scoped>\n    .dataframe tbody tr th:only-of-type {\n        vertical-align: middle;\n    }\n\n    .dataframe tbody tr th {\n        vertical-align: top;\n    }\n\n    .dataframe thead th {\n        text-align: right;\n    }\n</style>\n<table border=\"1\" class=\"dataframe\">\n  <thead>\n    <tr style=\"text-align: right;\">\n      <th></th>\n      <th>Order</th>\n      <th>PID</th>\n      <th>MS SubClass</th>\n      <th>Lot Area</th>\n      <th>Overall Qual</th>\n      <th>Overall Cond</th>\n      <th>Year Built</th>\n      <th>Year Remod/Add</th>\n      <th>BsmtFin SF 1</th>\n      <th>BsmtFin SF 2</th>\n      <th>...</th>\n      <th>Wood Deck SF</th>\n      <th>Open Porch SF</th>\n      <th>Enclosed Porch</th>\n      <th>3Ssn Porch</th>\n      <th>Screen Porch</th>\n      <th>Pool Area</th>\n      <th>Misc Val</th>\n      <th>Mo Sold</th>\n      <th>Yr Sold</th>\n      <th>SalePrice</th>\n    </tr>\n  </thead>\n  <tbody>\n    <tr>\n      <th>0</th>\n      <td>1</td>\n      <td>526301100</td>\n      <td>20</td>\n      <td>31770</td>\n      <td>6</td>\n      <td>5</td>\n      <td>1960</td>\n      <td>1960</td>\n      <td>639.0</td>\n      <td>0.0</td>\n      <td>...</td>\n      <td>210</td>\n      <td>62</td>\n      <td>0</td>\n      <td>0</td>\n      <td>0</td>\n      <td>0</td>\n      <td>0</td>\n      <td>5</td>\n      <td>2010</td>\n      <td>215000</td>\n    </tr>\n    <tr>\n      <th>1</th>\n      <td>2</td>\n      <td>526350040</td>\n      <td>20</td>\n      <td>11622</td>\n      <td>5</td>\n      <td>6</td>\n      <td>1961</td>\n      <td>1961</td>\n      <td>468.0</td>\n      <td>144.0</td>\n      <td>...</td>\n      <td>140</td>\n      <td>0</td>\n      <td>0</td>\n      <td>0</td>\n      <td>120</td>\n      <td>0</td>\n      <td>0</td>\n      <td>6</td>\n      <td>2010</td>\n      <td>105000</td>\n    </tr>\n    <tr>\n      <th>2</th>\n      <td>3</td>\n      <td>526351010</td>\n      <td>20</td>\n      <td>14267</td>\n      <td>6</td>\n      <td>6</td>\n      <td>1958</td>\n      <td>1958</td>\n      <td>923.0</td>\n      <td>0.0</td>\n      <td>...</td>\n      <td>393</td>\n      <td>36</td>\n      <td>0</td>\n      <td>0</td>\n      <td>0</td>\n      <td>0</td>\n      <td>12500</td>\n      <td>6</td>\n      <td>2010</td>\n      <td>172000</td>\n    </tr>\n    <tr>\n      <th>3</th>\n      <td>4</td>\n      <td>526353030</td>\n      <td>20</td>\n      <td>11160</td>\n      <td>7</td>\n      <td>5</td>\n      <td>1968</td>\n      <td>1968</td>\n      <td>1065.0</td>\n      <td>0.0</td>\n      <td>...</td>\n      <td>0</td>\n      <td>0</td>\n      <td>0</td>\n      <td>0</td>\n      <td>0</td>\n      <td>0</td>\n      <td>0</td>\n      <td>4</td>\n      <td>2010</td>\n      <td>244000</td>\n    </tr>\n    <tr>\n      <th>4</th>\n      <td>5</td>\n      <td>527105010</td>\n      <td>60</td>\n      <td>13830</td>\n      <td>5</td>\n      <td>5</td>\n      <td>1997</td>\n      <td>1998</td>\n      <td>791.0</td>\n      <td>0.0</td>\n      <td>...</td>\n      <td>212</td>\n      <td>34</td>\n      <td>0</td>\n      <td>0</td>\n      <td>0</td>\n      <td>0</td>\n      <td>0</td>\n      <td>3</td>\n      <td>2010</td>\n      <td>189900</td>\n    </tr>\n    <tr>\n      <th>...</th>\n      <td>...</td>\n      <td>...</td>\n      <td>...</td>\n      <td>...</td>\n      <td>...</td>\n      <td>...</td>\n      <td>...</td>\n      <td>...</td>\n      <td>...</td>\n      <td>...</td>\n      <td>...</td>\n      <td>...</td>\n      <td>...</td>\n      <td>...</td>\n      <td>...</td>\n      <td>...</td>\n      <td>...</td>\n      <td>...</td>\n      <td>...</td>\n      <td>...</td>\n      <td>...</td>\n    </tr>\n    <tr>\n      <th>2925</th>\n      <td>2926</td>\n      <td>923275080</td>\n      <td>80</td>\n      <td>7937</td>\n      <td>6</td>\n      <td>6</td>\n      <td>1984</td>\n      <td>1984</td>\n      <td>819.0</td>\n      <td>0.0</td>\n      <td>...</td>\n      <td>120</td>\n      <td>0</td>\n      <td>0</td>\n      <td>0</td>\n      <td>0</td>\n      <td>0</td>\n      <td>0</td>\n      <td>3</td>\n      <td>2006</td>\n      <td>142500</td>\n    </tr>\n    <tr>\n      <th>2926</th>\n      <td>2927</td>\n      <td>923276100</td>\n      <td>20</td>\n      <td>8885</td>\n      <td>5</td>\n      <td>5</td>\n      <td>1983</td>\n      <td>1983</td>\n      <td>301.0</td>\n      <td>324.0</td>\n      <td>...</td>\n      <td>164</td>\n      <td>0</td>\n      <td>0</td>\n      <td>0</td>\n      <td>0</td>\n      <td>0</td>\n      <td>0</td>\n      <td>6</td>\n      <td>2006</td>\n      <td>131000</td>\n    </tr>\n    <tr>\n      <th>2927</th>\n      <td>2928</td>\n      <td>923400125</td>\n      <td>85</td>\n      <td>10441</td>\n      <td>5</td>\n      <td>5</td>\n      <td>1992</td>\n      <td>1992</td>\n      <td>337.0</td>\n      <td>0.0</td>\n      <td>...</td>\n      <td>80</td>\n      <td>32</td>\n      <td>0</td>\n      <td>0</td>\n      <td>0</td>\n      <td>0</td>\n      <td>700</td>\n      <td>7</td>\n      <td>2006</td>\n      <td>132000</td>\n    </tr>\n    <tr>\n      <th>2928</th>\n      <td>2929</td>\n      <td>924100070</td>\n      <td>20</td>\n      <td>10010</td>\n      <td>5</td>\n      <td>5</td>\n      <td>1974</td>\n      <td>1975</td>\n      <td>1071.0</td>\n      <td>123.0</td>\n      <td>...</td>\n      <td>240</td>\n      <td>38</td>\n      <td>0</td>\n      <td>0</td>\n      <td>0</td>\n      <td>0</td>\n      <td>0</td>\n      <td>4</td>\n      <td>2006</td>\n      <td>170000</td>\n    </tr>\n    <tr>\n      <th>2929</th>\n      <td>2930</td>\n      <td>924151050</td>\n      <td>60</td>\n      <td>9627</td>\n      <td>7</td>\n      <td>5</td>\n      <td>1993</td>\n      <td>1994</td>\n      <td>758.0</td>\n      <td>0.0</td>\n      <td>...</td>\n      <td>190</td>\n      <td>48</td>\n      <td>0</td>\n      <td>0</td>\n      <td>0</td>\n      <td>0</td>\n      <td>0</td>\n      <td>11</td>\n      <td>2006</td>\n      <td>188000</td>\n    </tr>\n  </tbody>\n</table>\n<p>2930 rows × 36 columns</p>\n</div>"
     },
     "execution_count": 64,
     "metadata": {},
     "output_type": "execute_result"
    }
   ],
   "source": [
    "house[numerical_feature]"
   ],
   "metadata": {
    "collapsed": false,
    "ExecuteTime": {
     "end_time": "2023-11-02T13:16:02.052209Z",
     "start_time": "2023-11-02T13:16:01.831282Z"
    }
   },
   "id": "b5d1b4b89ca73cb4"
  },
  {
   "cell_type": "code",
   "execution_count": 65,
   "outputs": [],
   "source": [
    "def replace_missing_values(df):\n",
    "    df_new= df.copy()\n",
    "    num_changes = 0\n",
    "    for col in df_new.columns:\n",
    "        if df[col].isnull().sum() > 0:\n",
    "            most_frequent_value = df[col].mode()[0]\n",
    "            df_new[col].fillna(most_frequent_value, inplace=True)\n",
    "            print(f\"Column Name: {col} ||Missing value: {df[col].isnull().sum()} || Value Replaced: {most_frequent_value}\")\n",
    "            num_changes += 1\n",
    "    print(f\"===========\\nTotal Number of Changes Made: {num_changes} out of {df.shape[1]}.\")\n",
    "    \n",
    "    return df_new"
   ],
   "metadata": {
    "collapsed": false,
    "ExecuteTime": {
     "end_time": "2023-11-02T13:16:02.052316Z",
     "start_time": "2023-11-02T13:16:01.842930Z"
    }
   },
   "id": "6544ffcaa8a64a30"
  },
  {
   "cell_type": "code",
   "execution_count": 66,
   "outputs": [
    {
     "name": "stdout",
     "output_type": "stream",
     "text": [
      "Column Name: BsmtFin SF 1 ||Missing value: 1 || Value Replaced: 0.0\n",
      "Column Name: BsmtFin SF 2 ||Missing value: 1 || Value Replaced: 0.0\n",
      "Column Name: Bsmt Unf SF ||Missing value: 1 || Value Replaced: 0.0\n",
      "Column Name: Total Bsmt SF ||Missing value: 1 || Value Replaced: 0.0\n",
      "Column Name: Bsmt Full Bath ||Missing value: 2 || Value Replaced: 0.0\n",
      "Column Name: Bsmt Half Bath ||Missing value: 2 || Value Replaced: 0.0\n",
      "Column Name: Garage Cars ||Missing value: 1 || Value Replaced: 2.0\n",
      "Column Name: Garage Area ||Missing value: 1 || Value Replaced: 0.0\n",
      "===========\n",
      "Total Number of Changes Made: 8 out of 36.\n"
     ]
    }
   ],
   "source": [
    "imputed_df = replace_missing_values(house[numerical_feature])"
   ],
   "metadata": {
    "collapsed": false,
    "ExecuteTime": {
     "end_time": "2023-11-02T13:16:02.052550Z",
     "start_time": "2023-11-02T13:16:01.846437Z"
    }
   },
   "id": "9e1714688b211f73"
  },
  {
   "cell_type": "code",
   "execution_count": 67,
   "outputs": [
    {
     "data": {
      "text/plain": "Order              0\nPID                0\nBedroom AbvGr      0\nKitchen AbvGr      0\nTotRms AbvGrd      0\nFireplaces         0\nGarage Cars        0\nGarage Area        0\nWood Deck SF       0\nOpen Porch SF      0\nEnclosed Porch     0\n3Ssn Porch         0\nScreen Porch       0\nPool Area          0\nMisc Val           0\nMo Sold            0\nYr Sold            0\nHalf Bath          0\nFull Bath          0\nBsmt Half Bath     0\nBsmtFin SF 1       0\nMS SubClass        0\nLot Area           0\nOverall Qual       0\nOverall Cond       0\nYear Built         0\nYear Remod/Add     0\nBsmtFin SF 2       0\nBsmt Full Bath     0\nBsmt Unf SF        0\nTotal Bsmt SF      0\n1st Flr SF         0\n2nd Flr SF         0\nLow Qual Fin SF    0\nGr Liv Area        0\nSalePrice          0\ndtype: int64"
     },
     "execution_count": 67,
     "metadata": {},
     "output_type": "execute_result"
    }
   ],
   "source": [
    "imputed_df.isnull().sum().sort_values(ascending=False)"
   ],
   "metadata": {
    "collapsed": false,
    "ExecuteTime": {
     "end_time": "2023-11-02T13:16:02.052793Z",
     "start_time": "2023-11-02T13:16:01.858131Z"
    }
   },
   "id": "3eb2b684644733a"
  },
  {
   "cell_type": "code",
   "execution_count": 96,
   "outputs": [
    {
     "data": {
      "text/plain": "['Order',\n 'PID',\n 'MS SubClass',\n 'MS Zoning',\n 'Lot Frontage',\n 'Lot Area',\n 'Street',\n 'Alley',\n 'Lot Shape',\n 'Land Contour',\n 'Utilities',\n 'Lot Config',\n 'Land Slope',\n 'Neighborhood',\n 'Condition 1',\n 'Condition 2',\n 'Bldg Type',\n 'House Style',\n 'Overall Qual',\n 'Overall Cond',\n 'Year Built',\n 'Year Remod/Add',\n 'Roof Style',\n 'Roof Matl',\n 'Exterior 1st',\n 'Exterior 2nd',\n 'Mas Vnr Type',\n 'Mas Vnr Area',\n 'Exter Qual',\n 'Exter Cond',\n 'Foundation',\n 'Bsmt Qual',\n 'Bsmt Cond',\n 'Bsmt Exposure',\n 'BsmtFin Type 1',\n 'BsmtFin SF 1',\n 'BsmtFin Type 2',\n 'BsmtFin SF 2',\n 'Bsmt Unf SF',\n 'Total Bsmt SF',\n 'Heating',\n 'Heating QC',\n 'Central Air',\n 'Electrical',\n '1st Flr SF',\n '2nd Flr SF',\n 'Low Qual Fin SF',\n 'Gr Liv Area',\n 'Bsmt Full Bath',\n 'Bsmt Half Bath',\n 'Full Bath',\n 'Half Bath',\n 'Bedroom AbvGr',\n 'Kitchen AbvGr',\n 'Kitchen Qual',\n 'TotRms AbvGrd',\n 'Functional',\n 'Fireplaces',\n 'Fireplace Qu',\n 'Garage Type',\n 'Garage Yr Blt',\n 'Garage Finish',\n 'Garage Cars',\n 'Garage Area',\n 'Garage Qual',\n 'Garage Cond',\n 'Paved Drive',\n 'Wood Deck SF',\n 'Open Porch SF',\n 'Enclosed Porch',\n '3Ssn Porch',\n 'Screen Porch',\n 'Pool Area',\n 'Pool QC',\n 'Fence',\n 'Misc Feature',\n 'Misc Val',\n 'Mo Sold',\n 'Yr Sold',\n 'Sale Type',\n 'Sale Condition',\n 'SalePrice']"
     },
     "execution_count": 96,
     "metadata": {},
     "output_type": "execute_result"
    }
   ],
   "source": [
    "house.columns.tolist()"
   ],
   "metadata": {
    "collapsed": false,
    "ExecuteTime": {
     "end_time": "2023-11-02T13:58:06.648484Z",
     "start_time": "2023-11-02T13:58:06.622680Z"
    }
   },
   "id": "9ba5ee4de73261cc"
  },
  {
   "cell_type": "code",
   "execution_count": 69,
   "outputs": [
    {
     "data": {
      "text/plain": "0       0\n1948    0\n1949    0\n1950    0\n1951    0\n       ..\n979     0\n980     0\n981     0\n983     0\n2929    0\nName: Yr Sold, Length: 2930, dtype: int64"
     },
     "execution_count": 69,
     "metadata": {},
     "output_type": "execute_result"
    }
   ],
   "source": [
    "(imputed_df['Yr Sold']-imputed_df['Yr Sold']).sort_values()"
   ],
   "metadata": {
    "collapsed": false,
    "ExecuteTime": {
     "end_time": "2023-11-02T13:16:02.053184Z",
     "start_time": "2023-11-02T13:16:01.868182Z"
    }
   },
   "id": "52f7f109540c2282"
  },
  {
   "cell_type": "code",
   "execution_count": 70,
   "outputs": [],
   "source": [
    "# Newly create 2 columns\n",
    "imputed_df['Years Before Sale'] = (imputed_df['Yr Sold']-imputed_df['Yr Sold'])\n",
    "imputed_df['Years Since Remod'] = imputed_df['Yr Sold']-imputed_df['Year Remod/Add']"
   ],
   "metadata": {
    "collapsed": false,
    "ExecuteTime": {
     "end_time": "2023-11-02T13:17:51.013031Z",
     "start_time": "2023-11-02T13:17:50.987421Z"
    }
   },
   "id": "515054c8c00e0f15"
  },
  {
   "cell_type": "code",
   "execution_count": 72,
   "outputs": [],
   "source": [
    "imputed_df=imputed_df.drop([2180,2181,1702],axis=0)"
   ],
   "metadata": {
    "collapsed": false,
    "ExecuteTime": {
     "end_time": "2023-11-02T13:18:02.639486Z",
     "start_time": "2023-11-02T13:18:02.614060Z"
    }
   },
   "id": "8fde45dca0dfb494"
  },
  {
   "cell_type": "code",
   "execution_count": 79,
   "outputs": [
    {
     "ename": "KeyError",
     "evalue": "\"['PID', 'Order'] not found in axis\"",
     "output_type": "error",
     "traceback": [
      "\u001B[0;31m---------------------------------------------------------------------------\u001B[0m",
      "\u001B[0;31mKeyError\u001B[0m                                  Traceback (most recent call last)",
      "\u001B[0;32m<ipython-input-79-b369f96b636d>\u001B[0m in \u001B[0;36m<module>\u001B[0;34m\u001B[0m\n\u001B[1;32m      1\u001B[0m \u001B[0;31m# drop colums that aren't useful for ML\u001B[0m\u001B[0;34m\u001B[0m\u001B[0;34m\u001B[0m\u001B[0;34m\u001B[0m\u001B[0m\n\u001B[1;32m      2\u001B[0m \u001B[0;34m\u001B[0m\u001B[0m\n\u001B[0;32m----> 3\u001B[0;31m \u001B[0mimputed_df\u001B[0m \u001B[0;34m=\u001B[0m \u001B[0mimputed_df\u001B[0m\u001B[0;34m.\u001B[0m\u001B[0mdrop\u001B[0m\u001B[0;34m(\u001B[0m\u001B[0;34m[\u001B[0m\u001B[0;34m'PID'\u001B[0m\u001B[0;34m,\u001B[0m\u001B[0;34m'Order'\u001B[0m\u001B[0;34m]\u001B[0m\u001B[0;34m,\u001B[0m \u001B[0maxis\u001B[0m \u001B[0;34m=\u001B[0m \u001B[0;36m1\u001B[0m\u001B[0;34m)\u001B[0m\u001B[0;34m\u001B[0m\u001B[0;34m\u001B[0m\u001B[0m\n\u001B[0m\u001B[1;32m      4\u001B[0m \u001B[0;34m\u001B[0m\u001B[0m\n\u001B[1;32m      5\u001B[0m \u001B[0;31m# Drop clumns that leak info about the final sale:\u001B[0m\u001B[0;34m\u001B[0m\u001B[0;34m\u001B[0m\u001B[0;34m\u001B[0m\u001B[0m\n",
      "\u001B[0;32m~/opt/anaconda3/envs/transformers_env/lib/python3.8/site-packages/pandas/core/frame.py\u001B[0m in \u001B[0;36mdrop\u001B[0;34m(self, labels, axis, index, columns, level, inplace, errors)\u001B[0m\n\u001B[1;32m   5266\u001B[0m                 \u001B[0mweight\u001B[0m  \u001B[0;36m1.0\u001B[0m     \u001B[0;36m0.8\u001B[0m\u001B[0;34m\u001B[0m\u001B[0;34m\u001B[0m\u001B[0m\n\u001B[1;32m   5267\u001B[0m         \"\"\"\n\u001B[0;32m-> 5268\u001B[0;31m         return super().drop(\n\u001B[0m\u001B[1;32m   5269\u001B[0m             \u001B[0mlabels\u001B[0m\u001B[0;34m=\u001B[0m\u001B[0mlabels\u001B[0m\u001B[0;34m,\u001B[0m\u001B[0;34m\u001B[0m\u001B[0;34m\u001B[0m\u001B[0m\n\u001B[1;32m   5270\u001B[0m             \u001B[0maxis\u001B[0m\u001B[0;34m=\u001B[0m\u001B[0maxis\u001B[0m\u001B[0;34m,\u001B[0m\u001B[0;34m\u001B[0m\u001B[0;34m\u001B[0m\u001B[0m\n",
      "\u001B[0;32m~/opt/anaconda3/envs/transformers_env/lib/python3.8/site-packages/pandas/core/generic.py\u001B[0m in \u001B[0;36mdrop\u001B[0;34m(self, labels, axis, index, columns, level, inplace, errors)\u001B[0m\n\u001B[1;32m   4547\u001B[0m         \u001B[0;32mfor\u001B[0m \u001B[0maxis\u001B[0m\u001B[0;34m,\u001B[0m \u001B[0mlabels\u001B[0m \u001B[0;32min\u001B[0m \u001B[0maxes\u001B[0m\u001B[0;34m.\u001B[0m\u001B[0mitems\u001B[0m\u001B[0;34m(\u001B[0m\u001B[0;34m)\u001B[0m\u001B[0;34m:\u001B[0m\u001B[0;34m\u001B[0m\u001B[0;34m\u001B[0m\u001B[0m\n\u001B[1;32m   4548\u001B[0m             \u001B[0;32mif\u001B[0m \u001B[0mlabels\u001B[0m \u001B[0;32mis\u001B[0m \u001B[0;32mnot\u001B[0m \u001B[0;32mNone\u001B[0m\u001B[0;34m:\u001B[0m\u001B[0;34m\u001B[0m\u001B[0;34m\u001B[0m\u001B[0m\n\u001B[0;32m-> 4549\u001B[0;31m                 \u001B[0mobj\u001B[0m \u001B[0;34m=\u001B[0m \u001B[0mobj\u001B[0m\u001B[0;34m.\u001B[0m\u001B[0m_drop_axis\u001B[0m\u001B[0;34m(\u001B[0m\u001B[0mlabels\u001B[0m\u001B[0;34m,\u001B[0m \u001B[0maxis\u001B[0m\u001B[0;34m,\u001B[0m \u001B[0mlevel\u001B[0m\u001B[0;34m=\u001B[0m\u001B[0mlevel\u001B[0m\u001B[0;34m,\u001B[0m \u001B[0merrors\u001B[0m\u001B[0;34m=\u001B[0m\u001B[0merrors\u001B[0m\u001B[0;34m)\u001B[0m\u001B[0;34m\u001B[0m\u001B[0;34m\u001B[0m\u001B[0m\n\u001B[0m\u001B[1;32m   4550\u001B[0m \u001B[0;34m\u001B[0m\u001B[0m\n\u001B[1;32m   4551\u001B[0m         \u001B[0;32mif\u001B[0m \u001B[0minplace\u001B[0m\u001B[0;34m:\u001B[0m\u001B[0;34m\u001B[0m\u001B[0;34m\u001B[0m\u001B[0m\n",
      "\u001B[0;32m~/opt/anaconda3/envs/transformers_env/lib/python3.8/site-packages/pandas/core/generic.py\u001B[0m in \u001B[0;36m_drop_axis\u001B[0;34m(self, labels, axis, level, errors, only_slice)\u001B[0m\n\u001B[1;32m   4589\u001B[0m                 \u001B[0mnew_axis\u001B[0m \u001B[0;34m=\u001B[0m \u001B[0maxis\u001B[0m\u001B[0;34m.\u001B[0m\u001B[0mdrop\u001B[0m\u001B[0;34m(\u001B[0m\u001B[0mlabels\u001B[0m\u001B[0;34m,\u001B[0m \u001B[0mlevel\u001B[0m\u001B[0;34m=\u001B[0m\u001B[0mlevel\u001B[0m\u001B[0;34m,\u001B[0m \u001B[0merrors\u001B[0m\u001B[0;34m=\u001B[0m\u001B[0merrors\u001B[0m\u001B[0;34m)\u001B[0m\u001B[0;34m\u001B[0m\u001B[0;34m\u001B[0m\u001B[0m\n\u001B[1;32m   4590\u001B[0m             \u001B[0;32melse\u001B[0m\u001B[0;34m:\u001B[0m\u001B[0;34m\u001B[0m\u001B[0;34m\u001B[0m\u001B[0m\n\u001B[0;32m-> 4591\u001B[0;31m                 \u001B[0mnew_axis\u001B[0m \u001B[0;34m=\u001B[0m \u001B[0maxis\u001B[0m\u001B[0;34m.\u001B[0m\u001B[0mdrop\u001B[0m\u001B[0;34m(\u001B[0m\u001B[0mlabels\u001B[0m\u001B[0;34m,\u001B[0m \u001B[0merrors\u001B[0m\u001B[0;34m=\u001B[0m\u001B[0merrors\u001B[0m\u001B[0;34m)\u001B[0m\u001B[0;34m\u001B[0m\u001B[0;34m\u001B[0m\u001B[0m\n\u001B[0m\u001B[1;32m   4592\u001B[0m             \u001B[0mindexer\u001B[0m \u001B[0;34m=\u001B[0m \u001B[0maxis\u001B[0m\u001B[0;34m.\u001B[0m\u001B[0mget_indexer\u001B[0m\u001B[0;34m(\u001B[0m\u001B[0mnew_axis\u001B[0m\u001B[0;34m)\u001B[0m\u001B[0;34m\u001B[0m\u001B[0;34m\u001B[0m\u001B[0m\n\u001B[1;32m   4593\u001B[0m \u001B[0;34m\u001B[0m\u001B[0m\n",
      "\u001B[0;32m~/opt/anaconda3/envs/transformers_env/lib/python3.8/site-packages/pandas/core/indexes/base.py\u001B[0m in \u001B[0;36mdrop\u001B[0;34m(self, labels, errors)\u001B[0m\n\u001B[1;32m   6694\u001B[0m         \u001B[0;32mif\u001B[0m \u001B[0mmask\u001B[0m\u001B[0;34m.\u001B[0m\u001B[0many\u001B[0m\u001B[0;34m(\u001B[0m\u001B[0;34m)\u001B[0m\u001B[0;34m:\u001B[0m\u001B[0;34m\u001B[0m\u001B[0;34m\u001B[0m\u001B[0m\n\u001B[1;32m   6695\u001B[0m             \u001B[0;32mif\u001B[0m \u001B[0merrors\u001B[0m \u001B[0;34m!=\u001B[0m \u001B[0;34m\"ignore\"\u001B[0m\u001B[0;34m:\u001B[0m\u001B[0;34m\u001B[0m\u001B[0;34m\u001B[0m\u001B[0m\n\u001B[0;32m-> 6696\u001B[0;31m                 \u001B[0;32mraise\u001B[0m \u001B[0mKeyError\u001B[0m\u001B[0;34m(\u001B[0m\u001B[0;34mf\"{list(labels[mask])} not found in axis\"\u001B[0m\u001B[0;34m)\u001B[0m\u001B[0;34m\u001B[0m\u001B[0;34m\u001B[0m\u001B[0m\n\u001B[0m\u001B[1;32m   6697\u001B[0m             \u001B[0mindexer\u001B[0m \u001B[0;34m=\u001B[0m \u001B[0mindexer\u001B[0m\u001B[0;34m[\u001B[0m\u001B[0;34m~\u001B[0m\u001B[0mmask\u001B[0m\u001B[0;34m]\u001B[0m\u001B[0;34m\u001B[0m\u001B[0;34m\u001B[0m\u001B[0m\n\u001B[1;32m   6698\u001B[0m         \u001B[0;32mreturn\u001B[0m \u001B[0mself\u001B[0m\u001B[0;34m.\u001B[0m\u001B[0mdelete\u001B[0m\u001B[0;34m(\u001B[0m\u001B[0mindexer\u001B[0m\u001B[0;34m)\u001B[0m\u001B[0;34m\u001B[0m\u001B[0;34m\u001B[0m\u001B[0m\n",
      "\u001B[0;31mKeyError\u001B[0m: \"['PID', 'Order'] not found in axis\""
     ]
    }
   ],
   "source": [
    "# drop colums that aren't useful for ML\n",
    "\n",
    "imputed_df = imputed_df.drop(['PID','Order'], axis = 1)\n",
    "\n"
   ],
   "metadata": {
    "collapsed": false,
    "ExecuteTime": {
     "end_time": "2023-11-02T13:24:10.971247Z",
     "start_time": "2023-11-02T13:24:10.912176Z"
    }
   },
   "id": "4945e6d91b86f9ed"
  },
  {
   "cell_type": "markdown",
   "source": [],
   "metadata": {
    "collapsed": false
   },
   "id": "bc66b04c1da2cc03"
  },
  {
   "cell_type": "code",
   "execution_count": 81,
   "outputs": [],
   "source": [
    "# Drop clumns that leak info about the final sale:\n",
    "imputed_df = imputed_df.drop([\"Mo Sold\", \"Yr Sold\"], axis=1)"
   ],
   "metadata": {
    "collapsed": false,
    "ExecuteTime": {
     "end_time": "2023-11-02T13:24:51.732437Z",
     "start_time": "2023-11-02T13:24:51.699590Z"
    }
   },
   "id": "fce980967e1fef50"
  },
  {
   "cell_type": "code",
   "execution_count": null,
   "outputs": [],
   "source": [],
   "metadata": {
    "collapsed": false
   },
   "id": "671cb1bb519a2631"
  },
  {
   "cell_type": "code",
   "execution_count": 260,
   "outputs": [],
   "source": [
    "# Let's update the transform_features function\n",
    "\n",
    "def transform_features(df):\n",
    "    \n",
    "    #Remove columns with missing value more than 20%\n",
    "    num_missing = df.isnull().sum()\n",
    "    drop_missing_cols = num_missing[(num_missing>len(df)/20)].sort_values()\n",
    "    df = df.drop(drop_missing_cols.index, axis = 1)\n",
    "    \n",
    "    #Remove non-numerical columns with any missing value\n",
    "    text_my_counts = df.select_dtypes(include=['object']).isnull().sum()\n",
    "    drop_missing_cols_2 = text_my_counts[text_my_counts>0]\n",
    "    df=df.drop(drop_missing_cols_2.index, axis=1)\n",
    "\n",
    "    num_missing = df.select_dtypes(include=['int64', 'float']).isnull().sum()\n",
    "    fixable_numeric_cols = num_missing[(num_missing < len(df)/20) & (num_missing > 0)].sort_values()\n",
    "    replacement_values_dict = df[fixable_numeric_cols.index].mode().to_dict(orient='records')[0]\n",
    "    df = df.fillna(replacement_values_dict) \n",
    "\n",
    "    \n",
    "    df = replace_missing_values(df)\n",
    "    df['Years Before Sale'] = (df['Yr Sold']-df['Year Built'])\n",
    "    df['Years Since Remod'] = (df['Yr Sold']-df['Year Remod/Add'])\n",
    "\n",
    "    df = df[df['Years Before Sale'] >0]\n",
    "    df = df[df['Years Since Remod'] >0]\n",
    "    df = df.drop(['PID', 'Order'], axis = 1)\n",
    "\n",
    "    # Drop clumns that leak info about the final sale:\n",
    "    df = df.drop([\"Mo Sold\", \"Yr Sold\"], axis=1)\n",
    "    \n",
    "    return df"
   ],
   "metadata": {
    "collapsed": false,
    "ExecuteTime": {
     "end_time": "2023-11-03T03:40:45.363938Z",
     "start_time": "2023-11-03T03:40:45.228499Z"
    }
   },
   "id": "afb6651d716c2077"
  },
  {
   "cell_type": "code",
   "execution_count": 264,
   "outputs": [],
   "source": [
    "def transform_features(df):\n",
    "    num_missing = df.isnull().sum()\n",
    "    drop_missing_cols = num_missing[(num_missing > len(df)/20)].sort_values()\n",
    "    df = df.drop(drop_missing_cols.index, axis=1)\n",
    "\n",
    "    text_mv_counts = df.select_dtypes(include=['object']).isnull().sum().sort_values(ascending=False)\n",
    "    drop_missing_cols_2 = text_mv_counts[text_mv_counts > 0]\n",
    "    df = df.drop(drop_missing_cols_2.index, axis=1)\n",
    "\n",
    "    num_missing = df.select_dtypes(include=['int64', 'float']).isnull().sum()\n",
    "    fixable_numeric_cols = num_missing[(num_missing < len(df)/20) & (num_missing > 0)].sort_values()\n",
    "    replacement_values_dict = df[fixable_numeric_cols.index].mode().to_dict(orient='records')[0]\n",
    "    df = df.fillna(replacement_values_dict)\n",
    "\n",
    "    years_sold = df['Yr Sold'] - df['Year Built']\n",
    "    years_since_remod = df['Yr Sold'] - df['Year Remod/Add']\n",
    "    df['Years Before Sale'] = years_sold\n",
    "    df['Years Since Remod'] = years_since_remod\n",
    "    df = df.drop([1702, 2180, 2181], axis=0)\n",
    "\n",
    "    df = df.drop([\"PID\", \"Order\", \"Mo Sold\", \"Sale Condition\", \"Sale Type\", \"Year Built\", \"Year Remod/Add\"], axis=1)\n",
    "    return df\n"
   ],
   "metadata": {
    "collapsed": false,
    "ExecuteTime": {
     "end_time": "2023-11-03T03:43:57.694204Z",
     "start_time": "2023-11-03T03:43:57.576430Z"
    }
   },
   "id": "83fd7c8e81ee51ed"
  },
  {
   "cell_type": "code",
   "execution_count": 265,
   "outputs": [],
   "source": [
    "transform_df= transform_features(house)"
   ],
   "metadata": {
    "collapsed": false,
    "ExecuteTime": {
     "end_time": "2023-11-03T03:43:59.054605Z",
     "start_time": "2023-11-03T03:43:58.919429Z"
    }
   },
   "id": "d68b57769675dd"
  },
  {
   "cell_type": "code",
   "execution_count": 266,
   "outputs": [
    {
     "data": {
      "text/plain": "(2927, 59)"
     },
     "execution_count": 266,
     "metadata": {},
     "output_type": "execute_result"
    }
   ],
   "source": [
    "transform_df.shape"
   ],
   "metadata": {
    "collapsed": false,
    "ExecuteTime": {
     "end_time": "2023-11-03T03:44:00.733337Z",
     "start_time": "2023-11-03T03:44:00.623473Z"
    }
   },
   "id": "fdaa3b6eb12b8df3"
  },
  {
   "cell_type": "code",
   "execution_count": 263,
   "outputs": [
    {
     "data": {
      "text/plain": "(2930, 82)"
     },
     "execution_count": 263,
     "metadata": {},
     "output_type": "execute_result"
    }
   ],
   "source": [
    "house.shape"
   ],
   "metadata": {
    "collapsed": false,
    "ExecuteTime": {
     "end_time": "2023-11-03T03:42:52.863598Z",
     "start_time": "2023-11-03T03:42:52.733894Z"
    }
   },
   "id": "1a57fff2bd2da0b8"
  },
  {
   "cell_type": "markdown",
   "source": [
    "## Corelation study on the features"
   ],
   "metadata": {
    "collapsed": false
   },
   "id": "ba4b532d5d111fe"
  },
  {
   "cell_type": "code",
   "execution_count": null,
   "outputs": [],
   "source": [],
   "metadata": {
    "collapsed": false
   },
   "id": "f5a80ea3576c154f"
  },
  {
   "cell_type": "code",
   "execution_count": 203,
   "outputs": [],
   "source": [
    "df_corr = my_df.corr()"
   ],
   "metadata": {
    "collapsed": false,
    "ExecuteTime": {
     "end_time": "2023-11-03T02:39:34.035905Z",
     "start_time": "2023-11-03T02:39:34.002697Z"
    }
   },
   "id": "6c82aec45351419a"
  },
  {
   "cell_type": "code",
   "execution_count": 204,
   "outputs": [
    {
     "data": {
      "text/plain": "                   MS SubClass  Lot Area  Overall Qual  Overall Cond   \nMS SubClass           1.000000 -0.198393      0.068247     -0.074237  \\\nLot Area             -0.198393  1.000000      0.073267     -0.030364   \nOverall Qual          0.068247  0.073267      1.000000     -0.048901   \nOverall Cond         -0.074237 -0.030364     -0.048901      1.000000   \nYear Built            0.058411  0.013172      0.560007     -0.346197   \nYear Remod/Add        0.068398  0.009703      0.537606      0.092925   \nBsmtFin SF 1         -0.062141  0.162464      0.265218     -0.052103   \nBsmtFin SF 2         -0.078026  0.088650     -0.014955      0.028862   \nBsmt Unf SF          -0.112490  0.013671      0.233944     -0.113960   \nTotal Bsmt SF        -0.211660  0.218573      0.503833     -0.157089   \n1st Flr SF           -0.246033  0.311368      0.428159     -0.143150   \n2nd Flr SF            0.310553  0.015227      0.266110      0.012589   \nLow Qual Fin SF       0.024917  0.002037     -0.042684      0.005762   \nGr Liv Area           0.086052  0.248168      0.549179     -0.096456   \nBsmt Full Bath        0.009067  0.118226      0.158054     -0.044318   \nBsmt Half Bath       -0.018129  0.032360     -0.034592      0.080467   \nFull Bath             0.157008  0.118624      0.500540     -0.193531   \nHalf Bath             0.180681  0.017480      0.276988     -0.083160   \nBedroom AbvGr        -0.012799  0.129819      0.086248     -0.013223   \nKitchen AbvGr         0.263597 -0.018452     -0.153299     -0.095901   \nTotRms AbvGrd         0.051710  0.188094      0.346604     -0.071360   \nFireplaces           -0.049981  0.246266      0.391175     -0.025098   \nGarage Cars          -0.030866  0.171850      0.559985     -0.152646   \nGarage Area          -0.087186  0.192275      0.513898     -0.123419   \nWood Deck SF         -0.016188  0.155102      0.252358      0.024502   \nOpen Porch SF        -0.002238  0.079923      0.273711     -0.054211   \nEnclosed Porch       -0.028138  0.023420     -0.117172      0.061339   \n3Ssn Porch           -0.042322  0.017330      0.012636      0.048156   \nScreen Porch         -0.056524  0.048550      0.043826      0.047151   \nPool Area            -0.005022  0.066960      0.026253     -0.017413   \nMisc Val             -0.026845  0.039774     -0.020493      0.044763   \nSalePrice            -0.067870  0.272263      0.785137     -0.057481   \nYears Before Sale    -0.059319 -0.013935     -0.559275      0.346896   \nYears Since Remod    -0.069883 -0.010825     -0.537800     -0.092603   \n\n                   Year Built  Year Remod/Add  BsmtFin SF 1  BsmtFin SF 2   \nMS SubClass          0.058411        0.068398     -0.062141     -0.078026  \\\nLot Area             0.013172        0.009703      0.162464      0.088650   \nOverall Qual         0.560007        0.537606      0.265218     -0.014955   \nOverall Cond        -0.346197        0.092925     -0.052103      0.028862   \nYear Built           1.000000        0.570626      0.312367      0.001175   \nYear Remod/Add       0.570626        1.000000      0.159432     -0.036288   \nBsmtFin SF 1         0.312367        0.159432      1.000000     -0.056674   \nBsmtFin SF 2         0.001175       -0.036288     -0.056674      1.000000   \nBsmt Unf SF          0.058424        0.105955     -0.484542     -0.241183   \nTotal Bsmt SF        0.380479        0.255890      0.508658      0.124564   \n1st Flr SF           0.279618        0.201115      0.406849      0.112978   \n2nd Flr SF           0.015757        0.175518     -0.177997     -0.102840   \nLow Qual Fin SF     -0.143380       -0.053426     -0.072866     -0.007595   \nGr Liv Area          0.210262        0.298424      0.145305     -0.004677   \nBsmt Full Bath       0.229879        0.145493      0.630261      0.171233   \nBsmt Half Bath      -0.021191       -0.038407      0.069160      0.099673   \nFull Bath            0.441482        0.429197      0.087168     -0.060703   \nHalf Bath            0.281794        0.216579     -0.020641     -0.029381   \nBedroom AbvGr       -0.042936       -0.008557     -0.099265     -0.038100   \nKitchen AbvGr       -0.125722       -0.129455     -0.094253     -0.043419   \nTotRms AbvGrd        0.073052        0.172950     -0.000084     -0.040309   \nFireplaces           0.168739        0.131973      0.268187      0.071747   \nGarage Cars          0.509390        0.386947      0.257195      0.008145   \nGarage Area          0.453384        0.334505      0.288219      0.029153   \nWood Deck SF         0.240457        0.229900      0.219559      0.102995   \nOpen Porch SF        0.165276        0.214108      0.097805      0.007950   \nEnclosed Porch      -0.363411       -0.204565     -0.109607      0.025282   \n3Ssn Porch           0.010446        0.032641      0.038481     -0.022614   \nScreen Porch        -0.037705       -0.044149      0.093592      0.063785   \nPool Area            0.002531       -0.011917      0.037927      0.045920   \nMisc Val            -0.020154       -0.009531      0.018890     -0.005062   \nSalePrice            0.539103        0.514598      0.450672      0.040519   \nYears Before Sale   -0.999016       -0.567253     -0.311736     -0.001486   \nYears Since Remod   -0.570100       -0.997956     -0.158735      0.035965   \n\n                   Bsmt Unf SF  Total Bsmt SF  ...  Wood Deck SF   \nMS SubClass          -0.112490      -0.211660  ...     -0.016188  \\\nLot Area              0.013671       0.218573  ...      0.155102   \nOverall Qual          0.233944       0.503833  ...      0.252358   \nOverall Cond         -0.113960      -0.157089  ...      0.024502   \nYear Built            0.058424       0.380479  ...      0.240457   \nYear Remod/Add        0.105955       0.255890  ...      0.229900   \nBsmtFin SF 1         -0.484542       0.508658  ...      0.219559   \nBsmtFin SF 2         -0.241183       0.124564  ...      0.102995   \nBsmt Unf SF           1.000000       0.417323  ...     -0.042723   \nTotal Bsmt SF         0.417323       1.000000  ...      0.225904   \n1st Flr SF            0.285893       0.756809  ...      0.219556   \n2nd Flr SF            0.016969      -0.209403  ...      0.087056   \nLow Qual Fin SF       0.059414      -0.017548  ...     -0.015412   \nGr Liv Area           0.236162       0.387451  ...      0.239450   \nBsmt Full Bath       -0.383262       0.329944  ...      0.181376   \nBsmt Half Bath       -0.099696       0.012174  ...      0.049087   \nFull Bath             0.242633       0.310393  ...      0.180319   \nHalf Bath            -0.037415      -0.071840  ...      0.117855   \nBedroom AbvGr         0.201963       0.087386  ...      0.031341   \nKitchen AbvGr         0.087745      -0.025998  ...     -0.088606   \nTotRms AbvGrd         0.254930       0.242114  ...      0.141343   \nFireplaces            0.008547       0.314601  ...      0.221249   \nGarage Cars           0.138880       0.408738  ...      0.240128   \nGarage Area           0.122256       0.432647  ...      0.241502   \nWood Deck SF         -0.042723       0.225904  ...      1.000000   \nOpen Porch SF         0.095506       0.200963  ...      0.033857   \nEnclosed Porch        0.033981      -0.067055  ...     -0.118192   \n3Ssn Porch            0.000828       0.030644  ...     -0.008070   \nScreen Porch         -0.047477       0.075025  ...     -0.052521   \nPool Area            -0.030640       0.027394  ...      0.095632   \nMisc Val             -0.022434      -0.005618  ...      0.025481   \nSalePrice             0.150299       0.632745  ...      0.348574   \nYears Before Sale    -0.058385      -0.379925  ...     -0.239948   \nYears Since Remod    -0.106201      -0.255564  ...     -0.229698   \n\n                   Open Porch SF  Enclosed Porch  3Ssn Porch  Screen Porch   \nMS SubClass            -0.002238       -0.028138   -0.042322     -0.056524  \\\nLot Area                0.079923        0.023420    0.017330      0.048550   \nOverall Qual            0.273711       -0.117172    0.012636      0.043826   \nOverall Cond           -0.054211        0.061339    0.048156      0.047151   \nYear Built              0.165276       -0.363411    0.010446     -0.037705   \nYear Remod/Add          0.214108       -0.204565    0.032641     -0.044149   \nBsmtFin SF 1            0.097805       -0.109607    0.038481      0.093592   \nBsmtFin SF 2            0.007950        0.025282   -0.022614      0.063785   \nBsmt Unf SF             0.095506        0.033981    0.000828     -0.047477   \nTotal Bsmt SF           0.200963       -0.067055    0.030644      0.075025   \n1st Flr SF              0.196252       -0.051713    0.039621      0.097039   \n2nd Flr SF              0.190053        0.056315   -0.029113      0.017039   \nLow Qual Fin SF         0.004403        0.085631   -0.004029      0.006553   \nGr Liv Area             0.313089        0.018299    0.004249      0.088582   \nBsmt Full Bath          0.077904       -0.070580    0.015282      0.044799   \nBsmt Half Bath         -0.031909       -0.012123    0.014136      0.038846   \nFull Bath               0.243496       -0.105551    0.019225     -0.013867   \nHalf Bath               0.170537       -0.084456   -0.023552      0.040776   \nBedroom AbvGr           0.097270        0.049076   -0.038461      0.003720   \nKitchen AbvGr          -0.062839        0.022666   -0.021237     -0.059563   \nTotRms AbvGrd           0.218321        0.031528   -0.023704      0.031046   \nFireplaces              0.161814        0.005699    0.013191      0.167250   \nGarage Cars             0.182294       -0.118407    0.019921      0.041605   \nGarage Area             0.199408       -0.097806    0.029363      0.056087   \nWood Deck SF            0.033857       -0.118192   -0.008070     -0.052521   \nOpen Porch SF           1.000000       -0.052112   -0.017213      0.054250   \nEnclosed Porch         -0.052112        1.000000   -0.032749     -0.073777   \n3Ssn Porch             -0.017213       -0.032749    1.000000     -0.028229   \nScreen Porch            0.054250       -0.073777   -0.028229      1.000000   \nPool Area               0.055806        0.096784   -0.006168      0.029158   \nMisc Val                0.019080        0.012548    0.001117      0.011924   \nSalePrice               0.312254       -0.113887    0.018963      0.107739   \nYears Before Sale      -0.166596        0.363058   -0.009634      0.037287   \nYears Since Remod      -0.216575        0.204370   -0.031568      0.043656   \n\n                   Pool Area  Misc Val  SalePrice  Years Before Sale   \nMS SubClass        -0.005022 -0.026845  -0.067870          -0.059319  \\\nLot Area            0.066960  0.039774   0.272263          -0.013935   \nOverall Qual        0.026253 -0.020493   0.785137          -0.559275   \nOverall Cond       -0.017413  0.044763  -0.057481           0.346896   \nYear Built          0.002531 -0.020154   0.539103          -0.999016   \nYear Remod/Add     -0.011917 -0.009531   0.514598          -0.567253   \nBsmtFin SF 1        0.037927  0.018890   0.450672          -0.311736   \nBsmtFin SF 2        0.045920 -0.005062   0.040519          -0.001486   \nBsmt Unf SF        -0.030640 -0.022434   0.150299          -0.058385   \nTotal Bsmt SF       0.027394 -0.005618   0.632745          -0.379925   \n1st Flr SF          0.096692 -0.006448   0.623102          -0.279420   \n2nd Flr SF          0.041768  0.004066   0.297071          -0.015852   \nLow Qual Fin SF     0.036292 -0.006753  -0.031588           0.143181   \nGr Liv Area         0.112698 -0.002009   0.724094          -0.210215   \nBsmt Full Bath      0.032416 -0.019735   0.277016          -0.228158   \nBsmt Half Bath      0.071703 -0.003780  -0.024957           0.019937   \nFull Bath           0.031022 -0.015832   0.541690          -0.439890   \nHalf Bath          -0.003548  0.019123   0.296264          -0.281415   \nBedroom AbvGr       0.037683  0.013121   0.174402           0.042555   \nKitchen AbvGr      -0.013651  0.031038  -0.114293           0.127036   \nTotRms AbvGrd       0.064183  0.011058   0.476159          -0.073129   \nFireplaces          0.087945 -0.016235   0.488419          -0.169099   \nGarage Cars         0.036843 -0.035355   0.622464          -0.509028   \nGarage Area         0.042375 -0.023252   0.608802          -0.452817   \nWood Deck SF        0.095632  0.025481   0.348574          -0.239948   \nOpen Porch SF       0.055806  0.019080   0.312254          -0.166596   \nEnclosed Porch      0.096784  0.012548  -0.113887           0.363058   \n3Ssn Porch         -0.006168  0.001117   0.018963          -0.009634   \nScreen Porch        0.029158  0.011924   0.107739           0.037287   \nPool Area           1.000000  0.015543   0.090469          -0.005209   \nMisc Val            0.015543  1.000000  -0.011022           0.020795   \nSalePrice           0.090469 -0.011022   1.000000          -0.538845   \nYears Before Sale  -0.005209  0.020795  -0.538845           1.000000   \nYears Since Remod   0.008091  0.010467  -0.515419           0.569561   \n\n                   Years Since Remod  \nMS SubClass                -0.069883  \nLot Area                   -0.010825  \nOverall Qual               -0.537800  \nOverall Cond               -0.092603  \nYear Built                 -0.570100  \nYear Remod/Add             -0.997956  \nBsmtFin SF 1               -0.158735  \nBsmtFin SF 2                0.035965  \nBsmt Unf SF                -0.106201  \nTotal Bsmt SF              -0.255564  \n1st Flr SF                 -0.201221  \n2nd Flr SF                 -0.176242  \nLow Qual Fin SF             0.053171  \nGr Liv Area                -0.299157  \nBsmt Full Bath             -0.143263  \nBsmt Half Bath              0.036704  \nFull Bath                  -0.427902  \nHalf Bath                  -0.216477  \nBedroom AbvGr               0.007990  \nKitchen AbvGr               0.131664  \nTotRms AbvGrd              -0.173579  \nFireplaces                 -0.132766  \nGarage Cars                -0.387211  \nGarage Area                -0.334352  \nWood Deck SF               -0.229698  \nOpen Porch SF              -0.216575  \nEnclosed Porch              0.204370  \n3Ssn Porch                 -0.031568  \nScreen Porch                0.043656  \nPool Area                   0.008091  \nMisc Val                    0.010467  \nSalePrice                  -0.515419  \nYears Before Sale           0.569561  \nYears Since Remod           1.000000  \n\n[34 rows x 34 columns]",
      "text/html": "<div>\n<style scoped>\n    .dataframe tbody tr th:only-of-type {\n        vertical-align: middle;\n    }\n\n    .dataframe tbody tr th {\n        vertical-align: top;\n    }\n\n    .dataframe thead th {\n        text-align: right;\n    }\n</style>\n<table border=\"1\" class=\"dataframe\">\n  <thead>\n    <tr style=\"text-align: right;\">\n      <th></th>\n      <th>MS SubClass</th>\n      <th>Lot Area</th>\n      <th>Overall Qual</th>\n      <th>Overall Cond</th>\n      <th>Year Built</th>\n      <th>Year Remod/Add</th>\n      <th>BsmtFin SF 1</th>\n      <th>BsmtFin SF 2</th>\n      <th>Bsmt Unf SF</th>\n      <th>Total Bsmt SF</th>\n      <th>...</th>\n      <th>Wood Deck SF</th>\n      <th>Open Porch SF</th>\n      <th>Enclosed Porch</th>\n      <th>3Ssn Porch</th>\n      <th>Screen Porch</th>\n      <th>Pool Area</th>\n      <th>Misc Val</th>\n      <th>SalePrice</th>\n      <th>Years Before Sale</th>\n      <th>Years Since Remod</th>\n    </tr>\n  </thead>\n  <tbody>\n    <tr>\n      <th>MS SubClass</th>\n      <td>1.000000</td>\n      <td>-0.198393</td>\n      <td>0.068247</td>\n      <td>-0.074237</td>\n      <td>0.058411</td>\n      <td>0.068398</td>\n      <td>-0.062141</td>\n      <td>-0.078026</td>\n      <td>-0.112490</td>\n      <td>-0.211660</td>\n      <td>...</td>\n      <td>-0.016188</td>\n      <td>-0.002238</td>\n      <td>-0.028138</td>\n      <td>-0.042322</td>\n      <td>-0.056524</td>\n      <td>-0.005022</td>\n      <td>-0.026845</td>\n      <td>-0.067870</td>\n      <td>-0.059319</td>\n      <td>-0.069883</td>\n    </tr>\n    <tr>\n      <th>Lot Area</th>\n      <td>-0.198393</td>\n      <td>1.000000</td>\n      <td>0.073267</td>\n      <td>-0.030364</td>\n      <td>0.013172</td>\n      <td>0.009703</td>\n      <td>0.162464</td>\n      <td>0.088650</td>\n      <td>0.013671</td>\n      <td>0.218573</td>\n      <td>...</td>\n      <td>0.155102</td>\n      <td>0.079923</td>\n      <td>0.023420</td>\n      <td>0.017330</td>\n      <td>0.048550</td>\n      <td>0.066960</td>\n      <td>0.039774</td>\n      <td>0.272263</td>\n      <td>-0.013935</td>\n      <td>-0.010825</td>\n    </tr>\n    <tr>\n      <th>Overall Qual</th>\n      <td>0.068247</td>\n      <td>0.073267</td>\n      <td>1.000000</td>\n      <td>-0.048901</td>\n      <td>0.560007</td>\n      <td>0.537606</td>\n      <td>0.265218</td>\n      <td>-0.014955</td>\n      <td>0.233944</td>\n      <td>0.503833</td>\n      <td>...</td>\n      <td>0.252358</td>\n      <td>0.273711</td>\n      <td>-0.117172</td>\n      <td>0.012636</td>\n      <td>0.043826</td>\n      <td>0.026253</td>\n      <td>-0.020493</td>\n      <td>0.785137</td>\n      <td>-0.559275</td>\n      <td>-0.537800</td>\n    </tr>\n    <tr>\n      <th>Overall Cond</th>\n      <td>-0.074237</td>\n      <td>-0.030364</td>\n      <td>-0.048901</td>\n      <td>1.000000</td>\n      <td>-0.346197</td>\n      <td>0.092925</td>\n      <td>-0.052103</td>\n      <td>0.028862</td>\n      <td>-0.113960</td>\n      <td>-0.157089</td>\n      <td>...</td>\n      <td>0.024502</td>\n      <td>-0.054211</td>\n      <td>0.061339</td>\n      <td>0.048156</td>\n      <td>0.047151</td>\n      <td>-0.017413</td>\n      <td>0.044763</td>\n      <td>-0.057481</td>\n      <td>0.346896</td>\n      <td>-0.092603</td>\n    </tr>\n    <tr>\n      <th>Year Built</th>\n      <td>0.058411</td>\n      <td>0.013172</td>\n      <td>0.560007</td>\n      <td>-0.346197</td>\n      <td>1.000000</td>\n      <td>0.570626</td>\n      <td>0.312367</td>\n      <td>0.001175</td>\n      <td>0.058424</td>\n      <td>0.380479</td>\n      <td>...</td>\n      <td>0.240457</td>\n      <td>0.165276</td>\n      <td>-0.363411</td>\n      <td>0.010446</td>\n      <td>-0.037705</td>\n      <td>0.002531</td>\n      <td>-0.020154</td>\n      <td>0.539103</td>\n      <td>-0.999016</td>\n      <td>-0.570100</td>\n    </tr>\n    <tr>\n      <th>Year Remod/Add</th>\n      <td>0.068398</td>\n      <td>0.009703</td>\n      <td>0.537606</td>\n      <td>0.092925</td>\n      <td>0.570626</td>\n      <td>1.000000</td>\n      <td>0.159432</td>\n      <td>-0.036288</td>\n      <td>0.105955</td>\n      <td>0.255890</td>\n      <td>...</td>\n      <td>0.229900</td>\n      <td>0.214108</td>\n      <td>-0.204565</td>\n      <td>0.032641</td>\n      <td>-0.044149</td>\n      <td>-0.011917</td>\n      <td>-0.009531</td>\n      <td>0.514598</td>\n      <td>-0.567253</td>\n      <td>-0.997956</td>\n    </tr>\n    <tr>\n      <th>BsmtFin SF 1</th>\n      <td>-0.062141</td>\n      <td>0.162464</td>\n      <td>0.265218</td>\n      <td>-0.052103</td>\n      <td>0.312367</td>\n      <td>0.159432</td>\n      <td>1.000000</td>\n      <td>-0.056674</td>\n      <td>-0.484542</td>\n      <td>0.508658</td>\n      <td>...</td>\n      <td>0.219559</td>\n      <td>0.097805</td>\n      <td>-0.109607</td>\n      <td>0.038481</td>\n      <td>0.093592</td>\n      <td>0.037927</td>\n      <td>0.018890</td>\n      <td>0.450672</td>\n      <td>-0.311736</td>\n      <td>-0.158735</td>\n    </tr>\n    <tr>\n      <th>BsmtFin SF 2</th>\n      <td>-0.078026</td>\n      <td>0.088650</td>\n      <td>-0.014955</td>\n      <td>0.028862</td>\n      <td>0.001175</td>\n      <td>-0.036288</td>\n      <td>-0.056674</td>\n      <td>1.000000</td>\n      <td>-0.241183</td>\n      <td>0.124564</td>\n      <td>...</td>\n      <td>0.102995</td>\n      <td>0.007950</td>\n      <td>0.025282</td>\n      <td>-0.022614</td>\n      <td>0.063785</td>\n      <td>0.045920</td>\n      <td>-0.005062</td>\n      <td>0.040519</td>\n      <td>-0.001486</td>\n      <td>0.035965</td>\n    </tr>\n    <tr>\n      <th>Bsmt Unf SF</th>\n      <td>-0.112490</td>\n      <td>0.013671</td>\n      <td>0.233944</td>\n      <td>-0.113960</td>\n      <td>0.058424</td>\n      <td>0.105955</td>\n      <td>-0.484542</td>\n      <td>-0.241183</td>\n      <td>1.000000</td>\n      <td>0.417323</td>\n      <td>...</td>\n      <td>-0.042723</td>\n      <td>0.095506</td>\n      <td>0.033981</td>\n      <td>0.000828</td>\n      <td>-0.047477</td>\n      <td>-0.030640</td>\n      <td>-0.022434</td>\n      <td>0.150299</td>\n      <td>-0.058385</td>\n      <td>-0.106201</td>\n    </tr>\n    <tr>\n      <th>Total Bsmt SF</th>\n      <td>-0.211660</td>\n      <td>0.218573</td>\n      <td>0.503833</td>\n      <td>-0.157089</td>\n      <td>0.380479</td>\n      <td>0.255890</td>\n      <td>0.508658</td>\n      <td>0.124564</td>\n      <td>0.417323</td>\n      <td>1.000000</td>\n      <td>...</td>\n      <td>0.225904</td>\n      <td>0.200963</td>\n      <td>-0.067055</td>\n      <td>0.030644</td>\n      <td>0.075025</td>\n      <td>0.027394</td>\n      <td>-0.005618</td>\n      <td>0.632745</td>\n      <td>-0.379925</td>\n      <td>-0.255564</td>\n    </tr>\n    <tr>\n      <th>1st Flr SF</th>\n      <td>-0.246033</td>\n      <td>0.311368</td>\n      <td>0.428159</td>\n      <td>-0.143150</td>\n      <td>0.279618</td>\n      <td>0.201115</td>\n      <td>0.406849</td>\n      <td>0.112978</td>\n      <td>0.285893</td>\n      <td>0.756809</td>\n      <td>...</td>\n      <td>0.219556</td>\n      <td>0.196252</td>\n      <td>-0.051713</td>\n      <td>0.039621</td>\n      <td>0.097039</td>\n      <td>0.096692</td>\n      <td>-0.006448</td>\n      <td>0.623102</td>\n      <td>-0.279420</td>\n      <td>-0.201221</td>\n    </tr>\n    <tr>\n      <th>2nd Flr SF</th>\n      <td>0.310553</td>\n      <td>0.015227</td>\n      <td>0.266110</td>\n      <td>0.012589</td>\n      <td>0.015757</td>\n      <td>0.175518</td>\n      <td>-0.177997</td>\n      <td>-0.102840</td>\n      <td>0.016969</td>\n      <td>-0.209403</td>\n      <td>...</td>\n      <td>0.087056</td>\n      <td>0.190053</td>\n      <td>0.056315</td>\n      <td>-0.029113</td>\n      <td>0.017039</td>\n      <td>0.041768</td>\n      <td>0.004066</td>\n      <td>0.297071</td>\n      <td>-0.015852</td>\n      <td>-0.176242</td>\n    </tr>\n    <tr>\n      <th>Low Qual Fin SF</th>\n      <td>0.024917</td>\n      <td>0.002037</td>\n      <td>-0.042684</td>\n      <td>0.005762</td>\n      <td>-0.143380</td>\n      <td>-0.053426</td>\n      <td>-0.072866</td>\n      <td>-0.007595</td>\n      <td>0.059414</td>\n      <td>-0.017548</td>\n      <td>...</td>\n      <td>-0.015412</td>\n      <td>0.004403</td>\n      <td>0.085631</td>\n      <td>-0.004029</td>\n      <td>0.006553</td>\n      <td>0.036292</td>\n      <td>-0.006753</td>\n      <td>-0.031588</td>\n      <td>0.143181</td>\n      <td>0.053171</td>\n    </tr>\n    <tr>\n      <th>Gr Liv Area</th>\n      <td>0.086052</td>\n      <td>0.248168</td>\n      <td>0.549179</td>\n      <td>-0.096456</td>\n      <td>0.210262</td>\n      <td>0.298424</td>\n      <td>0.145305</td>\n      <td>-0.004677</td>\n      <td>0.236162</td>\n      <td>0.387451</td>\n      <td>...</td>\n      <td>0.239450</td>\n      <td>0.313089</td>\n      <td>0.018299</td>\n      <td>0.004249</td>\n      <td>0.088582</td>\n      <td>0.112698</td>\n      <td>-0.002009</td>\n      <td>0.724094</td>\n      <td>-0.210215</td>\n      <td>-0.299157</td>\n    </tr>\n    <tr>\n      <th>Bsmt Full Bath</th>\n      <td>0.009067</td>\n      <td>0.118226</td>\n      <td>0.158054</td>\n      <td>-0.044318</td>\n      <td>0.229879</td>\n      <td>0.145493</td>\n      <td>0.630261</td>\n      <td>0.171233</td>\n      <td>-0.383262</td>\n      <td>0.329944</td>\n      <td>...</td>\n      <td>0.181376</td>\n      <td>0.077904</td>\n      <td>-0.070580</td>\n      <td>0.015282</td>\n      <td>0.044799</td>\n      <td>0.032416</td>\n      <td>-0.019735</td>\n      <td>0.277016</td>\n      <td>-0.228158</td>\n      <td>-0.143263</td>\n    </tr>\n    <tr>\n      <th>Bsmt Half Bath</th>\n      <td>-0.018129</td>\n      <td>0.032360</td>\n      <td>-0.034592</td>\n      <td>0.080467</td>\n      <td>-0.021191</td>\n      <td>-0.038407</td>\n      <td>0.069160</td>\n      <td>0.099673</td>\n      <td>-0.099696</td>\n      <td>0.012174</td>\n      <td>...</td>\n      <td>0.049087</td>\n      <td>-0.031909</td>\n      <td>-0.012123</td>\n      <td>0.014136</td>\n      <td>0.038846</td>\n      <td>0.071703</td>\n      <td>-0.003780</td>\n      <td>-0.024957</td>\n      <td>0.019937</td>\n      <td>0.036704</td>\n    </tr>\n    <tr>\n      <th>Full Bath</th>\n      <td>0.157008</td>\n      <td>0.118624</td>\n      <td>0.500540</td>\n      <td>-0.193531</td>\n      <td>0.441482</td>\n      <td>0.429197</td>\n      <td>0.087168</td>\n      <td>-0.060703</td>\n      <td>0.242633</td>\n      <td>0.310393</td>\n      <td>...</td>\n      <td>0.180319</td>\n      <td>0.243496</td>\n      <td>-0.105551</td>\n      <td>0.019225</td>\n      <td>-0.013867</td>\n      <td>0.031022</td>\n      <td>-0.015832</td>\n      <td>0.541690</td>\n      <td>-0.439890</td>\n      <td>-0.427902</td>\n    </tr>\n    <tr>\n      <th>Half Bath</th>\n      <td>0.180681</td>\n      <td>0.017480</td>\n      <td>0.276988</td>\n      <td>-0.083160</td>\n      <td>0.281794</td>\n      <td>0.216579</td>\n      <td>-0.020641</td>\n      <td>-0.029381</td>\n      <td>-0.037415</td>\n      <td>-0.071840</td>\n      <td>...</td>\n      <td>0.117855</td>\n      <td>0.170537</td>\n      <td>-0.084456</td>\n      <td>-0.023552</td>\n      <td>0.040776</td>\n      <td>-0.003548</td>\n      <td>0.019123</td>\n      <td>0.296264</td>\n      <td>-0.281415</td>\n      <td>-0.216477</td>\n    </tr>\n    <tr>\n      <th>Bedroom AbvGr</th>\n      <td>-0.012799</td>\n      <td>0.129819</td>\n      <td>0.086248</td>\n      <td>-0.013223</td>\n      <td>-0.042936</td>\n      <td>-0.008557</td>\n      <td>-0.099265</td>\n      <td>-0.038100</td>\n      <td>0.201963</td>\n      <td>0.087386</td>\n      <td>...</td>\n      <td>0.031341</td>\n      <td>0.097270</td>\n      <td>0.049076</td>\n      <td>-0.038461</td>\n      <td>0.003720</td>\n      <td>0.037683</td>\n      <td>0.013121</td>\n      <td>0.174402</td>\n      <td>0.042555</td>\n      <td>0.007990</td>\n    </tr>\n    <tr>\n      <th>Kitchen AbvGr</th>\n      <td>0.263597</td>\n      <td>-0.018452</td>\n      <td>-0.153299</td>\n      <td>-0.095901</td>\n      <td>-0.125722</td>\n      <td>-0.129455</td>\n      <td>-0.094253</td>\n      <td>-0.043419</td>\n      <td>0.087745</td>\n      <td>-0.025998</td>\n      <td>...</td>\n      <td>-0.088606</td>\n      <td>-0.062839</td>\n      <td>0.022666</td>\n      <td>-0.021237</td>\n      <td>-0.059563</td>\n      <td>-0.013651</td>\n      <td>0.031038</td>\n      <td>-0.114293</td>\n      <td>0.127036</td>\n      <td>0.131664</td>\n    </tr>\n    <tr>\n      <th>TotRms AbvGrd</th>\n      <td>0.051710</td>\n      <td>0.188094</td>\n      <td>0.346604</td>\n      <td>-0.071360</td>\n      <td>0.073052</td>\n      <td>0.172950</td>\n      <td>-0.000084</td>\n      <td>-0.040309</td>\n      <td>0.254930</td>\n      <td>0.242114</td>\n      <td>...</td>\n      <td>0.141343</td>\n      <td>0.218321</td>\n      <td>0.031528</td>\n      <td>-0.023704</td>\n      <td>0.031046</td>\n      <td>0.064183</td>\n      <td>0.011058</td>\n      <td>0.476159</td>\n      <td>-0.073129</td>\n      <td>-0.173579</td>\n    </tr>\n    <tr>\n      <th>Fireplaces</th>\n      <td>-0.049981</td>\n      <td>0.246266</td>\n      <td>0.391175</td>\n      <td>-0.025098</td>\n      <td>0.168739</td>\n      <td>0.131973</td>\n      <td>0.268187</td>\n      <td>0.071747</td>\n      <td>0.008547</td>\n      <td>0.314601</td>\n      <td>...</td>\n      <td>0.221249</td>\n      <td>0.161814</td>\n      <td>0.005699</td>\n      <td>0.013191</td>\n      <td>0.167250</td>\n      <td>0.087945</td>\n      <td>-0.016235</td>\n      <td>0.488419</td>\n      <td>-0.169099</td>\n      <td>-0.132766</td>\n    </tr>\n    <tr>\n      <th>Garage Cars</th>\n      <td>-0.030866</td>\n      <td>0.171850</td>\n      <td>0.559985</td>\n      <td>-0.152646</td>\n      <td>0.509390</td>\n      <td>0.386947</td>\n      <td>0.257195</td>\n      <td>0.008145</td>\n      <td>0.138880</td>\n      <td>0.408738</td>\n      <td>...</td>\n      <td>0.240128</td>\n      <td>0.182294</td>\n      <td>-0.118407</td>\n      <td>0.019921</td>\n      <td>0.041605</td>\n      <td>0.036843</td>\n      <td>-0.035355</td>\n      <td>0.622464</td>\n      <td>-0.509028</td>\n      <td>-0.387211</td>\n    </tr>\n    <tr>\n      <th>Garage Area</th>\n      <td>-0.087186</td>\n      <td>0.192275</td>\n      <td>0.513898</td>\n      <td>-0.123419</td>\n      <td>0.453384</td>\n      <td>0.334505</td>\n      <td>0.288219</td>\n      <td>0.029153</td>\n      <td>0.122256</td>\n      <td>0.432647</td>\n      <td>...</td>\n      <td>0.241502</td>\n      <td>0.199408</td>\n      <td>-0.097806</td>\n      <td>0.029363</td>\n      <td>0.056087</td>\n      <td>0.042375</td>\n      <td>-0.023252</td>\n      <td>0.608802</td>\n      <td>-0.452817</td>\n      <td>-0.334352</td>\n    </tr>\n    <tr>\n      <th>Wood Deck SF</th>\n      <td>-0.016188</td>\n      <td>0.155102</td>\n      <td>0.252358</td>\n      <td>0.024502</td>\n      <td>0.240457</td>\n      <td>0.229900</td>\n      <td>0.219559</td>\n      <td>0.102995</td>\n      <td>-0.042723</td>\n      <td>0.225904</td>\n      <td>...</td>\n      <td>1.000000</td>\n      <td>0.033857</td>\n      <td>-0.118192</td>\n      <td>-0.008070</td>\n      <td>-0.052521</td>\n      <td>0.095632</td>\n      <td>0.025481</td>\n      <td>0.348574</td>\n      <td>-0.239948</td>\n      <td>-0.229698</td>\n    </tr>\n    <tr>\n      <th>Open Porch SF</th>\n      <td>-0.002238</td>\n      <td>0.079923</td>\n      <td>0.273711</td>\n      <td>-0.054211</td>\n      <td>0.165276</td>\n      <td>0.214108</td>\n      <td>0.097805</td>\n      <td>0.007950</td>\n      <td>0.095506</td>\n      <td>0.200963</td>\n      <td>...</td>\n      <td>0.033857</td>\n      <td>1.000000</td>\n      <td>-0.052112</td>\n      <td>-0.017213</td>\n      <td>0.054250</td>\n      <td>0.055806</td>\n      <td>0.019080</td>\n      <td>0.312254</td>\n      <td>-0.166596</td>\n      <td>-0.216575</td>\n    </tr>\n    <tr>\n      <th>Enclosed Porch</th>\n      <td>-0.028138</td>\n      <td>0.023420</td>\n      <td>-0.117172</td>\n      <td>0.061339</td>\n      <td>-0.363411</td>\n      <td>-0.204565</td>\n      <td>-0.109607</td>\n      <td>0.025282</td>\n      <td>0.033981</td>\n      <td>-0.067055</td>\n      <td>...</td>\n      <td>-0.118192</td>\n      <td>-0.052112</td>\n      <td>1.000000</td>\n      <td>-0.032749</td>\n      <td>-0.073777</td>\n      <td>0.096784</td>\n      <td>0.012548</td>\n      <td>-0.113887</td>\n      <td>0.363058</td>\n      <td>0.204370</td>\n    </tr>\n    <tr>\n      <th>3Ssn Porch</th>\n      <td>-0.042322</td>\n      <td>0.017330</td>\n      <td>0.012636</td>\n      <td>0.048156</td>\n      <td>0.010446</td>\n      <td>0.032641</td>\n      <td>0.038481</td>\n      <td>-0.022614</td>\n      <td>0.000828</td>\n      <td>0.030644</td>\n      <td>...</td>\n      <td>-0.008070</td>\n      <td>-0.017213</td>\n      <td>-0.032749</td>\n      <td>1.000000</td>\n      <td>-0.028229</td>\n      <td>-0.006168</td>\n      <td>0.001117</td>\n      <td>0.018963</td>\n      <td>-0.009634</td>\n      <td>-0.031568</td>\n    </tr>\n    <tr>\n      <th>Screen Porch</th>\n      <td>-0.056524</td>\n      <td>0.048550</td>\n      <td>0.043826</td>\n      <td>0.047151</td>\n      <td>-0.037705</td>\n      <td>-0.044149</td>\n      <td>0.093592</td>\n      <td>0.063785</td>\n      <td>-0.047477</td>\n      <td>0.075025</td>\n      <td>...</td>\n      <td>-0.052521</td>\n      <td>0.054250</td>\n      <td>-0.073777</td>\n      <td>-0.028229</td>\n      <td>1.000000</td>\n      <td>0.029158</td>\n      <td>0.011924</td>\n      <td>0.107739</td>\n      <td>0.037287</td>\n      <td>0.043656</td>\n    </tr>\n    <tr>\n      <th>Pool Area</th>\n      <td>-0.005022</td>\n      <td>0.066960</td>\n      <td>0.026253</td>\n      <td>-0.017413</td>\n      <td>0.002531</td>\n      <td>-0.011917</td>\n      <td>0.037927</td>\n      <td>0.045920</td>\n      <td>-0.030640</td>\n      <td>0.027394</td>\n      <td>...</td>\n      <td>0.095632</td>\n      <td>0.055806</td>\n      <td>0.096784</td>\n      <td>-0.006168</td>\n      <td>0.029158</td>\n      <td>1.000000</td>\n      <td>0.015543</td>\n      <td>0.090469</td>\n      <td>-0.005209</td>\n      <td>0.008091</td>\n    </tr>\n    <tr>\n      <th>Misc Val</th>\n      <td>-0.026845</td>\n      <td>0.039774</td>\n      <td>-0.020493</td>\n      <td>0.044763</td>\n      <td>-0.020154</td>\n      <td>-0.009531</td>\n      <td>0.018890</td>\n      <td>-0.005062</td>\n      <td>-0.022434</td>\n      <td>-0.005618</td>\n      <td>...</td>\n      <td>0.025481</td>\n      <td>0.019080</td>\n      <td>0.012548</td>\n      <td>0.001117</td>\n      <td>0.011924</td>\n      <td>0.015543</td>\n      <td>1.000000</td>\n      <td>-0.011022</td>\n      <td>0.020795</td>\n      <td>0.010467</td>\n    </tr>\n    <tr>\n      <th>SalePrice</th>\n      <td>-0.067870</td>\n      <td>0.272263</td>\n      <td>0.785137</td>\n      <td>-0.057481</td>\n      <td>0.539103</td>\n      <td>0.514598</td>\n      <td>0.450672</td>\n      <td>0.040519</td>\n      <td>0.150299</td>\n      <td>0.632745</td>\n      <td>...</td>\n      <td>0.348574</td>\n      <td>0.312254</td>\n      <td>-0.113887</td>\n      <td>0.018963</td>\n      <td>0.107739</td>\n      <td>0.090469</td>\n      <td>-0.011022</td>\n      <td>1.000000</td>\n      <td>-0.538845</td>\n      <td>-0.515419</td>\n    </tr>\n    <tr>\n      <th>Years Before Sale</th>\n      <td>-0.059319</td>\n      <td>-0.013935</td>\n      <td>-0.559275</td>\n      <td>0.346896</td>\n      <td>-0.999016</td>\n      <td>-0.567253</td>\n      <td>-0.311736</td>\n      <td>-0.001486</td>\n      <td>-0.058385</td>\n      <td>-0.379925</td>\n      <td>...</td>\n      <td>-0.239948</td>\n      <td>-0.166596</td>\n      <td>0.363058</td>\n      <td>-0.009634</td>\n      <td>0.037287</td>\n      <td>-0.005209</td>\n      <td>0.020795</td>\n      <td>-0.538845</td>\n      <td>1.000000</td>\n      <td>0.569561</td>\n    </tr>\n    <tr>\n      <th>Years Since Remod</th>\n      <td>-0.069883</td>\n      <td>-0.010825</td>\n      <td>-0.537800</td>\n      <td>-0.092603</td>\n      <td>-0.570100</td>\n      <td>-0.997956</td>\n      <td>-0.158735</td>\n      <td>0.035965</td>\n      <td>-0.106201</td>\n      <td>-0.255564</td>\n      <td>...</td>\n      <td>-0.229698</td>\n      <td>-0.216575</td>\n      <td>0.204370</td>\n      <td>-0.031568</td>\n      <td>0.043656</td>\n      <td>0.008091</td>\n      <td>0.010467</td>\n      <td>-0.515419</td>\n      <td>0.569561</td>\n      <td>1.000000</td>\n    </tr>\n  </tbody>\n</table>\n<p>34 rows × 34 columns</p>\n</div>"
     },
     "execution_count": 204,
     "metadata": {},
     "output_type": "execute_result"
    }
   ],
   "source": [
    "df_corr"
   ],
   "metadata": {
    "collapsed": false,
    "ExecuteTime": {
     "end_time": "2023-11-03T02:39:39.489335Z",
     "start_time": "2023-11-03T02:39:39.461791Z"
    }
   },
   "id": "4ec9abcb0a3b4a2c"
  },
  {
   "cell_type": "code",
   "execution_count": null,
   "outputs": [],
   "source": [],
   "metadata": {
    "collapsed": false
   },
   "id": "450734063c70fb95"
  },
  {
   "cell_type": "code",
   "execution_count": null,
   "outputs": [],
   "source": [
    "# Draft for fixing the Feature Selection    \n",
    "\n",
    "# 1. do the correlation study on SalePrice column of the numerical features. Get rib of the corr less than 0.4\n",
    "\n",
    "# 2. Do the \"Categorical\" Study. \n",
    "#     a. Convert nominal to categical. use the list of norminal_features given by the documentation. \n",
    "#     b. For Categical with more than 10 unique value, drop them. For those less than 10, dummy them. \n",
    "# 3. update the select_features() function. you might also update the transform_features() again."
   ],
   "metadata": {
    "collapsed": false
   },
   "id": "35480bc912440bf6"
  },
  {
   "cell_type": "code",
   "execution_count": 205,
   "outputs": [],
   "source": [
    "df_corr = my_df.corr()\n",
    "target_corr = df_corr['SalePrice'].abs()\n"
   ],
   "metadata": {
    "collapsed": false,
    "ExecuteTime": {
     "end_time": "2023-11-03T02:40:02.754176Z",
     "start_time": "2023-11-03T02:40:02.713436Z"
    }
   },
   "id": "80d601aacc1b6859"
  },
  {
   "cell_type": "code",
   "execution_count": 206,
   "outputs": [],
   "source": [
    "feature_related = target_corr[target_corr>0.4].index.drop('SalePrice')"
   ],
   "metadata": {
    "collapsed": false,
    "ExecuteTime": {
     "end_time": "2023-11-03T02:40:03.431945Z",
     "start_time": "2023-11-03T02:40:03.409097Z"
    }
   },
   "id": "2450815708b07232"
  },
  {
   "cell_type": "code",
   "execution_count": 218,
   "outputs": [
    {
     "data": {
      "text/plain": "25"
     },
     "execution_count": 218,
     "metadata": {},
     "output_type": "execute_result"
    }
   ],
   "source": [
    "len(nominal_features)"
   ],
   "metadata": {
    "collapsed": false,
    "ExecuteTime": {
     "end_time": "2023-11-03T02:49:32.031130Z",
     "start_time": "2023-11-03T02:49:31.979995Z"
    }
   },
   "id": "8f86b5d926068cb3"
  },
  {
   "cell_type": "code",
   "execution_count": 216,
   "outputs": [
    {
     "name": "stdout",
     "output_type": "stream",
     "text": [
      "25\n"
     ]
    }
   ],
   "source": [
    "total = 0\n",
    "for i in house.columns:\n",
    "    \n",
    "    if i in nominal_features:\n",
    "        total += 1 \n",
    "print(total)"
   ],
   "metadata": {
    "collapsed": false,
    "ExecuteTime": {
     "end_time": "2023-11-03T02:48:41.804744Z",
     "start_time": "2023-11-03T02:48:41.766100Z"
    }
   },
   "id": "6b305d4811bbeaa"
  },
  {
   "cell_type": "code",
   "execution_count": 211,
   "outputs": [],
   "source": [
    "## Create a list of column names from documentation that are *meant* to be categorical\n",
    "nominal_features = [\"PID\", \"MS SubClass\", \"MS Zoning\", \"Street\", \"Alley\", \"Land Contour\", \"Lot Config\", \"Neighborhood\", \n",
    "                    \"Condition 1\", \"Condition 2\", \"Bldg Type\", \"House Style\", \"Roof Style\", \"Roof Matl\", \"Exterior 1st\", \n",
    "                    \"Exterior 2nd\", \"Mas Vnr Type\", \"Foundation\", \"Heating\", \"Central Air\", \"Garage Type\", \n",
    "                    \"Misc Feature\", \"Sale Type\", \"Sale Condition\"]"
   ],
   "metadata": {
    "collapsed": false,
    "ExecuteTime": {
     "end_time": "2023-11-03T02:42:48.515064Z",
     "start_time": "2023-11-03T02:42:48.479093Z"
    }
   },
   "id": "d2a413eb4bbe611"
  },
  {
   "cell_type": "code",
   "execution_count": 200,
   "outputs": [
    {
     "name": "stdout",
     "output_type": "stream",
     "text": [
      "[]\n"
     ]
    }
   ],
   "source": [
    "transform_cat_col = []\n",
    "\n",
    "for col in nominal_features:\n",
    "    if col in feature_related:\n",
    "        transform_cat_col.append(col)\n",
    "        \n",
    "print(transform_cat_col)"
   ],
   "metadata": {
    "collapsed": false,
    "ExecuteTime": {
     "end_time": "2023-11-03T02:37:35.688534Z",
     "start_time": "2023-11-03T02:37:35.653174Z"
    }
   },
   "id": "f2c402f1956e4376"
  },
  {
   "cell_type": "code",
   "execution_count": 191,
   "outputs": [
    {
     "data": {
      "text/plain": "Index(['Overall Qual', 'Year Built', 'Year Remod/Add', 'BsmtFin SF 1',\n       'Total Bsmt SF', '1st Flr SF', 'Gr Liv Area', 'Full Bath',\n       'TotRms AbvGrd', 'Fireplaces', 'Garage Cars', 'Garage Area',\n       'Years Before Sale', 'Years Since Remod'],\n      dtype='object')"
     },
     "execution_count": 191,
     "metadata": {},
     "output_type": "execute_result"
    }
   ],
   "source": [
    "feature_related"
   ],
   "metadata": {
    "collapsed": false,
    "ExecuteTime": {
     "end_time": "2023-11-03T02:33:24.805746Z",
     "start_time": "2023-11-03T02:33:24.760125Z"
    }
   },
   "id": "71f74f181810194c"
  },
  {
   "cell_type": "code",
   "execution_count": null,
   "outputs": [],
   "source": [],
   "metadata": {
    "collapsed": false
   },
   "id": "3268e9da5f8a7682"
  },
  {
   "cell_type": "code",
   "execution_count": null,
   "outputs": [],
   "source": [],
   "metadata": {
    "collapsed": false
   },
   "id": "4798a676e929204f"
  },
  {
   "cell_type": "code",
   "execution_count": null,
   "outputs": [],
   "source": [
    "import seaborn as sns\n",
    "import matplotlib.pyplot as plt\n",
    "fig, ax = plt.subplots(figsize=(10, 10))\n",
    "sns.heatmap(df_corr, ax=ax)"
   ],
   "metadata": {
    "collapsed": false
   },
   "id": "3fa0487907271643"
  },
  {
   "cell_type": "code",
   "execution_count": null,
   "outputs": [],
   "source": [
    "df_corr.shape"
   ],
   "metadata": {
    "collapsed": false
   },
   "id": "f8132b8fade5d9a7"
  },
  {
   "cell_type": "code",
   "execution_count": null,
   "outputs": [],
   "source": [
    "SalePrice_corr_features= df_corr['SalePrice']"
   ],
   "metadata": {
    "collapsed": false
   },
   "id": "43b9ac32d84fb05b"
  },
  {
   "cell_type": "code",
   "execution_count": null,
   "outputs": [],
   "source": [
    "SalePrice_corr_features.sort_values(ascending=False)"
   ],
   "metadata": {
    "collapsed": false
   },
   "id": "16f3f1016de81c58"
  },
  {
   "cell_type": "code",
   "execution_count": null,
   "outputs": [],
   "source": [],
   "metadata": {
    "collapsed": false
   },
   "id": "e8c98c7640b7560f"
  },
  {
   "cell_type": "code",
   "execution_count": null,
   "outputs": [],
   "source": [
    "    "
   ],
   "metadata": {
    "collapsed": false
   },
   "id": "9ca4104d6accdc1d"
  },
  {
   "cell_type": "code",
   "execution_count": 78,
   "outputs": [
    {
     "name": "stdout",
     "output_type": "stream",
     "text": [
      "SalePrice            1.000000\n",
      "Overall Qual         0.801206\n",
      "Gr Liv Area          0.717596\n",
      "Garage Cars          0.648361\n",
      "Total Bsmt SF        0.644012\n",
      "Garage Area          0.641425\n",
      "1st Flr SF           0.635185\n",
      "Year Built           0.558490\n",
      "Full Bath            0.546118\n",
      "Year Remod/Add       0.533007\n",
      "TotRms AbvGrd        0.498574\n",
      "Fireplaces           0.474831\n",
      "BsmtFin SF 1         0.439284\n",
      "Wood Deck SF         0.328183\n",
      "Open Porch SF        0.316262\n",
      "Half Bath            0.284871\n",
      "Bsmt Full Bath       0.276258\n",
      "2nd Flr SF           0.269601\n",
      "Lot Area             0.267520\n",
      "Bsmt Unf SF          0.182751\n",
      "Bedroom AbvGr        0.143916\n",
      "Screen Porch         0.112280\n",
      "Pool Area            0.068438\n",
      "Mo Sold              0.035273\n",
      "3Ssn Porch           0.032268\n",
      "BsmtFin SF 2         0.006127\n",
      "Misc Val            -0.019273\n",
      "Yr Sold             -0.030358\n",
      "Bsmt Half Bath      -0.035875\n",
      "Low Qual Fin SF     -0.037629\n",
      "MS SubClass         -0.085128\n",
      "Overall Cond        -0.101540\n",
      "Kitchen AbvGr       -0.119760\n",
      "Enclosed Porch      -0.128685\n",
      "Years Since Remod   -0.534985\n",
      "Years Before Sale         NaN\n",
      "Name: SalePrice, dtype: float64\n"
     ]
    }
   ],
   "source": [
    "print(imputed_df.corr()['SalePrice'].sort_values(ascending=False))"
   ],
   "metadata": {
    "collapsed": false,
    "ExecuteTime": {
     "end_time": "2023-11-02T13:22:20.231537Z",
     "start_time": "2023-11-02T13:22:20.206727Z"
    }
   },
   "id": "8c6ab67ed28c5731"
  },
  {
   "cell_type": "code",
   "execution_count": null,
   "outputs": [],
   "source": [],
   "metadata": {
    "collapsed": false
   },
   "id": "115a9b4d1225ee35"
  },
  {
   "cell_type": "code",
   "execution_count": null,
   "outputs": [],
   "source": [],
   "metadata": {
    "collapsed": false
   },
   "id": "b99086f2b0372e74"
  },
  {
   "cell_type": "code",
   "execution_count": null,
   "outputs": [],
   "source": [],
   "metadata": {
    "collapsed": false
   },
   "id": "3423d5efb24f67e5"
  },
  {
   "cell_type": "code",
   "execution_count": 227,
   "outputs": [],
   "source": [],
   "metadata": {
    "collapsed": false,
    "ExecuteTime": {
     "end_time": "2023-11-03T03:13:38.958460Z",
     "start_time": "2023-11-03T03:13:38.826727Z"
    }
   },
   "id": "e8cfdbc4cca8939"
  },
  {
   "cell_type": "code",
   "execution_count": null,
   "outputs": [],
   "source": [
    "======"
   ],
   "metadata": {
    "collapsed": false
   },
   "id": "d2d9b646fa5bbc19"
  },
  {
   "cell_type": "code",
   "execution_count": 228,
   "outputs": [
    {
     "data": {
      "text/plain": "(2930, 82)"
     },
     "execution_count": 228,
     "metadata": {},
     "output_type": "execute_result"
    }
   ],
   "source": [
    "house.shape"
   ],
   "metadata": {
    "collapsed": false,
    "ExecuteTime": {
     "end_time": "2023-11-03T03:13:50.932631Z",
     "start_time": "2023-11-03T03:13:50.840957Z"
    }
   },
   "id": "c3a9c8ed5a8e2789"
  },
  {
   "cell_type": "code",
   "execution_count": 229,
   "outputs": [],
   "source": [
    "temp = ((house.isnull().sum() / house.shape[1])> 0.05)\n",
    "\n",
    "more_5pc_column = ([index for index, value in temp.items() if value == False])\n",
    "\n"
   ],
   "metadata": {
    "collapsed": false,
    "ExecuteTime": {
     "end_time": "2023-11-03T03:15:16.340897Z",
     "start_time": "2023-11-03T03:15:16.108835Z"
    }
   },
   "id": "b546c2ff252f183f"
  },
  {
   "cell_type": "code",
   "execution_count": 232,
   "outputs": [
    {
     "data": {
      "text/plain": "64"
     },
     "execution_count": 232,
     "metadata": {},
     "output_type": "execute_result"
    }
   ],
   "source": [
    "len(more_5pc_column)"
   ],
   "metadata": {
    "collapsed": false,
    "ExecuteTime": {
     "end_time": "2023-11-03T03:16:25.268311Z",
     "start_time": "2023-11-03T03:16:25.166332Z"
    }
   },
   "id": "68497cfc8257ecb8"
  },
  {
   "cell_type": "code",
   "execution_count": 233,
   "outputs": [
    {
     "data": {
      "text/plain": "2930"
     },
     "execution_count": 233,
     "metadata": {},
     "output_type": "execute_result"
    }
   ],
   "source": [
    "len(house)"
   ],
   "metadata": {
    "collapsed": false,
    "ExecuteTime": {
     "end_time": "2023-11-03T03:21:18.447586Z",
     "start_time": "2023-11-03T03:21:18.285486Z"
    }
   },
   "id": "824dcaf0238f150e"
  },
  {
   "cell_type": "code",
   "execution_count": null,
   "outputs": [],
   "source": [],
   "metadata": {
    "collapsed": false
   },
   "id": "7c7cf38076410f2c"
  },
  {
   "cell_type": "code",
   "execution_count": 267,
   "outputs": [
    {
     "data": {
      "text/plain": "['1', '2', '3', '3', '4', '5']"
     },
     "execution_count": 267,
     "metadata": {},
     "output_type": "execute_result"
    }
   ],
   "source": [
    "a = ['1','2','3']\n",
    "b = ['3','4','5']\n",
    "\n",
    "a + b"
   ],
   "metadata": {
    "collapsed": false,
    "ExecuteTime": {
     "end_time": "2023-11-03T03:57:40.701196Z",
     "start_time": "2023-11-03T03:57:40.441354Z"
    }
   },
   "id": "1734727dbad4499a"
  },
  {
   "cell_type": "code",
   "execution_count": 276,
   "outputs": [],
   "source": [
    "list1 = house.columns[:4].tolist()"
   ],
   "metadata": {
    "collapsed": false,
    "ExecuteTime": {
     "end_time": "2023-11-03T04:00:07.914737Z",
     "start_time": "2023-11-03T04:00:07.820373Z"
    }
   },
   "id": "1abb451b456d0bdd"
  },
  {
   "cell_type": "code",
   "execution_count": 277,
   "outputs": [],
   "source": [
    " list2= house.columns[2:5].tolist()"
   ],
   "metadata": {
    "collapsed": false,
    "ExecuteTime": {
     "end_time": "2023-11-03T04:00:09.408245Z",
     "start_time": "2023-11-03T04:00:09.294222Z"
    }
   },
   "id": "896966da846b665b"
  },
  {
   "cell_type": "code",
   "execution_count": 278,
   "outputs": [],
   "source": [
    "my_df = house[list1] + house[list2]"
   ],
   "metadata": {
    "collapsed": false,
    "ExecuteTime": {
     "end_time": "2023-11-03T04:00:12.433633Z",
     "start_time": "2023-11-03T04:00:12.280359Z"
    }
   },
   "id": "3c5aab973272732f"
  },
  {
   "cell_type": "code",
   "execution_count": 281,
   "outputs": [
    {
     "data": {
      "text/plain": "['Order', 'PID', 'MS SubClass', 'MS Zoning']"
     },
     "execution_count": 281,
     "metadata": {},
     "output_type": "execute_result"
    }
   ],
   "source": [
    "list1"
   ],
   "metadata": {
    "collapsed": false,
    "ExecuteTime": {
     "end_time": "2023-11-03T04:01:03.174754Z",
     "start_time": "2023-11-03T04:01:03.034946Z"
    }
   },
   "id": "36ae47f7add3ccb4"
  },
  {
   "cell_type": "code",
   "execution_count": 282,
   "outputs": [
    {
     "data": {
      "text/plain": "['MS SubClass', 'MS Zoning', 'Lot Frontage']"
     },
     "execution_count": 282,
     "metadata": {},
     "output_type": "execute_result"
    }
   ],
   "source": [
    "list2"
   ],
   "metadata": {
    "collapsed": false,
    "ExecuteTime": {
     "end_time": "2023-11-03T04:01:06.028245Z",
     "start_time": "2023-11-03T04:01:05.860308Z"
    }
   },
   "id": "4440b0f1d1a6f021"
  },
  {
   "cell_type": "code",
   "execution_count": 280,
   "outputs": [
    {
     "data": {
      "text/plain": "Index(['Lot Frontage', 'MS SubClass', 'MS Zoning', 'Order', 'PID'], dtype='object')"
     },
     "execution_count": 280,
     "metadata": {},
     "output_type": "execute_result"
    }
   ],
   "source": [
    "my_df.columns"
   ],
   "metadata": {
    "collapsed": false,
    "ExecuteTime": {
     "end_time": "2023-11-03T04:00:26.670001Z",
     "start_time": "2023-11-03T04:00:26.490407Z"
    }
   },
   "id": "8234bcc3f5654316"
  },
  {
   "cell_type": "code",
   "execution_count": null,
   "outputs": [],
   "source": [],
   "metadata": {
    "collapsed": false
   },
   "id": "7645621abce94730"
  }
 ],
 "metadata": {
  "kernelspec": {
   "display_name": "Python 3",
   "language": "python",
   "name": "python3"
  },
  "language_info": {
   "codemirror_mode": {
    "name": "ipython",
    "version": 2
   },
   "file_extension": ".py",
   "mimetype": "text/x-python",
   "name": "python",
   "nbconvert_exporter": "python",
   "pygments_lexer": "ipython2",
   "version": "2.7.6"
  }
 },
 "nbformat": 4,
 "nbformat_minor": 5
}
