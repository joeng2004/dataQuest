{
 "cells": [
  {
   "cell_type": "markdown",
   "source": [
    "# Section D: Linear Regression for Machine Learning\n",
    "# Part 1: The Linear Regression Model\n"
   ],
   "metadata": {
    "collapsed": false
   },
   "id": "c572cf6c784308d2"
  },
  {
   "cell_type": "code",
   "execution_count": 2,
   "outputs": [
    {
     "name": "stdout",
     "output_type": "stream",
     "text": [
      "<class 'pandas.core.frame.DataFrame'>\n",
      "RangeIndex: 1460 entries, 0 to 1459\n",
      "Data columns (total 82 columns):\n",
      " #   Column           Non-Null Count  Dtype  \n",
      "---  ------           --------------  -----  \n",
      " 0   Order            1460 non-null   int64  \n",
      " 1   PID              1460 non-null   int64  \n",
      " 2   MS SubClass      1460 non-null   int64  \n",
      " 3   MS Zoning        1460 non-null   object \n",
      " 4   Lot Frontage     1211 non-null   float64\n",
      " 5   Lot Area         1460 non-null   int64  \n",
      " 6   Street           1460 non-null   object \n",
      " 7   Alley            109 non-null    object \n",
      " 8   Lot Shape        1460 non-null   object \n",
      " 9   Land Contour     1460 non-null   object \n",
      " 10  Utilities        1460 non-null   object \n",
      " 11  Lot Config       1460 non-null   object \n",
      " 12  Land Slope       1460 non-null   object \n",
      " 13  Neighborhood     1460 non-null   object \n",
      " 14  Condition 1      1460 non-null   object \n",
      " 15  Condition 2      1460 non-null   object \n",
      " 16  Bldg Type        1460 non-null   object \n",
      " 17  House Style      1460 non-null   object \n",
      " 18  Overall Qual     1460 non-null   int64  \n",
      " 19  Overall Cond     1460 non-null   int64  \n",
      " 20  Year Built       1460 non-null   int64  \n",
      " 21  Year Remod/Add   1460 non-null   int64  \n",
      " 22  Roof Style       1460 non-null   object \n",
      " 23  Roof Matl        1460 non-null   object \n",
      " 24  Exterior 1st     1460 non-null   object \n",
      " 25  Exterior 2nd     1460 non-null   object \n",
      " 26  Mas Vnr Type     578 non-null    object \n",
      " 27  Mas Vnr Area     1449 non-null   float64\n",
      " 28  Exter Qual       1460 non-null   object \n",
      " 29  Exter Cond       1460 non-null   object \n",
      " 30  Foundation       1460 non-null   object \n",
      " 31  Bsmt Qual        1420 non-null   object \n",
      " 32  Bsmt Cond        1420 non-null   object \n",
      " 33  Bsmt Exposure    1419 non-null   object \n",
      " 34  BsmtFin Type 1   1420 non-null   object \n",
      " 35  BsmtFin SF 1     1459 non-null   float64\n",
      " 36  BsmtFin Type 2   1419 non-null   object \n",
      " 37  BsmtFin SF 2     1459 non-null   float64\n",
      " 38  Bsmt Unf SF      1459 non-null   float64\n",
      " 39  Total Bsmt SF    1459 non-null   float64\n",
      " 40  Heating          1460 non-null   object \n",
      " 41  Heating QC       1460 non-null   object \n",
      " 42  Central Air      1460 non-null   object \n",
      " 43  Electrical       1460 non-null   object \n",
      " 44  1st Flr SF       1460 non-null   int64  \n",
      " 45  2nd Flr SF       1460 non-null   int64  \n",
      " 46  Low Qual Fin SF  1460 non-null   int64  \n",
      " 47  Gr Liv Area      1460 non-null   int64  \n",
      " 48  Bsmt Full Bath   1459 non-null   float64\n",
      " 49  Bsmt Half Bath   1459 non-null   float64\n",
      " 50  Full Bath        1460 non-null   int64  \n",
      " 51  Half Bath        1460 non-null   int64  \n",
      " 52  Bedroom AbvGr    1460 non-null   int64  \n",
      " 53  Kitchen AbvGr    1460 non-null   int64  \n",
      " 54  Kitchen Qual     1460 non-null   object \n",
      " 55  TotRms AbvGrd    1460 non-null   int64  \n",
      " 56  Functional       1460 non-null   object \n",
      " 57  Fireplaces       1460 non-null   int64  \n",
      " 58  Fireplace Qu     743 non-null    object \n",
      " 59  Garage Type      1386 non-null   object \n",
      " 60  Garage Yr Blt    1385 non-null   float64\n",
      " 61  Garage Finish    1385 non-null   object \n",
      " 62  Garage Cars      1460 non-null   float64\n",
      " 63  Garage Area      1460 non-null   float64\n",
      " 64  Garage Qual      1385 non-null   object \n",
      " 65  Garage Cond      1385 non-null   object \n",
      " 66  Paved Drive      1460 non-null   object \n",
      " 67  Wood Deck SF     1460 non-null   int64  \n",
      " 68  Open Porch SF    1460 non-null   int64  \n",
      " 69  Enclosed Porch   1460 non-null   int64  \n",
      " 70  3Ssn Porch       1460 non-null   int64  \n",
      " 71  Screen Porch     1460 non-null   int64  \n",
      " 72  Pool Area        1460 non-null   int64  \n",
      " 73  Pool QC          1 non-null      object \n",
      " 74  Fence            297 non-null    object \n",
      " 75  Misc Feature     60 non-null     object \n",
      " 76  Misc Val         1460 non-null   int64  \n",
      " 77  Mo Sold          1460 non-null   int64  \n",
      " 78  Yr Sold          1460 non-null   int64  \n",
      " 79  Sale Type        1460 non-null   object \n",
      " 80  Sale Condition   1460 non-null   object \n",
      " 81  SalePrice        1460 non-null   int64  \n",
      "dtypes: float64(11), int64(28), object(43)\n",
      "memory usage: 935.4+ KB\n",
      "None\n"
     ]
    }
   ],
   "source": [
    "import pandas as pd\n",
    "data = pd.read_csv('AmesHousing.txt', delimiter='\\t')\n",
    "\n",
    "train = data[:1460]\n",
    "test = data[1460:]\n",
    "print(train.info())\n",
    "target = 'SalePrice'"
   ],
   "metadata": {
    "collapsed": false,
    "ExecuteTime": {
     "end_time": "2023-10-31T15:14:23.662648Z",
     "start_time": "2023-10-31T15:14:23.599637Z"
    }
   },
   "id": "50d6098012fcc303"
  },
  {
   "cell_type": "code",
   "execution_count": 3,
   "outputs": [
    {
     "data": {
      "text/plain": "<Figure size 504x1080 with 3 Axes>",
      "image/png": "[encoded data removed]"
     },
     "metadata": {
      "needs_background": "light"
     },
     "output_type": "display_data"
    }
   ],
   "source": [
    "import matplotlib.pyplot as plt\n",
    "fig = plt.figure(figsize=(7,15))\n",
    "\n",
    "ax1 = fig.add_subplot(3, 1, 1)\n",
    "ax2 = fig.add_subplot(3, 1, 2)\n",
    "ax3 = fig.add_subplot(3, 1, 3)\n",
    "\n",
    "train.plot(x=\"Garage Area\", y=\"SalePrice\", ax=ax1, kind=\"scatter\")\n",
    "train.plot(x=\"Gr Liv Area\", y=\"SalePrice\", ax=ax2, kind=\"scatter\")\n",
    "train.plot(x=\"Overall Cond\", y=\"SalePrice\", ax=ax3, kind=\"scatter\")\n",
    "\n",
    "plt.show()\n"
   ],
   "metadata": {
    "collapsed": false,
    "ExecuteTime": {
     "end_time": "2023-10-31T15:15:01.767529Z",
     "start_time": "2023-10-31T15:15:01.090568Z"
    }
   },
   "id": "6e67c8bb206ba01e"
  },
  {
   "cell_type": "code",
   "execution_count": 4,
   "outputs": [
    {
     "name": "stdout",
     "output_type": "stream",
     "text": [
      "[116.86624683]\n",
      "5366.821710056043\n"
     ]
    }
   ],
   "source": [
    "# For the middle figure \n",
    "\n",
    "from sklearn.linear_model import LinearRegression\n",
    "lr = LinearRegression()\n",
    "lr.fit(train[['Gr Liv Area']], train['SalePrice'])\n",
    "print(lr.coef_)\n",
    "print(lr.intercept_)\n",
    "\n",
    "a0 = lr.intercept_\n",
    "a1 = lr.coef_"
   ],
   "metadata": {
    "collapsed": false,
    "ExecuteTime": {
     "end_time": "2023-10-31T15:16:35.201040Z",
     "start_time": "2023-10-31T15:16:34.282337Z"
    }
   },
   "id": "ad4a9b4310546952"
  },
  {
   "cell_type": "code",
   "execution_count": 20,
   "outputs": [],
   "source": [
    "# Now we do the prediction \n",
    "import numpy as np\n",
    "from sklearn.metrics import mean_squared_error\n",
    "\n",
    "train_predictions = lr.predict(train[['Gr Liv Area']])\n",
    "test_predictions = lr.predict(test[['Gr Liv Area']])\n",
    "\n"
   ],
   "metadata": {
    "collapsed": false,
    "ExecuteTime": {
     "end_time": "2023-10-31T15:31:54.782211Z",
     "start_time": "2023-10-31T15:31:54.753550Z"
    }
   },
   "id": "568cc2ef30bd7967"
  },
  {
   "cell_type": "code",
   "execution_count": 22,
   "outputs": [
    {
     "name": "stdout",
     "output_type": "stream",
     "text": [
      "56034.362001412796 57088.25161263909\n"
     ]
    }
   ],
   "source": [
    "train_mse = mean_squared_error(train_predictions, train['SalePrice'])\n",
    "test_mse = mean_squared_error(test_predictions,test['SalePrice'])\n",
    "\n",
    "train_rmse = np.sqrt(train_mse)\n",
    "test_rmse = np.sqrt(test_mse)\n",
    "\n",
    "print(train_rmse, test_rmse)"
   ],
   "metadata": {
    "collapsed": false,
    "ExecuteTime": {
     "end_time": "2023-10-31T15:32:07.005684Z",
     "start_time": "2023-10-31T15:32:06.972648Z"
    }
   },
   "id": "8442689cd2cf76e6"
  },
  {
   "cell_type": "markdown",
   "source": [
    "## 7. Multiple Linear Regression "
   ],
   "metadata": {
    "collapsed": false
   },
   "id": "445f0e7901067836"
  },
  {
   "cell_type": "code",
   "execution_count": 24,
   "outputs": [
    {
     "name": "stdout",
     "output_type": "stream",
     "text": [
      "56032.39801525867\n",
      "57066.90779448559\n"
     ]
    }
   ],
   "source": [
    "cols = ['Overall Cond', 'Gr Liv Area']\n",
    "lr.fit(train[cols], train['SalePrice'])\n",
    "train_predictions = lr.predict(train[cols])\n",
    "test_predictions = lr.predict(test[cols])\n",
    "train_rmse_2 = np.sqrt (mean_squared_error (train_predictions,\n",
    "                                            train['SalePrice']))\n",
    "test_rmse_2 = np.sqrt (mean_squared_error (test_predictions,\n",
    "                                           test['SalePrice']))\n",
    "print (train_rmse_2)\n",
    "print(test_rmse_2)"
   ],
   "metadata": {
    "collapsed": false,
    "ExecuteTime": {
     "end_time": "2023-10-31T15:34:23.863668Z",
     "start_time": "2023-10-31T15:34:23.854956Z"
    }
   },
   "id": "3fe8f60eaf3294aa"
  },
  {
   "cell_type": "markdown",
   "source": [
    "# Part II. Feature Selection"
   ],
   "metadata": {
    "collapsed": false
   },
   "id": "795bfbf5f91c071"
  },
  {
   "cell_type": "code",
   "execution_count": 1,
   "outputs": [],
   "source": [
    "import pandas as pd"
   ],
   "metadata": {
    "collapsed": false,
    "ExecuteTime": {
     "end_time": "2023-11-01T13:07:50.526559Z",
     "start_time": "2023-11-01T13:07:50.524686Z"
    }
   },
   "id": "9eacbd74cf00078e"
  },
  {
   "cell_type": "code",
   "execution_count": 4,
   "outputs": [],
   "source": [
    "data = pd.read_csv('AmesHousing.txt',delimiter='\\t')\n",
    "train = data[:1460]\n",
    "test= data[1460:]"
   ],
   "metadata": {
    "collapsed": false,
    "ExecuteTime": {
     "end_time": "2023-11-01T13:09:02.915844Z",
     "start_time": "2023-11-01T13:09:02.858279Z"
    }
   },
   "id": "7a8a5042993cf78c"
  },
  {
   "cell_type": "code",
   "execution_count": 5,
   "outputs": [
    {
     "data": {
      "text/plain": "   Order        PID  MS SubClass MS Zoning  Lot Frontage  Lot Area Street   \n0      1  526301100           20        RL         141.0     31770   Pave  \\\n1      2  526350040           20        RH          80.0     11622   Pave   \n2      3  526351010           20        RL          81.0     14267   Pave   \n3      4  526353030           20        RL          93.0     11160   Pave   \n4      5  527105010           60        RL          74.0     13830   Pave   \n\n  Alley Lot Shape Land Contour  ... Pool Area Pool QC  Fence Misc Feature   \n0   NaN       IR1          Lvl  ...         0     NaN    NaN          NaN  \\\n1   NaN       Reg          Lvl  ...         0     NaN  MnPrv          NaN   \n2   NaN       IR1          Lvl  ...         0     NaN    NaN         Gar2   \n3   NaN       Reg          Lvl  ...         0     NaN    NaN          NaN   \n4   NaN       IR1          Lvl  ...         0     NaN  MnPrv          NaN   \n\n  Misc Val Mo Sold Yr Sold Sale Type  Sale Condition  SalePrice  \n0        0       5    2010       WD           Normal     215000  \n1        0       6    2010       WD           Normal     105000  \n2    12500       6    2010       WD           Normal     172000  \n3        0       4    2010       WD           Normal     244000  \n4        0       3    2010       WD           Normal     189900  \n\n[5 rows x 82 columns]",
      "text/html": "<div>\n<style scoped>\n    .dataframe tbody tr th:only-of-type {\n        vertical-align: middle;\n    }\n\n    .dataframe tbody tr th {\n        vertical-align: top;\n    }\n\n    .dataframe thead th {\n        text-align: right;\n    }\n</style>\n<table border=\"1\" class=\"dataframe\">\n  <thead>\n    <tr style=\"text-align: right;\">\n      <th></th>\n      <th>Order</th>\n      <th>PID</th>\n      <th>MS SubClass</th>\n      <th>MS Zoning</th>\n      <th>Lot Frontage</th>\n      <th>Lot Area</th>\n      <th>Street</th>\n      <th>Alley</th>\n      <th>Lot Shape</th>\n      <th>Land Contour</th>\n      <th>...</th>\n      <th>Pool Area</th>\n      <th>Pool QC</th>\n      <th>Fence</th>\n      <th>Misc Feature</th>\n      <th>Misc Val</th>\n      <th>Mo Sold</th>\n      <th>Yr Sold</th>\n      <th>Sale Type</th>\n      <th>Sale Condition</th>\n      <th>SalePrice</th>\n    </tr>\n  </thead>\n  <tbody>\n    <tr>\n      <th>0</th>\n      <td>1</td>\n      <td>526301100</td>\n      <td>20</td>\n      <td>RL</td>\n      <td>141.0</td>\n      <td>31770</td>\n      <td>Pave</td>\n      <td>NaN</td>\n      <td>IR1</td>\n      <td>Lvl</td>\n      <td>...</td>\n      <td>0</td>\n      <td>NaN</td>\n      <td>NaN</td>\n      <td>NaN</td>\n      <td>0</td>\n      <td>5</td>\n      <td>2010</td>\n      <td>WD</td>\n      <td>Normal</td>\n      <td>215000</td>\n    </tr>\n    <tr>\n      <th>1</th>\n      <td>2</td>\n      <td>526350040</td>\n      <td>20</td>\n      <td>RH</td>\n      <td>80.0</td>\n      <td>11622</td>\n      <td>Pave</td>\n      <td>NaN</td>\n      <td>Reg</td>\n      <td>Lvl</td>\n      <td>...</td>\n      <td>0</td>\n      <td>NaN</td>\n      <td>MnPrv</td>\n      <td>NaN</td>\n      <td>0</td>\n      <td>6</td>\n      <td>2010</td>\n      <td>WD</td>\n      <td>Normal</td>\n      <td>105000</td>\n    </tr>\n    <tr>\n      <th>2</th>\n      <td>3</td>\n      <td>526351010</td>\n      <td>20</td>\n      <td>RL</td>\n      <td>81.0</td>\n      <td>14267</td>\n      <td>Pave</td>\n      <td>NaN</td>\n      <td>IR1</td>\n      <td>Lvl</td>\n      <td>...</td>\n      <td>0</td>\n      <td>NaN</td>\n      <td>NaN</td>\n      <td>Gar2</td>\n      <td>12500</td>\n      <td>6</td>\n      <td>2010</td>\n      <td>WD</td>\n      <td>Normal</td>\n      <td>172000</td>\n    </tr>\n    <tr>\n      <th>3</th>\n      <td>4</td>\n      <td>526353030</td>\n      <td>20</td>\n      <td>RL</td>\n      <td>93.0</td>\n      <td>11160</td>\n      <td>Pave</td>\n      <td>NaN</td>\n      <td>Reg</td>\n      <td>Lvl</td>\n      <td>...</td>\n      <td>0</td>\n      <td>NaN</td>\n      <td>NaN</td>\n      <td>NaN</td>\n      <td>0</td>\n      <td>4</td>\n      <td>2010</td>\n      <td>WD</td>\n      <td>Normal</td>\n      <td>244000</td>\n    </tr>\n    <tr>\n      <th>4</th>\n      <td>5</td>\n      <td>527105010</td>\n      <td>60</td>\n      <td>RL</td>\n      <td>74.0</td>\n      <td>13830</td>\n      <td>Pave</td>\n      <td>NaN</td>\n      <td>IR1</td>\n      <td>Lvl</td>\n      <td>...</td>\n      <td>0</td>\n      <td>NaN</td>\n      <td>MnPrv</td>\n      <td>NaN</td>\n      <td>0</td>\n      <td>3</td>\n      <td>2010</td>\n      <td>WD</td>\n      <td>Normal</td>\n      <td>189900</td>\n    </tr>\n  </tbody>\n</table>\n<p>5 rows × 82 columns</p>\n</div>"
     },
     "execution_count": 5,
     "metadata": {},
     "output_type": "execute_result"
    }
   ],
   "source": [
    "train.head()"
   ],
   "metadata": {
    "collapsed": false,
    "ExecuteTime": {
     "end_time": "2023-11-01T13:09:03.428595Z",
     "start_time": "2023-11-01T13:09:03.421262Z"
    }
   },
   "id": "62568cfb9e0f66ea"
  },
  {
   "cell_type": "code",
   "execution_count": null,
   "outputs": [],
   "source": [],
   "metadata": {
    "collapsed": false
   },
   "id": "e25d171e9139a717"
  },
  {
   "cell_type": "markdown",
   "source": [
    "# 1. Missing value\n",
    "\n"
   ],
   "metadata": {
    "collapsed": false
   },
   "id": "8973c91f4a770a1d"
  },
  {
   "cell_type": "code",
   "execution_count": 7,
   "outputs": [],
   "source": [
    "numerical_train = [col for col in train.columns \n",
    "                   if (train[col].dtype == 'int' or\n",
    "                       train[col].dtype == 'float')]"
   ],
   "metadata": {
    "collapsed": false,
    "ExecuteTime": {
     "end_time": "2023-11-01T13:11:41.573356Z",
     "start_time": "2023-11-01T13:11:41.557250Z"
    }
   },
   "id": "6fb3793c1f46e453"
  },
  {
   "cell_type": "code",
   "execution_count": 10,
   "outputs": [
    {
     "data": {
      "text/plain": "39"
     },
     "execution_count": 10,
     "metadata": {},
     "output_type": "execute_result"
    }
   ],
   "source": [
    "len(numerical_train)"
   ],
   "metadata": {
    "collapsed": false,
    "ExecuteTime": {
     "end_time": "2023-11-01T13:12:55.310454Z",
     "start_time": "2023-11-01T13:12:55.289261Z"
    }
   },
   "id": "c10cd2e23d9fa8e5"
  },
  {
   "cell_type": "code",
   "execution_count": 12,
   "outputs": [
    {
     "ename": "ValueError",
     "evalue": "list.remove(x): x not in list",
     "output_type": "error",
     "traceback": [
      "\u001B[0;31m---------------------------------------------------------------------------\u001B[0m",
      "\u001B[0;31mValueError\u001B[0m                                Traceback (most recent call last)",
      "\u001B[0;32m<ipython-input-12-cf22bc441b76>\u001B[0m in \u001B[0;36m<module>\u001B[0;34m\u001B[0m\n\u001B[0;32m----> 1\u001B[0;31m \u001B[0mnumerical_train\u001B[0m\u001B[0;34m.\u001B[0m\u001B[0mremove\u001B[0m\u001B[0;34m(\u001B[0m\u001B[0;34m[\u001B[0m\u001B[0;34m'PID'\u001B[0m\u001B[0;34m]\u001B[0m\u001B[0;34m)\u001B[0m\u001B[0;34m\u001B[0m\u001B[0;34m\u001B[0m\u001B[0m\n\u001B[0m",
      "\u001B[0;31mValueError\u001B[0m: list.remove(x): x not in list"
     ]
    }
   ],
   "source": [
    "numerical_train.remove(['PID'])"
   ],
   "metadata": {
    "collapsed": false,
    "ExecuteTime": {
     "end_time": "2023-11-01T13:14:24.970891Z",
     "start_time": "2023-11-01T13:14:24.932937Z"
    }
   },
   "id": "a4ac34818a215c89"
  },
  {
   "cell_type": "code",
   "execution_count": 15,
   "outputs": [],
   "source": [
    "remove_items = ['PID','Year Built', 'Year Remod/Add',\n",
    "                'Garage Yr Blt','Mo Sold','Yr Sold']"
   ],
   "metadata": {
    "collapsed": false,
    "ExecuteTime": {
     "end_time": "2023-11-01T13:18:36.546473Z",
     "start_time": "2023-11-01T13:18:36.499748Z"
    }
   },
   "id": "9137f3e2d0c1e037"
  },
  {
   "cell_type": "code",
   "execution_count": 20,
   "outputs": [
    {
     "data": {
      "text/plain": "['Order',\n 'PID',\n 'MS SubClass',\n 'Lot Frontage',\n 'Lot Area',\n 'Overall Qual',\n 'Overall Cond',\n 'Year Built',\n 'Year Remod/Add',\n 'Mas Vnr Area',\n 'BsmtFin SF 1',\n 'BsmtFin SF 2',\n 'Bsmt Unf SF',\n 'Total Bsmt SF',\n '1st Flr SF',\n '2nd Flr SF',\n 'Low Qual Fin SF',\n 'Gr Liv Area',\n 'Bsmt Full Bath',\n 'Bsmt Half Bath',\n 'Full Bath',\n 'Half Bath',\n 'Bedroom AbvGr',\n 'Kitchen AbvGr',\n 'TotRms AbvGrd',\n 'Fireplaces',\n 'Garage Yr Blt',\n 'Garage Cars',\n 'Garage Area',\n 'Wood Deck SF',\n 'Open Porch SF',\n 'Enclosed Porch',\n '3Ssn Porch',\n 'Screen Porch',\n 'Pool Area',\n 'Misc Val',\n 'Mo Sold',\n 'Yr Sold',\n 'SalePrice']"
     },
     "execution_count": 20,
     "metadata": {},
     "output_type": "execute_result"
    }
   ],
   "source": [
    "numerical_train"
   ],
   "metadata": {
    "collapsed": false,
    "ExecuteTime": {
     "end_time": "2023-11-01T13:21:07.307822Z",
     "start_time": "2023-11-01T13:21:07.273764Z"
    }
   },
   "id": "93a3bb5bd0eb541a"
  },
  {
   "cell_type": "code",
   "execution_count": 25,
   "outputs": [],
   "source": [
    "numerical_train = [x for x in numerical_train if x not in remove_items]"
   ],
   "metadata": {
    "collapsed": false,
    "ExecuteTime": {
     "end_time": "2023-11-01T13:23:37.196301Z",
     "start_time": "2023-11-01T13:23:37.170300Z"
    }
   },
   "id": "fb0e639caddb3c27"
  },
  {
   "cell_type": "code",
   "execution_count": 97,
   "outputs": [],
   "source": [
    "# check the missing value in numerical_train\n",
    "# train[numerical_train] for x in numerical_train if x.\n",
    "null_series = data[numerical_train].isnull().sum()"
   ],
   "metadata": {
    "collapsed": false,
    "ExecuteTime": {
     "end_time": "2023-11-01T15:10:40.995910Z",
     "start_time": "2023-11-01T15:10:40.941332Z"
    }
   },
   "id": "6a4ee2d44733791d"
  },
  {
   "cell_type": "code",
   "execution_count": 98,
   "outputs": [],
   "source": [
    "full_cols_series = null_series[null_series.values == 0]"
   ],
   "metadata": {
    "collapsed": false,
    "ExecuteTime": {
     "end_time": "2023-11-01T15:10:42.665309Z",
     "start_time": "2023-11-01T15:10:42.617450Z"
    }
   },
   "id": "5dbe11468c85ca88"
  },
  {
   "cell_type": "code",
   "execution_count": 99,
   "outputs": [
    {
     "data": {
      "text/plain": "Order              0\nMS SubClass        0\nLot Area           0\nOverall Qual       0\nOverall Cond       0\n1st Flr SF         0\n2nd Flr SF         0\nLow Qual Fin SF    0\nGr Liv Area        0\nFull Bath          0\nHalf Bath          0\nBedroom AbvGr      0\nKitchen AbvGr      0\nTotRms AbvGrd      0\nFireplaces         0\nWood Deck SF       0\nOpen Porch SF      0\nEnclosed Porch     0\n3Ssn Porch         0\nScreen Porch       0\nPool Area          0\nMisc Val           0\nSalePrice          0\ndtype: int64"
     },
     "execution_count": 99,
     "metadata": {},
     "output_type": "execute_result"
    }
   ],
   "source": [
    "full_cols_series"
   ],
   "metadata": {
    "collapsed": false,
    "ExecuteTime": {
     "end_time": "2023-11-01T15:10:44.943696Z",
     "start_time": "2023-11-01T15:10:44.896732Z"
    }
   },
   "id": "ce96ab03c8fd9814"
  },
  {
   "cell_type": "code",
   "execution_count": 100,
   "outputs": [
    {
     "name": "stdout",
     "output_type": "stream",
     "text": [
      "Order              0\n",
      "MS SubClass        0\n",
      "Lot Area           0\n",
      "Overall Qual       0\n",
      "Overall Cond       0\n",
      "1st Flr SF         0\n",
      "2nd Flr SF         0\n",
      "Low Qual Fin SF    0\n",
      "Gr Liv Area        0\n",
      "Full Bath          0\n",
      "Half Bath          0\n",
      "Bedroom AbvGr      0\n",
      "Kitchen AbvGr      0\n",
      "TotRms AbvGrd      0\n",
      "Fireplaces         0\n",
      "Wood Deck SF       0\n",
      "Open Porch SF      0\n",
      "Enclosed Porch     0\n",
      "3Ssn Porch         0\n",
      "Screen Porch       0\n",
      "Pool Area          0\n",
      "Misc Val           0\n",
      "SalePrice          0\n",
      "dtype: int64\n"
     ]
    }
   ],
   "source": [
    "print(full_cols_series)"
   ],
   "metadata": {
    "collapsed": false,
    "ExecuteTime": {
     "end_time": "2023-11-01T15:10:48.176945Z",
     "start_time": "2023-11-01T15:10:48.128059Z"
    }
   },
   "id": "a9de326492d6e1f4"
  },
  {
   "cell_type": "code",
   "execution_count": 101,
   "outputs": [
    {
     "data": {
      "text/plain": "23"
     },
     "execution_count": 101,
     "metadata": {},
     "output_type": "execute_result"
    }
   ],
   "source": [
    "len(full_cols_series)"
   ],
   "metadata": {
    "collapsed": false,
    "ExecuteTime": {
     "end_time": "2023-11-01T15:10:49.924489Z",
     "start_time": "2023-11-01T15:10:49.879048Z"
    }
   },
   "id": "2d6dedac622d2a05"
  },
  {
   "cell_type": "code",
   "execution_count": 101,
   "outputs": [],
   "source": [],
   "metadata": {
    "collapsed": false,
    "ExecuteTime": {
     "end_time": "2023-11-01T15:10:57.916665Z",
     "start_time": "2023-11-01T15:10:57.873811Z"
    }
   },
   "id": "9809b7739d03c280"
  },
  {
   "cell_type": "code",
   "execution_count": 102,
   "outputs": [],
   "source": [
    "#2. Correlating Feature columns with Target column"
   ],
   "metadata": {
    "collapsed": false,
    "ExecuteTime": {
     "end_time": "2023-11-01T15:10:58.391385Z",
     "start_time": "2023-11-01T15:10:58.365734Z"
    }
   },
   "id": "c4d7f3c9de0e9776"
  },
  {
   "cell_type": "code",
   "execution_count": 103,
   "outputs": [
    {
     "data": {
      "text/plain": "                    Order  MS SubClass  Lot Area  Overall Qual  Overall Cond   \nOrder            1.000000    -0.023140  0.020064     -0.049116      0.078547  \\\nMS SubClass     -0.023140     1.000000 -0.248209      0.054533     -0.099862   \nLot Area         0.020064    -0.248209  1.000000      0.100290     -0.010353   \nOverall Qual    -0.049116     0.054533  0.100290      1.000000     -0.083581   \nOverall Cond     0.078547    -0.099862 -0.010353     -0.083581      1.000000   \n1st Flr SF      -0.060288    -0.273248  0.295995      0.490056     -0.154903   \n2nd Flr SF       0.011011     0.342229  0.005407      0.200105     -0.009733   \nLow Qual Fin SF  0.016425    -0.001077 -0.013667     -0.070362     -0.015807   \nGr Liv Area     -0.036472     0.089580  0.239224      0.562903     -0.133710   \nFull Bath       -0.074932     0.168263  0.107753      0.505102     -0.223043   \nHalf Bath       -0.057901     0.223105  0.011162      0.260307     -0.115307   \nBedroom AbvGr    0.014836    -0.024091  0.135366      0.045648      0.002333   \nKitchen AbvGr    0.005159     0.299163 -0.029323     -0.175562     -0.095837   \nTotRms AbvGrd   -0.029653     0.054067  0.205604      0.360203     -0.116560   \nFireplaces      -0.055643    -0.064293  0.232112      0.386205     -0.056623   \nWood Deck SF    -0.064436    -0.034953  0.110003      0.260258      0.045171   \nOpen Porch SF    0.035471     0.000592  0.044313      0.319954     -0.013770   \nEnclosed Porch   0.013040     0.009778  0.002098     -0.173024      0.052764   \n3Ssn Porch       0.006725    -0.051771  0.022090      0.032751      0.033923   \nScreen Porch     0.026088    -0.065956  0.054119      0.023194      0.064596   \nPool Area        0.020716    -0.022696  0.010442      0.072357     -0.013420   \nMisc Val        -0.020449    -0.023721  0.025428     -0.009641      0.047354   \nSalePrice       -0.068181    -0.088504  0.274730      0.804562     -0.099395   \n\n                 1st Flr SF  2nd Flr SF  Low Qual Fin SF  Gr Liv Area   \nOrder             -0.060288    0.011011         0.016425    -0.036472  \\\nMS SubClass       -0.273248    0.342229        -0.001077     0.089580   \nLot Area           0.295995    0.005407        -0.013667     0.239224   \nOverall Qual       0.490056    0.200105        -0.070362     0.562903   \nOverall Cond      -0.154903   -0.009733        -0.015807    -0.133710   \n1st Flr SF         1.000000   -0.311660        -0.011781     0.515404   \n2nd Flr SF        -0.311660    1.000000        -0.017831     0.647971   \nLow Qual Fin SF   -0.011781   -0.017831         1.000000     0.075539   \nGr Liv Area        0.515404    0.647971         0.075539     1.000000   \nFull Bath          0.341061    0.396149        -0.013896     0.625981   \nHalf Bath         -0.130409    0.607469        -0.056455     0.435941   \nBedroom AbvGr      0.095281    0.492622         0.055912     0.523904   \nKitchen AbvGr      0.041101    0.127385        -0.014202     0.145693   \nTotRms AbvGrd      0.360595    0.570879         0.073844     0.807301   \nFireplaces         0.429662    0.133245        -0.011067     0.460746   \nWood Deck SF       0.206013    0.086069        -0.029479     0.238396   \nOpen Porch SF      0.191891    0.189739        -0.014001     0.321806   \nEnclosed Porch    -0.118127    0.074540         0.144095    -0.012603   \n3Ssn Porch         0.053525   -0.038210        -0.000762     0.008241   \nScreen Porch       0.120276   -0.014297        -0.026807     0.080250   \nPool Area          0.092472   -0.020832        -0.002486     0.054693   \nMisc Val          -0.000546    0.002249        -0.007269     0.000851   \nSalePrice          0.657119    0.202352        -0.060352     0.698990   \n\n                 Full Bath  ...  TotRms AbvGrd  Fireplaces  Wood Deck SF   \nOrder            -0.074932  ...      -0.029653   -0.055643     -0.064436  \\\nMS SubClass       0.168263  ...       0.054067   -0.064293     -0.034953   \nLot Area          0.107753  ...       0.205604    0.232112      0.110003   \nOverall Qual      0.505102  ...       0.360203    0.386205      0.260258   \nOverall Cond     -0.223043  ...      -0.116560   -0.056623      0.045171   \n1st Flr SF        0.341061  ...       0.360595    0.429662      0.206013   \n2nd Flr SF        0.396149  ...       0.570879    0.133245      0.086069   \nLow Qual Fin SF  -0.013896  ...       0.073844   -0.011067     -0.029479   \nGr Liv Area       0.625981  ...       0.807301    0.460746      0.238396   \nFull Bath         1.000000  ...       0.517731    0.245036      0.180358   \nHalf Bath         0.163007  ...       0.332147    0.200749      0.127429   \nBedroom AbvGr     0.358622  ...       0.660762    0.082734      0.032936   \nKitchen AbvGr     0.183130  ...       0.312851   -0.091818     -0.085226   \nTotRms AbvGrd     0.517731  ...       1.000000    0.307189      0.148162   \nFireplaces        0.245036  ...       0.307189    1.000000      0.209153   \nWood Deck SF      0.180358  ...       0.148162    0.209153      1.000000   \nOpen Porch SF     0.255968  ...       0.222774    0.148664      0.039738   \nEnclosed Porch   -0.139366  ...       0.017951   -0.032654     -0.112639   \n3Ssn Porch        0.043506  ...      -0.031988    0.022946      0.010343   \nScreen Porch     -0.037269  ...       0.003138    0.168236     -0.054521   \nPool Area        -0.027145  ...       0.009930    0.056816      0.013298   \nMisc Val         -0.020655  ...      -0.008059   -0.002616      0.066577   \nSalePrice         0.518194  ...       0.483701    0.485683      0.319104   \n\n                 Open Porch SF  Enclosed Porch  3Ssn Porch  Screen Porch   \nOrder                 0.035471        0.013040    0.006725      0.026088  \\\nMS SubClass           0.000592        0.009778   -0.051771     -0.065956   \nLot Area              0.044313        0.002098    0.022090      0.054119   \nOverall Qual          0.319954       -0.173024    0.032751      0.023194   \nOverall Cond         -0.013770        0.052764    0.033923      0.064596   \n1st Flr SF            0.191891       -0.118127    0.053525      0.120276   \n2nd Flr SF            0.189739        0.074540   -0.038210     -0.014297   \nLow Qual Fin SF      -0.014001        0.144095   -0.000762     -0.026807   \nGr Liv Area           0.321806       -0.012603    0.008241      0.080250   \nFull Bath             0.255968       -0.139366    0.043506     -0.037269   \nHalf Bath             0.171062       -0.101064   -0.023789      0.016578   \nBedroom AbvGr         0.078639        0.052862   -0.053944     -0.010421   \nKitchen AbvGr        -0.074197        0.034866   -0.024751     -0.062985   \nTotRms AbvGrd         0.222774        0.017951   -0.031988      0.003138   \nFireplaces            0.148664       -0.032654    0.022946      0.168236   \nWood Deck SF          0.039738       -0.112639    0.010343     -0.054521   \nOpen Porch SF         1.000000       -0.074114   -0.013437      0.023388   \nEnclosed Porch       -0.074114        1.000000   -0.034848     -0.067681   \n3Ssn Porch           -0.013437       -0.034848    1.000000     -0.031328   \nScreen Porch          0.023388       -0.067681   -0.031328      1.000000   \nPool Area             0.007508       -0.009756   -0.002905      0.090696   \nMisc Val              0.036247        0.013223   -0.000352      0.004308   \nSalePrice             0.344383       -0.165873    0.038699      0.100121   \n\n                 Pool Area  Misc Val  SalePrice  \nOrder             0.020716 -0.020449  -0.068181  \nMS SubClass      -0.022696 -0.023721  -0.088504  \nLot Area          0.010442  0.025428   0.274730  \nOverall Qual      0.072357 -0.009641   0.804562  \nOverall Cond     -0.013420  0.047354  -0.099395  \n1st Flr SF        0.092472 -0.000546   0.657119  \n2nd Flr SF       -0.020832  0.002249   0.202352  \nLow Qual Fin SF  -0.002486 -0.007269  -0.060352  \nGr Liv Area       0.054693  0.000851   0.698990  \nFull Bath        -0.027145 -0.020655   0.518194  \nHalf Bath         0.031660  0.033114   0.272870  \nBedroom AbvGr    -0.058117  0.022153   0.106941  \nKitchen AbvGr    -0.005840  0.012046  -0.130843  \nTotRms AbvGrd     0.009930 -0.008059   0.483701  \nFireplaces        0.056816 -0.002616   0.485683  \nWood Deck SF      0.013298  0.066577   0.319104  \nOpen Porch SF     0.007508  0.036247   0.344383  \nEnclosed Porch   -0.009756  0.013223  -0.165873  \n3Ssn Porch       -0.002905 -0.000352   0.038699  \nScreen Porch      0.090696  0.004308   0.100121  \nPool Area         1.000000 -0.002861   0.145474  \nMisc Val         -0.002861  1.000000  -0.009903  \nSalePrice         0.145474 -0.009903   1.000000  \n\n[23 rows x 23 columns]",
      "text/html": "<div>\n<style scoped>\n    .dataframe tbody tr th:only-of-type {\n        vertical-align: middle;\n    }\n\n    .dataframe tbody tr th {\n        vertical-align: top;\n    }\n\n    .dataframe thead th {\n        text-align: right;\n    }\n</style>\n<table border=\"1\" class=\"dataframe\">\n  <thead>\n    <tr style=\"text-align: right;\">\n      <th></th>\n      <th>Order</th>\n      <th>MS SubClass</th>\n      <th>Lot Area</th>\n      <th>Overall Qual</th>\n      <th>Overall Cond</th>\n      <th>1st Flr SF</th>\n      <th>2nd Flr SF</th>\n      <th>Low Qual Fin SF</th>\n      <th>Gr Liv Area</th>\n      <th>Full Bath</th>\n      <th>...</th>\n      <th>TotRms AbvGrd</th>\n      <th>Fireplaces</th>\n      <th>Wood Deck SF</th>\n      <th>Open Porch SF</th>\n      <th>Enclosed Porch</th>\n      <th>3Ssn Porch</th>\n      <th>Screen Porch</th>\n      <th>Pool Area</th>\n      <th>Misc Val</th>\n      <th>SalePrice</th>\n    </tr>\n  </thead>\n  <tbody>\n    <tr>\n      <th>Order</th>\n      <td>1.000000</td>\n      <td>-0.023140</td>\n      <td>0.020064</td>\n      <td>-0.049116</td>\n      <td>0.078547</td>\n      <td>-0.060288</td>\n      <td>0.011011</td>\n      <td>0.016425</td>\n      <td>-0.036472</td>\n      <td>-0.074932</td>\n      <td>...</td>\n      <td>-0.029653</td>\n      <td>-0.055643</td>\n      <td>-0.064436</td>\n      <td>0.035471</td>\n      <td>0.013040</td>\n      <td>0.006725</td>\n      <td>0.026088</td>\n      <td>0.020716</td>\n      <td>-0.020449</td>\n      <td>-0.068181</td>\n    </tr>\n    <tr>\n      <th>MS SubClass</th>\n      <td>-0.023140</td>\n      <td>1.000000</td>\n      <td>-0.248209</td>\n      <td>0.054533</td>\n      <td>-0.099862</td>\n      <td>-0.273248</td>\n      <td>0.342229</td>\n      <td>-0.001077</td>\n      <td>0.089580</td>\n      <td>0.168263</td>\n      <td>...</td>\n      <td>0.054067</td>\n      <td>-0.064293</td>\n      <td>-0.034953</td>\n      <td>0.000592</td>\n      <td>0.009778</td>\n      <td>-0.051771</td>\n      <td>-0.065956</td>\n      <td>-0.022696</td>\n      <td>-0.023721</td>\n      <td>-0.088504</td>\n    </tr>\n    <tr>\n      <th>Lot Area</th>\n      <td>0.020064</td>\n      <td>-0.248209</td>\n      <td>1.000000</td>\n      <td>0.100290</td>\n      <td>-0.010353</td>\n      <td>0.295995</td>\n      <td>0.005407</td>\n      <td>-0.013667</td>\n      <td>0.239224</td>\n      <td>0.107753</td>\n      <td>...</td>\n      <td>0.205604</td>\n      <td>0.232112</td>\n      <td>0.110003</td>\n      <td>0.044313</td>\n      <td>0.002098</td>\n      <td>0.022090</td>\n      <td>0.054119</td>\n      <td>0.010442</td>\n      <td>0.025428</td>\n      <td>0.274730</td>\n    </tr>\n    <tr>\n      <th>Overall Qual</th>\n      <td>-0.049116</td>\n      <td>0.054533</td>\n      <td>0.100290</td>\n      <td>1.000000</td>\n      <td>-0.083581</td>\n      <td>0.490056</td>\n      <td>0.200105</td>\n      <td>-0.070362</td>\n      <td>0.562903</td>\n      <td>0.505102</td>\n      <td>...</td>\n      <td>0.360203</td>\n      <td>0.386205</td>\n      <td>0.260258</td>\n      <td>0.319954</td>\n      <td>-0.173024</td>\n      <td>0.032751</td>\n      <td>0.023194</td>\n      <td>0.072357</td>\n      <td>-0.009641</td>\n      <td>0.804562</td>\n    </tr>\n    <tr>\n      <th>Overall Cond</th>\n      <td>0.078547</td>\n      <td>-0.099862</td>\n      <td>-0.010353</td>\n      <td>-0.083581</td>\n      <td>1.000000</td>\n      <td>-0.154903</td>\n      <td>-0.009733</td>\n      <td>-0.015807</td>\n      <td>-0.133710</td>\n      <td>-0.223043</td>\n      <td>...</td>\n      <td>-0.116560</td>\n      <td>-0.056623</td>\n      <td>0.045171</td>\n      <td>-0.013770</td>\n      <td>0.052764</td>\n      <td>0.033923</td>\n      <td>0.064596</td>\n      <td>-0.013420</td>\n      <td>0.047354</td>\n      <td>-0.099395</td>\n    </tr>\n    <tr>\n      <th>1st Flr SF</th>\n      <td>-0.060288</td>\n      <td>-0.273248</td>\n      <td>0.295995</td>\n      <td>0.490056</td>\n      <td>-0.154903</td>\n      <td>1.000000</td>\n      <td>-0.311660</td>\n      <td>-0.011781</td>\n      <td>0.515404</td>\n      <td>0.341061</td>\n      <td>...</td>\n      <td>0.360595</td>\n      <td>0.429662</td>\n      <td>0.206013</td>\n      <td>0.191891</td>\n      <td>-0.118127</td>\n      <td>0.053525</td>\n      <td>0.120276</td>\n      <td>0.092472</td>\n      <td>-0.000546</td>\n      <td>0.657119</td>\n    </tr>\n    <tr>\n      <th>2nd Flr SF</th>\n      <td>0.011011</td>\n      <td>0.342229</td>\n      <td>0.005407</td>\n      <td>0.200105</td>\n      <td>-0.009733</td>\n      <td>-0.311660</td>\n      <td>1.000000</td>\n      <td>-0.017831</td>\n      <td>0.647971</td>\n      <td>0.396149</td>\n      <td>...</td>\n      <td>0.570879</td>\n      <td>0.133245</td>\n      <td>0.086069</td>\n      <td>0.189739</td>\n      <td>0.074540</td>\n      <td>-0.038210</td>\n      <td>-0.014297</td>\n      <td>-0.020832</td>\n      <td>0.002249</td>\n      <td>0.202352</td>\n    </tr>\n    <tr>\n      <th>Low Qual Fin SF</th>\n      <td>0.016425</td>\n      <td>-0.001077</td>\n      <td>-0.013667</td>\n      <td>-0.070362</td>\n      <td>-0.015807</td>\n      <td>-0.011781</td>\n      <td>-0.017831</td>\n      <td>1.000000</td>\n      <td>0.075539</td>\n      <td>-0.013896</td>\n      <td>...</td>\n      <td>0.073844</td>\n      <td>-0.011067</td>\n      <td>-0.029479</td>\n      <td>-0.014001</td>\n      <td>0.144095</td>\n      <td>-0.000762</td>\n      <td>-0.026807</td>\n      <td>-0.002486</td>\n      <td>-0.007269</td>\n      <td>-0.060352</td>\n    </tr>\n    <tr>\n      <th>Gr Liv Area</th>\n      <td>-0.036472</td>\n      <td>0.089580</td>\n      <td>0.239224</td>\n      <td>0.562903</td>\n      <td>-0.133710</td>\n      <td>0.515404</td>\n      <td>0.647971</td>\n      <td>0.075539</td>\n      <td>1.000000</td>\n      <td>0.625981</td>\n      <td>...</td>\n      <td>0.807301</td>\n      <td>0.460746</td>\n      <td>0.238396</td>\n      <td>0.321806</td>\n      <td>-0.012603</td>\n      <td>0.008241</td>\n      <td>0.080250</td>\n      <td>0.054693</td>\n      <td>0.000851</td>\n      <td>0.698990</td>\n    </tr>\n    <tr>\n      <th>Full Bath</th>\n      <td>-0.074932</td>\n      <td>0.168263</td>\n      <td>0.107753</td>\n      <td>0.505102</td>\n      <td>-0.223043</td>\n      <td>0.341061</td>\n      <td>0.396149</td>\n      <td>-0.013896</td>\n      <td>0.625981</td>\n      <td>1.000000</td>\n      <td>...</td>\n      <td>0.517731</td>\n      <td>0.245036</td>\n      <td>0.180358</td>\n      <td>0.255968</td>\n      <td>-0.139366</td>\n      <td>0.043506</td>\n      <td>-0.037269</td>\n      <td>-0.027145</td>\n      <td>-0.020655</td>\n      <td>0.518194</td>\n    </tr>\n    <tr>\n      <th>Half Bath</th>\n      <td>-0.057901</td>\n      <td>0.223105</td>\n      <td>0.011162</td>\n      <td>0.260307</td>\n      <td>-0.115307</td>\n      <td>-0.130409</td>\n      <td>0.607469</td>\n      <td>-0.056455</td>\n      <td>0.435941</td>\n      <td>0.163007</td>\n      <td>...</td>\n      <td>0.332147</td>\n      <td>0.200749</td>\n      <td>0.127429</td>\n      <td>0.171062</td>\n      <td>-0.101064</td>\n      <td>-0.023789</td>\n      <td>0.016578</td>\n      <td>0.031660</td>\n      <td>0.033114</td>\n      <td>0.272870</td>\n    </tr>\n    <tr>\n      <th>Bedroom AbvGr</th>\n      <td>0.014836</td>\n      <td>-0.024091</td>\n      <td>0.135366</td>\n      <td>0.045648</td>\n      <td>0.002333</td>\n      <td>0.095281</td>\n      <td>0.492622</td>\n      <td>0.055912</td>\n      <td>0.523904</td>\n      <td>0.358622</td>\n      <td>...</td>\n      <td>0.660762</td>\n      <td>0.082734</td>\n      <td>0.032936</td>\n      <td>0.078639</td>\n      <td>0.052862</td>\n      <td>-0.053944</td>\n      <td>-0.010421</td>\n      <td>-0.058117</td>\n      <td>0.022153</td>\n      <td>0.106941</td>\n    </tr>\n    <tr>\n      <th>Kitchen AbvGr</th>\n      <td>0.005159</td>\n      <td>0.299163</td>\n      <td>-0.029323</td>\n      <td>-0.175562</td>\n      <td>-0.095837</td>\n      <td>0.041101</td>\n      <td>0.127385</td>\n      <td>-0.014202</td>\n      <td>0.145693</td>\n      <td>0.183130</td>\n      <td>...</td>\n      <td>0.312851</td>\n      <td>-0.091818</td>\n      <td>-0.085226</td>\n      <td>-0.074197</td>\n      <td>0.034866</td>\n      <td>-0.024751</td>\n      <td>-0.062985</td>\n      <td>-0.005840</td>\n      <td>0.012046</td>\n      <td>-0.130843</td>\n    </tr>\n    <tr>\n      <th>TotRms AbvGrd</th>\n      <td>-0.029653</td>\n      <td>0.054067</td>\n      <td>0.205604</td>\n      <td>0.360203</td>\n      <td>-0.116560</td>\n      <td>0.360595</td>\n      <td>0.570879</td>\n      <td>0.073844</td>\n      <td>0.807301</td>\n      <td>0.517731</td>\n      <td>...</td>\n      <td>1.000000</td>\n      <td>0.307189</td>\n      <td>0.148162</td>\n      <td>0.222774</td>\n      <td>0.017951</td>\n      <td>-0.031988</td>\n      <td>0.003138</td>\n      <td>0.009930</td>\n      <td>-0.008059</td>\n      <td>0.483701</td>\n    </tr>\n    <tr>\n      <th>Fireplaces</th>\n      <td>-0.055643</td>\n      <td>-0.064293</td>\n      <td>0.232112</td>\n      <td>0.386205</td>\n      <td>-0.056623</td>\n      <td>0.429662</td>\n      <td>0.133245</td>\n      <td>-0.011067</td>\n      <td>0.460746</td>\n      <td>0.245036</td>\n      <td>...</td>\n      <td>0.307189</td>\n      <td>1.000000</td>\n      <td>0.209153</td>\n      <td>0.148664</td>\n      <td>-0.032654</td>\n      <td>0.022946</td>\n      <td>0.168236</td>\n      <td>0.056816</td>\n      <td>-0.002616</td>\n      <td>0.485683</td>\n    </tr>\n    <tr>\n      <th>Wood Deck SF</th>\n      <td>-0.064436</td>\n      <td>-0.034953</td>\n      <td>0.110003</td>\n      <td>0.260258</td>\n      <td>0.045171</td>\n      <td>0.206013</td>\n      <td>0.086069</td>\n      <td>-0.029479</td>\n      <td>0.238396</td>\n      <td>0.180358</td>\n      <td>...</td>\n      <td>0.148162</td>\n      <td>0.209153</td>\n      <td>1.000000</td>\n      <td>0.039738</td>\n      <td>-0.112639</td>\n      <td>0.010343</td>\n      <td>-0.054521</td>\n      <td>0.013298</td>\n      <td>0.066577</td>\n      <td>0.319104</td>\n    </tr>\n    <tr>\n      <th>Open Porch SF</th>\n      <td>0.035471</td>\n      <td>0.000592</td>\n      <td>0.044313</td>\n      <td>0.319954</td>\n      <td>-0.013770</td>\n      <td>0.191891</td>\n      <td>0.189739</td>\n      <td>-0.014001</td>\n      <td>0.321806</td>\n      <td>0.255968</td>\n      <td>...</td>\n      <td>0.222774</td>\n      <td>0.148664</td>\n      <td>0.039738</td>\n      <td>1.000000</td>\n      <td>-0.074114</td>\n      <td>-0.013437</td>\n      <td>0.023388</td>\n      <td>0.007508</td>\n      <td>0.036247</td>\n      <td>0.344383</td>\n    </tr>\n    <tr>\n      <th>Enclosed Porch</th>\n      <td>0.013040</td>\n      <td>0.009778</td>\n      <td>0.002098</td>\n      <td>-0.173024</td>\n      <td>0.052764</td>\n      <td>-0.118127</td>\n      <td>0.074540</td>\n      <td>0.144095</td>\n      <td>-0.012603</td>\n      <td>-0.139366</td>\n      <td>...</td>\n      <td>0.017951</td>\n      <td>-0.032654</td>\n      <td>-0.112639</td>\n      <td>-0.074114</td>\n      <td>1.000000</td>\n      <td>-0.034848</td>\n      <td>-0.067681</td>\n      <td>-0.009756</td>\n      <td>0.013223</td>\n      <td>-0.165873</td>\n    </tr>\n    <tr>\n      <th>3Ssn Porch</th>\n      <td>0.006725</td>\n      <td>-0.051771</td>\n      <td>0.022090</td>\n      <td>0.032751</td>\n      <td>0.033923</td>\n      <td>0.053525</td>\n      <td>-0.038210</td>\n      <td>-0.000762</td>\n      <td>0.008241</td>\n      <td>0.043506</td>\n      <td>...</td>\n      <td>-0.031988</td>\n      <td>0.022946</td>\n      <td>0.010343</td>\n      <td>-0.013437</td>\n      <td>-0.034848</td>\n      <td>1.000000</td>\n      <td>-0.031328</td>\n      <td>-0.002905</td>\n      <td>-0.000352</td>\n      <td>0.038699</td>\n    </tr>\n    <tr>\n      <th>Screen Porch</th>\n      <td>0.026088</td>\n      <td>-0.065956</td>\n      <td>0.054119</td>\n      <td>0.023194</td>\n      <td>0.064596</td>\n      <td>0.120276</td>\n      <td>-0.014297</td>\n      <td>-0.026807</td>\n      <td>0.080250</td>\n      <td>-0.037269</td>\n      <td>...</td>\n      <td>0.003138</td>\n      <td>0.168236</td>\n      <td>-0.054521</td>\n      <td>0.023388</td>\n      <td>-0.067681</td>\n      <td>-0.031328</td>\n      <td>1.000000</td>\n      <td>0.090696</td>\n      <td>0.004308</td>\n      <td>0.100121</td>\n    </tr>\n    <tr>\n      <th>Pool Area</th>\n      <td>0.020716</td>\n      <td>-0.022696</td>\n      <td>0.010442</td>\n      <td>0.072357</td>\n      <td>-0.013420</td>\n      <td>0.092472</td>\n      <td>-0.020832</td>\n      <td>-0.002486</td>\n      <td>0.054693</td>\n      <td>-0.027145</td>\n      <td>...</td>\n      <td>0.009930</td>\n      <td>0.056816</td>\n      <td>0.013298</td>\n      <td>0.007508</td>\n      <td>-0.009756</td>\n      <td>-0.002905</td>\n      <td>0.090696</td>\n      <td>1.000000</td>\n      <td>-0.002861</td>\n      <td>0.145474</td>\n    </tr>\n    <tr>\n      <th>Misc Val</th>\n      <td>-0.020449</td>\n      <td>-0.023721</td>\n      <td>0.025428</td>\n      <td>-0.009641</td>\n      <td>0.047354</td>\n      <td>-0.000546</td>\n      <td>0.002249</td>\n      <td>-0.007269</td>\n      <td>0.000851</td>\n      <td>-0.020655</td>\n      <td>...</td>\n      <td>-0.008059</td>\n      <td>-0.002616</td>\n      <td>0.066577</td>\n      <td>0.036247</td>\n      <td>0.013223</td>\n      <td>-0.000352</td>\n      <td>0.004308</td>\n      <td>-0.002861</td>\n      <td>1.000000</td>\n      <td>-0.009903</td>\n    </tr>\n    <tr>\n      <th>SalePrice</th>\n      <td>-0.068181</td>\n      <td>-0.088504</td>\n      <td>0.274730</td>\n      <td>0.804562</td>\n      <td>-0.099395</td>\n      <td>0.657119</td>\n      <td>0.202352</td>\n      <td>-0.060352</td>\n      <td>0.698990</td>\n      <td>0.518194</td>\n      <td>...</td>\n      <td>0.483701</td>\n      <td>0.485683</td>\n      <td>0.319104</td>\n      <td>0.344383</td>\n      <td>-0.165873</td>\n      <td>0.038699</td>\n      <td>0.100121</td>\n      <td>0.145474</td>\n      <td>-0.009903</td>\n      <td>1.000000</td>\n    </tr>\n  </tbody>\n</table>\n<p>23 rows × 23 columns</p>\n</div>"
     },
     "execution_count": 103,
     "metadata": {},
     "output_type": "execute_result"
    }
   ],
   "source": [
    "train_subset = train[full_cols_series.index]\n",
    "train_subset.corr()"
   ],
   "metadata": {
    "collapsed": false,
    "ExecuteTime": {
     "end_time": "2023-11-01T15:11:00.080709Z",
     "start_time": "2023-11-01T15:11:00.005681Z"
    }
   },
   "id": "cbcf77d728c1d52c"
  },
  {
   "cell_type": "code",
   "execution_count": 104,
   "outputs": [],
   "source": [
    "sorted_corrs = train_subset.corr()['SalePrice'].sort_values(ascending=False)"
   ],
   "metadata": {
    "collapsed": false,
    "ExecuteTime": {
     "end_time": "2023-11-01T15:11:04.365118Z",
     "start_time": "2023-11-01T15:11:04.309657Z"
    }
   },
   "id": "e9846e0758474589"
  },
  {
   "cell_type": "code",
   "execution_count": 105,
   "outputs": [
    {
     "data": {
      "text/plain": "SalePrice          1.000000\nOverall Qual       0.804562\nGr Liv Area        0.698990\n1st Flr SF         0.657119\nFull Bath          0.518194\nFireplaces         0.485683\nTotRms AbvGrd      0.483701\nOpen Porch SF      0.344383\nWood Deck SF       0.319104\nLot Area           0.274730\nHalf Bath          0.272870\n2nd Flr SF         0.202352\nPool Area          0.145474\nBedroom AbvGr      0.106941\nScreen Porch       0.100121\n3Ssn Porch         0.038699\nMisc Val          -0.009903\nLow Qual Fin SF   -0.060352\nOrder             -0.068181\nMS SubClass       -0.088504\nOverall Cond      -0.099395\nKitchen AbvGr     -0.130843\nEnclosed Porch    -0.165873\nName: SalePrice, dtype: float64"
     },
     "execution_count": 105,
     "metadata": {},
     "output_type": "execute_result"
    }
   ],
   "source": [
    "sorted_corrs"
   ],
   "metadata": {
    "collapsed": false,
    "ExecuteTime": {
     "end_time": "2023-11-01T15:11:05.412409Z",
     "start_time": "2023-11-01T15:11:05.354950Z"
    }
   },
   "id": "1e2d78337db8449a"
  },
  {
   "cell_type": "markdown",
   "source": [
    "# 3. Correlation Matrix Heatmap"
   ],
   "metadata": {
    "collapsed": false
   },
   "id": "7fbca1479637d761"
  },
  {
   "cell_type": "code",
   "execution_count": 106,
   "outputs": [],
   "source": [
    "strong_corrs = [index for index, value in sorted_corrs.items() if value > 0.3]"
   ],
   "metadata": {
    "collapsed": false,
    "ExecuteTime": {
     "end_time": "2023-11-01T15:11:07.905865Z",
     "start_time": "2023-11-01T15:11:07.854927Z"
    }
   },
   "id": "9da4f5313bd43271"
  },
  {
   "cell_type": "code",
   "execution_count": 107,
   "outputs": [
    {
     "data": {
      "text/plain": "9"
     },
     "execution_count": 107,
     "metadata": {},
     "output_type": "execute_result"
    }
   ],
   "source": [
    "len(strong_corrs)"
   ],
   "metadata": {
    "collapsed": false,
    "ExecuteTime": {
     "end_time": "2023-11-01T15:11:08.403059Z",
     "start_time": "2023-11-01T15:11:08.359065Z"
    }
   },
   "id": "7072b65906864e7d"
  },
  {
   "cell_type": "code",
   "execution_count": 108,
   "outputs": [],
   "source": [
    "corrmat = train_subset[strong_corrs]"
   ],
   "metadata": {
    "collapsed": false,
    "ExecuteTime": {
     "end_time": "2023-11-01T15:11:15.197321Z",
     "start_time": "2023-11-01T15:11:15.165685Z"
    }
   },
   "id": "22dee54b46119fe"
  },
  {
   "cell_type": "code",
   "execution_count": 109,
   "outputs": [
    {
     "data": {
      "text/plain": "<AxesSubplot:>"
     },
     "execution_count": 109,
     "metadata": {},
     "output_type": "execute_result"
    },
    {
     "data": {
      "text/plain": "<Figure size 432x288 with 2 Axes>",
      "image/png": "[encoded data removed]"
     },
     "metadata": {},
     "output_type": "display_data"
    }
   ],
   "source": [
    "import seaborn as sns\n",
    "\n",
    "sns.heatmap(corrmat.corr())"
   ],
   "metadata": {
    "collapsed": false,
    "ExecuteTime": {
     "end_time": "2023-11-01T15:11:16.152373Z",
     "start_time": "2023-11-01T15:11:15.942569Z"
    }
   },
   "id": "66307921ee4f7e9d"
  },
  {
   "cell_type": "code",
   "execution_count": 112,
   "outputs": [],
   "source": [
    "### although the pair of  \n",
    "# \"Gr Liv Area\" and \"TotRms AbvGrd\"  \n",
    "# \"Garage Area\" and \"Garage Cars\"\n",
    "#  are in dark color. according to the documntation, they are very similar information. So we drop them from the strong_corrs columns\n",
    "\n"
   ],
   "metadata": {
    "collapsed": false,
    "ExecuteTime": {
     "end_time": "2023-11-01T15:11:35.116795Z",
     "start_time": "2023-11-01T15:11:35.058466Z"
    }
   },
   "id": "85dd8c73ce2ff75a"
  },
  {
   "cell_type": "code",
   "execution_count": 113,
   "outputs": [],
   "source": [
    "remove_items2 = ['Garage Cars','TotRms AbvGrd']\n",
    "final_corr_cols = [i for i in strong_corrs\n",
    "    if i not in remove_items2]"
   ],
   "metadata": {
    "collapsed": false,
    "ExecuteTime": {
     "end_time": "2023-11-01T15:11:36.973412Z",
     "start_time": "2023-11-01T15:11:36.927299Z"
    }
   },
   "id": "41df2811a2d88de1"
  },
  {
   "cell_type": "code",
   "execution_count": 114,
   "outputs": [
    {
     "name": "stdout",
     "output_type": "stream",
     "text": [
      "<class 'pandas.core.frame.DataFrame'>\n",
      "RangeIndex: 1470 entries, 1460 to 2929\n",
      "Data columns (total 8 columns):\n",
      " #   Column         Non-Null Count  Dtype\n",
      "---  ------         --------------  -----\n",
      " 0   SalePrice      1470 non-null   int64\n",
      " 1   Overall Qual   1470 non-null   int64\n",
      " 2   Gr Liv Area    1470 non-null   int64\n",
      " 3   1st Flr SF     1470 non-null   int64\n",
      " 4   Full Bath      1470 non-null   int64\n",
      " 5   Fireplaces     1470 non-null   int64\n",
      " 6   Open Porch SF  1470 non-null   int64\n",
      " 7   Wood Deck SF   1470 non-null   int64\n",
      "dtypes: int64(8)\n",
      "memory usage: 92.0 KB\n"
     ]
    }
   ],
   "source": [
    "test[final_corr_cols].info()"
   ],
   "metadata": {
    "collapsed": false,
    "ExecuteTime": {
     "end_time": "2023-11-01T15:11:40.416776Z",
     "start_time": "2023-11-01T15:11:40.375793Z"
    }
   },
   "id": "780e3818cba96c5d"
  },
  {
   "cell_type": "code",
   "execution_count": 115,
   "outputs": [],
   "source": [
    "clean_test = [ index for index, value in test[final_corr_cols].isnull().sum().items() if value == 0 ]"
   ],
   "metadata": {
    "collapsed": false,
    "ExecuteTime": {
     "end_time": "2023-11-01T15:11:47.381944Z",
     "start_time": "2023-11-01T15:11:47.336297Z"
    }
   },
   "id": "235288cbe6231f5a"
  },
  {
   "cell_type": "code",
   "execution_count": 120,
   "outputs": [
    {
     "name": "stdout",
     "output_type": "stream",
     "text": [
      "35782.36767818103\n",
      "41810.4331552837\n"
     ]
    }
   ],
   "source": [
    "from sklearn.linear_model import LinearRegression\n",
    "from sklearn.metrics import mean_squared_error\n",
    "import numpy as np\n",
    "\n",
    "lr = LinearRegression()\n",
    "\n",
    "features = [col for col in final_corr_cols if col not in ['SalePrice']] \n",
    "target = 'SalePrice'\n",
    "\n",
    "lr.fit(train[features],train[target])\n",
    "\n",
    "train_predictions = lr.predict(train[features])\n",
    "test_predictions = lr.predict(test[features])\n",
    "\n",
    "train_mse = mean_squared_error(train_predictions, train[target])\n",
    "test_mse = mean_squared_error(test_predictions, test[target])\n",
    "\n",
    "train_rmse =np.sqrt(train_mse)\n",
    "test_rmse =np.sqrt(test_mse)\n",
    "\n",
    "print(train_rmse)\n",
    "print(test_rmse)"
   ],
   "metadata": {
    "collapsed": false,
    "ExecuteTime": {
     "end_time": "2023-11-01T15:12:24.350007Z",
     "start_time": "2023-11-01T15:12:24.279962Z"
    }
   },
   "id": "b27aeff9c95700cc"
  },
  {
   "cell_type": "code",
   "execution_count": 121,
   "outputs": [
    {
     "name": "stdout",
     "output_type": "stream",
     "text": [
      "Overall Qual     0.0\n",
      "Gr Liv Area      0.0\n",
      "1st Flr SF       0.0\n",
      "Full Bath        0.0\n",
      "Fireplaces       0.0\n",
      "Open Porch SF    0.0\n",
      "Wood Deck SF     0.0\n",
      "dtype: float64\n",
      "Overall Qual     1.0\n",
      "Gr Liv Area      1.0\n",
      "1st Flr SF       1.0\n",
      "Full Bath        1.0\n",
      "Fireplaces       1.0\n",
      "Open Porch SF    1.0\n",
      "Wood Deck SF     1.0\n",
      "dtype: float64\n"
     ]
    }
   ],
   "source": [
    "unit_train = (train[features]-\n",
    "              train[features].min())/(train[features].max()-\n",
    "                                      train[features].min())\n",
    "print(unit_train.min())\n",
    "print(unit_train.max())"
   ],
   "metadata": {
    "collapsed": false,
    "ExecuteTime": {
     "end_time": "2023-11-01T15:14:55.177506Z",
     "start_time": "2023-11-01T15:14:55.105101Z"
    }
   },
   "id": "61a1948aeb364935"
  },
  {
   "cell_type": "code",
   "execution_count": 132,
   "outputs": [
    {
     "data": {
      "text/plain": "0       215000\n1       105000\n2       172000\n3       244000\n4       189900\n         ...  \n1455    235000\n1456    230500\n1457    230000\n1458    222500\n1459    287000\nName: SalePrice, Length: 1460, dtype: int64"
     },
     "execution_count": 132,
     "metadata": {},
     "output_type": "execute_result"
    }
   ],
   "source": [
    "train['SalePrice']"
   ],
   "metadata": {
    "collapsed": false,
    "ExecuteTime": {
     "end_time": "2023-11-01T15:23:09.852415Z",
     "start_time": "2023-11-01T15:23:09.803995Z"
    }
   },
   "id": "b439cf2935057c25"
  },
  {
   "cell_type": "code",
   "execution_count": 142,
   "outputs": [
    {
     "name": "stdout",
     "output_type": "stream",
     "text": [
      "35984.30198972422\n",
      "41407.80815424183\n"
     ]
    }
   ],
   "source": [
    "# run the prediction again\n",
    "clean_test = test[features]\n",
    "\n",
    "features = [col for col in features if col not in ['Open Porch SF']]\n",
    "\n",
    "lr = LinearRegression()\n",
    "lr.fit(train[features], train['SalePrice'])\n",
    "\n",
    "train_predictions = lr.predict(train[features])\n",
    "test_predictions = lr.predict(clean_test[features])\n",
    "train_mse = mean_squared_error(train_predictions, train[target])\n",
    "test_mse = mean_squared_error(test_predictions, test[target])\n",
    "train_rmse_2 = np.sqrt(train_mse)\n",
    "test_rmse_2 = np.sqrt(test_mse)\n",
    "print(train_rmse_2)\n",
    "print(test_rmse_2)"
   ],
   "metadata": {
    "collapsed": false,
    "ExecuteTime": {
     "end_time": "2023-11-01T15:24:58.784361Z",
     "start_time": "2023-11-01T15:24:58.734505Z"
    }
   },
   "id": "84a217a8b1d32720"
  },
  {
   "cell_type": "code",
   "execution_count": null,
   "outputs": [],
   "source": [
    "# ==== draft"
   ],
   "metadata": {
    "collapsed": false
   },
   "id": "68fced4267865c9e"
  },
  {
   "cell_type": "code",
   "execution_count": null,
   "outputs": [],
   "source": [],
   "metadata": {
    "collapsed": false
   },
   "id": "3ac10e02af26ef2f"
  },
  {
   "cell_type": "code",
   "execution_count": 96,
   "outputs": [
    {
     "data": {
      "text/plain": "Overall Qual     False\nGr Liv Area      False\nGarage Area       True\n1st Flr SF       False\nFull Bath        False\nFireplaces       False\nOpen Porch SF    False\nWood Deck SF     False\ndtype: bool"
     },
     "execution_count": 96,
     "metadata": {},
     "output_type": "execute_result"
    }
   ],
   "source": [
    "test[features].isnull().any()"
   ],
   "metadata": {
    "collapsed": false,
    "ExecuteTime": {
     "end_time": "2023-11-01T15:06:39.735730Z",
     "start_time": "2023-11-01T15:06:39.605548Z"
    }
   },
   "id": "1d7b070bbce34dbd"
  },
  {
   "cell_type": "code",
   "execution_count": null,
   "outputs": [],
   "source": [],
   "metadata": {
    "collapsed": false
   },
   "id": "1d393fbbb6710665"
  }
 ],
 "metadata": {
  "kernelspec": {
   "display_name": "Python 3",
   "language": "python",
   "name": "python3"
  },
  "language_info": {
   "codemirror_mode": {
    "name": "ipython",
    "version": 2
   },
   "file_extension": ".py",
   "mimetype": "text/x-python",
   "name": "python",
   "nbconvert_exporter": "python",
   "pygments_lexer": "ipython2",
   "version": "2.7.6"
  }
 },
 "nbformat": 4,
 "nbformat_minor": 5
}
