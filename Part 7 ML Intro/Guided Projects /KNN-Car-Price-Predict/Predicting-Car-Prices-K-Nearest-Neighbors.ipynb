{
 "cells": [
  {
   "attachments": {},
   "cell_type": "markdown",
   "id": "aware-valuable",
   "metadata": {},
   "source": [
    "# Introduction\n",
    "\n",
    "K Nearest Neighbors or KNN is an an algorithm that can make predictions based on the similarity between different observations. In this project, I used KNN to predict the price of a car based on how similar its features are to those of other cars. Towards this end, I applied various machine learning techniques, such as standardization, feature selection, train-test split, hyperparameter optimization, and k-fold cross validation."
   ]
  },
  {
   "attachments": {},
   "cell_type": "markdown",
   "id": "administrative-negotiation",
   "metadata": {},
   "source": [
    ":::{.callout-note}\n",
    "\n",
    "I wrote this notebook by following a guided project on the [Dataquest](https://www.dataquest.io/) platform, specifically the [Guided Project: Predicting Car Prices](https://app.dataquest.io/c/36/m/155/guided-project%3A-predicting-car-prices/1/introduction-to-the-data-set). The general project flow and research questions were guided by Dataquest. Furthermore, though the mathematical explanations in this post were written in my own words, I learned the theory from Dataquest.\n",
    "\n",
    ":::"
   ]
  },
  {
   "attachments": {},
   "cell_type": "markdown",
   "id": "suited-challenge",
   "metadata": {},
   "source": [
    "Below are the packages used in this project."
   ]
  },
  {
   "cell_type": "code",
   "execution_count": 3,
   "id": "christian-colorado",
   "metadata": {
    "ExecuteTime": {
     "end_time": "2023-11-01T09:52:00.980243Z",
     "start_time": "2023-11-01T09:51:59.705954Z"
    }
   },
   "outputs": [],
   "source": [
    "import pandas as pd\n",
    "import numpy as np\n",
    "import matplotlib.pyplot as plt\n",
    "import seaborn as sns\n",
    "import re\n",
    "from scipy.stats import zscore\n",
    "from sklearn.neighbors import KNeighborsRegressor\n",
    "from sklearn.model_selection import KFold, cross_val_score, train_test_split\n",
    "from sklearn.feature_selection import f_regression, SelectKBest\n",
    "from sklearn.metrics import mean_squared_error"
   ]
  },
  {
   "attachments": {},
   "cell_type": "markdown",
   "id": "981409ea",
   "metadata": {},
   "source": [
    "# Data Inspection and Cleaning\n",
    "\n",
    "The dataset for this project is the Automobile Data Set by Schlimmer (1987), from the UCI Machine Learning Repository. The data and its description can be obtained [here](https://archive.ics.uci.edu/ml/datasets/automobile).\n",
    "\n",
    "The dataset describes 26 features of hundreds of cars. A summary of the features and their data types is shown below."
   ]
  },
  {
   "cell_type": "code",
   "execution_count": 4,
   "id": "4f7fb2fd",
   "metadata": {
    "ExecuteTime": {
     "end_time": "2023-11-01T09:52:00.980550Z",
     "start_time": "2023-11-01T09:51:59.937182Z"
    }
   },
   "outputs": [
    {
     "name": "stdout",
     "output_type": "stream",
     "text": [
      "<class 'pandas.core.frame.DataFrame'>\n",
      "RangeIndex: 205 entries, 0 to 204\n",
      "Data columns (total 26 columns):\n",
      " #   Column             Non-Null Count  Dtype  \n",
      "---  ------             --------------  -----  \n",
      " 0   symboling          205 non-null    int64  \n",
      " 1   normalized-losses  205 non-null    object \n",
      " 2   make               205 non-null    object \n",
      " 3   fuel-type          205 non-null    object \n",
      " 4   aspiration         205 non-null    object \n",
      " 5   num-of-doors       205 non-null    object \n",
      " 6   body-style         205 non-null    object \n",
      " 7   drive-wheels       205 non-null    object \n",
      " 8   engine-location    205 non-null    object \n",
      " 9   wheel-base         205 non-null    float64\n",
      " 10  length             205 non-null    float64\n",
      " 11  width              205 non-null    float64\n",
      " 12  height             205 non-null    float64\n",
      " 13  curb-weight        205 non-null    int64  \n",
      " 14  engine-type        205 non-null    object \n",
      " 15  num-of-cylinders   205 non-null    object \n",
      " 16  engine-size        205 non-null    int64  \n",
      " 17  fuel-system        205 non-null    object \n",
      " 18  bore               205 non-null    object \n",
      " 19  stroke             205 non-null    object \n",
      " 20  compression-ratio  205 non-null    float64\n",
      " 21  horsepower         205 non-null    object \n",
      " 22  peak-rpm           205 non-null    object \n",
      " 23  city-mpg           205 non-null    int64  \n",
      " 24  highway-mpg        205 non-null    int64  \n",
      " 25  price              205 non-null    object \n",
      "dtypes: float64(5), int64(5), object(16)\n",
      "memory usage: 41.8+ KB\n"
     ]
    }
   ],
   "source": [
    "#| code-fold: true\n",
    "# Data dictionary from documentation.\n",
    "data_dict = \"\"\"1. symboling: -3, -2, -1, 0, 1, 2, 3.\n",
    "2. normalized-losses: continuous from 65 to 256.\n",
    "3. make:\n",
    "alfa-romero, audi, bmw, chevrolet, dodge, honda,\n",
    "isuzu, jaguar, mazda, mercedes-benz, mercury,\n",
    "mitsubishi, nissan, peugot, plymouth, porsche,\n",
    "renault, saab, subaru, toyota, volkswagen, volvo\n",
    "4. fuel-type: diesel, gas.\n",
    "5. aspiration: std, turbo.\n",
    "6. num-of-doors: four, two.\n",
    "7. body-style: hardtop, wagon, sedan, hatchback, convertible.\n",
    "8. drive-wheels: 4wd, fwd, rwd.\n",
    "9. engine-location: front, rear.\n",
    "10. wheel-base: continuous from 86.6 120.9.\n",
    "11. length: continuous from 141.1 to 208.1.\n",
    "12. width: continuous from 60.3 to 72.3.\n",
    "13. height: continuous from 47.8 to 59.8.\n",
    "14. curb-weight: continuous from 1488 to 4066.\n",
    "15. engine-type: dohc, dohcv, l, ohc, ohcf, ohcv, rotor.\n",
    "16. num-of-cylinders: eight, five, four, six, three, twelve, two.\n",
    "17. engine-size: continuous from 61 to 326.\n",
    "18. fuel-system: 1bbl, 2bbl, 4bbl, idi, mfi, mpfi, spdi, spfi.\n",
    "19. bore: continuous from 2.54 to 3.94.\n",
    "20. stroke: continuous from 2.07 to 4.17.\n",
    "21. compression-ratio: continuous from 7 to 23.\n",
    "22. horsepower: continuous from 48 to 288.\n",
    "23. peak-rpm: continuous from 4150 to 6600.\n",
    "24. city-mpg: continuous from 13 to 49.\n",
    "25. highway-mpg: continuous from 16 to 54.\n",
    "26. price: continuous from 5118 to 45400.\"\"\"\n",
    "\n",
    "# Use regex to extract column names from data dictionary.\n",
    "col_names = re.findall(\n",
    "    pattern = r\"^[0-9]{1,2}\\. ([a-z\\-]+):\",\n",
    "    string = data_dict,\n",
    "    # Use multiline flag so that ^ indicates the start of a line.\n",
    "    flags = re.MULTILINE,\n",
    ")\n",
    "\n",
    "# Read data file and add column names.\n",
    "cars_df = pd.read_csv(\n",
    "    \"imports-85.data.txt\",\n",
    "    names = col_names,\n",
    ")\n",
    "\n",
    "cars_df.info()"
   ]
  },
  {
   "attachments": {},
   "cell_type": "markdown",
   "id": "429aa591",
   "metadata": {},
   "source": [
    "There are 205 cars and 26 features. Most of the features directly describe physical characteristics of the cars. Some exceptions are \"symboling\" and \"normalized-losses\", which are values related to car insurance and are beyond the scope of this project. Also, the \"price\" column provides the price of each car in USD.\n",
    "\n",
    "Let us look at the first five rows."
   ]
  },
  {
   "cell_type": "code",
   "execution_count": 5,
   "id": "32ba1536",
   "metadata": {
    "ExecuteTime": {
     "end_time": "2023-11-01T09:52:00.980997Z",
     "start_time": "2023-11-01T09:51:59.964837Z"
    }
   },
   "outputs": [
    {
     "data": {
      "text/plain": "   symboling normalized-losses         make fuel-type aspiration num-of-doors   \n0          3                 ?  alfa-romero       gas        std          two  \\\n1          3                 ?  alfa-romero       gas        std          two   \n2          1                 ?  alfa-romero       gas        std          two   \n3          2               164         audi       gas        std         four   \n4          2               164         audi       gas        std         four   \n\n    body-style drive-wheels engine-location  wheel-base  ...  engine-size   \n0  convertible          rwd           front        88.6  ...          130  \\\n1  convertible          rwd           front        88.6  ...          130   \n2    hatchback          rwd           front        94.5  ...          152   \n3        sedan          fwd           front        99.8  ...          109   \n4        sedan          4wd           front        99.4  ...          136   \n\n   fuel-system  bore  stroke compression-ratio horsepower  peak-rpm city-mpg   \n0         mpfi  3.47    2.68               9.0        111      5000       21  \\\n1         mpfi  3.47    2.68               9.0        111      5000       21   \n2         mpfi  2.68    3.47               9.0        154      5000       19   \n3         mpfi  3.19    3.40              10.0        102      5500       24   \n4         mpfi  3.19    3.40               8.0        115      5500       18   \n\n  highway-mpg  price  \n0          27  13495  \n1          27  16500  \n2          26  16500  \n3          30  13950  \n4          22  17450  \n\n[5 rows x 26 columns]",
      "text/html": "<div>\n<style scoped>\n    .dataframe tbody tr th:only-of-type {\n        vertical-align: middle;\n    }\n\n    .dataframe tbody tr th {\n        vertical-align: top;\n    }\n\n    .dataframe thead th {\n        text-align: right;\n    }\n</style>\n<table border=\"1\" class=\"dataframe\">\n  <thead>\n    <tr style=\"text-align: right;\">\n      <th></th>\n      <th>symboling</th>\n      <th>normalized-losses</th>\n      <th>make</th>\n      <th>fuel-type</th>\n      <th>aspiration</th>\n      <th>num-of-doors</th>\n      <th>body-style</th>\n      <th>drive-wheels</th>\n      <th>engine-location</th>\n      <th>wheel-base</th>\n      <th>...</th>\n      <th>engine-size</th>\n      <th>fuel-system</th>\n      <th>bore</th>\n      <th>stroke</th>\n      <th>compression-ratio</th>\n      <th>horsepower</th>\n      <th>peak-rpm</th>\n      <th>city-mpg</th>\n      <th>highway-mpg</th>\n      <th>price</th>\n    </tr>\n  </thead>\n  <tbody>\n    <tr>\n      <th>0</th>\n      <td>3</td>\n      <td>?</td>\n      <td>alfa-romero</td>\n      <td>gas</td>\n      <td>std</td>\n      <td>two</td>\n      <td>convertible</td>\n      <td>rwd</td>\n      <td>front</td>\n      <td>88.6</td>\n      <td>...</td>\n      <td>130</td>\n      <td>mpfi</td>\n      <td>3.47</td>\n      <td>2.68</td>\n      <td>9.0</td>\n      <td>111</td>\n      <td>5000</td>\n      <td>21</td>\n      <td>27</td>\n      <td>13495</td>\n    </tr>\n    <tr>\n      <th>1</th>\n      <td>3</td>\n      <td>?</td>\n      <td>alfa-romero</td>\n      <td>gas</td>\n      <td>std</td>\n      <td>two</td>\n      <td>convertible</td>\n      <td>rwd</td>\n      <td>front</td>\n      <td>88.6</td>\n      <td>...</td>\n      <td>130</td>\n      <td>mpfi</td>\n      <td>3.47</td>\n      <td>2.68</td>\n      <td>9.0</td>\n      <td>111</td>\n      <td>5000</td>\n      <td>21</td>\n      <td>27</td>\n      <td>16500</td>\n    </tr>\n    <tr>\n      <th>2</th>\n      <td>1</td>\n      <td>?</td>\n      <td>alfa-romero</td>\n      <td>gas</td>\n      <td>std</td>\n      <td>two</td>\n      <td>hatchback</td>\n      <td>rwd</td>\n      <td>front</td>\n      <td>94.5</td>\n      <td>...</td>\n      <td>152</td>\n      <td>mpfi</td>\n      <td>2.68</td>\n      <td>3.47</td>\n      <td>9.0</td>\n      <td>154</td>\n      <td>5000</td>\n      <td>19</td>\n      <td>26</td>\n      <td>16500</td>\n    </tr>\n    <tr>\n      <th>3</th>\n      <td>2</td>\n      <td>164</td>\n      <td>audi</td>\n      <td>gas</td>\n      <td>std</td>\n      <td>four</td>\n      <td>sedan</td>\n      <td>fwd</td>\n      <td>front</td>\n      <td>99.8</td>\n      <td>...</td>\n      <td>109</td>\n      <td>mpfi</td>\n      <td>3.19</td>\n      <td>3.40</td>\n      <td>10.0</td>\n      <td>102</td>\n      <td>5500</td>\n      <td>24</td>\n      <td>30</td>\n      <td>13950</td>\n    </tr>\n    <tr>\n      <th>4</th>\n      <td>2</td>\n      <td>164</td>\n      <td>audi</td>\n      <td>gas</td>\n      <td>std</td>\n      <td>four</td>\n      <td>sedan</td>\n      <td>4wd</td>\n      <td>front</td>\n      <td>99.4</td>\n      <td>...</td>\n      <td>136</td>\n      <td>mpfi</td>\n      <td>3.19</td>\n      <td>3.40</td>\n      <td>8.0</td>\n      <td>115</td>\n      <td>5500</td>\n      <td>18</td>\n      <td>22</td>\n      <td>17450</td>\n    </tr>\n  </tbody>\n</table>\n<p>5 rows × 26 columns</p>\n</div>"
     },
     "execution_count": 5,
     "metadata": {},
     "output_type": "execute_result"
    }
   ],
   "source": [
    "#| code-fold: true\n",
    "cars_df.head()"
   ]
  },
  {
   "attachments": {},
   "cell_type": "markdown",
   "id": "fdac5117",
   "metadata": {},
   "source": [
    "If we compare the data type of each column to its contents, several opportunities for data cleaning can be seen. For example, the \"normalized-losses\" feature is listed as an object-type column because it contains both strings and numbers. However, the strings in the column are question marks (?). Rather than being categories, these may be placeholders for missing data. This problem applies to several other columns, not just this one.\n",
    "\n",
    "Furthermore, in some columns like \"num-of-doors\", numbers are written as words. For example, 2 is written as \"two\". Since the numbers are in string format, these cannot be used in the K Nearest Neighbors model.\n",
    "\n",
    "Thus, in summary, the following cleaning steps have to be performed:\n",
    "\n",
    "- Replace question mark strings (\"?\") with null values (NaN). These are the proper way to indicate missing values.\n",
    "- Convert several object columns, like \"normalized-losses\", into numeric columns.\n",
    "- Replace numbers written as words with their proper numeric equivalents. For example, replace \"four\" with 4.\n",
    "\n",
    "These were performed in the following code cell."
   ]
  },
  {
   "cell_type": "code",
   "execution_count": 6,
   "id": "11b61847",
   "metadata": {
    "ExecuteTime": {
     "end_time": "2023-11-01T09:52:00.981409Z",
     "start_time": "2023-11-01T09:51:59.988125Z"
    }
   },
   "outputs": [
    {
     "name": "stdout",
     "output_type": "stream",
     "text": [
      "<class 'pandas.core.frame.DataFrame'>\n",
      "RangeIndex: 205 entries, 0 to 204\n",
      "Data columns (total 26 columns):\n",
      " #   Column             Non-Null Count  Dtype  \n",
      "---  ------             --------------  -----  \n",
      " 0   symboling          205 non-null    int64  \n",
      " 1   normalized-losses  164 non-null    float64\n",
      " 2   make               205 non-null    object \n",
      " 3   fuel-type          205 non-null    object \n",
      " 4   aspiration         205 non-null    object \n",
      " 5   num-of-doors       203 non-null    float64\n",
      " 6   body-style         205 non-null    object \n",
      " 7   drive-wheels       205 non-null    object \n",
      " 8   engine-location    205 non-null    object \n",
      " 9   wheel-base         205 non-null    float64\n",
      " 10  length             205 non-null    float64\n",
      " 11  width              205 non-null    float64\n",
      " 12  height             205 non-null    float64\n",
      " 13  curb-weight        205 non-null    int64  \n",
      " 14  engine-type        205 non-null    object \n",
      " 15  num-of-cylinders   205 non-null    int64  \n",
      " 16  engine-size        205 non-null    int64  \n",
      " 17  fuel-system        205 non-null    object \n",
      " 18  bore               201 non-null    float64\n",
      " 19  stroke             201 non-null    float64\n",
      " 20  compression-ratio  205 non-null    float64\n",
      " 21  horsepower         203 non-null    float64\n",
      " 22  peak-rpm           203 non-null    float64\n",
      " 23  city-mpg           205 non-null    int64  \n",
      " 24  highway-mpg        205 non-null    int64  \n",
      " 25  price              201 non-null    float64\n",
      "dtypes: float64(12), int64(6), object(8)\n",
      "memory usage: 41.8+ KB\n"
     ]
    }
   ],
   "source": [
    "#| code-fold: true\n",
    "# Clean the data.\n",
    "\n",
    "# Replace ? with NaN since these are placeholders.\n",
    "cars_df = cars_df.replace(\"?\", np.nan)\n",
    "\n",
    "# Change this object column to float type.\n",
    "obj_to_numeric = [\n",
    "    \"normalized-losses\",\n",
    "    \"bore\",\n",
    "    \"stroke\",\n",
    "    \"horsepower\",\n",
    "    \"peak-rpm\",\n",
    "    \"price\",\n",
    "]\n",
    "\n",
    "for col in obj_to_numeric:\n",
    "    cars_df[col] = pd.to_numeric(cars_df[col], errors = \"coerce\")\n",
    "\n",
    "# Replace strings with numeric equivalents.\n",
    "cars_df[\"num-of-doors\"] = cars_df[\"num-of-doors\"].replace(\n",
    "    {\n",
    "        \"four\": 4.0,\n",
    "        \"two\": 2.0,\n",
    "    }\n",
    ")\n",
    "cars_df[\"num-of-cylinders\"] = cars_df[\"num-of-cylinders\"].replace(\n",
    "    {\n",
    "        \"four\": 4,\n",
    "        \"six\": 6,\n",
    "        \"five\": 5,\n",
    "        \"eight\": 8,\n",
    "        \"two\": 2,\n",
    "        \"three\": 3,\n",
    "        \"twelve\": 12,\n",
    "    }\n",
    ")\n",
    "\n",
    "cars_df.info()"
   ]
  },
  {
   "attachments": {},
   "cell_type": "markdown",
   "id": "b37d8498",
   "metadata": {},
   "source": [
    "The new summary of columns is shown above. Several columns which were once \"object\" columns are now numeric. Also, since we replaced \"?\" placeholders with null values, we can now see that some columns have missing values."
   ]
  },
  {
   "cell_type": "code",
   "execution_count": 7,
   "id": "1c9efec3",
   "metadata": {
    "ExecuteTime": {
     "end_time": "2023-11-01T09:52:00.981696Z",
     "start_time": "2023-11-01T09:51:59.994230Z"
    }
   },
   "outputs": [
    {
     "data": {
      "text/plain": "normalized-losses    20.00000\nnum-of-doors          0.97561\nbore                  1.95122\nstroke                1.95122\nhorsepower            0.97561\npeak-rpm              0.97561\nprice                 1.95122\ndtype: float64"
     },
     "execution_count": 7,
     "metadata": {},
     "output_type": "execute_result"
    }
   ],
   "source": [
    "#| code-fold: true\n",
    "null_percs = (\n",
    "    cars_df\n",
    "    .isnull()\n",
    "    .sum()\n",
    "    .divide(cars_df.shape[0])\n",
    "    .multiply(100)\n",
    ")\n",
    "\n",
    "null_percs.loc[null_percs > 0]"
   ]
  },
  {
   "attachments": {},
   "cell_type": "markdown",
   "id": "0d3075d1",
   "metadata": {},
   "source": [
    "The table above shows the percentage of missing values in each column that has them. In particular, \"normalized-losses\" has missing values in 20% of the observations. Thus, we will have to drop this column from the dataset. This is better than the alternative, which is to delete all rows where \"normalized-losses\" is missing.\n",
    "\n",
    "As for the other 6 columns, we will use listwise deletion. This means that we will drop all rows with missing values in any of those columns."
   ]
  },
  {
   "cell_type": "code",
   "execution_count": 8,
   "id": "5ac07e2c",
   "metadata": {
    "ExecuteTime": {
     "end_time": "2023-11-01T09:52:00.982108Z",
     "start_time": "2023-11-01T09:52:00.001911Z"
    }
   },
   "outputs": [
    {
     "name": "stdout",
     "output_type": "stream",
     "text": [
      "Total number of missing values: 0\n",
      "New shape of dataset: (193, 25)\n"
     ]
    }
   ],
   "source": [
    "#| code-fold: true\n",
    "cars_df = (\n",
    "    cars_df\n",
    "    .drop(\"normalized-losses\", axis = 1)\n",
    "    .dropna(\n",
    "        subset = [\n",
    "            \"num-of-doors\",\n",
    "            \"bore\",\n",
    "            \"stroke\",\n",
    "            \"horsepower\",\n",
    "            \"peak-rpm\",\n",
    "            \"price\",\n",
    "        ]\n",
    "    )\n",
    ")\n",
    "\n",
    "num_null = cars_df.isnull().sum().sum()\n",
    "print(f\"Total number of missing values: {num_null}\")\n",
    "print(f\"New shape of dataset: {cars_df.shape}\")"
   ]
  },
  {
   "attachments": {},
   "cell_type": "markdown",
   "id": "65f654cc",
   "metadata": {},
   "source": [
    "Now, there are no more missing values in the dataset. There are 193 rows and 25 columns left."
   ]
  },
  {
   "attachments": {},
   "cell_type": "markdown",
   "id": "503d21ac",
   "metadata": {},
   "source": [
    "# The K Nearest Neighbors Algorithm\n",
    "\n",
    "Next, I will discuss the theory behind the KNN algorithm, then implement it on the dataset.\n",
    "\n",
    "First, let us discuss basic terminology. For your reference, below is a small part of the dataset:"
   ]
  },
  {
   "cell_type": "code",
   "execution_count": 9,
   "id": "d0cab237",
   "metadata": {
    "ExecuteTime": {
     "end_time": "2023-11-01T09:52:00.982467Z",
     "start_time": "2023-11-01T09:52:00.010138Z"
    }
   },
   "outputs": [
    {
     "data": {
      "text/plain": "          make fuel-type  num-of-doors   body-style    price\n0  alfa-romero       gas           2.0  convertible  13495.0\n1  alfa-romero       gas           2.0  convertible  16500.0\n2  alfa-romero       gas           2.0    hatchback  16500.0\n3         audi       gas           4.0        sedan  13950.0\n4         audi       gas           4.0        sedan  17450.0\n5         audi       gas           2.0        sedan  15250.0",
      "text/html": "<div>\n<style scoped>\n    .dataframe tbody tr th:only-of-type {\n        vertical-align: middle;\n    }\n\n    .dataframe tbody tr th {\n        vertical-align: top;\n    }\n\n    .dataframe thead th {\n        text-align: right;\n    }\n</style>\n<table border=\"1\" class=\"dataframe\">\n  <thead>\n    <tr style=\"text-align: right;\">\n      <th></th>\n      <th>make</th>\n      <th>fuel-type</th>\n      <th>num-of-doors</th>\n      <th>body-style</th>\n      <th>price</th>\n    </tr>\n  </thead>\n  <tbody>\n    <tr>\n      <th>0</th>\n      <td>alfa-romero</td>\n      <td>gas</td>\n      <td>2.0</td>\n      <td>convertible</td>\n      <td>13495.0</td>\n    </tr>\n    <tr>\n      <th>1</th>\n      <td>alfa-romero</td>\n      <td>gas</td>\n      <td>2.0</td>\n      <td>convertible</td>\n      <td>16500.0</td>\n    </tr>\n    <tr>\n      <th>2</th>\n      <td>alfa-romero</td>\n      <td>gas</td>\n      <td>2.0</td>\n      <td>hatchback</td>\n      <td>16500.0</td>\n    </tr>\n    <tr>\n      <th>3</th>\n      <td>audi</td>\n      <td>gas</td>\n      <td>4.0</td>\n      <td>sedan</td>\n      <td>13950.0</td>\n    </tr>\n    <tr>\n      <th>4</th>\n      <td>audi</td>\n      <td>gas</td>\n      <td>4.0</td>\n      <td>sedan</td>\n      <td>17450.0</td>\n    </tr>\n    <tr>\n      <th>5</th>\n      <td>audi</td>\n      <td>gas</td>\n      <td>2.0</td>\n      <td>sedan</td>\n      <td>15250.0</td>\n    </tr>\n  </tbody>\n</table>\n</div>"
     },
     "execution_count": 9,
     "metadata": {},
     "output_type": "execute_result"
    }
   ],
   "source": [
    "#| code-fold: true\n",
    "cars_df.loc[:5, [\"make\", \"fuel-type\", \"num-of-doors\", \"body-style\", \"price\"]]"
   ]
  },
  {
   "attachments": {},
   "cell_type": "markdown",
   "id": "46036365",
   "metadata": {},
   "source": [
    "Each row of data is called an observation; in this case, each observation is a car.\n",
    "\n",
    "On the other hand, each column is either a feature or a target. The target is the variable that we try to predict, and the features are information used to make the prediction. In the case of this project, the features may include the size of the car, the number of doors, etc. The target is the price of the car.\n",
    "\n",
    "The set of cars whose prices we will predict is called the testing set. On the other hand, the training set is the set of cars used to train the model to make predictions. Put more simply, in order to predict the price of a car in the testing set, we must compare it to the cars in the training set.\n",
    "\n",
    "In order to compare cars, KNN uses the Euclidean distance as a similarity metric between two observations. A low distance close to 0 means that the observations are very similar to each other. The following formula is used:\n",
    "\n",
    "$d = \\sqrt{\\sum_{i=1}^n (q_i - p_i)^2}$\n",
    "\n",
    "- $d$ is the Euclidean distance.\n",
    "- $n$ is the number of features.\n",
    "- $q$ and $p$ each refer to a different observation in the data. In this case, each is a different car. \n",
    "- $q_i$ is the value of feature $i$ for observation $q$. For example, if feature $1$ is the number of doors, $q_1$ is the number of doors on car $q$.\n",
    "- The differences between the two observations' features are squared, then summed up. Finally, the square root of the sum gives the Euclidean distance.\n",
    "\n",
    "Given that we want to predict the price of a car $q$, KNN computes the Euclidean distance of $q$ from *every single car in the training set*. The cars most similar to $q$ are its \"nearest neighbors.\"\n",
    "\n",
    "We then choose a number $k$, which will determine how many of the nearest neighbors will be selected. For example, if $k = 5$, we select the five most similar cars. Then, we take the mean price of these five cars, and we predict that this is the price of car $q$.\n",
    "\n",
    "Since we make a prediction based on an observation's $k$ nearest neighbors, the algorithm is called K Nearest Neighbors. Note that what I have described is an example of a KNN regression model, as it predicts a numeric target. There are still several other forms of KNN. Some use a different similarity metric like Manhattan distance, and some perform classification, which means that they predict a categorical target (Miller, 2019)."
   ]
  },
  {
   "attachments": {},
   "cell_type": "markdown",
   "id": "32555d74",
   "metadata": {},
   "source": [
    "# Techniques for Implementation\n",
    "\n",
    "Unlike with my previous [post](2021-12-14-Naive-Bayes-Algorithm-Detecting-Spam-Messages.ipynb) on the Naive Bayes Algorithm, I will not be programming this algorithm manually. Instead, I will use the scikit-learn workflow, which involves pre-packaged machine learning functions.\n",
    "\n",
    "In this part, I will individually discuss certain important techniques used in the machine learning workflow. In the next part, I will combine these techniques in order to obtain the optimal KNN model.\n",
    "\n",
    "## Standardization\n",
    "\n",
    "The first important technique is standardization. So that each feature will contribute equally to the Euclidean distance, we will standardize each numeric feature. In other words, each value will be converted into a z-score so that the mean of each feature is 0 and its standard deviation is 1. The following equation is used:\n",
    "\n",
    "$z = \\frac{x - \\bar{x}}{s}$\n",
    "\n",
    "- $z$ is the z-score.\n",
    "- $x$ is a value in a feature.\n",
    "- $\\bar{x}$ is the mean of the feature.\n",
    "- $s$ is the sample standard deviation."
   ]
  },
  {
   "cell_type": "code",
   "execution_count": 10,
   "id": "2c79002c",
   "metadata": {
    "ExecuteTime": {
     "end_time": "2023-11-01T09:52:00.982784Z",
     "start_time": "2023-11-01T09:52:00.030641Z"
    }
   },
   "outputs": [
    {
     "data": {
      "text/plain": "   symboling  num-of-doors  wheel-base    length     width    height   \n0   1.782215     -1.172839   -1.678015 -0.442872 -0.839080 -2.117092  \\\n1   1.782215     -1.172839   -1.678015 -0.442872 -0.839080 -2.117092   \n2   0.163544     -1.172839   -0.719041 -0.250543 -0.184200 -0.613816   \n3   0.972880      0.848214    0.142410  0.182198  0.143240  0.179580   \n4   0.972880      0.848214    0.077395  0.182198  0.236794  0.179580   \n\n   curb-weight  num-of-cylinders  engine-size      bore    stroke   \n0    -0.025646         -0.410180     0.045098  0.511697 -1.803495  \\\n1    -0.025646         -0.410180     0.045098  0.511697 -1.803495   \n2     0.496473          1.544506     0.574066 -2.388614  0.701095   \n3    -0.426254         -0.410180    -0.459826 -0.516262  0.479169   \n4     0.498371          0.567163     0.189362 -0.516262  0.479169   \n\n   compression-ratio  horsepower  peak-rpm  city-mpg  highway-mpg  \n0          -0.287525    0.198054 -0.212806 -0.677292    -0.555613  \n1          -0.287525    0.198054 -0.212806 -0.677292    -0.555613  \n2          -0.287525    1.330822 -0.212806 -0.990387    -0.702307  \n3          -0.036110   -0.039037  0.853987 -0.207649    -0.115531  \n4          -0.538940    0.303427  0.853987 -1.146935    -1.289083  ",
      "text/html": "<div>\n<style scoped>\n    .dataframe tbody tr th:only-of-type {\n        vertical-align: middle;\n    }\n\n    .dataframe tbody tr th {\n        vertical-align: top;\n    }\n\n    .dataframe thead th {\n        text-align: right;\n    }\n</style>\n<table border=\"1\" class=\"dataframe\">\n  <thead>\n    <tr style=\"text-align: right;\">\n      <th></th>\n      <th>symboling</th>\n      <th>num-of-doors</th>\n      <th>wheel-base</th>\n      <th>length</th>\n      <th>width</th>\n      <th>height</th>\n      <th>curb-weight</th>\n      <th>num-of-cylinders</th>\n      <th>engine-size</th>\n      <th>bore</th>\n      <th>stroke</th>\n      <th>compression-ratio</th>\n      <th>horsepower</th>\n      <th>peak-rpm</th>\n      <th>city-mpg</th>\n      <th>highway-mpg</th>\n    </tr>\n  </thead>\n  <tbody>\n    <tr>\n      <th>0</th>\n      <td>1.782215</td>\n      <td>-1.172839</td>\n      <td>-1.678015</td>\n      <td>-0.442872</td>\n      <td>-0.839080</td>\n      <td>-2.117092</td>\n      <td>-0.025646</td>\n      <td>-0.410180</td>\n      <td>0.045098</td>\n      <td>0.511697</td>\n      <td>-1.803495</td>\n      <td>-0.287525</td>\n      <td>0.198054</td>\n      <td>-0.212806</td>\n      <td>-0.677292</td>\n      <td>-0.555613</td>\n    </tr>\n    <tr>\n      <th>1</th>\n      <td>1.782215</td>\n      <td>-1.172839</td>\n      <td>-1.678015</td>\n      <td>-0.442872</td>\n      <td>-0.839080</td>\n      <td>-2.117092</td>\n      <td>-0.025646</td>\n      <td>-0.410180</td>\n      <td>0.045098</td>\n      <td>0.511697</td>\n      <td>-1.803495</td>\n      <td>-0.287525</td>\n      <td>0.198054</td>\n      <td>-0.212806</td>\n      <td>-0.677292</td>\n      <td>-0.555613</td>\n    </tr>\n    <tr>\n      <th>2</th>\n      <td>0.163544</td>\n      <td>-1.172839</td>\n      <td>-0.719041</td>\n      <td>-0.250543</td>\n      <td>-0.184200</td>\n      <td>-0.613816</td>\n      <td>0.496473</td>\n      <td>1.544506</td>\n      <td>0.574066</td>\n      <td>-2.388614</td>\n      <td>0.701095</td>\n      <td>-0.287525</td>\n      <td>1.330822</td>\n      <td>-0.212806</td>\n      <td>-0.990387</td>\n      <td>-0.702307</td>\n    </tr>\n    <tr>\n      <th>3</th>\n      <td>0.972880</td>\n      <td>0.848214</td>\n      <td>0.142410</td>\n      <td>0.182198</td>\n      <td>0.143240</td>\n      <td>0.179580</td>\n      <td>-0.426254</td>\n      <td>-0.410180</td>\n      <td>-0.459826</td>\n      <td>-0.516262</td>\n      <td>0.479169</td>\n      <td>-0.036110</td>\n      <td>-0.039037</td>\n      <td>0.853987</td>\n      <td>-0.207649</td>\n      <td>-0.115531</td>\n    </tr>\n    <tr>\n      <th>4</th>\n      <td>0.972880</td>\n      <td>0.848214</td>\n      <td>0.077395</td>\n      <td>0.182198</td>\n      <td>0.236794</td>\n      <td>0.179580</td>\n      <td>0.498371</td>\n      <td>0.567163</td>\n      <td>0.189362</td>\n      <td>-0.516262</td>\n      <td>0.479169</td>\n      <td>-0.538940</td>\n      <td>0.303427</td>\n      <td>0.853987</td>\n      <td>-1.146935</td>\n      <td>-1.289083</td>\n    </tr>\n  </tbody>\n</table>\n</div>"
     },
     "execution_count": 10,
     "metadata": {},
     "output_type": "execute_result"
    }
   ],
   "source": [
    "#| code-fold: true\n",
    "all_feature_cols = [col for col in cars_df.columns if col != \"price\"]\n",
    "\n",
    "# Series of feature:data type\n",
    "fdt = cars_df[all_feature_cols].dtypes\n",
    "\n",
    "# Identify numeric features\n",
    "all_numeric_features = fdt.index[fdt != \"object\"]\n",
    "\n",
    "# Standardize\n",
    "cars_df[all_numeric_features] = cars_df[all_numeric_features].apply(zscore, axis = 0, ddof = 1)\n",
    "\n",
    "cars_df[all_numeric_features].head()"
   ]
  },
  {
   "attachments": {},
   "cell_type": "markdown",
   "id": "1108abf5",
   "metadata": {},
   "source": [
    "The table above shows the first 5 rows of all of the numeric features. Notice that each feature now contains positive and negative values close to 0 because it was standardized."
   ]
  },
  {
   "attachments": {},
   "cell_type": "markdown",
   "id": "181a64f4",
   "metadata": {},
   "source": [
    "## Feature Selection\n",
    "\n",
    "The second technique is feature selection. We must choose features which we think are most relevant to a car's price. We can only select numeric features since categorical ones cannot be used to calculate Euclidean distance. Thus, we must select from the following features:"
   ]
  },
  {
   "cell_type": "code",
   "execution_count": 11,
   "id": "0ce4d080",
   "metadata": {
    "ExecuteTime": {
     "end_time": "2023-11-01T09:52:00.983050Z",
     "start_time": "2023-11-01T09:52:00.042518Z"
    }
   },
   "outputs": [
    {
     "data": {
      "text/plain": "['symboling',\n 'num-of-doors',\n 'wheel-base',\n 'length',\n 'width',\n 'height',\n 'curb-weight',\n 'num-of-cylinders',\n 'engine-size',\n 'bore',\n 'stroke',\n 'compression-ratio',\n 'horsepower',\n 'peak-rpm',\n 'city-mpg',\n 'highway-mpg']"
     },
     "execution_count": 11,
     "metadata": {},
     "output_type": "execute_result"
    }
   ],
   "source": [
    "#| code-fold: true\n",
    "all_numeric_features.to_list()"
   ]
  },
  {
   "attachments": {},
   "cell_type": "markdown",
   "id": "62598985",
   "metadata": {},
   "source": [
    "All of these features are physical characteristics of a car, except for \"symboling\". According to the dataset documentation by Schlimmer (2019), this feature is an \"insurance risk rating.\" It elaborates:\n",
    "\n",
    "> Cars are initially assigned a risk factor symbol associated with its price. Then, if it is more risky (or less), this symbol is adjusted by moving it up (or down) the scale. Actuarians call this process \"symboling\". A value of +3 indicates that the auto is risky, -3 that it is probably pretty safe."
   ]
  },
  {
   "attachments": {},
   "cell_type": "markdown",
   "id": "170c3439",
   "metadata": {},
   "source": [
    "Given that this feature is systematically associated with the price of a car, it may be relevant to our model. Thus, we will consider it along with the other numeric features.\n",
    "\n",
    "In order to determine which combination of features is the best, we will use univariate feature selection. \"Univariate\" refers to the use of a single variable. We will perform a statistical test between each feature and the target. Then, we will select the features with the highest scores from the statistical test (scikit-learn developers, 2021).\n",
    "\n",
    "In our case, we have a regression problem, since we want to predict a continuous variable, car price. Thus, we will use the F-statistic as our score function. According to Frost (2017), the F-statistic indicates the \"overall significance\" of a linear regression model. In univariate feature selection, we would do the following steps:\n",
    "\n",
    "- For each feature:\n",
    "    - Perform linear regression where the independent variable is the feature and the dependent variable is the target (in this case, price).\n",
    "    - Obtain the F-statistic.\n",
    "- Compile a list with the F-statistic of each feature.\n",
    "- Identify the features with the highest F-statistics.\n",
    "\n",
    "This can be implemented automatically using the scikit-learn's `SelectKBest` class. It is called `SelectKBest` because we can set a parameter `k` which tells how many features to select. For example, if `k = 3`, the top three features with the highest F-statistic are selected. This is done below:"
   ]
  },
  {
   "cell_type": "code",
   "execution_count": 12,
   "id": "ed5a5420",
   "metadata": {
    "ExecuteTime": {
     "end_time": "2023-11-01T09:52:00.988105Z",
     "start_time": "2023-11-01T09:52:00.047071Z"
    }
   },
   "outputs": [],
   "source": [
    "# this code from the author is not working. \n",
    "\n",
    "\n",
    "# skb = SelectKBest(\n",
    "#     score_func = f_regression,\n",
    "#     k = 3,\n",
    "# )\n",
    "# \n",
    "# X = cars_df[all_numeric_features]\n",
    "# y = cars_df[\"price\"]\n",
    "# \n",
    "# X_new = skb.fit_transform(X, y)\n",
    "# \n",
    "# best_features = list(skb.get_feature_names_out())\n",
    "# print(\"Top 3 features:\", best_features)"
   ]
  },
  {
   "cell_type": "code",
   "execution_count": 13,
   "outputs": [
    {
     "name": "stdout",
     "output_type": "stream",
     "text": [
      "Top 3 features: ['engine-size', 'curb-weight', 'horsepower']\n"
     ]
    }
   ],
   "source": [
    "# Fix it as follows!!!\n",
    "skb = SelectKBest(\n",
    "    score_func = f_regression,\n",
    "    k = 3,\n",
    ")\n",
    "\n",
    "X = cars_df[all_numeric_features]\n",
    "y = cars_df[\"price\"]\n",
    "\n",
    "# Fit the SelectKBest object to your data\n",
    "skb.fit(X, y)\n",
    "\n",
    "# Get the scores of each feature\n",
    "scores = skb.scores_\n",
    "\n",
    "# Sort the scores in descending order\n",
    "sorted_indices = np.argsort(scores)[::-1]\n",
    "\n",
    "# Get the indices of the top 3 features\n",
    "top_indices = sorted_indices[:3]\n",
    "\n",
    "# Get the names of the top 3 features\n",
    "best_features = X.columns[top_indices].tolist()\n",
    "\n",
    "print(\"Top 3 features:\", best_features)"
   ],
   "metadata": {
    "collapsed": false,
    "ExecuteTime": {
     "end_time": "2023-11-01T09:52:00.988358Z",
     "start_time": "2023-11-01T09:52:00.049963Z"
    }
   },
   "id": "c8e3573d07f12155"
  },
  {
   "attachments": {},
   "cell_type": "markdown",
   "id": "1d458447",
   "metadata": {},
   "source": [
    "The results show that curb weight, engine size, and horsepower are the highest-scoring features. However, we will not select these yet for the final model, since other steps still must be discussed."
   ]
  },
  {
   "attachments": {},
   "cell_type": "markdown",
   "id": "0b3f0cc4",
   "metadata": {},
   "source": [
    "## Train-Test Split with Stratification\n",
    "\n",
    "Train-test split is the third important technique.\n",
    "\n",
    "Before model training, the dataset has to be split into training and testing sets. We will use 80% of the data in the training set and 20% in the testing set. As the names suggest, the training set is used to train the model or help it *learn* how to predict car prices. Then, we make predictions on the cars on the testing set to see whether the predictions are accurate.\n",
    "\n",
    "Before we split the data, though, we have to ensure that the frequency distribution of the target is similar between the training and testing sets. Below is a histogram of the frequency distribution of car price across the entire dataset:"
   ]
  },
  {
   "cell_type": "code",
   "execution_count": 14,
   "id": "f84b4a2a",
   "metadata": {
    "ExecuteTime": {
     "end_time": "2023-11-01T09:52:00.991004Z",
     "start_time": "2023-11-01T09:52:00.073040Z"
    }
   },
   "outputs": [
    {
     "data": {
      "text/plain": "<Figure size 432x288 with 1 Axes>",
      "image/png": "[encoded data removed]"
     },
     "metadata": {},
     "output_type": "display_data"
    }
   ],
   "source": [
    "#| code-fold: true\n",
    "sns.histplot(cars_df[\"price\"], bins = 100)\n",
    "plt.title(\"Frequency Distribution of Car Price\")\n",
    "plt.xlabel(\"Price (USD)\")\n",
    "plt.ylabel(\"Number of Cars\")\n",
    "plt.show()"
   ]
  },
  {
   "attachments": {},
   "cell_type": "markdown",
   "id": "8206307c",
   "metadata": {},
   "source": [
    "The graph shows a right-skewed distribution, which means that most of the car prices are low and there are outliers with high prices. When we split the data into training and testing sets, we want each set to have a similar distribution to this.\n",
    "\n",
    "De Cock (2011) provides a helpful suggestion on how to do this. The article says, \"Simply order the original data set by a variable of interest (such as \n",
    "sale price) and select every kth observation to achieve the desired sample size (k=2 for a \n",
    "50/50 split or k=4 for a 75/25 split).\"\n",
    "\n",
    "In our case, we want an 80/20 split. One-fifth of the data will go to the testing set, so we can use k = 5. We will thus order the observations by price, then assign every 5th observation to the testing set. All other observations will go to the training set.\n",
    "\n",
    "In the code below, I have written a custom function `stratify_continuous` that uses this technique. I then performed a train-test split after stratification. `X_train` and `y_train` refer to the features and target in the training set, respectively. `X_test` and `y_test` are from the testing set."
   ]
  },
  {
   "cell_type": "code",
   "execution_count": 15,
   "id": "44a02076",
   "metadata": {
    "ExecuteTime": {
     "end_time": "2023-11-01T09:52:00.991368Z",
     "start_time": "2023-11-01T09:52:00.287332Z"
    }
   },
   "outputs": [
    {
     "data": {
      "text/plain": "       y_train price  y_test price\ncount     155.000000     38.000000\nmean    13308.658065  13188.631579\nstd      8197.063090   7737.592975\nmin      5118.000000   5389.000000\n25%      7713.500000   7805.750000\n50%     10245.000000  10295.000000\n75%     16530.500000  16385.750000\nmax     45400.000000  37028.000000",
      "text/html": "<div>\n<style scoped>\n    .dataframe tbody tr th:only-of-type {\n        vertical-align: middle;\n    }\n\n    .dataframe tbody tr th {\n        vertical-align: top;\n    }\n\n    .dataframe thead th {\n        text-align: right;\n    }\n</style>\n<table border=\"1\" class=\"dataframe\">\n  <thead>\n    <tr style=\"text-align: right;\">\n      <th></th>\n      <th>y_train price</th>\n      <th>y_test price</th>\n    </tr>\n  </thead>\n  <tbody>\n    <tr>\n      <th>count</th>\n      <td>155.000000</td>\n      <td>38.000000</td>\n    </tr>\n    <tr>\n      <th>mean</th>\n      <td>13308.658065</td>\n      <td>13188.631579</td>\n    </tr>\n    <tr>\n      <th>std</th>\n      <td>8197.063090</td>\n      <td>7737.592975</td>\n    </tr>\n    <tr>\n      <th>min</th>\n      <td>5118.000000</td>\n      <td>5389.000000</td>\n    </tr>\n    <tr>\n      <th>25%</th>\n      <td>7713.500000</td>\n      <td>7805.750000</td>\n    </tr>\n    <tr>\n      <th>50%</th>\n      <td>10245.000000</td>\n      <td>10295.000000</td>\n    </tr>\n    <tr>\n      <th>75%</th>\n      <td>16530.500000</td>\n      <td>16385.750000</td>\n    </tr>\n    <tr>\n      <th>max</th>\n      <td>45400.000000</td>\n      <td>37028.000000</td>\n    </tr>\n  </tbody>\n</table>\n</div>"
     },
     "execution_count": 15,
     "metadata": {},
     "output_type": "execute_result"
    }
   ],
   "source": [
    "\n",
    "def stratify_continuous(n_folds, y):\n",
    "    \"\"\"Stratify a dataset on a continuous target.\"\"\"\n",
    "    if n_folds < 2 or n_folds > 10:\n",
    "        raise ValueError(\"Please select a number of folds from 2 to 10.\")\n",
    "    \n",
    "    fold_nums = list(range(n_folds))\n",
    "\n",
    "    # DataFrame where \"index\" column contains the original indices\n",
    "    df = pd.DataFrame(\n",
    "        y\n",
    "        # Shuffle before ranking so that cars with the same price are ordered randomly.\n",
    "        .sample(frac = 1, random_state = 1, ignore_index = False)\n",
    "    )\n",
    "\n",
    "    # This column gives a rank to each value in y. 0 is the rank of the lowest value.\n",
    "    # Ties are broken according to order of appearance.\n",
    "    df[\"rank\"] = df[y.name].rank(method = \"first\") - 1\n",
    "\n",
    "    df[\"fold\"] = 0\n",
    "\n",
    "    for f in fold_nums[1:]:\n",
    "        # start at f, then increment by n_folds\n",
    "        indices = list(range(f, df.shape[0], n_folds))\n",
    "        df.loc[df[\"rank\"].isin(indices), \"fold\"] = f\n",
    "\n",
    "    # Revert df to original order of indices\n",
    "    df = df.reindex(index = y.index)\n",
    "\n",
    "    # A series that indicates the fold number of each observation according to its original position in y\n",
    "    fold_series = df[\"fold\"].copy()\n",
    "\n",
    "    return fold_series\n",
    "\n",
    "folds = stratify_continuous(\n",
    "    n_folds = 5,\n",
    "    y = cars_df[\"price\"],\n",
    ")\n",
    "\n",
    "def split_folds(X, y, fold_series, test_fold):\n",
    "    \"\"\"Take a dataset whose observations have been grouped into folds,\n",
    "    then perform a train-test split.\"\"\"\n",
    "\n",
    "    if fold_series.dtype != \"int64\":\n",
    "        raise AttributeError(\"The fold list does not purely contain integers.\")\n",
    "\n",
    "    test_mask = (fold_series == test_fold)\n",
    "\n",
    "    X_train = X.loc[~test_mask].copy()\n",
    "    y_train = y.loc[~test_mask].copy()\n",
    "\n",
    "    X_test = X.loc[test_mask].copy()\n",
    "    y_test = y.loc[test_mask].copy()\n",
    "\n",
    "    return X_train, X_test, y_train, y_test\n",
    "\n",
    "X_train, X_test, y_train, y_test = split_folds(\n",
    "    X = cars_df[all_numeric_features],\n",
    "    y = cars_df[\"price\"],\n",
    "    fold_series = folds,\n",
    "    test_fold = 4,\n",
    ")\n",
    "\n",
    "# Summary statistics for target columns.\n",
    "target_df = pd.concat(\n",
    "    [y_train, y_test],\n",
    "    axis = 1,\n",
    "    join = \"outer\",\n",
    ")\n",
    "\n",
    "target_df.columns = [\"y_train price\", \"y_test price\"]\n",
    "\n",
    "target_df.describe()"
   ]
  },
  {
   "attachments": {},
   "cell_type": "markdown",
   "id": "1a121e53",
   "metadata": {},
   "source": [
    "This table shows summary statistics for the price columns of the two sets. The sets have similar means at around USD 13,200, and they also have similar medians at around USD 10,200.\n",
    "\n",
    "Let us compare the price distributions using KDE plots:"
   ]
  },
  {
   "cell_type": "code",
   "execution_count": 16,
   "outputs": [
    {
     "data": {
      "text/plain": "[13495.0,\n 16500.0,\n 16500.0,\n 13950.0,\n 17450.0,\n 15250.0,\n 17710.0,\n 16430.0,\n 16925.0,\n 20970.0,\n 24565.0,\n 41315.0,\n 36880.0,\n 5151.0,\n 6295.0,\n 5572.0,\n 6377.0,\n 7957.0,\n 6229.0,\n 6692.0,\n 7609.0,\n 8921.0,\n 6479.0,\n 6855.0,\n 5399.0,\n 6529.0,\n 7129.0,\n 7295.0,\n 7295.0,\n 7895.0,\n 10295.0,\n 12945.0,\n 10345.0,\n 6785.0,\n 11048.0,\n 32250.0,\n 35550.0,\n 36000.0,\n 5195.0,\n 6795.0,\n 7395.0,\n 8845.0,\n 8495.0,\n 10245.0,\n 18344.0,\n 25552.0,\n 28248.0,\n 28176.0,\n 31600.0,\n 35056.0,\n 40960.0,\n 45400.0,\n 16503.0,\n 6189.0,\n 6669.0,\n 7689.0,\n 8499.0,\n 12629.0,\n 14869.0,\n 14489.0,\n 6989.0,\n 8189.0,\n 9279.0,\n 9279.0,\n 5499.0,\n 7099.0,\n 6649.0,\n 6849.0,\n 7349.0,\n 7799.0,\n 7499.0,\n 7999.0,\n 8249.0,\n 8949.0,\n 9549.0,\n 13499.0,\n 17199.0,\n 19699.0,\n 18399.0,\n 11900.0,\n 13200.0,\n 13860.0,\n 15580.0,\n 16695.0,\n 17075.0,\n 16630.0,\n 17950.0,\n 18150.0,\n 5572.0,\n 7957.0,\n 6229.0,\n 6692.0,\n 7609.0,\n 8921.0,\n 12764.0,\n 22018.0,\n 32528.0,\n 34028.0,\n 11850.0,\n 12170.0,\n 15040.0,\n 18150.0,\n 18620.0,\n 5118.0,\n 7053.0,\n 9960.0,\n 9233.0,\n 11259.0,\n 7463.0,\n 10198.0,\n 8013.0,\n 5348.0,\n 6488.0,\n 8778.0,\n 6938.0,\n 7198.0,\n 7898.0,\n 7788.0,\n 7738.0,\n 8358.0,\n 9258.0,\n 8058.0,\n 8238.0,\n 9538.0,\n 8449.0,\n 9639.0,\n 9989.0,\n 11199.0,\n 11549.0,\n 8948.0,\n 10698.0,\n 9988.0,\n 10898.0,\n 11248.0,\n 16558.0,\n 15690.0,\n 15750.0,\n 7775.0,\n 7975.0,\n 9495.0,\n 11595.0,\n 9980.0,\n 13295.0,\n 13845.0,\n 12290.0,\n 12940.0,\n 13415.0,\n 15985.0,\n 18420.0,\n 18950.0,\n 16845.0,\n 19045.0,\n 21485.0,\n 22470.0,\n 22625.0]"
     },
     "execution_count": 16,
     "metadata": {},
     "output_type": "execute_result"
    }
   ],
   "source": [
    "y_train.to_list()"
   ],
   "metadata": {
    "collapsed": false,
    "ExecuteTime": {
     "end_time": "2023-11-01T09:52:00.991659Z",
     "start_time": "2023-11-01T09:52:00.310792Z"
    }
   },
   "id": "109d8fbffd45fee"
  },
  {
   "cell_type": "code",
   "execution_count": 17,
   "outputs": [
    {
     "data": {
      "text/plain": "<Figure size 432x288 with 1 Axes>",
      "image/png": "[encoded data removed]"
     },
     "metadata": {},
     "output_type": "display_data"
    }
   ],
   "source": [
    "\n",
    "\n",
    "import numpy as np\n",
    "from matplotlib import pyplot as plt\n",
    "from scipy.stats import gaussian_kde\n",
    "\n",
    "# Create a list of values\n",
    "values = [13495.0, 16500.0, 16500.0, 13950.0, 17450.0, 15250.0]\n",
    "\n",
    "y_train_values = y_train.tolist()\n",
    "y_test_values = y_test.tolist()\n",
    "\n",
    "# Estimate the PDF using a Gaussian kernel density estimator\n",
    "pdf = gaussian_kde(y_train_values)\n",
    "pdf2 = gaussian_kde(y_test_values)\n",
    "\n",
    "# Create a range of values to plot the PDF\n",
    "x = np.linspace(0, max(y_train_values), 100)\n",
    "\n",
    "# Plot the PDF\n",
    "plt.plot(x, pdf(x))\n",
    "plt.plot(x, pdf2(x))\n",
    "plt.title(\"Probability Density Function\")\n",
    "plt.xlabel(\"Value\")\n",
    "plt.ylabel(\"Density\")\n",
    "plt.show()"
   ],
   "metadata": {
    "collapsed": false,
    "ExecuteTime": {
     "end_time": "2023-11-01T09:52:00.991837Z",
     "start_time": "2023-11-01T09:52:00.317074Z"
    }
   },
   "id": "78889f80791b9760"
  },
  {
   "attachments": {},
   "cell_type": "markdown",
   "id": "01c1d490",
   "metadata": {},
   "source": [
    "The KDE plots both seem to follow the same shape and have the same center. This shows that the training and testing sets have roughly the same distribution of car prices. Thus, these were stratified correctly."
   ]
  },
  {
   "attachments": {},
   "cell_type": "markdown",
   "id": "cbae7a24",
   "metadata": {},
   "source": [
    "## Hyperparameter Optimization\n",
    "\n",
    "The fourth technique is hyperparameter optimization. This involves training the KNN model using different hyperparameter values to see which one performs the best.\n",
    "\n",
    "A hyperparameter is a value that influences the behavior of a model and has no relation to the data. In the case of KNN, one important hyperparameter is the $k$ value, or the number of neighbors used to make a prediction. If $k = 5$, we take the mean price of the top five most similar cars and call this our prediction. However, if $k = 10$, we take the top ten cars, so the mean price may be different.\n",
    "\n",
    "We can optimize $k$ in this way:\n",
    "\n",
    "- Decide values of $k$ to test.\n",
    "- For each $k$ value, fit and evaluate a KNN model.\n",
    "- Identify the best-performing model and use its $k$ value in the final model.\n",
    "\n",
    "In order to evaluate a model, we need an evaluation metric. In our case, we will use the Root Mean Squared Error or RMSE. This is calculated with the following equation:\n",
    "\n",
    "$RMSE = \\sqrt{\\frac{1}{n} \\sum_{i=1}^n (\\text{actual}_i - \\text{predicted}_i)^2}$\n",
    "\n",
    "- $n$ is the sample size.\n",
    "- $\\text{actual}$ is the actual target value, or in this case, the actual price of a car.\n",
    "- $\\text{predicted}$ is the predicted target value.\n",
    "\n",
    "RMSE can be interpreted as the average error of a regression model. For example, if $RMSE = 1000$, this means that the model's predicted car prices are USD 1000 away from the actual car prices, on average.\n",
    "\n",
    "Below is an example of hyperparameter optimization using RMSE. All of the numeric features were used for this example."
   ]
  },
  {
   "cell_type": "code",
   "execution_count": 18,
   "id": "17eb9cee",
   "metadata": {
    "ExecuteTime": {
     "end_time": "2023-11-01T09:52:00.992238Z",
     "start_time": "2023-11-01T09:52:00.416456Z"
    }
   },
   "outputs": [
    {
     "name": "stdout",
     "output_type": "stream",
     "text": [
      "k value and RMSE\n"
     ]
    },
    {
     "data": {
      "text/plain": "1    4086.029491\n3    3146.025226\n5    3251.392477\ndtype: float64"
     },
     "execution_count": 18,
     "metadata": {},
     "output_type": "execute_result"
    }
   ],
   "source": [
    "#| code-fold: true\n",
    "\n",
    "k_values = [1, 3, 5]\n",
    "\n",
    "k_rmse = pd.Series(dtype = \"float64\")\n",
    "\n",
    "for k in k_values:\n",
    "    knn = KNeighborsRegressor(\n",
    "        n_neighbors = k,\n",
    "        algorithm = \"auto\",\n",
    "    )\n",
    "\n",
    "    knn.fit(X_train, y_train)\n",
    "\n",
    "    y_pred = knn.predict(X_test)\n",
    "\n",
    "    rmse = np.sqrt(mean_squared_error(y_test, y_pred))\n",
    "\n",
    "    k_rmse.loc[k] = rmse\n",
    "\n",
    "print(\"k value and RMSE\")\n",
    "k_rmse"
   ]
  },
  {
   "attachments": {},
   "cell_type": "markdown",
   "id": "f407a62f",
   "metadata": {},
   "source": [
    "The table above shows that RMSE was lowest for $k = 3$. The RMSE was about USD 3146, which means that on average, the predicted prices are USD 3146 away from the actual prices."
   ]
  },
  {
   "attachments": {},
   "cell_type": "markdown",
   "id": "3d50e201",
   "metadata": {},
   "source": [
    "## K-Fold Cross-Validation"
   ]
  },
  {
   "attachments": {},
   "cell_type": "markdown",
   "id": "d4375cf4",
   "metadata": {},
   "source": [
    "The last technique that will be discussed is K-Fold Cross-Validation. Earlier, we split the data into one training set and one testing set. The K-Fold Cross-Validation allows us to obtain a more holistic view of model performance by rotating the observations used in the two sets. In the words of Brownlee (2018), it estimates \"how the model is expected to perform in general when used to make predictions on data not used during the training of the model.\"\n",
    "\n",
    "Here, $k$ has a different meaning. It determines the number of splits to make in a dataset. For example, if $k = 5$, the dataset will be split into 5 folds, each set containing 20% of the total data.\n",
    "\n",
    "In summary, the following steps are performed:\n",
    "\n",
    "- Split the data into 5 folds: A, B, C, D, E.\n",
    "- Use fold A as the testing set and use the others as the training set.\n",
    "- Fit and evaluate a KNN model, thus obtaining RMSE.\n",
    "- Repeat the above process for a total of 5 times, so that each fold is used as a testing set once.\n",
    "- Compile a list of the five RMSE values obtained.\n",
    "- Compute the mean RMSE value. This is the final metric of model performance.\n",
    "\n",
    "K-Fold Cross-Validation can be implemented using scikit-learn's `KFold` and `cross_val_score` . An example of 5-fold cross-validation is shown below."
   ]
  },
  {
   "cell_type": "code",
   "execution_count": 19,
   "id": "202d0033",
   "metadata": {
    "ExecuteTime": {
     "end_time": "2023-11-01T09:52:00.992419Z",
     "start_time": "2023-11-01T09:52:00.430885Z"
    }
   },
   "outputs": [
    {
     "name": "stdout",
     "output_type": "stream",
     "text": [
      "Regular 5-fold cross-validation\n",
      "Mean RMSE: 3718.68\n",
      "Standard Deviation RMSE: 564.25\n",
      "RMSE Values: [3407.8275635020186, 3884.134530665447, 3009.7340988268425, 4521.314079941105, 3770.3892479494248]\n"
     ]
    }
   ],
   "source": [
    "#| code-fold: true\n",
    "\n",
    "knn = KNeighborsRegressor(\n",
    "    n_neighbors = 5,\n",
    "    algorithm = \"auto\",\n",
    ")\n",
    "\n",
    "kf = KFold(5, shuffle = True, random_state = 1)\n",
    "\n",
    "mses = cross_val_score(\n",
    "    estimator = knn,\n",
    "    X = cars_df[all_numeric_features],\n",
    "    y = cars_df[\"price\"],\n",
    "    scoring = \"neg_mean_squared_error\",\n",
    "    cv = kf,\n",
    ")\n",
    "\n",
    "mses = pd.Series(mses)\n",
    "\n",
    "rmses = mses.abs().pow(1/2)\n",
    "\n",
    "mean_rmse = rmses.mean()\n",
    "\n",
    "sd_rmse = rmses.std(ddof = 1)\n",
    "\n",
    "print(f\"\"\"Regular 5-fold cross-validation\n",
    "Mean RMSE: {mean_rmse:.2f}\n",
    "Standard Deviation RMSE: {sd_rmse:.2f}\n",
    "RMSE Values: {rmses.to_list()}\"\"\")"
   ]
  },
  {
   "attachments": {},
   "cell_type": "markdown",
   "id": "56e116b7",
   "metadata": {},
   "source": [
    "The mean RMSE above presents a better picture of the model's performance because it takes into account different possible combinations of training and testing sets.\n",
    "\n",
    "Note, however, that the standard deviation of the RMSE was around 566. This means that the RMSE values varied by several hundreds of dollars from model to model during the cross-validation. In simpler terms, the model performance was inconsistent. It performed much better when trained on some folds than when it was trained on other folds.\n",
    "\n",
    "Thus, we can take k-fold cross-validation a step further by stratifying the folds so that they will have similar price distributions. This will ensure that each fold is representative of the full sample. Thus, I have written a custom function in the code cell below to do this."
   ]
  },
  {
   "cell_type": "code",
   "execution_count": 33,
   "id": "83f23d8b",
   "metadata": {
    "ExecuteTime": {
     "end_time": "2023-11-01T09:57:35.967894Z",
     "start_time": "2023-11-01T09:57:35.867419Z"
    }
   },
   "outputs": [
    {
     "name": "stdout",
     "output_type": "stream",
     "text": [
      "Stratified 5-fold cross-validation\n",
      "Mean RMSE: 3369.44\n",
      "Standard Deviation RMSE: 387.33\n",
      "RMSE Values: [3193.0727214096655, 2883.515369146238, 3844.6421242541865, 3674.5947449327227, 3251.39247707809]\n"
     ]
    }
   ],
   "source": [
    "#| code-fold: true\n",
    "def stratified_kfcv(X, y, fold_series, regression_model):\n",
    "    \"\"\"Conduct k-fold cross-validation on a stratified dataset.\"\"\"\n",
    "\n",
    "    fold_nums = fold_series.unique()\n",
    "\n",
    "    mse_lst = []\n",
    "\n",
    "    for f in fold_nums:\n",
    "        X_train, X_test, y_train, y_test = split_folds(\n",
    "            X = X,\n",
    "            y = y,\n",
    "            test_fold = f,\n",
    "            fold_series = fold_series,\n",
    "        )\n",
    "        \n",
    "        regression_model.fit(X_train, y_train)\n",
    "        y_pred = regression_model.predict(X_test)\n",
    "\n",
    "        mse = mean_squared_error(y_test, y_pred)\n",
    "        mse_lst.append(mse)\n",
    "\n",
    "    return mse_lst\n",
    "\n",
    "knn = KNeighborsRegressor(\n",
    "    n_neighbors = 5,\n",
    "    algorithm = \"auto\",\n",
    ")\n",
    "\n",
    "mse_lst = stratified_kfcv(\n",
    "    X = cars_df[all_numeric_features],\n",
    "    y = cars_df[\"price\"],\n",
    "    fold_series = folds,\n",
    "    regression_model = knn,\n",
    ")\n",
    "\n",
    "mse_series = pd.Series(mse_lst)\n",
    "\n",
    "rmse_series = mse_series.pow(1/2)\n",
    "\n",
    "mean_rmse = rmse_series.mean()\n",
    "sd_rmse = rmse_series.std(ddof = 1)\n",
    "\n",
    "print(f\"\"\"Stratified 5-fold cross-validation\n",
    "Mean RMSE: {mean_rmse:.2f}\n",
    "Standard Deviation RMSE: {sd_rmse:.2f}\n",
    "RMSE Values: {rmse_series.to_list()}\"\"\")"
   ]
  },
  {
   "attachments": {},
   "cell_type": "markdown",
   "id": "0eeffca6",
   "metadata": {},
   "source": [
    "The mean RMSE from stratified CV was USD 3369. This is about USD 400 lower than the result of the regular CV, USD 3722.\n",
    "\n",
    "Furthermore, the SD RMSE is equal to 387, which is lower than the previous value of 566. Therefore, the five models trained during cross-validation performed more similarly to each other.\n",
    "\n",
    "Thus, we can see that stratifying observations before k-fold cross-validation can be more effective at approximating the true performance of the model compared to regular k-fold cross-validation."
   ]
  },
  {
   "attachments": {},
   "cell_type": "markdown",
   "id": "445e74b8",
   "metadata": {},
   "source": [
    "# Combining Techniques\n",
    "\n",
    "In this part, we will combine all of the discussed techniques to optimize the KNN model.\n",
    "\n",
    "The steps are as follows:\n",
    "\n",
    "- Use the standardized features that were calculated earlier.\n",
    "- For each number `n_features` from 1 to 10:\n",
    "    - Perform univariate feature selection using the F-statistic.\n",
    "    - Identify the best `n_features` features.\n",
    "    - For each number `k` from 1 to 20:\n",
    "        - Evaluate the model using stratified 5-fold cross-validation.\n",
    "        - For each fold, train a `k` nearest neighbors model using the best features.\n",
    "        - Obtain the mean RMSE value.\n",
    "- Compile a list of all mean RMSE values obtained.\n",
    "- Identify the model with the lowest mean RMSE. This is the final model.\n",
    "\n",
    "This is implemented in the code below."
   ]
  },
  {
   "cell_type": "code",
   "execution_count": 34,
   "outputs": [
    {
     "data": {
      "text/plain": "Index(['symboling', 'num-of-doors', 'wheel-base', 'length', 'width', 'height',\n       'curb-weight', 'num-of-cylinders', 'engine-size', 'bore', 'stroke',\n       'compression-ratio', 'horsepower', 'peak-rpm', 'city-mpg',\n       'highway-mpg'],\n      dtype='object')"
     },
     "execution_count": 34,
     "metadata": {},
     "output_type": "execute_result"
    }
   ],
   "source": [
    "all_numeric_features"
   ],
   "metadata": {
    "collapsed": false,
    "ExecuteTime": {
     "end_time": "2023-11-01T09:58:54.335602Z",
     "start_time": "2023-11-01T09:58:54.282790Z"
    }
   },
   "id": "f94ed295b6a0d1fb"
  },
  {
   "cell_type": "code",
   "execution_count": 35,
   "id": "0c87666e",
   "metadata": {
    "ExecuteTime": {
     "end_time": "2023-11-01T09:59:12.149418Z",
     "start_time": "2023-11-01T09:59:10.441163Z"
    }
   },
   "outputs": [],
   "source": [
    "n_feature_list = list(range(1, 11))\n",
    "\n",
    "result_lst = []\n",
    "\n",
    "for n_features in n_feature_list:\n",
    "    \n",
    "    # Univariate feature selection\n",
    "    skb = SelectKBest(\n",
    "        score_func = f_regression,\n",
    "        k = n_features,\n",
    "    )\n",
    "\n",
    "    X = cars_df[all_numeric_features]\n",
    "    y = cars_df[\"price\"]\n",
    "\n",
    "    # NOT WORKING!!!!\n",
    "    # X_new = skb.fit_transform(X, y)\n",
    "    # \n",
    "    # # List of \"best\" features\n",
    "    # best_features = list(skb.get_feature_names_out())\n",
    "    \n",
    "    skb.fit(X,y)\n",
    "    \n",
    "    scores=skb.scores_\n",
    "    # Sort the scores in descending order\n",
    "    sorted_indices = np.argsort(scores)[::-1]\n",
    "    \n",
    "    # Get the indices of the top 3 features\n",
    "    top_indices = sorted_indices[:3]\n",
    "    \n",
    "    # Get the names of the top 3 features\n",
    "    best_features = X.columns[top_indices].tolist()\n",
    "\n",
    "\n",
    "    k_values = list(range(1, 21))\n",
    "\n",
    "    for k in k_values:\n",
    "\n",
    "        # stratified 5-fold cross validation\n",
    "\n",
    "        knn = KNeighborsRegressor(\n",
    "            # Use a different k value each time\n",
    "            n_neighbors = k,\n",
    "            algorithm = \"auto\",\n",
    "        )\n",
    "\n",
    "        mse_lst = stratified_kfcv(\n",
    "            X = cars_df[best_features],\n",
    "            y = cars_df[\"price\"],\n",
    "            fold_series = folds,\n",
    "            regression_model = knn,\n",
    "        )\n",
    "\n",
    "        mse_series = pd.Series(mse_lst)\n",
    "\n",
    "        rmse_series = mse_series.pow(1/2)\n",
    "\n",
    "        mean_rmse = rmse_series.mean()\n",
    "        sd_rmse = rmse_series.std(ddof = 1)\n",
    "\n",
    "        new_row = (n_features, best_features, k, mean_rmse, sd_rmse)\n",
    "        result_lst.append(new_row)\n",
    "\n",
    "result_df = pd.DataFrame(result_lst)\n",
    "result_df.columns = [\"Number of Features\", \"Best Features\", \"k Neighbors\", \"Mean RMSE\", \"SD RMSE\"]\n",
    "\n",
    "result_df = (\n",
    "    result_df.sort_values([\"Mean RMSE\", \"SD RMSE\"], ascending = True)\n",
    "    .reset_index(drop = True)\n",
    ")"
   ]
  },
  {
   "cell_type": "code",
   "execution_count": 36,
   "outputs": [
    {
     "data": {
      "text/plain": "     Number of Features                           Best Features  k Neighbors   \n0                     1  [engine-size, curb-weight, horsepower]            2  \\\n1                     2  [engine-size, curb-weight, horsepower]            2   \n2                     3  [engine-size, curb-weight, horsepower]            2   \n3                     4  [engine-size, curb-weight, horsepower]            2   \n4                     5  [engine-size, curb-weight, horsepower]            2   \n..                  ...                                     ...          ...   \n195                   6  [engine-size, curb-weight, horsepower]           20   \n196                   7  [engine-size, curb-weight, horsepower]           20   \n197                   8  [engine-size, curb-weight, horsepower]           20   \n198                   9  [engine-size, curb-weight, horsepower]           20   \n199                  10  [engine-size, curb-weight, horsepower]           20   \n\n       Mean RMSE     SD RMSE  \n0    2752.188717  509.982177  \n1    2752.188717  509.982177  \n2    2752.188717  509.982177  \n3    2752.188717  509.982177  \n4    2752.188717  509.982177  \n..           ...         ...  \n195  4116.699041  241.867671  \n196  4116.699041  241.867671  \n197  4116.699041  241.867671  \n198  4116.699041  241.867671  \n199  4116.699041  241.867671  \n\n[200 rows x 5 columns]",
      "text/html": "<div>\n<style scoped>\n    .dataframe tbody tr th:only-of-type {\n        vertical-align: middle;\n    }\n\n    .dataframe tbody tr th {\n        vertical-align: top;\n    }\n\n    .dataframe thead th {\n        text-align: right;\n    }\n</style>\n<table border=\"1\" class=\"dataframe\">\n  <thead>\n    <tr style=\"text-align: right;\">\n      <th></th>\n      <th>Number of Features</th>\n      <th>Best Features</th>\n      <th>k Neighbors</th>\n      <th>Mean RMSE</th>\n      <th>SD RMSE</th>\n    </tr>\n  </thead>\n  <tbody>\n    <tr>\n      <th>0</th>\n      <td>1</td>\n      <td>[engine-size, curb-weight, horsepower]</td>\n      <td>2</td>\n      <td>2752.188717</td>\n      <td>509.982177</td>\n    </tr>\n    <tr>\n      <th>1</th>\n      <td>2</td>\n      <td>[engine-size, curb-weight, horsepower]</td>\n      <td>2</td>\n      <td>2752.188717</td>\n      <td>509.982177</td>\n    </tr>\n    <tr>\n      <th>2</th>\n      <td>3</td>\n      <td>[engine-size, curb-weight, horsepower]</td>\n      <td>2</td>\n      <td>2752.188717</td>\n      <td>509.982177</td>\n    </tr>\n    <tr>\n      <th>3</th>\n      <td>4</td>\n      <td>[engine-size, curb-weight, horsepower]</td>\n      <td>2</td>\n      <td>2752.188717</td>\n      <td>509.982177</td>\n    </tr>\n    <tr>\n      <th>4</th>\n      <td>5</td>\n      <td>[engine-size, curb-weight, horsepower]</td>\n      <td>2</td>\n      <td>2752.188717</td>\n      <td>509.982177</td>\n    </tr>\n    <tr>\n      <th>...</th>\n      <td>...</td>\n      <td>...</td>\n      <td>...</td>\n      <td>...</td>\n      <td>...</td>\n    </tr>\n    <tr>\n      <th>195</th>\n      <td>6</td>\n      <td>[engine-size, curb-weight, horsepower]</td>\n      <td>20</td>\n      <td>4116.699041</td>\n      <td>241.867671</td>\n    </tr>\n    <tr>\n      <th>196</th>\n      <td>7</td>\n      <td>[engine-size, curb-weight, horsepower]</td>\n      <td>20</td>\n      <td>4116.699041</td>\n      <td>241.867671</td>\n    </tr>\n    <tr>\n      <th>197</th>\n      <td>8</td>\n      <td>[engine-size, curb-weight, horsepower]</td>\n      <td>20</td>\n      <td>4116.699041</td>\n      <td>241.867671</td>\n    </tr>\n    <tr>\n      <th>198</th>\n      <td>9</td>\n      <td>[engine-size, curb-weight, horsepower]</td>\n      <td>20</td>\n      <td>4116.699041</td>\n      <td>241.867671</td>\n    </tr>\n    <tr>\n      <th>199</th>\n      <td>10</td>\n      <td>[engine-size, curb-weight, horsepower]</td>\n      <td>20</td>\n      <td>4116.699041</td>\n      <td>241.867671</td>\n    </tr>\n  </tbody>\n</table>\n<p>200 rows × 5 columns</p>\n</div>"
     },
     "execution_count": 36,
     "metadata": {},
     "output_type": "execute_result"
    }
   ],
   "source": [
    "result_df"
   ],
   "metadata": {
    "collapsed": false,
    "ExecuteTime": {
     "end_time": "2023-11-01T09:59:14.828869Z",
     "start_time": "2023-11-01T09:59:14.782981Z"
    }
   },
   "id": "5a08720bd54fbbef"
  },
  {
   "cell_type": "code",
   "execution_count": 28,
   "outputs": [],
   "source": [
    "def KNN_analyse(train_cols, target_col, df):\n",
    "\n",
    "    n_feature_list = list(range(1, len(train_cols)))\n",
    "    \n",
    "    result_lst = []\n",
    "    \n",
    "    for n_features in n_feature_list:\n",
    "    \n",
    "        # Univariate feature selection\n",
    "        skb = SelectKBest(\n",
    "            score_func = f_regression,\n",
    "            k = n_features,\n",
    "        )\n",
    "    \n",
    "        X = df[train_cols]\n",
    "        y = df[target_col]\n",
    "    \n",
    "        skb.fit(X,y)\n",
    "    \n",
    "        scores=skb.scores_\n",
    "        # Sort the scores in descending order\n",
    "        sorted_indices = np.argsort(scores)[::-1]\n",
    "    \n",
    "        # Get the indices of the top 3 features\n",
    "        top_indices = sorted_indices[:3]\n",
    "    \n",
    "        # Get the names of the top 3 features\n",
    "        best_features = X.columns[top_indices].tolist()\n",
    "    \n",
    "        #by deafult we do max of k of 20\n",
    "        k_values = list(range(1, 21))\n",
    "    \n",
    "        for k in k_values:\n",
    "    \n",
    "            # stratified 5-fold cross validation\n",
    "    \n",
    "            knn = KNeighborsRegressor(\n",
    "                # Use a different k value each time\n",
    "                n_neighbors = k,\n",
    "                algorithm = \"auto\",\n",
    "            )\n",
    "    \n",
    "            mse_lst = stratified_kfcv(\n",
    "                X = df[best_features],\n",
    "                y = df[target_col],\n",
    "                fold_series = folds,\n",
    "                regression_model = knn,\n",
    "            )\n",
    "    \n",
    "            mse_series = pd.Series(mse_lst)\n",
    "    \n",
    "            rmse_series = mse_series.pow(1/2)\n",
    "    \n",
    "            mean_rmse = rmse_series.mean()\n",
    "            sd_rmse = rmse_series.std(ddof = 1)\n",
    "    \n",
    "            new_row = (n_features, best_features, k, mean_rmse, sd_rmse)\n",
    "            result_lst.append(new_row)\n",
    "    \n",
    "    result_df = pd.DataFrame(result_lst)\n",
    "    result_df.columns = [\"Number of Features\", \"Best Features\", \"k Neighbors\", \"Mean RMSE\", \"SD RMSE\"]\n",
    "    \n",
    "    result_df = (\n",
    "        result_df.sort_values([\"Mean RMSE\", \"SD RMSE\"], ascending = True)\n",
    "        .reset_index(drop = True)\n",
    "    )\n",
    "    \n",
    "    return result_df\n"
   ],
   "metadata": {
    "collapsed": false,
    "ExecuteTime": {
     "end_time": "2023-11-01T09:53:42.602584Z",
     "start_time": "2023-11-01T09:53:42.546712Z"
    }
   },
   "id": "8c9dd87191f95e1f"
  },
  {
   "cell_type": "code",
   "execution_count": 29,
   "outputs": [],
   "source": [
    "temp = KNN_analyse(all_numeric_features, 'price',cars_df)"
   ],
   "metadata": {
    "collapsed": false,
    "ExecuteTime": {
     "end_time": "2023-11-01T09:53:49.726913Z",
     "start_time": "2023-11-01T09:53:47.590246Z"
    }
   },
   "id": "6eda2ad061845e0"
  },
  {
   "attachments": {},
   "cell_type": "markdown",
   "id": "42edabe7",
   "metadata": {},
   "source": [
    "Before we discuss the top-performing models, let us look at the general trends in the results using some graphs."
   ]
  },
  {
   "cell_type": "code",
   "execution_count": 119,
   "outputs": [
    {
     "data": {
      "text/plain": "     Number of Features                           Best Features  k Neighbors   \n0                     1  [engine-size, curb-weight, horsepower]            2  \\\n1                     2  [engine-size, curb-weight, horsepower]            2   \n2                     3  [engine-size, curb-weight, horsepower]            2   \n3                     4  [engine-size, curb-weight, horsepower]            2   \n4                     5  [engine-size, curb-weight, horsepower]            2   \n..                  ...                                     ...          ...   \n195                   6  [engine-size, curb-weight, horsepower]           20   \n196                   7  [engine-size, curb-weight, horsepower]           20   \n197                   8  [engine-size, curb-weight, horsepower]           20   \n198                   9  [engine-size, curb-weight, horsepower]           20   \n199                  10  [engine-size, curb-weight, horsepower]           20   \n\n       Mean RMSE     SD RMSE  \n0    2752.188717  509.982177  \n1    2752.188717  509.982177  \n2    2752.188717  509.982177  \n3    2752.188717  509.982177  \n4    2752.188717  509.982177  \n..           ...         ...  \n195  4116.699041  241.867671  \n196  4116.699041  241.867671  \n197  4116.699041  241.867671  \n198  4116.699041  241.867671  \n199  4116.699041  241.867671  \n\n[200 rows x 5 columns]",
      "text/html": "<div>\n<style scoped>\n    .dataframe tbody tr th:only-of-type {\n        vertical-align: middle;\n    }\n\n    .dataframe tbody tr th {\n        vertical-align: top;\n    }\n\n    .dataframe thead th {\n        text-align: right;\n    }\n</style>\n<table border=\"1\" class=\"dataframe\">\n  <thead>\n    <tr style=\"text-align: right;\">\n      <th></th>\n      <th>Number of Features</th>\n      <th>Best Features</th>\n      <th>k Neighbors</th>\n      <th>Mean RMSE</th>\n      <th>SD RMSE</th>\n    </tr>\n  </thead>\n  <tbody>\n    <tr>\n      <th>0</th>\n      <td>1</td>\n      <td>[engine-size, curb-weight, horsepower]</td>\n      <td>2</td>\n      <td>2752.188717</td>\n      <td>509.982177</td>\n    </tr>\n    <tr>\n      <th>1</th>\n      <td>2</td>\n      <td>[engine-size, curb-weight, horsepower]</td>\n      <td>2</td>\n      <td>2752.188717</td>\n      <td>509.982177</td>\n    </tr>\n    <tr>\n      <th>2</th>\n      <td>3</td>\n      <td>[engine-size, curb-weight, horsepower]</td>\n      <td>2</td>\n      <td>2752.188717</td>\n      <td>509.982177</td>\n    </tr>\n    <tr>\n      <th>3</th>\n      <td>4</td>\n      <td>[engine-size, curb-weight, horsepower]</td>\n      <td>2</td>\n      <td>2752.188717</td>\n      <td>509.982177</td>\n    </tr>\n    <tr>\n      <th>4</th>\n      <td>5</td>\n      <td>[engine-size, curb-weight, horsepower]</td>\n      <td>2</td>\n      <td>2752.188717</td>\n      <td>509.982177</td>\n    </tr>\n    <tr>\n      <th>...</th>\n      <td>...</td>\n      <td>...</td>\n      <td>...</td>\n      <td>...</td>\n      <td>...</td>\n    </tr>\n    <tr>\n      <th>195</th>\n      <td>6</td>\n      <td>[engine-size, curb-weight, horsepower]</td>\n      <td>20</td>\n      <td>4116.699041</td>\n      <td>241.867671</td>\n    </tr>\n    <tr>\n      <th>196</th>\n      <td>7</td>\n      <td>[engine-size, curb-weight, horsepower]</td>\n      <td>20</td>\n      <td>4116.699041</td>\n      <td>241.867671</td>\n    </tr>\n    <tr>\n      <th>197</th>\n      <td>8</td>\n      <td>[engine-size, curb-weight, horsepower]</td>\n      <td>20</td>\n      <td>4116.699041</td>\n      <td>241.867671</td>\n    </tr>\n    <tr>\n      <th>198</th>\n      <td>9</td>\n      <td>[engine-size, curb-weight, horsepower]</td>\n      <td>20</td>\n      <td>4116.699041</td>\n      <td>241.867671</td>\n    </tr>\n    <tr>\n      <th>199</th>\n      <td>10</td>\n      <td>[engine-size, curb-weight, horsepower]</td>\n      <td>20</td>\n      <td>4116.699041</td>\n      <td>241.867671</td>\n    </tr>\n  </tbody>\n</table>\n<p>200 rows × 5 columns</p>\n</div>"
     },
     "execution_count": 119,
     "metadata": {},
     "output_type": "execute_result"
    }
   ],
   "source": [
    "result_df"
   ],
   "metadata": {
    "collapsed": false,
    "ExecuteTime": {
     "end_time": "2023-11-01T09:08:29.160637Z",
     "start_time": "2023-11-01T09:08:29.094380Z"
    }
   },
   "id": "9dbfdedc40c7acbd"
  },
  {
   "cell_type": "code",
   "execution_count": 121,
   "outputs": [
    {
     "ename": "ValueError",
     "evalue": "Multi-dimensional indexing (e.g. `obj[:, None]`) is no longer supported. Convert to a numpy array before indexing instead.",
     "output_type": "error",
     "traceback": [
      "\u001B[0;31m---------------------------------------------------------------------------\u001B[0m",
      "\u001B[0;31mValueError\u001B[0m                                Traceback (most recent call last)",
      "\u001B[0;32m<ipython-input-121-7adb2b91d37d>\u001B[0m in \u001B[0;36m<module>\u001B[0;34m\u001B[0m\n\u001B[1;32m     10\u001B[0m \u001B[0;31m# Create a line plot for each group\u001B[0m\u001B[0;34m\u001B[0m\u001B[0;34m\u001B[0m\u001B[0;34m\u001B[0m\u001B[0m\n\u001B[1;32m     11\u001B[0m \u001B[0;32mfor\u001B[0m \u001B[0mname\u001B[0m\u001B[0;34m,\u001B[0m \u001B[0mgroup\u001B[0m \u001B[0;32min\u001B[0m \u001B[0mgrouped\u001B[0m\u001B[0;34m:\u001B[0m\u001B[0;34m\u001B[0m\u001B[0;34m\u001B[0m\u001B[0m\n\u001B[0;32m---> 12\u001B[0;31m     \u001B[0mplt\u001B[0m\u001B[0;34m.\u001B[0m\u001B[0mplot\u001B[0m\u001B[0;34m(\u001B[0m\u001B[0mgroup\u001B[0m\u001B[0;34m[\u001B[0m\u001B[0;34m'k Neighbors'\u001B[0m\u001B[0;34m]\u001B[0m\u001B[0;34m,\u001B[0m \u001B[0mgroup\u001B[0m\u001B[0;34m[\u001B[0m\u001B[0;34m'Mean RMSE'\u001B[0m\u001B[0;34m]\u001B[0m\u001B[0;34m,\u001B[0m \u001B[0mlabel\u001B[0m\u001B[0;34m=\u001B[0m\u001B[0mname\u001B[0m\u001B[0;34m)\u001B[0m\u001B[0;34m\u001B[0m\u001B[0;34m\u001B[0m\u001B[0m\n\u001B[0m\u001B[1;32m     13\u001B[0m \u001B[0;34m\u001B[0m\u001B[0m\n\u001B[1;32m     14\u001B[0m \u001B[0;31m# Add labels and title\u001B[0m\u001B[0;34m\u001B[0m\u001B[0;34m\u001B[0m\u001B[0;34m\u001B[0m\u001B[0m\n",
      "\u001B[0;32m~/opt/anaconda3/envs/transformers_env/lib/python3.8/site-packages/matplotlib/pyplot.py\u001B[0m in \u001B[0;36mplot\u001B[0;34m(scalex, scaley, data, *args, **kwargs)\u001B[0m\n\u001B[1;32m   2838\u001B[0m \u001B[0;34m@\u001B[0m\u001B[0m_copy_docstring_and_deprecators\u001B[0m\u001B[0;34m(\u001B[0m\u001B[0mAxes\u001B[0m\u001B[0;34m.\u001B[0m\u001B[0mplot\u001B[0m\u001B[0;34m)\u001B[0m\u001B[0;34m\u001B[0m\u001B[0;34m\u001B[0m\u001B[0m\n\u001B[1;32m   2839\u001B[0m \u001B[0;32mdef\u001B[0m \u001B[0mplot\u001B[0m\u001B[0;34m(\u001B[0m\u001B[0;34m*\u001B[0m\u001B[0margs\u001B[0m\u001B[0;34m,\u001B[0m \u001B[0mscalex\u001B[0m\u001B[0;34m=\u001B[0m\u001B[0;32mTrue\u001B[0m\u001B[0;34m,\u001B[0m \u001B[0mscaley\u001B[0m\u001B[0;34m=\u001B[0m\u001B[0;32mTrue\u001B[0m\u001B[0;34m,\u001B[0m \u001B[0mdata\u001B[0m\u001B[0;34m=\u001B[0m\u001B[0;32mNone\u001B[0m\u001B[0;34m,\u001B[0m \u001B[0;34m**\u001B[0m\u001B[0mkwargs\u001B[0m\u001B[0;34m)\u001B[0m\u001B[0;34m:\u001B[0m\u001B[0;34m\u001B[0m\u001B[0;34m\u001B[0m\u001B[0m\n\u001B[0;32m-> 2840\u001B[0;31m     return gca().plot(\n\u001B[0m\u001B[1;32m   2841\u001B[0m         \u001B[0;34m*\u001B[0m\u001B[0margs\u001B[0m\u001B[0;34m,\u001B[0m \u001B[0mscalex\u001B[0m\u001B[0;34m=\u001B[0m\u001B[0mscalex\u001B[0m\u001B[0;34m,\u001B[0m \u001B[0mscaley\u001B[0m\u001B[0;34m=\u001B[0m\u001B[0mscaley\u001B[0m\u001B[0;34m,\u001B[0m\u001B[0;34m\u001B[0m\u001B[0;34m\u001B[0m\u001B[0m\n\u001B[1;32m   2842\u001B[0m         **({\"data\": data} if data is not None else {}), **kwargs)\n",
      "\u001B[0;32m~/opt/anaconda3/envs/transformers_env/lib/python3.8/site-packages/matplotlib/axes/_axes.py\u001B[0m in \u001B[0;36mplot\u001B[0;34m(self, scalex, scaley, data, *args, **kwargs)\u001B[0m\n\u001B[1;32m   1741\u001B[0m         \"\"\"\n\u001B[1;32m   1742\u001B[0m         \u001B[0mkwargs\u001B[0m \u001B[0;34m=\u001B[0m \u001B[0mcbook\u001B[0m\u001B[0;34m.\u001B[0m\u001B[0mnormalize_kwargs\u001B[0m\u001B[0;34m(\u001B[0m\u001B[0mkwargs\u001B[0m\u001B[0;34m,\u001B[0m \u001B[0mmlines\u001B[0m\u001B[0;34m.\u001B[0m\u001B[0mLine2D\u001B[0m\u001B[0;34m)\u001B[0m\u001B[0;34m\u001B[0m\u001B[0;34m\u001B[0m\u001B[0m\n\u001B[0;32m-> 1743\u001B[0;31m         \u001B[0mlines\u001B[0m \u001B[0;34m=\u001B[0m \u001B[0;34m[\u001B[0m\u001B[0;34m*\u001B[0m\u001B[0mself\u001B[0m\u001B[0;34m.\u001B[0m\u001B[0m_get_lines\u001B[0m\u001B[0;34m(\u001B[0m\u001B[0;34m*\u001B[0m\u001B[0margs\u001B[0m\u001B[0;34m,\u001B[0m \u001B[0mdata\u001B[0m\u001B[0;34m=\u001B[0m\u001B[0mdata\u001B[0m\u001B[0;34m,\u001B[0m \u001B[0;34m**\u001B[0m\u001B[0mkwargs\u001B[0m\u001B[0;34m)\u001B[0m\u001B[0;34m]\u001B[0m\u001B[0;34m\u001B[0m\u001B[0;34m\u001B[0m\u001B[0m\n\u001B[0m\u001B[1;32m   1744\u001B[0m         \u001B[0;32mfor\u001B[0m \u001B[0mline\u001B[0m \u001B[0;32min\u001B[0m \u001B[0mlines\u001B[0m\u001B[0;34m:\u001B[0m\u001B[0;34m\u001B[0m\u001B[0;34m\u001B[0m\u001B[0m\n\u001B[1;32m   1745\u001B[0m             \u001B[0mself\u001B[0m\u001B[0;34m.\u001B[0m\u001B[0madd_line\u001B[0m\u001B[0;34m(\u001B[0m\u001B[0mline\u001B[0m\u001B[0;34m)\u001B[0m\u001B[0;34m\u001B[0m\u001B[0;34m\u001B[0m\u001B[0m\n",
      "\u001B[0;32m~/opt/anaconda3/envs/transformers_env/lib/python3.8/site-packages/matplotlib/axes/_base.py\u001B[0m in \u001B[0;36m__call__\u001B[0;34m(self, data, *args, **kwargs)\u001B[0m\n\u001B[1;32m    271\u001B[0m                 \u001B[0mthis\u001B[0m \u001B[0;34m+=\u001B[0m \u001B[0margs\u001B[0m\u001B[0;34m[\u001B[0m\u001B[0;36m0\u001B[0m\u001B[0;34m]\u001B[0m\u001B[0;34m,\u001B[0m\u001B[0;34m\u001B[0m\u001B[0;34m\u001B[0m\u001B[0m\n\u001B[1;32m    272\u001B[0m                 \u001B[0margs\u001B[0m \u001B[0;34m=\u001B[0m \u001B[0margs\u001B[0m\u001B[0;34m[\u001B[0m\u001B[0;36m1\u001B[0m\u001B[0;34m:\u001B[0m\u001B[0;34m]\u001B[0m\u001B[0;34m\u001B[0m\u001B[0;34m\u001B[0m\u001B[0m\n\u001B[0;32m--> 273\u001B[0;31m             \u001B[0;32myield\u001B[0m \u001B[0;32mfrom\u001B[0m \u001B[0mself\u001B[0m\u001B[0;34m.\u001B[0m\u001B[0m_plot_args\u001B[0m\u001B[0;34m(\u001B[0m\u001B[0mthis\u001B[0m\u001B[0;34m,\u001B[0m \u001B[0mkwargs\u001B[0m\u001B[0;34m)\u001B[0m\u001B[0;34m\u001B[0m\u001B[0;34m\u001B[0m\u001B[0m\n\u001B[0m\u001B[1;32m    274\u001B[0m \u001B[0;34m\u001B[0m\u001B[0m\n\u001B[1;32m    275\u001B[0m     \u001B[0;32mdef\u001B[0m \u001B[0mget_next_color\u001B[0m\u001B[0;34m(\u001B[0m\u001B[0mself\u001B[0m\u001B[0;34m)\u001B[0m\u001B[0;34m:\u001B[0m\u001B[0;34m\u001B[0m\u001B[0;34m\u001B[0m\u001B[0m\n",
      "\u001B[0;32m~/opt/anaconda3/envs/transformers_env/lib/python3.8/site-packages/matplotlib/axes/_base.py\u001B[0m in \u001B[0;36m_plot_args\u001B[0;34m(self, tup, kwargs)\u001B[0m\n\u001B[1;32m    386\u001B[0m \u001B[0;34m\u001B[0m\u001B[0m\n\u001B[1;32m    387\u001B[0m         \u001B[0;32mif\u001B[0m \u001B[0mlen\u001B[0m\u001B[0;34m(\u001B[0m\u001B[0mtup\u001B[0m\u001B[0;34m)\u001B[0m \u001B[0;34m==\u001B[0m \u001B[0;36m2\u001B[0m\u001B[0;34m:\u001B[0m\u001B[0;34m\u001B[0m\u001B[0;34m\u001B[0m\u001B[0m\n\u001B[0;32m--> 388\u001B[0;31m             \u001B[0mx\u001B[0m \u001B[0;34m=\u001B[0m \u001B[0m_check_1d\u001B[0m\u001B[0;34m(\u001B[0m\u001B[0mtup\u001B[0m\u001B[0;34m[\u001B[0m\u001B[0;36m0\u001B[0m\u001B[0;34m]\u001B[0m\u001B[0;34m)\u001B[0m\u001B[0;34m\u001B[0m\u001B[0;34m\u001B[0m\u001B[0m\n\u001B[0m\u001B[1;32m    389\u001B[0m             \u001B[0my\u001B[0m \u001B[0;34m=\u001B[0m \u001B[0m_check_1d\u001B[0m\u001B[0;34m(\u001B[0m\u001B[0mtup\u001B[0m\u001B[0;34m[\u001B[0m\u001B[0;34m-\u001B[0m\u001B[0;36m1\u001B[0m\u001B[0;34m]\u001B[0m\u001B[0;34m)\u001B[0m\u001B[0;34m\u001B[0m\u001B[0;34m\u001B[0m\u001B[0m\n\u001B[1;32m    390\u001B[0m         \u001B[0;32melse\u001B[0m\u001B[0;34m:\u001B[0m\u001B[0;34m\u001B[0m\u001B[0;34m\u001B[0m\u001B[0m\n",
      "\u001B[0;32m~/opt/anaconda3/envs/transformers_env/lib/python3.8/site-packages/matplotlib/cbook/__init__.py\u001B[0m in \u001B[0;36m_check_1d\u001B[0;34m(x)\u001B[0m\n\u001B[1;32m   1316\u001B[0m                     message='Support for multi-dimensional indexing')\n\u001B[1;32m   1317\u001B[0m \u001B[0;34m\u001B[0m\u001B[0m\n\u001B[0;32m-> 1318\u001B[0;31m                 \u001B[0mndim\u001B[0m \u001B[0;34m=\u001B[0m \u001B[0mx\u001B[0m\u001B[0;34m[\u001B[0m\u001B[0;34m:\u001B[0m\u001B[0;34m,\u001B[0m \u001B[0;32mNone\u001B[0m\u001B[0;34m]\u001B[0m\u001B[0;34m.\u001B[0m\u001B[0mndim\u001B[0m\u001B[0;34m\u001B[0m\u001B[0;34m\u001B[0m\u001B[0m\n\u001B[0m\u001B[1;32m   1319\u001B[0m                 \u001B[0;31m# we have definitely hit a pandas index or series object\u001B[0m\u001B[0;34m\u001B[0m\u001B[0;34m\u001B[0m\u001B[0;34m\u001B[0m\u001B[0m\n\u001B[1;32m   1320\u001B[0m                 \u001B[0;31m# cast to a numpy array.\u001B[0m\u001B[0;34m\u001B[0m\u001B[0;34m\u001B[0m\u001B[0;34m\u001B[0m\u001B[0m\n",
      "\u001B[0;32m~/opt/anaconda3/envs/transformers_env/lib/python3.8/site-packages/pandas/core/series.py\u001B[0m in \u001B[0;36m__getitem__\u001B[0;34m(self, key)\u001B[0m\n\u001B[1;32m   1031\u001B[0m             \u001B[0;32mreturn\u001B[0m \u001B[0mself\u001B[0m\u001B[0;34m.\u001B[0m\u001B[0m_get_values\u001B[0m\u001B[0;34m(\u001B[0m\u001B[0mkey\u001B[0m\u001B[0;34m)\u001B[0m\u001B[0;34m\u001B[0m\u001B[0;34m\u001B[0m\u001B[0m\n\u001B[1;32m   1032\u001B[0m \u001B[0;34m\u001B[0m\u001B[0m\n\u001B[0;32m-> 1033\u001B[0;31m         \u001B[0;32mreturn\u001B[0m \u001B[0mself\u001B[0m\u001B[0;34m.\u001B[0m\u001B[0m_get_with\u001B[0m\u001B[0;34m(\u001B[0m\u001B[0mkey\u001B[0m\u001B[0;34m)\u001B[0m\u001B[0;34m\u001B[0m\u001B[0;34m\u001B[0m\u001B[0m\n\u001B[0m\u001B[1;32m   1034\u001B[0m \u001B[0;34m\u001B[0m\u001B[0m\n\u001B[1;32m   1035\u001B[0m     \u001B[0;32mdef\u001B[0m \u001B[0m_get_with\u001B[0m\u001B[0;34m(\u001B[0m\u001B[0mself\u001B[0m\u001B[0;34m,\u001B[0m \u001B[0mkey\u001B[0m\u001B[0;34m)\u001B[0m\u001B[0;34m:\u001B[0m\u001B[0;34m\u001B[0m\u001B[0;34m\u001B[0m\u001B[0m\n",
      "\u001B[0;32m~/opt/anaconda3/envs/transformers_env/lib/python3.8/site-packages/pandas/core/series.py\u001B[0m in \u001B[0;36m_get_with\u001B[0;34m(self, key)\u001B[0m\n\u001B[1;32m   1046\u001B[0m             )\n\u001B[1;32m   1047\u001B[0m         \u001B[0;32melif\u001B[0m \u001B[0misinstance\u001B[0m\u001B[0;34m(\u001B[0m\u001B[0mkey\u001B[0m\u001B[0;34m,\u001B[0m \u001B[0mtuple\u001B[0m\u001B[0;34m)\u001B[0m\u001B[0;34m:\u001B[0m\u001B[0;34m\u001B[0m\u001B[0;34m\u001B[0m\u001B[0m\n\u001B[0;32m-> 1048\u001B[0;31m             \u001B[0;32mreturn\u001B[0m \u001B[0mself\u001B[0m\u001B[0;34m.\u001B[0m\u001B[0m_get_values_tuple\u001B[0m\u001B[0;34m(\u001B[0m\u001B[0mkey\u001B[0m\u001B[0;34m)\u001B[0m\u001B[0;34m\u001B[0m\u001B[0;34m\u001B[0m\u001B[0m\n\u001B[0m\u001B[1;32m   1049\u001B[0m \u001B[0;34m\u001B[0m\u001B[0m\n\u001B[1;32m   1050\u001B[0m         \u001B[0;32melif\u001B[0m \u001B[0;32mnot\u001B[0m \u001B[0mis_list_like\u001B[0m\u001B[0;34m(\u001B[0m\u001B[0mkey\u001B[0m\u001B[0;34m)\u001B[0m\u001B[0;34m:\u001B[0m\u001B[0;34m\u001B[0m\u001B[0;34m\u001B[0m\u001B[0m\n",
      "\u001B[0;32m~/opt/anaconda3/envs/transformers_env/lib/python3.8/site-packages/pandas/core/series.py\u001B[0m in \u001B[0;36m_get_values_tuple\u001B[0;34m(self, key)\u001B[0m\n\u001B[1;32m   1080\u001B[0m             \u001B[0;31m# the asarray is needed to avoid returning a 2D DatetimeArray\u001B[0m\u001B[0;34m\u001B[0m\u001B[0;34m\u001B[0m\u001B[0;34m\u001B[0m\u001B[0m\n\u001B[1;32m   1081\u001B[0m             \u001B[0mresult\u001B[0m \u001B[0;34m=\u001B[0m \u001B[0mnp\u001B[0m\u001B[0;34m.\u001B[0m\u001B[0masarray\u001B[0m\u001B[0;34m(\u001B[0m\u001B[0mself\u001B[0m\u001B[0;34m.\u001B[0m\u001B[0m_values\u001B[0m\u001B[0;34m[\u001B[0m\u001B[0mkey\u001B[0m\u001B[0;34m]\u001B[0m\u001B[0;34m)\u001B[0m\u001B[0;34m\u001B[0m\u001B[0;34m\u001B[0m\u001B[0m\n\u001B[0;32m-> 1082\u001B[0;31m             \u001B[0mdisallow_ndim_indexing\u001B[0m\u001B[0;34m(\u001B[0m\u001B[0mresult\u001B[0m\u001B[0;34m)\u001B[0m\u001B[0;34m\u001B[0m\u001B[0;34m\u001B[0m\u001B[0m\n\u001B[0m\u001B[1;32m   1083\u001B[0m             \u001B[0;32mreturn\u001B[0m \u001B[0mresult\u001B[0m\u001B[0;34m\u001B[0m\u001B[0;34m\u001B[0m\u001B[0m\n\u001B[1;32m   1084\u001B[0m \u001B[0;34m\u001B[0m\u001B[0m\n",
      "\u001B[0;32m~/opt/anaconda3/envs/transformers_env/lib/python3.8/site-packages/pandas/core/indexers/utils.py\u001B[0m in \u001B[0;36mdisallow_ndim_indexing\u001B[0;34m(result)\u001B[0m\n\u001B[1;32m    341\u001B[0m     \"\"\"\n\u001B[1;32m    342\u001B[0m     \u001B[0;32mif\u001B[0m \u001B[0mnp\u001B[0m\u001B[0;34m.\u001B[0m\u001B[0mndim\u001B[0m\u001B[0;34m(\u001B[0m\u001B[0mresult\u001B[0m\u001B[0;34m)\u001B[0m \u001B[0;34m>\u001B[0m \u001B[0;36m1\u001B[0m\u001B[0;34m:\u001B[0m\u001B[0;34m\u001B[0m\u001B[0;34m\u001B[0m\u001B[0m\n\u001B[0;32m--> 343\u001B[0;31m         raise ValueError(\n\u001B[0m\u001B[1;32m    344\u001B[0m             \u001B[0;34m\"Multi-dimensional indexing (e.g. `obj[:, None]`) is no longer \"\u001B[0m\u001B[0;34m\u001B[0m\u001B[0;34m\u001B[0m\u001B[0m\n\u001B[1;32m    345\u001B[0m             \u001B[0;34m\"supported. Convert to a numpy array before indexing instead.\"\u001B[0m\u001B[0;34m\u001B[0m\u001B[0;34m\u001B[0m\u001B[0m\n",
      "\u001B[0;31mValueError\u001B[0m: Multi-dimensional indexing (e.g. `obj[:, None]`) is no longer supported. Convert to a numpy array before indexing instead."
     ]
    },
    {
     "data": {
      "text/plain": "<Figure size 432x288 with 1 Axes>",
      "image/png": "[encoded data removed]"
     },
     "metadata": {},
     "output_type": "display_data"
    }
   ],
   "source": [
    "import pandas as pd\n",
    "import matplotlib.pyplot as plt\n",
    "\n",
    "# Read the CSV file into a DataFrame\n",
    "df = pd.read_csv('result_df.csv')\n",
    "\n",
    "# Group the data by \"Number of Features\"\n",
    "grouped = df.groupby('Number of Features')\n",
    "\n",
    "# Create a line plot for each group\n",
    "for name, group in grouped:\n",
    "    plt.plot(group['k Neighbors'], group['Mean RMSE'], label=name)\n",
    "\n",
    "# Add labels and title\n",
    "plt.xlabel('k Neighbors')\n",
    "plt.ylabel('Mean RMSE')\n",
    "plt.title('Mean RMSE for Different Numbers of Features')\n",
    "\n",
    "# Add a legend\n",
    "plt.legend()\n",
    "\n",
    "# Show the plot\n",
    "plt.show()"
   ],
   "metadata": {
    "collapsed": false,
    "ExecuteTime": {
     "end_time": "2023-11-01T09:20:57.268219Z",
     "start_time": "2023-11-01T09:20:57.022163Z"
    }
   },
   "id": "26adc83fb8db0b0f"
  },
  {
   "cell_type": "code",
   "execution_count": 120,
   "outputs": [],
   "source": [
    "result_df.to_csv('result_df.csv')"
   ],
   "metadata": {
    "collapsed": false,
    "ExecuteTime": {
     "end_time": "2023-11-01T09:12:41.965244Z",
     "start_time": "2023-11-01T09:12:41.863490Z"
    }
   },
   "id": "f3adb7c50eca76b0"
  },
  {
   "cell_type": "code",
   "execution_count": null,
   "outputs": [],
   "source": [],
   "metadata": {
    "collapsed": false
   },
   "id": "75e626fd02a84055"
  },
  {
   "cell_type": "code",
   "execution_count": 72,
   "id": "70cc5f8e",
   "metadata": {
    "ExecuteTime": {
     "end_time": "2023-11-01T07:55:25.262612Z",
     "start_time": "2023-11-01T07:55:25.111863Z"
    }
   },
   "outputs": [
    {
     "ename": "ValueError",
     "evalue": "Multi-dimensional indexing (e.g. `obj[:, None]`) is no longer supported. Convert to a numpy array before indexing instead.",
     "output_type": "error",
     "traceback": [
      "\u001B[0;31m---------------------------------------------------------------------------\u001B[0m",
      "\u001B[0;31mValueError\u001B[0m                                Traceback (most recent call last)",
      "\u001B[0;32m<ipython-input-72-8bf5307825aa>\u001B[0m in \u001B[0;36m<module>\u001B[0;34m\u001B[0m\n\u001B[0;32m----> 1\u001B[0;31m sns.lineplot(\n\u001B[0m\u001B[1;32m      2\u001B[0m     \u001B[0mdata\u001B[0m \u001B[0;34m=\u001B[0m \u001B[0mresult_df\u001B[0m\u001B[0;34m,\u001B[0m\u001B[0;34m\u001B[0m\u001B[0;34m\u001B[0m\u001B[0m\n\u001B[1;32m      3\u001B[0m     \u001B[0mx\u001B[0m \u001B[0;34m=\u001B[0m \u001B[0;34m\"k Neighbors\"\u001B[0m\u001B[0;34m,\u001B[0m\u001B[0;34m\u001B[0m\u001B[0;34m\u001B[0m\u001B[0m\n\u001B[1;32m      4\u001B[0m     \u001B[0my\u001B[0m \u001B[0;34m=\u001B[0m \u001B[0;34m\"Mean RMSE\"\u001B[0m\u001B[0;34m,\u001B[0m\u001B[0;34m\u001B[0m\u001B[0;34m\u001B[0m\u001B[0m\n\u001B[1;32m      5\u001B[0m     \u001B[0mhue\u001B[0m \u001B[0;34m=\u001B[0m \u001B[0;34m\"Number of Features\"\u001B[0m\u001B[0;34m,\u001B[0m\u001B[0;34m\u001B[0m\u001B[0;34m\u001B[0m\u001B[0m\n",
      "\u001B[0;32m~/opt/anaconda3/envs/transformers_env/lib/python3.8/site-packages/seaborn/relational.py\u001B[0m in \u001B[0;36mlineplot\u001B[0;34m(data, x, y, hue, size, style, units, palette, hue_order, hue_norm, sizes, size_order, size_norm, dashes, markers, style_order, estimator, errorbar, n_boot, seed, orient, sort, err_style, err_kws, legend, ci, ax, **kwargs)\u001B[0m\n\u001B[1;32m    643\u001B[0m     \u001B[0mkwargs\u001B[0m\u001B[0;34m[\u001B[0m\u001B[0;34m\"color\"\u001B[0m\u001B[0;34m]\u001B[0m \u001B[0;34m=\u001B[0m \u001B[0m_default_color\u001B[0m\u001B[0;34m(\u001B[0m\u001B[0max\u001B[0m\u001B[0;34m.\u001B[0m\u001B[0mplot\u001B[0m\u001B[0;34m,\u001B[0m \u001B[0mhue\u001B[0m\u001B[0;34m,\u001B[0m \u001B[0mcolor\u001B[0m\u001B[0;34m,\u001B[0m \u001B[0mkwargs\u001B[0m\u001B[0;34m)\u001B[0m\u001B[0;34m\u001B[0m\u001B[0;34m\u001B[0m\u001B[0m\n\u001B[1;32m    644\u001B[0m \u001B[0;34m\u001B[0m\u001B[0m\n\u001B[0;32m--> 645\u001B[0;31m     \u001B[0mp\u001B[0m\u001B[0;34m.\u001B[0m\u001B[0mplot\u001B[0m\u001B[0;34m(\u001B[0m\u001B[0max\u001B[0m\u001B[0;34m,\u001B[0m \u001B[0mkwargs\u001B[0m\u001B[0;34m)\u001B[0m\u001B[0;34m\u001B[0m\u001B[0;34m\u001B[0m\u001B[0m\n\u001B[0m\u001B[1;32m    646\u001B[0m     \u001B[0;32mreturn\u001B[0m \u001B[0max\u001B[0m\u001B[0;34m\u001B[0m\u001B[0;34m\u001B[0m\u001B[0m\n\u001B[1;32m    647\u001B[0m \u001B[0;34m\u001B[0m\u001B[0m\n",
      "\u001B[0;32m~/opt/anaconda3/envs/transformers_env/lib/python3.8/site-packages/seaborn/relational.py\u001B[0m in \u001B[0;36mplot\u001B[0;34m(self, ax, kws)\u001B[0m\n\u001B[1;32m    457\u001B[0m                     \u001B[0mlines\u001B[0m\u001B[0;34m.\u001B[0m\u001B[0mextend\u001B[0m\u001B[0;34m(\u001B[0m\u001B[0max\u001B[0m\u001B[0;34m.\u001B[0m\u001B[0mplot\u001B[0m\u001B[0;34m(\u001B[0m\u001B[0munit_data\u001B[0m\u001B[0;34m[\u001B[0m\u001B[0;34m\"x\"\u001B[0m\u001B[0;34m]\u001B[0m\u001B[0;34m,\u001B[0m \u001B[0munit_data\u001B[0m\u001B[0;34m[\u001B[0m\u001B[0;34m\"y\"\u001B[0m\u001B[0;34m]\u001B[0m\u001B[0;34m,\u001B[0m \u001B[0;34m**\u001B[0m\u001B[0mkws\u001B[0m\u001B[0;34m)\u001B[0m\u001B[0;34m)\u001B[0m\u001B[0;34m\u001B[0m\u001B[0;34m\u001B[0m\u001B[0m\n\u001B[1;32m    458\u001B[0m             \u001B[0;32melse\u001B[0m\u001B[0;34m:\u001B[0m\u001B[0;34m\u001B[0m\u001B[0;34m\u001B[0m\u001B[0m\n\u001B[0;32m--> 459\u001B[0;31m                 \u001B[0mlines\u001B[0m \u001B[0;34m=\u001B[0m \u001B[0max\u001B[0m\u001B[0;34m.\u001B[0m\u001B[0mplot\u001B[0m\u001B[0;34m(\u001B[0m\u001B[0msub_data\u001B[0m\u001B[0;34m[\u001B[0m\u001B[0;34m\"x\"\u001B[0m\u001B[0;34m]\u001B[0m\u001B[0;34m,\u001B[0m \u001B[0msub_data\u001B[0m\u001B[0;34m[\u001B[0m\u001B[0;34m\"y\"\u001B[0m\u001B[0;34m]\u001B[0m\u001B[0;34m,\u001B[0m \u001B[0;34m**\u001B[0m\u001B[0mkws\u001B[0m\u001B[0;34m)\u001B[0m\u001B[0;34m\u001B[0m\u001B[0;34m\u001B[0m\u001B[0m\n\u001B[0m\u001B[1;32m    460\u001B[0m \u001B[0;34m\u001B[0m\u001B[0m\n\u001B[1;32m    461\u001B[0m             \u001B[0;32mfor\u001B[0m \u001B[0mline\u001B[0m \u001B[0;32min\u001B[0m \u001B[0mlines\u001B[0m\u001B[0;34m:\u001B[0m\u001B[0;34m\u001B[0m\u001B[0;34m\u001B[0m\u001B[0m\n",
      "\u001B[0;32m~/opt/anaconda3/envs/transformers_env/lib/python3.8/site-packages/matplotlib/axes/_axes.py\u001B[0m in \u001B[0;36mplot\u001B[0;34m(self, scalex, scaley, data, *args, **kwargs)\u001B[0m\n\u001B[1;32m   1741\u001B[0m         \"\"\"\n\u001B[1;32m   1742\u001B[0m         \u001B[0mkwargs\u001B[0m \u001B[0;34m=\u001B[0m \u001B[0mcbook\u001B[0m\u001B[0;34m.\u001B[0m\u001B[0mnormalize_kwargs\u001B[0m\u001B[0;34m(\u001B[0m\u001B[0mkwargs\u001B[0m\u001B[0;34m,\u001B[0m \u001B[0mmlines\u001B[0m\u001B[0;34m.\u001B[0m\u001B[0mLine2D\u001B[0m\u001B[0;34m)\u001B[0m\u001B[0;34m\u001B[0m\u001B[0;34m\u001B[0m\u001B[0m\n\u001B[0;32m-> 1743\u001B[0;31m         \u001B[0mlines\u001B[0m \u001B[0;34m=\u001B[0m \u001B[0;34m[\u001B[0m\u001B[0;34m*\u001B[0m\u001B[0mself\u001B[0m\u001B[0;34m.\u001B[0m\u001B[0m_get_lines\u001B[0m\u001B[0;34m(\u001B[0m\u001B[0;34m*\u001B[0m\u001B[0margs\u001B[0m\u001B[0;34m,\u001B[0m \u001B[0mdata\u001B[0m\u001B[0;34m=\u001B[0m\u001B[0mdata\u001B[0m\u001B[0;34m,\u001B[0m \u001B[0;34m**\u001B[0m\u001B[0mkwargs\u001B[0m\u001B[0;34m)\u001B[0m\u001B[0;34m]\u001B[0m\u001B[0;34m\u001B[0m\u001B[0;34m\u001B[0m\u001B[0m\n\u001B[0m\u001B[1;32m   1744\u001B[0m         \u001B[0;32mfor\u001B[0m \u001B[0mline\u001B[0m \u001B[0;32min\u001B[0m \u001B[0mlines\u001B[0m\u001B[0;34m:\u001B[0m\u001B[0;34m\u001B[0m\u001B[0;34m\u001B[0m\u001B[0m\n\u001B[1;32m   1745\u001B[0m             \u001B[0mself\u001B[0m\u001B[0;34m.\u001B[0m\u001B[0madd_line\u001B[0m\u001B[0;34m(\u001B[0m\u001B[0mline\u001B[0m\u001B[0;34m)\u001B[0m\u001B[0;34m\u001B[0m\u001B[0;34m\u001B[0m\u001B[0m\n",
      "\u001B[0;32m~/opt/anaconda3/envs/transformers_env/lib/python3.8/site-packages/matplotlib/axes/_base.py\u001B[0m in \u001B[0;36m__call__\u001B[0;34m(self, data, *args, **kwargs)\u001B[0m\n\u001B[1;32m    271\u001B[0m                 \u001B[0mthis\u001B[0m \u001B[0;34m+=\u001B[0m \u001B[0margs\u001B[0m\u001B[0;34m[\u001B[0m\u001B[0;36m0\u001B[0m\u001B[0;34m]\u001B[0m\u001B[0;34m,\u001B[0m\u001B[0;34m\u001B[0m\u001B[0;34m\u001B[0m\u001B[0m\n\u001B[1;32m    272\u001B[0m                 \u001B[0margs\u001B[0m \u001B[0;34m=\u001B[0m \u001B[0margs\u001B[0m\u001B[0;34m[\u001B[0m\u001B[0;36m1\u001B[0m\u001B[0;34m:\u001B[0m\u001B[0;34m]\u001B[0m\u001B[0;34m\u001B[0m\u001B[0;34m\u001B[0m\u001B[0m\n\u001B[0;32m--> 273\u001B[0;31m             \u001B[0;32myield\u001B[0m \u001B[0;32mfrom\u001B[0m \u001B[0mself\u001B[0m\u001B[0;34m.\u001B[0m\u001B[0m_plot_args\u001B[0m\u001B[0;34m(\u001B[0m\u001B[0mthis\u001B[0m\u001B[0;34m,\u001B[0m \u001B[0mkwargs\u001B[0m\u001B[0;34m)\u001B[0m\u001B[0;34m\u001B[0m\u001B[0;34m\u001B[0m\u001B[0m\n\u001B[0m\u001B[1;32m    274\u001B[0m \u001B[0;34m\u001B[0m\u001B[0m\n\u001B[1;32m    275\u001B[0m     \u001B[0;32mdef\u001B[0m \u001B[0mget_next_color\u001B[0m\u001B[0;34m(\u001B[0m\u001B[0mself\u001B[0m\u001B[0;34m)\u001B[0m\u001B[0;34m:\u001B[0m\u001B[0;34m\u001B[0m\u001B[0;34m\u001B[0m\u001B[0m\n",
      "\u001B[0;32m~/opt/anaconda3/envs/transformers_env/lib/python3.8/site-packages/matplotlib/axes/_base.py\u001B[0m in \u001B[0;36m_plot_args\u001B[0;34m(self, tup, kwargs)\u001B[0m\n\u001B[1;32m    386\u001B[0m \u001B[0;34m\u001B[0m\u001B[0m\n\u001B[1;32m    387\u001B[0m         \u001B[0;32mif\u001B[0m \u001B[0mlen\u001B[0m\u001B[0;34m(\u001B[0m\u001B[0mtup\u001B[0m\u001B[0;34m)\u001B[0m \u001B[0;34m==\u001B[0m \u001B[0;36m2\u001B[0m\u001B[0;34m:\u001B[0m\u001B[0;34m\u001B[0m\u001B[0;34m\u001B[0m\u001B[0m\n\u001B[0;32m--> 388\u001B[0;31m             \u001B[0mx\u001B[0m \u001B[0;34m=\u001B[0m \u001B[0m_check_1d\u001B[0m\u001B[0;34m(\u001B[0m\u001B[0mtup\u001B[0m\u001B[0;34m[\u001B[0m\u001B[0;36m0\u001B[0m\u001B[0;34m]\u001B[0m\u001B[0;34m)\u001B[0m\u001B[0;34m\u001B[0m\u001B[0;34m\u001B[0m\u001B[0m\n\u001B[0m\u001B[1;32m    389\u001B[0m             \u001B[0my\u001B[0m \u001B[0;34m=\u001B[0m \u001B[0m_check_1d\u001B[0m\u001B[0;34m(\u001B[0m\u001B[0mtup\u001B[0m\u001B[0;34m[\u001B[0m\u001B[0;34m-\u001B[0m\u001B[0;36m1\u001B[0m\u001B[0;34m]\u001B[0m\u001B[0;34m)\u001B[0m\u001B[0;34m\u001B[0m\u001B[0;34m\u001B[0m\u001B[0m\n\u001B[1;32m    390\u001B[0m         \u001B[0;32melse\u001B[0m\u001B[0;34m:\u001B[0m\u001B[0;34m\u001B[0m\u001B[0;34m\u001B[0m\u001B[0m\n",
      "\u001B[0;32m~/opt/anaconda3/envs/transformers_env/lib/python3.8/site-packages/matplotlib/cbook/__init__.py\u001B[0m in \u001B[0;36m_check_1d\u001B[0;34m(x)\u001B[0m\n\u001B[1;32m   1316\u001B[0m                     message='Support for multi-dimensional indexing')\n\u001B[1;32m   1317\u001B[0m \u001B[0;34m\u001B[0m\u001B[0m\n\u001B[0;32m-> 1318\u001B[0;31m                 \u001B[0mndim\u001B[0m \u001B[0;34m=\u001B[0m \u001B[0mx\u001B[0m\u001B[0;34m[\u001B[0m\u001B[0;34m:\u001B[0m\u001B[0;34m,\u001B[0m \u001B[0;32mNone\u001B[0m\u001B[0;34m]\u001B[0m\u001B[0;34m.\u001B[0m\u001B[0mndim\u001B[0m\u001B[0;34m\u001B[0m\u001B[0;34m\u001B[0m\u001B[0m\n\u001B[0m\u001B[1;32m   1319\u001B[0m                 \u001B[0;31m# we have definitely hit a pandas index or series object\u001B[0m\u001B[0;34m\u001B[0m\u001B[0;34m\u001B[0m\u001B[0;34m\u001B[0m\u001B[0m\n\u001B[1;32m   1320\u001B[0m                 \u001B[0;31m# cast to a numpy array.\u001B[0m\u001B[0;34m\u001B[0m\u001B[0;34m\u001B[0m\u001B[0;34m\u001B[0m\u001B[0m\n",
      "\u001B[0;32m~/opt/anaconda3/envs/transformers_env/lib/python3.8/site-packages/pandas/core/series.py\u001B[0m in \u001B[0;36m__getitem__\u001B[0;34m(self, key)\u001B[0m\n\u001B[1;32m   1031\u001B[0m             \u001B[0;32mreturn\u001B[0m \u001B[0mself\u001B[0m\u001B[0;34m.\u001B[0m\u001B[0m_get_values\u001B[0m\u001B[0;34m(\u001B[0m\u001B[0mkey\u001B[0m\u001B[0;34m)\u001B[0m\u001B[0;34m\u001B[0m\u001B[0;34m\u001B[0m\u001B[0m\n\u001B[1;32m   1032\u001B[0m \u001B[0;34m\u001B[0m\u001B[0m\n\u001B[0;32m-> 1033\u001B[0;31m         \u001B[0;32mreturn\u001B[0m \u001B[0mself\u001B[0m\u001B[0;34m.\u001B[0m\u001B[0m_get_with\u001B[0m\u001B[0;34m(\u001B[0m\u001B[0mkey\u001B[0m\u001B[0;34m)\u001B[0m\u001B[0;34m\u001B[0m\u001B[0;34m\u001B[0m\u001B[0m\n\u001B[0m\u001B[1;32m   1034\u001B[0m \u001B[0;34m\u001B[0m\u001B[0m\n\u001B[1;32m   1035\u001B[0m     \u001B[0;32mdef\u001B[0m \u001B[0m_get_with\u001B[0m\u001B[0;34m(\u001B[0m\u001B[0mself\u001B[0m\u001B[0;34m,\u001B[0m \u001B[0mkey\u001B[0m\u001B[0;34m)\u001B[0m\u001B[0;34m:\u001B[0m\u001B[0;34m\u001B[0m\u001B[0;34m\u001B[0m\u001B[0m\n",
      "\u001B[0;32m~/opt/anaconda3/envs/transformers_env/lib/python3.8/site-packages/pandas/core/series.py\u001B[0m in \u001B[0;36m_get_with\u001B[0;34m(self, key)\u001B[0m\n\u001B[1;32m   1046\u001B[0m             )\n\u001B[1;32m   1047\u001B[0m         \u001B[0;32melif\u001B[0m \u001B[0misinstance\u001B[0m\u001B[0;34m(\u001B[0m\u001B[0mkey\u001B[0m\u001B[0;34m,\u001B[0m \u001B[0mtuple\u001B[0m\u001B[0;34m)\u001B[0m\u001B[0;34m:\u001B[0m\u001B[0;34m\u001B[0m\u001B[0;34m\u001B[0m\u001B[0m\n\u001B[0;32m-> 1048\u001B[0;31m             \u001B[0;32mreturn\u001B[0m \u001B[0mself\u001B[0m\u001B[0;34m.\u001B[0m\u001B[0m_get_values_tuple\u001B[0m\u001B[0;34m(\u001B[0m\u001B[0mkey\u001B[0m\u001B[0;34m)\u001B[0m\u001B[0;34m\u001B[0m\u001B[0;34m\u001B[0m\u001B[0m\n\u001B[0m\u001B[1;32m   1049\u001B[0m \u001B[0;34m\u001B[0m\u001B[0m\n\u001B[1;32m   1050\u001B[0m         \u001B[0;32melif\u001B[0m \u001B[0;32mnot\u001B[0m \u001B[0mis_list_like\u001B[0m\u001B[0;34m(\u001B[0m\u001B[0mkey\u001B[0m\u001B[0;34m)\u001B[0m\u001B[0;34m:\u001B[0m\u001B[0;34m\u001B[0m\u001B[0;34m\u001B[0m\u001B[0m\n",
      "\u001B[0;32m~/opt/anaconda3/envs/transformers_env/lib/python3.8/site-packages/pandas/core/series.py\u001B[0m in \u001B[0;36m_get_values_tuple\u001B[0;34m(self, key)\u001B[0m\n\u001B[1;32m   1080\u001B[0m             \u001B[0;31m# the asarray is needed to avoid returning a 2D DatetimeArray\u001B[0m\u001B[0;34m\u001B[0m\u001B[0;34m\u001B[0m\u001B[0;34m\u001B[0m\u001B[0m\n\u001B[1;32m   1081\u001B[0m             \u001B[0mresult\u001B[0m \u001B[0;34m=\u001B[0m \u001B[0mnp\u001B[0m\u001B[0;34m.\u001B[0m\u001B[0masarray\u001B[0m\u001B[0;34m(\u001B[0m\u001B[0mself\u001B[0m\u001B[0;34m.\u001B[0m\u001B[0m_values\u001B[0m\u001B[0;34m[\u001B[0m\u001B[0mkey\u001B[0m\u001B[0;34m]\u001B[0m\u001B[0;34m)\u001B[0m\u001B[0;34m\u001B[0m\u001B[0;34m\u001B[0m\u001B[0m\n\u001B[0;32m-> 1082\u001B[0;31m             \u001B[0mdisallow_ndim_indexing\u001B[0m\u001B[0;34m(\u001B[0m\u001B[0mresult\u001B[0m\u001B[0;34m)\u001B[0m\u001B[0;34m\u001B[0m\u001B[0;34m\u001B[0m\u001B[0m\n\u001B[0m\u001B[1;32m   1083\u001B[0m             \u001B[0;32mreturn\u001B[0m \u001B[0mresult\u001B[0m\u001B[0;34m\u001B[0m\u001B[0;34m\u001B[0m\u001B[0m\n\u001B[1;32m   1084\u001B[0m \u001B[0;34m\u001B[0m\u001B[0m\n",
      "\u001B[0;32m~/opt/anaconda3/envs/transformers_env/lib/python3.8/site-packages/pandas/core/indexers/utils.py\u001B[0m in \u001B[0;36mdisallow_ndim_indexing\u001B[0;34m(result)\u001B[0m\n\u001B[1;32m    341\u001B[0m     \"\"\"\n\u001B[1;32m    342\u001B[0m     \u001B[0;32mif\u001B[0m \u001B[0mnp\u001B[0m\u001B[0;34m.\u001B[0m\u001B[0mndim\u001B[0m\u001B[0;34m(\u001B[0m\u001B[0mresult\u001B[0m\u001B[0;34m)\u001B[0m \u001B[0;34m>\u001B[0m \u001B[0;36m1\u001B[0m\u001B[0;34m:\u001B[0m\u001B[0;34m\u001B[0m\u001B[0;34m\u001B[0m\u001B[0m\n\u001B[0;32m--> 343\u001B[0;31m         raise ValueError(\n\u001B[0m\u001B[1;32m    344\u001B[0m             \u001B[0;34m\"Multi-dimensional indexing (e.g. `obj[:, None]`) is no longer \"\u001B[0m\u001B[0;34m\u001B[0m\u001B[0;34m\u001B[0m\u001B[0m\n\u001B[1;32m    345\u001B[0m             \u001B[0;34m\"supported. Convert to a numpy array before indexing instead.\"\u001B[0m\u001B[0;34m\u001B[0m\u001B[0;34m\u001B[0m\u001B[0m\n",
      "\u001B[0;31mValueError\u001B[0m: Multi-dimensional indexing (e.g. `obj[:, None]`) is no longer supported. Convert to a numpy array before indexing instead."
     ]
    },
    {
     "data": {
      "text/plain": "<Figure size 432x288 with 1 Axes>",
      "image/png": "[encoded data removed]"
     },
     "metadata": {},
     "output_type": "display_data"
    }
   ],
   "source": [
    "\n",
    "sns.lineplot(\n",
    "    data = result_df,\n",
    "    x = \"k Neighbors\",\n",
    "    y = \"Mean RMSE\",\n",
    "    hue = \"Number of Features\",\n",
    ")\n",
    "\n",
    "plt.title(\"Mean RMSE against k Neighbors\")\n",
    "plt.show()"
   ]
  },
  {
   "cell_type": "code",
   "execution_count": 69,
   "outputs": [
    {
     "data": {
      "text/plain": "<Figure size 432x288 with 1 Axes>",
      "image/png": "[encoded data removed]"
     },
     "metadata": {},
     "output_type": "display_data"
    }
   ],
   "source": [
    "plt.plot(result_df[\"k Neighbors\"].tolist(), result_df[\"Mean RMSE\"].tolist(), label=\"Number of Features\")\n",
    "\n",
    "plt.title(\"Mean RMSE against k Neighbors\")\n",
    "plt.xlabel(\"k Neighbors\")\n",
    "plt.ylabel(\"Mean RMSE\")\n",
    "plt.legend()\n",
    "plt.show()"
   ],
   "metadata": {
    "collapsed": false,
    "ExecuteTime": {
     "end_time": "2023-11-01T07:51:30.519155Z",
     "start_time": "2023-11-01T07:51:30.412434Z"
    }
   },
   "id": "2fec8fec2cc8de52"
  },
  {
   "attachments": {},
   "cell_type": "markdown",
   "id": "eb04e5bb",
   "metadata": {},
   "source": [
    "The graph above shows that in general, no matter the number of features, the mean RMSE increased as the number of neighbors (k) increased. Therefore, it is best to have a low k value so that the model makes predictions only using a few cars that are most similar to the car being tested.\n",
    "\n",
    "Next, let us look at a graph with the same variables, except that the number of features is now on the x-axis instead of k."
   ]
  },
  {
   "cell_type": "code",
   "execution_count": 19,
   "id": "e96476bf",
   "metadata": {},
   "outputs": [
    {
     "data": {
      "image/png": "[encoded data removed]",
      "text/plain": [
       "<Figure size 432x288 with 1 Axes>"
      ]
     },
     "metadata": {
      "needs_background": "light"
     },
     "output_type": "display_data"
    }
   ],
   "source": [
    "#| code-fold: true\n",
    "sns.lineplot(\n",
    "    data = result_df,\n",
    "    x = \"Number of Features\",\n",
    "    y = \"Mean RMSE\",\n",
    "    hue = \"k Neighbors\",\n",
    ")\n",
    "\n",
    "plt.title(\"Mean RMSE against Number of Features\")\n",
    "plt.show()"
   ]
  },
  {
   "attachments": {},
   "cell_type": "markdown",
   "id": "ae6b28d1",
   "metadata": {},
   "source": [
    "We can see that for models with a high k value (represented by the darker lines), the mean RMSE increased slightly as the number of features increased.\n",
    "\n",
    "However, for models with a low k value (represented by the lighter pink lines), the mean RMSE stayed the same or even decreased when the number of features increased.\n",
    "\n",
    "Therefore, the best model would be one with a low k value and a medium-to-high number of features.\n",
    "\n",
    "In order to determine this more precisely, let us look at the top 10 models with the lowest RMSE."
   ]
  },
  {
   "cell_type": "code",
   "execution_count": 20,
   "id": "93b1b80c",
   "metadata": {},
   "outputs": [
    {
     "data": {
      "text/html": [
       "<div>\n",
       "<style scoped>\n",
       "    .dataframe tbody tr th:only-of-type {\n",
       "        vertical-align: middle;\n",
       "    }\n",
       "\n",
       "    .dataframe tbody tr th {\n",
       "        vertical-align: top;\n",
       "    }\n",
       "\n",
       "    .dataframe thead th {\n",
       "        text-align: right;\n",
       "    }\n",
       "</style>\n",
       "<table border=\"1\" class=\"dataframe\">\n",
       "  <thead>\n",
       "    <tr style=\"text-align: right;\">\n",
       "      <th></th>\n",
       "      <th>Number of Features</th>\n",
       "      <th>Best Features</th>\n",
       "      <th>k Neighbors</th>\n",
       "      <th>Mean RMSE</th>\n",
       "      <th>SD RMSE</th>\n",
       "    </tr>\n",
       "  </thead>\n",
       "  <tbody>\n",
       "    <tr>\n",
       "      <th>0</th>\n",
       "      <td>8</td>\n",
       "      <td>[length, width, curb-weight, num-of-cylinders,...</td>\n",
       "      <td>1</td>\n",
       "      <td>2468.363493</td>\n",
       "      <td>354.699226</td>\n",
       "    </tr>\n",
       "    <tr>\n",
       "      <th>1</th>\n",
       "      <td>4</td>\n",
       "      <td>[width, curb-weight, engine-size, horsepower]</td>\n",
       "      <td>1</td>\n",
       "      <td>2663.935533</td>\n",
       "      <td>809.240758</td>\n",
       "    </tr>\n",
       "    <tr>\n",
       "      <th>2</th>\n",
       "      <td>4</td>\n",
       "      <td>[width, curb-weight, engine-size, horsepower]</td>\n",
       "      <td>2</td>\n",
       "      <td>2740.846793</td>\n",
       "      <td>541.902963</td>\n",
       "    </tr>\n",
       "    <tr>\n",
       "      <th>3</th>\n",
       "      <td>8</td>\n",
       "      <td>[length, width, curb-weight, num-of-cylinders,...</td>\n",
       "      <td>2</td>\n",
       "      <td>2751.669830</td>\n",
       "      <td>693.467197</td>\n",
       "    </tr>\n",
       "    <tr>\n",
       "      <th>4</th>\n",
       "      <td>8</td>\n",
       "      <td>[length, width, curb-weight, num-of-cylinders,...</td>\n",
       "      <td>3</td>\n",
       "      <td>2755.824129</td>\n",
       "      <td>383.365351</td>\n",
       "    </tr>\n",
       "    <tr>\n",
       "      <th>5</th>\n",
       "      <td>3</td>\n",
       "      <td>[curb-weight, engine-size, horsepower]</td>\n",
       "      <td>2</td>\n",
       "      <td>2767.545024</td>\n",
       "      <td>543.282005</td>\n",
       "    </tr>\n",
       "    <tr>\n",
       "      <th>6</th>\n",
       "      <td>5</td>\n",
       "      <td>[width, curb-weight, num-of-cylinders, engine-...</td>\n",
       "      <td>3</td>\n",
       "      <td>2784.838645</td>\n",
       "      <td>450.626647</td>\n",
       "    </tr>\n",
       "    <tr>\n",
       "      <th>7</th>\n",
       "      <td>4</td>\n",
       "      <td>[width, curb-weight, engine-size, horsepower]</td>\n",
       "      <td>3</td>\n",
       "      <td>2798.859095</td>\n",
       "      <td>477.298250</td>\n",
       "    </tr>\n",
       "    <tr>\n",
       "      <th>8</th>\n",
       "      <td>5</td>\n",
       "      <td>[width, curb-weight, num-of-cylinders, engine-...</td>\n",
       "      <td>2</td>\n",
       "      <td>2804.311055</td>\n",
       "      <td>473.482127</td>\n",
       "    </tr>\n",
       "    <tr>\n",
       "      <th>9</th>\n",
       "      <td>7</td>\n",
       "      <td>[width, curb-weight, num-of-cylinders, engine-...</td>\n",
       "      <td>1</td>\n",
       "      <td>2806.166008</td>\n",
       "      <td>696.001235</td>\n",
       "    </tr>\n",
       "  </tbody>\n",
       "</table>\n",
       "</div>"
      ],
      "text/plain": [
       "   Number of Features                                      Best Features  \\\n",
       "0                   8  [length, width, curb-weight, num-of-cylinders,...   \n",
       "1                   4      [width, curb-weight, engine-size, horsepower]   \n",
       "2                   4      [width, curb-weight, engine-size, horsepower]   \n",
       "3                   8  [length, width, curb-weight, num-of-cylinders,...   \n",
       "4                   8  [length, width, curb-weight, num-of-cylinders,...   \n",
       "5                   3             [curb-weight, engine-size, horsepower]   \n",
       "6                   5  [width, curb-weight, num-of-cylinders, engine-...   \n",
       "7                   4      [width, curb-weight, engine-size, horsepower]   \n",
       "8                   5  [width, curb-weight, num-of-cylinders, engine-...   \n",
       "9                   7  [width, curb-weight, num-of-cylinders, engine-...   \n",
       "\n",
       "   k Neighbors    Mean RMSE     SD RMSE  \n",
       "0            1  2468.363493  354.699226  \n",
       "1            1  2663.935533  809.240758  \n",
       "2            2  2740.846793  541.902963  \n",
       "3            2  2751.669830  693.467197  \n",
       "4            3  2755.824129  383.365351  \n",
       "5            2  2767.545024  543.282005  \n",
       "6            3  2784.838645  450.626647  \n",
       "7            3  2798.859095  477.298250  \n",
       "8            2  2804.311055  473.482127  \n",
       "9            1  2806.166008  696.001235  "
      ]
     },
     "execution_count": 20,
     "metadata": {},
     "output_type": "execute_result"
    }
   ],
   "source": [
    "result_df.head(10)"
   ]
  },
  {
   "cell_type": "code",
   "execution_count": 63,
   "outputs": [
    {
     "ename": "NameError",
     "evalue": "name 'result_df' is not defined",
     "output_type": "error",
     "traceback": [
      "\u001B[0;31m---------------------------------------------------------------------------\u001B[0m",
      "\u001B[0;31mNameError\u001B[0m                                 Traceback (most recent call last)",
      "\u001B[0;32m<ipython-input-63-8b80f14d259c>\u001B[0m in \u001B[0;36m<module>\u001B[0;34m\u001B[0m\n\u001B[0;32m----> 1\u001B[0;31m \u001B[0mresult_df\u001B[0m\u001B[0;34m.\u001B[0m\u001B[0mshape\u001B[0m\u001B[0;34m\u001B[0m\u001B[0;34m\u001B[0m\u001B[0m\n\u001B[0m",
      "\u001B[0;31mNameError\u001B[0m: name 'result_df' is not defined"
     ]
    }
   ],
   "source": [
    "result_df.shape"
   ],
   "metadata": {
    "collapsed": false,
    "ExecuteTime": {
     "end_time": "2023-11-01T07:44:29.472622Z",
     "start_time": "2023-11-01T07:44:29.420447Z"
    }
   },
   "id": "a9251439dbaadbc"
  },
  {
   "attachments": {},
   "cell_type": "markdown",
   "id": "c21d98ad",
   "metadata": {},
   "source": [
    "The table above shows the ten models with the lowest mean RMSE. Interestingly, the best-performing model had 8 features and a k-value of 1.\n",
    "\n",
    "Its RMSE was 2468, so on average, the predicted prices were USD 2468 off from the actual prices. This is decent considering that the car prices mostly fall between USD 5000 and USD 20000, though it could be better.\n",
    "\n",
    "The SD RMSE is around 355. This means that the RMSE values usually varied by 355 from the mean. This is relatively low compared to the SD RMSE values of the other best-performing models, which range from 350 to over 800. Therefore, the model performance was consistent.\n",
    "\n",
    "However, the following concerns are worth noting:\n",
    "\n",
    "- The number of features is somewhat large, and this may be a problem because it can cause overfitting. This means that the model may be too sensitive to small but meaningless variations in the training data. It may be unable to recognize *general trends* properly. However, reducing the number of features may increase the mean RMSE.\n",
    "- The k-value is concerning because only one neighbor is considered when predicting a car's price. I would prefer to have $k > 1$ so that multiple neighbors are taken into consideration.\n",
    "\n",
    "Personally, I am fine with selecting this model as the final one to use, simply because its mean RMSE is a few hundred dollars lower than that of the other good models. In a real-world scenario, after I implement this model, I would see if it continued to perform well on new data, and then reduce its number of features or increase its k-value if needed."
   ]
  },
  {
   "attachments": {},
   "cell_type": "markdown",
   "id": "ee03f005",
   "metadata": {},
   "source": [
    "# Summary\n",
    "\n",
    "In this project, we cleaned a dataset about car features and prices, discussed the logic behind the K Nearest Neighbors algorithm for regression, explained techniques used in the machine learning workflow, then applied these techniques to determine the optimal model for predicting car prices.\n",
    "\n",
    "Thanks for reading!"
   ]
  },
  {
   "cell_type": "code",
   "execution_count": null,
   "outputs": [],
   "source": [],
   "metadata": {
    "collapsed": false
   },
   "id": "c281d14b7ba3461a"
  },
  {
   "cell_type": "markdown",
   "source": [
    "There is another person doing and it is working "
   ],
   "metadata": {
    "collapsed": false
   },
   "id": "6f54e1c68eef25b"
  },
  {
   "cell_type": "code",
   "execution_count": null,
   "outputs": [],
   "source": [],
   "metadata": {
    "collapsed": false
   },
   "id": "800906faf1b61e8e"
  },
  {
   "cell_type": "code",
   "execution_count": null,
   "outputs": [],
   "source": [],
   "metadata": {
    "collapsed": false
   },
   "id": "28750f9dea980b3d"
  },
  {
   "cell_type": "markdown",
   "source": [],
   "metadata": {
    "collapsed": false
   },
   "id": "ecda7ecc526cd32e"
  },
  {
   "cell_type": "code",
   "execution_count": 108,
   "outputs": [],
   "source": [
    "my_df = pd.read_csv('xxx.csv')\n",
    "my_df[sorted_features_col]\n",
    "\n",
    "my_train_col = sorted_features_col\n",
    "my_target_col = 'price'\n",
    "\n"
   ],
   "metadata": {
    "collapsed": false,
    "ExecuteTime": {
     "end_time": "2023-11-01T08:47:57.605739Z",
     "start_time": "2023-11-01T08:47:57.511335Z"
    }
   },
   "id": "c3f6ee366b7b0659"
  },
  {
   "cell_type": "code",
   "execution_count": 116,
   "outputs": [
    {
     "name": "stdout",
     "output_type": "stream",
     "text": [
      "{1: 2987.220672554114, 2: 3234.3126949803245, 3: 3393.7901374789994, 4: 3497.9382121140056, 5: 3726.6377183145073, 6: 3814.33240128489, 7: 4106.688433356538, 8: 4086.5300694676607, 9: 4239.8416158957725, 10: 4342.193700182085, 11: 4356.561801754867, 12: 4512.449407980626, 13: 4622.693142274593, 14: 4672.754771948711, 15: 4776.389036111948, 16: 4787.015383876018, 17: 4841.50580648415, 18: 4878.66576550804, 19: 4859.338244669328, 20: 4867.592327184289, 21: 4897.291742022259, 22: 4946.232691920937, 23: 4968.764922156572, 24: 5023.643696512978}\n"
     ]
    }
   ],
   "source": [
    "def knn_train_test(train_cols, target_col, df):\n",
    "    np.random.seed(1)\n",
    "\n",
    "    # Randomize order of rows in data frame.\n",
    "    shuffled_index = np.random.permutation(df.index)\n",
    "    rand_df = df.reindex(shuffled_index)\n",
    "\n",
    "    # Divide number of rows in half and round.\n",
    "    last_train_row = int(len(rand_df) / 2)\n",
    "\n",
    "    # Select the first half and set as training set.\n",
    "    # Select the second half and set as test set.\n",
    "    train_df = rand_df.iloc[0:last_train_row]\n",
    "    test_df = rand_df.iloc[last_train_row:]\n",
    "\n",
    "    k_values = [i for i in range(1, 25)]\n",
    "    k_rmses = {}\n",
    "\n",
    "    for k in k_values:\n",
    "        # Fit model using k nearest neighbors.\n",
    "        knn = KNeighborsRegressor(n_neighbors=k)\n",
    "        knn.fit(train_df[train_cols], train_df[target_col])\n",
    "\n",
    "        # Make predictions using model.\n",
    "        predicted_labels = knn.predict(test_df[train_cols])\n",
    "\n",
    "        # Calculate and return RMSE.\n",
    "        mse = mean_squared_error(test_df[target_col], predicted_labels)\n",
    "        rmse = np.sqrt(mse)\n",
    "\n",
    "        k_rmses[k] = rmse\n",
    "    return k_rmses\n",
    "\n",
    "my_rmses = knn_train_test(my_train_col, my_target_col, my_df)\n",
    "\n",
    "print(my_rmses)"
   ],
   "metadata": {
    "collapsed": false
   },
   "id": "83cdb3befdb9cf91"
  },
  {
   "cell_type": "code",
   "execution_count": 112,
   "outputs": [
    {
     "data": {
      "text/plain": "{'2 best features': {1: 2783.6204237227344,\n  2: 2664.4856069239613,\n  3: 2798.5020213064563,\n  4: 2899.398216517618,\n  5: 2951.4585595787876,\n  6: 3095.4446488763815,\n  7: 3168.086354014714,\n  8: 3407.649858414081,\n  9: 3748.6716603306486,\n  10: 4080.7074771974826,\n  11: 4215.6914650913195,\n  12: 4275.491995843069,\n  13: 4374.083279426272,\n  14: 4424.031686910851,\n  15: 4539.546507613451,\n  16: 4667.871373358788,\n  17: 4728.025456639049,\n  18: 4792.429986445145,\n  19: 4824.692783677705,\n  20: 4841.102225475103,\n  21: 4837.429062000271,\n  22: 4831.16988267597,\n  23: 4861.679492959275,\n  24: 4903.346008862579},\n '3 best features': {1: 3399.8148100410203,\n  2: 3499.576763306847,\n  3: 3331.1758777153786,\n  4: 3354.8272972400428,\n  5: 3581.8383370100955,\n  6: 3732.943016673517,\n  7: 3639.9439408462786,\n  8: 3747.5583022144283,\n  9: 3984.08472892408,\n  10: 4003.7156051511315,\n  11: 4121.687230061635,\n  12: 4255.700651624227,\n  13: 4328.476829895253,\n  14: 4332.1306475408965,\n  15: 4388.35386543939,\n  16: 4408.927809477574,\n  17: 4404.693933344535,\n  18: 4447.577705091259,\n  19: 4537.049753345422,\n  20: 4592.444230865941,\n  21: 4636.731219491763,\n  22: 4721.248544133379,\n  23: 4787.943506313775,\n  24: 4802.894378990491},\n '4 best features': {1: 2952.725686581471,\n  2: 3131.704952720018,\n  3: 3129.692821910155,\n  4: 3241.4320776448717,\n  5: 3487.340917327035,\n  6: 3637.0381471429987,\n  7: 3606.195077860286,\n  8: 3809.9307026308247,\n  9: 3875.274902378068,\n  10: 3997.1583055842293,\n  11: 4162.564050411074,\n  12: 4289.486490995821,\n  13: 4368.061602779942,\n  14: 4416.304772968801,\n  15: 4434.013914355171,\n  16: 4441.4634909198785,\n  17: 4512.996303789127,\n  18: 4523.575629742228,\n  19: 4534.834065236792,\n  20: 4620.211598150367,\n  21: 4688.356509517293,\n  22: 4731.46717779913,\n  23: 4763.535312989311,\n  24: 4751.601375872476},\n '5 best features': {1: 2824.7061233282866,\n  2: 2915.6731645496975,\n  3: 3012.4204546509704,\n  4: 3202.8876051367483,\n  5: 3410.2170133901805,\n  6: 3618.4509432660384,\n  7: 3622.6290209234803,\n  8: 3848.635835654326,\n  9: 3977.8149139381726,\n  10: 3994.8132211260104,\n  11: 4159.843526607947,\n  12: 4294.3389473154875,\n  13: 4380.848359486949,\n  14: 4466.368754416089,\n  15: 4522.420711094978,\n  16: 4536.427578452413,\n  17: 4587.098443664006,\n  18: 4622.107837952761,\n  19: 4612.890107622797,\n  20: 4632.693976139521,\n  21: 4712.917548435062,\n  22: 4676.301064518744,\n  23: 4691.189310956096,\n  24: 4755.990767231825}}"
     },
     "execution_count": 112,
     "metadata": {},
     "output_type": "execute_result"
    }
   ],
   "source": [
    "# Try to loop it through different no. of features\n",
    "k_rmse_results = {}\n",
    "\n",
    "for nr_best_feats in range(2,6):\n",
    "    k_rmse_results['{} best features'.format(nr_best_feats)] = knn_train_test(\n",
    "        my_train_col[:nr_best_feats],\n",
    "        'price',\n",
    "        my_df\n",
    "    )\n",
    "\n",
    "k_rmse_results"
   ],
   "metadata": {
    "collapsed": false,
    "ExecuteTime": {
     "end_time": "2023-11-01T08:51:13.429602Z",
     "start_time": "2023-11-01T08:51:13.270092Z"
    }
   },
   "id": "38c88b1ffb9d639b"
  },
  {
   "cell_type": "code",
   "execution_count": 113,
   "outputs": [
    {
     "data": {
      "text/plain": "<matplotlib.legend.Legend at 0x7f8a3851aaf0>"
     },
     "execution_count": 113,
     "metadata": {},
     "output_type": "execute_result"
    },
    {
     "data": {
      "text/plain": "<Figure size 432x288 with 1 Axes>",
      "image/png": "[encoded data removed]"
     },
     "metadata": {},
     "output_type": "display_data"
    }
   ],
   "source": [
    "#Plot it\n",
    "for k,v in k_rmse_results.items():\n",
    "    x = list(v.keys())\n",
    "    y = list(v.values())\n",
    "    plt.plot(x,y, label=\"{}\".format(k))\n",
    "\n",
    "plt.xlabel('k value')\n",
    "plt.ylabel('RMSE')\n",
    "plt.legend()"
   ],
   "metadata": {
    "collapsed": false,
    "ExecuteTime": {
     "end_time": "2023-11-01T08:51:38.132603Z",
     "start_time": "2023-11-01T08:51:37.933195Z"
    }
   },
   "id": "851093b11728bff1"
  },
  {
   "cell_type": "code",
   "execution_count": null,
   "outputs": [],
   "source": [
    "# To predict values:\n",
    "\n",
    "model = KNeighborsRegressor()\n",
    "model.fit(train_one[[\"accommodates\"]], train_one[\"price\"])\n",
    "test_one[\"predicted_price\"] = model.predict(test_one[[\"accommodates\"]])\n",
    "iteration_one_rmse = mean_squared_error(test_one[\"price\"], test_one[\"predicted_price\"])**(1/2)"
   ],
   "metadata": {
    "collapsed": false
   },
   "id": "c0ffc5d3f8d43fac"
  },
  {
   "cell_type": "code",
   "execution_count": null,
   "outputs": [],
   "source": [],
   "metadata": {
    "collapsed": false
   },
   "id": "ce2ec2ceecdc6cc6"
  },
  {
   "cell_type": "code",
   "execution_count": null,
   "outputs": [],
   "source": [],
   "metadata": {
    "collapsed": false
   },
   "id": "9d9b0cc2e4bcb959"
  },
  {
   "cell_type": "code",
   "execution_count": null,
   "outputs": [],
   "source": [],
   "metadata": {
    "collapsed": false
   },
   "id": "be2bb74d1eb48731"
  },
  {
   "cell_type": "code",
   "execution_count": null,
   "outputs": [],
   "source": [],
   "metadata": {
    "collapsed": false
   },
   "id": "398d546fa4820465"
  }
 ],
 "metadata": {
  "kernelspec": {
   "display_name": "Python 3",
   "language": "python",
   "name": "python3"
  },
  "language_info": {
   "codemirror_mode": {
    "name": "ipython",
    "version": 3
   },
   "file_extension": ".py",
   "mimetype": "text/x-python",
   "name": "python",
   "nbconvert_exporter": "python",
   "pygments_lexer": "ipython3",
   "version": "3.8.11"
  }
 },
 "nbformat": 4,
 "nbformat_minor": 5
}
