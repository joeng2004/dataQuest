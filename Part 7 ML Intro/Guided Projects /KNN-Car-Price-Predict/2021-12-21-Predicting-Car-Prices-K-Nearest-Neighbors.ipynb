{
 "cells": [
  {
   "cell_type": "raw",
   "metadata": {},
   "source": [
    "---\n",
    "aliases:\n",
    "- /python/pandas/numpy/matplotlib/seaborn/scipy/sklearn/2021/12/21/Predicting-Car-Prices-K-Nearest-Neighbors\n",
    "author: Migs Germar\n",
    "\n",
    "branch: master\n",
    "categories:\n",
    "- python\n",
    "- pandas\n",
    "- matplotlib\n",
    "- seaborn\n",
    "- scipy\n",
    "- sklearn\n",
    "date: '2021-12-21'\n",
    "description: I use various machine learning workflow techniques to arrive at the optimal\n",
    "  K Nearest Neighbors (KNN) regression model for predicting car prices.\n",
    "image: images/notebook-images/knn-car-prices/two-cars.jfif\n",
    "output-file: 2021-12-21-predicting-car-prices-k-nearest-neighbors.html\n",
    "\n",
    "title: Predicting Car Prices using the K Nearest Neighbors Algorithm\n",
    "toc: true\n",
    "\n",
    "---\n",
    "\n"
   ],
   "id": "4811324d4027ecc4"
  },
  {
   "attachments": {},
   "cell_type": "markdown",
   "id": "mounted-prime",
   "metadata": {},
   "source": [
    "![](images/notebook-images/knn-car-prices/two-cars.jfif){fig-align=\"center\"}\n",
    "\n",
    "<center><a href = \"https://unsplash.com/photos/gKXKBY-C-Dk\">Wheelscene | Chris Smith</a></center>"
   ]
  },
  {
   "attachments": {},
   "cell_type": "markdown",
   "id": "aware-valuable",
   "metadata": {},
   "source": [
    "# Introduction\n",
    "\n",
    "K Nearest Neighbors or KNN is an an algorithm that can make predictions based on the similarity between different observations. In this project, I used KNN to predict the price of a car based on how similar its features are to those of other cars. Towards this end, I applied various machine learning techniques, such as standardization, feature selection, train-test split, hyperparameter optimization, and k-fold cross validation."
   ]
  },
  {
   "attachments": {},
   "cell_type": "markdown",
   "id": "administrative-negotiation",
   "metadata": {},
   "source": [
    ":::{.callout-note}\n",
    "\n",
    "I wrote this notebook by following a guided project on the [Dataquest](https://www.dataquest.io/) platform, specifically the [Guided Project: Predicting Car Prices](https://app.dataquest.io/c/36/m/155/guided-project%3A-predicting-car-prices/1/introduction-to-the-data-set). The general project flow and research questions were guided by Dataquest. Furthermore, though the mathematical explanations in this post were written in my own words, I learned the theory from Dataquest.\n",
    "\n",
    ":::"
   ]
  },
  {
   "attachments": {},
   "cell_type": "markdown",
   "id": "suited-challenge",
   "metadata": {},
   "source": [
    "Below are the packages used in this project."
   ]
  },
  {
   "cell_type": "code",
   "execution_count": 1,
   "id": "christian-colorado",
   "metadata": {
    "ExecuteTime": {
     "end_time": "2023-11-01T10:04:21.419754Z",
     "start_time": "2023-11-01T10:04:21.280942Z"
    }
   },
   "outputs": [],
   "source": [
    "import pandas as pd\n",
    "import numpy as np\n",
    "import matplotlib.pyplot as plt\n",
    "import seaborn as sns\n",
    "import re\n",
    "from scipy.stats import zscore\n",
    "from sklearn.neighbors import KNeighborsRegressor\n",
    "from sklearn.model_selection import KFold, cross_val_score, train_test_split\n",
    "from sklearn.feature_selection import f_regression, SelectKBest\n",
    "from sklearn.metrics import mean_squared_error"
   ]
  },
  {
   "attachments": {},
   "cell_type": "markdown",
   "id": "981409ea",
   "metadata": {},
   "source": [
    "# Data Inspection and Cleaning\n",
    "\n",
    "The dataset for this project is the Automobile Data Set by Schlimmer (1987), from the UCI Machine Learning Repository. The data and its description can be obtained [here](https://archive.ics.uci.edu/ml/datasets/automobile).\n",
    "\n",
    "The dataset describes 26 features of hundreds of cars. A summary of the features and their data types is shown below."
   ]
  },
  {
   "cell_type": "code",
   "execution_count": 2,
   "id": "4f7fb2fd",
   "metadata": {
    "ExecuteTime": {
     "end_time": "2023-11-01T10:04:21.439880Z",
     "start_time": "2023-11-01T10:04:21.421319Z"
    }
   },
   "outputs": [
    {
     "name": "stdout",
     "output_type": "stream",
     "text": [
      "<class 'pandas.core.frame.DataFrame'>\n",
      "RangeIndex: 205 entries, 0 to 204\n",
      "Data columns (total 26 columns):\n",
      " #   Column             Non-Null Count  Dtype  \n",
      "---  ------             --------------  -----  \n",
      " 0   symboling          205 non-null    int64  \n",
      " 1   normalized-losses  205 non-null    object \n",
      " 2   make               205 non-null    object \n",
      " 3   fuel-type          205 non-null    object \n",
      " 4   aspiration         205 non-null    object \n",
      " 5   num-of-doors       205 non-null    object \n",
      " 6   body-style         205 non-null    object \n",
      " 7   drive-wheels       205 non-null    object \n",
      " 8   engine-location    205 non-null    object \n",
      " 9   wheel-base         205 non-null    float64\n",
      " 10  length             205 non-null    float64\n",
      " 11  width              205 non-null    float64\n",
      " 12  height             205 non-null    float64\n",
      " 13  curb-weight        205 non-null    int64  \n",
      " 14  engine-type        205 non-null    object \n",
      " 15  num-of-cylinders   205 non-null    object \n",
      " 16  engine-size        205 non-null    int64  \n",
      " 17  fuel-system        205 non-null    object \n",
      " 18  bore               205 non-null    object \n",
      " 19  stroke             205 non-null    object \n",
      " 20  compression-ratio  205 non-null    float64\n",
      " 21  horsepower         205 non-null    object \n",
      " 22  peak-rpm           205 non-null    object \n",
      " 23  city-mpg           205 non-null    int64  \n",
      " 24  highway-mpg        205 non-null    int64  \n",
      " 25  price              205 non-null    object \n",
      "dtypes: float64(5), int64(5), object(16)\n",
      "memory usage: 41.8+ KB\n"
     ]
    }
   ],
   "source": [
    "#| code-fold: true\n",
    "# Data dictionary from documentation.\n",
    "data_dict = \"\"\"1. symboling: -3, -2, -1, 0, 1, 2, 3.\n",
    "2. normalized-losses: continuous from 65 to 256.\n",
    "3. make:\n",
    "alfa-romero, audi, bmw, chevrolet, dodge, honda,\n",
    "isuzu, jaguar, mazda, mercedes-benz, mercury,\n",
    "mitsubishi, nissan, peugot, plymouth, porsche,\n",
    "renault, saab, subaru, toyota, volkswagen, volvo\n",
    "4. fuel-type: diesel, gas.\n",
    "5. aspiration: std, turbo.\n",
    "6. num-of-doors: four, two.\n",
    "7. body-style: hardtop, wagon, sedan, hatchback, convertible.\n",
    "8. drive-wheels: 4wd, fwd, rwd.\n",
    "9. engine-location: front, rear.\n",
    "10. wheel-base: continuous from 86.6 120.9.\n",
    "11. length: continuous from 141.1 to 208.1.\n",
    "12. width: continuous from 60.3 to 72.3.\n",
    "13. height: continuous from 47.8 to 59.8.\n",
    "14. curb-weight: continuous from 1488 to 4066.\n",
    "15. engine-type: dohc, dohcv, l, ohc, ohcf, ohcv, rotor.\n",
    "16. num-of-cylinders: eight, five, four, six, three, twelve, two.\n",
    "17. engine-size: continuous from 61 to 326.\n",
    "18. fuel-system: 1bbl, 2bbl, 4bbl, idi, mfi, mpfi, spdi, spfi.\n",
    "19. bore: continuous from 2.54 to 3.94.\n",
    "20. stroke: continuous from 2.07 to 4.17.\n",
    "21. compression-ratio: continuous from 7 to 23.\n",
    "22. horsepower: continuous from 48 to 288.\n",
    "23. peak-rpm: continuous from 4150 to 6600.\n",
    "24. city-mpg: continuous from 13 to 49.\n",
    "25. highway-mpg: continuous from 16 to 54.\n",
    "26. price: continuous from 5118 to 45400.\"\"\"\n",
    "\n",
    "# Use regex to extract column names from data dictionary.\n",
    "col_names = re.findall(\n",
    "    pattern = r\"^[0-9]{1,2}\\. ([a-z\\-]+):\",\n",
    "    string = data_dict,\n",
    "    # Use multiline flag so that ^ indicates the start of a line.\n",
    "    flags = re.MULTILINE,\n",
    ")\n",
    "\n",
    "# Read data file and add column names.\n",
    "cars_df = pd.read_csv(\n",
    "    \"imports-85.data.txt\",\n",
    "    names = col_names,\n",
    ")\n",
    "\n",
    "cars_df.info()"
   ]
  },
  {
   "attachments": {},
   "cell_type": "markdown",
   "id": "429aa591",
   "metadata": {},
   "source": [
    "There are 205 cars and 26 features. Most of the features directly describe physical characteristics of the cars. Some exceptions are \"symboling\" and \"normalized-losses\", which are values related to car insurance and are beyond the scope of this project. Also, the \"price\" column provides the price of each car in USD.\n",
    "\n",
    "Let us look at the first five rows."
   ]
  },
  {
   "cell_type": "code",
   "execution_count": 3,
   "id": "32ba1536",
   "metadata": {
    "ExecuteTime": {
     "end_time": "2023-11-01T10:04:21.500624Z",
     "start_time": "2023-11-01T10:04:21.445553Z"
    }
   },
   "outputs": [
    {
     "data": {
      "text/plain": "   symboling normalized-losses         make fuel-type aspiration num-of-doors   \n0          3                 ?  alfa-romero       gas        std          two  \\\n1          3                 ?  alfa-romero       gas        std          two   \n2          1                 ?  alfa-romero       gas        std          two   \n3          2               164         audi       gas        std         four   \n4          2               164         audi       gas        std         four   \n\n    body-style drive-wheels engine-location  wheel-base  ...  engine-size   \n0  convertible          rwd           front        88.6  ...          130  \\\n1  convertible          rwd           front        88.6  ...          130   \n2    hatchback          rwd           front        94.5  ...          152   \n3        sedan          fwd           front        99.8  ...          109   \n4        sedan          4wd           front        99.4  ...          136   \n\n   fuel-system  bore  stroke compression-ratio horsepower  peak-rpm city-mpg   \n0         mpfi  3.47    2.68               9.0        111      5000       21  \\\n1         mpfi  3.47    2.68               9.0        111      5000       21   \n2         mpfi  2.68    3.47               9.0        154      5000       19   \n3         mpfi  3.19    3.40              10.0        102      5500       24   \n4         mpfi  3.19    3.40               8.0        115      5500       18   \n\n  highway-mpg  price  \n0          27  13495  \n1          27  16500  \n2          26  16500  \n3          30  13950  \n4          22  17450  \n\n[5 rows x 26 columns]",
      "text/html": "<div>\n<style scoped>\n    .dataframe tbody tr th:only-of-type {\n        vertical-align: middle;\n    }\n\n    .dataframe tbody tr th {\n        vertical-align: top;\n    }\n\n    .dataframe thead th {\n        text-align: right;\n    }\n</style>\n<table border=\"1\" class=\"dataframe\">\n  <thead>\n    <tr style=\"text-align: right;\">\n      <th></th>\n      <th>symboling</th>\n      <th>normalized-losses</th>\n      <th>make</th>\n      <th>fuel-type</th>\n      <th>aspiration</th>\n      <th>num-of-doors</th>\n      <th>body-style</th>\n      <th>drive-wheels</th>\n      <th>engine-location</th>\n      <th>wheel-base</th>\n      <th>...</th>\n      <th>engine-size</th>\n      <th>fuel-system</th>\n      <th>bore</th>\n      <th>stroke</th>\n      <th>compression-ratio</th>\n      <th>horsepower</th>\n      <th>peak-rpm</th>\n      <th>city-mpg</th>\n      <th>highway-mpg</th>\n      <th>price</th>\n    </tr>\n  </thead>\n  <tbody>\n    <tr>\n      <th>0</th>\n      <td>3</td>\n      <td>?</td>\n      <td>alfa-romero</td>\n      <td>gas</td>\n      <td>std</td>\n      <td>two</td>\n      <td>convertible</td>\n      <td>rwd</td>\n      <td>front</td>\n      <td>88.6</td>\n      <td>...</td>\n      <td>130</td>\n      <td>mpfi</td>\n      <td>3.47</td>\n      <td>2.68</td>\n      <td>9.0</td>\n      <td>111</td>\n      <td>5000</td>\n      <td>21</td>\n      <td>27</td>\n      <td>13495</td>\n    </tr>\n    <tr>\n      <th>1</th>\n      <td>3</td>\n      <td>?</td>\n      <td>alfa-romero</td>\n      <td>gas</td>\n      <td>std</td>\n      <td>two</td>\n      <td>convertible</td>\n      <td>rwd</td>\n      <td>front</td>\n      <td>88.6</td>\n      <td>...</td>\n      <td>130</td>\n      <td>mpfi</td>\n      <td>3.47</td>\n      <td>2.68</td>\n      <td>9.0</td>\n      <td>111</td>\n      <td>5000</td>\n      <td>21</td>\n      <td>27</td>\n      <td>16500</td>\n    </tr>\n    <tr>\n      <th>2</th>\n      <td>1</td>\n      <td>?</td>\n      <td>alfa-romero</td>\n      <td>gas</td>\n      <td>std</td>\n      <td>two</td>\n      <td>hatchback</td>\n      <td>rwd</td>\n      <td>front</td>\n      <td>94.5</td>\n      <td>...</td>\n      <td>152</td>\n      <td>mpfi</td>\n      <td>2.68</td>\n      <td>3.47</td>\n      <td>9.0</td>\n      <td>154</td>\n      <td>5000</td>\n      <td>19</td>\n      <td>26</td>\n      <td>16500</td>\n    </tr>\n    <tr>\n      <th>3</th>\n      <td>2</td>\n      <td>164</td>\n      <td>audi</td>\n      <td>gas</td>\n      <td>std</td>\n      <td>four</td>\n      <td>sedan</td>\n      <td>fwd</td>\n      <td>front</td>\n      <td>99.8</td>\n      <td>...</td>\n      <td>109</td>\n      <td>mpfi</td>\n      <td>3.19</td>\n      <td>3.40</td>\n      <td>10.0</td>\n      <td>102</td>\n      <td>5500</td>\n      <td>24</td>\n      <td>30</td>\n      <td>13950</td>\n    </tr>\n    <tr>\n      <th>4</th>\n      <td>2</td>\n      <td>164</td>\n      <td>audi</td>\n      <td>gas</td>\n      <td>std</td>\n      <td>four</td>\n      <td>sedan</td>\n      <td>4wd</td>\n      <td>front</td>\n      <td>99.4</td>\n      <td>...</td>\n      <td>136</td>\n      <td>mpfi</td>\n      <td>3.19</td>\n      <td>3.40</td>\n      <td>8.0</td>\n      <td>115</td>\n      <td>5500</td>\n      <td>18</td>\n      <td>22</td>\n      <td>17450</td>\n    </tr>\n  </tbody>\n</table>\n<p>5 rows × 26 columns</p>\n</div>"
     },
     "execution_count": 3,
     "metadata": {},
     "output_type": "execute_result"
    }
   ],
   "source": [
    "#| code-fold: true\n",
    "cars_df.head()"
   ]
  },
  {
   "attachments": {},
   "cell_type": "markdown",
   "id": "fdac5117",
   "metadata": {},
   "source": [
    "If we compare the data type of each column to its contents, several opportunities for data cleaning can be seen. For example, the \"normalized-losses\" feature is listed as an object-type column because it contains both strings and numbers. However, the strings in the column are question marks (?). Rather than being categories, these may be placeholders for missing data. This problem applies to several other columns, not just this one.\n",
    "\n",
    "Furthermore, in some columns like \"num-of-doors\", numbers are written as words. For example, 2 is written as \"two\". Since the numbers are in string format, these cannot be used in the K Nearest Neighbors model.\n",
    "\n",
    "Thus, in summary, the following cleaning steps have to be performed:\n",
    "\n",
    "- Replace question mark strings (\"?\") with null values (NaN). These are the proper way to indicate missing values.\n",
    "- Convert several object columns, like \"normalized-losses\", into numeric columns.\n",
    "- Replace numbers written as words with their proper numeric equivalents. For example, replace \"four\" with 4.\n",
    "\n",
    "These were performed in the following code cell."
   ]
  },
  {
   "cell_type": "code",
   "execution_count": 4,
   "id": "11b61847",
   "metadata": {
    "ExecuteTime": {
     "end_time": "2023-11-01T10:04:21.501165Z",
     "start_time": "2023-11-01T10:04:21.469303Z"
    }
   },
   "outputs": [
    {
     "name": "stdout",
     "output_type": "stream",
     "text": [
      "<class 'pandas.core.frame.DataFrame'>\n",
      "RangeIndex: 205 entries, 0 to 204\n",
      "Data columns (total 26 columns):\n",
      " #   Column             Non-Null Count  Dtype  \n",
      "---  ------             --------------  -----  \n",
      " 0   symboling          205 non-null    int64  \n",
      " 1   normalized-losses  164 non-null    float64\n",
      " 2   make               205 non-null    object \n",
      " 3   fuel-type          205 non-null    object \n",
      " 4   aspiration         205 non-null    object \n",
      " 5   num-of-doors       203 non-null    float64\n",
      " 6   body-style         205 non-null    object \n",
      " 7   drive-wheels       205 non-null    object \n",
      " 8   engine-location    205 non-null    object \n",
      " 9   wheel-base         205 non-null    float64\n",
      " 10  length             205 non-null    float64\n",
      " 11  width              205 non-null    float64\n",
      " 12  height             205 non-null    float64\n",
      " 13  curb-weight        205 non-null    int64  \n",
      " 14  engine-type        205 non-null    object \n",
      " 15  num-of-cylinders   205 non-null    int64  \n",
      " 16  engine-size        205 non-null    int64  \n",
      " 17  fuel-system        205 non-null    object \n",
      " 18  bore               201 non-null    float64\n",
      " 19  stroke             201 non-null    float64\n",
      " 20  compression-ratio  205 non-null    float64\n",
      " 21  horsepower         203 non-null    float64\n",
      " 22  peak-rpm           203 non-null    float64\n",
      " 23  city-mpg           205 non-null    int64  \n",
      " 24  highway-mpg        205 non-null    int64  \n",
      " 25  price              201 non-null    float64\n",
      "dtypes: float64(12), int64(6), object(8)\n",
      "memory usage: 41.8+ KB\n"
     ]
    }
   ],
   "source": [
    "#| code-fold: true\n",
    "# Clean the data.\n",
    "\n",
    "# Replace ? with NaN since these are placeholders.\n",
    "cars_df = cars_df.replace(\"?\", np.nan)\n",
    "\n",
    "# Change this object column to float type.\n",
    "obj_to_numeric = [\n",
    "    \"normalized-losses\",\n",
    "    \"bore\",\n",
    "    \"stroke\",\n",
    "    \"horsepower\",\n",
    "    \"peak-rpm\",\n",
    "    \"price\",\n",
    "]\n",
    "\n",
    "for col in obj_to_numeric:\n",
    "    cars_df[col] = pd.to_numeric(cars_df[col], errors = \"coerce\")\n",
    "\n",
    "# Replace strings with numeric equivalents.\n",
    "cars_df[\"num-of-doors\"] = cars_df[\"num-of-doors\"].replace(\n",
    "    {\n",
    "        \"four\": 4.0,\n",
    "        \"two\": 2.0,\n",
    "    }\n",
    ")\n",
    "cars_df[\"num-of-cylinders\"] = cars_df[\"num-of-cylinders\"].replace(\n",
    "    {\n",
    "        \"four\": 4,\n",
    "        \"six\": 6,\n",
    "        \"five\": 5,\n",
    "        \"eight\": 8,\n",
    "        \"two\": 2,\n",
    "        \"three\": 3,\n",
    "        \"twelve\": 12,\n",
    "    }\n",
    ")\n",
    "\n",
    "cars_df.info()"
   ]
  },
  {
   "attachments": {},
   "cell_type": "markdown",
   "id": "b37d8498",
   "metadata": {},
   "source": [
    "The new summary of columns is shown above. Several columns which were once \"object\" columns are now numeric. Also, since we replaced \"?\" placeholders with null values, we can now see that some columns have missing values."
   ]
  },
  {
   "cell_type": "code",
   "execution_count": 5,
   "id": "1c9efec3",
   "metadata": {
    "ExecuteTime": {
     "end_time": "2023-11-01T10:04:21.501473Z",
     "start_time": "2023-11-01T10:04:21.480444Z"
    }
   },
   "outputs": [
    {
     "data": {
      "text/plain": "normalized-losses    20.00000\nnum-of-doors          0.97561\nbore                  1.95122\nstroke                1.95122\nhorsepower            0.97561\npeak-rpm              0.97561\nprice                 1.95122\ndtype: float64"
     },
     "execution_count": 5,
     "metadata": {},
     "output_type": "execute_result"
    }
   ],
   "source": [
    "#| code-fold: true\n",
    "null_percs = (\n",
    "    cars_df\n",
    "    .isnull()\n",
    "    .sum()\n",
    "    .divide(cars_df.shape[0])\n",
    "    .multiply(100)\n",
    ")\n",
    "\n",
    "null_percs.loc[null_percs > 0]"
   ]
  },
  {
   "attachments": {},
   "cell_type": "markdown",
   "id": "0d3075d1",
   "metadata": {},
   "source": [
    "The table above shows the percentage of missing values in each column that has them. In particular, \"normalized-losses\" has missing values in 20% of the observations. Thus, we will have to drop this column from the dataset. This is better than the alternative, which is to delete all rows where \"normalized-losses\" is missing.\n",
    "\n",
    "As for the other 6 columns, we will use listwise deletion. This means that we will drop all rows with missing values in any of those columns."
   ]
  },
  {
   "cell_type": "code",
   "execution_count": 6,
   "id": "5ac07e2c",
   "metadata": {
    "ExecuteTime": {
     "end_time": "2023-11-01T10:04:21.504622Z",
     "start_time": "2023-11-01T10:04:21.489057Z"
    }
   },
   "outputs": [
    {
     "name": "stdout",
     "output_type": "stream",
     "text": [
      "Total number of missing values: 0\n",
      "New shape of dataset: (193, 25)\n"
     ]
    }
   ],
   "source": [
    "#| code-fold: true\n",
    "cars_df = (\n",
    "    cars_df\n",
    "    .drop(\"normalized-losses\", axis = 1)\n",
    "    .dropna(\n",
    "        subset = [\n",
    "            \"num-of-doors\",\n",
    "            \"bore\",\n",
    "            \"stroke\",\n",
    "            \"horsepower\",\n",
    "            \"peak-rpm\",\n",
    "            \"price\",\n",
    "        ]\n",
    "    )\n",
    ")\n",
    "\n",
    "num_null = cars_df.isnull().sum().sum()\n",
    "print(f\"Total number of missing values: {num_null}\")\n",
    "print(f\"New shape of dataset: {cars_df.shape}\")"
   ]
  },
  {
   "attachments": {},
   "cell_type": "markdown",
   "id": "65f654cc",
   "metadata": {},
   "source": [
    "Now, there are no more missing values in the dataset. There are 193 rows and 25 columns left."
   ]
  },
  {
   "attachments": {},
   "cell_type": "markdown",
   "id": "503d21ac",
   "metadata": {},
   "source": [
    "# The K Nearest Neighbors Algorithm\n",
    "\n",
    "Next, I will discuss the theory behind the KNN algorithm, then implement it on the dataset.\n",
    "\n",
    "First, let us discuss basic terminology. For your reference, below is a small part of the dataset:"
   ]
  },
  {
   "cell_type": "code",
   "execution_count": 7,
   "id": "d0cab237",
   "metadata": {
    "ExecuteTime": {
     "end_time": "2023-11-01T10:04:21.505134Z",
     "start_time": "2023-11-01T10:04:21.494666Z"
    }
   },
   "outputs": [
    {
     "data": {
      "text/plain": "          make fuel-type  num-of-doors   body-style    price\n0  alfa-romero       gas           2.0  convertible  13495.0\n1  alfa-romero       gas           2.0  convertible  16500.0\n2  alfa-romero       gas           2.0    hatchback  16500.0\n3         audi       gas           4.0        sedan  13950.0\n4         audi       gas           4.0        sedan  17450.0\n5         audi       gas           2.0        sedan  15250.0",
      "text/html": "<div>\n<style scoped>\n    .dataframe tbody tr th:only-of-type {\n        vertical-align: middle;\n    }\n\n    .dataframe tbody tr th {\n        vertical-align: top;\n    }\n\n    .dataframe thead th {\n        text-align: right;\n    }\n</style>\n<table border=\"1\" class=\"dataframe\">\n  <thead>\n    <tr style=\"text-align: right;\">\n      <th></th>\n      <th>make</th>\n      <th>fuel-type</th>\n      <th>num-of-doors</th>\n      <th>body-style</th>\n      <th>price</th>\n    </tr>\n  </thead>\n  <tbody>\n    <tr>\n      <th>0</th>\n      <td>alfa-romero</td>\n      <td>gas</td>\n      <td>2.0</td>\n      <td>convertible</td>\n      <td>13495.0</td>\n    </tr>\n    <tr>\n      <th>1</th>\n      <td>alfa-romero</td>\n      <td>gas</td>\n      <td>2.0</td>\n      <td>convertible</td>\n      <td>16500.0</td>\n    </tr>\n    <tr>\n      <th>2</th>\n      <td>alfa-romero</td>\n      <td>gas</td>\n      <td>2.0</td>\n      <td>hatchback</td>\n      <td>16500.0</td>\n    </tr>\n    <tr>\n      <th>3</th>\n      <td>audi</td>\n      <td>gas</td>\n      <td>4.0</td>\n      <td>sedan</td>\n      <td>13950.0</td>\n    </tr>\n    <tr>\n      <th>4</th>\n      <td>audi</td>\n      <td>gas</td>\n      <td>4.0</td>\n      <td>sedan</td>\n      <td>17450.0</td>\n    </tr>\n    <tr>\n      <th>5</th>\n      <td>audi</td>\n      <td>gas</td>\n      <td>2.0</td>\n      <td>sedan</td>\n      <td>15250.0</td>\n    </tr>\n  </tbody>\n</table>\n</div>"
     },
     "execution_count": 7,
     "metadata": {},
     "output_type": "execute_result"
    }
   ],
   "source": [
    "#| code-fold: true\n",
    "cars_df.loc[:5, [\"make\", \"fuel-type\", \"num-of-doors\", \"body-style\", \"price\"]]"
   ]
  },
  {
   "attachments": {},
   "cell_type": "markdown",
   "id": "46036365",
   "metadata": {},
   "source": [
    "Each row of data is called an observation; in this case, each observation is a car.\n",
    "\n",
    "On the other hand, each column is either a feature or a target. The target is the variable that we try to predict, and the features are information used to make the prediction. In the case of this project, the features may include the size of the car, the number of doors, etc. The target is the price of the car.\n",
    "\n",
    "The set of cars whose prices we will predict is called the testing set. On the other hand, the training set is the set of cars used to train the model to make predictions. Put more simply, in order to predict the price of a car in the testing set, we must compare it to the cars in the training set.\n",
    "\n",
    "In order to compare cars, KNN uses the Euclidean distance as a similarity metric between two observations. A low distance close to 0 means that the observations are very similar to each other. The following formula is used:\n",
    "\n",
    "$d = \\sqrt{\\sum_{i=1}^n (q_i - p_i)^2}$\n",
    "\n",
    "- $d$ is the Euclidean distance.\n",
    "- $n$ is the number of features.\n",
    "- $q$ and $p$ each refer to a different observation in the data. In this case, each is a different car. \n",
    "- $q_i$ is the value of feature $i$ for observation $q$. For example, if feature $1$ is the number of doors, $q_1$ is the number of doors on car $q$.\n",
    "- The differences between the two observations' features are squared, then summed up. Finally, the square root of the sum gives the Euclidean distance.\n",
    "\n",
    "Given that we want to predict the price of a car $q$, KNN computes the Euclidean distance of $q$ from *every single car in the training set*. The cars most similar to $q$ are its \"nearest neighbors.\"\n",
    "\n",
    "We then choose a number $k$, which will determine how many of the nearest neighbors will be selected. For example, if $k = 5$, we select the five most similar cars. Then, we take the mean price of these five cars, and we predict that this is the price of car $q$.\n",
    "\n",
    "Since we make a prediction based on an observation's $k$ nearest neighbors, the algorithm is called K Nearest Neighbors. Note that what I have described is an example of a KNN regression model, as it predicts a numeric target. There are still several other forms of KNN. Some use a different similarity metric like Manhattan distance, and some perform classification, which means that they predict a categorical target (Miller, 2019)."
   ]
  },
  {
   "attachments": {},
   "cell_type": "markdown",
   "id": "32555d74",
   "metadata": {},
   "source": [
    "# Techniques for Implementation\n",
    "\n",
    "Unlike with my previous [post](2021-12-14-Naive-Bayes-Algorithm-Detecting-Spam-Messages.ipynb) on the Naive Bayes Algorithm, I will not be programming this algorithm manually. Instead, I will use the scikit-learn workflow, which involves pre-packaged machine learning functions.\n",
    "\n",
    "In this part, I will individually discuss certain important techniques used in the machine learning workflow. In the next part, I will combine these techniques in order to obtain the optimal KNN model.\n",
    "\n",
    "## Standardization\n",
    "\n",
    "The first important technique is standardization. So that each feature will contribute equally to the Euclidean distance, we will standardize each numeric feature. In other words, each value will be converted into a z-score so that the mean of each feature is 0 and its standard deviation is 1. The following equation is used:\n",
    "\n",
    "$z = \\frac{x - \\bar{x}}{s}$\n",
    "\n",
    "- $z$ is the z-score.\n",
    "- $x$ is a value in a feature.\n",
    "- $\\bar{x}$ is the mean of the feature.\n",
    "- $s$ is the sample standard deviation."
   ]
  },
  {
   "cell_type": "code",
   "execution_count": 8,
   "id": "2c79002c",
   "metadata": {
    "ExecuteTime": {
     "end_time": "2023-11-01T10:04:21.602008Z",
     "start_time": "2023-11-01T10:04:21.520669Z"
    }
   },
   "outputs": [
    {
     "data": {
      "text/plain": "   symboling  num-of-doors  wheel-base    length     width    height   \n0   1.782215     -1.172839   -1.678015 -0.442872 -0.839080 -2.117092  \\\n1   1.782215     -1.172839   -1.678015 -0.442872 -0.839080 -2.117092   \n2   0.163544     -1.172839   -0.719041 -0.250543 -0.184200 -0.613816   \n3   0.972880      0.848214    0.142410  0.182198  0.143240  0.179580   \n4   0.972880      0.848214    0.077395  0.182198  0.236794  0.179580   \n\n   curb-weight  num-of-cylinders  engine-size      bore    stroke   \n0    -0.025646         -0.410180     0.045098  0.511697 -1.803495  \\\n1    -0.025646         -0.410180     0.045098  0.511697 -1.803495   \n2     0.496473          1.544506     0.574066 -2.388614  0.701095   \n3    -0.426254         -0.410180    -0.459826 -0.516262  0.479169   \n4     0.498371          0.567163     0.189362 -0.516262  0.479169   \n\n   compression-ratio  horsepower  peak-rpm  city-mpg  highway-mpg  \n0          -0.287525    0.198054 -0.212806 -0.677292    -0.555613  \n1          -0.287525    0.198054 -0.212806 -0.677292    -0.555613  \n2          -0.287525    1.330822 -0.212806 -0.990387    -0.702307  \n3          -0.036110   -0.039037  0.853987 -0.207649    -0.115531  \n4          -0.538940    0.303427  0.853987 -1.146935    -1.289083  ",
      "text/html": "<div>\n<style scoped>\n    .dataframe tbody tr th:only-of-type {\n        vertical-align: middle;\n    }\n\n    .dataframe tbody tr th {\n        vertical-align: top;\n    }\n\n    .dataframe thead th {\n        text-align: right;\n    }\n</style>\n<table border=\"1\" class=\"dataframe\">\n  <thead>\n    <tr style=\"text-align: right;\">\n      <th></th>\n      <th>symboling</th>\n      <th>num-of-doors</th>\n      <th>wheel-base</th>\n      <th>length</th>\n      <th>width</th>\n      <th>height</th>\n      <th>curb-weight</th>\n      <th>num-of-cylinders</th>\n      <th>engine-size</th>\n      <th>bore</th>\n      <th>stroke</th>\n      <th>compression-ratio</th>\n      <th>horsepower</th>\n      <th>peak-rpm</th>\n      <th>city-mpg</th>\n      <th>highway-mpg</th>\n    </tr>\n  </thead>\n  <tbody>\n    <tr>\n      <th>0</th>\n      <td>1.782215</td>\n      <td>-1.172839</td>\n      <td>-1.678015</td>\n      <td>-0.442872</td>\n      <td>-0.839080</td>\n      <td>-2.117092</td>\n      <td>-0.025646</td>\n      <td>-0.410180</td>\n      <td>0.045098</td>\n      <td>0.511697</td>\n      <td>-1.803495</td>\n      <td>-0.287525</td>\n      <td>0.198054</td>\n      <td>-0.212806</td>\n      <td>-0.677292</td>\n      <td>-0.555613</td>\n    </tr>\n    <tr>\n      <th>1</th>\n      <td>1.782215</td>\n      <td>-1.172839</td>\n      <td>-1.678015</td>\n      <td>-0.442872</td>\n      <td>-0.839080</td>\n      <td>-2.117092</td>\n      <td>-0.025646</td>\n      <td>-0.410180</td>\n      <td>0.045098</td>\n      <td>0.511697</td>\n      <td>-1.803495</td>\n      <td>-0.287525</td>\n      <td>0.198054</td>\n      <td>-0.212806</td>\n      <td>-0.677292</td>\n      <td>-0.555613</td>\n    </tr>\n    <tr>\n      <th>2</th>\n      <td>0.163544</td>\n      <td>-1.172839</td>\n      <td>-0.719041</td>\n      <td>-0.250543</td>\n      <td>-0.184200</td>\n      <td>-0.613816</td>\n      <td>0.496473</td>\n      <td>1.544506</td>\n      <td>0.574066</td>\n      <td>-2.388614</td>\n      <td>0.701095</td>\n      <td>-0.287525</td>\n      <td>1.330822</td>\n      <td>-0.212806</td>\n      <td>-0.990387</td>\n      <td>-0.702307</td>\n    </tr>\n    <tr>\n      <th>3</th>\n      <td>0.972880</td>\n      <td>0.848214</td>\n      <td>0.142410</td>\n      <td>0.182198</td>\n      <td>0.143240</td>\n      <td>0.179580</td>\n      <td>-0.426254</td>\n      <td>-0.410180</td>\n      <td>-0.459826</td>\n      <td>-0.516262</td>\n      <td>0.479169</td>\n      <td>-0.036110</td>\n      <td>-0.039037</td>\n      <td>0.853987</td>\n      <td>-0.207649</td>\n      <td>-0.115531</td>\n    </tr>\n    <tr>\n      <th>4</th>\n      <td>0.972880</td>\n      <td>0.848214</td>\n      <td>0.077395</td>\n      <td>0.182198</td>\n      <td>0.236794</td>\n      <td>0.179580</td>\n      <td>0.498371</td>\n      <td>0.567163</td>\n      <td>0.189362</td>\n      <td>-0.516262</td>\n      <td>0.479169</td>\n      <td>-0.538940</td>\n      <td>0.303427</td>\n      <td>0.853987</td>\n      <td>-1.146935</td>\n      <td>-1.289083</td>\n    </tr>\n  </tbody>\n</table>\n</div>"
     },
     "execution_count": 8,
     "metadata": {},
     "output_type": "execute_result"
    }
   ],
   "source": [
    "#| code-fold: true\n",
    "all_feature_cols = [col for col in cars_df.columns if col != \"price\"]\n",
    "\n",
    "# Series of feature:data type\n",
    "fdt = cars_df[all_feature_cols].dtypes\n",
    "\n",
    "# Identify numeric features\n",
    "all_numeric_features = fdt.index[fdt != \"object\"]\n",
    "\n",
    "# Standardize\n",
    "cars_df[all_numeric_features] = cars_df[all_numeric_features].apply(zscore, axis = 0, ddof = 1)\n",
    "\n",
    "cars_df[all_numeric_features].head()"
   ]
  },
  {
   "attachments": {},
   "cell_type": "markdown",
   "id": "1108abf5",
   "metadata": {},
   "source": [
    "The table above shows the first 5 rows of all of the numeric features. Notice that each feature now contains positive and negative values close to 0 because it was standardized."
   ]
  },
  {
   "attachments": {},
   "cell_type": "markdown",
   "id": "181a64f4",
   "metadata": {},
   "source": [
    "## Feature Selection\n",
    "\n",
    "The second technique is feature selection. We must choose features which we think are most relevant to a car's price. We can only select numeric features since categorical ones cannot be used to calculate Euclidean distance. Thus, we must select from the following features:"
   ]
  },
  {
   "cell_type": "code",
   "execution_count": 9,
   "id": "0ce4d080",
   "metadata": {
    "ExecuteTime": {
     "end_time": "2023-11-01T10:04:21.602369Z",
     "start_time": "2023-11-01T10:04:21.525080Z"
    }
   },
   "outputs": [
    {
     "data": {
      "text/plain": "['symboling',\n 'num-of-doors',\n 'wheel-base',\n 'length',\n 'width',\n 'height',\n 'curb-weight',\n 'num-of-cylinders',\n 'engine-size',\n 'bore',\n 'stroke',\n 'compression-ratio',\n 'horsepower',\n 'peak-rpm',\n 'city-mpg',\n 'highway-mpg']"
     },
     "execution_count": 9,
     "metadata": {},
     "output_type": "execute_result"
    }
   ],
   "source": [
    "#| code-fold: true\n",
    "all_numeric_features.to_list()"
   ]
  },
  {
   "attachments": {},
   "cell_type": "markdown",
   "id": "62598985",
   "metadata": {},
   "source": [
    "All of these features are physical characteristics of a car, except for \"symboling\". According to the dataset documentation by Schlimmer (2019), this feature is an \"insurance risk rating.\" It elaborates:\n",
    "\n",
    "> Cars are initially assigned a risk factor symbol associated with its price. Then, if it is more risky (or less), this symbol is adjusted by moving it up (or down) the scale. Actuarians call this process \"symboling\". A value of +3 indicates that the auto is risky, -3 that it is probably pretty safe."
   ]
  },
  {
   "attachments": {},
   "cell_type": "markdown",
   "id": "170c3439",
   "metadata": {},
   "source": [
    "Given that this feature is systematically associated with the price of a car, it may be relevant to our model. Thus, we will consider it along with the other numeric features.\n",
    "\n",
    "In order to determine which combination of features is the best, we will use univariate feature selection. \"Univariate\" refers to the use of a single variable. We will perform a statistical test between each feature and the target. Then, we will select the features with the highest scores from the statistical test (scikit-learn developers, 2021).\n",
    "\n",
    "In our case, we have a regression problem, since we want to predict a continuous variable, car price. Thus, we will use the F-statistic as our score function. According to Frost (2017), the F-statistic indicates the \"overall significance\" of a linear regression model. In univariate feature selection, we would do the following steps:\n",
    "\n",
    "- For each feature:\n",
    "    - Perform linear regression where the independent variable is the feature and the dependent variable is the target (in this case, price).\n",
    "    - Obtain the F-statistic.\n",
    "- Compile a list with the F-statistic of each feature.\n",
    "- Identify the features with the highest F-statistics.\n",
    "\n",
    "This can be implemented automatically using the scikit-learn's `SelectKBest` class. It is called `SelectKBest` because we can set a parameter `k` which tells how many features to select. For example, if `k = 3`, the top three features with the highest F-statistic are selected. This is done below:"
   ]
  },
  {
   "cell_type": "code",
   "execution_count": 11,
   "id": "ed5a5420",
   "metadata": {
    "ExecuteTime": {
     "end_time": "2023-11-01T10:05:51.076906Z",
     "start_time": "2023-11-01T10:05:51.052495Z"
    }
   },
   "outputs": [
    {
     "name": "stdout",
     "output_type": "stream",
     "text": [
      "Top 3 features: ['engine-size', 'curb-weight', 'horsepower']\n"
     ]
    }
   ],
   "source": [
    "#| code-fold: true\n",
    "skb = SelectKBest(\n",
    "    score_func = f_regression,\n",
    "    k = 3,\n",
    ")\n",
    "\n",
    "X = cars_df[all_numeric_features]\n",
    "y = cars_df[\"price\"]\n",
    "\n",
    "# Fit the SelectKBest object to your data\n",
    "skb.fit(X, y)\n",
    "\n",
    "# Get the scores of each feature\n",
    "scores = skb.scores_\n",
    "\n",
    "# Sort the scores in descending order\n",
    "sorted_indices = np.argsort(scores)[::-1]\n",
    "\n",
    "# Get the indices of the top 3 features\n",
    "top_indices = sorted_indices[:3]\n",
    "\n",
    "# Get the names of the top 3 features\n",
    "best_features = X.columns[top_indices].tolist()\n",
    "\n",
    "print(\"Top 3 features:\", best_features)"
   ]
  },
  {
   "attachments": {},
   "cell_type": "markdown",
   "id": "1d458447",
   "metadata": {},
   "source": [
    "The results show that curb weight, engine size, and horsepower are the highest-scoring features. However, we will not select these yet for the final model, since other steps still must be discussed."
   ]
  },
  {
   "attachments": {},
   "cell_type": "markdown",
   "id": "0b3f0cc4",
   "metadata": {},
   "source": [
    "## Train-Test Split with Stratification\n",
    "\n",
    "Train-test split is the third important technique.\n",
    "\n",
    "Before model training, the dataset has to be split into training and testing sets. We will use 80% of the data in the training set and 20% in the testing set. As the names suggest, the training set is used to train the model or help it *learn* how to predict car prices. Then, we make predictions on the cars on the testing set to see whether the predictions are accurate.\n",
    "\n",
    "Before we split the data, though, we have to ensure that the frequency distribution of the target is similar between the training and testing sets. Below is a histogram of the frequency distribution of car price across the entire dataset:"
   ]
  },
  {
   "cell_type": "code",
   "execution_count": 12,
   "id": "f84b4a2a",
   "metadata": {
    "ExecuteTime": {
     "end_time": "2023-11-01T10:06:02.063933Z",
     "start_time": "2023-11-01T10:06:01.786526Z"
    }
   },
   "outputs": [
    {
     "data": {
      "text/plain": "<Figure size 432x288 with 1 Axes>",
      "image/png": "[encoded data removed]"
     },
     "metadata": {},
     "output_type": "display_data"
    }
   ],
   "source": [
    "#| code-fold: true\n",
    "sns.histplot(cars_df[\"price\"], bins = 100)\n",
    "plt.title(\"Frequency Distribution of Car Price\")\n",
    "plt.xlabel(\"Price (USD)\")\n",
    "plt.ylabel(\"Number of Cars\")\n",
    "plt.show()"
   ]
  },
  {
   "attachments": {},
   "cell_type": "markdown",
   "id": "8206307c",
   "metadata": {},
   "source": [
    "The graph shows a right-skewed distribution, which means that most of the car prices are low and there are outliers with high prices. When we split the data into training and testing sets, we want each set to have a similar distribution to this.\n",
    "\n",
    "De Cock (2011) provides a helpful suggestion on how to do this. The article says, \"Simply order the original data set by a variable of interest (such as \n",
    "sale price) and select every kth observation to achieve the desired sample size (k=2 for a \n",
    "50/50 split or k=4 for a 75/25 split).\"\n",
    "\n",
    "In our case, we want an 80/20 split. One-fifth of the data will go to the testing set, so we can use k = 5. We will thus order the observations by price, then assign every 5th observation to the testing set. All other observations will go to the training set.\n",
    "\n",
    "In the code below, I have written a custom function `stratify_continuous` that uses this technique. I then performed a train-test split after stratification. `X_train` and `y_train` refer to the features and target in the training set, respectively. `X_test` and `y_test` are from the testing set."
   ]
  },
  {
   "cell_type": "code",
   "execution_count": 13,
   "id": "44a02076",
   "metadata": {
    "ExecuteTime": {
     "end_time": "2023-11-01T10:06:02.064631Z",
     "start_time": "2023-11-01T10:06:01.987146Z"
    }
   },
   "outputs": [
    {
     "data": {
      "text/plain": "       y_train price  y_test price\ncount     155.000000     38.000000\nmean    13308.658065  13188.631579\nstd      8197.063090   7737.592975\nmin      5118.000000   5389.000000\n25%      7713.500000   7805.750000\n50%     10245.000000  10295.000000\n75%     16530.500000  16385.750000\nmax     45400.000000  37028.000000",
      "text/html": "<div>\n<style scoped>\n    .dataframe tbody tr th:only-of-type {\n        vertical-align: middle;\n    }\n\n    .dataframe tbody tr th {\n        vertical-align: top;\n    }\n\n    .dataframe thead th {\n        text-align: right;\n    }\n</style>\n<table border=\"1\" class=\"dataframe\">\n  <thead>\n    <tr style=\"text-align: right;\">\n      <th></th>\n      <th>y_train price</th>\n      <th>y_test price</th>\n    </tr>\n  </thead>\n  <tbody>\n    <tr>\n      <th>count</th>\n      <td>155.000000</td>\n      <td>38.000000</td>\n    </tr>\n    <tr>\n      <th>mean</th>\n      <td>13308.658065</td>\n      <td>13188.631579</td>\n    </tr>\n    <tr>\n      <th>std</th>\n      <td>8197.063090</td>\n      <td>7737.592975</td>\n    </tr>\n    <tr>\n      <th>min</th>\n      <td>5118.000000</td>\n      <td>5389.000000</td>\n    </tr>\n    <tr>\n      <th>25%</th>\n      <td>7713.500000</td>\n      <td>7805.750000</td>\n    </tr>\n    <tr>\n      <th>50%</th>\n      <td>10245.000000</td>\n      <td>10295.000000</td>\n    </tr>\n    <tr>\n      <th>75%</th>\n      <td>16530.500000</td>\n      <td>16385.750000</td>\n    </tr>\n    <tr>\n      <th>max</th>\n      <td>45400.000000</td>\n      <td>37028.000000</td>\n    </tr>\n  </tbody>\n</table>\n</div>"
     },
     "execution_count": 13,
     "metadata": {},
     "output_type": "execute_result"
    }
   ],
   "source": [
    "#| code-fold: true\n",
    "\n",
    "def stratify_continuous(n_folds, y):\n",
    "    \"\"\"Stratify a dataset on a continuous target.\"\"\"\n",
    "    if n_folds < 2 or n_folds > 10:\n",
    "        raise ValueError(\"Please select a number of folds from 2 to 10.\")\n",
    "    \n",
    "    fold_nums = list(range(n_folds))\n",
    "\n",
    "    # DataFrame where \"index\" column contains the original indices\n",
    "    df = pd.DataFrame(\n",
    "        y\n",
    "        # Shuffle before ranking so that cars with the same price are ordered randomly.\n",
    "        .sample(frac = 1, random_state = 1, ignore_index = False)\n",
    "    )\n",
    "\n",
    "    # This column gives a rank to each value in y. 0 is the rank of the lowest value.\n",
    "    # Ties are broken according to order of appearance.\n",
    "    df[\"rank\"] = df[y.name].rank(method = \"first\") - 1\n",
    "\n",
    "    df[\"fold\"] = 0\n",
    "\n",
    "    for f in fold_nums[1:]:\n",
    "        # start at f, then increment by n_folds\n",
    "        indices = list(range(f, df.shape[0], n_folds))\n",
    "        df.loc[df[\"rank\"].isin(indices), \"fold\"] = f\n",
    "\n",
    "    # Revert df to original order of indices\n",
    "    df = df.reindex(index = y.index)\n",
    "\n",
    "    # A series that indicates the fold number of each observation according to its original position in y\n",
    "    fold_series = df[\"fold\"].copy()\n",
    "\n",
    "    return fold_series\n",
    "\n",
    "folds = stratify_continuous(\n",
    "    n_folds = 5,\n",
    "    y = cars_df[\"price\"],\n",
    ")\n",
    "\n",
    "def split_folds(X, y, fold_series, test_fold):\n",
    "    \"\"\"Take a dataset whose observations have been grouped into folds,\n",
    "    then perform a train-test split.\"\"\"\n",
    "\n",
    "    if fold_series.dtype != \"int64\":\n",
    "        raise AttributeError(\"The fold list does not purely contain integers.\")\n",
    "\n",
    "    test_mask = (fold_series == test_fold)\n",
    "\n",
    "    X_train = X.loc[~test_mask].copy()\n",
    "    y_train = y.loc[~test_mask].copy()\n",
    "\n",
    "    X_test = X.loc[test_mask].copy()\n",
    "    y_test = y.loc[test_mask].copy()\n",
    "\n",
    "    return X_train, X_test, y_train, y_test\n",
    "\n",
    "X_train, X_test, y_train, y_test = split_folds(\n",
    "    X = cars_df[all_numeric_features],\n",
    "    y = cars_df[\"price\"],\n",
    "    fold_series = folds,\n",
    "    test_fold = 4,\n",
    ")\n",
    "\n",
    "# Summary statistics for target columns.\n",
    "target_df = pd.concat(\n",
    "    [y_train, y_test],\n",
    "    axis = 1,\n",
    "    join = \"outer\",\n",
    ")\n",
    "\n",
    "target_df.columns = [\"y_train price\", \"y_test price\"]\n",
    "\n",
    "target_df.describe()"
   ]
  },
  {
   "attachments": {},
   "cell_type": "markdown",
   "id": "1a121e53",
   "metadata": {},
   "source": [
    "This table shows summary statistics for the price columns of the two sets. The sets have similar means at around USD 13,200, and they also have similar medians at around USD 10,200.\n",
    "\n",
    "Let us compare the price distributions using KDE plots:"
   ]
  },
  {
   "cell_type": "code",
   "execution_count": 14,
   "id": "9dd1a3c2",
   "metadata": {
    "ExecuteTime": {
     "end_time": "2023-11-01T10:06:02.135452Z",
     "start_time": "2023-11-01T10:06:02.010794Z"
    }
   },
   "outputs": [
    {
     "ename": "ValueError",
     "evalue": "Multi-dimensional indexing (e.g. `obj[:, None]`) is no longer supported. Convert to a numpy array before indexing instead.",
     "output_type": "error",
     "traceback": [
      "\u001B[0;31m---------------------------------------------------------------------------\u001B[0m",
      "\u001B[0;31mValueError\u001B[0m                                Traceback (most recent call last)",
      "\u001B[0;32m<ipython-input-14-c66cd0da370c>\u001B[0m in \u001B[0;36m<module>\u001B[0;34m\u001B[0m\n\u001B[1;32m      1\u001B[0m \u001B[0;31m#| code-fold: true\u001B[0m\u001B[0;34m\u001B[0m\u001B[0;34m\u001B[0m\u001B[0;34m\u001B[0m\u001B[0m\n\u001B[0;32m----> 2\u001B[0;31m \u001B[0msns\u001B[0m\u001B[0;34m.\u001B[0m\u001B[0mkdeplot\u001B[0m\u001B[0;34m(\u001B[0m\u001B[0my_train\u001B[0m\u001B[0;34m,\u001B[0m \u001B[0mlabel\u001B[0m \u001B[0;34m=\u001B[0m \u001B[0;34m\"Training set\"\u001B[0m\u001B[0;34m)\u001B[0m\u001B[0;34m\u001B[0m\u001B[0;34m\u001B[0m\u001B[0m\n\u001B[0m\u001B[1;32m      3\u001B[0m \u001B[0msns\u001B[0m\u001B[0;34m.\u001B[0m\u001B[0mkdeplot\u001B[0m\u001B[0;34m(\u001B[0m\u001B[0my_test\u001B[0m\u001B[0;34m,\u001B[0m \u001B[0mlabel\u001B[0m \u001B[0;34m=\u001B[0m \u001B[0;34m\"Testing set\"\u001B[0m\u001B[0;34m)\u001B[0m\u001B[0;34m\u001B[0m\u001B[0;34m\u001B[0m\u001B[0m\n\u001B[1;32m      4\u001B[0m \u001B[0;34m\u001B[0m\u001B[0m\n\u001B[1;32m      5\u001B[0m \u001B[0mplt\u001B[0m\u001B[0;34m.\u001B[0m\u001B[0mtitle\u001B[0m\u001B[0;34m(\u001B[0m\u001B[0;34m\"Comparison of Car Prices Between Sets\"\u001B[0m\u001B[0;34m)\u001B[0m\u001B[0;34m\u001B[0m\u001B[0;34m\u001B[0m\u001B[0m\n",
      "\u001B[0;32m~/opt/anaconda3/envs/transformers_env/lib/python3.8/site-packages/seaborn/distributions.py\u001B[0m in \u001B[0;36mkdeplot\u001B[0;34m(data, x, y, hue, weights, palette, hue_order, hue_norm, color, fill, multiple, common_norm, common_grid, cumulative, bw_method, bw_adjust, warn_singular, log_scale, levels, thresh, gridsize, cut, clip, legend, cbar, cbar_ax, cbar_kws, ax, **kwargs)\u001B[0m\n\u001B[1;32m   1715\u001B[0m         \u001B[0mplot_kws\u001B[0m \u001B[0;34m=\u001B[0m \u001B[0mkwargs\u001B[0m\u001B[0;34m.\u001B[0m\u001B[0mcopy\u001B[0m\u001B[0;34m(\u001B[0m\u001B[0;34m)\u001B[0m\u001B[0;34m\u001B[0m\u001B[0;34m\u001B[0m\u001B[0m\n\u001B[1;32m   1716\u001B[0m \u001B[0;34m\u001B[0m\u001B[0m\n\u001B[0;32m-> 1717\u001B[0;31m         p.plot_univariate_density(\n\u001B[0m\u001B[1;32m   1718\u001B[0m             \u001B[0mmultiple\u001B[0m\u001B[0;34m=\u001B[0m\u001B[0mmultiple\u001B[0m\u001B[0;34m,\u001B[0m\u001B[0;34m\u001B[0m\u001B[0;34m\u001B[0m\u001B[0m\n\u001B[1;32m   1719\u001B[0m             \u001B[0mcommon_norm\u001B[0m\u001B[0;34m=\u001B[0m\u001B[0mcommon_norm\u001B[0m\u001B[0;34m,\u001B[0m\u001B[0;34m\u001B[0m\u001B[0;34m\u001B[0m\u001B[0m\n",
      "\u001B[0;32m~/opt/anaconda3/envs/transformers_env/lib/python3.8/site-packages/seaborn/distributions.py\u001B[0m in \u001B[0;36mplot_univariate_density\u001B[0;34m(self, multiple, common_norm, common_grid, warn_singular, fill, color, legend, estimate_kws, **plot_kws)\u001B[0m\n\u001B[1;32m    997\u001B[0m \u001B[0;34m\u001B[0m\u001B[0m\n\u001B[1;32m    998\u001B[0m                 \u001B[0;32melse\u001B[0m\u001B[0;34m:\u001B[0m\u001B[0;34m\u001B[0m\u001B[0;34m\u001B[0m\u001B[0m\n\u001B[0;32m--> 999\u001B[0;31m                     \u001B[0martist\u001B[0m\u001B[0;34m,\u001B[0m \u001B[0;34m=\u001B[0m \u001B[0max\u001B[0m\u001B[0;34m.\u001B[0m\u001B[0mplot\u001B[0m\u001B[0;34m(\u001B[0m\u001B[0msupport\u001B[0m\u001B[0;34m,\u001B[0m \u001B[0mdensity\u001B[0m\u001B[0;34m,\u001B[0m \u001B[0;34m**\u001B[0m\u001B[0martist_kws\u001B[0m\u001B[0;34m)\u001B[0m\u001B[0;34m\u001B[0m\u001B[0;34m\u001B[0m\u001B[0m\n\u001B[0m\u001B[1;32m   1000\u001B[0m \u001B[0;34m\u001B[0m\u001B[0m\n\u001B[1;32m   1001\u001B[0m                 \u001B[0martist\u001B[0m\u001B[0;34m.\u001B[0m\u001B[0msticky_edges\u001B[0m\u001B[0;34m.\u001B[0m\u001B[0mx\u001B[0m\u001B[0;34m[\u001B[0m\u001B[0;34m:\u001B[0m\u001B[0;34m]\u001B[0m \u001B[0;34m=\u001B[0m \u001B[0msticky_support\u001B[0m\u001B[0;34m\u001B[0m\u001B[0;34m\u001B[0m\u001B[0m\n",
      "\u001B[0;32m~/opt/anaconda3/envs/transformers_env/lib/python3.8/site-packages/matplotlib/axes/_axes.py\u001B[0m in \u001B[0;36mplot\u001B[0;34m(self, scalex, scaley, data, *args, **kwargs)\u001B[0m\n\u001B[1;32m   1741\u001B[0m         \"\"\"\n\u001B[1;32m   1742\u001B[0m         \u001B[0mkwargs\u001B[0m \u001B[0;34m=\u001B[0m \u001B[0mcbook\u001B[0m\u001B[0;34m.\u001B[0m\u001B[0mnormalize_kwargs\u001B[0m\u001B[0;34m(\u001B[0m\u001B[0mkwargs\u001B[0m\u001B[0;34m,\u001B[0m \u001B[0mmlines\u001B[0m\u001B[0;34m.\u001B[0m\u001B[0mLine2D\u001B[0m\u001B[0;34m)\u001B[0m\u001B[0;34m\u001B[0m\u001B[0;34m\u001B[0m\u001B[0m\n\u001B[0;32m-> 1743\u001B[0;31m         \u001B[0mlines\u001B[0m \u001B[0;34m=\u001B[0m \u001B[0;34m[\u001B[0m\u001B[0;34m*\u001B[0m\u001B[0mself\u001B[0m\u001B[0;34m.\u001B[0m\u001B[0m_get_lines\u001B[0m\u001B[0;34m(\u001B[0m\u001B[0;34m*\u001B[0m\u001B[0margs\u001B[0m\u001B[0;34m,\u001B[0m \u001B[0mdata\u001B[0m\u001B[0;34m=\u001B[0m\u001B[0mdata\u001B[0m\u001B[0;34m,\u001B[0m \u001B[0;34m**\u001B[0m\u001B[0mkwargs\u001B[0m\u001B[0;34m)\u001B[0m\u001B[0;34m]\u001B[0m\u001B[0;34m\u001B[0m\u001B[0;34m\u001B[0m\u001B[0m\n\u001B[0m\u001B[1;32m   1744\u001B[0m         \u001B[0;32mfor\u001B[0m \u001B[0mline\u001B[0m \u001B[0;32min\u001B[0m \u001B[0mlines\u001B[0m\u001B[0;34m:\u001B[0m\u001B[0;34m\u001B[0m\u001B[0;34m\u001B[0m\u001B[0m\n\u001B[1;32m   1745\u001B[0m             \u001B[0mself\u001B[0m\u001B[0;34m.\u001B[0m\u001B[0madd_line\u001B[0m\u001B[0;34m(\u001B[0m\u001B[0mline\u001B[0m\u001B[0;34m)\u001B[0m\u001B[0;34m\u001B[0m\u001B[0;34m\u001B[0m\u001B[0m\n",
      "\u001B[0;32m~/opt/anaconda3/envs/transformers_env/lib/python3.8/site-packages/matplotlib/axes/_base.py\u001B[0m in \u001B[0;36m__call__\u001B[0;34m(self, data, *args, **kwargs)\u001B[0m\n\u001B[1;32m    271\u001B[0m                 \u001B[0mthis\u001B[0m \u001B[0;34m+=\u001B[0m \u001B[0margs\u001B[0m\u001B[0;34m[\u001B[0m\u001B[0;36m0\u001B[0m\u001B[0;34m]\u001B[0m\u001B[0;34m,\u001B[0m\u001B[0;34m\u001B[0m\u001B[0;34m\u001B[0m\u001B[0m\n\u001B[1;32m    272\u001B[0m                 \u001B[0margs\u001B[0m \u001B[0;34m=\u001B[0m \u001B[0margs\u001B[0m\u001B[0;34m[\u001B[0m\u001B[0;36m1\u001B[0m\u001B[0;34m:\u001B[0m\u001B[0;34m]\u001B[0m\u001B[0;34m\u001B[0m\u001B[0;34m\u001B[0m\u001B[0m\n\u001B[0;32m--> 273\u001B[0;31m             \u001B[0;32myield\u001B[0m \u001B[0;32mfrom\u001B[0m \u001B[0mself\u001B[0m\u001B[0;34m.\u001B[0m\u001B[0m_plot_args\u001B[0m\u001B[0;34m(\u001B[0m\u001B[0mthis\u001B[0m\u001B[0;34m,\u001B[0m \u001B[0mkwargs\u001B[0m\u001B[0;34m)\u001B[0m\u001B[0;34m\u001B[0m\u001B[0;34m\u001B[0m\u001B[0m\n\u001B[0m\u001B[1;32m    274\u001B[0m \u001B[0;34m\u001B[0m\u001B[0m\n\u001B[1;32m    275\u001B[0m     \u001B[0;32mdef\u001B[0m \u001B[0mget_next_color\u001B[0m\u001B[0;34m(\u001B[0m\u001B[0mself\u001B[0m\u001B[0;34m)\u001B[0m\u001B[0;34m:\u001B[0m\u001B[0;34m\u001B[0m\u001B[0;34m\u001B[0m\u001B[0m\n",
      "\u001B[0;32m~/opt/anaconda3/envs/transformers_env/lib/python3.8/site-packages/matplotlib/axes/_base.py\u001B[0m in \u001B[0;36m_plot_args\u001B[0;34m(self, tup, kwargs)\u001B[0m\n\u001B[1;32m    386\u001B[0m \u001B[0;34m\u001B[0m\u001B[0m\n\u001B[1;32m    387\u001B[0m         \u001B[0;32mif\u001B[0m \u001B[0mlen\u001B[0m\u001B[0;34m(\u001B[0m\u001B[0mtup\u001B[0m\u001B[0;34m)\u001B[0m \u001B[0;34m==\u001B[0m \u001B[0;36m2\u001B[0m\u001B[0;34m:\u001B[0m\u001B[0;34m\u001B[0m\u001B[0;34m\u001B[0m\u001B[0m\n\u001B[0;32m--> 388\u001B[0;31m             \u001B[0mx\u001B[0m \u001B[0;34m=\u001B[0m \u001B[0m_check_1d\u001B[0m\u001B[0;34m(\u001B[0m\u001B[0mtup\u001B[0m\u001B[0;34m[\u001B[0m\u001B[0;36m0\u001B[0m\u001B[0;34m]\u001B[0m\u001B[0;34m)\u001B[0m\u001B[0;34m\u001B[0m\u001B[0;34m\u001B[0m\u001B[0m\n\u001B[0m\u001B[1;32m    389\u001B[0m             \u001B[0my\u001B[0m \u001B[0;34m=\u001B[0m \u001B[0m_check_1d\u001B[0m\u001B[0;34m(\u001B[0m\u001B[0mtup\u001B[0m\u001B[0;34m[\u001B[0m\u001B[0;34m-\u001B[0m\u001B[0;36m1\u001B[0m\u001B[0;34m]\u001B[0m\u001B[0;34m)\u001B[0m\u001B[0;34m\u001B[0m\u001B[0;34m\u001B[0m\u001B[0m\n\u001B[1;32m    390\u001B[0m         \u001B[0;32melse\u001B[0m\u001B[0;34m:\u001B[0m\u001B[0;34m\u001B[0m\u001B[0;34m\u001B[0m\u001B[0m\n",
      "\u001B[0;32m~/opt/anaconda3/envs/transformers_env/lib/python3.8/site-packages/matplotlib/cbook/__init__.py\u001B[0m in \u001B[0;36m_check_1d\u001B[0;34m(x)\u001B[0m\n\u001B[1;32m   1316\u001B[0m                     message='Support for multi-dimensional indexing')\n\u001B[1;32m   1317\u001B[0m \u001B[0;34m\u001B[0m\u001B[0m\n\u001B[0;32m-> 1318\u001B[0;31m                 \u001B[0mndim\u001B[0m \u001B[0;34m=\u001B[0m \u001B[0mx\u001B[0m\u001B[0;34m[\u001B[0m\u001B[0;34m:\u001B[0m\u001B[0;34m,\u001B[0m \u001B[0;32mNone\u001B[0m\u001B[0;34m]\u001B[0m\u001B[0;34m.\u001B[0m\u001B[0mndim\u001B[0m\u001B[0;34m\u001B[0m\u001B[0;34m\u001B[0m\u001B[0m\n\u001B[0m\u001B[1;32m   1319\u001B[0m                 \u001B[0;31m# we have definitely hit a pandas index or series object\u001B[0m\u001B[0;34m\u001B[0m\u001B[0;34m\u001B[0m\u001B[0;34m\u001B[0m\u001B[0m\n\u001B[1;32m   1320\u001B[0m                 \u001B[0;31m# cast to a numpy array.\u001B[0m\u001B[0;34m\u001B[0m\u001B[0;34m\u001B[0m\u001B[0;34m\u001B[0m\u001B[0m\n",
      "\u001B[0;32m~/opt/anaconda3/envs/transformers_env/lib/python3.8/site-packages/pandas/core/indexes/base.py\u001B[0m in \u001B[0;36m__getitem__\u001B[0;34m(self, key)\u001B[0m\n\u001B[1;32m   5196\u001B[0m         \u001B[0;31m# Because we ruled out integer above, we always get an arraylike here\u001B[0m\u001B[0;34m\u001B[0m\u001B[0;34m\u001B[0m\u001B[0;34m\u001B[0m\u001B[0m\n\u001B[1;32m   5197\u001B[0m         \u001B[0;32mif\u001B[0m \u001B[0mresult\u001B[0m\u001B[0;34m.\u001B[0m\u001B[0mndim\u001B[0m \u001B[0;34m>\u001B[0m \u001B[0;36m1\u001B[0m\u001B[0;34m:\u001B[0m\u001B[0;34m\u001B[0m\u001B[0;34m\u001B[0m\u001B[0m\n\u001B[0;32m-> 5198\u001B[0;31m             \u001B[0mdisallow_ndim_indexing\u001B[0m\u001B[0;34m(\u001B[0m\u001B[0mresult\u001B[0m\u001B[0;34m)\u001B[0m\u001B[0;34m\u001B[0m\u001B[0;34m\u001B[0m\u001B[0m\n\u001B[0m\u001B[1;32m   5199\u001B[0m \u001B[0;34m\u001B[0m\u001B[0m\n\u001B[1;32m   5200\u001B[0m         \u001B[0;31m# NB: Using _constructor._simple_new would break if MultiIndex\u001B[0m\u001B[0;34m\u001B[0m\u001B[0;34m\u001B[0m\u001B[0;34m\u001B[0m\u001B[0m\n",
      "\u001B[0;32m~/opt/anaconda3/envs/transformers_env/lib/python3.8/site-packages/pandas/core/indexers/utils.py\u001B[0m in \u001B[0;36mdisallow_ndim_indexing\u001B[0;34m(result)\u001B[0m\n\u001B[1;32m    341\u001B[0m     \"\"\"\n\u001B[1;32m    342\u001B[0m     \u001B[0;32mif\u001B[0m \u001B[0mnp\u001B[0m\u001B[0;34m.\u001B[0m\u001B[0mndim\u001B[0m\u001B[0;34m(\u001B[0m\u001B[0mresult\u001B[0m\u001B[0;34m)\u001B[0m \u001B[0;34m>\u001B[0m \u001B[0;36m1\u001B[0m\u001B[0;34m:\u001B[0m\u001B[0;34m\u001B[0m\u001B[0;34m\u001B[0m\u001B[0m\n\u001B[0;32m--> 343\u001B[0;31m         raise ValueError(\n\u001B[0m\u001B[1;32m    344\u001B[0m             \u001B[0;34m\"Multi-dimensional indexing (e.g. `obj[:, None]`) is no longer \"\u001B[0m\u001B[0;34m\u001B[0m\u001B[0;34m\u001B[0m\u001B[0m\n\u001B[1;32m    345\u001B[0m             \u001B[0;34m\"supported. Convert to a numpy array before indexing instead.\"\u001B[0m\u001B[0;34m\u001B[0m\u001B[0;34m\u001B[0m\u001B[0m\n",
      "\u001B[0;31mValueError\u001B[0m: Multi-dimensional indexing (e.g. `obj[:, None]`) is no longer supported. Convert to a numpy array before indexing instead."
     ]
    },
    {
     "data": {
      "text/plain": "<Figure size 432x288 with 1 Axes>",
      "image/png": "[encoded data removed]"
     },
     "metadata": {},
     "output_type": "display_data"
    }
   ],
   "source": [
    "#| code-fold: true\n",
    "sns.kdeplot(y_train, label = \"Training set\")\n",
    "sns.kdeplot(y_test, label = \"Testing set\")\n",
    "\n",
    "plt.title(\"Comparison of Car Prices Between Sets\")\n",
    "plt.xlabel(\"Price (USD)\")\n",
    "plt.ylabel(\"Probability Density\")\n",
    "plt.legend()\n",
    "plt.show()"
   ]
  },
  {
   "attachments": {},
   "cell_type": "markdown",
   "id": "01c1d490",
   "metadata": {},
   "source": [
    "The KDE plots both seem to follow the same shape and have the same center. This shows that the training and testing sets have roughly the same distribution of car prices. Thus, these were stratified correctly."
   ]
  },
  {
   "attachments": {},
   "cell_type": "markdown",
   "id": "cbae7a24",
   "metadata": {},
   "source": [
    "## Hyperparameter Optimization\n",
    "\n",
    "The fourth technique is hyperparameter optimization. This involves training the KNN model using different hyperparameter values to see which one performs the best.\n",
    "\n",
    "A hyperparameter is a value that influences the behavior of a model and has no relation to the data. In the case of KNN, one important hyperparameter is the $k$ value, or the number of neighbors used to make a prediction. If $k = 5$, we take the mean price of the top five most similar cars and call this our prediction. However, if $k = 10$, we take the top ten cars, so the mean price may be different.\n",
    "\n",
    "We can optimize $k$ in this way:\n",
    "\n",
    "- Decide values of $k$ to test.\n",
    "- For each $k$ value, fit and evaluate a KNN model.\n",
    "- Identify the best-performing model and use its $k$ value in the final model.\n",
    "\n",
    "In order to evaluate a model, we need an evaluation metric. In our case, we will use the Root Mean Squared Error or RMSE. This is calculated with the following equation:\n",
    "\n",
    "$RMSE = \\sqrt{\\frac{1}{n} \\sum_{i=1}^n (\\text{actual}_i - \\text{predicted}_i)^2}$\n",
    "\n",
    "- $n$ is the sample size.\n",
    "- $\\text{actual}$ is the actual target value, or in this case, the actual price of a car.\n",
    "- $\\text{predicted}$ is the predicted target value.\n",
    "\n",
    "RMSE can be interpreted as the average error of a regression model. For example, if $RMSE = 1000$, this means that the model's predicted car prices are USD 1000 away from the actual car prices, on average.\n",
    "\n",
    "Below is an example of hyperparameter optimization using RMSE. All of the numeric features were used for this example."
   ]
  },
  {
   "cell_type": "code",
   "execution_count": 15,
   "id": "17eb9cee",
   "metadata": {
    "ExecuteTime": {
     "end_time": "2023-11-01T10:06:39.189158Z",
     "start_time": "2023-11-01T10:06:39.078279Z"
    }
   },
   "outputs": [
    {
     "name": "stdout",
     "output_type": "stream",
     "text": [
      "k value and RMSE\n"
     ]
    },
    {
     "data": {
      "text/plain": "1    4086.029491\n3    3146.025226\n5    3251.392477\ndtype: float64"
     },
     "execution_count": 15,
     "metadata": {},
     "output_type": "execute_result"
    }
   ],
   "source": [
    "#| code-fold: true\n",
    "\n",
    "k_values = [1, 3, 5]\n",
    "\n",
    "k_rmse = pd.Series(dtype = \"float64\")\n",
    "\n",
    "for k in k_values:\n",
    "    knn = KNeighborsRegressor(\n",
    "        n_neighbors = k,\n",
    "        algorithm = \"auto\",\n",
    "    )\n",
    "\n",
    "    knn.fit(X_train, y_train)\n",
    "\n",
    "    y_pred = knn.predict(X_test)\n",
    "\n",
    "    rmse = np.sqrt(mean_squared_error(y_test, y_pred))\n",
    "\n",
    "    k_rmse.loc[k] = rmse\n",
    "\n",
    "print(\"k value and RMSE\")\n",
    "k_rmse"
   ]
  },
  {
   "attachments": {},
   "cell_type": "markdown",
   "id": "f407a62f",
   "metadata": {},
   "source": [
    "The table above shows that RMSE was lowest for $k = 3$. The RMSE was about USD 3146, which means that on average, the predicted prices are USD 3146 away from the actual prices."
   ]
  },
  {
   "attachments": {},
   "cell_type": "markdown",
   "id": "3d50e201",
   "metadata": {},
   "source": [
    "## K-Fold Cross-Validation"
   ]
  },
  {
   "attachments": {},
   "cell_type": "markdown",
   "id": "d4375cf4",
   "metadata": {},
   "source": [
    "The last technique that will be discussed is K-Fold Cross-Validation. Earlier, we split the data into one training set and one testing set. The K-Fold Cross-Validation allows us to obtain a more holistic view of model performance by rotating the observations used in the two sets. In the words of Brownlee (2018), it estimates \"how the model is expected to perform in general when used to make predictions on data not used during the training of the model.\"\n",
    "\n",
    "Here, $k$ has a different meaning. It determines the number of splits to make in a dataset. For example, if $k = 5$, the dataset will be split into 5 folds, each set containing 20% of the total data.\n",
    "\n",
    "In summary, the following steps are performed:\n",
    "\n",
    "- Split the data into 5 folds: A, B, C, D, E.\n",
    "- Use fold A as the testing set and use the others as the training set.\n",
    "- Fit and evaluate a KNN model, thus obtaining RMSE.\n",
    "- Repeat the above process for a total of 5 times, so that each fold is used as a testing set once.\n",
    "- Compile a list of the five RMSE values obtained.\n",
    "- Compute the mean RMSE value. This is the final metric of model performance.\n",
    "\n",
    "K-Fold Cross-Validation can be implemented using scikit-learn's `KFold` and `cross_val_score` . An example of 5-fold cross-validation is shown below."
   ]
  },
  {
   "cell_type": "code",
   "execution_count": 16,
   "id": "202d0033",
   "metadata": {
    "ExecuteTime": {
     "end_time": "2023-11-01T10:06:39.282331Z",
     "start_time": "2023-11-01T10:06:39.090725Z"
    }
   },
   "outputs": [
    {
     "name": "stdout",
     "output_type": "stream",
     "text": [
      "Regular 5-fold cross-validation\n",
      "Mean RMSE: 3718.68\n",
      "Standard Deviation RMSE: 564.25\n",
      "RMSE Values: [3407.8275635020186, 3884.134530665447, 3009.7340988268425, 4521.314079941105, 3770.3892479494248]\n"
     ]
    }
   ],
   "source": [
    "#| code-fold: true\n",
    "\n",
    "knn = KNeighborsRegressor(\n",
    "    n_neighbors = 5,\n",
    "    algorithm = \"auto\",\n",
    ")\n",
    "\n",
    "kf = KFold(5, shuffle = True, random_state = 1)\n",
    "\n",
    "mses = cross_val_score(\n",
    "    estimator = knn,\n",
    "    X = cars_df[all_numeric_features],\n",
    "    y = cars_df[\"price\"],\n",
    "    scoring = \"neg_mean_squared_error\",\n",
    "    cv = kf,\n",
    ")\n",
    "\n",
    "mses = pd.Series(mses)\n",
    "\n",
    "rmses = mses.abs().pow(1/2)\n",
    "\n",
    "mean_rmse = rmses.mean()\n",
    "\n",
    "sd_rmse = rmses.std(ddof = 1)\n",
    "\n",
    "print(f\"\"\"Regular 5-fold cross-validation\n",
    "Mean RMSE: {mean_rmse:.2f}\n",
    "Standard Deviation RMSE: {sd_rmse:.2f}\n",
    "RMSE Values: {rmses.to_list()}\"\"\")"
   ]
  },
  {
   "attachments": {},
   "cell_type": "markdown",
   "id": "56e116b7",
   "metadata": {},
   "source": [
    "The mean RMSE above presents a better picture of the model's performance because it takes into account different possible combinations of training and testing sets.\n",
    "\n",
    "Note, however, that the standard deviation of the RMSE was around 566. This means that the RMSE values varied by several hundreds of dollars from model to model during the cross-validation. In simpler terms, the model performance was inconsistent. It performed much better when trained on some folds than when it was trained on other folds.\n",
    "\n",
    "Thus, we can take k-fold cross-validation a step further by stratifying the folds so that they will have similar price distributions. This will ensure that each fold is representative of the full sample. Thus, I have written a custom function in the code cell below to do this."
   ]
  },
  {
   "cell_type": "code",
   "execution_count": 17,
   "id": "83f23d8b",
   "metadata": {
    "ExecuteTime": {
     "end_time": "2023-11-01T10:06:39.308505Z",
     "start_time": "2023-11-01T10:06:39.109373Z"
    }
   },
   "outputs": [
    {
     "name": "stdout",
     "output_type": "stream",
     "text": [
      "Stratified 5-fold cross-validation\n",
      "Mean RMSE: 3369.44\n",
      "Standard Deviation RMSE: 387.33\n",
      "RMSE Values: [3193.0727214096655, 2883.515369146238, 3844.6421242541865, 3674.5947449327227, 3251.39247707809]\n"
     ]
    }
   ],
   "source": [
    "#| code-fold: true\n",
    "def stratified_kfcv(X, y, fold_series, regression_model):\n",
    "    \"\"\"Conduct k-fold cross-validation on a stratified dataset.\"\"\"\n",
    "\n",
    "    fold_nums = fold_series.unique()\n",
    "\n",
    "    mse_lst = []\n",
    "\n",
    "    for f in fold_nums:\n",
    "        X_train, X_test, y_train, y_test = split_folds(\n",
    "            X = X,\n",
    "            y = y,\n",
    "            test_fold = f,\n",
    "            fold_series = fold_series,\n",
    "        )\n",
    "        \n",
    "        regression_model.fit(X_train, y_train)\n",
    "        y_pred = regression_model.predict(X_test)\n",
    "\n",
    "        mse = mean_squared_error(y_test, y_pred)\n",
    "        mse_lst.append(mse)\n",
    "\n",
    "    return mse_lst\n",
    "\n",
    "knn = KNeighborsRegressor(\n",
    "    n_neighbors = 5,\n",
    "    algorithm = \"auto\",\n",
    ")\n",
    "\n",
    "mse_lst = stratified_kfcv(\n",
    "    X = cars_df[all_numeric_features],\n",
    "    y = cars_df[\"price\"],\n",
    "    fold_series = folds,\n",
    "    regression_model = knn,\n",
    ")\n",
    "\n",
    "mse_series = pd.Series(mse_lst)\n",
    "\n",
    "rmse_series = mse_series.pow(1/2)\n",
    "\n",
    "mean_rmse = rmse_series.mean()\n",
    "sd_rmse = rmse_series.std(ddof = 1)\n",
    "\n",
    "print(f\"\"\"Stratified 5-fold cross-validation\n",
    "Mean RMSE: {mean_rmse:.2f}\n",
    "Standard Deviation RMSE: {sd_rmse:.2f}\n",
    "RMSE Values: {rmse_series.to_list()}\"\"\")"
   ]
  },
  {
   "attachments": {},
   "cell_type": "markdown",
   "id": "0eeffca6",
   "metadata": {},
   "source": [
    "The mean RMSE from stratified CV was USD 3369. This is about USD 400 lower than the result of the regular CV, USD 3722.\n",
    "\n",
    "Furthermore, the SD RMSE is equal to 387, which is lower than the previous value of 566. Therefore, the five models trained during cross-validation performed more similarly to each other.\n",
    "\n",
    "Thus, we can see that stratifying observations before k-fold cross-validation can be more effective at approximating the true performance of the model compared to regular k-fold cross-validation."
   ]
  },
  {
   "attachments": {},
   "cell_type": "markdown",
   "id": "445e74b8",
   "metadata": {},
   "source": [
    "# Combining Techniques\n",
    "\n",
    "In this part, we will combine all of the discussed techniques to optimize the KNN model.\n",
    "\n",
    "The steps are as follows:\n",
    "\n",
    "- Use the standardized features that were calculated earlier.\n",
    "- For each number `n_features` from 1 to 10:\n",
    "    - Perform univariate feature selection using the F-statistic.\n",
    "    - Identify the best `n_features` features.\n",
    "    - For each number `k` from 1 to 20:\n",
    "        - Evaluate the model using stratified 5-fold cross-validation.\n",
    "        - For each fold, train a `k` nearest neighbors model using the best features.\n",
    "        - Obtain the mean RMSE value.\n",
    "- Compile a list of all mean RMSE values obtained.\n",
    "- Identify the model with the lowest mean RMSE. This is the final model.\n",
    "\n",
    "This is implemented in the code below."
   ]
  },
  {
   "cell_type": "code",
   "execution_count": 19,
   "id": "0c87666e",
   "metadata": {
    "ExecuteTime": {
     "end_time": "2023-11-01T10:07:24.301863Z",
     "start_time": "2023-11-01T10:07:22.770326Z"
    }
   },
   "outputs": [],
   "source": [
    "#| code-fold: true\n",
    "n_feature_list = list(range(1, 11))\n",
    "\n",
    "result_lst = []\n",
    "\n",
    "for n_features in n_feature_list:\n",
    "    \n",
    "    # Univariate feature selection\n",
    "    skb = SelectKBest(\n",
    "        score_func = f_regression,\n",
    "        k = n_features,\n",
    "    )\n",
    "\n",
    "    X = cars_df[all_numeric_features]\n",
    "    y = cars_df[\"price\"]\n",
    "\n",
    "    # Fit the SelectKBest object to your data\n",
    "    skb.fit(X, y)\n",
    "    \n",
    "    # Get the scores of each feature\n",
    "    scores = skb.scores_\n",
    "    \n",
    "    # Sort the scores in descending order\n",
    "    sorted_indices = np.argsort(scores)[::-1]\n",
    "    \n",
    "    # Get the indices of the top 3 features\n",
    "    top_indices = sorted_indices[:3]\n",
    "    \n",
    "    # Get the names of the top 3 features\n",
    "    best_features = X.columns[top_indices].tolist()\n",
    "\n",
    "    k_values = list(range(1, 21))\n",
    "\n",
    "    for k in k_values:\n",
    "\n",
    "        # stratified 5-fold cross validation\n",
    "\n",
    "        knn = KNeighborsRegressor(\n",
    "            # Use a different k value each time\n",
    "            n_neighbors = k,\n",
    "            algorithm = \"auto\",\n",
    "        )\n",
    "\n",
    "        mse_lst = stratified_kfcv(\n",
    "            X = cars_df[best_features],\n",
    "            y = cars_df[\"price\"],\n",
    "            fold_series = folds,\n",
    "            regression_model = knn,\n",
    "        )\n",
    "\n",
    "        mse_series = pd.Series(mse_lst)\n",
    "\n",
    "        rmse_series = mse_series.pow(1/2)\n",
    "\n",
    "        mean_rmse = rmse_series.mean()\n",
    "        sd_rmse = rmse_series.std(ddof = 1)\n",
    "\n",
    "        new_row = (n_features, best_features, k, mean_rmse, sd_rmse)\n",
    "        result_lst.append(new_row)\n",
    "\n",
    "result_df = pd.DataFrame(result_lst)\n",
    "result_df.columns = [\"Number of Features\", \"Best Features\", \"k Neighbors\", \"Mean RMSE\", \"SD RMSE\"]\n",
    "\n",
    "result_df = (\n",
    "    result_df\n",
    "    .sort_values([\"Mean RMSE\", \"SD RMSE\"], ascending = True)\n",
    "    .reset_index(drop = True)\n",
    ")"
   ]
  },
  {
   "attachments": {},
   "cell_type": "markdown",
   "id": "42edabe7",
   "metadata": {},
   "source": [
    "Before we discuss the top-performing models, let us look at the general trends in the results using some graphs."
   ]
  },
  {
   "cell_type": "code",
   "execution_count": 20,
   "id": "70cc5f8e",
   "metadata": {
    "ExecuteTime": {
     "end_time": "2023-11-01T10:07:31.094122Z",
     "start_time": "2023-11-01T10:07:30.997234Z"
    }
   },
   "outputs": [
    {
     "ename": "ValueError",
     "evalue": "Multi-dimensional indexing (e.g. `obj[:, None]`) is no longer supported. Convert to a numpy array before indexing instead.",
     "output_type": "error",
     "traceback": [
      "\u001B[0;31m---------------------------------------------------------------------------\u001B[0m",
      "\u001B[0;31mValueError\u001B[0m                                Traceback (most recent call last)",
      "\u001B[0;32m<ipython-input-20-a00b2a9c24be>\u001B[0m in \u001B[0;36m<module>\u001B[0;34m\u001B[0m\n\u001B[1;32m      1\u001B[0m \u001B[0;31m#| code-fold: true\u001B[0m\u001B[0;34m\u001B[0m\u001B[0;34m\u001B[0m\u001B[0;34m\u001B[0m\u001B[0m\n\u001B[0;32m----> 2\u001B[0;31m sns.lineplot(\n\u001B[0m\u001B[1;32m      3\u001B[0m     \u001B[0mdata\u001B[0m \u001B[0;34m=\u001B[0m \u001B[0mresult_df\u001B[0m\u001B[0;34m,\u001B[0m\u001B[0;34m\u001B[0m\u001B[0;34m\u001B[0m\u001B[0m\n\u001B[1;32m      4\u001B[0m     \u001B[0mx\u001B[0m \u001B[0;34m=\u001B[0m \u001B[0;34m\"k Neighbors\"\u001B[0m\u001B[0;34m,\u001B[0m\u001B[0;34m\u001B[0m\u001B[0;34m\u001B[0m\u001B[0m\n\u001B[1;32m      5\u001B[0m     \u001B[0my\u001B[0m \u001B[0;34m=\u001B[0m \u001B[0;34m\"Mean RMSE\"\u001B[0m\u001B[0;34m,\u001B[0m\u001B[0;34m\u001B[0m\u001B[0;34m\u001B[0m\u001B[0m\n",
      "\u001B[0;32m~/opt/anaconda3/envs/transformers_env/lib/python3.8/site-packages/seaborn/relational.py\u001B[0m in \u001B[0;36mlineplot\u001B[0;34m(data, x, y, hue, size, style, units, palette, hue_order, hue_norm, sizes, size_order, size_norm, dashes, markers, style_order, estimator, errorbar, n_boot, seed, orient, sort, err_style, err_kws, legend, ci, ax, **kwargs)\u001B[0m\n\u001B[1;32m    643\u001B[0m     \u001B[0mkwargs\u001B[0m\u001B[0;34m[\u001B[0m\u001B[0;34m\"color\"\u001B[0m\u001B[0;34m]\u001B[0m \u001B[0;34m=\u001B[0m \u001B[0m_default_color\u001B[0m\u001B[0;34m(\u001B[0m\u001B[0max\u001B[0m\u001B[0;34m.\u001B[0m\u001B[0mplot\u001B[0m\u001B[0;34m,\u001B[0m \u001B[0mhue\u001B[0m\u001B[0;34m,\u001B[0m \u001B[0mcolor\u001B[0m\u001B[0;34m,\u001B[0m \u001B[0mkwargs\u001B[0m\u001B[0;34m)\u001B[0m\u001B[0;34m\u001B[0m\u001B[0;34m\u001B[0m\u001B[0m\n\u001B[1;32m    644\u001B[0m \u001B[0;34m\u001B[0m\u001B[0m\n\u001B[0;32m--> 645\u001B[0;31m     \u001B[0mp\u001B[0m\u001B[0;34m.\u001B[0m\u001B[0mplot\u001B[0m\u001B[0;34m(\u001B[0m\u001B[0max\u001B[0m\u001B[0;34m,\u001B[0m \u001B[0mkwargs\u001B[0m\u001B[0;34m)\u001B[0m\u001B[0;34m\u001B[0m\u001B[0;34m\u001B[0m\u001B[0m\n\u001B[0m\u001B[1;32m    646\u001B[0m     \u001B[0;32mreturn\u001B[0m \u001B[0max\u001B[0m\u001B[0;34m\u001B[0m\u001B[0;34m\u001B[0m\u001B[0m\n\u001B[1;32m    647\u001B[0m \u001B[0;34m\u001B[0m\u001B[0m\n",
      "\u001B[0;32m~/opt/anaconda3/envs/transformers_env/lib/python3.8/site-packages/seaborn/relational.py\u001B[0m in \u001B[0;36mplot\u001B[0;34m(self, ax, kws)\u001B[0m\n\u001B[1;32m    457\u001B[0m                     \u001B[0mlines\u001B[0m\u001B[0;34m.\u001B[0m\u001B[0mextend\u001B[0m\u001B[0;34m(\u001B[0m\u001B[0max\u001B[0m\u001B[0;34m.\u001B[0m\u001B[0mplot\u001B[0m\u001B[0;34m(\u001B[0m\u001B[0munit_data\u001B[0m\u001B[0;34m[\u001B[0m\u001B[0;34m\"x\"\u001B[0m\u001B[0;34m]\u001B[0m\u001B[0;34m,\u001B[0m \u001B[0munit_data\u001B[0m\u001B[0;34m[\u001B[0m\u001B[0;34m\"y\"\u001B[0m\u001B[0;34m]\u001B[0m\u001B[0;34m,\u001B[0m \u001B[0;34m**\u001B[0m\u001B[0mkws\u001B[0m\u001B[0;34m)\u001B[0m\u001B[0;34m)\u001B[0m\u001B[0;34m\u001B[0m\u001B[0;34m\u001B[0m\u001B[0m\n\u001B[1;32m    458\u001B[0m             \u001B[0;32melse\u001B[0m\u001B[0;34m:\u001B[0m\u001B[0;34m\u001B[0m\u001B[0;34m\u001B[0m\u001B[0m\n\u001B[0;32m--> 459\u001B[0;31m                 \u001B[0mlines\u001B[0m \u001B[0;34m=\u001B[0m \u001B[0max\u001B[0m\u001B[0;34m.\u001B[0m\u001B[0mplot\u001B[0m\u001B[0;34m(\u001B[0m\u001B[0msub_data\u001B[0m\u001B[0;34m[\u001B[0m\u001B[0;34m\"x\"\u001B[0m\u001B[0;34m]\u001B[0m\u001B[0;34m,\u001B[0m \u001B[0msub_data\u001B[0m\u001B[0;34m[\u001B[0m\u001B[0;34m\"y\"\u001B[0m\u001B[0;34m]\u001B[0m\u001B[0;34m,\u001B[0m \u001B[0;34m**\u001B[0m\u001B[0mkws\u001B[0m\u001B[0;34m)\u001B[0m\u001B[0;34m\u001B[0m\u001B[0;34m\u001B[0m\u001B[0m\n\u001B[0m\u001B[1;32m    460\u001B[0m \u001B[0;34m\u001B[0m\u001B[0m\n\u001B[1;32m    461\u001B[0m             \u001B[0;32mfor\u001B[0m \u001B[0mline\u001B[0m \u001B[0;32min\u001B[0m \u001B[0mlines\u001B[0m\u001B[0;34m:\u001B[0m\u001B[0;34m\u001B[0m\u001B[0;34m\u001B[0m\u001B[0m\n",
      "\u001B[0;32m~/opt/anaconda3/envs/transformers_env/lib/python3.8/site-packages/matplotlib/axes/_axes.py\u001B[0m in \u001B[0;36mplot\u001B[0;34m(self, scalex, scaley, data, *args, **kwargs)\u001B[0m\n\u001B[1;32m   1741\u001B[0m         \"\"\"\n\u001B[1;32m   1742\u001B[0m         \u001B[0mkwargs\u001B[0m \u001B[0;34m=\u001B[0m \u001B[0mcbook\u001B[0m\u001B[0;34m.\u001B[0m\u001B[0mnormalize_kwargs\u001B[0m\u001B[0;34m(\u001B[0m\u001B[0mkwargs\u001B[0m\u001B[0;34m,\u001B[0m \u001B[0mmlines\u001B[0m\u001B[0;34m.\u001B[0m\u001B[0mLine2D\u001B[0m\u001B[0;34m)\u001B[0m\u001B[0;34m\u001B[0m\u001B[0;34m\u001B[0m\u001B[0m\n\u001B[0;32m-> 1743\u001B[0;31m         \u001B[0mlines\u001B[0m \u001B[0;34m=\u001B[0m \u001B[0;34m[\u001B[0m\u001B[0;34m*\u001B[0m\u001B[0mself\u001B[0m\u001B[0;34m.\u001B[0m\u001B[0m_get_lines\u001B[0m\u001B[0;34m(\u001B[0m\u001B[0;34m*\u001B[0m\u001B[0margs\u001B[0m\u001B[0;34m,\u001B[0m \u001B[0mdata\u001B[0m\u001B[0;34m=\u001B[0m\u001B[0mdata\u001B[0m\u001B[0;34m,\u001B[0m \u001B[0;34m**\u001B[0m\u001B[0mkwargs\u001B[0m\u001B[0;34m)\u001B[0m\u001B[0;34m]\u001B[0m\u001B[0;34m\u001B[0m\u001B[0;34m\u001B[0m\u001B[0m\n\u001B[0m\u001B[1;32m   1744\u001B[0m         \u001B[0;32mfor\u001B[0m \u001B[0mline\u001B[0m \u001B[0;32min\u001B[0m \u001B[0mlines\u001B[0m\u001B[0;34m:\u001B[0m\u001B[0;34m\u001B[0m\u001B[0;34m\u001B[0m\u001B[0m\n\u001B[1;32m   1745\u001B[0m             \u001B[0mself\u001B[0m\u001B[0;34m.\u001B[0m\u001B[0madd_line\u001B[0m\u001B[0;34m(\u001B[0m\u001B[0mline\u001B[0m\u001B[0;34m)\u001B[0m\u001B[0;34m\u001B[0m\u001B[0;34m\u001B[0m\u001B[0m\n",
      "\u001B[0;32m~/opt/anaconda3/envs/transformers_env/lib/python3.8/site-packages/matplotlib/axes/_base.py\u001B[0m in \u001B[0;36m__call__\u001B[0;34m(self, data, *args, **kwargs)\u001B[0m\n\u001B[1;32m    271\u001B[0m                 \u001B[0mthis\u001B[0m \u001B[0;34m+=\u001B[0m \u001B[0margs\u001B[0m\u001B[0;34m[\u001B[0m\u001B[0;36m0\u001B[0m\u001B[0;34m]\u001B[0m\u001B[0;34m,\u001B[0m\u001B[0;34m\u001B[0m\u001B[0;34m\u001B[0m\u001B[0m\n\u001B[1;32m    272\u001B[0m                 \u001B[0margs\u001B[0m \u001B[0;34m=\u001B[0m \u001B[0margs\u001B[0m\u001B[0;34m[\u001B[0m\u001B[0;36m1\u001B[0m\u001B[0;34m:\u001B[0m\u001B[0;34m]\u001B[0m\u001B[0;34m\u001B[0m\u001B[0;34m\u001B[0m\u001B[0m\n\u001B[0;32m--> 273\u001B[0;31m             \u001B[0;32myield\u001B[0m \u001B[0;32mfrom\u001B[0m \u001B[0mself\u001B[0m\u001B[0;34m.\u001B[0m\u001B[0m_plot_args\u001B[0m\u001B[0;34m(\u001B[0m\u001B[0mthis\u001B[0m\u001B[0;34m,\u001B[0m \u001B[0mkwargs\u001B[0m\u001B[0;34m)\u001B[0m\u001B[0;34m\u001B[0m\u001B[0;34m\u001B[0m\u001B[0m\n\u001B[0m\u001B[1;32m    274\u001B[0m \u001B[0;34m\u001B[0m\u001B[0m\n\u001B[1;32m    275\u001B[0m     \u001B[0;32mdef\u001B[0m \u001B[0mget_next_color\u001B[0m\u001B[0;34m(\u001B[0m\u001B[0mself\u001B[0m\u001B[0;34m)\u001B[0m\u001B[0;34m:\u001B[0m\u001B[0;34m\u001B[0m\u001B[0;34m\u001B[0m\u001B[0m\n",
      "\u001B[0;32m~/opt/anaconda3/envs/transformers_env/lib/python3.8/site-packages/matplotlib/axes/_base.py\u001B[0m in \u001B[0;36m_plot_args\u001B[0;34m(self, tup, kwargs)\u001B[0m\n\u001B[1;32m    386\u001B[0m \u001B[0;34m\u001B[0m\u001B[0m\n\u001B[1;32m    387\u001B[0m         \u001B[0;32mif\u001B[0m \u001B[0mlen\u001B[0m\u001B[0;34m(\u001B[0m\u001B[0mtup\u001B[0m\u001B[0;34m)\u001B[0m \u001B[0;34m==\u001B[0m \u001B[0;36m2\u001B[0m\u001B[0;34m:\u001B[0m\u001B[0;34m\u001B[0m\u001B[0;34m\u001B[0m\u001B[0m\n\u001B[0;32m--> 388\u001B[0;31m             \u001B[0mx\u001B[0m \u001B[0;34m=\u001B[0m \u001B[0m_check_1d\u001B[0m\u001B[0;34m(\u001B[0m\u001B[0mtup\u001B[0m\u001B[0;34m[\u001B[0m\u001B[0;36m0\u001B[0m\u001B[0;34m]\u001B[0m\u001B[0;34m)\u001B[0m\u001B[0;34m\u001B[0m\u001B[0;34m\u001B[0m\u001B[0m\n\u001B[0m\u001B[1;32m    389\u001B[0m             \u001B[0my\u001B[0m \u001B[0;34m=\u001B[0m \u001B[0m_check_1d\u001B[0m\u001B[0;34m(\u001B[0m\u001B[0mtup\u001B[0m\u001B[0;34m[\u001B[0m\u001B[0;34m-\u001B[0m\u001B[0;36m1\u001B[0m\u001B[0;34m]\u001B[0m\u001B[0;34m)\u001B[0m\u001B[0;34m\u001B[0m\u001B[0;34m\u001B[0m\u001B[0m\n\u001B[1;32m    390\u001B[0m         \u001B[0;32melse\u001B[0m\u001B[0;34m:\u001B[0m\u001B[0;34m\u001B[0m\u001B[0;34m\u001B[0m\u001B[0m\n",
      "\u001B[0;32m~/opt/anaconda3/envs/transformers_env/lib/python3.8/site-packages/matplotlib/cbook/__init__.py\u001B[0m in \u001B[0;36m_check_1d\u001B[0;34m(x)\u001B[0m\n\u001B[1;32m   1316\u001B[0m                     message='Support for multi-dimensional indexing')\n\u001B[1;32m   1317\u001B[0m \u001B[0;34m\u001B[0m\u001B[0m\n\u001B[0;32m-> 1318\u001B[0;31m                 \u001B[0mndim\u001B[0m \u001B[0;34m=\u001B[0m \u001B[0mx\u001B[0m\u001B[0;34m[\u001B[0m\u001B[0;34m:\u001B[0m\u001B[0;34m,\u001B[0m \u001B[0;32mNone\u001B[0m\u001B[0;34m]\u001B[0m\u001B[0;34m.\u001B[0m\u001B[0mndim\u001B[0m\u001B[0;34m\u001B[0m\u001B[0;34m\u001B[0m\u001B[0m\n\u001B[0m\u001B[1;32m   1319\u001B[0m                 \u001B[0;31m# we have definitely hit a pandas index or series object\u001B[0m\u001B[0;34m\u001B[0m\u001B[0;34m\u001B[0m\u001B[0;34m\u001B[0m\u001B[0m\n\u001B[1;32m   1320\u001B[0m                 \u001B[0;31m# cast to a numpy array.\u001B[0m\u001B[0;34m\u001B[0m\u001B[0;34m\u001B[0m\u001B[0;34m\u001B[0m\u001B[0m\n",
      "\u001B[0;32m~/opt/anaconda3/envs/transformers_env/lib/python3.8/site-packages/pandas/core/series.py\u001B[0m in \u001B[0;36m__getitem__\u001B[0;34m(self, key)\u001B[0m\n\u001B[1;32m   1031\u001B[0m             \u001B[0;32mreturn\u001B[0m \u001B[0mself\u001B[0m\u001B[0;34m.\u001B[0m\u001B[0m_get_values\u001B[0m\u001B[0;34m(\u001B[0m\u001B[0mkey\u001B[0m\u001B[0;34m)\u001B[0m\u001B[0;34m\u001B[0m\u001B[0;34m\u001B[0m\u001B[0m\n\u001B[1;32m   1032\u001B[0m \u001B[0;34m\u001B[0m\u001B[0m\n\u001B[0;32m-> 1033\u001B[0;31m         \u001B[0;32mreturn\u001B[0m \u001B[0mself\u001B[0m\u001B[0;34m.\u001B[0m\u001B[0m_get_with\u001B[0m\u001B[0;34m(\u001B[0m\u001B[0mkey\u001B[0m\u001B[0;34m)\u001B[0m\u001B[0;34m\u001B[0m\u001B[0;34m\u001B[0m\u001B[0m\n\u001B[0m\u001B[1;32m   1034\u001B[0m \u001B[0;34m\u001B[0m\u001B[0m\n\u001B[1;32m   1035\u001B[0m     \u001B[0;32mdef\u001B[0m \u001B[0m_get_with\u001B[0m\u001B[0;34m(\u001B[0m\u001B[0mself\u001B[0m\u001B[0;34m,\u001B[0m \u001B[0mkey\u001B[0m\u001B[0;34m)\u001B[0m\u001B[0;34m:\u001B[0m\u001B[0;34m\u001B[0m\u001B[0;34m\u001B[0m\u001B[0m\n",
      "\u001B[0;32m~/opt/anaconda3/envs/transformers_env/lib/python3.8/site-packages/pandas/core/series.py\u001B[0m in \u001B[0;36m_get_with\u001B[0;34m(self, key)\u001B[0m\n\u001B[1;32m   1046\u001B[0m             )\n\u001B[1;32m   1047\u001B[0m         \u001B[0;32melif\u001B[0m \u001B[0misinstance\u001B[0m\u001B[0;34m(\u001B[0m\u001B[0mkey\u001B[0m\u001B[0;34m,\u001B[0m \u001B[0mtuple\u001B[0m\u001B[0;34m)\u001B[0m\u001B[0;34m:\u001B[0m\u001B[0;34m\u001B[0m\u001B[0;34m\u001B[0m\u001B[0m\n\u001B[0;32m-> 1048\u001B[0;31m             \u001B[0;32mreturn\u001B[0m \u001B[0mself\u001B[0m\u001B[0;34m.\u001B[0m\u001B[0m_get_values_tuple\u001B[0m\u001B[0;34m(\u001B[0m\u001B[0mkey\u001B[0m\u001B[0;34m)\u001B[0m\u001B[0;34m\u001B[0m\u001B[0;34m\u001B[0m\u001B[0m\n\u001B[0m\u001B[1;32m   1049\u001B[0m \u001B[0;34m\u001B[0m\u001B[0m\n\u001B[1;32m   1050\u001B[0m         \u001B[0;32melif\u001B[0m \u001B[0;32mnot\u001B[0m \u001B[0mis_list_like\u001B[0m\u001B[0;34m(\u001B[0m\u001B[0mkey\u001B[0m\u001B[0;34m)\u001B[0m\u001B[0;34m:\u001B[0m\u001B[0;34m\u001B[0m\u001B[0;34m\u001B[0m\u001B[0m\n",
      "\u001B[0;32m~/opt/anaconda3/envs/transformers_env/lib/python3.8/site-packages/pandas/core/series.py\u001B[0m in \u001B[0;36m_get_values_tuple\u001B[0;34m(self, key)\u001B[0m\n\u001B[1;32m   1080\u001B[0m             \u001B[0;31m# the asarray is needed to avoid returning a 2D DatetimeArray\u001B[0m\u001B[0;34m\u001B[0m\u001B[0;34m\u001B[0m\u001B[0;34m\u001B[0m\u001B[0m\n\u001B[1;32m   1081\u001B[0m             \u001B[0mresult\u001B[0m \u001B[0;34m=\u001B[0m \u001B[0mnp\u001B[0m\u001B[0;34m.\u001B[0m\u001B[0masarray\u001B[0m\u001B[0;34m(\u001B[0m\u001B[0mself\u001B[0m\u001B[0;34m.\u001B[0m\u001B[0m_values\u001B[0m\u001B[0;34m[\u001B[0m\u001B[0mkey\u001B[0m\u001B[0;34m]\u001B[0m\u001B[0;34m)\u001B[0m\u001B[0;34m\u001B[0m\u001B[0;34m\u001B[0m\u001B[0m\n\u001B[0;32m-> 1082\u001B[0;31m             \u001B[0mdisallow_ndim_indexing\u001B[0m\u001B[0;34m(\u001B[0m\u001B[0mresult\u001B[0m\u001B[0;34m)\u001B[0m\u001B[0;34m\u001B[0m\u001B[0;34m\u001B[0m\u001B[0m\n\u001B[0m\u001B[1;32m   1083\u001B[0m             \u001B[0;32mreturn\u001B[0m \u001B[0mresult\u001B[0m\u001B[0;34m\u001B[0m\u001B[0;34m\u001B[0m\u001B[0m\n\u001B[1;32m   1084\u001B[0m \u001B[0;34m\u001B[0m\u001B[0m\n",
      "\u001B[0;32m~/opt/anaconda3/envs/transformers_env/lib/python3.8/site-packages/pandas/core/indexers/utils.py\u001B[0m in \u001B[0;36mdisallow_ndim_indexing\u001B[0;34m(result)\u001B[0m\n\u001B[1;32m    341\u001B[0m     \"\"\"\n\u001B[1;32m    342\u001B[0m     \u001B[0;32mif\u001B[0m \u001B[0mnp\u001B[0m\u001B[0;34m.\u001B[0m\u001B[0mndim\u001B[0m\u001B[0;34m(\u001B[0m\u001B[0mresult\u001B[0m\u001B[0;34m)\u001B[0m \u001B[0;34m>\u001B[0m \u001B[0;36m1\u001B[0m\u001B[0;34m:\u001B[0m\u001B[0;34m\u001B[0m\u001B[0;34m\u001B[0m\u001B[0m\n\u001B[0;32m--> 343\u001B[0;31m         raise ValueError(\n\u001B[0m\u001B[1;32m    344\u001B[0m             \u001B[0;34m\"Multi-dimensional indexing (e.g. `obj[:, None]`) is no longer \"\u001B[0m\u001B[0;34m\u001B[0m\u001B[0;34m\u001B[0m\u001B[0m\n\u001B[1;32m    345\u001B[0m             \u001B[0;34m\"supported. Convert to a numpy array before indexing instead.\"\u001B[0m\u001B[0;34m\u001B[0m\u001B[0;34m\u001B[0m\u001B[0m\n",
      "\u001B[0;31mValueError\u001B[0m: Multi-dimensional indexing (e.g. `obj[:, None]`) is no longer supported. Convert to a numpy array before indexing instead."
     ]
    },
    {
     "data": {
      "text/plain": "<Figure size 432x288 with 1 Axes>",
      "image/png": "[encoded data removed]"
     },
     "metadata": {},
     "output_type": "display_data"
    }
   ],
   "source": [
    "#| code-fold: true\n",
    "sns.lineplot(\n",
    "    data = result_df,\n",
    "    x = \"k Neighbors\",\n",
    "    y = \"Mean RMSE\",\n",
    "    hue = \"Number of Features\",\n",
    ")\n",
    "\n",
    "plt.title(\"Mean RMSE against k Neighbors\")\n",
    "plt.show()"
   ]
  },
  {
   "attachments": {},
   "cell_type": "markdown",
   "id": "eb04e5bb",
   "metadata": {},
   "source": [
    "The graph above shows that in general, no matter the number of features, the mean RMSE increased as the number of neighbors (k) increased. Therefore, it is best to have a low k value so that the model makes predictions only using a few cars that are most similar to the car being tested.\n",
    "\n",
    "Next, let us look at a graph with the same variables, except that the number of features is now on the x-axis instead of k."
   ]
  },
  {
   "cell_type": "code",
   "execution_count": 21,
   "id": "e96476bf",
   "metadata": {
    "ExecuteTime": {
     "end_time": "2023-11-01T10:07:41.185372Z",
     "start_time": "2023-11-01T10:07:41.087864Z"
    }
   },
   "outputs": [
    {
     "ename": "ValueError",
     "evalue": "Multi-dimensional indexing (e.g. `obj[:, None]`) is no longer supported. Convert to a numpy array before indexing instead.",
     "output_type": "error",
     "traceback": [
      "\u001B[0;31m---------------------------------------------------------------------------\u001B[0m",
      "\u001B[0;31mValueError\u001B[0m                                Traceback (most recent call last)",
      "\u001B[0;32m<ipython-input-21-11ca3a612342>\u001B[0m in \u001B[0;36m<module>\u001B[0;34m\u001B[0m\n\u001B[1;32m      1\u001B[0m \u001B[0;31m#| code-fold: true\u001B[0m\u001B[0;34m\u001B[0m\u001B[0;34m\u001B[0m\u001B[0;34m\u001B[0m\u001B[0m\n\u001B[0;32m----> 2\u001B[0;31m sns.lineplot(\n\u001B[0m\u001B[1;32m      3\u001B[0m     \u001B[0mdata\u001B[0m \u001B[0;34m=\u001B[0m \u001B[0mresult_df\u001B[0m\u001B[0;34m,\u001B[0m\u001B[0;34m\u001B[0m\u001B[0;34m\u001B[0m\u001B[0m\n\u001B[1;32m      4\u001B[0m     \u001B[0mx\u001B[0m \u001B[0;34m=\u001B[0m \u001B[0;34m\"Number of Features\"\u001B[0m\u001B[0;34m,\u001B[0m\u001B[0;34m\u001B[0m\u001B[0;34m\u001B[0m\u001B[0m\n\u001B[1;32m      5\u001B[0m     \u001B[0my\u001B[0m \u001B[0;34m=\u001B[0m \u001B[0;34m\"Mean RMSE\"\u001B[0m\u001B[0;34m,\u001B[0m\u001B[0;34m\u001B[0m\u001B[0;34m\u001B[0m\u001B[0m\n",
      "\u001B[0;32m~/opt/anaconda3/envs/transformers_env/lib/python3.8/site-packages/seaborn/relational.py\u001B[0m in \u001B[0;36mlineplot\u001B[0;34m(data, x, y, hue, size, style, units, palette, hue_order, hue_norm, sizes, size_order, size_norm, dashes, markers, style_order, estimator, errorbar, n_boot, seed, orient, sort, err_style, err_kws, legend, ci, ax, **kwargs)\u001B[0m\n\u001B[1;32m    643\u001B[0m     \u001B[0mkwargs\u001B[0m\u001B[0;34m[\u001B[0m\u001B[0;34m\"color\"\u001B[0m\u001B[0;34m]\u001B[0m \u001B[0;34m=\u001B[0m \u001B[0m_default_color\u001B[0m\u001B[0;34m(\u001B[0m\u001B[0max\u001B[0m\u001B[0;34m.\u001B[0m\u001B[0mplot\u001B[0m\u001B[0;34m,\u001B[0m \u001B[0mhue\u001B[0m\u001B[0;34m,\u001B[0m \u001B[0mcolor\u001B[0m\u001B[0;34m,\u001B[0m \u001B[0mkwargs\u001B[0m\u001B[0;34m)\u001B[0m\u001B[0;34m\u001B[0m\u001B[0;34m\u001B[0m\u001B[0m\n\u001B[1;32m    644\u001B[0m \u001B[0;34m\u001B[0m\u001B[0m\n\u001B[0;32m--> 645\u001B[0;31m     \u001B[0mp\u001B[0m\u001B[0;34m.\u001B[0m\u001B[0mplot\u001B[0m\u001B[0;34m(\u001B[0m\u001B[0max\u001B[0m\u001B[0;34m,\u001B[0m \u001B[0mkwargs\u001B[0m\u001B[0;34m)\u001B[0m\u001B[0;34m\u001B[0m\u001B[0;34m\u001B[0m\u001B[0m\n\u001B[0m\u001B[1;32m    646\u001B[0m     \u001B[0;32mreturn\u001B[0m \u001B[0max\u001B[0m\u001B[0;34m\u001B[0m\u001B[0;34m\u001B[0m\u001B[0m\n\u001B[1;32m    647\u001B[0m \u001B[0;34m\u001B[0m\u001B[0m\n",
      "\u001B[0;32m~/opt/anaconda3/envs/transformers_env/lib/python3.8/site-packages/seaborn/relational.py\u001B[0m in \u001B[0;36mplot\u001B[0;34m(self, ax, kws)\u001B[0m\n\u001B[1;32m    457\u001B[0m                     \u001B[0mlines\u001B[0m\u001B[0;34m.\u001B[0m\u001B[0mextend\u001B[0m\u001B[0;34m(\u001B[0m\u001B[0max\u001B[0m\u001B[0;34m.\u001B[0m\u001B[0mplot\u001B[0m\u001B[0;34m(\u001B[0m\u001B[0munit_data\u001B[0m\u001B[0;34m[\u001B[0m\u001B[0;34m\"x\"\u001B[0m\u001B[0;34m]\u001B[0m\u001B[0;34m,\u001B[0m \u001B[0munit_data\u001B[0m\u001B[0;34m[\u001B[0m\u001B[0;34m\"y\"\u001B[0m\u001B[0;34m]\u001B[0m\u001B[0;34m,\u001B[0m \u001B[0;34m**\u001B[0m\u001B[0mkws\u001B[0m\u001B[0;34m)\u001B[0m\u001B[0;34m)\u001B[0m\u001B[0;34m\u001B[0m\u001B[0;34m\u001B[0m\u001B[0m\n\u001B[1;32m    458\u001B[0m             \u001B[0;32melse\u001B[0m\u001B[0;34m:\u001B[0m\u001B[0;34m\u001B[0m\u001B[0;34m\u001B[0m\u001B[0m\n\u001B[0;32m--> 459\u001B[0;31m                 \u001B[0mlines\u001B[0m \u001B[0;34m=\u001B[0m \u001B[0max\u001B[0m\u001B[0;34m.\u001B[0m\u001B[0mplot\u001B[0m\u001B[0;34m(\u001B[0m\u001B[0msub_data\u001B[0m\u001B[0;34m[\u001B[0m\u001B[0;34m\"x\"\u001B[0m\u001B[0;34m]\u001B[0m\u001B[0;34m,\u001B[0m \u001B[0msub_data\u001B[0m\u001B[0;34m[\u001B[0m\u001B[0;34m\"y\"\u001B[0m\u001B[0;34m]\u001B[0m\u001B[0;34m,\u001B[0m \u001B[0;34m**\u001B[0m\u001B[0mkws\u001B[0m\u001B[0;34m)\u001B[0m\u001B[0;34m\u001B[0m\u001B[0;34m\u001B[0m\u001B[0m\n\u001B[0m\u001B[1;32m    460\u001B[0m \u001B[0;34m\u001B[0m\u001B[0m\n\u001B[1;32m    461\u001B[0m             \u001B[0;32mfor\u001B[0m \u001B[0mline\u001B[0m \u001B[0;32min\u001B[0m \u001B[0mlines\u001B[0m\u001B[0;34m:\u001B[0m\u001B[0;34m\u001B[0m\u001B[0;34m\u001B[0m\u001B[0m\n",
      "\u001B[0;32m~/opt/anaconda3/envs/transformers_env/lib/python3.8/site-packages/matplotlib/axes/_axes.py\u001B[0m in \u001B[0;36mplot\u001B[0;34m(self, scalex, scaley, data, *args, **kwargs)\u001B[0m\n\u001B[1;32m   1741\u001B[0m         \"\"\"\n\u001B[1;32m   1742\u001B[0m         \u001B[0mkwargs\u001B[0m \u001B[0;34m=\u001B[0m \u001B[0mcbook\u001B[0m\u001B[0;34m.\u001B[0m\u001B[0mnormalize_kwargs\u001B[0m\u001B[0;34m(\u001B[0m\u001B[0mkwargs\u001B[0m\u001B[0;34m,\u001B[0m \u001B[0mmlines\u001B[0m\u001B[0;34m.\u001B[0m\u001B[0mLine2D\u001B[0m\u001B[0;34m)\u001B[0m\u001B[0;34m\u001B[0m\u001B[0;34m\u001B[0m\u001B[0m\n\u001B[0;32m-> 1743\u001B[0;31m         \u001B[0mlines\u001B[0m \u001B[0;34m=\u001B[0m \u001B[0;34m[\u001B[0m\u001B[0;34m*\u001B[0m\u001B[0mself\u001B[0m\u001B[0;34m.\u001B[0m\u001B[0m_get_lines\u001B[0m\u001B[0;34m(\u001B[0m\u001B[0;34m*\u001B[0m\u001B[0margs\u001B[0m\u001B[0;34m,\u001B[0m \u001B[0mdata\u001B[0m\u001B[0;34m=\u001B[0m\u001B[0mdata\u001B[0m\u001B[0;34m,\u001B[0m \u001B[0;34m**\u001B[0m\u001B[0mkwargs\u001B[0m\u001B[0;34m)\u001B[0m\u001B[0;34m]\u001B[0m\u001B[0;34m\u001B[0m\u001B[0;34m\u001B[0m\u001B[0m\n\u001B[0m\u001B[1;32m   1744\u001B[0m         \u001B[0;32mfor\u001B[0m \u001B[0mline\u001B[0m \u001B[0;32min\u001B[0m \u001B[0mlines\u001B[0m\u001B[0;34m:\u001B[0m\u001B[0;34m\u001B[0m\u001B[0;34m\u001B[0m\u001B[0m\n\u001B[1;32m   1745\u001B[0m             \u001B[0mself\u001B[0m\u001B[0;34m.\u001B[0m\u001B[0madd_line\u001B[0m\u001B[0;34m(\u001B[0m\u001B[0mline\u001B[0m\u001B[0;34m)\u001B[0m\u001B[0;34m\u001B[0m\u001B[0;34m\u001B[0m\u001B[0m\n",
      "\u001B[0;32m~/opt/anaconda3/envs/transformers_env/lib/python3.8/site-packages/matplotlib/axes/_base.py\u001B[0m in \u001B[0;36m__call__\u001B[0;34m(self, data, *args, **kwargs)\u001B[0m\n\u001B[1;32m    271\u001B[0m                 \u001B[0mthis\u001B[0m \u001B[0;34m+=\u001B[0m \u001B[0margs\u001B[0m\u001B[0;34m[\u001B[0m\u001B[0;36m0\u001B[0m\u001B[0;34m]\u001B[0m\u001B[0;34m,\u001B[0m\u001B[0;34m\u001B[0m\u001B[0;34m\u001B[0m\u001B[0m\n\u001B[1;32m    272\u001B[0m                 \u001B[0margs\u001B[0m \u001B[0;34m=\u001B[0m \u001B[0margs\u001B[0m\u001B[0;34m[\u001B[0m\u001B[0;36m1\u001B[0m\u001B[0;34m:\u001B[0m\u001B[0;34m]\u001B[0m\u001B[0;34m\u001B[0m\u001B[0;34m\u001B[0m\u001B[0m\n\u001B[0;32m--> 273\u001B[0;31m             \u001B[0;32myield\u001B[0m \u001B[0;32mfrom\u001B[0m \u001B[0mself\u001B[0m\u001B[0;34m.\u001B[0m\u001B[0m_plot_args\u001B[0m\u001B[0;34m(\u001B[0m\u001B[0mthis\u001B[0m\u001B[0;34m,\u001B[0m \u001B[0mkwargs\u001B[0m\u001B[0;34m)\u001B[0m\u001B[0;34m\u001B[0m\u001B[0;34m\u001B[0m\u001B[0m\n\u001B[0m\u001B[1;32m    274\u001B[0m \u001B[0;34m\u001B[0m\u001B[0m\n\u001B[1;32m    275\u001B[0m     \u001B[0;32mdef\u001B[0m \u001B[0mget_next_color\u001B[0m\u001B[0;34m(\u001B[0m\u001B[0mself\u001B[0m\u001B[0;34m)\u001B[0m\u001B[0;34m:\u001B[0m\u001B[0;34m\u001B[0m\u001B[0;34m\u001B[0m\u001B[0m\n",
      "\u001B[0;32m~/opt/anaconda3/envs/transformers_env/lib/python3.8/site-packages/matplotlib/axes/_base.py\u001B[0m in \u001B[0;36m_plot_args\u001B[0;34m(self, tup, kwargs)\u001B[0m\n\u001B[1;32m    386\u001B[0m \u001B[0;34m\u001B[0m\u001B[0m\n\u001B[1;32m    387\u001B[0m         \u001B[0;32mif\u001B[0m \u001B[0mlen\u001B[0m\u001B[0;34m(\u001B[0m\u001B[0mtup\u001B[0m\u001B[0;34m)\u001B[0m \u001B[0;34m==\u001B[0m \u001B[0;36m2\u001B[0m\u001B[0;34m:\u001B[0m\u001B[0;34m\u001B[0m\u001B[0;34m\u001B[0m\u001B[0m\n\u001B[0;32m--> 388\u001B[0;31m             \u001B[0mx\u001B[0m \u001B[0;34m=\u001B[0m \u001B[0m_check_1d\u001B[0m\u001B[0;34m(\u001B[0m\u001B[0mtup\u001B[0m\u001B[0;34m[\u001B[0m\u001B[0;36m0\u001B[0m\u001B[0;34m]\u001B[0m\u001B[0;34m)\u001B[0m\u001B[0;34m\u001B[0m\u001B[0;34m\u001B[0m\u001B[0m\n\u001B[0m\u001B[1;32m    389\u001B[0m             \u001B[0my\u001B[0m \u001B[0;34m=\u001B[0m \u001B[0m_check_1d\u001B[0m\u001B[0;34m(\u001B[0m\u001B[0mtup\u001B[0m\u001B[0;34m[\u001B[0m\u001B[0;34m-\u001B[0m\u001B[0;36m1\u001B[0m\u001B[0;34m]\u001B[0m\u001B[0;34m)\u001B[0m\u001B[0;34m\u001B[0m\u001B[0;34m\u001B[0m\u001B[0m\n\u001B[1;32m    390\u001B[0m         \u001B[0;32melse\u001B[0m\u001B[0;34m:\u001B[0m\u001B[0;34m\u001B[0m\u001B[0;34m\u001B[0m\u001B[0m\n",
      "\u001B[0;32m~/opt/anaconda3/envs/transformers_env/lib/python3.8/site-packages/matplotlib/cbook/__init__.py\u001B[0m in \u001B[0;36m_check_1d\u001B[0;34m(x)\u001B[0m\n\u001B[1;32m   1316\u001B[0m                     message='Support for multi-dimensional indexing')\n\u001B[1;32m   1317\u001B[0m \u001B[0;34m\u001B[0m\u001B[0m\n\u001B[0;32m-> 1318\u001B[0;31m                 \u001B[0mndim\u001B[0m \u001B[0;34m=\u001B[0m \u001B[0mx\u001B[0m\u001B[0;34m[\u001B[0m\u001B[0;34m:\u001B[0m\u001B[0;34m,\u001B[0m \u001B[0;32mNone\u001B[0m\u001B[0;34m]\u001B[0m\u001B[0;34m.\u001B[0m\u001B[0mndim\u001B[0m\u001B[0;34m\u001B[0m\u001B[0;34m\u001B[0m\u001B[0m\n\u001B[0m\u001B[1;32m   1319\u001B[0m                 \u001B[0;31m# we have definitely hit a pandas index or series object\u001B[0m\u001B[0;34m\u001B[0m\u001B[0;34m\u001B[0m\u001B[0;34m\u001B[0m\u001B[0m\n\u001B[1;32m   1320\u001B[0m                 \u001B[0;31m# cast to a numpy array.\u001B[0m\u001B[0;34m\u001B[0m\u001B[0;34m\u001B[0m\u001B[0;34m\u001B[0m\u001B[0m\n",
      "\u001B[0;32m~/opt/anaconda3/envs/transformers_env/lib/python3.8/site-packages/pandas/core/series.py\u001B[0m in \u001B[0;36m__getitem__\u001B[0;34m(self, key)\u001B[0m\n\u001B[1;32m   1031\u001B[0m             \u001B[0;32mreturn\u001B[0m \u001B[0mself\u001B[0m\u001B[0;34m.\u001B[0m\u001B[0m_get_values\u001B[0m\u001B[0;34m(\u001B[0m\u001B[0mkey\u001B[0m\u001B[0;34m)\u001B[0m\u001B[0;34m\u001B[0m\u001B[0;34m\u001B[0m\u001B[0m\n\u001B[1;32m   1032\u001B[0m \u001B[0;34m\u001B[0m\u001B[0m\n\u001B[0;32m-> 1033\u001B[0;31m         \u001B[0;32mreturn\u001B[0m \u001B[0mself\u001B[0m\u001B[0;34m.\u001B[0m\u001B[0m_get_with\u001B[0m\u001B[0;34m(\u001B[0m\u001B[0mkey\u001B[0m\u001B[0;34m)\u001B[0m\u001B[0;34m\u001B[0m\u001B[0;34m\u001B[0m\u001B[0m\n\u001B[0m\u001B[1;32m   1034\u001B[0m \u001B[0;34m\u001B[0m\u001B[0m\n\u001B[1;32m   1035\u001B[0m     \u001B[0;32mdef\u001B[0m \u001B[0m_get_with\u001B[0m\u001B[0;34m(\u001B[0m\u001B[0mself\u001B[0m\u001B[0;34m,\u001B[0m \u001B[0mkey\u001B[0m\u001B[0;34m)\u001B[0m\u001B[0;34m:\u001B[0m\u001B[0;34m\u001B[0m\u001B[0;34m\u001B[0m\u001B[0m\n",
      "\u001B[0;32m~/opt/anaconda3/envs/transformers_env/lib/python3.8/site-packages/pandas/core/series.py\u001B[0m in \u001B[0;36m_get_with\u001B[0;34m(self, key)\u001B[0m\n\u001B[1;32m   1046\u001B[0m             )\n\u001B[1;32m   1047\u001B[0m         \u001B[0;32melif\u001B[0m \u001B[0misinstance\u001B[0m\u001B[0;34m(\u001B[0m\u001B[0mkey\u001B[0m\u001B[0;34m,\u001B[0m \u001B[0mtuple\u001B[0m\u001B[0;34m)\u001B[0m\u001B[0;34m:\u001B[0m\u001B[0;34m\u001B[0m\u001B[0;34m\u001B[0m\u001B[0m\n\u001B[0;32m-> 1048\u001B[0;31m             \u001B[0;32mreturn\u001B[0m \u001B[0mself\u001B[0m\u001B[0;34m.\u001B[0m\u001B[0m_get_values_tuple\u001B[0m\u001B[0;34m(\u001B[0m\u001B[0mkey\u001B[0m\u001B[0;34m)\u001B[0m\u001B[0;34m\u001B[0m\u001B[0;34m\u001B[0m\u001B[0m\n\u001B[0m\u001B[1;32m   1049\u001B[0m \u001B[0;34m\u001B[0m\u001B[0m\n\u001B[1;32m   1050\u001B[0m         \u001B[0;32melif\u001B[0m \u001B[0;32mnot\u001B[0m \u001B[0mis_list_like\u001B[0m\u001B[0;34m(\u001B[0m\u001B[0mkey\u001B[0m\u001B[0;34m)\u001B[0m\u001B[0;34m:\u001B[0m\u001B[0;34m\u001B[0m\u001B[0;34m\u001B[0m\u001B[0m\n",
      "\u001B[0;32m~/opt/anaconda3/envs/transformers_env/lib/python3.8/site-packages/pandas/core/series.py\u001B[0m in \u001B[0;36m_get_values_tuple\u001B[0;34m(self, key)\u001B[0m\n\u001B[1;32m   1080\u001B[0m             \u001B[0;31m# the asarray is needed to avoid returning a 2D DatetimeArray\u001B[0m\u001B[0;34m\u001B[0m\u001B[0;34m\u001B[0m\u001B[0;34m\u001B[0m\u001B[0m\n\u001B[1;32m   1081\u001B[0m             \u001B[0mresult\u001B[0m \u001B[0;34m=\u001B[0m \u001B[0mnp\u001B[0m\u001B[0;34m.\u001B[0m\u001B[0masarray\u001B[0m\u001B[0;34m(\u001B[0m\u001B[0mself\u001B[0m\u001B[0;34m.\u001B[0m\u001B[0m_values\u001B[0m\u001B[0;34m[\u001B[0m\u001B[0mkey\u001B[0m\u001B[0;34m]\u001B[0m\u001B[0;34m)\u001B[0m\u001B[0;34m\u001B[0m\u001B[0;34m\u001B[0m\u001B[0m\n\u001B[0;32m-> 1082\u001B[0;31m             \u001B[0mdisallow_ndim_indexing\u001B[0m\u001B[0;34m(\u001B[0m\u001B[0mresult\u001B[0m\u001B[0;34m)\u001B[0m\u001B[0;34m\u001B[0m\u001B[0;34m\u001B[0m\u001B[0m\n\u001B[0m\u001B[1;32m   1083\u001B[0m             \u001B[0;32mreturn\u001B[0m \u001B[0mresult\u001B[0m\u001B[0;34m\u001B[0m\u001B[0;34m\u001B[0m\u001B[0m\n\u001B[1;32m   1084\u001B[0m \u001B[0;34m\u001B[0m\u001B[0m\n",
      "\u001B[0;32m~/opt/anaconda3/envs/transformers_env/lib/python3.8/site-packages/pandas/core/indexers/utils.py\u001B[0m in \u001B[0;36mdisallow_ndim_indexing\u001B[0;34m(result)\u001B[0m\n\u001B[1;32m    341\u001B[0m     \"\"\"\n\u001B[1;32m    342\u001B[0m     \u001B[0;32mif\u001B[0m \u001B[0mnp\u001B[0m\u001B[0;34m.\u001B[0m\u001B[0mndim\u001B[0m\u001B[0;34m(\u001B[0m\u001B[0mresult\u001B[0m\u001B[0;34m)\u001B[0m \u001B[0;34m>\u001B[0m \u001B[0;36m1\u001B[0m\u001B[0;34m:\u001B[0m\u001B[0;34m\u001B[0m\u001B[0;34m\u001B[0m\u001B[0m\n\u001B[0;32m--> 343\u001B[0;31m         raise ValueError(\n\u001B[0m\u001B[1;32m    344\u001B[0m             \u001B[0;34m\"Multi-dimensional indexing (e.g. `obj[:, None]`) is no longer \"\u001B[0m\u001B[0;34m\u001B[0m\u001B[0;34m\u001B[0m\u001B[0m\n\u001B[1;32m    345\u001B[0m             \u001B[0;34m\"supported. Convert to a numpy array before indexing instead.\"\u001B[0m\u001B[0;34m\u001B[0m\u001B[0;34m\u001B[0m\u001B[0m\n",
      "\u001B[0;31mValueError\u001B[0m: Multi-dimensional indexing (e.g. `obj[:, None]`) is no longer supported. Convert to a numpy array before indexing instead."
     ]
    },
    {
     "data": {
      "text/plain": "<Figure size 432x288 with 1 Axes>",
      "image/png": "[encoded data removed]"
     },
     "metadata": {},
     "output_type": "display_data"
    }
   ],
   "source": [
    "#| code-fold: true\n",
    "sns.lineplot(\n",
    "    data = result_df,\n",
    "    x = \"Number of Features\",\n",
    "    y = \"Mean RMSE\",\n",
    "    hue = \"k Neighbors\",\n",
    ")\n",
    "\n",
    "plt.title(\"Mean RMSE against Number of Features\")\n",
    "plt.show()"
   ]
  },
  {
   "attachments": {},
   "cell_type": "markdown",
   "id": "ae6b28d1",
   "metadata": {},
   "source": [
    "We can see that for models with a high k value (represented by the darker lines), the mean RMSE increased slightly as the number of features increased.\n",
    "\n",
    "However, for models with a low k value (represented by the lighter pink lines), the mean RMSE stayed the same or even decreased when the number of features increased.\n",
    "\n",
    "Therefore, the best model would be one with a low k value and a medium-to-high number of features.\n",
    "\n",
    "In order to determine this more precisely, let us look at the top 10 models with the lowest RMSE."
   ]
  },
  {
   "cell_type": "code",
   "execution_count": 22,
   "id": "93b1b80c",
   "metadata": {
    "ExecuteTime": {
     "end_time": "2023-11-01T10:07:43.045202Z",
     "start_time": "2023-11-01T10:07:43.024948Z"
    }
   },
   "outputs": [
    {
     "data": {
      "text/plain": "   Number of Features                           Best Features  k Neighbors   \n0                   1  [engine-size, curb-weight, horsepower]            2  \\\n1                   2  [engine-size, curb-weight, horsepower]            2   \n2                   3  [engine-size, curb-weight, horsepower]            2   \n3                   4  [engine-size, curb-weight, horsepower]            2   \n4                   5  [engine-size, curb-weight, horsepower]            2   \n5                   6  [engine-size, curb-weight, horsepower]            2   \n6                   7  [engine-size, curb-weight, horsepower]            2   \n7                   8  [engine-size, curb-weight, horsepower]            2   \n8                   9  [engine-size, curb-weight, horsepower]            2   \n9                  10  [engine-size, curb-weight, horsepower]            2   \n\n     Mean RMSE     SD RMSE  \n0  2752.188717  509.982177  \n1  2752.188717  509.982177  \n2  2752.188717  509.982177  \n3  2752.188717  509.982177  \n4  2752.188717  509.982177  \n5  2752.188717  509.982177  \n6  2752.188717  509.982177  \n7  2752.188717  509.982177  \n8  2752.188717  509.982177  \n9  2752.188717  509.982177  ",
      "text/html": "<div>\n<style scoped>\n    .dataframe tbody tr th:only-of-type {\n        vertical-align: middle;\n    }\n\n    .dataframe tbody tr th {\n        vertical-align: top;\n    }\n\n    .dataframe thead th {\n        text-align: right;\n    }\n</style>\n<table border=\"1\" class=\"dataframe\">\n  <thead>\n    <tr style=\"text-align: right;\">\n      <th></th>\n      <th>Number of Features</th>\n      <th>Best Features</th>\n      <th>k Neighbors</th>\n      <th>Mean RMSE</th>\n      <th>SD RMSE</th>\n    </tr>\n  </thead>\n  <tbody>\n    <tr>\n      <th>0</th>\n      <td>1</td>\n      <td>[engine-size, curb-weight, horsepower]</td>\n      <td>2</td>\n      <td>2752.188717</td>\n      <td>509.982177</td>\n    </tr>\n    <tr>\n      <th>1</th>\n      <td>2</td>\n      <td>[engine-size, curb-weight, horsepower]</td>\n      <td>2</td>\n      <td>2752.188717</td>\n      <td>509.982177</td>\n    </tr>\n    <tr>\n      <th>2</th>\n      <td>3</td>\n      <td>[engine-size, curb-weight, horsepower]</td>\n      <td>2</td>\n      <td>2752.188717</td>\n      <td>509.982177</td>\n    </tr>\n    <tr>\n      <th>3</th>\n      <td>4</td>\n      <td>[engine-size, curb-weight, horsepower]</td>\n      <td>2</td>\n      <td>2752.188717</td>\n      <td>509.982177</td>\n    </tr>\n    <tr>\n      <th>4</th>\n      <td>5</td>\n      <td>[engine-size, curb-weight, horsepower]</td>\n      <td>2</td>\n      <td>2752.188717</td>\n      <td>509.982177</td>\n    </tr>\n    <tr>\n      <th>5</th>\n      <td>6</td>\n      <td>[engine-size, curb-weight, horsepower]</td>\n      <td>2</td>\n      <td>2752.188717</td>\n      <td>509.982177</td>\n    </tr>\n    <tr>\n      <th>6</th>\n      <td>7</td>\n      <td>[engine-size, curb-weight, horsepower]</td>\n      <td>2</td>\n      <td>2752.188717</td>\n      <td>509.982177</td>\n    </tr>\n    <tr>\n      <th>7</th>\n      <td>8</td>\n      <td>[engine-size, curb-weight, horsepower]</td>\n      <td>2</td>\n      <td>2752.188717</td>\n      <td>509.982177</td>\n    </tr>\n    <tr>\n      <th>8</th>\n      <td>9</td>\n      <td>[engine-size, curb-weight, horsepower]</td>\n      <td>2</td>\n      <td>2752.188717</td>\n      <td>509.982177</td>\n    </tr>\n    <tr>\n      <th>9</th>\n      <td>10</td>\n      <td>[engine-size, curb-weight, horsepower]</td>\n      <td>2</td>\n      <td>2752.188717</td>\n      <td>509.982177</td>\n    </tr>\n  </tbody>\n</table>\n</div>"
     },
     "execution_count": 22,
     "metadata": {},
     "output_type": "execute_result"
    }
   ],
   "source": [
    "#| code-fold: true\n",
    "result_df.head(10)"
   ]
  },
  {
   "attachments": {},
   "cell_type": "markdown",
   "id": "c21d98ad",
   "metadata": {},
   "source": [
    "The table above shows the ten models with the lowest mean RMSE. Interestingly, the best-performing model had 8 features and a k-value of 1.\n",
    "\n",
    "Its RMSE was 2468, so on average, the predicted prices were USD 2468 off from the actual prices. This is decent considering that the car prices mostly fall between USD 5000 and USD 20000, though it could be better.\n",
    "\n",
    "The SD RMSE is around 355. This means that the RMSE values usually varied by 355 from the mean. This is relatively low compared to the SD RMSE values of the other best-performing models, which range from 350 to over 800. Therefore, the model performance was consistent.\n",
    "\n",
    "However, the following concerns are worth noting:\n",
    "\n",
    "- The number of features is somewhat large, and this may be a problem because it can cause overfitting. This means that the model may be too sensitive to small but meaningless variations in the training data. It may be unable to recognize *general trends* properly. However, reducing the number of features may increase the mean RMSE.\n",
    "- The k-value is concerning because only one neighbor is considered when predicting a car's price. I would prefer to have $k > 1$ so that multiple neighbors are taken into consideration.\n",
    "\n",
    "Personally, I am fine with selecting this model as the final one to use, simply because its mean RMSE is a few hundred dollars lower than that of the other good models. In a real-world scenario, after I implement this model, I would see if it continued to perform well on new data, and then reduce its number of features or increase its k-value if needed."
   ]
  },
  {
   "attachments": {},
   "cell_type": "markdown",
   "id": "ee03f005",
   "metadata": {},
   "source": [
    "# Summary\n",
    "\n",
    "In this project, we cleaned a dataset about car features and prices, discussed the logic behind the K Nearest Neighbors algorithm for regression, explained techniques used in the machine learning workflow, then applied these techniques to determine the optimal model for predicting car prices.\n",
    "\n",
    "Thanks for reading!"
   ]
  },
  {
   "attachments": {},
   "cell_type": "markdown",
   "id": "2c864d1b",
   "metadata": {},
   "source": [
    "# Bibliography\n",
    "\n",
    "## Data Source\n",
    "\n",
    "Schlimmer, J. C. (1987, May 19). UCI Machine Learning Repository: Automobile Data Set. UCI Machine Learning Repository. https://archive.ics.uci.edu/ml/datasets/automobile\n",
    "\n",
    "## Information Sources\n",
    "\n",
    "Brownlee, J. (2018, May 22). A Gentle Introduction to k-fold Cross-Validation. Machine Learning Mastery. https://machinelearningmastery.com/k-fold-cross-validation/\n",
    "\n",
    "Dataquest. (n.d.). Predicting Car Prices: Machine Learning Project. Dataquest. Retrieved December 21, 2021, from https://www.dataquest.io/c/36/m/155/guided-project%3A-predicting-car-prices\n",
    "\n",
    "De Cock, D. (2011). Ames, Iowa: Alternative to the Boston Housing Data as an End of Semester Regression Project. Journal of Statistics Education, 19(3), null. https://doi.org/10.1080/10691898.2011.11889627\n",
    "\n",
    "Frost, J. (2017, April 4). How to Interpret the F-test of Overall Significance in Regression Analysis. Statistics By Jim. http://statisticsbyjim.com/regression/interpret-f-test-overall-significance-regression/\n",
    "\n",
    "Miller, M. (2019, October 18). The Basics: KNN for classification and regression. Medium. https://towardsdatascience.com/the-basics-knn-for-classification-and-regression-c1e8a6c955\n",
    "\n",
    "scikit-learn developers. (2021). 1.13.2. Univariate Feature Selection. Scikit-Learn. https://scikit-learn/stable/modules/feature_selection.html\n",
    "\n",
    "## Image Source\n",
    "\n",
    "Smith, C. (2018, January 20). Charger vs Challenger: All-American Muscle Car Comparison. WheelScene. https://wheelscene.com/charger-vs-challenger/"
   ]
  }
 ],
 "metadata": {
  "kernelspec": {
   "display_name": "Python 3",
   "language": "python",
   "name": "python3"
  },
  "language_info": {
   "codemirror_mode": {
    "name": "ipython",
    "version": 3
   },
   "file_extension": ".py",
   "mimetype": "text/x-python",
   "name": "python",
   "nbconvert_exporter": "python",
   "pygments_lexer": "ipython3",
   "version": "3.8.11"
  }
 },
 "nbformat": 4,
 "nbformat_minor": 5
}
