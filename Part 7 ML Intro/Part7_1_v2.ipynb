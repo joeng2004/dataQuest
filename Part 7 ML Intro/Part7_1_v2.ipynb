{
 "cells": [
  {
   "cell_type": "code",
   "execution_count": null,
   "outputs": [],
   "source": [],
   "metadata": {
    "collapsed": false,
    "ExecuteTime": {
     "start_time": "2023-10-31T03:43:16.002033Z"
    }
   },
   "id": "3d3bba9c5fa62949"
  },
  {
   "cell_type": "markdown",
   "source": [
    "# Part 1: K-Nearest Neighbors"
   ],
   "metadata": {
    "collapsed": false
   },
   "id": "dfac59bcfc09a6c4"
  },
  {
   "cell_type": "code",
   "execution_count": 1,
   "id": "initial_id",
   "metadata": {
    "collapsed": true,
    "ExecuteTime": {
     "end_time": "2023-10-31T03:43:16.434987Z",
     "start_time": "2023-10-31T03:43:16.006612Z"
    }
   },
   "outputs": [],
   "source": [
    "import pandas as pd\n",
    "dc_listings = pd.read_csv('dc_airbnb.csv')"
   ]
  },
  {
   "cell_type": "code",
   "execution_count": 2,
   "outputs": [
    {
     "data": {
      "text/plain": "host_response_rate                  92%\nhost_acceptance_rate                91%\nhost_listings_count                  26\naccommodates                          4\nroom_type               Entire home/apt\nbedrooms                            1.0\nbathrooms                           1.0\nbeds                                2.0\nprice                           $160.00\ncleaning_fee                    $115.00\nsecurity_deposit                $100.00\nminimum_nights                        1\nmaximum_nights                     1125\nnumber_of_reviews                     0\nlatitude                      38.890046\nlongitude                    -77.002808\ncity                         Washington\nzipcode                           20003\nstate                                DC\nName: 0, dtype: object"
     },
     "execution_count": 2,
     "metadata": {},
     "output_type": "execute_result"
    }
   ],
   "source": [
    "dc_listings.iloc[0]"
   ],
   "metadata": {
    "collapsed": false,
    "ExecuteTime": {
     "end_time": "2023-10-31T03:43:16.449084Z",
     "start_time": "2023-10-31T03:43:16.442053Z"
    }
   },
   "id": "fc44a99708f7f2e8"
  },
  {
   "cell_type": "code",
   "execution_count": 3,
   "outputs": [
    {
     "data": {
      "text/plain": "2.0"
     },
     "execution_count": 3,
     "metadata": {},
     "output_type": "execute_result"
    }
   ],
   "source": [
    "dc_listings.iloc[0].beds"
   ],
   "metadata": {
    "collapsed": false,
    "ExecuteTime": {
     "end_time": "2023-10-31T03:43:16.451358Z",
     "start_time": "2023-10-31T03:43:16.447372Z"
    }
   },
   "id": "5f555ece7e7a6851"
  },
  {
   "cell_type": "markdown",
   "source": [
    "## 4. Euclidean Distance "
   ],
   "metadata": {
    "collapsed": false
   },
   "id": "5eeb6f5d2a1fe7ef"
  },
  {
   "cell_type": "code",
   "execution_count": 4,
   "outputs": [],
   "source": [
    "import numpy as np"
   ],
   "metadata": {
    "collapsed": false,
    "ExecuteTime": {
     "end_time": "2023-10-31T03:43:16.457022Z",
     "start_time": "2023-10-31T03:43:16.451516Z"
    }
   },
   "id": "359cf824d147a7cc"
  },
  {
   "cell_type": "code",
   "execution_count": 5,
   "outputs": [],
   "source": [
    "our_acc_value = 3\n",
    "first_living_space = dc_listings.iloc[0]['accommodates']\n",
    "first_distance = np.abs(first_living_space-our_acc_value)"
   ],
   "metadata": {
    "collapsed": false,
    "ExecuteTime": {
     "end_time": "2023-10-31T03:43:16.499076Z",
     "start_time": "2023-10-31T03:43:16.457590Z"
    }
   },
   "id": "c4e57600d351891d"
  },
  {
   "cell_type": "code",
   "execution_count": 6,
   "outputs": [
    {
     "data": {
      "text/plain": "1"
     },
     "execution_count": 6,
     "metadata": {},
     "output_type": "execute_result"
    }
   ],
   "source": [
    "first_distance"
   ],
   "metadata": {
    "collapsed": false,
    "ExecuteTime": {
     "end_time": "2023-10-31T03:43:16.499831Z",
     "start_time": "2023-10-31T03:43:16.461657Z"
    }
   },
   "id": "a1d868235ee0dbc4"
  },
  {
   "cell_type": "code",
   "execution_count": 7,
   "outputs": [],
   "source": [
    "# calculate all distance by using \"apply()\"\n",
    "# now we will have distance with each accommodates\n",
    "new_listing =3\n",
    "dc_listings['distance'] = dc_listings['accommodates'].apply(lambda x: np.abs(x-new_listing))"
   ],
   "metadata": {
    "collapsed": false,
    "ExecuteTime": {
     "end_time": "2023-10-31T03:43:16.511016Z",
     "start_time": "2023-10-31T03:43:16.465907Z"
    }
   },
   "id": "98baac7c24a1d5b7"
  },
  {
   "cell_type": "markdown",
   "source": [
    "## 6. Randomizing and Sorting"
   ],
   "metadata": {
    "collapsed": false
   },
   "id": "f0ab61369d5ef5ae"
  },
  {
   "cell_type": "code",
   "execution_count": 23,
   "outputs": [
    {
     "name": "stdout",
     "output_type": "stream",
     "text": [
      "577     $185.00\n",
      "2166    $180.00\n",
      "3631    $175.00\n",
      "71      $128.00\n",
      "1011    $115.00\n",
      "380     $219.00\n",
      "943     $125.00\n",
      "3107    $250.00\n",
      "1499     $94.00\n",
      "625     $150.00\n",
      "Name: price, dtype: object\n"
     ]
    }
   ],
   "source": [
    "np.random.seed(1)\n",
    "dc_listings = dc_listings.loc[np.random.permutation(len(dc_listings))]\n",
    "dc_listings=dc_listings.sort_values('distance')\n",
    "print(dc_listings.iloc[:10]['price'])"
   ],
   "metadata": {
    "collapsed": false,
    "ExecuteTime": {
     "end_time": "2023-10-31T03:48:45.883547Z",
     "start_time": "2023-10-31T03:48:45.874050Z"
    }
   },
   "id": "73487296250b497b"
  },
  {
   "cell_type": "markdown",
   "source": [
    "## 7. Average Price\n"
   ],
   "metadata": {
    "collapsed": false
   },
   "id": "c6af84def996b626"
  },
  {
   "cell_type": "code",
   "execution_count": 25,
   "outputs": [
    {
     "data": {
      "text/plain": "577       $185.00\n2166      $180.00\n3631      $175.00\n71        $128.00\n1011      $115.00\n          ...    \n1596      $299.00\n1818       $10.00\n1402    $1,200.00\n763     $1,000.00\n1224      $499.00\nName: price, Length: 3723, dtype: object"
     },
     "execution_count": 25,
     "metadata": {},
     "output_type": "execute_result"
    }
   ],
   "source": [
    "dc_listings['price']"
   ],
   "metadata": {
    "collapsed": false,
    "ExecuteTime": {
     "end_time": "2023-10-31T03:53:22.095211Z",
     "start_time": "2023-10-31T03:53:22.073633Z"
    }
   },
   "id": "eac3858a38f50158"
  },
  {
   "cell_type": "code",
   "execution_count": 29,
   "outputs": [
    {
     "data": {
      "text/plain": "577      185.00\n2166     180.00\n3631     175.00\n71       128.00\n1011     115.00\n         ...   \n1596     299.00\n1818      10.00\n1402    1200.00\n763     1000.00\n1224     499.00\nName: price, Length: 3723, dtype: object"
     },
     "execution_count": 29,
     "metadata": {},
     "output_type": "execute_result"
    }
   ],
   "source": [
    "stripped_commas = dc_listings['price'].str.replace(',','')\n",
    "stripped_dollar = stripped_commas.str.replace('$','')\n"
   ],
   "metadata": {
    "collapsed": false,
    "ExecuteTime": {
     "end_time": "2023-10-31T03:55:31.861432Z",
     "start_time": "2023-10-31T03:55:31.854236Z"
    }
   },
   "id": "4dd8353c5639080e"
  },
  {
   "cell_type": "code",
   "execution_count": 30,
   "outputs": [
    {
     "data": {
      "text/plain": "577      185.0\n2166     180.0\n3631     175.0\n71       128.0\n1011     115.0\n         ...  \n1596     299.0\n1818      10.0\n1402    1200.0\n763     1000.0\n1224     499.0\nName: price, Length: 3723, dtype: float64"
     },
     "execution_count": 30,
     "metadata": {},
     "output_type": "execute_result"
    }
   ],
   "source": [
    "dc_listings['price'] = stripped_dollar.astype('float')\n",
    "dc_listings['price']"
   ],
   "metadata": {
    "collapsed": false,
    "ExecuteTime": {
     "end_time": "2023-10-31T03:56:38.379975Z",
     "start_time": "2023-10-31T03:56:38.358131Z"
    }
   },
   "id": "bc120bc4e115d234"
  },
  {
   "cell_type": "code",
   "execution_count": 31,
   "outputs": [
    {
     "data": {
      "text/plain": "156.6"
     },
     "execution_count": 31,
     "metadata": {},
     "output_type": "execute_result"
    }
   ],
   "source": [
    "mean_price = dc_listings[0:5]['price'].mean()\n",
    "mean_price"
   ],
   "metadata": {
    "collapsed": false,
    "ExecuteTime": {
     "end_time": "2023-10-31T03:57:19.068906Z",
     "start_time": "2023-10-31T03:57:19.056458Z"
    }
   },
   "id": "83944b075c92557f"
  },
  {
   "cell_type": "markdown",
   "source": [],
   "metadata": {
    "collapsed": false
   },
   "id": "e9ad83ac53d25ab5"
  },
  {
   "cell_type": "markdown",
   "source": [
    "## 8. Function to Make Prediction\n"
   ],
   "metadata": {
    "collapsed": false
   },
   "id": "26d7e819f6542c66"
  },
  {
   "cell_type": "code",
   "execution_count": 33,
   "outputs": [],
   "source": [
    "def predict_price(new_accommodates):\n",
    "    temp_df = dc_listings.copy()\n",
    "    temp_df['distance'] = temp_df['accommodates'].apply(lambda x:np.abs(x-new_accommodates))\n",
    "    temp_df = temp_df.sort_values('distance')\n",
    "    nearest_neighbors = temp_df.iloc[0:5]['price']\n",
    "    predicted_price = nearest_neighbors.mean()\n",
    "    \n",
    "    return predicted_price"
   ],
   "metadata": {
    "collapsed": false,
    "ExecuteTime": {
     "end_time": "2023-10-31T04:10:51.722887Z",
     "start_time": "2023-10-31T04:10:51.716037Z"
    }
   },
   "id": "d086e0a4cd416b1"
  },
  {
   "cell_type": "code",
   "execution_count": 36,
   "outputs": [
    {
     "name": "stdout",
     "output_type": "stream",
     "text": [
      "predict_price(1):78.8\n",
      "predict_price(2):126.0\n",
      "predict_price(3):194.8\n",
      "predict_price(4):197.6\n"
     ]
    }
   ],
   "source": [
    "print(f'predict_price(1):{predict_price(1)}')\n",
    "print(f'predict_price(2):{predict_price(2)}')\n",
    "print(f'predict_price(3):{predict_price(3)}')\n",
    "print(f'predict_price(4):{predict_price(4)}')"
   ],
   "metadata": {
    "collapsed": false,
    "ExecuteTime": {
     "end_time": "2023-10-31T04:12:03.415862Z",
     "start_time": "2023-10-31T04:12:03.345746Z"
    }
   },
   "id": "6d94119e51e5b51f"
  },
  {
   "cell_type": "code",
   "execution_count": null,
   "outputs": [],
   "source": [],
   "metadata": {
    "collapsed": false
   },
   "id": "101328ff521c2915"
  },
  {
   "cell_type": "markdown",
   "source": [
    "## ~~~~~~~~~~~~~~~~~~~~~~~~~~~~~~~~~\n",
    "## Draft section "
   ],
   "metadata": {
    "collapsed": false
   },
   "id": "ab4a9ebb32bebc6d"
  },
  {
   "cell_type": "code",
   "execution_count": 32,
   "outputs": [
    {
     "data": {
      "text/plain": "     host_response_rate host_acceptance_rate  host_listings_count   \n577                 98%                  52%                   49  \\\n2166               100%                  89%                    2   \n3631                98%                  52%                   49   \n71                 100%                  94%                    1   \n1011                NaN                  NaN                    1   \n\n      accommodates        room_type  bedrooms  bathrooms  beds  price   \n577              3     Private room       1.0        1.0   2.0  185.0  \\\n2166             3  Entire home/apt       1.0        1.0   1.0  180.0   \n3631             3  Entire home/apt       1.0        1.0   2.0  175.0   \n71               3  Entire home/apt       1.0        1.0   1.0  128.0   \n1011             3  Entire home/apt       0.0        1.0   1.0  115.0   \n\n     cleaning_fee security_deposit  minimum_nights  maximum_nights   \n577           NaN              NaN               2              14  \\\n2166          NaN          $100.00               1              14   \n3631          NaN              NaN               3              14   \n71         $40.00              NaN               1            1125   \n1011          NaN              NaN               1            1125   \n\n      number_of_reviews   latitude  longitude        city zipcode state   \n577                   1  38.908356 -77.028146  Washington   20005    DC  \\\n2166                 10  38.905808 -77.000012  Washington   20002    DC   \n3631                  1  38.889065 -76.993576  Washington   20003    DC   \n71                    9  38.879960 -77.006491  Washington   20003    DC   \n1011                  0  38.907382 -77.035075  Washington   20005    DC   \n\n      distance  \n577          0  \n2166         0  \n3631         0  \n71           0  \n1011         0  ",
      "text/html": "<div>\n<style scoped>\n    .dataframe tbody tr th:only-of-type {\n        vertical-align: middle;\n    }\n\n    .dataframe tbody tr th {\n        vertical-align: top;\n    }\n\n    .dataframe thead th {\n        text-align: right;\n    }\n</style>\n<table border=\"1\" class=\"dataframe\">\n  <thead>\n    <tr style=\"text-align: right;\">\n      <th></th>\n      <th>host_response_rate</th>\n      <th>host_acceptance_rate</th>\n      <th>host_listings_count</th>\n      <th>accommodates</th>\n      <th>room_type</th>\n      <th>bedrooms</th>\n      <th>bathrooms</th>\n      <th>beds</th>\n      <th>price</th>\n      <th>cleaning_fee</th>\n      <th>security_deposit</th>\n      <th>minimum_nights</th>\n      <th>maximum_nights</th>\n      <th>number_of_reviews</th>\n      <th>latitude</th>\n      <th>longitude</th>\n      <th>city</th>\n      <th>zipcode</th>\n      <th>state</th>\n      <th>distance</th>\n    </tr>\n  </thead>\n  <tbody>\n    <tr>\n      <th>577</th>\n      <td>98%</td>\n      <td>52%</td>\n      <td>49</td>\n      <td>3</td>\n      <td>Private room</td>\n      <td>1.0</td>\n      <td>1.0</td>\n      <td>2.0</td>\n      <td>185.0</td>\n      <td>NaN</td>\n      <td>NaN</td>\n      <td>2</td>\n      <td>14</td>\n      <td>1</td>\n      <td>38.908356</td>\n      <td>-77.028146</td>\n      <td>Washington</td>\n      <td>20005</td>\n      <td>DC</td>\n      <td>0</td>\n    </tr>\n    <tr>\n      <th>2166</th>\n      <td>100%</td>\n      <td>89%</td>\n      <td>2</td>\n      <td>3</td>\n      <td>Entire home/apt</td>\n      <td>1.0</td>\n      <td>1.0</td>\n      <td>1.0</td>\n      <td>180.0</td>\n      <td>NaN</td>\n      <td>$100.00</td>\n      <td>1</td>\n      <td>14</td>\n      <td>10</td>\n      <td>38.905808</td>\n      <td>-77.000012</td>\n      <td>Washington</td>\n      <td>20002</td>\n      <td>DC</td>\n      <td>0</td>\n    </tr>\n    <tr>\n      <th>3631</th>\n      <td>98%</td>\n      <td>52%</td>\n      <td>49</td>\n      <td>3</td>\n      <td>Entire home/apt</td>\n      <td>1.0</td>\n      <td>1.0</td>\n      <td>2.0</td>\n      <td>175.0</td>\n      <td>NaN</td>\n      <td>NaN</td>\n      <td>3</td>\n      <td>14</td>\n      <td>1</td>\n      <td>38.889065</td>\n      <td>-76.993576</td>\n      <td>Washington</td>\n      <td>20003</td>\n      <td>DC</td>\n      <td>0</td>\n    </tr>\n    <tr>\n      <th>71</th>\n      <td>100%</td>\n      <td>94%</td>\n      <td>1</td>\n      <td>3</td>\n      <td>Entire home/apt</td>\n      <td>1.0</td>\n      <td>1.0</td>\n      <td>1.0</td>\n      <td>128.0</td>\n      <td>$40.00</td>\n      <td>NaN</td>\n      <td>1</td>\n      <td>1125</td>\n      <td>9</td>\n      <td>38.879960</td>\n      <td>-77.006491</td>\n      <td>Washington</td>\n      <td>20003</td>\n      <td>DC</td>\n      <td>0</td>\n    </tr>\n    <tr>\n      <th>1011</th>\n      <td>NaN</td>\n      <td>NaN</td>\n      <td>1</td>\n      <td>3</td>\n      <td>Entire home/apt</td>\n      <td>0.0</td>\n      <td>1.0</td>\n      <td>1.0</td>\n      <td>115.0</td>\n      <td>NaN</td>\n      <td>NaN</td>\n      <td>1</td>\n      <td>1125</td>\n      <td>0</td>\n      <td>38.907382</td>\n      <td>-77.035075</td>\n      <td>Washington</td>\n      <td>20005</td>\n      <td>DC</td>\n      <td>0</td>\n    </tr>\n  </tbody>\n</table>\n</div>"
     },
     "execution_count": 32,
     "metadata": {},
     "output_type": "execute_result"
    }
   ],
   "source": [
    "dc_listings.head()\n"
   ],
   "metadata": {
    "collapsed": false,
    "ExecuteTime": {
     "end_time": "2023-10-31T04:04:12.646563Z",
     "start_time": "2023-10-31T04:04:12.634630Z"
    }
   },
   "id": "e16f102a7b42ae74"
  },
  {
   "cell_type": "code",
   "execution_count": null,
   "outputs": [],
   "source": [
    "\n"
   ],
   "metadata": {
    "collapsed": false
   },
   "id": "c96816743960667e"
  }
 ],
 "metadata": {
  "kernelspec": {
   "display_name": "Python 3",
   "language": "python",
   "name": "python3"
  },
  "language_info": {
   "codemirror_mode": {
    "name": "ipython",
    "version": 2
   },
   "file_extension": ".py",
   "mimetype": "text/x-python",
   "name": "python",
   "nbconvert_exporter": "python",
   "pygments_lexer": "ipython2",
   "version": "2.7.6"
  }
 },
 "nbformat": 4,
 "nbformat_minor": 5
}
