{
 "cells": [
  {
   "cell_type": "markdown",
   "source": [
    "# Part 1: K-Nearest Neighbors\n",
    "\n",
    "<img src='images/3.jpg' width=75%>\n"
   ],
   "metadata": {
    "collapsed": false
   },
   "id": "dfac59bcfc09a6c4"
  },
  {
   "cell_type": "code",
   "execution_count": 1,
   "id": "initial_id",
   "metadata": {
    "collapsed": true,
    "ExecuteTime": {
     "end_time": "2023-10-31T05:45:28.386030Z",
     "start_time": "2023-10-31T05:45:28.000604Z"
    }
   },
   "outputs": [],
   "source": [
    "import pandas as pd\n",
    "dc_listings = pd.read_csv('dc_airbnb.csv')"
   ]
  },
  {
   "cell_type": "code",
   "execution_count": 2,
   "outputs": [
    {
     "data": {
      "text/plain": "host_response_rate                  92%\nhost_acceptance_rate                91%\nhost_listings_count                  26\naccommodates                          4\nroom_type               Entire home/apt\nbedrooms                            1.0\nbathrooms                           1.0\nbeds                                2.0\nprice                           $160.00\ncleaning_fee                    $115.00\nsecurity_deposit                $100.00\nminimum_nights                        1\nmaximum_nights                     1125\nnumber_of_reviews                     0\nlatitude                      38.890046\nlongitude                    -77.002808\ncity                         Washington\nzipcode                           20003\nstate                                DC\nName: 0, dtype: object"
     },
     "execution_count": 2,
     "metadata": {},
     "output_type": "execute_result"
    }
   ],
   "source": [
    "dc_listings.iloc[0]"
   ],
   "metadata": {
    "collapsed": false,
    "ExecuteTime": {
     "end_time": "2023-10-31T05:45:28.394249Z",
     "start_time": "2023-10-31T05:45:28.390198Z"
    }
   },
   "id": "fc44a99708f7f2e8"
  },
  {
   "cell_type": "code",
   "execution_count": 3,
   "outputs": [
    {
     "data": {
      "text/plain": "2.0"
     },
     "execution_count": 3,
     "metadata": {},
     "output_type": "execute_result"
    }
   ],
   "source": [
    "dc_listings.iloc[0].beds"
   ],
   "metadata": {
    "collapsed": false,
    "ExecuteTime": {
     "end_time": "2023-10-31T05:45:28.402754Z",
     "start_time": "2023-10-31T05:45:28.396295Z"
    }
   },
   "id": "5f555ece7e7a6851"
  },
  {
   "cell_type": "markdown",
   "source": [
    "## 4. Euclidean Distance "
   ],
   "metadata": {
    "collapsed": false
   },
   "id": "5eeb6f5d2a1fe7ef"
  },
  {
   "cell_type": "code",
   "execution_count": 4,
   "outputs": [],
   "source": [
    "import numpy as np"
   ],
   "metadata": {
    "collapsed": false,
    "ExecuteTime": {
     "end_time": "2023-10-31T05:45:28.404404Z",
     "start_time": "2023-10-31T05:45:28.400780Z"
    }
   },
   "id": "359cf824d147a7cc"
  },
  {
   "cell_type": "code",
   "execution_count": 5,
   "outputs": [],
   "source": [
    "our_acc_value = 3\n",
    "first_living_space = dc_listings.iloc[0]['accommodates']\n",
    "first_distance = np.abs(first_living_space-our_acc_value)"
   ],
   "metadata": {
    "collapsed": false,
    "ExecuteTime": {
     "end_time": "2023-10-31T05:45:28.411185Z",
     "start_time": "2023-10-31T05:45:28.404338Z"
    }
   },
   "id": "c4e57600d351891d"
  },
  {
   "cell_type": "code",
   "execution_count": 6,
   "outputs": [
    {
     "data": {
      "text/plain": "1"
     },
     "execution_count": 6,
     "metadata": {},
     "output_type": "execute_result"
    }
   ],
   "source": [
    "first_distance"
   ],
   "metadata": {
    "collapsed": false,
    "ExecuteTime": {
     "end_time": "2023-10-31T05:45:28.422352Z",
     "start_time": "2023-10-31T05:45:28.407420Z"
    }
   },
   "id": "a1d868235ee0dbc4"
  },
  {
   "cell_type": "code",
   "execution_count": 7,
   "outputs": [],
   "source": [
    "# calculate all distance by using \"apply()\"\n",
    "# now we will have distance with each accommodates\n",
    "new_listing =3\n",
    "dc_listings['distance'] = dc_listings['accommodates'].apply(lambda x: np.abs(x-new_listing))"
   ],
   "metadata": {
    "collapsed": false,
    "ExecuteTime": {
     "end_time": "2023-10-31T05:45:28.435711Z",
     "start_time": "2023-10-31T05:45:28.412106Z"
    }
   },
   "id": "98baac7c24a1d5b7"
  },
  {
   "cell_type": "markdown",
   "source": [
    "## 6. Randomizing and Sorting"
   ],
   "metadata": {
    "collapsed": false
   },
   "id": "f0ab61369d5ef5ae"
  },
  {
   "cell_type": "code",
   "execution_count": 8,
   "outputs": [
    {
     "name": "stdout",
     "output_type": "stream",
     "text": [
      "577     $185.00\n",
      "2166    $180.00\n",
      "3631    $175.00\n",
      "71      $128.00\n",
      "1011    $115.00\n",
      "380     $219.00\n",
      "943     $125.00\n",
      "3107    $250.00\n",
      "1499     $94.00\n",
      "625     $150.00\n",
      "Name: price, dtype: object\n"
     ]
    }
   ],
   "source": [
    "np.random.seed(1)\n",
    "dc_listings = dc_listings.loc[np.random.permutation(len(dc_listings))]\n",
    "dc_listings=dc_listings.sort_values('distance')\n",
    "print(dc_listings.iloc[:10]['price'])"
   ],
   "metadata": {
    "collapsed": false,
    "ExecuteTime": {
     "end_time": "2023-10-31T05:45:28.444782Z",
     "start_time": "2023-10-31T05:45:28.426318Z"
    }
   },
   "id": "73487296250b497b"
  },
  {
   "cell_type": "markdown",
   "source": [
    "## 7. Average Price\n"
   ],
   "metadata": {
    "collapsed": false
   },
   "id": "c6af84def996b626"
  },
  {
   "cell_type": "code",
   "execution_count": 9,
   "outputs": [
    {
     "data": {
      "text/plain": "577       $185.00\n2166      $180.00\n3631      $175.00\n71        $128.00\n1011      $115.00\n          ...    \n1596      $299.00\n1818       $10.00\n1402    $1,200.00\n763     $1,000.00\n1224      $499.00\nName: price, Length: 3723, dtype: object"
     },
     "execution_count": 9,
     "metadata": {},
     "output_type": "execute_result"
    }
   ],
   "source": [
    "dc_listings['price']"
   ],
   "metadata": {
    "collapsed": false,
    "ExecuteTime": {
     "end_time": "2023-10-31T05:45:28.446223Z",
     "start_time": "2023-10-31T05:45:28.436095Z"
    }
   },
   "id": "eac3858a38f50158"
  },
  {
   "cell_type": "code",
   "execution_count": 10,
   "outputs": [],
   "source": [
    "stripped_commas = dc_listings['price'].str.replace(',','')\n",
    "stripped_dollar = stripped_commas.str.replace('$','')\n"
   ],
   "metadata": {
    "collapsed": false,
    "ExecuteTime": {
     "end_time": "2023-10-31T05:45:28.484914Z",
     "start_time": "2023-10-31T05:45:28.442265Z"
    }
   },
   "id": "4dd8353c5639080e"
  },
  {
   "cell_type": "code",
   "execution_count": 11,
   "outputs": [
    {
     "data": {
      "text/plain": "577      185.0\n2166     180.0\n3631     175.0\n71       128.0\n1011     115.0\n         ...  \n1596     299.0\n1818      10.0\n1402    1200.0\n763     1000.0\n1224     499.0\nName: price, Length: 3723, dtype: float64"
     },
     "execution_count": 11,
     "metadata": {},
     "output_type": "execute_result"
    }
   ],
   "source": [
    "dc_listings['price'] = stripped_dollar.astype('float')\n",
    "dc_listings['price']"
   ],
   "metadata": {
    "collapsed": false,
    "ExecuteTime": {
     "end_time": "2023-10-31T05:45:28.495226Z",
     "start_time": "2023-10-31T05:45:28.445335Z"
    }
   },
   "id": "bc120bc4e115d234"
  },
  {
   "cell_type": "code",
   "execution_count": 12,
   "outputs": [
    {
     "data": {
      "text/plain": "156.6"
     },
     "execution_count": 12,
     "metadata": {},
     "output_type": "execute_result"
    }
   ],
   "source": [
    "mean_price = dc_listings[0:5]['price'].mean()\n",
    "mean_price"
   ],
   "metadata": {
    "collapsed": false,
    "ExecuteTime": {
     "end_time": "2023-10-31T05:45:28.495655Z",
     "start_time": "2023-10-31T05:45:28.453380Z"
    }
   },
   "id": "83944b075c92557f"
  },
  {
   "cell_type": "markdown",
   "source": [],
   "metadata": {
    "collapsed": false
   },
   "id": "e9ad83ac53d25ab5"
  },
  {
   "cell_type": "markdown",
   "source": [
    "## 8. Function to Make Prediction\n"
   ],
   "metadata": {
    "collapsed": false
   },
   "id": "26d7e819f6542c66"
  },
  {
   "cell_type": "code",
   "execution_count": 13,
   "outputs": [],
   "source": [
    "def predict_price(new_accommodates):\n",
    "    temp_df = dc_listings.copy()\n",
    "    temp_df['distance'] = temp_df['accommodates'].apply(lambda x:np.abs(x-new_accommodates))\n",
    "    temp_df = temp_df.sort_values('distance')\n",
    "    nearest_neighbors = temp_df.iloc[0:5]['price']\n",
    "    predicted_price = nearest_neighbors.mean()\n",
    "    \n",
    "    return predicted_price"
   ],
   "metadata": {
    "collapsed": false,
    "ExecuteTime": {
     "end_time": "2023-10-31T05:45:28.495762Z",
     "start_time": "2023-10-31T05:45:28.457730Z"
    }
   },
   "id": "d086e0a4cd416b1"
  },
  {
   "cell_type": "code",
   "execution_count": 14,
   "outputs": [
    {
     "name": "stdout",
     "output_type": "stream",
     "text": [
      "predict_price(1):78.8\n",
      "predict_price(2):126.0\n",
      "predict_price(3):194.8\n",
      "predict_price(4):197.6\n"
     ]
    }
   ],
   "source": [
    "print(f'predict_price(1):{predict_price(1)}')\n",
    "print(f'predict_price(2):{predict_price(2)}')\n",
    "print(f'predict_price(3):{predict_price(3)}')\n",
    "print(f'predict_price(4):{predict_price(4)}')"
   ],
   "metadata": {
    "collapsed": false,
    "ExecuteTime": {
     "end_time": "2023-10-31T05:45:28.528596Z",
     "start_time": "2023-10-31T05:45:28.461779Z"
    }
   },
   "id": "6d94119e51e5b51f"
  },
  {
   "cell_type": "markdown",
   "source": [
    "# Part II. Evaluating Model Performance\n"
   ],
   "metadata": {
    "collapsed": false
   },
   "id": "a46b8e6bd26593fe"
  },
  {
   "cell_type": "markdown",
   "source": [
    "## 1. Testing quality of predictions"
   ],
   "metadata": {
    "collapsed": false
   },
   "id": "8869abbbf74044eb"
  },
  {
   "cell_type": "code",
   "execution_count": 15,
   "outputs": [
    {
     "name": "stdout",
     "output_type": "stream",
     "text": [
      "train_df:(2792, 20)\n",
      "test_df:(931, 20)\n"
     ]
    }
   ],
   "source": [
    "# We split train_df and test_df from dc_listings\n",
    "\n",
    "train_df= dc_listings.iloc[:2792]\n",
    "test_df = dc_listings.iloc[2792:]\n",
    "print(f'train_df:{train_df.shape}')\n",
    "print(f'test_df:{test_df.shape}')"
   ],
   "metadata": {
    "collapsed": false,
    "ExecuteTime": {
     "end_time": "2023-10-31T05:45:28.529572Z",
     "start_time": "2023-10-31T05:45:28.513531Z"
    }
   },
   "id": "101328ff521c2915"
  },
  {
   "cell_type": "code",
   "execution_count": 17,
   "outputs": [
    {
     "name": "stderr",
     "output_type": "stream",
     "text": [
      "<ipython-input-17-8ca464650540>:1: SettingWithCopyWarning: \n",
      "A value is trying to be set on a copy of a slice from a DataFrame.\n",
      "Try using .loc[row_indexer,col_indexer] = value instead\n",
      "\n",
      "See the caveats in the documentation: https://pandas.pydata.org/pandas-docs/stable/user_guide/indexing.html#returning-a-view-versus-a-copy\n",
      "  test_df['predicted_price']=test_df['accommodates'].apply(predict_price)\n"
     ]
    }
   ],
   "source": [
    "test_df['predicted_price']=test_df['accommodates'].apply(predict_price)"
   ],
   "metadata": {
    "collapsed": false,
    "ExecuteTime": {
     "end_time": "2023-10-31T05:47:10.163009Z",
     "start_time": "2023-10-31T05:46:59.896399Z"
    }
   },
   "id": "fb39fe43532b12af"
  },
  {
   "cell_type": "code",
   "execution_count": 21,
   "outputs": [
    {
     "data": {
      "text/plain": "      accommodates  price  predicted_price\n2339             1   75.0             78.8\n2116             5  220.0            183.2\n3173             5  120.0            183.2\n1472             5  199.0            183.2\n1829             5  100.0            183.2",
      "text/html": "<div>\n<style scoped>\n    .dataframe tbody tr th:only-of-type {\n        vertical-align: middle;\n    }\n\n    .dataframe tbody tr th {\n        vertical-align: top;\n    }\n\n    .dataframe thead th {\n        text-align: right;\n    }\n</style>\n<table border=\"1\" class=\"dataframe\">\n  <thead>\n    <tr style=\"text-align: right;\">\n      <th></th>\n      <th>accommodates</th>\n      <th>price</th>\n      <th>predicted_price</th>\n    </tr>\n  </thead>\n  <tbody>\n    <tr>\n      <th>2339</th>\n      <td>1</td>\n      <td>75.0</td>\n      <td>78.8</td>\n    </tr>\n    <tr>\n      <th>2116</th>\n      <td>5</td>\n      <td>220.0</td>\n      <td>183.2</td>\n    </tr>\n    <tr>\n      <th>3173</th>\n      <td>5</td>\n      <td>120.0</td>\n      <td>183.2</td>\n    </tr>\n    <tr>\n      <th>1472</th>\n      <td>5</td>\n      <td>199.0</td>\n      <td>183.2</td>\n    </tr>\n    <tr>\n      <th>1829</th>\n      <td>5</td>\n      <td>100.0</td>\n      <td>183.2</td>\n    </tr>\n  </tbody>\n</table>\n</div>"
     },
     "execution_count": 21,
     "metadata": {},
     "output_type": "execute_result"
    }
   ],
   "source": [
    "test_df[['accommodates','price','predicted_price']].head()"
   ],
   "metadata": {
    "collapsed": false,
    "ExecuteTime": {
     "end_time": "2023-10-31T05:48:04.031944Z",
     "start_time": "2023-10-31T05:48:04.020871Z"
    }
   },
   "id": "23e58830194d7396"
  },
  {
   "cell_type": "markdown",
   "source": [
    "## 2. MAE (Mean Absolute Error)"
   ],
   "metadata": {
    "collapsed": false
   },
   "id": "f2098760181ad97a"
  },
  {
   "cell_type": "code",
   "execution_count": 22,
   "outputs": [
    {
     "name": "stderr",
     "output_type": "stream",
     "text": [
      "<ipython-input-22-362a4c856eab>:1: SettingWithCopyWarning: \n",
      "A value is trying to be set on a copy of a slice from a DataFrame.\n",
      "Try using .loc[row_indexer,col_indexer] = value instead\n",
      "\n",
      "See the caveats in the documentation: https://pandas.pydata.org/pandas-docs/stable/user_guide/indexing.html#returning-a-view-versus-a-copy\n",
      "  test_df['error'] = np.absolute(test_df['price']-test_df['predicted_price'])\n"
     ]
    }
   ],
   "source": [
    "test_df['error'] = np.absolute(test_df['price']-test_df['predicted_price'])"
   ],
   "metadata": {
    "collapsed": false,
    "ExecuteTime": {
     "end_time": "2023-10-31T05:51:25.330790Z",
     "start_time": "2023-10-31T05:51:25.319388Z"
    }
   },
   "id": "95d423c2492b4274"
  },
  {
   "cell_type": "code",
   "execution_count": 23,
   "outputs": [
    {
     "name": "stdout",
     "output_type": "stream",
     "text": [
      "99.06680988184749\n"
     ]
    }
   ],
   "source": [
    "mae=test_df['error'].mean()\n",
    "print(mae)"
   ],
   "metadata": {
    "collapsed": false,
    "ExecuteTime": {
     "end_time": "2023-10-31T05:51:54.512655Z",
     "start_time": "2023-10-31T05:51:54.492811Z"
    }
   },
   "id": "144cb15f0eab3354"
  },
  {
   "cell_type": "markdown",
   "source": [
    "## 3. Mean Square Error\n",
    "<img src='images/Snipaste_2023-10-31_14-02-41.jpg' width=75%>"
   ],
   "metadata": {
    "collapsed": false
   },
   "id": "909b15a91f69ada8"
  },
  {
   "cell_type": "code",
   "execution_count": 24,
   "outputs": [
    {
     "name": "stdout",
     "output_type": "stream",
     "text": [
      "45529.13426423201\n"
     ]
    },
    {
     "name": "stderr",
     "output_type": "stream",
     "text": [
      "<ipython-input-24-e20013237a63>:1: SettingWithCopyWarning: \n",
      "A value is trying to be set on a copy of a slice from a DataFrame.\n",
      "Try using .loc[row_indexer,col_indexer] = value instead\n",
      "\n",
      "See the caveats in the documentation: https://pandas.pydata.org/pandas-docs/stable/user_guide/indexing.html#returning-a-view-versus-a-copy\n",
      "  test_df['squared_error']=(test_df['predicted_price']-test_df['price'])**2\n"
     ]
    }
   ],
   "source": [
    "test_df['squared_error']=(test_df['predicted_price']-test_df['price'])**2\n",
    "mse = test_df['squared_error'].mean()\n",
    "print(mse)"
   ],
   "metadata": {
    "collapsed": false,
    "ExecuteTime": {
     "end_time": "2023-10-31T06:08:43.495108Z",
     "start_time": "2023-10-31T06:08:43.470408Z"
    }
   },
   "id": "3b8a2b9360ca3ae7"
  },
  {
   "cell_type": "markdown",
   "source": [
    "## 4. Training another model"
   ],
   "metadata": {
    "collapsed": false
   },
   "id": "7a9bb65a9e6483d4"
  },
  {
   "cell_type": "markdown",
   "source": [
    "With the MSE above, it is difficult to say it is good or bad, we need to train another model for comparision. We compare it with no. of bathroom"
   ],
   "metadata": {
    "collapsed": false
   },
   "id": "b7a79a786efb61f8"
  },
  {
   "cell_type": "code",
   "execution_count": 25,
   "outputs": [],
   "source": [
    "def predict_price(new_listing):\n",
    "    temp_df = dc_listings.copy()\n",
    "    #Note, we compare it with bathroom\n",
    "    temp_df['distance'] = temp_df['bathrooms'].apply(lambda x:np.abs(x-new_listing))\n",
    "    temp_df = temp_df.sort_values('distance')\n",
    "    nearest_neighbors = temp_df.iloc[0:5]['price']\n",
    "    predicted_price = nearest_neighbors.mean()\n",
    "\n",
    "    return predicted_price"
   ],
   "metadata": {
    "collapsed": false,
    "ExecuteTime": {
     "end_time": "2023-10-31T06:16:09.731952Z",
     "start_time": "2023-10-31T06:16:09.691394Z"
    }
   },
   "id": "a512b85ca3390909"
  },
  {
   "cell_type": "code",
   "execution_count": 30,
   "outputs": [
    {
     "name": "stderr",
     "output_type": "stream",
     "text": [
      "<ipython-input-30-4806c104b59c>:1: SettingWithCopyWarning: \n",
      "A value is trying to be set on a copy of a slice from a DataFrame.\n",
      "Try using .loc[row_indexer,col_indexer] = value instead\n",
      "\n",
      "See the caveats in the documentation: https://pandas.pydata.org/pandas-docs/stable/user_guide/indexing.html#returning-a-view-versus-a-copy\n",
      "  test_df['predicted_price'] = test_df['bathrooms'].apply(lambda x: predict_price(x))\n",
      "<ipython-input-30-4806c104b59c>:2: SettingWithCopyWarning: \n",
      "A value is trying to be set on a copy of a slice from a DataFrame.\n",
      "Try using .loc[row_indexer,col_indexer] = value instead\n",
      "\n",
      "See the caveats in the documentation: https://pandas.pydata.org/pandas-docs/stable/user_guide/indexing.html#returning-a-view-versus-a-copy\n",
      "  test_df['squared_error'] = (test_df['predicted_price'] - test_df['price'])**2\n"
     ]
    }
   ],
   "source": [
    "test_df['predicted_price'] = test_df['bathrooms'].apply(lambda x: predict_price(x))\n",
    "test_df['squared_error'] = (test_df['predicted_price'] - test_df['price'])**2\n",
    "mse = test_df['squared_error'].mean()"
   ],
   "metadata": {
    "collapsed": false,
    "ExecuteTime": {
     "end_time": "2023-10-31T06:21:43.098617Z",
     "start_time": "2023-10-31T06:21:39.600139Z"
    }
   },
   "id": "ccd119532698239"
  },
  {
   "cell_type": "code",
   "execution_count": 31,
   "outputs": [
    {
     "data": {
      "text/plain": "38545.93752953813"
     },
     "execution_count": 31,
     "metadata": {},
     "output_type": "execute_result"
    }
   ],
   "source": [
    "mse"
   ],
   "metadata": {
    "collapsed": false,
    "ExecuteTime": {
     "end_time": "2023-10-31T06:21:46.353033Z",
     "start_time": "2023-10-31T06:21:46.335052Z"
    }
   },
   "id": "f472affb75223795"
  },
  {
   "cell_type": "code",
   "execution_count": 33,
   "outputs": [
    {
     "name": "stdout",
     "output_type": "stream",
     "text": [
      "196.33119347046747\n"
     ]
    }
   ],
   "source": [
    "rmse = mse**(.5)\n",
    "print(rmse)"
   ],
   "metadata": {
    "collapsed": false,
    "ExecuteTime": {
     "end_time": "2023-10-31T06:23:38.469511Z",
     "start_time": "2023-10-31T06:23:38.445435Z"
    }
   },
   "id": "7513b802477056a"
  },
  {
   "cell_type": "code",
   "execution_count": null,
   "outputs": [],
   "source": [
    "## 6. Comparing MAE and RMSE"
   ],
   "metadata": {
    "collapsed": false
   },
   "id": "266c3e7a49dec704"
  },
  {
   "cell_type": "code",
   "execution_count": 34,
   "outputs": [
    {
     "name": "stdout",
     "output_type": "stream",
     "text": [
      "7.5\n",
      "7.905694150420948\n",
      "62.5\n",
      "235.82302686548658\n"
     ]
    }
   ],
   "source": [
    "errors_one = pd.Series([5, 10, 5, 10, 5, 10, 5, 10, 5, 10, 5, 10, 5, 10, 5, 10, 5, 10])\n",
    "errors_two = pd.Series([5, 10, 5, 10, 5, 10, 5, 10, 5, 10, 5, 10, 5, 10, 5, 10, 5, 1000])\n",
    "mae_one = errors_one.sum()/len(errors_one)\n",
    "rmse_one = np.sqrt((errors_one**2).sum()/len(errors_one))\n",
    "print(mae_one)\n",
    "print(rmse_one)\n",
    "\n",
    "mae_two = errors_two.sum()/len(errors_two)\n",
    "rmse_two = np.sqrt((errors_two**2).sum()/len(errors_two))\n",
    "print(mae_two)\n",
    "print(rmse_two) "
   ],
   "metadata": {
    "collapsed": false,
    "ExecuteTime": {
     "end_time": "2023-10-31T06:27:46.976701Z",
     "start_time": "2023-10-31T06:27:46.971940Z"
    }
   },
   "id": "9f4dc10cb07a9922"
  },
  {
   "cell_type": "markdown",
   "source": [
    "## Consulsion: RMSE is generally more appearing than that of MAE. So it is better to use MAE"
   ],
   "metadata": {
    "collapsed": false
   },
   "id": "f54c8fd1ca9ae19a"
  },
  {
   "cell_type": "markdown",
   "source": [],
   "metadata": {
    "collapsed": false
   },
   "id": "4be5942e888370ba"
  },
  {
   "cell_type": "markdown",
   "source": [
    "# Part III: Multivariate K-Mean Neighbors\n",
    "## (Feature Selection / Feature Engineering ) "
   ],
   "metadata": {
    "collapsed": false
   },
   "id": "754e6a077f24343"
  },
  {
   "cell_type": "markdown",
   "source": [
    "## There are 2 ways to improve the \"Accuracy\" of the model(i.e. decrease the RMSE of the model)\n",
    "\n",
    "- increase the no. of features (the attributes of the model)\n",
    "- increase the K value"
   ],
   "metadata": {
    "collapsed": false
   },
   "id": "78c4471d95feb135"
  },
  {
   "cell_type": "code",
   "execution_count": 35,
   "outputs": [
    {
     "name": "stdout",
     "output_type": "stream",
     "text": [
      "<class 'pandas.core.frame.DataFrame'>\n",
      "Index: 3723 entries, 574 to 1061\n",
      "Data columns (total 19 columns):\n",
      " #   Column                Non-Null Count  Dtype  \n",
      "---  ------                --------------  -----  \n",
      " 0   host_response_rate    3289 non-null   object \n",
      " 1   host_acceptance_rate  3109 non-null   object \n",
      " 2   host_listings_count   3723 non-null   int64  \n",
      " 3   accommodates          3723 non-null   int64  \n",
      " 4   room_type             3723 non-null   object \n",
      " 5   bedrooms              3702 non-null   float64\n",
      " 6   bathrooms             3696 non-null   float64\n",
      " 7   beds                  3712 non-null   float64\n",
      " 8   price                 3723 non-null   float64\n",
      " 9   cleaning_fee          2335 non-null   object \n",
      " 10  security_deposit      1426 non-null   object \n",
      " 11  minimum_nights        3723 non-null   int64  \n",
      " 12  maximum_nights        3723 non-null   int64  \n",
      " 13  number_of_reviews     3723 non-null   int64  \n",
      " 14  latitude              3723 non-null   float64\n",
      " 15  longitude             3723 non-null   float64\n",
      " 16  city                  3723 non-null   object \n",
      " 17  zipcode               3714 non-null   object \n",
      " 18  state                 3723 non-null   object \n",
      "dtypes: float64(6), int64(5), object(8)\n",
      "memory usage: 581.7+ KB\n",
      "None\n"
     ]
    }
   ],
   "source": [
    "np.random.seed(1)\n",
    "\n",
    "dc_listings = pd.read_csv('dc_airbnb.csv')\n",
    "dc_listings = dc_listings.loc[np.random.permutation(len(dc_listings))]\n",
    "stripped_commas = dc_listings['price'].str.replace(',', '')\n",
    "stripped_dollars = stripped_commas.str.replace('$', '')\n",
    "dc_listings['price'] = stripped_dollars.astype('float')\n",
    "print(dc_listings.info())\n"
   ],
   "metadata": {
    "collapsed": false,
    "ExecuteTime": {
     "end_time": "2023-10-31T06:51:07.899223Z",
     "start_time": "2023-10-31T06:51:07.802531Z"
    }
   },
   "id": "4c913e4f35e998b4"
  },
  {
   "cell_type": "code",
   "execution_count": 36,
   "outputs": [
    {
     "name": "stdout",
     "output_type": "stream",
     "text": [
      "accommodates            0\n",
      "bedrooms               21\n",
      "bathrooms              27\n",
      "beds                   11\n",
      "price                   0\n",
      "cleaning_fee         1388\n",
      "security_deposit     2297\n",
      "minimum_nights          0\n",
      "maximum_nights          0\n",
      "number_of_reviews       0\n",
      "dtype: int64\n"
     ]
    }
   ],
   "source": [
    "drop_columns = ['room_type', 'city', 'state', 'latitude', 'longitude', 'zipcode', 'host_response_rate', 'host_acceptance_rate', 'host_listings_count']\n",
    "dc_listings = dc_listings.drop(drop_columns, axis=1)\n",
    "print(dc_listings.isnull().sum())\n"
   ],
   "metadata": {
    "collapsed": false,
    "ExecuteTime": {
     "end_time": "2023-10-31T06:54:37.407976Z",
     "start_time": "2023-10-31T06:54:37.389241Z"
    }
   },
   "id": "67fe3faf668c48d3"
  },
  {
   "cell_type": "code",
   "execution_count": 39,
   "outputs": [],
   "source": [
    "# The 2 columns cleaning_fee and security_deposit got too many missing v\n",
    "dc_listings = dc_listings.drop(['cleaning_fee','security_deposit'], axis = 1)"
   ],
   "metadata": {
    "collapsed": false,
    "ExecuteTime": {
     "end_time": "2023-10-31T07:00:50.103285Z",
     "start_time": "2023-10-31T07:00:50.083894Z"
    }
   },
   "id": "4cd3caffa65539e5"
  },
  {
   "cell_type": "code",
   "execution_count": 41,
   "outputs": [],
   "source": [
    "# this will delete all the rows with missing values\n",
    "dc_listings = dc_listings.dropna(axis=0)\n"
   ],
   "metadata": {
    "collapsed": false,
    "ExecuteTime": {
     "end_time": "2023-10-31T07:01:36.665349Z",
     "start_time": "2023-10-31T07:01:36.644080Z"
    }
   },
   "id": "43e779b606c8b8ff"
  },
  {
   "cell_type": "code",
   "execution_count": 42,
   "outputs": [
    {
     "name": "stdout",
     "output_type": "stream",
     "text": [
      "accommodates         0\n",
      "bedrooms             0\n",
      "bathrooms            0\n",
      "beds                 0\n",
      "price                0\n",
      "minimum_nights       0\n",
      "maximum_nights       0\n",
      "number_of_reviews    0\n",
      "dtype: int64\n"
     ]
    }
   ],
   "source": [
    "print(dc_listings.isnull().sum())"
   ],
   "metadata": {
    "collapsed": false,
    "ExecuteTime": {
     "end_time": "2023-10-31T07:01:46.807431Z",
     "start_time": "2023-10-31T07:01:46.778065Z"
    }
   },
   "id": "a61fec074b8b579d"
  },
  {
   "cell_type": "markdown",
   "source": [
    "## ~~~~~~~~~~~~~~~~~~~~~~~~~~~~~~~~~\n",
    "## Draft section "
   ],
   "metadata": {
    "collapsed": false
   },
   "id": "ab4a9ebb32bebc6d"
  },
  {
   "cell_type": "code",
   "execution_count": 16,
   "outputs": [
    {
     "data": {
      "text/plain": "     host_response_rate host_acceptance_rate  host_listings_count   \n577                 98%                  52%                   49  \\\n2166               100%                  89%                    2   \n3631                98%                  52%                   49   \n71                 100%                  94%                    1   \n1011                NaN                  NaN                    1   \n\n      accommodates        room_type  bedrooms  bathrooms  beds  price   \n577              3     Private room       1.0        1.0   2.0  185.0  \\\n2166             3  Entire home/apt       1.0        1.0   1.0  180.0   \n3631             3  Entire home/apt       1.0        1.0   2.0  175.0   \n71               3  Entire home/apt       1.0        1.0   1.0  128.0   \n1011             3  Entire home/apt       0.0        1.0   1.0  115.0   \n\n     cleaning_fee security_deposit  minimum_nights  maximum_nights   \n577           NaN              NaN               2              14  \\\n2166          NaN          $100.00               1              14   \n3631          NaN              NaN               3              14   \n71         $40.00              NaN               1            1125   \n1011          NaN              NaN               1            1125   \n\n      number_of_reviews   latitude  longitude        city zipcode state   \n577                   1  38.908356 -77.028146  Washington   20005    DC  \\\n2166                 10  38.905808 -77.000012  Washington   20002    DC   \n3631                  1  38.889065 -76.993576  Washington   20003    DC   \n71                    9  38.879960 -77.006491  Washington   20003    DC   \n1011                  0  38.907382 -77.035075  Washington   20005    DC   \n\n      distance  \n577          0  \n2166         0  \n3631         0  \n71           0  \n1011         0  ",
      "text/html": "<div>\n<style scoped>\n    .dataframe tbody tr th:only-of-type {\n        vertical-align: middle;\n    }\n\n    .dataframe tbody tr th {\n        vertical-align: top;\n    }\n\n    .dataframe thead th {\n        text-align: right;\n    }\n</style>\n<table border=\"1\" class=\"dataframe\">\n  <thead>\n    <tr style=\"text-align: right;\">\n      <th></th>\n      <th>host_response_rate</th>\n      <th>host_acceptance_rate</th>\n      <th>host_listings_count</th>\n      <th>accommodates</th>\n      <th>room_type</th>\n      <th>bedrooms</th>\n      <th>bathrooms</th>\n      <th>beds</th>\n      <th>price</th>\n      <th>cleaning_fee</th>\n      <th>security_deposit</th>\n      <th>minimum_nights</th>\n      <th>maximum_nights</th>\n      <th>number_of_reviews</th>\n      <th>latitude</th>\n      <th>longitude</th>\n      <th>city</th>\n      <th>zipcode</th>\n      <th>state</th>\n      <th>distance</th>\n    </tr>\n  </thead>\n  <tbody>\n    <tr>\n      <th>577</th>\n      <td>98%</td>\n      <td>52%</td>\n      <td>49</td>\n      <td>3</td>\n      <td>Private room</td>\n      <td>1.0</td>\n      <td>1.0</td>\n      <td>2.0</td>\n      <td>185.0</td>\n      <td>NaN</td>\n      <td>NaN</td>\n      <td>2</td>\n      <td>14</td>\n      <td>1</td>\n      <td>38.908356</td>\n      <td>-77.028146</td>\n      <td>Washington</td>\n      <td>20005</td>\n      <td>DC</td>\n      <td>0</td>\n    </tr>\n    <tr>\n      <th>2166</th>\n      <td>100%</td>\n      <td>89%</td>\n      <td>2</td>\n      <td>3</td>\n      <td>Entire home/apt</td>\n      <td>1.0</td>\n      <td>1.0</td>\n      <td>1.0</td>\n      <td>180.0</td>\n      <td>NaN</td>\n      <td>$100.00</td>\n      <td>1</td>\n      <td>14</td>\n      <td>10</td>\n      <td>38.905808</td>\n      <td>-77.000012</td>\n      <td>Washington</td>\n      <td>20002</td>\n      <td>DC</td>\n      <td>0</td>\n    </tr>\n    <tr>\n      <th>3631</th>\n      <td>98%</td>\n      <td>52%</td>\n      <td>49</td>\n      <td>3</td>\n      <td>Entire home/apt</td>\n      <td>1.0</td>\n      <td>1.0</td>\n      <td>2.0</td>\n      <td>175.0</td>\n      <td>NaN</td>\n      <td>NaN</td>\n      <td>3</td>\n      <td>14</td>\n      <td>1</td>\n      <td>38.889065</td>\n      <td>-76.993576</td>\n      <td>Washington</td>\n      <td>20003</td>\n      <td>DC</td>\n      <td>0</td>\n    </tr>\n    <tr>\n      <th>71</th>\n      <td>100%</td>\n      <td>94%</td>\n      <td>1</td>\n      <td>3</td>\n      <td>Entire home/apt</td>\n      <td>1.0</td>\n      <td>1.0</td>\n      <td>1.0</td>\n      <td>128.0</td>\n      <td>$40.00</td>\n      <td>NaN</td>\n      <td>1</td>\n      <td>1125</td>\n      <td>9</td>\n      <td>38.879960</td>\n      <td>-77.006491</td>\n      <td>Washington</td>\n      <td>20003</td>\n      <td>DC</td>\n      <td>0</td>\n    </tr>\n    <tr>\n      <th>1011</th>\n      <td>NaN</td>\n      <td>NaN</td>\n      <td>1</td>\n      <td>3</td>\n      <td>Entire home/apt</td>\n      <td>0.0</td>\n      <td>1.0</td>\n      <td>1.0</td>\n      <td>115.0</td>\n      <td>NaN</td>\n      <td>NaN</td>\n      <td>1</td>\n      <td>1125</td>\n      <td>0</td>\n      <td>38.907382</td>\n      <td>-77.035075</td>\n      <td>Washington</td>\n      <td>20005</td>\n      <td>DC</td>\n      <td>0</td>\n    </tr>\n  </tbody>\n</table>\n</div>"
     },
     "execution_count": 16,
     "metadata": {},
     "output_type": "execute_result"
    }
   ],
   "source": [
    "dc_listings.head()\n"
   ],
   "metadata": {
    "collapsed": false,
    "ExecuteTime": {
     "end_time": "2023-10-31T05:45:28.553828Z",
     "start_time": "2023-10-31T05:45:28.533578Z"
    }
   },
   "id": "e16f102a7b42ae74"
  },
  {
   "cell_type": "markdown",
   "source": [
    "## 4. Normalize columns\n",
    "\n",
    "<img src='images/2.jpg' width=75%>\n",
    "\n"
   ],
   "metadata": {
    "collapsed": false
   },
   "id": "31a1ce27fe063de0"
  },
  {
   "cell_type": "code",
   "execution_count": 44,
   "outputs": [],
   "source": [
    "# We transform all the columns in the dc_listings dataframe to normalized_listings:\n",
    "normalized_listings = (dc_listings - dc_listings.mean())/(dc_listings.std())"
   ],
   "metadata": {
    "collapsed": false,
    "ExecuteTime": {
     "end_time": "2023-10-31T07:16:55.213025Z",
     "start_time": "2023-10-31T07:16:55.171769Z"
    }
   },
   "id": "da61d538073c9379"
  },
  {
   "cell_type": "code",
   "execution_count": 62,
   "outputs": [
    {
     "data": {
      "text/plain": "      accommodates  bedrooms  bathrooms      beds     price  minimum_nights   \n574      -0.596544 -0.249467  -0.439151 -0.546858 -0.173345       -0.341375  \\\n1593     -0.596544 -0.249467   0.412923 -0.546858 -0.464148       -0.341375   \n3091     -1.095499 -0.249467  -1.291226 -0.546858 -0.718601       -0.341375   \n420      -0.596544 -0.249467  -0.439151 -0.546858  0.437342        0.487635   \n808       4.393004  4.507903   1.264998  2.829956  0.480962       -0.065038   \n...            ...       ...        ...       ...       ...             ...   \n2763     -1.095499 -1.438810  -0.439151 -0.546858 -0.536849        0.487635   \n905      -1.095499 -1.438810  -0.439151 -0.546858 -0.391448        0.763971   \n1096     -0.596544 -0.249467  -2.143301 -0.546858 -0.355097       -0.341375   \n235       2.397185  0.939875  -0.439151  1.985752  0.328290       -0.341375   \n1061      1.399275 -0.249467   2.117072  3.674159 -0.820382       -0.065038   \n\n      maximum_nights  number_of_reviews  \n574        -0.016604           4.579650  \n1593       -0.016603           1.159275  \n3091       -0.016573          -0.482505  \n420        -0.016584          -0.448301  \n808        -0.016553           0.646219  \n...              ...                ...  \n2763       -0.016604          -0.482505  \n905        -0.016573          -0.516709  \n1096       -0.016573          -0.003652  \n235        -0.016573          -0.243079  \n1061       -0.016603          -0.277282  \n\n[3671 rows x 8 columns]",
      "text/html": "<div>\n<style scoped>\n    .dataframe tbody tr th:only-of-type {\n        vertical-align: middle;\n    }\n\n    .dataframe tbody tr th {\n        vertical-align: top;\n    }\n\n    .dataframe thead th {\n        text-align: right;\n    }\n</style>\n<table border=\"1\" class=\"dataframe\">\n  <thead>\n    <tr style=\"text-align: right;\">\n      <th></th>\n      <th>accommodates</th>\n      <th>bedrooms</th>\n      <th>bathrooms</th>\n      <th>beds</th>\n      <th>price</th>\n      <th>minimum_nights</th>\n      <th>maximum_nights</th>\n      <th>number_of_reviews</th>\n    </tr>\n  </thead>\n  <tbody>\n    <tr>\n      <th>574</th>\n      <td>-0.596544</td>\n      <td>-0.249467</td>\n      <td>-0.439151</td>\n      <td>-0.546858</td>\n      <td>-0.173345</td>\n      <td>-0.341375</td>\n      <td>-0.016604</td>\n      <td>4.579650</td>\n    </tr>\n    <tr>\n      <th>1593</th>\n      <td>-0.596544</td>\n      <td>-0.249467</td>\n      <td>0.412923</td>\n      <td>-0.546858</td>\n      <td>-0.464148</td>\n      <td>-0.341375</td>\n      <td>-0.016603</td>\n      <td>1.159275</td>\n    </tr>\n    <tr>\n      <th>3091</th>\n      <td>-1.095499</td>\n      <td>-0.249467</td>\n      <td>-1.291226</td>\n      <td>-0.546858</td>\n      <td>-0.718601</td>\n      <td>-0.341375</td>\n      <td>-0.016573</td>\n      <td>-0.482505</td>\n    </tr>\n    <tr>\n      <th>420</th>\n      <td>-0.596544</td>\n      <td>-0.249467</td>\n      <td>-0.439151</td>\n      <td>-0.546858</td>\n      <td>0.437342</td>\n      <td>0.487635</td>\n      <td>-0.016584</td>\n      <td>-0.448301</td>\n    </tr>\n    <tr>\n      <th>808</th>\n      <td>4.393004</td>\n      <td>4.507903</td>\n      <td>1.264998</td>\n      <td>2.829956</td>\n      <td>0.480962</td>\n      <td>-0.065038</td>\n      <td>-0.016553</td>\n      <td>0.646219</td>\n    </tr>\n    <tr>\n      <th>...</th>\n      <td>...</td>\n      <td>...</td>\n      <td>...</td>\n      <td>...</td>\n      <td>...</td>\n      <td>...</td>\n      <td>...</td>\n      <td>...</td>\n    </tr>\n    <tr>\n      <th>2763</th>\n      <td>-1.095499</td>\n      <td>-1.438810</td>\n      <td>-0.439151</td>\n      <td>-0.546858</td>\n      <td>-0.536849</td>\n      <td>0.487635</td>\n      <td>-0.016604</td>\n      <td>-0.482505</td>\n    </tr>\n    <tr>\n      <th>905</th>\n      <td>-1.095499</td>\n      <td>-1.438810</td>\n      <td>-0.439151</td>\n      <td>-0.546858</td>\n      <td>-0.391448</td>\n      <td>0.763971</td>\n      <td>-0.016573</td>\n      <td>-0.516709</td>\n    </tr>\n    <tr>\n      <th>1096</th>\n      <td>-0.596544</td>\n      <td>-0.249467</td>\n      <td>-2.143301</td>\n      <td>-0.546858</td>\n      <td>-0.355097</td>\n      <td>-0.341375</td>\n      <td>-0.016573</td>\n      <td>-0.003652</td>\n    </tr>\n    <tr>\n      <th>235</th>\n      <td>2.397185</td>\n      <td>0.939875</td>\n      <td>-0.439151</td>\n      <td>1.985752</td>\n      <td>0.328290</td>\n      <td>-0.341375</td>\n      <td>-0.016573</td>\n      <td>-0.243079</td>\n    </tr>\n    <tr>\n      <th>1061</th>\n      <td>1.399275</td>\n      <td>-0.249467</td>\n      <td>2.117072</td>\n      <td>3.674159</td>\n      <td>-0.820382</td>\n      <td>-0.065038</td>\n      <td>-0.016603</td>\n      <td>-0.277282</td>\n    </tr>\n  </tbody>\n</table>\n<p>3671 rows × 8 columns</p>\n</div>"
     },
     "execution_count": 62,
     "metadata": {},
     "output_type": "execute_result"
    }
   ],
   "source": [
    "normalized_listings"
   ],
   "metadata": {
    "collapsed": false,
    "ExecuteTime": {
     "end_time": "2023-10-31T07:24:54.492817Z",
     "start_time": "2023-10-31T07:24:54.456249Z"
    }
   },
   "id": "bd80426291439f94"
  },
  {
   "cell_type": "code",
   "execution_count": 63,
   "outputs": [],
   "source": [
    "# Resume the price from dc_listings\n",
    "normalized_listings['price']=dc_listings['price']"
   ],
   "metadata": {
    "collapsed": false,
    "ExecuteTime": {
     "end_time": "2023-10-31T07:26:14.731085Z",
     "start_time": "2023-10-31T07:26:14.701258Z"
    }
   },
   "id": "663eadfc55e0aa6c"
  },
  {
   "cell_type": "code",
   "execution_count": null,
   "outputs": [],
   "source": [],
   "metadata": {
    "collapsed": false
   },
   "id": "39c82a3bdbf766f9"
  },
  {
   "cell_type": "markdown",
   "source": [
    "## 6. Introduction to Scikit-learn\n",
    "## (A more quick and efficient way to cal. the distance)\n",
    "\n",
    "## Steps of Scikit-learn workflow:\n",
    "1. instantiate the machine learning model \n",
    "2. fit the model to Traning data\n",
    "3. use the model to predict\n",
    "4. evaluate the accuracy \n"
   ],
   "metadata": {
    "collapsed": false
   },
   "id": "d18db69bed523346"
  },
  {
   "cell_type": "code",
   "execution_count": 75,
   "outputs": [
    {
     "name": "stdout",
     "output_type": "stream",
     "text": [
      "122.8498229500651\n"
     ]
    }
   ],
   "source": [
    "train_df = normalized_listings.iloc[0:2792]\n",
    "test_df = normalized_listings.iloc[2792:]\n",
    "train_columns = ['accommodates','bathrooms']\n",
    "\n",
    "# Step 1:\n",
    "from sklearn.neighbors import KNeighborsRegressor\n",
    "from sklearn.metrics import mean_squared_error\n",
    "\n",
    "knn = KNeighborsRegressor(algorithm='brute', n_neighbors=5, metric = 'euclidean')\n",
    "\n",
    "# Step 2:\n",
    "knn.fit(train_df[train_columns],train_df['price'])\n",
    "\n",
    "# Step 3:\n",
    "predictions = knn.predict(test_df[train_columns])\n",
    "\n",
    "# Step 4:\n",
    "two_features_rmse = (mean_squared_error(test_df['price'],predictions))**(1/2)\n",
    "\n",
    "print(two_features_rmse)"
   ],
   "metadata": {
    "collapsed": false,
    "ExecuteTime": {
     "end_time": "2023-10-31T08:29:29.377545Z",
     "start_time": "2023-10-31T08:29:29.316453Z"
    }
   },
   "id": "cdeb45f87201059"
  },
  {
   "cell_type": "markdown",
   "source": [
    "Note. brute is only of 3 algorithm, ( ball_tree and kb_tree) . 'brute' calculate all points in the dataset. It is simple, but computationally expensive when the dataset is large. other 2 algorithm might be more efficient when the dataset is large."
   ],
   "metadata": {
    "collapsed": false
   },
   "id": "f8ceb15a9b57d007"
  },
  {
   "cell_type": "code",
   "execution_count": null,
   "outputs": [],
   "source": [],
   "metadata": {
    "collapsed": false
   },
   "id": "ce4b8f380f86c82d"
  },
  {
   "cell_type": "markdown",
   "source": [
    "## 9. USE more features "
   ],
   "metadata": {
    "collapsed": false
   },
   "id": "8860d5719fb29a84"
  },
  {
   "cell_type": "code",
   "execution_count": 74,
   "outputs": [
    {
     "name": "stdout",
     "output_type": "stream",
     "text": [
      "13869.329692832765\n",
      "117.76811832084593\n"
     ]
    }
   ],
   "source": [
    "features = ['accommodates', 'bedrooms', 'bathrooms', 'number_of_reviews']\n",
    "from sklearn.neighbors import KNeighborsRegressor\n",
    "knn = KNeighborsRegressor(n_neighbors=5, algorithm='brute')\n",
    "knn.fit(train_df[features], train_df['price'])\n",
    "four_predictions = knn.predict(test_df[features])\n",
    "four_mse = mean_squared_error(test_df['price'], four_predictions)\n",
    "four_rmse = four_mse ** (1/2)\n",
    "print(four_mse)\n",
    "print(four_rmse)\n"
   ],
   "metadata": {
    "collapsed": false,
    "ExecuteTime": {
     "end_time": "2023-10-31T08:25:08.949926Z",
     "start_time": "2023-10-31T08:25:08.884499Z"
    }
   },
   "id": "5812e9b473f45b12"
  },
  {
   "cell_type": "code",
   "execution_count": 76,
   "outputs": [],
   "source": [
    "# So using 4 features is doing better than using 2"
   ],
   "metadata": {
    "collapsed": false,
    "ExecuteTime": {
     "end_time": "2023-10-31T08:30:00.909268Z",
     "start_time": "2023-10-31T08:30:00.871657Z"
    }
   },
   "id": "da40c34c3ae68cb"
  },
  {
   "cell_type": "markdown",
   "source": [],
   "metadata": {
    "collapsed": false
   },
   "id": "fe2e66970f4b3a10"
  },
  {
   "cell_type": "markdown",
   "source": [
    "## 10. Using all features"
   ],
   "metadata": {
    "collapsed": false
   },
   "id": "6d719231978dfec1"
  },
  {
   "cell_type": "code",
   "execution_count": 77,
   "outputs": [
    {
     "name": "stdout",
     "output_type": "stream",
     "text": [
      "15442.164095563137\n",
      "124.26650431859399\n"
     ]
    }
   ],
   "source": [
    "knn = KNeighborsRegressor(n_neighbors=5, algorithm='brute')\n",
    "\n",
    "features = train_df.columns.tolist()\n",
    "features.remove('price')\n",
    "\n",
    "knn.fit(train_df[features], train_df['price'])\n",
    "all_features_predictions = knn.predict(test_df[features])\n",
    "all_features_mse = mean_squared_error(test_df['price'], all_features_predictions)\n",
    "all_features_rmse = all_features_mse ** (1/2)\n",
    "print(all_features_mse)\n",
    "print(all_features_rmse)\n"
   ],
   "metadata": {
    "collapsed": false,
    "ExecuteTime": {
     "end_time": "2023-10-31T08:32:22.179202Z",
     "start_time": "2023-10-31T08:32:22.110780Z"
    }
   },
   "id": "27da6519dc3b9364"
  },
  {
   "cell_type": "code",
   "execution_count": null,
   "outputs": [],
   "source": [
    "# It is worse than using 4 features. "
   ],
   "metadata": {
    "collapsed": false
   },
   "id": "2de9c4e8c21aaae4"
  },
  {
   "cell_type": "code",
   "execution_count": null,
   "outputs": [],
   "source": [],
   "metadata": {
    "collapsed": false
   },
   "id": "6868ea875339bf0c"
  },
  {
   "cell_type": "code",
   "execution_count": null,
   "outputs": [],
   "source": [],
   "metadata": {
    "collapsed": false
   },
   "id": "80293e917b6a1f97"
  },
  {
   "cell_type": "markdown",
   "source": [
    "# Part IV: Hyberparameter Optimization \n",
    "## Increasing K value (the nubmer of nearby neighbors)\n"
   ],
   "metadata": {
    "collapsed": false
   },
   "id": "acbab1ab49620515"
  },
  {
   "cell_type": "code",
   "execution_count": 4,
   "outputs": [],
   "source": [
    "import pandas as pd\n"
   ],
   "metadata": {
    "collapsed": false,
    "ExecuteTime": {
     "end_time": "2023-10-31T11:06:22.221482Z",
     "start_time": "2023-10-31T11:06:21.863559Z"
    }
   },
   "id": "3f9ae456b14e66b5"
  },
  {
   "cell_type": "code",
   "execution_count": 5,
   "outputs": [],
   "source": [
    "train_df = pd.read_csv('dc_airbnb_train.csv')\n",
    "test_df = pd.read_csv('dc_airbnb_test.csv')"
   ],
   "metadata": {
    "collapsed": false,
    "ExecuteTime": {
     "end_time": "2023-10-31T11:06:22.343141Z",
     "start_time": "2023-10-31T11:06:22.282576Z"
    }
   },
   "id": "6232b3a2fa55e0fe"
  },
  {
   "cell_type": "markdown",
   "source": [
    "## 2. Hyperparameter Optimization \n",
    "* Hyperparameter = values that affected the performance of the model that are unrelated to the data itself is called this name!\n",
    "\n",
    "### Grib Search: A simple but common hyperparameter optimization technique \n",
    "\t• selecting a subset of the possible hyperparameter values,\n",
    "\t• training a model using each of these hyperparameter values,\n",
    "\t• evaluating each model's performance,\n",
    "\t• selecting the hyperparameter value that resulted in the lowest error value."
   ],
   "metadata": {
    "collapsed": false
   },
   "id": "7f1eb73387e20be6"
  },
  {
   "cell_type": "code",
   "execution_count": 6,
   "outputs": [
    {
     "name": "stdout",
     "output_type": "stream",
     "text": [
      "[26383.573378839592, 15141.584755403868, 14668.555302743012, 16350.487272468714, 14531.693014789536]\n"
     ]
    }
   ],
   "source": [
    "from sklearn.neighbors import KNeighborsRegressor\n",
    "from sklearn.metrics import mean_squared_error\n",
    "features = ['accommodates', 'bedrooms', 'bathrooms', 'number_of_reviews']\n",
    "hyper_params = [1, 2, 3, 4, 5]\n",
    "mse_values = list()\n",
    "\n",
    "for hp in hyper_params:\n",
    "    knn = KNeighborsRegressor(n_neighbors=hp, algorithm='brute')\n",
    "    knn.fit(train_df[features], train_df['price'])\n",
    "    predictions = knn.predict(test_df[features])\n",
    "    mse = mean_squared_error(test_df['price'], predictions)\n",
    "    mse_values.append(mse)\n",
    "\n",
    "print(mse_values)"
   ],
   "metadata": {
    "collapsed": false,
    "ExecuteTime": {
     "end_time": "2023-10-31T11:06:26.209862Z",
     "start_time": "2023-10-31T11:06:26.054902Z"
    }
   },
   "id": "779614c30a38e91c"
  },
  {
   "cell_type": "code",
   "execution_count": null,
   "outputs": [],
   "source": [
    "# Let expanding the k to 20"
   ],
   "metadata": {
    "collapsed": false
   },
   "id": "415b99af5ae5c32"
  },
  {
   "cell_type": "code",
   "execution_count": 14,
   "outputs": [],
   "source": [
    "hyper_params_20 = list(range(1,21))"
   ],
   "metadata": {
    "collapsed": false,
    "ExecuteTime": {
     "end_time": "2023-10-31T11:15:11.971675Z",
     "start_time": "2023-10-31T11:15:11.932987Z"
    }
   },
   "id": "3770b23be4fe63a9"
  },
  {
   "cell_type": "code",
   "execution_count": 15,
   "outputs": [
    {
     "name": "stdout",
     "output_type": "stream",
     "text": [
      "[26383.573378839592, 15141.584755403868, 14668.555302743012, 16350.487272468714, 14531.693014789536, 26383.573378839592, 15141.584755403868, 14668.555302743012, 16350.487272468714, 14531.693014789536, 26383.573378839592, 15141.584755403868, 14668.555302743012, 16350.487272468714, 14531.693014789536, 13697.154689672607, 14183.521069861394, 14674.857241894199, 14462.384331240606, 14421.484914675768, 14669.733496930206, 14722.459502591326, 14699.976614092131, 14754.135218592555, 14728.898515990393, 14869.765336141923, 14851.623935661393, 14801.00862722791, 14843.408166545336, 14723.310702502844]\n"
     ]
    }
   ],
   "source": [
    "for hp in hyper_params_20:\n",
    "    knn = KNeighborsRegressor(n_neighbors=hp, algorithm='brute')\n",
    "    knn.fit(train_df[features], train_df['price'])\n",
    "    predictions = knn.predict(test_df[features])\n",
    "    mse = mean_squared_error(test_df['price'], predictions)\n",
    "    mse_values.append(mse)\n",
    "\n",
    "print(mse_values)"
   ],
   "metadata": {
    "collapsed": false,
    "ExecuteTime": {
     "end_time": "2023-10-31T11:15:14.118395Z",
     "start_time": "2023-10-31T11:15:13.471544Z"
    }
   },
   "id": "302a137bbfdd74ab"
  },
  {
   "cell_type": "code",
   "execution_count": 18,
   "outputs": [
    {
     "data": {
      "text/plain": "<Figure size 432x288 with 1 Axes>",
      "image/png": "[encoded data removed]"
     },
     "metadata": {
      "needs_background": "light"
     },
     "output_type": "display_data"
    }
   ],
   "source": [
    "import matplotlib.pyplot as plt\n",
    "x_values = range(len(mse_values))\n",
    "\n",
    "plt.plot(x_values, mse_values)\n",
    "plt.title('Mean Squared Error')\n",
    "plt.xlabel('Index')\n",
    "plt.ylabel('mse_values')\n",
    "plt.show()"
   ],
   "metadata": {
    "collapsed": false,
    "ExecuteTime": {
     "end_time": "2023-10-31T11:18:14.692515Z",
     "start_time": "2023-10-31T11:18:14.591978Z"
    }
   },
   "id": "f9736cd2992a11f4"
  },
  {
   "cell_type": "code",
   "execution_count": 20,
   "outputs": [
    {
     "data": {
      "text/plain": "13697.154689672607"
     },
     "execution_count": 20,
     "metadata": {},
     "output_type": "execute_result"
    }
   ],
   "source": [
    "min(mse_values)"
   ],
   "metadata": {
    "collapsed": false,
    "ExecuteTime": {
     "end_time": "2023-10-31T11:21:25.880448Z",
     "start_time": "2023-10-31T11:21:25.842038Z"
    }
   },
   "id": "e9c3b63d213c631a"
  },
  {
   "cell_type": "markdown",
   "source": [
    "## 6.Practice the workflow (using more features)"
   ],
   "metadata": {
    "collapsed": false
   },
   "id": "4262508eb0254880"
  },
  {
   "cell_type": "code",
   "execution_count": 21,
   "outputs": [
    {
     "name": "stdout",
     "output_type": "stream",
     "text": [
      "{5: 15219.375199089876}\n",
      "{5: 13441.077224118315}\n"
     ]
    }
   ],
   "source": [
    "two_features = ['accommodates', 'bathrooms']\n",
    "three_features = ['accommodates', 'bathrooms', 'bedrooms']\n",
    "hyper_params = [x for x in range(1,21)]\n",
    "# Append the first model's MSE values to this list.\n",
    "two_mse_values = list()\n",
    "# Append the second model's MSE values to this list.\n",
    "three_mse_values = list()\n",
    "two_hyp_mse = dict()\n",
    "three_hyp_mse = dict()\n",
    "for hp in hyper_params:\n",
    "    knn = KNeighborsRegressor(n_neighbors=hp, algorithm='brute')\n",
    "    knn.fit(train_df[two_features], train_df['price'])\n",
    "    predictions = knn.predict(test_df[two_features])\n",
    "    mse = mean_squared_error(test_df['price'], predictions)\n",
    "    two_mse_values.append(mse)\n",
    "\n",
    "two_lowest_mse = two_mse_values[0]\n",
    "two_lowest_k = 1\n",
    "\n",
    "for k,mse in enumerate(two_mse_values):\n",
    "    if mse < two_lowest_mse:\n",
    "        two_lowest_mse = mse\n",
    "        two_lowest_k = k + 1\n",
    "\n",
    "for hp in hyper_params:\n",
    "    knn = KNeighborsRegressor(n_neighbors=hp, algorithm='brute')\n",
    "    knn.fit(train_df[three_features], train_df['price'])\n",
    "    predictions = knn.predict(test_df[three_features])\n",
    "    mse = mean_squared_error(test_df['price'], predictions)\n",
    "    three_mse_values.append(mse)\n",
    "\n",
    "three_lowest_mse = three_mse_values[0]\n",
    "three_lowest_k = 1\n",
    "\n",
    "for k,mse in enumerate(three_mse_values):\n",
    "    if mse < three_lowest_mse:\n",
    "        three_lowest_mse = mse\n",
    "        three_lowest_k = k + 1\n",
    "\n",
    "two_hyp_mse[two_lowest_k] = two_lowest_mse\n",
    "three_hyp_mse[three_lowest_k] = three_lowest_mse\n",
    "\n",
    "print(two_hyp_mse)\n",
    "print(three_hyp_mse)"
   ],
   "metadata": {
    "collapsed": false,
    "ExecuteTime": {
     "end_time": "2023-10-31T11:25:13.037307Z",
     "start_time": "2023-10-31T11:25:12.078219Z"
    }
   },
   "id": "58b51c0107e659a8"
  },
  {
   "cell_type": "code",
   "execution_count": null,
   "outputs": [],
   "source": [],
   "metadata": {
    "collapsed": false
   },
   "id": "19e901a82c48a21e"
  },
  {
   "cell_type": "markdown",
   "source": [
    "# Part V: Cross Validation (holdout validation)"
   ],
   "metadata": {
    "collapsed": false
   },
   "id": "dc6a567f85d2a1b"
  },
  {
   "cell_type": "code",
   "execution_count": 24,
   "outputs": [],
   "source": [
    "import numpy as np\n",
    "import pandas as pd\n",
    "dc_listings = pd.read_csv(\"dc_airbnb.csv\")\n",
    "stripped_commas = dc_listings['price'].str.replace(',', '')\n",
    "stripped_dollars = stripped_commas.str.replace('$', '')\n",
    "dc_listings['price'] = stripped_dollars.astype('float')\n",
    "shuffled_index = np.random.permutation(dc_listings.index)\n",
    "dc_listings = dc_listings.reindex(shuffled_index)\n",
    "split_one = dc_listings.iloc[0:1862].copy()\n",
    "split_two = dc_listings.iloc[1862:].copy()"
   ],
   "metadata": {
    "collapsed": false,
    "ExecuteTime": {
     "end_time": "2023-10-31T13:48:25.702530Z",
     "start_time": "2023-10-31T13:48:25.631403Z"
    }
   },
   "id": "4fc2e7a4befbd84b"
  },
  {
   "cell_type": "code",
   "execution_count": null,
   "outputs": [],
   "source": [],
   "metadata": {
    "collapsed": false
   },
   "id": "3a212d235eab604a"
  },
  {
   "cell_type": "code",
   "execution_count": 31,
   "outputs": [
    {
     "name": "stdout",
     "output_type": "stream",
     "text": [
      "136.79629996473165 117.32117603341973 127.05873799907569\n"
     ]
    }
   ],
   "source": [
    "from sklearn.neighbors import KNeighborsRegressor\n",
    "from sklearn.metrics import mean_squared_error\n",
    "train_one = split_one\n",
    "test_one = split_two\n",
    "train_two = split_two\n",
    "test_two = split_one\n",
    "# First half\n",
    "model = KNeighborsRegressor()\n",
    "model.fit(train_one[[\"accommodates\"]], train_one[\"price\"])\n",
    "test_one[\"predicted_price\"] = model.predict(test_one[[\"accommodates\"]])\n",
    "iteration_one_rmse = mean_squared_error(test_one[\"price\"], test_one[\"predicted_price\"])**(1/2)\n",
    "\n",
    "# Second half\n",
    "model.fit(train_two[[\"accommodates\"]], train_two[\"price\"])\n",
    "test_two[\"predicted_price\"] = model.predict(test_two[[\"accommodates\"]])\n",
    "iteration_two_rmse = mean_squared_error(test_two[\"price\"], test_two[\"predicted_price\"])**(1/2)\n",
    "avg_rmse = np.mean([iteration_two_rmse, iteration_one_rmse])\n",
    "print(iteration_one_rmse, iteration_two_rmse, avg_rmse)"
   ],
   "metadata": {
    "collapsed": false,
    "ExecuteTime": {
     "end_time": "2023-10-31T14:00:13.833399Z",
     "start_time": "2023-10-31T14:00:13.760293Z"
    }
   },
   "id": "28f1bec82f3003f2"
  },
  {
   "cell_type": "markdown",
   "source": [
    "## 3. K-Fold Cross Validation \n",
    "<img src='images/4.jpg' width=950>"
   ],
   "metadata": {
    "collapsed": false
   },
   "id": "a5c6aa0d2998dab8"
  },
  {
   "cell_type": "code",
   "execution_count": 34,
   "outputs": [
    {
     "name": "stdout",
     "output_type": "stream",
     "text": [
      "fold\n",
      "1.0    745\n",
      "2.0    745\n",
      "5.0    745\n",
      "3.0    744\n",
      "4.0    744\n",
      "Name: count, dtype: int64\n",
      "\n",
      " Num of missing values:  0\n"
     ]
    }
   ],
   "source": [
    "# Note: 1. how it split different fold in the Dataframe\n",
    "# 2. how it use value_counts on each fold\n",
    "\n",
    "dc_listings.loc[dc_listings.index[0:745], \"fold\"] = 1\n",
    "dc_listings.loc[dc_listings.index[745:1490], \"fold\"] = 2\n",
    "dc_listings.loc[dc_listings.index[1490:2234], \"fold\"] = 3\n",
    "dc_listings.loc[dc_listings.index[2234:2978], \"fold\"]  = 4\n",
    "dc_listings.loc[dc_listings.index[2978:3723], \"fold\"] = 5\n",
    "print(dc_listings['fold'].value_counts())\n",
    "print(\"\\n Num of missing values: \", dc_listings['fold'].isnull().sum())"
   ],
   "metadata": {
    "collapsed": false,
    "ExecuteTime": {
     "end_time": "2023-10-31T14:12:47.398827Z",
     "start_time": "2023-10-31T14:12:47.316177Z"
    }
   },
   "id": "a12039898c9786ba"
  },
  {
   "cell_type": "markdown",
   "source": [],
   "metadata": {
    "collapsed": false
   },
   "id": "a604bf8a73ea114d"
  },
  {
   "cell_type": "code",
   "execution_count": 42,
   "outputs": [
    {
     "name": "stdout",
     "output_type": "stream",
     "text": [
      "[163.79710988919703, 99.07614778746036, 125.01331714007749, 189.52780600036456, 117.52288756098167]\n",
      "138.98745367561622\n"
     ]
    }
   ],
   "source": [
    "import numpy as np\n",
    "fold_ids = [1,2,3,4,5]\n",
    "def train_and_validate(df, folds):\n",
    "    fold_rmses = []\n",
    "    for fold in folds:\n",
    "        # Train\n",
    "        model = KNeighborsRegressor()\n",
    "        train = df[df[\"fold\"] != fold]\n",
    "        test = df[df[\"fold\"] == fold].copy()\n",
    "        model.fit(train[[\"accommodates\"]], train[\"price\"])\n",
    "        # Predict\n",
    "        labels = model.predict(test[[\"accommodates\"]])\n",
    "        test[\"predicted_price\"] = labels\n",
    "        mse = mean_squared_error(test[\"price\"], test[\"predicted_price\"])\n",
    "        rmse = mse**(1/2)\n",
    "        fold_rmses.append(rmse)\n",
    "    return(fold_rmses)\n",
    "    \n",
    "rmses = train_and_validate(dc_listings, fold_ids)\n",
    "print(rmses)\n",
    "avg_rmse = np.mean (rmses)\n",
    "print (avg_rmse)"
   ],
   "metadata": {
    "collapsed": false,
    "ExecuteTime": {
     "end_time": "2023-10-31T14:24:43.231595Z",
     "start_time": "2023-10-31T14:24:43.161101Z"
    }
   },
   "id": "3006f392f988350b"
  },
  {
   "cell_type": "markdown",
   "source": [
    "## 6. Performing K-Fold Cross Validation Using Scikit-Learn\n",
    "\n",
    "<img src='images/6.jpg' width=75%><br><br>\n",
    "<img src='images/7.jpg' width=75%>\n"
   ],
   "metadata": {
    "collapsed": false
   },
   "id": "6adc3e5a06abdc56"
  },
  {
   "cell_type": "code",
   "execution_count": 44,
   "outputs": [
    {
     "name": "stdout",
     "output_type": "stream",
     "text": [
      "[133.91896378 136.79238823 114.58710775 141.27819387 115.31971103]\n",
      "128.37927293136588\n"
     ]
    }
   ],
   "source": [
    "from sklearn.model_selection import cross_val_score, KFold\n",
    "kf = KFold(5, shuffle=True, random_state=1) # 5 = n_splits\n",
    "model = KNeighborsRegressor()\n",
    "mses = cross_val_score(model, dc_listings[[\"accommodates\"]], dc_listings[\"price\"],\n",
    "                        scoring=\"neg_mean_squared_error\", cv=kf)\n",
    "rmses = np.sqrt(np.absolute(mses))\n",
    "avg_rmse = np.mean(rmses)\n",
    "print(rmses)\n",
    "print(avg_rmse)"
   ],
   "metadata": {
    "collapsed": false,
    "ExecuteTime": {
     "end_time": "2023-10-31T14:34:58.693056Z",
     "start_time": "2023-10-31T14:34:58.612681Z"
    }
   },
   "id": "b246ad5133e8ba47"
  },
  {
   "cell_type": "markdown",
   "source": [
    "## 7. Exploring Different K Values\n",
    "<br><b> We chose k-fold with the value = 10(according to experience of Data Scienists)<br><br>\n",
    "\n",
    "\n",
    "<img src='images/8.jpg' width=75%>\n",
    "\n",
    "\n"
   ],
   "metadata": {
    "collapsed": false
   },
   "id": "877bf2d8d5a420d8"
  },
  {
   "cell_type": "markdown",
   "source": [
    "## 8. Bias - Variance Tradoff"
   ],
   "metadata": {
    "collapsed": false
   },
   "id": "4be803c91bf9777f"
  },
  {
   "cell_type": "markdown",
   "source": [
    "# Note: k-neaerest neigbors is not a Mathematical model! It can't exist without original data. \n",
    "\n",
    "<img src='images/9.jpg' width=75%>\n"
   ],
   "metadata": {
    "collapsed": false
   },
   "id": "6efffbb272e946fe"
  },
  {
   "cell_type": "code",
   "execution_count": null,
   "outputs": [],
   "source": [],
   "metadata": {
    "collapsed": false
   },
   "id": "37d0cfaf7f24d787"
  },
  {
   "cell_type": "code",
   "execution_count": null,
   "outputs": [],
   "source": [],
   "metadata": {
    "collapsed": false
   },
   "id": "ade04c32ac467e60"
  },
  {
   "cell_type": "code",
   "execution_count": null,
   "outputs": [],
   "source": [],
   "metadata": {
    "collapsed": false
   },
   "id": "5a5502fd4b5d0301"
  },
  {
   "cell_type": "code",
   "execution_count": null,
   "outputs": [],
   "source": [],
   "metadata": {
    "collapsed": false
   },
   "id": "ff9e33f245cb3176"
  },
  {
   "cell_type": "markdown",
   "source": [
    "# ~~~~~~~~~~~~~~~~~~~~~~~~~~\n",
    "# Draft area \n"
   ],
   "metadata": {
    "collapsed": false
   },
   "id": "399ae54ab9769313"
  },
  {
   "cell_type": "code",
   "execution_count": null,
   "outputs": [],
   "source": [],
   "metadata": {
    "collapsed": false
   },
   "id": "9a166c58fab58f6d"
  },
  {
   "cell_type": "code",
   "execution_count": null,
   "outputs": [],
   "source": [],
   "metadata": {
    "collapsed": false
   },
   "id": "22ac1a6549be33ee"
  },
  {
   "cell_type": "code",
   "execution_count": null,
   "outputs": [],
   "source": [],
   "metadata": {
    "collapsed": false
   },
   "id": "5a5416b4892e7883"
  },
  {
   "cell_type": "code",
   "execution_count": null,
   "outputs": [],
   "source": [],
   "metadata": {
    "collapsed": false
   },
   "id": "f9383adb0c0426b9"
  },
  {
   "cell_type": "code",
   "execution_count": null,
   "outputs": [],
   "source": [],
   "metadata": {
    "collapsed": false
   },
   "id": "f253f5ff47204b0c"
  }
 ],
 "metadata": {
  "kernelspec": {
   "display_name": "Python 3",
   "language": "python",
   "name": "python3"
  },
  "language_info": {
   "codemirror_mode": {
    "name": "ipython",
    "version": 2
   },
   "file_extension": ".py",
   "mimetype": "text/x-python",
   "name": "python",
   "nbconvert_exporter": "python",
   "pygments_lexer": "ipython2",
   "version": "2.7.6"
  }
 },
 "nbformat": 4,
 "nbformat_minor": 5
}
